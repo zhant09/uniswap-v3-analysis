{
 "cells": [
  {
   "cell_type": "code",
   "execution_count": 1,
   "metadata": {
    "collapsed": true
   },
   "outputs": [
    {
     "data": {
      "text/plain": "'\\n{\\n    swaps(where: {pool: \"0x88e6a0c2ddd26feeb64f039a2c41296fcb3f5640\"}){\\n        transactions {\\n            id\\n            timestamp\\n            swaps {\\n        }\\n    }\\n}\\n'"
     },
     "execution_count": 1,
     "metadata": {},
     "output_type": "execute_result"
    }
   ],
   "source": [
    "# ETH graphQL\n",
    "\"\"\"\n",
    "{\n",
    "    swaps(first:100, orderBy: timestamp, orderDirection: asc,\n",
    "      where: {pool: \"0x88e6a0c2ddd26feeb64f039a2c41296fcb3f5640\", timestamp_gte: \"1685006700\"}){\n",
    "      \tid\n",
    "        amount0\n",
    "        amount1\n",
    "    \tamountUSD\n",
    "    \ttick\n",
    "    \ttimestamp\n",
    "    }\n",
    "}\n",
    "\"\"\""
   ]
  },
  {
   "cell_type": "code",
   "execution_count": null,
   "outputs": [],
   "source": [
    "# ARB graphQL\n",
    "\"\"\"\n",
    "{\n",
    "    swaps(first:100, orderBy: timestamp, orderDirection: desc,\n",
    "        where: {pool: \"0xc31e54c7a869b9fcbecc14363cf510d1c41fa443\"}){\n",
    "            id\n",
    "            amountIn\n",
    "            amountOut\n",
    "            tick\n",
    "            timestamp\n",
    "    }\n",
    "}\n",
    "\"\"\""
   ],
   "metadata": {
    "collapsed": false,
    "pycharm": {
     "name": "#%%\n"
    }
   }
  },
  {
   "cell_type": "code",
   "execution_count": 3,
   "outputs": [
    {
     "name": "stdout",
     "output_type": "stream",
     "text": [
      "4.435728875418589428481139256E+37\n"
     ]
    }
   ],
   "source": [
    "from decimal import Decimal\n",
    "\n",
    "def sqrtpricex96_to_price(sqrtpricex96):\n",
    "    \"\"\"Converts a Uniswap SQRTpriceX96 to price.\n",
    "\n",
    "    Args:\n",
    "      sqrtpricex96: The SQRTpriceX96 to convert.\n",
    "\n",
    "    Returns:\n",
    "      The price.\n",
    "    \"\"\"\n",
    "\n",
    "    return Decimal(sqrtpricex96) ** 2 / (2 ** 96)\n",
    "\n",
    "\n",
    "print(sqrtpricex96_to_price(1874659030893028805438655155008306))\n",
    "1874679522069631707331686660801156"
   ],
   "metadata": {
    "collapsed": false,
    "pycharm": {
     "name": "#%%\n"
    }
   }
  },
  {
   "cell_type": "code",
   "execution_count": 4,
   "outputs": [
    {
     "name": "stdout",
     "output_type": "stream",
     "text": [
      "79228162514264337593543950336\n"
     ]
    }
   ],
   "source": [
    "print(2 ** 96)"
   ],
   "metadata": {
    "collapsed": false,
    "pycharm": {
     "name": "#%%\n"
    }
   }
  },
  {
   "cell_type": "code",
   "execution_count": 25,
   "outputs": [
    {
     "data": {
      "text/plain": "1786.1362752201069"
     },
     "execution_count": 25,
     "metadata": {},
     "output_type": "execute_result"
    }
   ],
   "source": [
    "1 / ((1874659030893028805438655155008306 / (1 << 96)) ** 2 / (10 ** 12))"
   ],
   "metadata": {
    "collapsed": false,
    "pycharm": {
     "name": "#%%\n"
    }
   }
  },
  {
   "cell_type": "code",
   "execution_count": 29,
   "outputs": [
    {
     "name": "stdout",
     "output_type": "stream",
     "text": [
      "1786.1362752201069\n"
     ]
    }
   ],
   "source": [
    "import math\n",
    "\n",
    "def sqrtpricex96_to_price_eth_usd(sqrtpricex96):\n",
    "    \"\"\"Converts a Uniswap SQRTpriceX96 to price.\n",
    "\n",
    "    Args:\n",
    "      sqrtpricex96: The SQRTpriceX96 to convert.\n",
    "\n",
    "    Returns:\n",
    "      The price.\n",
    "    \"\"\"\n",
    "    price = sqrtpricex96 / math.pow(2, 96)\n",
    "    return 1 / (price ** 2 / (10 ** 12))\n",
    "\n",
    "\n",
    "print(sqrtpricex96_to_price_eth_usd(1874659030893028805438655155008306))"
   ],
   "metadata": {
    "collapsed": false,
    "pycharm": {
     "name": "#%%\n"
    }
   }
  },
  {
   "cell_type": "code",
   "execution_count": 20,
   "outputs": [
    {
     "data": {
      "text/plain": "Decimal('107013224637507.3118500159524')"
     },
     "execution_count": 20,
     "metadata": {},
     "output_type": "execute_result"
    }
   ],
   "source": [
    "Decimal(1974045567390486984838358761822072) / (1 << 64)"
   ],
   "metadata": {
    "collapsed": false,
    "pycharm": {
     "name": "#%%\n"
    }
   }
  },
  {
   "cell_type": "code",
   "execution_count": 31,
   "outputs": [
    {
     "name": "stdout",
     "output_type": "stream",
     "text": [
      "1786.1687802452334\n"
     ]
    }
   ],
   "source": [
    "TICK_BASE = 1.0001\n",
    "\n",
    "\n",
    "def tick_to_price_eth_usd(tick):\n",
    "    return 1 / (TICK_BASE ** tick / (10 ** 12))\n",
    "\n",
    "\n",
    "print(tick_to_price_eth_usd(201442))"
   ],
   "metadata": {
    "collapsed": false,
    "pycharm": {
     "name": "#%%\n"
    }
   }
  },
  {
   "cell_type": "code",
   "execution_count": 33,
   "outputs": [
    {
     "name": "stdout",
     "output_type": "stream",
     "text": [
      "1786.883354934603\n"
     ]
    }
   ],
   "source": [
    "print(tick_to_price_eth_usd(201438))"
   ],
   "metadata": {
    "collapsed": false,
    "pycharm": {
     "name": "#%%\n"
    }
   }
  },
  {
   "cell_type": "code",
   "execution_count": 36,
   "outputs": [
    {
     "name": "stdout",
     "output_type": "stream",
     "text": [
      "1786.7046844661563\n"
     ]
    }
   ],
   "source": [
    "def arb_tick_to_price_eth_usd(tick):\n",
    "    return TICK_BASE ** tick * 10 ** 12\n",
    "\n",
    "print(arb_tick_to_price_eth_usd(-201439))"
   ],
   "metadata": {
    "collapsed": false,
    "pycharm": {
     "name": "#%%\n"
    }
   }
  },
  {
   "cell_type": "code",
   "execution_count": null,
   "outputs": [],
   "source": [],
   "metadata": {
    "collapsed": false,
    "pycharm": {
     "name": "#%%\n"
    }
   }
  }
 ],
 "metadata": {
  "kernelspec": {
   "display_name": "Python 3",
   "language": "python",
   "name": "python3"
  },
  "language_info": {
   "codemirror_mode": {
    "name": "ipython",
    "version": 2
   },
   "file_extension": ".py",
   "mimetype": "text/x-python",
   "name": "python",
   "nbconvert_exporter": "python",
   "pygments_lexer": "ipython2",
   "version": "2.7.6"
  }
 },
 "nbformat": 4,
 "nbformat_minor": 0
}