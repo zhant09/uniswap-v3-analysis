{
 "cells": [
  {
   "cell_type": "code",
   "execution_count": 35,
   "outputs": [],
   "source": [
    "from datetime import datetime\n",
    "from utils import utils\n",
    "\n",
    "\n",
    "start_timestamp = utils.date_to_utc_timestamp(datetime(2023, 5, 23, 0, 0))\n",
    "end_timestamp = utils.date_to_utc_timestamp(datetime(2023, 5, 26, 0, 0))"
   ],
   "metadata": {
    "collapsed": false,
    "pycharm": {
     "name": "#%%\n"
    }
   }
  },
  {
   "cell_type": "code",
   "execution_count": 36,
   "outputs": [
    {
     "name": "stdout",
     "output_type": "stream",
     "text": [
      "Start processing, current time:  2023-05-26 00:00:00+00:00\n",
      "Start processing, current time:  2023-05-25 07:19:00+00:00\n",
      "Start processing, current time:  2023-05-24 14:38:00+00:00\n",
      "Start processing, current time:  2023-05-23 21:57:00+00:00\n",
      "Start processing, current time:  2023-05-23 05:16:00+00:00\n",
      "4321\n"
     ]
    }
   ],
   "source": [
    "# save kucoin price weekly data\n",
    "import requests\n",
    "\n",
    "\n",
    "kucoin_url = \"https://min-api.cryptocompare.com/data/v2/histominute?fsym=ETH&tsym=USD&limit=1000&toTs={}\"\n",
    "\n",
    "current_timestamp = end_timestamp\n",
    "# current_timestamp = utils.date_to_utc_timestamp(datetime(2023, 5, 19, 1, 32))\n",
    "kucoin_result = []\n",
    "while current_timestamp >= start_timestamp:\n",
    "    print(\"Start processing, current time: \", utils.utc_timestamp_to_date(current_timestamp))\n",
    "    response = requests.get(kucoin_url.format(current_timestamp))\n",
    "    kucoin_data = response.json()['Data']\n",
    "    if not kucoin_data:\n",
    "        break\n",
    "    for d in kucoin_data['Data'][::-1]:\n",
    "        if d[\"time\"] >= start_timestamp:\n",
    "            kucoin_result.append(d)\n",
    "        else:\n",
    "            break\n",
    "    current_timestamp = kucoin_data['TimeFrom'] - 60\n",
    "\n",
    "kucoin_result = kucoin_result[::-1]\n",
    "\n",
    "print(len(kucoin_result))"
   ],
   "metadata": {
    "collapsed": false,
    "pycharm": {
     "name": "#%%\n"
    }
   }
  },
  {
   "cell_type": "code",
   "execution_count": 19,
   "outputs": [
    {
     "name": "stdout",
     "output_type": "stream",
     "text": [
      "{'time': 1684460940, 'high': 1798.38, 'low': 1797.75, 'open': 1797.75, 'volumefrom': 57.77, 'volumeto': 103880.66, 'close': 1798.05, 'conversionType': 'direct', 'conversionSymbol': ''}\n"
     ]
    }
   ],
   "source": [
    "print(kucoin_result[0])"
   ],
   "metadata": {
    "collapsed": false,
    "pycharm": {
     "name": "#%%\n"
    }
   }
  },
  {
   "cell_type": "code",
   "execution_count": 22,
   "outputs": [
    {
     "name": "stdout",
     "output_type": "stream",
     "text": [
      "100\n"
     ]
    }
   ],
   "source": [
    "# ARB graphQL\n",
    "from gql import gql, Client\n",
    "from gql.transport.requests import RequestsHTTPTransport\n",
    "\n",
    "\n",
    "\n",
    "arb_query = \"\"\"\n",
    "query {\n",
    "    swaps(orderBy: timestamp, orderDirection: asc,\n",
    "        where: { pool: \"0xc31e54c7a869b9fcbecc14363cf510d1c41fa443\", timestamp_gte: %d }){\n",
    "            id\n",
    "            amountIn\n",
    "            amountInUSD\n",
    "            amountOut\n",
    "            amountOutUSD\n",
    "            tick\n",
    "            timestamp\n",
    "            tokenIn {\n",
    "                symbol\n",
    "                decimals\n",
    "            }\n",
    "            tokenOut {\n",
    "                symbol\n",
    "                decimals\n",
    "            }\n",
    "    }\n",
    "}\n",
    "\"\"\"\n",
    "\n",
    "\n",
    "client = Client(\n",
    "    transport=RequestsHTTPTransport(\n",
    "        url='https://api.thegraph.com/subgraphs/name/messari/uniswap-v3-arbitrum',\n",
    "        verify=True,\n",
    "        retries=5,\n",
    "    ))\n",
    "\n",
    "# # variables = { \"num_skip\": 0, \"start_timestamp\": 1684460940 }\n",
    "# # response = client.execute(gql(arb_query), variable_values=variables)\n",
    "response = client.execute(gql(arb_query % start_timestamp))\n",
    "print(len(response[\"swaps\"]))"
   ],
   "metadata": {
    "collapsed": false,
    "pycharm": {
     "name": "#%%\n"
    }
   }
  },
  {
   "cell_type": "code",
   "execution_count": 23,
   "outputs": [
    {
     "name": "stdout",
     "output_type": "stream",
     "text": [
      "{'id': '0x13875c5e00916a733dbf870b03f29c7c0e2b575294ea3c17e3a123540b281eca0b000000', 'amountIn': '18509968', 'amountInUSD': '18.509968', 'amountOut': '10174988585088354', 'amountOutUSD': '18.50071257554249565419706', 'tick': '-201264', 'timestamp': '1684800030', 'tokenIn': {'symbol': 'USDC', 'decimals': 6}, 'tokenOut': {'symbol': 'WETH', 'decimals': 18}}\n"
     ]
    }
   ],
   "source": [
    "print(response[\"swaps\"][0])\n",
    "\n",
    "# temp\n",
    "result = []\n",
    "id_set = set()"
   ],
   "metadata": {
    "collapsed": false,
    "pycharm": {
     "name": "#%%\n"
    }
   }
  },
  {
   "cell_type": "code",
   "execution_count": 38,
   "outputs": [
    {
     "name": "stdout",
     "output_type": "stream",
     "text": [
      "\n",
      "query {\n",
      "    swaps(orderBy: timestamp, orderDirection: asc,\n",
      "        where: { pool: \"0xc31e54c7a869b9fcbecc14363cf510d1c41fa443\", timestamp_gte: 1684758900 }){\n",
      "            id\n",
      "            amountIn\n",
      "            amountInUSD\n",
      "            amountOut\n",
      "            amountOutUSD\n",
      "            tick\n",
      "            timestamp\n",
      "            tokenIn {\n",
      "                symbol\n",
      "                decimals\n",
      "            }\n",
      "            tokenOut {\n",
      "                symbol\n",
      "                decimals\n",
      "            }\n",
      "    }\n",
      "}\n",
      "\n"
     ]
    }
   ],
   "source": [
    "print(arb_query % current_timestamp)"
   ],
   "metadata": {
    "collapsed": false,
    "pycharm": {
     "name": "#%%\n"
    }
   }
  },
  {
   "cell_type": "code",
   "execution_count": 39,
   "outputs": [
    {
     "name": "stdout",
     "output_type": "stream",
     "text": [
      "2023-05-26 18:34:28.026979 23386 23386\n",
      "Current time:  2023-05-24 13:52:26+00:00\n"
     ]
    },
    {
     "ename": "KeyboardInterrupt",
     "evalue": "",
     "output_type": "error",
     "traceback": [
      "\u001B[0;31m---------------------------------------------------------------------------\u001B[0m",
      "\u001B[0;31mgaierror\u001B[0m                                  Traceback (most recent call last)",
      "File \u001B[0;32m~/miniforge3/envs/vs_base/lib/python3.10/urllib/request.py:2594\u001B[0m, in \u001B[0;36m_proxy_bypass_macosx_sysconf\u001B[0;34m(host, proxy_settings)\u001B[0m\n\u001B[1;32m   2593\u001B[0m \u001B[38;5;28;01mtry\u001B[39;00m:\n\u001B[0;32m-> 2594\u001B[0m     hostIP \u001B[38;5;241m=\u001B[39m \u001B[43msocket\u001B[49m\u001B[38;5;241;43m.\u001B[39;49m\u001B[43mgethostbyname\u001B[49m\u001B[43m(\u001B[49m\u001B[43mhostonly\u001B[49m\u001B[43m)\u001B[49m\n\u001B[1;32m   2595\u001B[0m     hostIP \u001B[38;5;241m=\u001B[39m ip2num(hostIP)\n",
      "\u001B[0;31mgaierror\u001B[0m: [Errno 8] nodename nor servname provided, or not known",
      "\nDuring handling of the above exception, another exception occurred:\n",
      "\u001B[0;31mKeyboardInterrupt\u001B[0m                         Traceback (most recent call last)",
      "Cell \u001B[0;32mIn [39], line 14\u001B[0m\n\u001B[1;32m     12\u001B[0m query \u001B[38;5;241m=\u001B[39m arb_query \u001B[38;5;241m%\u001B[39m current_timestamp\n\u001B[1;32m     13\u001B[0m \u001B[38;5;28;01mtry\u001B[39;00m:\n\u001B[0;32m---> 14\u001B[0m     response \u001B[38;5;241m=\u001B[39m \u001B[43mclient\u001B[49m\u001B[38;5;241;43m.\u001B[39;49m\u001B[43mexecute\u001B[49m\u001B[43m(\u001B[49m\u001B[43mgql\u001B[49m\u001B[43m(\u001B[49m\u001B[43mquery\u001B[49m\u001B[43m)\u001B[49m\u001B[43m)\u001B[49m\n\u001B[1;32m     16\u001B[0m     swap_data \u001B[38;5;241m=\u001B[39m response[\u001B[38;5;124m\"\u001B[39m\u001B[38;5;124mswaps\u001B[39m\u001B[38;5;124m\"\u001B[39m]\n\u001B[1;32m     17\u001B[0m     \u001B[38;5;28;01mif\u001B[39;00m \u001B[38;5;28mlen\u001B[39m(swap_data) \u001B[38;5;241m==\u001B[39m \u001B[38;5;241m0\u001B[39m:\n",
      "File \u001B[0;32m~/miniforge3/envs/vs_base/lib/python3.10/site-packages/gql/client.py:403\u001B[0m, in \u001B[0;36mClient.execute\u001B[0;34m(self, document, variable_values, operation_name, serialize_variables, parse_result, get_execution_result, **kwargs)\u001B[0m\n\u001B[1;32m    400\u001B[0m     \u001B[38;5;28;01mreturn\u001B[39;00m data\n\u001B[1;32m    402\u001B[0m \u001B[38;5;28;01melse\u001B[39;00m:  \u001B[38;5;66;03m# Sync transports\u001B[39;00m\n\u001B[0;32m--> 403\u001B[0m     \u001B[38;5;28;01mreturn\u001B[39;00m \u001B[38;5;28;43mself\u001B[39;49m\u001B[38;5;241;43m.\u001B[39;49m\u001B[43mexecute_sync\u001B[49m\u001B[43m(\u001B[49m\n\u001B[1;32m    404\u001B[0m \u001B[43m        \u001B[49m\u001B[43mdocument\u001B[49m\u001B[43m,\u001B[49m\n\u001B[1;32m    405\u001B[0m \u001B[43m        \u001B[49m\u001B[43mvariable_values\u001B[49m\u001B[38;5;241;43m=\u001B[39;49m\u001B[43mvariable_values\u001B[49m\u001B[43m,\u001B[49m\n\u001B[1;32m    406\u001B[0m \u001B[43m        \u001B[49m\u001B[43moperation_name\u001B[49m\u001B[38;5;241;43m=\u001B[39;49m\u001B[43moperation_name\u001B[49m\u001B[43m,\u001B[49m\n\u001B[1;32m    407\u001B[0m \u001B[43m        \u001B[49m\u001B[43mserialize_variables\u001B[49m\u001B[38;5;241;43m=\u001B[39;49m\u001B[43mserialize_variables\u001B[49m\u001B[43m,\u001B[49m\n\u001B[1;32m    408\u001B[0m \u001B[43m        \u001B[49m\u001B[43mparse_result\u001B[49m\u001B[38;5;241;43m=\u001B[39;49m\u001B[43mparse_result\u001B[49m\u001B[43m,\u001B[49m\n\u001B[1;32m    409\u001B[0m \u001B[43m        \u001B[49m\u001B[43mget_execution_result\u001B[49m\u001B[38;5;241;43m=\u001B[39;49m\u001B[43mget_execution_result\u001B[49m\u001B[43m,\u001B[49m\n\u001B[1;32m    410\u001B[0m \u001B[43m        \u001B[49m\u001B[38;5;241;43m*\u001B[39;49m\u001B[38;5;241;43m*\u001B[39;49m\u001B[43mkwargs\u001B[49m\u001B[43m,\u001B[49m\n\u001B[1;32m    411\u001B[0m \u001B[43m    \u001B[49m\u001B[43m)\u001B[49m\n",
      "File \u001B[0;32m~/miniforge3/envs/vs_base/lib/python3.10/site-packages/gql/client.py:221\u001B[0m, in \u001B[0;36mClient.execute_sync\u001B[0;34m(self, document, variable_values, operation_name, serialize_variables, parse_result, get_execution_result, **kwargs)\u001B[0m\n\u001B[1;32m    219\u001B[0m \u001B[38;5;124;03m\"\"\":meta private:\"\"\"\u001B[39;00m\n\u001B[1;32m    220\u001B[0m \u001B[38;5;28;01mwith\u001B[39;00m \u001B[38;5;28mself\u001B[39m \u001B[38;5;28;01mas\u001B[39;00m session:\n\u001B[0;32m--> 221\u001B[0m     \u001B[38;5;28;01mreturn\u001B[39;00m \u001B[43msession\u001B[49m\u001B[38;5;241;43m.\u001B[39;49m\u001B[43mexecute\u001B[49m\u001B[43m(\u001B[49m\n\u001B[1;32m    222\u001B[0m \u001B[43m        \u001B[49m\u001B[43mdocument\u001B[49m\u001B[43m,\u001B[49m\n\u001B[1;32m    223\u001B[0m \u001B[43m        \u001B[49m\u001B[43mvariable_values\u001B[49m\u001B[38;5;241;43m=\u001B[39;49m\u001B[43mvariable_values\u001B[49m\u001B[43m,\u001B[49m\n\u001B[1;32m    224\u001B[0m \u001B[43m        \u001B[49m\u001B[43moperation_name\u001B[49m\u001B[38;5;241;43m=\u001B[39;49m\u001B[43moperation_name\u001B[49m\u001B[43m,\u001B[49m\n\u001B[1;32m    225\u001B[0m \u001B[43m        \u001B[49m\u001B[43mserialize_variables\u001B[49m\u001B[38;5;241;43m=\u001B[39;49m\u001B[43mserialize_variables\u001B[49m\u001B[43m,\u001B[49m\n\u001B[1;32m    226\u001B[0m \u001B[43m        \u001B[49m\u001B[43mparse_result\u001B[49m\u001B[38;5;241;43m=\u001B[39;49m\u001B[43mparse_result\u001B[49m\u001B[43m,\u001B[49m\n\u001B[1;32m    227\u001B[0m \u001B[43m        \u001B[49m\u001B[43mget_execution_result\u001B[49m\u001B[38;5;241;43m=\u001B[39;49m\u001B[43mget_execution_result\u001B[49m\u001B[43m,\u001B[49m\n\u001B[1;32m    228\u001B[0m \u001B[43m        \u001B[49m\u001B[38;5;241;43m*\u001B[39;49m\u001B[38;5;241;43m*\u001B[39;49m\u001B[43mkwargs\u001B[49m\u001B[43m,\u001B[49m\n\u001B[1;32m    229\u001B[0m \u001B[43m    \u001B[49m\u001B[43m)\u001B[49m\n",
      "File \u001B[0;32m~/miniforge3/envs/vs_base/lib/python3.10/site-packages/gql/client.py:849\u001B[0m, in \u001B[0;36mSyncClientSession.execute\u001B[0;34m(self, document, variable_values, operation_name, serialize_variables, parse_result, get_execution_result, **kwargs)\u001B[0m\n\u001B[1;32m    829\u001B[0m \u001B[38;5;124;03m\"\"\"Execute the provided document AST synchronously using\u001B[39;00m\n\u001B[1;32m    830\u001B[0m \u001B[38;5;124;03mthe sync transport.\u001B[39;00m\n\u001B[1;32m    831\u001B[0m \n\u001B[0;32m   (...)\u001B[0m\n\u001B[1;32m    845\u001B[0m \n\u001B[1;32m    846\u001B[0m \u001B[38;5;124;03mThe extra arguments are passed to the transport execute method.\"\"\"\u001B[39;00m\n\u001B[1;32m    848\u001B[0m \u001B[38;5;66;03m# Validate and execute on the transport\u001B[39;00m\n\u001B[0;32m--> 849\u001B[0m result \u001B[38;5;241m=\u001B[39m \u001B[38;5;28;43mself\u001B[39;49m\u001B[38;5;241;43m.\u001B[39;49m\u001B[43m_execute\u001B[49m\u001B[43m(\u001B[49m\n\u001B[1;32m    850\u001B[0m \u001B[43m    \u001B[49m\u001B[43mdocument\u001B[49m\u001B[43m,\u001B[49m\n\u001B[1;32m    851\u001B[0m \u001B[43m    \u001B[49m\u001B[43mvariable_values\u001B[49m\u001B[38;5;241;43m=\u001B[39;49m\u001B[43mvariable_values\u001B[49m\u001B[43m,\u001B[49m\n\u001B[1;32m    852\u001B[0m \u001B[43m    \u001B[49m\u001B[43moperation_name\u001B[49m\u001B[38;5;241;43m=\u001B[39;49m\u001B[43moperation_name\u001B[49m\u001B[43m,\u001B[49m\n\u001B[1;32m    853\u001B[0m \u001B[43m    \u001B[49m\u001B[43mserialize_variables\u001B[49m\u001B[38;5;241;43m=\u001B[39;49m\u001B[43mserialize_variables\u001B[49m\u001B[43m,\u001B[49m\n\u001B[1;32m    854\u001B[0m \u001B[43m    \u001B[49m\u001B[43mparse_result\u001B[49m\u001B[38;5;241;43m=\u001B[39;49m\u001B[43mparse_result\u001B[49m\u001B[43m,\u001B[49m\n\u001B[1;32m    855\u001B[0m \u001B[43m    \u001B[49m\u001B[38;5;241;43m*\u001B[39;49m\u001B[38;5;241;43m*\u001B[39;49m\u001B[43mkwargs\u001B[49m\u001B[43m,\u001B[49m\n\u001B[1;32m    856\u001B[0m \u001B[43m\u001B[49m\u001B[43m)\u001B[49m\n\u001B[1;32m    858\u001B[0m \u001B[38;5;66;03m# Raise an error if an error is returned in the ExecutionResult object\u001B[39;00m\n\u001B[1;32m    859\u001B[0m \u001B[38;5;28;01mif\u001B[39;00m result\u001B[38;5;241m.\u001B[39merrors:\n",
      "File \u001B[0;32m~/miniforge3/envs/vs_base/lib/python3.10/site-packages/gql/client.py:758\u001B[0m, in \u001B[0;36mSyncClientSession._execute\u001B[0;34m(self, document, variable_values, operation_name, serialize_variables, parse_result, **kwargs)\u001B[0m\n\u001B[1;32m    748\u001B[0m         \u001B[38;5;28;01mif\u001B[39;00m serialize_variables \u001B[38;5;129;01mor\u001B[39;00m (\n\u001B[1;32m    749\u001B[0m             serialize_variables \u001B[38;5;129;01mis\u001B[39;00m \u001B[38;5;28;01mNone\u001B[39;00m \u001B[38;5;129;01mand\u001B[39;00m \u001B[38;5;28mself\u001B[39m\u001B[38;5;241m.\u001B[39mclient\u001B[38;5;241m.\u001B[39mserialize_variables\n\u001B[1;32m    750\u001B[0m         ):\n\u001B[1;32m    751\u001B[0m             variable_values \u001B[38;5;241m=\u001B[39m serialize_variable_values(\n\u001B[1;32m    752\u001B[0m                 \u001B[38;5;28mself\u001B[39m\u001B[38;5;241m.\u001B[39mclient\u001B[38;5;241m.\u001B[39mschema,\n\u001B[1;32m    753\u001B[0m                 document,\n\u001B[1;32m    754\u001B[0m                 variable_values,\n\u001B[1;32m    755\u001B[0m                 operation_name\u001B[38;5;241m=\u001B[39moperation_name,\n\u001B[1;32m    756\u001B[0m             )\n\u001B[0;32m--> 758\u001B[0m result \u001B[38;5;241m=\u001B[39m \u001B[38;5;28;43mself\u001B[39;49m\u001B[38;5;241;43m.\u001B[39;49m\u001B[43mtransport\u001B[49m\u001B[38;5;241;43m.\u001B[39;49m\u001B[43mexecute\u001B[49m\u001B[43m(\u001B[49m\n\u001B[1;32m    759\u001B[0m \u001B[43m    \u001B[49m\u001B[43mdocument\u001B[49m\u001B[43m,\u001B[49m\n\u001B[1;32m    760\u001B[0m \u001B[43m    \u001B[49m\u001B[43mvariable_values\u001B[49m\u001B[38;5;241;43m=\u001B[39;49m\u001B[43mvariable_values\u001B[49m\u001B[43m,\u001B[49m\n\u001B[1;32m    761\u001B[0m \u001B[43m    \u001B[49m\u001B[43moperation_name\u001B[49m\u001B[38;5;241;43m=\u001B[39;49m\u001B[43moperation_name\u001B[49m\u001B[43m,\u001B[49m\n\u001B[1;32m    762\u001B[0m \u001B[43m    \u001B[49m\u001B[38;5;241;43m*\u001B[39;49m\u001B[38;5;241;43m*\u001B[39;49m\u001B[43mkwargs\u001B[49m\u001B[43m,\u001B[49m\n\u001B[1;32m    763\u001B[0m \u001B[43m\u001B[49m\u001B[43m)\u001B[49m\n\u001B[1;32m    765\u001B[0m \u001B[38;5;66;03m# Unserialize the result if requested\u001B[39;00m\n\u001B[1;32m    766\u001B[0m \u001B[38;5;28;01mif\u001B[39;00m \u001B[38;5;28mself\u001B[39m\u001B[38;5;241m.\u001B[39mclient\u001B[38;5;241m.\u001B[39mschema:\n",
      "File \u001B[0;32m~/miniforge3/envs/vs_base/lib/python3.10/site-packages/gql/transport/requests.py:220\u001B[0m, in \u001B[0;36mRequestsHTTPTransport.execute\u001B[0;34m(self, document, variable_values, operation_name, timeout, extra_args, upload_files)\u001B[0m\n\u001B[1;32m    217\u001B[0m     post_args\u001B[38;5;241m.\u001B[39mupdate(extra_args)\n\u001B[1;32m    219\u001B[0m \u001B[38;5;66;03m# Using the created session to perform requests\u001B[39;00m\n\u001B[0;32m--> 220\u001B[0m response \u001B[38;5;241m=\u001B[39m \u001B[38;5;28;43mself\u001B[39;49m\u001B[38;5;241;43m.\u001B[39;49m\u001B[43msession\u001B[49m\u001B[38;5;241;43m.\u001B[39;49m\u001B[43mrequest\u001B[49m\u001B[43m(\u001B[49m\n\u001B[1;32m    221\u001B[0m \u001B[43m    \u001B[49m\u001B[38;5;28;43mself\u001B[39;49m\u001B[38;5;241;43m.\u001B[39;49m\u001B[43mmethod\u001B[49m\u001B[43m,\u001B[49m\u001B[43m \u001B[49m\u001B[38;5;28;43mself\u001B[39;49m\u001B[38;5;241;43m.\u001B[39;49m\u001B[43murl\u001B[49m\u001B[43m,\u001B[49m\u001B[43m \u001B[49m\u001B[38;5;241;43m*\u001B[39;49m\u001B[38;5;241;43m*\u001B[39;49m\u001B[43mpost_args\u001B[49m\u001B[43m  \u001B[49m\u001B[38;5;66;43;03m# type: ignore\u001B[39;49;00m\n\u001B[1;32m    222\u001B[0m \u001B[43m\u001B[49m\u001B[43m)\u001B[49m\n\u001B[1;32m    223\u001B[0m \u001B[38;5;28mself\u001B[39m\u001B[38;5;241m.\u001B[39mresponse_headers \u001B[38;5;241m=\u001B[39m response\u001B[38;5;241m.\u001B[39mheaders\n\u001B[1;32m    225\u001B[0m \u001B[38;5;28;01mdef\u001B[39;00m \u001B[38;5;21mraise_response_error\u001B[39m(resp: requests\u001B[38;5;241m.\u001B[39mResponse, reason: \u001B[38;5;28mstr\u001B[39m):\n\u001B[1;32m    226\u001B[0m     \u001B[38;5;66;03m# We raise a TransportServerError if the status code is 400 or higher\u001B[39;00m\n\u001B[1;32m    227\u001B[0m     \u001B[38;5;66;03m# We raise a TransportProtocolError in the other cases\u001B[39;00m\n",
      "File \u001B[0;32m~/miniforge3/envs/vs_base/lib/python3.10/site-packages/requests/sessions.py:577\u001B[0m, in \u001B[0;36mSession.request\u001B[0;34m(self, method, url, params, data, headers, cookies, files, auth, timeout, allow_redirects, proxies, hooks, stream, verify, cert, json)\u001B[0m\n\u001B[1;32m    573\u001B[0m prep \u001B[38;5;241m=\u001B[39m \u001B[38;5;28mself\u001B[39m\u001B[38;5;241m.\u001B[39mprepare_request(req)\n\u001B[1;32m    575\u001B[0m proxies \u001B[38;5;241m=\u001B[39m proxies \u001B[38;5;129;01mor\u001B[39;00m {}\n\u001B[0;32m--> 577\u001B[0m settings \u001B[38;5;241m=\u001B[39m \u001B[38;5;28;43mself\u001B[39;49m\u001B[38;5;241;43m.\u001B[39;49m\u001B[43mmerge_environment_settings\u001B[49m\u001B[43m(\u001B[49m\n\u001B[1;32m    578\u001B[0m \u001B[43m    \u001B[49m\u001B[43mprep\u001B[49m\u001B[38;5;241;43m.\u001B[39;49m\u001B[43murl\u001B[49m\u001B[43m,\u001B[49m\u001B[43m \u001B[49m\u001B[43mproxies\u001B[49m\u001B[43m,\u001B[49m\u001B[43m \u001B[49m\u001B[43mstream\u001B[49m\u001B[43m,\u001B[49m\u001B[43m \u001B[49m\u001B[43mverify\u001B[49m\u001B[43m,\u001B[49m\u001B[43m \u001B[49m\u001B[43mcert\u001B[49m\n\u001B[1;32m    579\u001B[0m \u001B[43m\u001B[49m\u001B[43m)\u001B[49m\n\u001B[1;32m    581\u001B[0m \u001B[38;5;66;03m# Send the request.\u001B[39;00m\n\u001B[1;32m    582\u001B[0m send_kwargs \u001B[38;5;241m=\u001B[39m {\n\u001B[1;32m    583\u001B[0m     \u001B[38;5;124m\"\u001B[39m\u001B[38;5;124mtimeout\u001B[39m\u001B[38;5;124m\"\u001B[39m: timeout,\n\u001B[1;32m    584\u001B[0m     \u001B[38;5;124m\"\u001B[39m\u001B[38;5;124mallow_redirects\u001B[39m\u001B[38;5;124m\"\u001B[39m: allow_redirects,\n\u001B[1;32m    585\u001B[0m }\n",
      "File \u001B[0;32m~/miniforge3/envs/vs_base/lib/python3.10/site-packages/requests/sessions.py:759\u001B[0m, in \u001B[0;36mSession.merge_environment_settings\u001B[0;34m(self, url, proxies, stream, verify, cert)\u001B[0m\n\u001B[1;32m    756\u001B[0m \u001B[38;5;28;01mif\u001B[39;00m \u001B[38;5;28mself\u001B[39m\u001B[38;5;241m.\u001B[39mtrust_env:\n\u001B[1;32m    757\u001B[0m     \u001B[38;5;66;03m# Set environment's proxies.\u001B[39;00m\n\u001B[1;32m    758\u001B[0m     no_proxy \u001B[38;5;241m=\u001B[39m proxies\u001B[38;5;241m.\u001B[39mget(\u001B[38;5;124m\"\u001B[39m\u001B[38;5;124mno_proxy\u001B[39m\u001B[38;5;124m\"\u001B[39m) \u001B[38;5;28;01mif\u001B[39;00m proxies \u001B[38;5;129;01mis\u001B[39;00m \u001B[38;5;129;01mnot\u001B[39;00m \u001B[38;5;28;01mNone\u001B[39;00m \u001B[38;5;28;01melse\u001B[39;00m \u001B[38;5;28;01mNone\u001B[39;00m\n\u001B[0;32m--> 759\u001B[0m     env_proxies \u001B[38;5;241m=\u001B[39m \u001B[43mget_environ_proxies\u001B[49m\u001B[43m(\u001B[49m\u001B[43murl\u001B[49m\u001B[43m,\u001B[49m\u001B[43m \u001B[49m\u001B[43mno_proxy\u001B[49m\u001B[38;5;241;43m=\u001B[39;49m\u001B[43mno_proxy\u001B[49m\u001B[43m)\u001B[49m\n\u001B[1;32m    760\u001B[0m     \u001B[38;5;28;01mfor\u001B[39;00m (k, v) \u001B[38;5;129;01min\u001B[39;00m env_proxies\u001B[38;5;241m.\u001B[39mitems():\n\u001B[1;32m    761\u001B[0m         proxies\u001B[38;5;241m.\u001B[39msetdefault(k, v)\n",
      "File \u001B[0;32m~/miniforge3/envs/vs_base/lib/python3.10/site-packages/requests/utils.py:825\u001B[0m, in \u001B[0;36mget_environ_proxies\u001B[0;34m(url, no_proxy)\u001B[0m\n\u001B[1;32m    819\u001B[0m \u001B[38;5;28;01mdef\u001B[39;00m \u001B[38;5;21mget_environ_proxies\u001B[39m(url, no_proxy\u001B[38;5;241m=\u001B[39m\u001B[38;5;28;01mNone\u001B[39;00m):\n\u001B[1;32m    820\u001B[0m     \u001B[38;5;124;03m\"\"\"\u001B[39;00m\n\u001B[1;32m    821\u001B[0m \u001B[38;5;124;03m    Return a dict of environment proxies.\u001B[39;00m\n\u001B[1;32m    822\u001B[0m \n\u001B[1;32m    823\u001B[0m \u001B[38;5;124;03m    :rtype: dict\u001B[39;00m\n\u001B[1;32m    824\u001B[0m \u001B[38;5;124;03m    \"\"\"\u001B[39;00m\n\u001B[0;32m--> 825\u001B[0m     \u001B[38;5;28;01mif\u001B[39;00m \u001B[43mshould_bypass_proxies\u001B[49m\u001B[43m(\u001B[49m\u001B[43murl\u001B[49m\u001B[43m,\u001B[49m\u001B[43m \u001B[49m\u001B[43mno_proxy\u001B[49m\u001B[38;5;241;43m=\u001B[39;49m\u001B[43mno_proxy\u001B[49m\u001B[43m)\u001B[49m:\n\u001B[1;32m    826\u001B[0m         \u001B[38;5;28;01mreturn\u001B[39;00m {}\n\u001B[1;32m    827\u001B[0m     \u001B[38;5;28;01melse\u001B[39;00m:\n",
      "File \u001B[0;32m~/miniforge3/envs/vs_base/lib/python3.10/site-packages/requests/utils.py:809\u001B[0m, in \u001B[0;36mshould_bypass_proxies\u001B[0;34m(url, no_proxy)\u001B[0m\n\u001B[1;32m    806\u001B[0m \u001B[38;5;28;01mwith\u001B[39;00m set_environ(\u001B[38;5;124m\"\u001B[39m\u001B[38;5;124mno_proxy\u001B[39m\u001B[38;5;124m\"\u001B[39m, no_proxy_arg):\n\u001B[1;32m    807\u001B[0m     \u001B[38;5;66;03m# parsed.hostname can be `None` in cases such as a file URI.\u001B[39;00m\n\u001B[1;32m    808\u001B[0m     \u001B[38;5;28;01mtry\u001B[39;00m:\n\u001B[0;32m--> 809\u001B[0m         bypass \u001B[38;5;241m=\u001B[39m \u001B[43mproxy_bypass\u001B[49m\u001B[43m(\u001B[49m\u001B[43mparsed\u001B[49m\u001B[38;5;241;43m.\u001B[39;49m\u001B[43mhostname\u001B[49m\u001B[43m)\u001B[49m\n\u001B[1;32m    810\u001B[0m     \u001B[38;5;28;01mexcept\u001B[39;00m (\u001B[38;5;167;01mTypeError\u001B[39;00m, socket\u001B[38;5;241m.\u001B[39mgaierror):\n\u001B[1;32m    811\u001B[0m         bypass \u001B[38;5;241m=\u001B[39m \u001B[38;5;28;01mFalse\u001B[39;00m\n",
      "File \u001B[0;32m~/miniforge3/envs/vs_base/lib/python3.10/urllib/request.py:2649\u001B[0m, in \u001B[0;36mproxy_bypass\u001B[0;34m(host)\u001B[0m\n\u001B[1;32m   2647\u001B[0m     \u001B[38;5;28;01mreturn\u001B[39;00m proxy_bypass_environment(host, proxies)\n\u001B[1;32m   2648\u001B[0m \u001B[38;5;28;01melse\u001B[39;00m:\n\u001B[0;32m-> 2649\u001B[0m     \u001B[38;5;28;01mreturn\u001B[39;00m \u001B[43mproxy_bypass_macosx_sysconf\u001B[49m\u001B[43m(\u001B[49m\u001B[43mhost\u001B[49m\u001B[43m)\u001B[49m\n",
      "File \u001B[0;32m~/miniforge3/envs/vs_base/lib/python3.10/urllib/request.py:2626\u001B[0m, in \u001B[0;36mproxy_bypass_macosx_sysconf\u001B[0;34m(host)\u001B[0m\n\u001B[1;32m   2624\u001B[0m \u001B[38;5;28;01mdef\u001B[39;00m \u001B[38;5;21mproxy_bypass_macosx_sysconf\u001B[39m(host):\n\u001B[1;32m   2625\u001B[0m     proxy_settings \u001B[38;5;241m=\u001B[39m _get_proxy_settings()\n\u001B[0;32m-> 2626\u001B[0m     \u001B[38;5;28;01mreturn\u001B[39;00m \u001B[43m_proxy_bypass_macosx_sysconf\u001B[49m\u001B[43m(\u001B[49m\u001B[43mhost\u001B[49m\u001B[43m,\u001B[49m\u001B[43m \u001B[49m\u001B[43mproxy_settings\u001B[49m\u001B[43m)\u001B[49m\n",
      "File \u001B[0;32m~/miniforge3/envs/vs_base/lib/python3.10/urllib/request.py:2594\u001B[0m, in \u001B[0;36m_proxy_bypass_macosx_sysconf\u001B[0;34m(host, proxy_settings)\u001B[0m\n\u001B[1;32m   2592\u001B[0m \u001B[38;5;28;01mif\u001B[39;00m hostIP \u001B[38;5;129;01mis\u001B[39;00m \u001B[38;5;28;01mNone\u001B[39;00m:\n\u001B[1;32m   2593\u001B[0m     \u001B[38;5;28;01mtry\u001B[39;00m:\n\u001B[0;32m-> 2594\u001B[0m         hostIP \u001B[38;5;241m=\u001B[39m \u001B[43msocket\u001B[49m\u001B[38;5;241;43m.\u001B[39;49m\u001B[43mgethostbyname\u001B[49m\u001B[43m(\u001B[49m\u001B[43mhostonly\u001B[49m\u001B[43m)\u001B[49m\n\u001B[1;32m   2595\u001B[0m         hostIP \u001B[38;5;241m=\u001B[39m ip2num(hostIP)\n\u001B[1;32m   2596\u001B[0m     \u001B[38;5;28;01mexcept\u001B[39;00m \u001B[38;5;167;01mOSError\u001B[39;00m:\n",
      "\u001B[0;31mKeyboardInterrupt\u001B[0m: "
     ]
    }
   ],
   "source": [
    "# response = client.execute(gql(arb_query % start_timestamp))\n",
    "# result = response['swaps']\n",
    "# id_set = set()\n",
    "#\n",
    "# for item in result:\n",
    "#     id_set.add(item[\"id\"])\n",
    "\n",
    "while True:\n",
    "    print(datetime.now(), len(result), len(id_set))\n",
    "    print(\"Current time: \", utils.utc_timestamp_to_date(int(result[-1][\"timestamp\"])))\n",
    "    current_timestamp = int(result[-1][\"timestamp\"])\n",
    "    query = arb_query % current_timestamp\n",
    "    try:\n",
    "        response = client.execute(gql(query))\n",
    "\n",
    "        swap_data = response[\"swaps\"]\n",
    "        if len(swap_data) == 0:\n",
    "            break\n",
    "        for item in swap_data:\n",
    "            if int(item[\"timestamp\"]) > end_timestamp:\n",
    "                break\n",
    "            elif item[\"id\"] in id_set:\n",
    "                continue\n",
    "            else:\n",
    "                result.append(item)\n",
    "                id_set.add(item[\"id\"])\n",
    "    except Exception as ex:\n",
    "        print(\"Fetching swap data error\", ex)"
   ],
   "metadata": {
    "collapsed": false,
    "pycharm": {
     "name": "#%%\n"
    }
   }
  },
  {
   "cell_type": "code",
   "execution_count": 37,
   "outputs": [],
   "source": [
    "# save data\n",
    "import pandas as pd\n",
    "\n",
    "kucoin_df = pd.DataFrame(kucoin_result)\n",
    "kucoin_df.to_csv(\"../../data/kucoin_eth_price.csv\", index=False)"
   ],
   "metadata": {
    "collapsed": false,
    "pycharm": {
     "name": "#%%\n"
    }
   }
  },
  {
   "cell_type": "code",
   "execution_count": 34,
   "outputs": [],
   "source": [
    "import pandas as pd\n",
    "from copy import deepcopy\n",
    "\n",
    "\n",
    "arb_result = deepcopy(result)\n",
    "for item in arb_result:\n",
    "    item[\"tokenIn\"] = item[\"tokenIn\"][\"symbol\"]\n",
    "    item[\"tokenOut\"] = item[\"tokenOut\"][\"symbol\"]\n",
    "\n",
    "arb_uniswap_df = pd.DataFrame(arb_result)\n",
    "arb_uniswap_df.to_csv(\"../../data/arb_swap.csv\", index=False)"
   ],
   "metadata": {
    "collapsed": false,
    "pycharm": {
     "name": "#%%\n"
    }
   }
  },
  {
   "cell_type": "code",
   "execution_count": 3,
   "outputs": [
    {
     "name": "stdout",
     "output_type": "stream",
     "text": [
      "4.435728875418589428481139256E+37\n"
     ]
    }
   ],
   "source": [
    "from decimal import Decimal\n",
    "\n",
    "def sqrtpricex96_to_price(sqrtpricex96):\n",
    "    \"\"\"Converts a Uniswap SQRTpriceX96 to price.\n",
    "\n",
    "    Args:\n",
    "      sqrtpricex96: The SQRTpriceX96 to convert.\n",
    "\n",
    "    Returns:\n",
    "      The price.\n",
    "    \"\"\"\n",
    "\n",
    "    return Decimal(sqrtpricex96) ** 2 / (2 ** 96)\n",
    "\n",
    "\n",
    "print(sqrtpricex96_to_price(1874659030893028805438655155008306))\n",
    "1874679522069631707331686660801156"
   ],
   "metadata": {
    "collapsed": false,
    "pycharm": {
     "name": "#%%\n"
    }
   }
  },
  {
   "cell_type": "code",
   "execution_count": 4,
   "outputs": [
    {
     "name": "stdout",
     "output_type": "stream",
     "text": [
      "79228162514264337593543950336\n"
     ]
    }
   ],
   "source": [
    "print(2 ** 96)"
   ],
   "metadata": {
    "collapsed": false,
    "pycharm": {
     "name": "#%%\n"
    }
   }
  },
  {
   "cell_type": "code",
   "execution_count": 25,
   "outputs": [
    {
     "data": {
      "text/plain": "1786.1362752201069"
     },
     "execution_count": 25,
     "metadata": {},
     "output_type": "execute_result"
    }
   ],
   "source": [
    "1 / ((1874659030893028805438655155008306 / (1 << 96)) ** 2 / (10 ** 12))"
   ],
   "metadata": {
    "collapsed": false,
    "pycharm": {
     "name": "#%%\n"
    }
   }
  },
  {
   "cell_type": "code",
   "execution_count": 29,
   "outputs": [
    {
     "name": "stdout",
     "output_type": "stream",
     "text": [
      "1786.1362752201069\n"
     ]
    }
   ],
   "source": [
    "import math\n",
    "\n",
    "def sqrtpricex96_to_price_eth_usd(sqrtpricex96):\n",
    "    \"\"\"Converts a Uniswap SQRTpriceX96 to price.\n",
    "\n",
    "    Args:\n",
    "      sqrtpricex96: The SQRTpriceX96 to convert.\n",
    "\n",
    "    Returns:\n",
    "      The price.\n",
    "    \"\"\"\n",
    "    price = sqrtpricex96 / math.pow(2, 96)\n",
    "    return 1 / (price ** 2 / (10 ** 12))\n",
    "\n",
    "\n",
    "print(sqrtpricex96_to_price_eth_usd(1874659030893028805438655155008306))"
   ],
   "metadata": {
    "collapsed": false,
    "pycharm": {
     "name": "#%%\n"
    }
   }
  },
  {
   "cell_type": "code",
   "execution_count": 20,
   "outputs": [
    {
     "data": {
      "text/plain": "Decimal('107013224637507.3118500159524')"
     },
     "execution_count": 20,
     "metadata": {},
     "output_type": "execute_result"
    }
   ],
   "source": [
    "Decimal(1974045567390486984838358761822072) / (1 << 64)"
   ],
   "metadata": {
    "collapsed": false,
    "pycharm": {
     "name": "#%%\n"
    }
   }
  },
  {
   "cell_type": "code",
   "execution_count": 31,
   "outputs": [
    {
     "name": "stdout",
     "output_type": "stream",
     "text": [
      "1786.1687802452334\n"
     ]
    }
   ],
   "source": [
    "TICK_BASE = 1.0001\n",
    "\n",
    "\n",
    "def tick_to_price_eth_usd(tick):\n",
    "    return 1 / (TICK_BASE ** tick / (10 ** 12))\n",
    "\n",
    "\n",
    "print(tick_to_price_eth_usd(201442))"
   ],
   "metadata": {
    "collapsed": false,
    "pycharm": {
     "name": "#%%\n"
    }
   }
  },
  {
   "cell_type": "code",
   "execution_count": 33,
   "outputs": [
    {
     "name": "stdout",
     "output_type": "stream",
     "text": [
      "1786.883354934603\n"
     ]
    }
   ],
   "source": [
    "print(tick_to_price_eth_usd(201438))"
   ],
   "metadata": {
    "collapsed": false,
    "pycharm": {
     "name": "#%%\n"
    }
   }
  },
  {
   "cell_type": "code",
   "execution_count": 36,
   "outputs": [
    {
     "name": "stdout",
     "output_type": "stream",
     "text": [
      "1786.7046844661563\n"
     ]
    }
   ],
   "source": [
    "def arb_tick_to_price_eth_usd(tick):\n",
    "    return TICK_BASE ** tick * 10 ** 12\n",
    "\n",
    "print(arb_tick_to_price_eth_usd(-201439))"
   ],
   "metadata": {
    "collapsed": false,
    "pycharm": {
     "name": "#%%\n"
    }
   }
  },
  {
   "cell_type": "code",
   "execution_count": null,
   "outputs": [],
   "source": [],
   "metadata": {
    "collapsed": false,
    "pycharm": {
     "name": "#%%\n"
    }
   }
  }
 ],
 "metadata": {
  "kernelspec": {
   "display_name": "Python 3",
   "language": "python",
   "name": "python3"
  },
  "language_info": {
   "codemirror_mode": {
    "name": "ipython",
    "version": 2
   },
   "file_extension": ".py",
   "mimetype": "text/x-python",
   "name": "python",
   "nbconvert_exporter": "python",
   "pygments_lexer": "ipython2",
   "version": "2.7.6"
  }
 },
 "nbformat": 4,
 "nbformat_minor": 0
}