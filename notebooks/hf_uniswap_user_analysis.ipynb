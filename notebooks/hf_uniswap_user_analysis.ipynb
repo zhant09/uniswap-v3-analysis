{
 "cells": [
  {
   "cell_type": "code",
   "metadata": {
    "collapsed": true,
    "pycharm": {
     "name": "#%%\n"
    }
   },
   "source": [
    "# analysis: how does this user's swaps make money\n",
    "import math\n",
    "import pandas as pd\n",
    "\n",
    "from utils import utils\n",
    "\n",
    "TICK_BASE = 1.0001\n",
    "\n",
    "def tick_to_price(tick):\n",
    "    return TICK_BASE ** tick * 10 ** 12\n",
    "\n",
    "def price_to_tick(price):\n",
    "    return math.log(price/(10**12), TICK_BASE)\n",
    "\n",
    "\n",
    "# new csv resolved USDT related swaps => converted to USDC/WETH trading pair\n",
    "df = pd.read_csv(\"../data/user_arb_swap_new.csv\")\n",
    "df[\"datetime\"] = df[\"timestamp\"].apply(utils.utc_timestamp_to_date)\n",
    "df[\"tick_price\"] = df[\"tick\"].apply(tick_to_price)\n",
    "df.head()"
   ],
   "execution_count": null,
   "outputs": []
  },
  {
   "cell_type": "code",
   "execution_count": null,
   "outputs": [],
   "source": [
    "user_data = df.to_dict(\"records\")\n",
    "\n",
    "for item in user_data:\n",
    "    if item[\"tokenIn\"] == \"USDC\":\n",
    "        item[\"trade_type\"] = \"BUY\"\n",
    "        item[\"trade_eth\"] = int(item[\"amountOut\"]) / (10**18)\n",
    "        item[\"trade_price\"] = item[\"amountOutUSD\"] / item[\"trade_eth\"]\n",
    "    if item[\"tokenIn\"] == \"WETH\":\n",
    "        item[\"trade_type\"] = \"SELL\"\n",
    "        item[\"trade_eth\"] = int(item[\"amountIn\"]) / (10**18)\n",
    "        item[\"trade_price\"] = item[\"amountInUSD\"] / item[\"trade_eth\"]\n",
    "    item[\"price_diff\"] = item[\"trade_price\"] - item[\"tick_price\"]\n",
    "\n",
    "    trade_tick = price_to_tick(item[\"trade_price\"])\n",
    "    item[\"price_diff_in_tick\"] = round(trade_tick - item[\"tick\"])\n",
    "\n",
    "user_df = pd.DataFrame(user_data)\n",
    "user_df.head()"
   ],
   "metadata": {
    "collapsed": false,
    "pycharm": {
     "name": "#%%\n"
    }
   }
  },
  {
   "cell_type": "code",
   "execution_count": null,
   "outputs": [],
   "source": [
    "init_price = 1471.206304\n",
    "init_eth = 100\n",
    "init_usd = 100 * init_price\n",
    "\n",
    "# calculate eth, usd in every step to know least investment, considering about trading fee\n",
    "user_data = user_df.to_dict(\"records\")\n",
    "\n",
    "last_price = init_price\n",
    "last_eth = init_eth\n",
    "last_usd = init_usd\n",
    "\n",
    "current_usd = 0\n",
    "current_eth = 0\n",
    "for item in user_data:\n",
    "    item[\"uniswap_fees\"] = item[\"amountInUSD\"] * 0.0005\n",
    "    item[\"fees\"] = item[\"amountInUSD\"] - item[\"amountOutUSD\"]\n",
    "    if item[\"tokenIn\"] == \"USDC\":\n",
    "        current_usd = last_usd - item[\"amountInUSD\"]\n",
    "        current_eth = last_eth + int(item[\"amountOut\"]) / (10 ** 18)\n",
    "    if item[\"tokenIn\"] == \"WETH\":\n",
    "        current_usd = last_usd + item[\"amountOutUSD\"]\n",
    "        current_eth = last_eth - int(item[\"amountIn\"]) / (10 ** 18)\n",
    "\n",
    "    item[\"current_usd\"] = current_usd\n",
    "    item[\"current_eth\"] = current_eth\n",
    "\n",
    "    item[\"tick_portfolio_profit_usd\"] = current_usd + current_eth * item[\"tick_price\"] - init_usd - init_eth * item[\"tick_price\"]\n",
    "    item[\"trade_portfolio_profit_usd\"] = current_usd + current_eth * item[\"trade_price\"] - init_usd - init_eth * item[\"trade_price\"]\n",
    "    # profit = item[\"price\"] * current_eth + current_usd - item[\"price\"] * init_eth - init_usd\n",
    "    # item[\"profit\"] = profit\n",
    "\n",
    "    last_usd = current_usd\n",
    "    last_eth = current_eth\n",
    "\n",
    "\n",
    "user_df = pd.DataFrame(user_data)\n",
    "user_df.head()"
   ],
   "metadata": {
    "collapsed": false,
    "pycharm": {
     "name": "#%%\n"
    }
   }
  },
  {
   "cell_type": "code",
   "execution_count": null,
   "outputs": [],
   "source": [
    "columns = [\"datetime\", \"trade_type\", \"trade_eth\", \"trade_price\", \"current_usd\", \"current_eth\", \"trade_portfolio_profit_usd\", \"tick_portfolio_profit_usd\", \"tick_price\", \"price_diff\", \"price_diff_in_tick\", \"fees\", \"uniswap_fees\", \"tick\", \"amountIn\", \"amountOut\", \"amountInUSD\", \"amountOutUSD\"]\n",
    "user_df[columns].head(20)"
   ],
   "metadata": {
    "collapsed": false,
    "pycharm": {
     "name": "#%%\n"
    }
   }
  },
  {
   "cell_type": "code",
   "execution_count": null,
   "outputs": [],
   "source": [
    "current_price = 1468.75581\n",
    "print(176209.200205 + 80.194769 * current_price - 100 * 1471.206304 - 100 * current_price)"
   ],
   "metadata": {
    "collapsed": false,
    "pycharm": {
     "name": "#%%\n"
    }
   }
  },
  {
   "cell_type": "code",
   "execution_count": null,
   "outputs": [],
   "source": [
    "current_price = 1466.06601\n",
    "print(185166.445632 + 74.083996 * current_price - 100 * 1471.206304 - 100 * current_price)"
   ],
   "metadata": {
    "collapsed": false,
    "pycharm": {
     "name": "#%%\n"
    }
   }
  },
  {
   "cell_type": "code",
   "execution_count": null,
   "outputs": [],
   "source": [
    "data = user_df[[\"trade_type\", \"trade_eth\", \"trade_price\", \"fees\"]].to_dict(\"records\")[:8]\n",
    "len(data)"
   ],
   "metadata": {
    "collapsed": false,
    "pycharm": {
     "name": "#%%\n"
    }
   }
  },
  {
   "cell_type": "code",
   "execution_count": null,
   "outputs": [],
   "source": [
    "sell_usd = 0\n",
    "sell_amount = 0\n",
    "for i, item in enumerate(data):\n",
    "    if item[\"trade_type\"] == \"SELL\":\n",
    "        sell_usd += item[\"trade_eth\"] * item[\"trade_price\"]\n",
    "        sell_amount += item[\"trade_eth\"]\n",
    "        print(i+1, sell_usd/sell_amount)"
   ],
   "metadata": {
    "collapsed": false,
    "pycharm": {
     "name": "#%%\n"
    }
   }
  },
  {
   "cell_type": "code",
   "execution_count": null,
   "outputs": [],
   "source": [
    "# q1: 为什么以 trade_price 计价，fees 与 trade_portfolio_profit_usd 相等"
   ],
   "metadata": {
    "collapsed": false,
    "pycharm": {
     "name": "#%%\n"
    }
   }
  }
 ],
 "metadata": {
  "kernelspec": {
   "display_name": "Python 3",
   "language": "python",
   "name": "python3"
  },
  "language_info": {
   "codemirror_mode": {
    "name": "ipython",
    "version": 2
   },
   "file_extension": ".py",
   "mimetype": "text/x-python",
   "name": "python",
   "nbconvert_exporter": "python",
   "pygments_lexer": "ipython2",
   "version": "2.7.6"
  }
 },
 "nbformat": 4,
 "nbformat_minor": 0
}