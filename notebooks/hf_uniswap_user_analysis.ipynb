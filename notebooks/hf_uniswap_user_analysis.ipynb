{
 "cells": [
  {
   "cell_type": "code",
   "metadata": {
    "collapsed": true,
    "pycharm": {
     "name": "#%%\n"
    }
   },
   "source": [
    "# analysis: how does this user's swaps make money\n",
    "import math\n",
    "import pandas as pd\n",
    "\n",
    "from utils import utils\n",
    "\n",
    "TICK_BASE = 1.0001\n",
    "\n",
    "def tick_to_price(tick):\n",
    "    return TICK_BASE ** tick * 10 ** 12\n",
    "\n",
    "def price_to_tick(price):\n",
    "    return math.log(price/(10**12), TICK_BASE)\n",
    "\n",
    "\n",
    "# new csv resolved USDT related swaps => converted to USDC/WETH trading pair\n",
    "df = pd.read_csv(\"../data/user_arb_swap_new.csv\")\n",
    "df[\"datetime\"] = df[\"timestamp\"].apply(utils.utc_timestamp_to_date)\n",
    "df[\"tick_price\"] = df[\"tick\"].apply(tick_to_price)\n",
    "df.head()"
   ],
   "execution_count": 2,
   "outputs": [
    {
     "data": {
      "text/plain": "                                                  id             amountIn  \\\n0  0x4163f1437cefc0b6c73e00c8db819ea92aa07395a1a6...  3516117741730628903   \n1  0x058d12a79ee20e82379e5d0b2b1eeeaaa2988768244d...  4186892251423356044   \n2  0xcd8af3e9679b087671fa11627d3f0864b3bedb46523c...  3559441400205692687   \n3  0xa9ac38c9ce148d8830f73bec697d014de0ad3aa7e3a3...           8250801903   \n4  0xc6ea270acc5833c393000dad84ffb0baaf793238f669...  3454446749687345942   \n\n   amountInUSD            amountOut  amountOutUSD  gasLimit    gasPrice  \\\n0  5174.514646           5170663639   5170.663639   3000000  2000000000   \n1  6158.127305           6154400504   6154.400504   3000000  2000000000   \n2  5231.842059           5228940013   5228.940013   3000000  2000000000   \n3  8250.801903  5613510956742205013   8245.020033   3000000  2000000000   \n4  5076.537527           5073730688   5073.730688   3000000  2000000000   \n\n     tick   timestamp                                        pool tokenIn  \\\n0 -203382  1676306229  0xc31e54c7a869b9fcbecc14363cf510d1c41fa443    WETH   \n1 -203387  1676306236  0xc31e54c7a869b9fcbecc14363cf510d1c41fa443    WETH   \n2 -203393  1676306246  0xc31e54c7a869b9fcbecc14363cf510d1c41fa443    WETH   \n3 -203396  1676306255  0xc31e54c7a869b9fcbecc14363cf510d1c41fa443    USDC   \n4 -203395  1676306282  0xc31e54c7a869b9fcbecc14363cf510d1c41fa443    WETH   \n\n  tokenOut                  datetime   tick_price  \n0     USDC 2023-02-13 16:37:09+00:00  1471.206304  \n1     USDC 2023-02-13 16:37:16+00:00  1470.470921  \n2     USDC 2023-02-13 16:37:26+00:00  1469.588948  \n3     WETH 2023-02-13 16:37:35+00:00  1469.148159  \n4     USDC 2023-02-13 16:38:02+00:00  1469.295074  ",
      "text/html": "<div>\n<style scoped>\n    .dataframe tbody tr th:only-of-type {\n        vertical-align: middle;\n    }\n\n    .dataframe tbody tr th {\n        vertical-align: top;\n    }\n\n    .dataframe thead th {\n        text-align: right;\n    }\n</style>\n<table border=\"1\" class=\"dataframe\">\n  <thead>\n    <tr style=\"text-align: right;\">\n      <th></th>\n      <th>id</th>\n      <th>amountIn</th>\n      <th>amountInUSD</th>\n      <th>amountOut</th>\n      <th>amountOutUSD</th>\n      <th>gasLimit</th>\n      <th>gasPrice</th>\n      <th>tick</th>\n      <th>timestamp</th>\n      <th>pool</th>\n      <th>tokenIn</th>\n      <th>tokenOut</th>\n      <th>datetime</th>\n      <th>tick_price</th>\n    </tr>\n  </thead>\n  <tbody>\n    <tr>\n      <th>0</th>\n      <td>0x4163f1437cefc0b6c73e00c8db819ea92aa07395a1a6...</td>\n      <td>3516117741730628903</td>\n      <td>5174.514646</td>\n      <td>5170663639</td>\n      <td>5170.663639</td>\n      <td>3000000</td>\n      <td>2000000000</td>\n      <td>-203382</td>\n      <td>1676306229</td>\n      <td>0xc31e54c7a869b9fcbecc14363cf510d1c41fa443</td>\n      <td>WETH</td>\n      <td>USDC</td>\n      <td>2023-02-13 16:37:09+00:00</td>\n      <td>1471.206304</td>\n    </tr>\n    <tr>\n      <th>1</th>\n      <td>0x058d12a79ee20e82379e5d0b2b1eeeaaa2988768244d...</td>\n      <td>4186892251423356044</td>\n      <td>6158.127305</td>\n      <td>6154400504</td>\n      <td>6154.400504</td>\n      <td>3000000</td>\n      <td>2000000000</td>\n      <td>-203387</td>\n      <td>1676306236</td>\n      <td>0xc31e54c7a869b9fcbecc14363cf510d1c41fa443</td>\n      <td>WETH</td>\n      <td>USDC</td>\n      <td>2023-02-13 16:37:16+00:00</td>\n      <td>1470.470921</td>\n    </tr>\n    <tr>\n      <th>2</th>\n      <td>0xcd8af3e9679b087671fa11627d3f0864b3bedb46523c...</td>\n      <td>3559441400205692687</td>\n      <td>5231.842059</td>\n      <td>5228940013</td>\n      <td>5228.940013</td>\n      <td>3000000</td>\n      <td>2000000000</td>\n      <td>-203393</td>\n      <td>1676306246</td>\n      <td>0xc31e54c7a869b9fcbecc14363cf510d1c41fa443</td>\n      <td>WETH</td>\n      <td>USDC</td>\n      <td>2023-02-13 16:37:26+00:00</td>\n      <td>1469.588948</td>\n    </tr>\n    <tr>\n      <th>3</th>\n      <td>0xa9ac38c9ce148d8830f73bec697d014de0ad3aa7e3a3...</td>\n      <td>8250801903</td>\n      <td>8250.801903</td>\n      <td>5613510956742205013</td>\n      <td>8245.020033</td>\n      <td>3000000</td>\n      <td>2000000000</td>\n      <td>-203396</td>\n      <td>1676306255</td>\n      <td>0xc31e54c7a869b9fcbecc14363cf510d1c41fa443</td>\n      <td>USDC</td>\n      <td>WETH</td>\n      <td>2023-02-13 16:37:35+00:00</td>\n      <td>1469.148159</td>\n    </tr>\n    <tr>\n      <th>4</th>\n      <td>0xc6ea270acc5833c393000dad84ffb0baaf793238f669...</td>\n      <td>3454446749687345942</td>\n      <td>5076.537527</td>\n      <td>5073730688</td>\n      <td>5073.730688</td>\n      <td>3000000</td>\n      <td>2000000000</td>\n      <td>-203395</td>\n      <td>1676306282</td>\n      <td>0xc31e54c7a869b9fcbecc14363cf510d1c41fa443</td>\n      <td>WETH</td>\n      <td>USDC</td>\n      <td>2023-02-13 16:38:02+00:00</td>\n      <td>1469.295074</td>\n    </tr>\n  </tbody>\n</table>\n</div>"
     },
     "execution_count": 2,
     "metadata": {},
     "output_type": "execute_result"
    }
   ]
  },
  {
   "cell_type": "code",
   "execution_count": 3,
   "outputs": [
    {
     "data": {
      "text/plain": "                                                  id             amountIn  \\\n0  0x4163f1437cefc0b6c73e00c8db819ea92aa07395a1a6...  3516117741730628903   \n1  0x058d12a79ee20e82379e5d0b2b1eeeaaa2988768244d...  4186892251423356044   \n2  0xcd8af3e9679b087671fa11627d3f0864b3bedb46523c...  3559441400205692687   \n3  0xa9ac38c9ce148d8830f73bec697d014de0ad3aa7e3a3...           8250801903   \n4  0xc6ea270acc5833c393000dad84ffb0baaf793238f669...  3454446749687345942   \n\n   amountInUSD            amountOut  amountOutUSD  gasLimit    gasPrice  \\\n0  5174.514646           5170663639   5170.663639   3000000  2000000000   \n1  6158.127305           6154400504   6154.400504   3000000  2000000000   \n2  5231.842059           5228940013   5228.940013   3000000  2000000000   \n3  8250.801903  5613510956742205013   8245.020033   3000000  2000000000   \n4  5076.537527           5073730688   5073.730688   3000000  2000000000   \n\n     tick   timestamp                                        pool tokenIn  \\\n0 -203382  1676306229  0xc31e54c7a869b9fcbecc14363cf510d1c41fa443    WETH   \n1 -203387  1676306236  0xc31e54c7a869b9fcbecc14363cf510d1c41fa443    WETH   \n2 -203393  1676306246  0xc31e54c7a869b9fcbecc14363cf510d1c41fa443    WETH   \n3 -203396  1676306255  0xc31e54c7a869b9fcbecc14363cf510d1c41fa443    USDC   \n4 -203395  1676306282  0xc31e54c7a869b9fcbecc14363cf510d1c41fa443    WETH   \n\n  tokenOut                  datetime   tick_price trade_type  trade_eth  \\\n0     USDC 2023-02-13 16:37:09+00:00  1471.206304       SELL   3.516118   \n1     USDC 2023-02-13 16:37:16+00:00  1470.470921       SELL   4.186892   \n2     USDC 2023-02-13 16:37:26+00:00  1469.588948       SELL   3.559441   \n3     WETH 2023-02-13 16:37:35+00:00  1469.148159        BUY   5.613511   \n4     USDC 2023-02-13 16:38:02+00:00  1469.295074       SELL   3.454447   \n\n   trade_price  price_diff  price_diff_in_tick  \n0   1471.65568    0.449376                   3  \n1   1470.81103    0.340109                   2  \n2   1469.84919    0.260242                   2  \n3   1468.78132   -0.366839                  -2  \n4   1469.56601    0.270936                   2  ",
      "text/html": "<div>\n<style scoped>\n    .dataframe tbody tr th:only-of-type {\n        vertical-align: middle;\n    }\n\n    .dataframe tbody tr th {\n        vertical-align: top;\n    }\n\n    .dataframe thead th {\n        text-align: right;\n    }\n</style>\n<table border=\"1\" class=\"dataframe\">\n  <thead>\n    <tr style=\"text-align: right;\">\n      <th></th>\n      <th>id</th>\n      <th>amountIn</th>\n      <th>amountInUSD</th>\n      <th>amountOut</th>\n      <th>amountOutUSD</th>\n      <th>gasLimit</th>\n      <th>gasPrice</th>\n      <th>tick</th>\n      <th>timestamp</th>\n      <th>pool</th>\n      <th>tokenIn</th>\n      <th>tokenOut</th>\n      <th>datetime</th>\n      <th>tick_price</th>\n      <th>trade_type</th>\n      <th>trade_eth</th>\n      <th>trade_price</th>\n      <th>price_diff</th>\n      <th>price_diff_in_tick</th>\n    </tr>\n  </thead>\n  <tbody>\n    <tr>\n      <th>0</th>\n      <td>0x4163f1437cefc0b6c73e00c8db819ea92aa07395a1a6...</td>\n      <td>3516117741730628903</td>\n      <td>5174.514646</td>\n      <td>5170663639</td>\n      <td>5170.663639</td>\n      <td>3000000</td>\n      <td>2000000000</td>\n      <td>-203382</td>\n      <td>1676306229</td>\n      <td>0xc31e54c7a869b9fcbecc14363cf510d1c41fa443</td>\n      <td>WETH</td>\n      <td>USDC</td>\n      <td>2023-02-13 16:37:09+00:00</td>\n      <td>1471.206304</td>\n      <td>SELL</td>\n      <td>3.516118</td>\n      <td>1471.65568</td>\n      <td>0.449376</td>\n      <td>3</td>\n    </tr>\n    <tr>\n      <th>1</th>\n      <td>0x058d12a79ee20e82379e5d0b2b1eeeaaa2988768244d...</td>\n      <td>4186892251423356044</td>\n      <td>6158.127305</td>\n      <td>6154400504</td>\n      <td>6154.400504</td>\n      <td>3000000</td>\n      <td>2000000000</td>\n      <td>-203387</td>\n      <td>1676306236</td>\n      <td>0xc31e54c7a869b9fcbecc14363cf510d1c41fa443</td>\n      <td>WETH</td>\n      <td>USDC</td>\n      <td>2023-02-13 16:37:16+00:00</td>\n      <td>1470.470921</td>\n      <td>SELL</td>\n      <td>4.186892</td>\n      <td>1470.81103</td>\n      <td>0.340109</td>\n      <td>2</td>\n    </tr>\n    <tr>\n      <th>2</th>\n      <td>0xcd8af3e9679b087671fa11627d3f0864b3bedb46523c...</td>\n      <td>3559441400205692687</td>\n      <td>5231.842059</td>\n      <td>5228940013</td>\n      <td>5228.940013</td>\n      <td>3000000</td>\n      <td>2000000000</td>\n      <td>-203393</td>\n      <td>1676306246</td>\n      <td>0xc31e54c7a869b9fcbecc14363cf510d1c41fa443</td>\n      <td>WETH</td>\n      <td>USDC</td>\n      <td>2023-02-13 16:37:26+00:00</td>\n      <td>1469.588948</td>\n      <td>SELL</td>\n      <td>3.559441</td>\n      <td>1469.84919</td>\n      <td>0.260242</td>\n      <td>2</td>\n    </tr>\n    <tr>\n      <th>3</th>\n      <td>0xa9ac38c9ce148d8830f73bec697d014de0ad3aa7e3a3...</td>\n      <td>8250801903</td>\n      <td>8250.801903</td>\n      <td>5613510956742205013</td>\n      <td>8245.020033</td>\n      <td>3000000</td>\n      <td>2000000000</td>\n      <td>-203396</td>\n      <td>1676306255</td>\n      <td>0xc31e54c7a869b9fcbecc14363cf510d1c41fa443</td>\n      <td>USDC</td>\n      <td>WETH</td>\n      <td>2023-02-13 16:37:35+00:00</td>\n      <td>1469.148159</td>\n      <td>BUY</td>\n      <td>5.613511</td>\n      <td>1468.78132</td>\n      <td>-0.366839</td>\n      <td>-2</td>\n    </tr>\n    <tr>\n      <th>4</th>\n      <td>0xc6ea270acc5833c393000dad84ffb0baaf793238f669...</td>\n      <td>3454446749687345942</td>\n      <td>5076.537527</td>\n      <td>5073730688</td>\n      <td>5073.730688</td>\n      <td>3000000</td>\n      <td>2000000000</td>\n      <td>-203395</td>\n      <td>1676306282</td>\n      <td>0xc31e54c7a869b9fcbecc14363cf510d1c41fa443</td>\n      <td>WETH</td>\n      <td>USDC</td>\n      <td>2023-02-13 16:38:02+00:00</td>\n      <td>1469.295074</td>\n      <td>SELL</td>\n      <td>3.454447</td>\n      <td>1469.56601</td>\n      <td>0.270936</td>\n      <td>2</td>\n    </tr>\n  </tbody>\n</table>\n</div>"
     },
     "execution_count": 3,
     "metadata": {},
     "output_type": "execute_result"
    }
   ],
   "source": [
    "user_data = df.to_dict(\"records\")\n",
    "\n",
    "for item in user_data:\n",
    "    if item[\"tokenIn\"] == \"USDC\":\n",
    "        item[\"trade_type\"] = \"BUY\"\n",
    "        item[\"trade_eth\"] = int(item[\"amountOut\"]) / (10**18)\n",
    "        item[\"trade_price\"] = item[\"amountOutUSD\"] / item[\"trade_eth\"]\n",
    "    if item[\"tokenIn\"] == \"WETH\":\n",
    "        item[\"trade_type\"] = \"SELL\"\n",
    "        item[\"trade_eth\"] = int(item[\"amountIn\"]) / (10**18)\n",
    "        item[\"trade_price\"] = item[\"amountInUSD\"] / item[\"trade_eth\"]\n",
    "    item[\"price_diff\"] = item[\"trade_price\"] - item[\"tick_price\"]\n",
    "\n",
    "    trade_tick = price_to_tick(item[\"trade_price\"])\n",
    "    item[\"price_diff_in_tick\"] = round(trade_tick - item[\"tick\"])\n",
    "\n",
    "user_df = pd.DataFrame(user_data)\n",
    "user_df.head()"
   ],
   "metadata": {
    "collapsed": false,
    "pycharm": {
     "name": "#%%\n"
    }
   }
  },
  {
   "cell_type": "code",
   "execution_count": 7,
   "outputs": [
    {
     "data": {
      "text/plain": "                                                  id             amountIn  \\\n0  0x4163f1437cefc0b6c73e00c8db819ea92aa07395a1a6...  3516117741730628903   \n1  0x058d12a79ee20e82379e5d0b2b1eeeaaa2988768244d...  4186892251423356044   \n2  0xcd8af3e9679b087671fa11627d3f0864b3bedb46523c...  3559441400205692687   \n3  0xa9ac38c9ce148d8830f73bec697d014de0ad3aa7e3a3...           8250801903   \n4  0xc6ea270acc5833c393000dad84ffb0baaf793238f669...  3454446749687345942   \n\n   amountInUSD            amountOut  amountOutUSD  gasLimit    gasPrice  \\\n0  5174.514646           5170663639   5170.663639   3000000  2000000000   \n1  6158.127305           6154400504   6154.400504   3000000  2000000000   \n2  5231.842059           5228940013   5228.940013   3000000  2000000000   \n3  8250.801903  5613510956742205013   8245.020033   3000000  2000000000   \n4  5076.537527           5073730688   5073.730688   3000000  2000000000   \n\n     tick   timestamp                                        pool  ...  \\\n0 -203382  1676306229  0xc31e54c7a869b9fcbecc14363cf510d1c41fa443  ...   \n1 -203387  1676306236  0xc31e54c7a869b9fcbecc14363cf510d1c41fa443  ...   \n2 -203393  1676306246  0xc31e54c7a869b9fcbecc14363cf510d1c41fa443  ...   \n3 -203396  1676306255  0xc31e54c7a869b9fcbecc14363cf510d1c41fa443  ...   \n4 -203395  1676306282  0xc31e54c7a869b9fcbecc14363cf510d1c41fa443  ...   \n\n  trade_eth trade_price price_diff  price_diff_in_tick uniswap_fees      fees  \\\n0  3.516118  1471.65568   0.449376                   3     2.587257  3.851007   \n1  4.186892  1470.81103   0.340109                   2     3.079064  3.726801   \n2  3.559441  1469.84919   0.260242                   2     2.615921  2.902046   \n3  5.613511  1468.78132  -0.366839                  -2     4.125401  5.781870   \n4  3.454447  1469.56601   0.270936                   2     2.538269  2.806839   \n\n     current_usd  current_eth  tick_portfolio_profit_usd  \\\n0  152291.294039    96.483882                  -2.270948   \n1  158445.694543    92.296990                  -1.988059   \n2  163674.634556    88.737549                   2.830066   \n3  155423.832653    94.351060                   4.071810   \n4  160497.563341    90.896613                   1.370993   \n\n   trade_portfolio_profit_usd  \n0                   -3.851007  \n1                   -4.607919  \n2                   -0.100902  \n3                    6.144062  \n4                   -1.095444  \n\n[5 rows x 25 columns]",
      "text/html": "<div>\n<style scoped>\n    .dataframe tbody tr th:only-of-type {\n        vertical-align: middle;\n    }\n\n    .dataframe tbody tr th {\n        vertical-align: top;\n    }\n\n    .dataframe thead th {\n        text-align: right;\n    }\n</style>\n<table border=\"1\" class=\"dataframe\">\n  <thead>\n    <tr style=\"text-align: right;\">\n      <th></th>\n      <th>id</th>\n      <th>amountIn</th>\n      <th>amountInUSD</th>\n      <th>amountOut</th>\n      <th>amountOutUSD</th>\n      <th>gasLimit</th>\n      <th>gasPrice</th>\n      <th>tick</th>\n      <th>timestamp</th>\n      <th>pool</th>\n      <th>...</th>\n      <th>trade_eth</th>\n      <th>trade_price</th>\n      <th>price_diff</th>\n      <th>price_diff_in_tick</th>\n      <th>uniswap_fees</th>\n      <th>fees</th>\n      <th>current_usd</th>\n      <th>current_eth</th>\n      <th>tick_portfolio_profit_usd</th>\n      <th>trade_portfolio_profit_usd</th>\n    </tr>\n  </thead>\n  <tbody>\n    <tr>\n      <th>0</th>\n      <td>0x4163f1437cefc0b6c73e00c8db819ea92aa07395a1a6...</td>\n      <td>3516117741730628903</td>\n      <td>5174.514646</td>\n      <td>5170663639</td>\n      <td>5170.663639</td>\n      <td>3000000</td>\n      <td>2000000000</td>\n      <td>-203382</td>\n      <td>1676306229</td>\n      <td>0xc31e54c7a869b9fcbecc14363cf510d1c41fa443</td>\n      <td>...</td>\n      <td>3.516118</td>\n      <td>1471.65568</td>\n      <td>0.449376</td>\n      <td>3</td>\n      <td>2.587257</td>\n      <td>3.851007</td>\n      <td>152291.294039</td>\n      <td>96.483882</td>\n      <td>-2.270948</td>\n      <td>-3.851007</td>\n    </tr>\n    <tr>\n      <th>1</th>\n      <td>0x058d12a79ee20e82379e5d0b2b1eeeaaa2988768244d...</td>\n      <td>4186892251423356044</td>\n      <td>6158.127305</td>\n      <td>6154400504</td>\n      <td>6154.400504</td>\n      <td>3000000</td>\n      <td>2000000000</td>\n      <td>-203387</td>\n      <td>1676306236</td>\n      <td>0xc31e54c7a869b9fcbecc14363cf510d1c41fa443</td>\n      <td>...</td>\n      <td>4.186892</td>\n      <td>1470.81103</td>\n      <td>0.340109</td>\n      <td>2</td>\n      <td>3.079064</td>\n      <td>3.726801</td>\n      <td>158445.694543</td>\n      <td>92.296990</td>\n      <td>-1.988059</td>\n      <td>-4.607919</td>\n    </tr>\n    <tr>\n      <th>2</th>\n      <td>0xcd8af3e9679b087671fa11627d3f0864b3bedb46523c...</td>\n      <td>3559441400205692687</td>\n      <td>5231.842059</td>\n      <td>5228940013</td>\n      <td>5228.940013</td>\n      <td>3000000</td>\n      <td>2000000000</td>\n      <td>-203393</td>\n      <td>1676306246</td>\n      <td>0xc31e54c7a869b9fcbecc14363cf510d1c41fa443</td>\n      <td>...</td>\n      <td>3.559441</td>\n      <td>1469.84919</td>\n      <td>0.260242</td>\n      <td>2</td>\n      <td>2.615921</td>\n      <td>2.902046</td>\n      <td>163674.634556</td>\n      <td>88.737549</td>\n      <td>2.830066</td>\n      <td>-0.100902</td>\n    </tr>\n    <tr>\n      <th>3</th>\n      <td>0xa9ac38c9ce148d8830f73bec697d014de0ad3aa7e3a3...</td>\n      <td>8250801903</td>\n      <td>8250.801903</td>\n      <td>5613510956742205013</td>\n      <td>8245.020033</td>\n      <td>3000000</td>\n      <td>2000000000</td>\n      <td>-203396</td>\n      <td>1676306255</td>\n      <td>0xc31e54c7a869b9fcbecc14363cf510d1c41fa443</td>\n      <td>...</td>\n      <td>5.613511</td>\n      <td>1468.78132</td>\n      <td>-0.366839</td>\n      <td>-2</td>\n      <td>4.125401</td>\n      <td>5.781870</td>\n      <td>155423.832653</td>\n      <td>94.351060</td>\n      <td>4.071810</td>\n      <td>6.144062</td>\n    </tr>\n    <tr>\n      <th>4</th>\n      <td>0xc6ea270acc5833c393000dad84ffb0baaf793238f669...</td>\n      <td>3454446749687345942</td>\n      <td>5076.537527</td>\n      <td>5073730688</td>\n      <td>5073.730688</td>\n      <td>3000000</td>\n      <td>2000000000</td>\n      <td>-203395</td>\n      <td>1676306282</td>\n      <td>0xc31e54c7a869b9fcbecc14363cf510d1c41fa443</td>\n      <td>...</td>\n      <td>3.454447</td>\n      <td>1469.56601</td>\n      <td>0.270936</td>\n      <td>2</td>\n      <td>2.538269</td>\n      <td>2.806839</td>\n      <td>160497.563341</td>\n      <td>90.896613</td>\n      <td>1.370993</td>\n      <td>-1.095444</td>\n    </tr>\n  </tbody>\n</table>\n<p>5 rows × 25 columns</p>\n</div>"
     },
     "execution_count": 7,
     "metadata": {},
     "output_type": "execute_result"
    }
   ],
   "source": [
    "init_price = 1471.206304\n",
    "init_eth = 100\n",
    "init_usd = 100 * init_price\n",
    "\n",
    "# calculate eth, usd in every step to know least investment, considering about trading fee\n",
    "user_data = user_df.to_dict(\"records\")\n",
    "\n",
    "last_price = init_price\n",
    "last_eth = init_eth\n",
    "last_usd = init_usd\n",
    "\n",
    "current_usd = 0\n",
    "current_eth = 0\n",
    "for item in user_data:\n",
    "    item[\"uniswap_fees\"] = item[\"amountInUSD\"] * 0.0005\n",
    "    item[\"fees\"] = item[\"amountInUSD\"] - item[\"amountOutUSD\"]\n",
    "    if item[\"tokenIn\"] == \"USDC\":\n",
    "        current_usd = last_usd - item[\"amountInUSD\"]\n",
    "        current_eth = last_eth + int(item[\"amountOut\"]) / (10 ** 18)\n",
    "    if item[\"tokenIn\"] == \"WETH\":\n",
    "        current_usd = last_usd + item[\"amountOutUSD\"]\n",
    "        current_eth = last_eth - int(item[\"amountIn\"]) / (10 ** 18)\n",
    "\n",
    "    item[\"current_usd\"] = current_usd\n",
    "    item[\"current_eth\"] = current_eth\n",
    "\n",
    "    item[\"tick_portfolio_profit_usd\"] = current_usd + current_eth * item[\"tick_price\"] - init_usd - init_eth * item[\"tick_price\"]\n",
    "    item[\"trade_portfolio_profit_usd\"] = current_usd + current_eth * item[\"trade_price\"] - init_usd - init_eth * item[\"trade_price\"]\n",
    "    # profit = item[\"price\"] * current_eth + current_usd - item[\"price\"] * init_eth - init_usd\n",
    "    # item[\"profit\"] = profit\n",
    "\n",
    "    last_usd = current_usd\n",
    "    last_eth = current_eth\n",
    "\n",
    "\n",
    "user_df = pd.DataFrame(user_data)\n",
    "user_df.head()"
   ],
   "metadata": {
    "collapsed": false,
    "pycharm": {
     "name": "#%%\n"
    }
   }
  },
  {
   "cell_type": "code",
   "execution_count": 8,
   "outputs": [
    {
     "data": {
      "text/plain": "                    datetime trade_type  trade_eth  trade_price  \\\n0  2023-02-13 16:37:09+00:00       SELL   3.516118   1471.65568   \n1  2023-02-13 16:37:16+00:00       SELL   4.186892   1470.81103   \n2  2023-02-13 16:37:26+00:00       SELL   3.559441   1469.84919   \n3  2023-02-13 16:37:35+00:00        BUY   5.613511   1468.78132   \n4  2023-02-13 16:38:02+00:00       SELL   3.454447   1469.56601   \n5  2023-02-13 16:38:06+00:00       SELL   4.179520   1469.34290   \n6  2023-02-13 16:38:09+00:00       SELL   6.522324   1468.75581   \n7  2023-02-13 16:38:12+00:00       SELL   6.110772   1466.06601   \n8  2023-02-13 16:38:15+00:00       SELL   6.111978   1465.64210   \n9  2023-02-13 16:38:20+00:00        BUY   3.236609   1464.72795   \n10 2023-02-13 16:38:24+00:00        BUY   3.525014   1465.08616   \n11 2023-02-13 16:38:29+00:00        BUY   3.064731   1466.55276   \n12 2023-02-13 16:38:32+00:00       SELL   3.192121   1466.77180   \n13 2023-02-13 16:38:36+00:00       SELL   3.217186   1466.23546   \n14 2023-02-13 16:38:44+00:00        BUY   3.195094   1465.47177   \n15 2023-02-13 16:38:53+00:00        BUY   4.871475   1465.97528   \n16 2023-02-13 16:39:06+00:00        BUY   5.194714   1466.70525   \n17 2023-02-13 16:39:15+00:00        BUY   3.315807   1469.05762   \n18 2023-02-13 16:39:21+00:00        BUY   3.997127   1469.12726   \n19 2023-02-13 16:39:37+00:00        BUY   3.893385   1469.39910   \n\n      current_usd  current_eth  trade_portfolio_profit_usd  \\\n0   152291.294039    96.483882                   -3.851007   \n1   158445.694543    92.296990                   -4.607919   \n2   163674.634556    88.737549                   -0.100902   \n3   155423.832653    94.351060                    6.144062   \n4   160497.563341    90.896613                   -1.095444   \n5   166635.247436    86.717093                   -2.528011   \n6   176209.200205    80.194769                   -0.478667   \n7   185166.445632    74.083996                   51.243055   \n8   194119.692387    67.972019                   57.503933   \n9   189376.021553    71.208628                   83.863861   \n10  184207.616605    74.733642                   69.594142   \n11  179710.552292    77.798373                   30.064600   \n12  184390.079532    74.606252                   22.616310   \n13  189104.560507    71.389066                   33.564659   \n14  184419.627541    74.584160                   52.801514   \n15  177274.536466    79.455635                   36.374652   \n16  169650.408822    84.650349                   16.364294   \n17  164776.822178    87.966155                  -22.219230   \n18  158901.233573    91.963282                  -26.358139   \n19  153177.090289    95.856667                  -31.749510   \n\n    tick_portfolio_profit_usd   tick_price  price_diff  price_diff_in_tick  \\\n0                   -2.270948  1471.206304    0.449376                   3   \n1                   -1.988059  1470.470921    0.340109                   2   \n2                    2.830066  1469.588948    0.260242                   2   \n3                    4.071810  1469.148159   -0.366839                  -2   \n4                    1.370993  1469.295074    0.270936                   2   \n5                    0.058715  1469.148159    0.194741                   1   \n6                    6.294816  1468.413805    0.342005                   2   \n7                   43.635232  1466.359567   -0.293557                  -2   \n8                   67.386945  1465.333526    0.308574                   2   \n9                   79.082664  1464.894014   -0.166064                  -1   \n10                  59.641748  1465.480059   -0.393899                  -3   \n11                  27.842361  1466.652854   -0.100094                  -1   \n12                  29.360816  1466.506203    0.265597                   2   \n13                  42.597502  1465.919747    0.315713                   2   \n14                  48.866200  1465.626607   -0.154837                  -1   \n15                  34.503902  1466.066339   -0.091059                  -1   \n16                  12.665815  1466.946199   -0.240949                  -2   \n17                 -21.540989  1469.001259    0.056361                   0   \n18                 -27.706812  1469.295074   -0.167814                  -1   \n19                 -31.927273  1469.442003   -0.042903                   0   \n\n        fees  uniswap_fees    tick             amountIn            amountOut  \\\n0   3.851007      2.587257 -203382  3516117741730628903           5170663639   \n1   3.726801      3.079064 -203387  4186892251423356044           6154400504   \n2   2.902046      2.615921 -203393  3559441400205692687           5228940013   \n3   5.781870      4.125401 -203396           8250801903  5613510956742205013   \n4   2.806839      2.538269 -203395  3454446749687345942           5073730688   \n5   3.463624      3.070574 -203396  4179519783531603929           6137684095   \n6   5.748918      4.789851 -203401  6522324284006071922           9573952769   \n7   1.550389      4.479398 -203415  6110772471946200474           8957245427   \n8   4.725175      4.478986 -203422  6111977767070282417           8953246755   \n9   2.918451      2.371835 -203425           4743670834  3236609489830158433   \n10  3.956362      2.584202 -203421           5168404948  3525013563909371113   \n11  2.473901      2.248532 -203413           4497064313  3064731480924258595   \n12  2.585246      2.341056 -203414  3192120605000946199           4679527240   \n13  2.671334      2.358576 -203418  3217186077907646868           4714480975   \n14  2.613029      2.342466 -203420           4684932966  3195093916602900001   \n15  3.629733      3.572546 -203417           7145091075  4871474601116259767   \n16  5.013588      3.812064 -203411           7624127644  5194713836645496406   \n17  2.475465      2.436793 -203397           4873586644  3315806754312145096   \n18  3.300872      2.937794 -203395           5875588605  3997126656595429617   \n19  3.206669      2.862072 -203394           5724143284  3893385136052845170   \n\n    amountInUSD  amountOutUSD  \n0   5174.514646   5170.663639  \n1   6158.127305   6154.400504  \n2   5231.842059   5228.940013  \n3   8250.801903   8245.020033  \n4   5076.537527   5073.730688  \n5   6141.147719   6137.684095  \n6   9579.701687   9573.952769  \n7   8958.795816   8957.245427  \n8   8957.971930   8953.246755  \n9   4743.670834   4740.752383  \n10  5168.404948   5164.448586  \n11  4497.064313   4494.590412  \n12  4682.112486   4679.527240  \n13  4717.152309   4714.480975  \n14  4684.932966   4682.319937  \n15  7145.091075   7141.461342  \n16  7624.127644   7619.114056  \n17  4873.586644   4871.111179  \n18  5875.588605   5872.287733  \n19  5724.143284   5720.936615  ",
      "text/html": "<div>\n<style scoped>\n    .dataframe tbody tr th:only-of-type {\n        vertical-align: middle;\n    }\n\n    .dataframe tbody tr th {\n        vertical-align: top;\n    }\n\n    .dataframe thead th {\n        text-align: right;\n    }\n</style>\n<table border=\"1\" class=\"dataframe\">\n  <thead>\n    <tr style=\"text-align: right;\">\n      <th></th>\n      <th>datetime</th>\n      <th>trade_type</th>\n      <th>trade_eth</th>\n      <th>trade_price</th>\n      <th>current_usd</th>\n      <th>current_eth</th>\n      <th>trade_portfolio_profit_usd</th>\n      <th>tick_portfolio_profit_usd</th>\n      <th>tick_price</th>\n      <th>price_diff</th>\n      <th>price_diff_in_tick</th>\n      <th>fees</th>\n      <th>uniswap_fees</th>\n      <th>tick</th>\n      <th>amountIn</th>\n      <th>amountOut</th>\n      <th>amountInUSD</th>\n      <th>amountOutUSD</th>\n    </tr>\n  </thead>\n  <tbody>\n    <tr>\n      <th>0</th>\n      <td>2023-02-13 16:37:09+00:00</td>\n      <td>SELL</td>\n      <td>3.516118</td>\n      <td>1471.65568</td>\n      <td>152291.294039</td>\n      <td>96.483882</td>\n      <td>-3.851007</td>\n      <td>-2.270948</td>\n      <td>1471.206304</td>\n      <td>0.449376</td>\n      <td>3</td>\n      <td>3.851007</td>\n      <td>2.587257</td>\n      <td>-203382</td>\n      <td>3516117741730628903</td>\n      <td>5170663639</td>\n      <td>5174.514646</td>\n      <td>5170.663639</td>\n    </tr>\n    <tr>\n      <th>1</th>\n      <td>2023-02-13 16:37:16+00:00</td>\n      <td>SELL</td>\n      <td>4.186892</td>\n      <td>1470.81103</td>\n      <td>158445.694543</td>\n      <td>92.296990</td>\n      <td>-4.607919</td>\n      <td>-1.988059</td>\n      <td>1470.470921</td>\n      <td>0.340109</td>\n      <td>2</td>\n      <td>3.726801</td>\n      <td>3.079064</td>\n      <td>-203387</td>\n      <td>4186892251423356044</td>\n      <td>6154400504</td>\n      <td>6158.127305</td>\n      <td>6154.400504</td>\n    </tr>\n    <tr>\n      <th>2</th>\n      <td>2023-02-13 16:37:26+00:00</td>\n      <td>SELL</td>\n      <td>3.559441</td>\n      <td>1469.84919</td>\n      <td>163674.634556</td>\n      <td>88.737549</td>\n      <td>-0.100902</td>\n      <td>2.830066</td>\n      <td>1469.588948</td>\n      <td>0.260242</td>\n      <td>2</td>\n      <td>2.902046</td>\n      <td>2.615921</td>\n      <td>-203393</td>\n      <td>3559441400205692687</td>\n      <td>5228940013</td>\n      <td>5231.842059</td>\n      <td>5228.940013</td>\n    </tr>\n    <tr>\n      <th>3</th>\n      <td>2023-02-13 16:37:35+00:00</td>\n      <td>BUY</td>\n      <td>5.613511</td>\n      <td>1468.78132</td>\n      <td>155423.832653</td>\n      <td>94.351060</td>\n      <td>6.144062</td>\n      <td>4.071810</td>\n      <td>1469.148159</td>\n      <td>-0.366839</td>\n      <td>-2</td>\n      <td>5.781870</td>\n      <td>4.125401</td>\n      <td>-203396</td>\n      <td>8250801903</td>\n      <td>5613510956742205013</td>\n      <td>8250.801903</td>\n      <td>8245.020033</td>\n    </tr>\n    <tr>\n      <th>4</th>\n      <td>2023-02-13 16:38:02+00:00</td>\n      <td>SELL</td>\n      <td>3.454447</td>\n      <td>1469.56601</td>\n      <td>160497.563341</td>\n      <td>90.896613</td>\n      <td>-1.095444</td>\n      <td>1.370993</td>\n      <td>1469.295074</td>\n      <td>0.270936</td>\n      <td>2</td>\n      <td>2.806839</td>\n      <td>2.538269</td>\n      <td>-203395</td>\n      <td>3454446749687345942</td>\n      <td>5073730688</td>\n      <td>5076.537527</td>\n      <td>5073.730688</td>\n    </tr>\n    <tr>\n      <th>5</th>\n      <td>2023-02-13 16:38:06+00:00</td>\n      <td>SELL</td>\n      <td>4.179520</td>\n      <td>1469.34290</td>\n      <td>166635.247436</td>\n      <td>86.717093</td>\n      <td>-2.528011</td>\n      <td>0.058715</td>\n      <td>1469.148159</td>\n      <td>0.194741</td>\n      <td>1</td>\n      <td>3.463624</td>\n      <td>3.070574</td>\n      <td>-203396</td>\n      <td>4179519783531603929</td>\n      <td>6137684095</td>\n      <td>6141.147719</td>\n      <td>6137.684095</td>\n    </tr>\n    <tr>\n      <th>6</th>\n      <td>2023-02-13 16:38:09+00:00</td>\n      <td>SELL</td>\n      <td>6.522324</td>\n      <td>1468.75581</td>\n      <td>176209.200205</td>\n      <td>80.194769</td>\n      <td>-0.478667</td>\n      <td>6.294816</td>\n      <td>1468.413805</td>\n      <td>0.342005</td>\n      <td>2</td>\n      <td>5.748918</td>\n      <td>4.789851</td>\n      <td>-203401</td>\n      <td>6522324284006071922</td>\n      <td>9573952769</td>\n      <td>9579.701687</td>\n      <td>9573.952769</td>\n    </tr>\n    <tr>\n      <th>7</th>\n      <td>2023-02-13 16:38:12+00:00</td>\n      <td>SELL</td>\n      <td>6.110772</td>\n      <td>1466.06601</td>\n      <td>185166.445632</td>\n      <td>74.083996</td>\n      <td>51.243055</td>\n      <td>43.635232</td>\n      <td>1466.359567</td>\n      <td>-0.293557</td>\n      <td>-2</td>\n      <td>1.550389</td>\n      <td>4.479398</td>\n      <td>-203415</td>\n      <td>6110772471946200474</td>\n      <td>8957245427</td>\n      <td>8958.795816</td>\n      <td>8957.245427</td>\n    </tr>\n    <tr>\n      <th>8</th>\n      <td>2023-02-13 16:38:15+00:00</td>\n      <td>SELL</td>\n      <td>6.111978</td>\n      <td>1465.64210</td>\n      <td>194119.692387</td>\n      <td>67.972019</td>\n      <td>57.503933</td>\n      <td>67.386945</td>\n      <td>1465.333526</td>\n      <td>0.308574</td>\n      <td>2</td>\n      <td>4.725175</td>\n      <td>4.478986</td>\n      <td>-203422</td>\n      <td>6111977767070282417</td>\n      <td>8953246755</td>\n      <td>8957.971930</td>\n      <td>8953.246755</td>\n    </tr>\n    <tr>\n      <th>9</th>\n      <td>2023-02-13 16:38:20+00:00</td>\n      <td>BUY</td>\n      <td>3.236609</td>\n      <td>1464.72795</td>\n      <td>189376.021553</td>\n      <td>71.208628</td>\n      <td>83.863861</td>\n      <td>79.082664</td>\n      <td>1464.894014</td>\n      <td>-0.166064</td>\n      <td>-1</td>\n      <td>2.918451</td>\n      <td>2.371835</td>\n      <td>-203425</td>\n      <td>4743670834</td>\n      <td>3236609489830158433</td>\n      <td>4743.670834</td>\n      <td>4740.752383</td>\n    </tr>\n    <tr>\n      <th>10</th>\n      <td>2023-02-13 16:38:24+00:00</td>\n      <td>BUY</td>\n      <td>3.525014</td>\n      <td>1465.08616</td>\n      <td>184207.616605</td>\n      <td>74.733642</td>\n      <td>69.594142</td>\n      <td>59.641748</td>\n      <td>1465.480059</td>\n      <td>-0.393899</td>\n      <td>-3</td>\n      <td>3.956362</td>\n      <td>2.584202</td>\n      <td>-203421</td>\n      <td>5168404948</td>\n      <td>3525013563909371113</td>\n      <td>5168.404948</td>\n      <td>5164.448586</td>\n    </tr>\n    <tr>\n      <th>11</th>\n      <td>2023-02-13 16:38:29+00:00</td>\n      <td>BUY</td>\n      <td>3.064731</td>\n      <td>1466.55276</td>\n      <td>179710.552292</td>\n      <td>77.798373</td>\n      <td>30.064600</td>\n      <td>27.842361</td>\n      <td>1466.652854</td>\n      <td>-0.100094</td>\n      <td>-1</td>\n      <td>2.473901</td>\n      <td>2.248532</td>\n      <td>-203413</td>\n      <td>4497064313</td>\n      <td>3064731480924258595</td>\n      <td>4497.064313</td>\n      <td>4494.590412</td>\n    </tr>\n    <tr>\n      <th>12</th>\n      <td>2023-02-13 16:38:32+00:00</td>\n      <td>SELL</td>\n      <td>3.192121</td>\n      <td>1466.77180</td>\n      <td>184390.079532</td>\n      <td>74.606252</td>\n      <td>22.616310</td>\n      <td>29.360816</td>\n      <td>1466.506203</td>\n      <td>0.265597</td>\n      <td>2</td>\n      <td>2.585246</td>\n      <td>2.341056</td>\n      <td>-203414</td>\n      <td>3192120605000946199</td>\n      <td>4679527240</td>\n      <td>4682.112486</td>\n      <td>4679.527240</td>\n    </tr>\n    <tr>\n      <th>13</th>\n      <td>2023-02-13 16:38:36+00:00</td>\n      <td>SELL</td>\n      <td>3.217186</td>\n      <td>1466.23546</td>\n      <td>189104.560507</td>\n      <td>71.389066</td>\n      <td>33.564659</td>\n      <td>42.597502</td>\n      <td>1465.919747</td>\n      <td>0.315713</td>\n      <td>2</td>\n      <td>2.671334</td>\n      <td>2.358576</td>\n      <td>-203418</td>\n      <td>3217186077907646868</td>\n      <td>4714480975</td>\n      <td>4717.152309</td>\n      <td>4714.480975</td>\n    </tr>\n    <tr>\n      <th>14</th>\n      <td>2023-02-13 16:38:44+00:00</td>\n      <td>BUY</td>\n      <td>3.195094</td>\n      <td>1465.47177</td>\n      <td>184419.627541</td>\n      <td>74.584160</td>\n      <td>52.801514</td>\n      <td>48.866200</td>\n      <td>1465.626607</td>\n      <td>-0.154837</td>\n      <td>-1</td>\n      <td>2.613029</td>\n      <td>2.342466</td>\n      <td>-203420</td>\n      <td>4684932966</td>\n      <td>3195093916602900001</td>\n      <td>4684.932966</td>\n      <td>4682.319937</td>\n    </tr>\n    <tr>\n      <th>15</th>\n      <td>2023-02-13 16:38:53+00:00</td>\n      <td>BUY</td>\n      <td>4.871475</td>\n      <td>1465.97528</td>\n      <td>177274.536466</td>\n      <td>79.455635</td>\n      <td>36.374652</td>\n      <td>34.503902</td>\n      <td>1466.066339</td>\n      <td>-0.091059</td>\n      <td>-1</td>\n      <td>3.629733</td>\n      <td>3.572546</td>\n      <td>-203417</td>\n      <td>7145091075</td>\n      <td>4871474601116259767</td>\n      <td>7145.091075</td>\n      <td>7141.461342</td>\n    </tr>\n    <tr>\n      <th>16</th>\n      <td>2023-02-13 16:39:06+00:00</td>\n      <td>BUY</td>\n      <td>5.194714</td>\n      <td>1466.70525</td>\n      <td>169650.408822</td>\n      <td>84.650349</td>\n      <td>16.364294</td>\n      <td>12.665815</td>\n      <td>1466.946199</td>\n      <td>-0.240949</td>\n      <td>-2</td>\n      <td>5.013588</td>\n      <td>3.812064</td>\n      <td>-203411</td>\n      <td>7624127644</td>\n      <td>5194713836645496406</td>\n      <td>7624.127644</td>\n      <td>7619.114056</td>\n    </tr>\n    <tr>\n      <th>17</th>\n      <td>2023-02-13 16:39:15+00:00</td>\n      <td>BUY</td>\n      <td>3.315807</td>\n      <td>1469.05762</td>\n      <td>164776.822178</td>\n      <td>87.966155</td>\n      <td>-22.219230</td>\n      <td>-21.540989</td>\n      <td>1469.001259</td>\n      <td>0.056361</td>\n      <td>0</td>\n      <td>2.475465</td>\n      <td>2.436793</td>\n      <td>-203397</td>\n      <td>4873586644</td>\n      <td>3315806754312145096</td>\n      <td>4873.586644</td>\n      <td>4871.111179</td>\n    </tr>\n    <tr>\n      <th>18</th>\n      <td>2023-02-13 16:39:21+00:00</td>\n      <td>BUY</td>\n      <td>3.997127</td>\n      <td>1469.12726</td>\n      <td>158901.233573</td>\n      <td>91.963282</td>\n      <td>-26.358139</td>\n      <td>-27.706812</td>\n      <td>1469.295074</td>\n      <td>-0.167814</td>\n      <td>-1</td>\n      <td>3.300872</td>\n      <td>2.937794</td>\n      <td>-203395</td>\n      <td>5875588605</td>\n      <td>3997126656595429617</td>\n      <td>5875.588605</td>\n      <td>5872.287733</td>\n    </tr>\n    <tr>\n      <th>19</th>\n      <td>2023-02-13 16:39:37+00:00</td>\n      <td>BUY</td>\n      <td>3.893385</td>\n      <td>1469.39910</td>\n      <td>153177.090289</td>\n      <td>95.856667</td>\n      <td>-31.749510</td>\n      <td>-31.927273</td>\n      <td>1469.442003</td>\n      <td>-0.042903</td>\n      <td>0</td>\n      <td>3.206669</td>\n      <td>2.862072</td>\n      <td>-203394</td>\n      <td>5724143284</td>\n      <td>3893385136052845170</td>\n      <td>5724.143284</td>\n      <td>5720.936615</td>\n    </tr>\n  </tbody>\n</table>\n</div>"
     },
     "execution_count": 8,
     "metadata": {},
     "output_type": "execute_result"
    }
   ],
   "source": [
    "columns = [\"datetime\", \"trade_type\", \"trade_eth\", \"trade_price\", \"current_usd\", \"current_eth\", \"trade_portfolio_profit_usd\", \"tick_portfolio_profit_usd\", \"tick_price\", \"price_diff\", \"price_diff_in_tick\", \"fees\", \"uniswap_fees\", \"tick\", \"amountIn\", \"amountOut\", \"amountInUSD\", \"amountOutUSD\"]\n",
    "user_df[columns].head(20)"
   ],
   "metadata": {
    "collapsed": false,
    "pycharm": {
     "name": "#%%\n"
    }
   }
  },
  {
   "cell_type": "code",
   "execution_count": 18,
   "outputs": [
    {
     "name": "stdout",
     "output_type": "stream",
     "text": [
      "-0.4782946420891676\n"
     ]
    }
   ],
   "source": [
    "current_price = 1468.75581\n",
    "print(176209.200205 + 80.194769 * current_price - 100 * 1471.206304 - 100 * current_price)"
   ],
   "metadata": {
    "collapsed": false,
    "pycharm": {
     "name": "#%%\n"
    }
   }
  },
  {
   "cell_type": "code",
   "execution_count": 19,
   "outputs": [
    {
     "name": "stdout",
     "output_type": "stream",
     "text": [
      "51.24265257595107\n"
     ]
    }
   ],
   "source": [
    "current_price = 1466.06601\n",
    "print(185166.445632 + 74.083996 * current_price - 100 * 1471.206304 - 100 * current_price)"
   ],
   "metadata": {
    "collapsed": false,
    "pycharm": {
     "name": "#%%\n"
    }
   }
  },
  {
   "cell_type": "code",
   "execution_count": 11,
   "outputs": [
    {
     "data": {
      "text/plain": "8"
     },
     "execution_count": 11,
     "metadata": {},
     "output_type": "execute_result"
    }
   ],
   "source": [
    "data = user_df[[\"trade_type\", \"trade_eth\", \"trade_price\", \"fees\"]].to_dict(\"records\")[:8]\n",
    "len(data)"
   ],
   "metadata": {
    "collapsed": false,
    "pycharm": {
     "name": "#%%\n"
    }
   }
  },
  {
   "cell_type": "code",
   "execution_count": 14,
   "outputs": [
    {
     "name": "stdout",
     "output_type": "stream",
     "text": [
      "1 1471.6556799999998\n",
      "2 1471.1965791364014\n",
      "3 1470.7707435428183\n",
      "5 1470.4879605928531\n",
      "6 1470.2346954809273\n",
      "7 1469.8552207372281\n",
      "8 1469.1208293297927\n"
     ]
    }
   ],
   "source": [
    "sell_usd = 0\n",
    "sell_amount = 0\n",
    "for i, item in enumerate(data):\n",
    "    if item[\"trade_type\"] == \"SELL\":\n",
    "        sell_usd += item[\"trade_eth\"] * item[\"trade_price\"]\n",
    "        sell_amount += item[\"trade_eth\"]\n",
    "        print(i+1, sell_usd/sell_amount)"
   ],
   "metadata": {
    "collapsed": false,
    "pycharm": {
     "name": "#%%\n"
    }
   }
  },
  {
   "cell_type": "code",
   "execution_count": null,
   "outputs": [],
   "source": [
    "# q1: 为什么以 trade_price 计价，fees 与 trade_portfolio_profit_usd 相等"
   ],
   "metadata": {
    "collapsed": false,
    "pycharm": {
     "name": "#%%\n"
    }
   }
  }
 ],
 "metadata": {
  "kernelspec": {
   "display_name": "Python 3",
   "language": "python",
   "name": "python3"
  },
  "language_info": {
   "codemirror_mode": {
    "name": "ipython",
    "version": 2
   },
   "file_extension": ".py",
   "mimetype": "text/x-python",
   "name": "python",
   "nbconvert_exporter": "python",
   "pygments_lexer": "ipython2",
   "version": "2.7.6"
  }
 },
 "nbformat": 4,
 "nbformat_minor": 0
}