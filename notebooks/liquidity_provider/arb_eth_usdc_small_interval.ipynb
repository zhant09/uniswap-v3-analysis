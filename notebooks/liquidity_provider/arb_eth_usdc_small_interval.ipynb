{
 "cells": [
  {
   "cell_type": "markdown",
   "source": [
    "1. 小区间质押是否可能获得高额利润"
   ],
   "metadata": {
    "collapsed": false
   }
  },
  {
   "cell_type": "code",
   "execution_count": 2,
   "outputs": [],
   "source": [
    "POOL_ID = \"0xc31e54c7a869b9fcbecc14363cf510d1c41fa443\"\n",
    "\n",
    "arbitrum_query = \"\"\" query get_pools($num_skip: Int, $pool_id: ID!) {\n",
    "    liquidityPool(id: $pool_id) {\n",
    "        dailySnapshots(skip: $num_skip, orderBy: day, orderDirection: desc) {\n",
    "            day\n",
    "            dailyVolumeUSD\n",
    "            dailyTotalRevenueUSD\n",
    "            totalValueLockedUSD\n",
    "        }\n",
    "    }\n",
    "}\"\"\""
   ],
   "metadata": {
    "collapsed": false,
    "ExecuteTime": {
     "end_time": "2023-07-19T06:30:02.384040Z",
     "start_time": "2023-07-19T06:30:02.378377Z"
    }
   }
  },
  {
   "cell_type": "code",
   "execution_count": 3,
   "outputs": [
    {
     "name": "stdout",
     "output_type": "stream",
     "text": [
      "Querying ticks, num_skip=0\n",
      "79\n",
      "[{'day': 19556, 'dailyVolumeUSD': '62645858.87339231038231371303131', 'dailyTotalRevenueUSD': '31322.92943669615519115685651945', 'totalValueLockedUSD': '43991968.86397924299999433932886'}, {'day': 19555, 'dailyVolumeUSD': '78836539.34931248039460595756886', 'dailyTotalRevenueUSD': '39418.2696746562401973029787891', 'totalValueLockedUSD': '44594966.108651452749034656584'}, {'day': 19554, 'dailyVolumeUSD': '43233649.01354901681799617409771', 'dailyTotalRevenueUSD': '21616.82450677450840899808705174', 'totalValueLockedUSD': '46212787.3971710232147209161641'}, {'day': 19553, 'dailyVolumeUSD': '29838778.31630346908133923990871', 'dailyTotalRevenueUSD': '14919.38915815173454066961995703', 'totalValueLockedUSD': '46504482.69780273868477842499168'}, {'day': 19552, 'dailyVolumeUSD': '129294121.16599334024223784584379', 'dailyTotalRevenueUSD': '64647.06058299667012111892292883', 'totalValueLockedUSD': '46430790.59592811944603207193834'}, {'day': 19551, 'dailyVolumeUSD': '139865795.7372480261744302878906', 'dailyTotalRevenueUSD': '69932.89786862401308721514395327', 'totalValueLockedUSD': '48780505.978358664069213323166'}, {'day': 19550, 'dailyVolumeUSD': '74315968.17756555235462961930677', 'dailyTotalRevenueUSD': '37157.98408878277617731480965724', 'totalValueLockedUSD': '48455887.1980883254924238911758'}, {'day': 19549, 'dailyVolumeUSD': '53052523.36632775915182205320189', 'dailyTotalRevenueUSD': '26526.26168316387957591102660498', 'totalValueLockedUSD': '48310684.69251833077623010601514'}, {'day': 19548, 'dailyVolumeUSD': '77745245.39011724948120377899313', 'dailyTotalRevenueUSD': '38872.62269505862474060188950061', 'totalValueLockedUSD': '47405256.2452423421199912397739'}, {'day': 19547, 'dailyVolumeUSD': '44302710.62624586711909280327427', 'dailyTotalRevenueUSD': '22151.35531312293355954640164078', 'totalValueLockedUSD': '47673881.89373052205582117893314'}]\n"
     ]
    }
   ],
   "source": [
    "from gql import gql, Client\n",
    "from gql.transport.requests import RequestsHTTPTransport\n",
    "\n",
    "\n",
    "client = Client(\n",
    "    transport=RequestsHTTPTransport(\n",
    "        url='https://api.thegraph.com/subgraphs/name/messari/uniswap-v3-arbitrum',\n",
    "        verify=True,\n",
    "        retries=5,\n",
    "    ))\n",
    "\n",
    "\n",
    "num_skip = 0\n",
    "result = []\n",
    "is_break = False\n",
    "while True:\n",
    "    print(\"Querying ticks, num_skip={}\".format(num_skip))\n",
    "    variables = {\"num_skip\": num_skip, \"pool_id\": POOL_ID}\n",
    "    response = client.execute(gql(arbitrum_query), variable_values=variables)\n",
    "    query_result = response[\"liquidityPool\"][\"dailySnapshots\"]\n",
    "    for item in query_result:\n",
    "        day = int(item[\"day\"])\n",
    "        if day <= 19477:\n",
    "            is_break = True\n",
    "            break\n",
    "        result.append(item)\n",
    "\n",
    "    if is_break == True or len(query_result) == 0:\n",
    "        break\n",
    "\n",
    "    num_skip = len(result)\n",
    "\n",
    "\n",
    "print(len(result))\n",
    "print(result[:10])"
   ],
   "metadata": {
    "collapsed": false,
    "ExecuteTime": {
     "end_time": "2023-07-19T06:30:05.696586Z",
     "start_time": "2023-07-19T06:30:04.716917Z"
    }
   }
  },
  {
   "cell_type": "code",
   "execution_count": 4,
   "outputs": [
    {
     "data": {
      "text/plain": "     day                     dailyVolumeUSD              dailyTotalRevenueUSD  \\\n0  19556   62645858.87339231038231371303131  31322.92943669615519115685651945   \n1  19555   78836539.34931248039460595756886   39418.2696746562401973029787891   \n2  19554   43233649.01354901681799617409771  21616.82450677450840899808705174   \n3  19553   29838778.31630346908133923990871  14919.38915815173454066961995703   \n4  19552  129294121.16599334024223784584379  64647.06058299667012111892292883   \n\n                totalValueLockedUSD        date  \n0  43991968.86397924299999433932886  2023-07-18  \n1    44594966.108651452749034656584  2023-07-17  \n2   46212787.3971710232147209161641  2023-07-16  \n3  46504482.69780273868477842499168  2023-07-15  \n4  46430790.59592811944603207193834  2023-07-14  ",
      "text/html": "<div>\n<style scoped>\n    .dataframe tbody tr th:only-of-type {\n        vertical-align: middle;\n    }\n\n    .dataframe tbody tr th {\n        vertical-align: top;\n    }\n\n    .dataframe thead th {\n        text-align: right;\n    }\n</style>\n<table border=\"1\" class=\"dataframe\">\n  <thead>\n    <tr style=\"text-align: right;\">\n      <th></th>\n      <th>day</th>\n      <th>dailyVolumeUSD</th>\n      <th>dailyTotalRevenueUSD</th>\n      <th>totalValueLockedUSD</th>\n      <th>date</th>\n    </tr>\n  </thead>\n  <tbody>\n    <tr>\n      <th>0</th>\n      <td>19556</td>\n      <td>62645858.87339231038231371303131</td>\n      <td>31322.92943669615519115685651945</td>\n      <td>43991968.86397924299999433932886</td>\n      <td>2023-07-18</td>\n    </tr>\n    <tr>\n      <th>1</th>\n      <td>19555</td>\n      <td>78836539.34931248039460595756886</td>\n      <td>39418.2696746562401973029787891</td>\n      <td>44594966.108651452749034656584</td>\n      <td>2023-07-17</td>\n    </tr>\n    <tr>\n      <th>2</th>\n      <td>19554</td>\n      <td>43233649.01354901681799617409771</td>\n      <td>21616.82450677450840899808705174</td>\n      <td>46212787.3971710232147209161641</td>\n      <td>2023-07-16</td>\n    </tr>\n    <tr>\n      <th>3</th>\n      <td>19553</td>\n      <td>29838778.31630346908133923990871</td>\n      <td>14919.38915815173454066961995703</td>\n      <td>46504482.69780273868477842499168</td>\n      <td>2023-07-15</td>\n    </tr>\n    <tr>\n      <th>4</th>\n      <td>19552</td>\n      <td>129294121.16599334024223784584379</td>\n      <td>64647.06058299667012111892292883</td>\n      <td>46430790.59592811944603207193834</td>\n      <td>2023-07-14</td>\n    </tr>\n  </tbody>\n</table>\n</div>"
     },
     "execution_count": 4,
     "metadata": {},
     "output_type": "execute_result"
    }
   ],
   "source": [
    "import pandas as pd\n",
    "\n",
    "from datetime import datetime, timedelta\n",
    "\n",
    "\n",
    "def unixtime_to_day_before(day_count, unixtime=0):\n",
    "    current_date = datetime.fromtimestamp(unixtime) + timedelta(days=day_count)\n",
    "    return current_date.strftime(\"%Y-%m-%d\")\n",
    "\n",
    "\n",
    "arb_df = pd.DataFrame(result)\n",
    "arb_df[\"date\"] = arb_df[\"day\"].apply(unixtime_to_day_before)\n",
    "arb_df.head()"
   ],
   "metadata": {
    "collapsed": false,
    "ExecuteTime": {
     "end_time": "2023-07-19T06:31:19.875832Z",
     "start_time": "2023-07-19T06:31:19.555844Z"
    }
   }
  },
  {
   "cell_type": "code",
   "execution_count": 6,
   "outputs": [
    {
     "data": {
      "text/plain": "         date  dailyTotalVolumeUSD  dailyTotalRevenueUSD  totalValueLockedUSD\n0  2023-04-30         1.294347e+08              64717.36          58969074.13\n1  2023-04-29         5.831820e+07              29159.10          59522967.00\n2  2023-04-28         1.291540e+08              64576.98          58623166.41\n3  2023-04-27         2.670841e+08             133542.06          53907496.47\n4  2023-04-26         2.884190e+08             144209.50          50551198.16",
      "text/html": "<div>\n<style scoped>\n    .dataframe tbody tr th:only-of-type {\n        vertical-align: middle;\n    }\n\n    .dataframe tbody tr th {\n        vertical-align: top;\n    }\n\n    .dataframe thead th {\n        text-align: right;\n    }\n</style>\n<table border=\"1\" class=\"dataframe\">\n  <thead>\n    <tr style=\"text-align: right;\">\n      <th></th>\n      <th>date</th>\n      <th>dailyTotalVolumeUSD</th>\n      <th>dailyTotalRevenueUSD</th>\n      <th>totalValueLockedUSD</th>\n    </tr>\n  </thead>\n  <tbody>\n    <tr>\n      <th>0</th>\n      <td>2023-04-30</td>\n      <td>1.294347e+08</td>\n      <td>64717.36</td>\n      <td>58969074.13</td>\n    </tr>\n    <tr>\n      <th>1</th>\n      <td>2023-04-29</td>\n      <td>5.831820e+07</td>\n      <td>29159.10</td>\n      <td>59522967.00</td>\n    </tr>\n    <tr>\n      <th>2</th>\n      <td>2023-04-28</td>\n      <td>1.291540e+08</td>\n      <td>64576.98</td>\n      <td>58623166.41</td>\n    </tr>\n    <tr>\n      <th>3</th>\n      <td>2023-04-27</td>\n      <td>2.670841e+08</td>\n      <td>133542.06</td>\n      <td>53907496.47</td>\n    </tr>\n    <tr>\n      <th>4</th>\n      <td>2023-04-26</td>\n      <td>2.884190e+08</td>\n      <td>144209.50</td>\n      <td>50551198.16</td>\n    </tr>\n  </tbody>\n</table>\n</div>"
     },
     "execution_count": 6,
     "metadata": {},
     "output_type": "execute_result"
    }
   ],
   "source": [
    "arb_df[\"dailyVolumeUSD\"] = arb_df[\"dailyVolumeUSD\"].astype(float).round(2)\n",
    "arb_df[\"dailyTotalRevenueUSD\"] = arb_df[\"dailyTotalRevenueUSD\"].astype(float).round(2)\n",
    "arb_df[\"totalValueLockedUSD\"] = arb_df[\"totalValueLockedUSD\"].astype(float).round(2)\n",
    "arb_df[\"date\"] = arb_df[\"date\"].astype(str)\n",
    "arb_df = arb_df[['date', 'dailyVolumeUSD', 'dailyTotalRevenueUSD', 'totalValueLockedUSD']]\n",
    "\n",
    "arb_old_df = pd.read_csv(\"../../data/arb_data_20230718.csv\")\n",
    "# arb_old_df.rename(columns={'dailyTotalVolumeUSD': 'dailyVolumeUSD'}, inplace=True)\n",
    "arb_df = pd.concat([arb_df, arb_old_df])\n",
    "arb_df.to_csv(\"../../data/arb_data_20230718.csv\", index=False)"
   ],
   "metadata": {
    "collapsed": false,
    "ExecuteTime": {
     "end_time": "2023-07-19T06:32:53.695177Z",
     "start_time": "2023-07-19T06:32:53.686317Z"
    }
   }
  },
  {
   "cell_type": "code",
   "execution_count": null,
   "outputs": [],
   "source": [],
   "metadata": {
    "collapsed": false
   }
  }
 ],
 "metadata": {
  "kernelspec": {
   "display_name": "Python 3",
   "language": "python",
   "name": "python3"
  },
  "language_info": {
   "codemirror_mode": {
    "name": "ipython",
    "version": 2
   },
   "file_extension": ".py",
   "mimetype": "text/x-python",
   "name": "python",
   "nbconvert_exporter": "python",
   "pygments_lexer": "ipython2",
   "version": "2.7.6"
  }
 },
 "nbformat": 4,
 "nbformat_minor": 0
}
