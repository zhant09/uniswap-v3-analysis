{
 "cells": [
  {
   "cell_type": "markdown",
   "source": [
    "1. 小区间质押是否可能获得高额利润"
   ],
   "metadata": {
    "collapsed": false
   }
  },
  {
   "cell_type": "code",
   "execution_count": 2,
   "outputs": [],
   "source": [
    "# 获取并存储天级数据\n",
    "POOL_ID = \"0xc31e54c7a869b9fcbecc14363cf510d1c41fa443\"\n",
    "\n",
    "arbitrum_query = \"\"\" query get_pools($num_skip: Int, $pool_id: ID!) {\n",
    "    liquidityPool(id: $pool_id) {\n",
    "        dailySnapshots(skip: $num_skip, orderBy: day, orderDirection: desc) {\n",
    "            day\n",
    "            dailyVolumeUSD\n",
    "            dailyTotalRevenueUSD\n",
    "            totalValueLockedUSD\n",
    "        }\n",
    "    }\n",
    "}\"\"\""
   ],
   "metadata": {
    "collapsed": false,
    "ExecuteTime": {
     "end_time": "2023-07-19T06:30:02.384040Z",
     "start_time": "2023-07-19T06:30:02.378377Z"
    }
   }
  },
  {
   "cell_type": "code",
   "execution_count": null,
   "outputs": [],
   "source": [
    "num_skip = 0\n",
    "result = []\n",
    "is_break = False"
   ],
   "metadata": {
    "collapsed": false
   }
  },
  {
   "cell_type": "code",
   "execution_count": null,
   "outputs": [],
   "source": [
    "from gql import gql, Client\n",
    "from gql.transport.requests import RequestsHTTPTransport\n",
    "\n",
    "\n",
    "client = Client(\n",
    "    transport=RequestsHTTPTransport(\n",
    "        url='https://api.thegraph.com/subgraphs/name/messari/uniswap-v3-arbitrum',\n",
    "        verify=True,\n",
    "        retries=5,\n",
    "    ))\n",
    "\n",
    "while True:\n",
    "    print(\"Querying ticks, num_skip={}\".format(num_skip))\n",
    "    variables = {\"num_skip\": num_skip, \"pool_id\": POOL_ID}\n",
    "    response = client.execute(gql(arbitrum_query), variable_values=variables)\n",
    "    query_result = response[\"liquidityPool\"][\"dailySnapshots\"]\n",
    "    for item in query_result:\n",
    "        day = int(item[\"day\"])\n",
    "        # todo: 修改这个部分\n",
    "        if day <= 19477:\n",
    "            is_break = True\n",
    "            break\n",
    "        result.append(item)\n",
    "\n",
    "    if is_break == True or len(query_result) == 0:\n",
    "        break\n",
    "\n",
    "    num_skip = len(result)"
   ],
   "metadata": {
    "collapsed": false
   }
  },
  {
   "cell_type": "code",
   "execution_count": 4,
   "outputs": [
    {
     "data": {
      "text/plain": "     day                     dailyVolumeUSD              dailyTotalRevenueUSD  \\\n0  19556   62645858.87339231038231371303131  31322.92943669615519115685651945   \n1  19555   78836539.34931248039460595756886   39418.2696746562401973029787891   \n2  19554   43233649.01354901681799617409771  21616.82450677450840899808705174   \n3  19553   29838778.31630346908133923990871  14919.38915815173454066961995703   \n4  19552  129294121.16599334024223784584379  64647.06058299667012111892292883   \n\n                totalValueLockedUSD        date  \n0  43991968.86397924299999433932886  2023-07-18  \n1    44594966.108651452749034656584  2023-07-17  \n2   46212787.3971710232147209161641  2023-07-16  \n3  46504482.69780273868477842499168  2023-07-15  \n4  46430790.59592811944603207193834  2023-07-14  ",
      "text/html": "<div>\n<style scoped>\n    .dataframe tbody tr th:only-of-type {\n        vertical-align: middle;\n    }\n\n    .dataframe tbody tr th {\n        vertical-align: top;\n    }\n\n    .dataframe thead th {\n        text-align: right;\n    }\n</style>\n<table border=\"1\" class=\"dataframe\">\n  <thead>\n    <tr style=\"text-align: right;\">\n      <th></th>\n      <th>day</th>\n      <th>dailyVolumeUSD</th>\n      <th>dailyTotalRevenueUSD</th>\n      <th>totalValueLockedUSD</th>\n      <th>date</th>\n    </tr>\n  </thead>\n  <tbody>\n    <tr>\n      <th>0</th>\n      <td>19556</td>\n      <td>62645858.87339231038231371303131</td>\n      <td>31322.92943669615519115685651945</td>\n      <td>43991968.86397924299999433932886</td>\n      <td>2023-07-18</td>\n    </tr>\n    <tr>\n      <th>1</th>\n      <td>19555</td>\n      <td>78836539.34931248039460595756886</td>\n      <td>39418.2696746562401973029787891</td>\n      <td>44594966.108651452749034656584</td>\n      <td>2023-07-17</td>\n    </tr>\n    <tr>\n      <th>2</th>\n      <td>19554</td>\n      <td>43233649.01354901681799617409771</td>\n      <td>21616.82450677450840899808705174</td>\n      <td>46212787.3971710232147209161641</td>\n      <td>2023-07-16</td>\n    </tr>\n    <tr>\n      <th>3</th>\n      <td>19553</td>\n      <td>29838778.31630346908133923990871</td>\n      <td>14919.38915815173454066961995703</td>\n      <td>46504482.69780273868477842499168</td>\n      <td>2023-07-15</td>\n    </tr>\n    <tr>\n      <th>4</th>\n      <td>19552</td>\n      <td>129294121.16599334024223784584379</td>\n      <td>64647.06058299667012111892292883</td>\n      <td>46430790.59592811944603207193834</td>\n      <td>2023-07-14</td>\n    </tr>\n  </tbody>\n</table>\n</div>"
     },
     "execution_count": 4,
     "metadata": {},
     "output_type": "execute_result"
    }
   ],
   "source": [
    "import pandas as pd\n",
    "\n",
    "from datetime import datetime, timedelta\n",
    "\n",
    "\n",
    "def unixtime_to_day_before(day_count, unixtime=0):\n",
    "    current_date = datetime.fromtimestamp(unixtime) + timedelta(days=day_count)\n",
    "    return current_date.strftime(\"%Y-%m-%d\")\n",
    "\n",
    "\n",
    "arb_df = pd.DataFrame(result)\n",
    "arb_df[\"date\"] = arb_df[\"day\"].apply(unixtime_to_day_before)\n",
    "arb_df.head()"
   ],
   "metadata": {
    "collapsed": false,
    "ExecuteTime": {
     "end_time": "2023-07-19T06:31:19.875832Z",
     "start_time": "2023-07-19T06:31:19.555844Z"
    }
   }
  },
  {
   "cell_type": "code",
   "execution_count": 6,
   "outputs": [
    {
     "data": {
      "text/plain": "         date  dailyTotalVolumeUSD  dailyTotalRevenueUSD  totalValueLockedUSD\n0  2023-04-30         1.294347e+08              64717.36          58969074.13\n1  2023-04-29         5.831820e+07              29159.10          59522967.00\n2  2023-04-28         1.291540e+08              64576.98          58623166.41\n3  2023-04-27         2.670841e+08             133542.06          53907496.47\n4  2023-04-26         2.884190e+08             144209.50          50551198.16",
      "text/html": "<div>\n<style scoped>\n    .dataframe tbody tr th:only-of-type {\n        vertical-align: middle;\n    }\n\n    .dataframe tbody tr th {\n        vertical-align: top;\n    }\n\n    .dataframe thead th {\n        text-align: right;\n    }\n</style>\n<table border=\"1\" class=\"dataframe\">\n  <thead>\n    <tr style=\"text-align: right;\">\n      <th></th>\n      <th>date</th>\n      <th>dailyTotalVolumeUSD</th>\n      <th>dailyTotalRevenueUSD</th>\n      <th>totalValueLockedUSD</th>\n    </tr>\n  </thead>\n  <tbody>\n    <tr>\n      <th>0</th>\n      <td>2023-04-30</td>\n      <td>1.294347e+08</td>\n      <td>64717.36</td>\n      <td>58969074.13</td>\n    </tr>\n    <tr>\n      <th>1</th>\n      <td>2023-04-29</td>\n      <td>5.831820e+07</td>\n      <td>29159.10</td>\n      <td>59522967.00</td>\n    </tr>\n    <tr>\n      <th>2</th>\n      <td>2023-04-28</td>\n      <td>1.291540e+08</td>\n      <td>64576.98</td>\n      <td>58623166.41</td>\n    </tr>\n    <tr>\n      <th>3</th>\n      <td>2023-04-27</td>\n      <td>2.670841e+08</td>\n      <td>133542.06</td>\n      <td>53907496.47</td>\n    </tr>\n    <tr>\n      <th>4</th>\n      <td>2023-04-26</td>\n      <td>2.884190e+08</td>\n      <td>144209.50</td>\n      <td>50551198.16</td>\n    </tr>\n  </tbody>\n</table>\n</div>"
     },
     "execution_count": 6,
     "metadata": {},
     "output_type": "execute_result"
    }
   ],
   "source": [
    "arb_df[\"dailyVolumeUSD\"] = arb_df[\"dailyVolumeUSD\"].astype(float).round(2)\n",
    "arb_df[\"dailyTotalRevenueUSD\"] = arb_df[\"dailyTotalRevenueUSD\"].astype(float).round(2)\n",
    "arb_df[\"totalValueLockedUSD\"] = arb_df[\"totalValueLockedUSD\"].astype(float).round(2)\n",
    "arb_df[\"date\"] = arb_df[\"date\"].astype(str)\n",
    "arb_df = arb_df[['date', 'dailyVolumeUSD', 'dailyTotalRevenueUSD', 'totalValueLockedUSD']]\n",
    "\n",
    "arb_old_df = pd.read_csv(\"../../data/arb_data_20230718.csv\")\n",
    "# arb_old_df.rename(columns={'dailyTotalVolumeUSD': 'dailyVolumeUSD'}, inplace=True)\n",
    "arb_df = pd.concat([arb_df, arb_old_df])\n",
    "arb_df.to_csv(\"../../data/arb_data_20230718.csv\", index=False)"
   ],
   "metadata": {
    "collapsed": false,
    "ExecuteTime": {
     "end_time": "2023-07-19T06:32:53.695177Z",
     "start_time": "2023-07-19T06:32:53.686317Z"
    }
   }
  },
  {
   "cell_type": "code",
   "execution_count": 21,
   "outputs": [],
   "source": [
    "# 获取并存储小时级数据\n",
    "POOL_ID = \"0xc31e54c7a869b9fcbecc14363cf510d1c41fa443\"\n",
    "\n",
    "arbitrum_query = \"\"\" query get_pools($num_skip: Int, $pool_id: ID!) {\n",
    "    liquidityPool(id: $pool_id) {\n",
    "        hourlySnapshots(skip: $num_skip, orderBy: hour, orderDirection: desc) {\n",
    "            hour\n",
    "            hourlyVolumeUSD\n",
    "            hourlyTotalRevenueUSD\n",
    "            totalValueLockedUSD\n",
    "        }\n",
    "    }\n",
    "}\"\"\"\n",
    "\n",
    "num_skip = 0\n",
    "result = []\n",
    "is_break = False"
   ],
   "metadata": {
    "collapsed": false,
    "ExecuteTime": {
     "end_time": "2023-07-19T09:21:54.593134Z",
     "start_time": "2023-07-19T09:21:54.585871Z"
    }
   }
  },
  {
   "cell_type": "code",
   "execution_count": 24,
   "outputs": [
    {
     "name": "stdout",
     "output_type": "stream",
     "text": [
      "Querying ticks, num_skip=0\n",
      "Querying ticks, num_skip=100\n",
      "Querying ticks, num_skip=200\n",
      "Querying ticks, num_skip=300\n",
      "Querying ticks, num_skip=400\n",
      "Querying ticks, num_skip=500\n",
      "Querying ticks, num_skip=600\n",
      "Querying ticks, num_skip=700\n",
      "Querying ticks, num_skip=800\n",
      "Querying ticks, num_skip=900\n",
      "Querying ticks, num_skip=1000\n",
      "Querying ticks, num_skip=1100\n",
      "Querying ticks, num_skip=1200\n",
      "Querying ticks, num_skip=1300\n",
      "Querying ticks, num_skip=1400\n",
      "Querying ticks, num_skip=1500\n",
      "Querying ticks, num_skip=1600\n"
     ]
    }
   ],
   "source": [
    "from gql import gql, Client\n",
    "from gql.transport.requests import RequestsHTTPTransport\n",
    "\n",
    "\n",
    "client = Client(\n",
    "    transport=RequestsHTTPTransport(\n",
    "        url='https://api.thegraph.com/subgraphs/name/messari/uniswap-v3-arbitrum',\n",
    "        verify=True,\n",
    "        retries=5,\n",
    "    ))\n",
    "\n",
    "while True:\n",
    "    print(\"Querying ticks, num_skip={}\".format(num_skip))\n",
    "    variables = {\"num_skip\": num_skip, \"pool_id\": POOL_ID}\n",
    "    response = client.execute(gql(arbitrum_query), variable_values=variables)\n",
    "    query_result = response[\"liquidityPool\"][\"hourlySnapshots\"]\n",
    "    for item in query_result:\n",
    "        hour = int(item[\"hour\"])\n",
    "        # todo: 修改这个部分\n",
    "        if hour <= 467775:\n",
    "            is_break = True\n",
    "            break\n",
    "        result.append(item)\n",
    "\n",
    "    if is_break == True or len(query_result) == 0:\n",
    "        break\n",
    "\n",
    "    num_skip = len(result)"
   ],
   "metadata": {
    "collapsed": false,
    "ExecuteTime": {
     "end_time": "2023-07-19T09:25:13.081806Z",
     "start_time": "2023-07-19T09:23:56.712380Z"
    }
   }
  },
  {
   "cell_type": "code",
   "execution_count": 27,
   "outputs": [],
   "source": [
    "import time\n",
    "\n",
    "def hour_to_unixtime(hour):\n",
    "    current_date = datetime.fromtimestamp(0) + timedelta(hours=hour)\n",
    "    return int(time.mktime(current_date.timetuple()))"
   ],
   "metadata": {
    "collapsed": false,
    "ExecuteTime": {
     "end_time": "2023-07-19T09:27:27.923354Z",
     "start_time": "2023-07-19T09:27:27.917515Z"
    }
   }
  },
  {
   "cell_type": "code",
   "execution_count": 29,
   "outputs": [
    {
     "data": {
      "text/plain": "     hour                  hourlyVolumeUSD           hourlyTotalRevenueUSD  \\\n0  469376  1460878.47258988336766531052831  730.43923629494168383265526443   \n1  469375   806643.10919596517901233525319   403.3215545979825895061676268   \n2  469374  1036466.04480128782220493231525  518.23302240064391110246615779   \n3  469373   656345.72649494087873370659467  328.17286324747043936685329741   \n4  469372  1637624.49925289785898467064351   818.8122496264489294923353219   \n\n                totalValueLockedUSD   timestamp  \n0   44233373.3510221773573453678896  1689753600  \n1  44290156.20582897883020136578084  1689750000  \n2  44254886.55727854726053867876903  1689746400  \n3  44168146.44106156636941494461425  1689742800  \n4  44087659.78889045440728093729744  1689739200  ",
      "text/html": "<div>\n<style scoped>\n    .dataframe tbody tr th:only-of-type {\n        vertical-align: middle;\n    }\n\n    .dataframe tbody tr th {\n        vertical-align: top;\n    }\n\n    .dataframe thead th {\n        text-align: right;\n    }\n</style>\n<table border=\"1\" class=\"dataframe\">\n  <thead>\n    <tr style=\"text-align: right;\">\n      <th></th>\n      <th>hour</th>\n      <th>hourlyVolumeUSD</th>\n      <th>hourlyTotalRevenueUSD</th>\n      <th>totalValueLockedUSD</th>\n      <th>timestamp</th>\n    </tr>\n  </thead>\n  <tbody>\n    <tr>\n      <th>0</th>\n      <td>469376</td>\n      <td>1460878.47258988336766531052831</td>\n      <td>730.43923629494168383265526443</td>\n      <td>44233373.3510221773573453678896</td>\n      <td>1689753600</td>\n    </tr>\n    <tr>\n      <th>1</th>\n      <td>469375</td>\n      <td>806643.10919596517901233525319</td>\n      <td>403.3215545979825895061676268</td>\n      <td>44290156.20582897883020136578084</td>\n      <td>1689750000</td>\n    </tr>\n    <tr>\n      <th>2</th>\n      <td>469374</td>\n      <td>1036466.04480128782220493231525</td>\n      <td>518.23302240064391110246615779</td>\n      <td>44254886.55727854726053867876903</td>\n      <td>1689746400</td>\n    </tr>\n    <tr>\n      <th>3</th>\n      <td>469373</td>\n      <td>656345.72649494087873370659467</td>\n      <td>328.17286324747043936685329741</td>\n      <td>44168146.44106156636941494461425</td>\n      <td>1689742800</td>\n    </tr>\n    <tr>\n      <th>4</th>\n      <td>469372</td>\n      <td>1637624.49925289785898467064351</td>\n      <td>818.8122496264489294923353219</td>\n      <td>44087659.78889045440728093729744</td>\n      <td>1689739200</td>\n    </tr>\n  </tbody>\n</table>\n</div>"
     },
     "execution_count": 29,
     "metadata": {},
     "output_type": "execute_result"
    }
   ],
   "source": [
    "arb_hour_df = pd.DataFrame(result)\n",
    "arb_hour_df[\"timestamp\"] = arb_hour_df[\"hour\"].apply(hour_to_unixtime)\n",
    "arb_hour_df.head()"
   ],
   "metadata": {
    "collapsed": false,
    "ExecuteTime": {
     "end_time": "2023-07-19T09:29:34.460669Z",
     "start_time": "2023-07-19T09:29:34.454836Z"
    }
   }
  },
  {
   "cell_type": "code",
   "execution_count": 31,
   "outputs": [],
   "source": [
    "arb_hour_df[['timestamp', 'hourlyVolumeUSD', 'hourlyTotalRevenueUSD', 'totalValueLockedUSD']].to_csv(\"../../data/arb_hour_data_20230719.csv\", index=False)"
   ],
   "metadata": {
    "collapsed": false,
    "ExecuteTime": {
     "end_time": "2023-07-19T09:30:10.705027Z",
     "start_time": "2023-07-19T09:30:10.697367Z"
    }
   }
  },
  {
   "cell_type": "code",
   "execution_count": 13,
   "outputs": [
    {
     "data": {
      "text/plain": "         v      vw       o       c       h       l              t      n\n0  9809.27 1942.71 1940.49 1952.54 1958.70 1928.00  1654041600000  30746\n1  6089.57 1946.36 1954.20 1946.57 1954.20 1940.00  1654045200000  23571\n2  8278.78 1935.83 1946.46 1939.03 1947.35 1928.98  1654048800000  25013\n3  7490.52 1931.06 1938.94 1928.44 1940.24 1925.36  1654052400000  21634\n4 10282.47 1924.81 1928.38 1932.54 1935.90 1912.03  1654056000000  25834",
      "text/html": "<div>\n<style scoped>\n    .dataframe tbody tr th:only-of-type {\n        vertical-align: middle;\n    }\n\n    .dataframe tbody tr th {\n        vertical-align: top;\n    }\n\n    .dataframe thead th {\n        text-align: right;\n    }\n</style>\n<table border=\"1\" class=\"dataframe\">\n  <thead>\n    <tr style=\"text-align: right;\">\n      <th></th>\n      <th>v</th>\n      <th>vw</th>\n      <th>o</th>\n      <th>c</th>\n      <th>h</th>\n      <th>l</th>\n      <th>t</th>\n      <th>n</th>\n    </tr>\n  </thead>\n  <tbody>\n    <tr>\n      <th>0</th>\n      <td>9809.27</td>\n      <td>1942.71</td>\n      <td>1940.49</td>\n      <td>1952.54</td>\n      <td>1958.70</td>\n      <td>1928.00</td>\n      <td>1654041600000</td>\n      <td>30746</td>\n    </tr>\n    <tr>\n      <th>1</th>\n      <td>6089.57</td>\n      <td>1946.36</td>\n      <td>1954.20</td>\n      <td>1946.57</td>\n      <td>1954.20</td>\n      <td>1940.00</td>\n      <td>1654045200000</td>\n      <td>23571</td>\n    </tr>\n    <tr>\n      <th>2</th>\n      <td>8278.78</td>\n      <td>1935.83</td>\n      <td>1946.46</td>\n      <td>1939.03</td>\n      <td>1947.35</td>\n      <td>1928.98</td>\n      <td>1654048800000</td>\n      <td>25013</td>\n    </tr>\n    <tr>\n      <th>3</th>\n      <td>7490.52</td>\n      <td>1931.06</td>\n      <td>1938.94</td>\n      <td>1928.44</td>\n      <td>1940.24</td>\n      <td>1925.36</td>\n      <td>1654052400000</td>\n      <td>21634</td>\n    </tr>\n    <tr>\n      <th>4</th>\n      <td>10282.47</td>\n      <td>1924.81</td>\n      <td>1928.38</td>\n      <td>1932.54</td>\n      <td>1935.90</td>\n      <td>1912.03</td>\n      <td>1654056000000</td>\n      <td>25834</td>\n    </tr>\n  </tbody>\n</table>\n</div>"
     },
     "execution_count": 13,
     "metadata": {},
     "output_type": "execute_result"
    }
   ],
   "source": [
    "# 比较小时级数据回测质押收益 => 先粗略计算，再根据质押的分布精确计算\n",
    "\n",
    "import pandas as pd\n",
    "\n",
    "price_df = pd.read_csv(\"../../data/eth_usd_polygon_20230718.csv\")\n",
    "price_df.head()"
   ],
   "metadata": {
    "collapsed": false,
    "ExecuteTime": {
     "end_time": "2023-07-19T10:44:25.502409Z",
     "start_time": "2023-07-19T10:44:25.473317Z"
    }
   }
  },
  {
   "cell_type": "code",
   "execution_count": 14,
   "outputs": [
    {
     "data": {
      "text/plain": "    timestamp  hourlyVolumeUSD  hourlyTotalRevenueUSD  totalValueLockedUSD\n0  1689753600       1460878.47                 730.44          44233373.35\n1  1689750000        806643.11                 403.32          44290156.21\n2  1689746400       1036466.04                 518.23          44254886.56\n3  1689742800        656345.73                 328.17          44168146.44\n4  1689739200       1637624.50                 818.81          44087659.79",
      "text/html": "<div>\n<style scoped>\n    .dataframe tbody tr th:only-of-type {\n        vertical-align: middle;\n    }\n\n    .dataframe tbody tr th {\n        vertical-align: top;\n    }\n\n    .dataframe thead th {\n        text-align: right;\n    }\n</style>\n<table border=\"1\" class=\"dataframe\">\n  <thead>\n    <tr style=\"text-align: right;\">\n      <th></th>\n      <th>timestamp</th>\n      <th>hourlyVolumeUSD</th>\n      <th>hourlyTotalRevenueUSD</th>\n      <th>totalValueLockedUSD</th>\n    </tr>\n  </thead>\n  <tbody>\n    <tr>\n      <th>0</th>\n      <td>1689753600</td>\n      <td>1460878.47</td>\n      <td>730.44</td>\n      <td>44233373.35</td>\n    </tr>\n    <tr>\n      <th>1</th>\n      <td>1689750000</td>\n      <td>806643.11</td>\n      <td>403.32</td>\n      <td>44290156.21</td>\n    </tr>\n    <tr>\n      <th>2</th>\n      <td>1689746400</td>\n      <td>1036466.04</td>\n      <td>518.23</td>\n      <td>44254886.56</td>\n    </tr>\n    <tr>\n      <th>3</th>\n      <td>1689742800</td>\n      <td>656345.73</td>\n      <td>328.17</td>\n      <td>44168146.44</td>\n    </tr>\n    <tr>\n      <th>4</th>\n      <td>1689739200</td>\n      <td>1637624.50</td>\n      <td>818.81</td>\n      <td>44087659.79</td>\n    </tr>\n  </tbody>\n</table>\n</div>"
     },
     "execution_count": 14,
     "metadata": {},
     "output_type": "execute_result"
    }
   ],
   "source": [
    "pd.set_option('display.float_format', lambda x: '%.2f' % x)\n",
    "\n",
    "arb_df = pd.read_csv(\"../../data/arb_hour_data_20230719.csv\")\n",
    "arb_df.head()"
   ],
   "metadata": {
    "collapsed": false,
    "ExecuteTime": {
     "end_time": "2023-07-19T10:44:28.485956Z",
     "start_time": "2023-07-19T10:44:28.474080Z"
    }
   }
  },
  {
   "cell_type": "code",
   "execution_count": 15,
   "outputs": [
    {
     "data": {
      "text/plain": "        o       c       h       l              t   timestamp\n0 1940.49 1952.54 1958.70 1928.00  1654041600000  1654041600\n1 1954.20 1946.57 1954.20 1940.00  1654045200000  1654045200\n2 1946.46 1939.03 1947.35 1928.98  1654048800000  1654048800\n3 1938.94 1928.44 1940.24 1925.36  1654052400000  1654052400\n4 1928.38 1932.54 1935.90 1912.03  1654056000000  1654056000",
      "text/html": "<div>\n<style scoped>\n    .dataframe tbody tr th:only-of-type {\n        vertical-align: middle;\n    }\n\n    .dataframe tbody tr th {\n        vertical-align: top;\n    }\n\n    .dataframe thead th {\n        text-align: right;\n    }\n</style>\n<table border=\"1\" class=\"dataframe\">\n  <thead>\n    <tr style=\"text-align: right;\">\n      <th></th>\n      <th>o</th>\n      <th>c</th>\n      <th>h</th>\n      <th>l</th>\n      <th>t</th>\n      <th>timestamp</th>\n    </tr>\n  </thead>\n  <tbody>\n    <tr>\n      <th>0</th>\n      <td>1940.49</td>\n      <td>1952.54</td>\n      <td>1958.70</td>\n      <td>1928.00</td>\n      <td>1654041600000</td>\n      <td>1654041600</td>\n    </tr>\n    <tr>\n      <th>1</th>\n      <td>1954.20</td>\n      <td>1946.57</td>\n      <td>1954.20</td>\n      <td>1940.00</td>\n      <td>1654045200000</td>\n      <td>1654045200</td>\n    </tr>\n    <tr>\n      <th>2</th>\n      <td>1946.46</td>\n      <td>1939.03</td>\n      <td>1947.35</td>\n      <td>1928.98</td>\n      <td>1654048800000</td>\n      <td>1654048800</td>\n    </tr>\n    <tr>\n      <th>3</th>\n      <td>1938.94</td>\n      <td>1928.44</td>\n      <td>1940.24</td>\n      <td>1925.36</td>\n      <td>1654052400000</td>\n      <td>1654052400</td>\n    </tr>\n    <tr>\n      <th>4</th>\n      <td>1928.38</td>\n      <td>1932.54</td>\n      <td>1935.90</td>\n      <td>1912.03</td>\n      <td>1654056000000</td>\n      <td>1654056000</td>\n    </tr>\n  </tbody>\n</table>\n</div>"
     },
     "execution_count": 15,
     "metadata": {},
     "output_type": "execute_result"
    }
   ],
   "source": [
    "price_df = price_df[['o', 'c', 'h', 'l', 't']]\n",
    "price_df[\"timestamp\"] = (price_df['t'] / 1000).astype(int)\n",
    "price_df.head()"
   ],
   "metadata": {
    "collapsed": false,
    "ExecuteTime": {
     "end_time": "2023-07-19T10:44:31.185604Z",
     "start_time": "2023-07-19T10:44:31.178626Z"
    }
   }
  },
  {
   "cell_type": "code",
   "execution_count": 16,
   "outputs": [
    {
     "data": {
      "text/plain": "    timestamp  hourlyVolumeUSD  hourlyTotalRevenueUSD  totalValueLockedUSD  \\\n0  1689721200       1839294.64                 919.65          43991968.86   \n1  1689717600       1570102.68                 785.05          43971689.85   \n2  1689714000       1699318.65                 849.66          44024583.09   \n3  1689710400       2210259.03                1105.13          43916277.35   \n4  1689706800       2770797.59                1385.40          43830655.08   \n\n        o       c       h       l              t  \n0 1901.64 1897.72 1903.60 1893.29  1689721200000  \n1 1897.51 1901.65 1904.20 1896.13  1689717600000  \n2 1894.62 1897.49 1900.70 1892.85  1689714000000  \n3 1892.56 1894.61 1899.80 1889.99  1689710400000  \n4 1901.68 1892.67 1905.20 1890.43  1689706800000  ",
      "text/html": "<div>\n<style scoped>\n    .dataframe tbody tr th:only-of-type {\n        vertical-align: middle;\n    }\n\n    .dataframe tbody tr th {\n        vertical-align: top;\n    }\n\n    .dataframe thead th {\n        text-align: right;\n    }\n</style>\n<table border=\"1\" class=\"dataframe\">\n  <thead>\n    <tr style=\"text-align: right;\">\n      <th></th>\n      <th>timestamp</th>\n      <th>hourlyVolumeUSD</th>\n      <th>hourlyTotalRevenueUSD</th>\n      <th>totalValueLockedUSD</th>\n      <th>o</th>\n      <th>c</th>\n      <th>h</th>\n      <th>l</th>\n      <th>t</th>\n    </tr>\n  </thead>\n  <tbody>\n    <tr>\n      <th>0</th>\n      <td>1689721200</td>\n      <td>1839294.64</td>\n      <td>919.65</td>\n      <td>43991968.86</td>\n      <td>1901.64</td>\n      <td>1897.72</td>\n      <td>1903.60</td>\n      <td>1893.29</td>\n      <td>1689721200000</td>\n    </tr>\n    <tr>\n      <th>1</th>\n      <td>1689717600</td>\n      <td>1570102.68</td>\n      <td>785.05</td>\n      <td>43971689.85</td>\n      <td>1897.51</td>\n      <td>1901.65</td>\n      <td>1904.20</td>\n      <td>1896.13</td>\n      <td>1689717600000</td>\n    </tr>\n    <tr>\n      <th>2</th>\n      <td>1689714000</td>\n      <td>1699318.65</td>\n      <td>849.66</td>\n      <td>44024583.09</td>\n      <td>1894.62</td>\n      <td>1897.49</td>\n      <td>1900.70</td>\n      <td>1892.85</td>\n      <td>1689714000000</td>\n    </tr>\n    <tr>\n      <th>3</th>\n      <td>1689710400</td>\n      <td>2210259.03</td>\n      <td>1105.13</td>\n      <td>43916277.35</td>\n      <td>1892.56</td>\n      <td>1894.61</td>\n      <td>1899.80</td>\n      <td>1889.99</td>\n      <td>1689710400000</td>\n    </tr>\n    <tr>\n      <th>4</th>\n      <td>1689706800</td>\n      <td>2770797.59</td>\n      <td>1385.40</td>\n      <td>43830655.08</td>\n      <td>1901.68</td>\n      <td>1892.67</td>\n      <td>1905.20</td>\n      <td>1890.43</td>\n      <td>1689706800000</td>\n    </tr>\n  </tbody>\n</table>\n</div>"
     },
     "execution_count": 16,
     "metadata": {},
     "output_type": "execute_result"
    }
   ],
   "source": [
    "df = pd.merge(arb_df, price_df, on='timestamp')\n",
    "df.head()"
   ],
   "metadata": {
    "collapsed": false,
    "ExecuteTime": {
     "end_time": "2023-07-19T10:44:33.559912Z",
     "start_time": "2023-07-19T10:44:33.547517Z"
    }
   }
  },
  {
   "cell_type": "code",
   "execution_count": 17,
   "outputs": [
    {
     "data": {
      "text/plain": "(1592, 9)"
     },
     "execution_count": 17,
     "metadata": {},
     "output_type": "execute_result"
    }
   ],
   "source": [
    "df.shape"
   ],
   "metadata": {
    "collapsed": false,
    "ExecuteTime": {
     "end_time": "2023-07-19T10:44:36.233616Z",
     "start_time": "2023-07-19T10:44:36.222541Z"
    }
   }
  },
  {
   "cell_type": "code",
   "execution_count": 18,
   "outputs": [
    {
     "name": "stderr",
     "output_type": "stream",
     "text": [
      "/var/folders/sj/9n8j6m2s6_1g9x78vzd8z0rm0000gn/T/ipykernel_1928/1548438947.py:5: SettingWithCopyWarning: \n",
      "A value is trying to be set on a copy of a slice from a DataFrame.\n",
      "Try using .loc[row_indexer,col_indexer] = value instead\n",
      "\n",
      "See the caveats in the documentation: https://pandas.pydata.org/pandas-docs/stable/user_guide/indexing.html#returning-a-view-versus-a-copy\n",
      "  rest_df[\"datetime\"] = rest_df[\"timestamp\"].apply(utils.utc_timestamp_to_datetime_str)\n"
     ]
    },
    {
     "data": {
      "text/plain": "    timestamp  hourlyVolumeUSD  hourlyTotalRevenueUSD  totalValueLockedUSD  \\\n0  1689753600       1460878.47                 730.44          44233373.35   \n1  1689750000        806643.11                 403.32          44290156.21   \n2  1689746400       1036466.04                 518.23          44254886.56   \n3  1689742800        656345.73                 328.17          44168146.44   \n4  1689739200       1637624.50                 818.81          44087659.79   \n\n              datetime  \n0  2023-07-19 08:00:00  \n1  2023-07-19 07:00:00  \n2  2023-07-19 06:00:00  \n3  2023-07-19 05:00:00  \n4  2023-07-19 04:00:00  ",
      "text/html": "<div>\n<style scoped>\n    .dataframe tbody tr th:only-of-type {\n        vertical-align: middle;\n    }\n\n    .dataframe tbody tr th {\n        vertical-align: top;\n    }\n\n    .dataframe thead th {\n        text-align: right;\n    }\n</style>\n<table border=\"1\" class=\"dataframe\">\n  <thead>\n    <tr style=\"text-align: right;\">\n      <th></th>\n      <th>timestamp</th>\n      <th>hourlyVolumeUSD</th>\n      <th>hourlyTotalRevenueUSD</th>\n      <th>totalValueLockedUSD</th>\n      <th>datetime</th>\n    </tr>\n  </thead>\n  <tbody>\n    <tr>\n      <th>0</th>\n      <td>1689753600</td>\n      <td>1460878.47</td>\n      <td>730.44</td>\n      <td>44233373.35</td>\n      <td>2023-07-19 08:00:00</td>\n    </tr>\n    <tr>\n      <th>1</th>\n      <td>1689750000</td>\n      <td>806643.11</td>\n      <td>403.32</td>\n      <td>44290156.21</td>\n      <td>2023-07-19 07:00:00</td>\n    </tr>\n    <tr>\n      <th>2</th>\n      <td>1689746400</td>\n      <td>1036466.04</td>\n      <td>518.23</td>\n      <td>44254886.56</td>\n      <td>2023-07-19 06:00:00</td>\n    </tr>\n    <tr>\n      <th>3</th>\n      <td>1689742800</td>\n      <td>656345.73</td>\n      <td>328.17</td>\n      <td>44168146.44</td>\n      <td>2023-07-19 05:00:00</td>\n    </tr>\n    <tr>\n      <th>4</th>\n      <td>1689739200</td>\n      <td>1637624.50</td>\n      <td>818.81</td>\n      <td>44087659.79</td>\n      <td>2023-07-19 04:00:00</td>\n    </tr>\n  </tbody>\n</table>\n</div>"
     },
     "execution_count": 18,
     "metadata": {},
     "output_type": "execute_result"
    }
   ],
   "source": [
    "# get all timestamp in arb_df but not in df\n",
    "from utils import utils\n",
    "\n",
    "rest_df = arb_df[~arb_df['timestamp'].isin(df['timestamp'])]\n",
    "rest_df[\"datetime\"] = rest_df[\"timestamp\"].apply(utils.utc_timestamp_to_datetime_str)\n",
    "rest_df.head(10)"
   ],
   "metadata": {
    "collapsed": false,
    "ExecuteTime": {
     "end_time": "2023-07-19T10:44:39.896855Z",
     "start_time": "2023-07-19T10:44:39.886459Z"
    }
   }
  },
  {
   "cell_type": "code",
   "execution_count": 23,
   "outputs": [
    {
     "data": {
      "text/plain": "       timestamp  hourlyVolumeUSD  hourlyTotalRevenueUSD  totalValueLockedUSD  \\\n1587  1684008000       2662455.28                1331.23          61592990.58   \n1588  1684004400       5116826.36                2558.41          61377445.74   \n1589  1684000800       6298006.55                3149.00          61259722.44   \n1590  1683997200       2144822.87                1072.41          61175729.32   \n1591  1683993600       2045304.59                1022.65          61190880.56   \n\n           o       c       h       l              t             datetime  \n1587 1793.70 1803.99 1805.90 1793.31  1684008000000  2023-05-14 04:00:00  \n1588 1790.12 1793.71 1801.65 1788.18  1684004400000  2023-05-14 03:00:00  \n1589 1793.99 1790.22 1808.40 1786.77  1684000800000  2023-05-14 02:00:00  \n1590 1794.92 1794.18 1799.50 1791.08  1683997200000  2023-05-14 01:00:00  \n1591 1796.19 1794.98 1797.30 1791.70  1683993600000  2023-05-14 00:00:00  ",
      "text/html": "<div>\n<style scoped>\n    .dataframe tbody tr th:only-of-type {\n        vertical-align: middle;\n    }\n\n    .dataframe tbody tr th {\n        vertical-align: top;\n    }\n\n    .dataframe thead th {\n        text-align: right;\n    }\n</style>\n<table border=\"1\" class=\"dataframe\">\n  <thead>\n    <tr style=\"text-align: right;\">\n      <th></th>\n      <th>timestamp</th>\n      <th>hourlyVolumeUSD</th>\n      <th>hourlyTotalRevenueUSD</th>\n      <th>totalValueLockedUSD</th>\n      <th>o</th>\n      <th>c</th>\n      <th>h</th>\n      <th>l</th>\n      <th>t</th>\n      <th>datetime</th>\n    </tr>\n  </thead>\n  <tbody>\n    <tr>\n      <th>1587</th>\n      <td>1684008000</td>\n      <td>2662455.28</td>\n      <td>1331.23</td>\n      <td>61592990.58</td>\n      <td>1793.70</td>\n      <td>1803.99</td>\n      <td>1805.90</td>\n      <td>1793.31</td>\n      <td>1684008000000</td>\n      <td>2023-05-14 04:00:00</td>\n    </tr>\n    <tr>\n      <th>1588</th>\n      <td>1684004400</td>\n      <td>5116826.36</td>\n      <td>2558.41</td>\n      <td>61377445.74</td>\n      <td>1790.12</td>\n      <td>1793.71</td>\n      <td>1801.65</td>\n      <td>1788.18</td>\n      <td>1684004400000</td>\n      <td>2023-05-14 03:00:00</td>\n    </tr>\n    <tr>\n      <th>1589</th>\n      <td>1684000800</td>\n      <td>6298006.55</td>\n      <td>3149.00</td>\n      <td>61259722.44</td>\n      <td>1793.99</td>\n      <td>1790.22</td>\n      <td>1808.40</td>\n      <td>1786.77</td>\n      <td>1684000800000</td>\n      <td>2023-05-14 02:00:00</td>\n    </tr>\n    <tr>\n      <th>1590</th>\n      <td>1683997200</td>\n      <td>2144822.87</td>\n      <td>1072.41</td>\n      <td>61175729.32</td>\n      <td>1794.92</td>\n      <td>1794.18</td>\n      <td>1799.50</td>\n      <td>1791.08</td>\n      <td>1683997200000</td>\n      <td>2023-05-14 01:00:00</td>\n    </tr>\n    <tr>\n      <th>1591</th>\n      <td>1683993600</td>\n      <td>2045304.59</td>\n      <td>1022.65</td>\n      <td>61190880.56</td>\n      <td>1796.19</td>\n      <td>1794.98</td>\n      <td>1797.30</td>\n      <td>1791.70</td>\n      <td>1683993600000</td>\n      <td>2023-05-14 00:00:00</td>\n    </tr>\n  </tbody>\n</table>\n</div>"
     },
     "execution_count": 23,
     "metadata": {},
     "output_type": "execute_result"
    }
   ],
   "source": [
    "from datetime import datetime\n",
    "\n",
    "\n",
    "def timestamp_to_current_tz_datetime(ts):\n",
    "    utc_date = datetime.fromtimestamp(ts)\n",
    "    return utc_date.strftime(\"%Y-%m-%d %H:%M:%S\")\n",
    "\n",
    "\n",
    "df[\"datetime\"] = df[\"timestamp\"].apply(timestamp_to_current_tz_datetime)\n",
    "df.tail()"
   ],
   "metadata": {
    "collapsed": false,
    "ExecuteTime": {
     "end_time": "2023-07-19T10:49:24.193424Z",
     "start_time": "2023-07-19T10:49:24.190549Z"
    }
   }
  },
  {
   "cell_type": "code",
   "execution_count": 24,
   "outputs": [
    {
     "data": {
      "text/plain": "                 datetime       h       l  hourlyTotalRevenueUSD  \\\n1591  2023-05-14 00:00:00 1797.30 1791.70                1022.65   \n1590  2023-05-14 01:00:00 1799.50 1791.08                1072.41   \n1589  2023-05-14 02:00:00 1808.40 1786.77                3149.00   \n1588  2023-05-14 03:00:00 1801.65 1788.18                2558.41   \n1587  2023-05-14 04:00:00 1805.90 1793.31                1331.23   \n\n      totalValueLockedUSD  interval  \n1591          61190880.56      5.60  \n1590          61175729.32      8.42  \n1589          61259722.44     21.63  \n1588          61377445.74     13.47  \n1587          61592990.58     12.59  ",
      "text/html": "<div>\n<style scoped>\n    .dataframe tbody tr th:only-of-type {\n        vertical-align: middle;\n    }\n\n    .dataframe tbody tr th {\n        vertical-align: top;\n    }\n\n    .dataframe thead th {\n        text-align: right;\n    }\n</style>\n<table border=\"1\" class=\"dataframe\">\n  <thead>\n    <tr style=\"text-align: right;\">\n      <th></th>\n      <th>datetime</th>\n      <th>h</th>\n      <th>l</th>\n      <th>hourlyTotalRevenueUSD</th>\n      <th>totalValueLockedUSD</th>\n      <th>interval</th>\n    </tr>\n  </thead>\n  <tbody>\n    <tr>\n      <th>1591</th>\n      <td>2023-05-14 00:00:00</td>\n      <td>1797.30</td>\n      <td>1791.70</td>\n      <td>1022.65</td>\n      <td>61190880.56</td>\n      <td>5.60</td>\n    </tr>\n    <tr>\n      <th>1590</th>\n      <td>2023-05-14 01:00:00</td>\n      <td>1799.50</td>\n      <td>1791.08</td>\n      <td>1072.41</td>\n      <td>61175729.32</td>\n      <td>8.42</td>\n    </tr>\n    <tr>\n      <th>1589</th>\n      <td>2023-05-14 02:00:00</td>\n      <td>1808.40</td>\n      <td>1786.77</td>\n      <td>3149.00</td>\n      <td>61259722.44</td>\n      <td>21.63</td>\n    </tr>\n    <tr>\n      <th>1588</th>\n      <td>2023-05-14 03:00:00</td>\n      <td>1801.65</td>\n      <td>1788.18</td>\n      <td>2558.41</td>\n      <td>61377445.74</td>\n      <td>13.47</td>\n    </tr>\n    <tr>\n      <th>1587</th>\n      <td>2023-05-14 04:00:00</td>\n      <td>1805.90</td>\n      <td>1793.31</td>\n      <td>1331.23</td>\n      <td>61592990.58</td>\n      <td>12.59</td>\n    </tr>\n  </tbody>\n</table>\n</div>"
     },
     "execution_count": 24,
     "metadata": {},
     "output_type": "execute_result"
    }
   ],
   "source": [
    "df = df[[\"datetime\", \"h\", \"l\", \"hourlyTotalRevenueUSD\", \"totalValueLockedUSD\"]]\n",
    "df[\"interval\"] = df[\"h\"] - df[\"l\"]\n",
    "df.sort_values(by=[\"datetime\"], inplace=True)\n",
    "df.head()"
   ],
   "metadata": {
    "collapsed": false,
    "ExecuteTime": {
     "end_time": "2023-07-19T10:53:30.567946Z",
     "start_time": "2023-07-19T10:53:30.555494Z"
    }
   }
  },
  {
   "cell_type": "code",
   "execution_count": 25,
   "outputs": [
    {
     "data": {
      "text/plain": "            h       l  hourlyTotalRevenueUSD  totalValueLockedUSD  interval\ncount 1592.00 1592.00                1592.00              1592.00   1592.00\nmean  1852.10 1840.77                1833.37          52566694.77     11.33\nstd     69.83   69.73                2092.42           8176011.53      8.23\nmin   1641.40 1620.06                  63.42          41703852.56      2.01\n25%   1815.57 1806.49                 658.20          44472744.53      6.46\n50%   1863.85 1852.99                1211.43          48822178.50      8.85\n75%   1901.60 1888.38                2132.02          60612443.02     13.28\nmax   2031.40 2011.75               26542.72          67373915.40    100.30",
      "text/html": "<div>\n<style scoped>\n    .dataframe tbody tr th:only-of-type {\n        vertical-align: middle;\n    }\n\n    .dataframe tbody tr th {\n        vertical-align: top;\n    }\n\n    .dataframe thead th {\n        text-align: right;\n    }\n</style>\n<table border=\"1\" class=\"dataframe\">\n  <thead>\n    <tr style=\"text-align: right;\">\n      <th></th>\n      <th>h</th>\n      <th>l</th>\n      <th>hourlyTotalRevenueUSD</th>\n      <th>totalValueLockedUSD</th>\n      <th>interval</th>\n    </tr>\n  </thead>\n  <tbody>\n    <tr>\n      <th>count</th>\n      <td>1592.00</td>\n      <td>1592.00</td>\n      <td>1592.00</td>\n      <td>1592.00</td>\n      <td>1592.00</td>\n    </tr>\n    <tr>\n      <th>mean</th>\n      <td>1852.10</td>\n      <td>1840.77</td>\n      <td>1833.37</td>\n      <td>52566694.77</td>\n      <td>11.33</td>\n    </tr>\n    <tr>\n      <th>std</th>\n      <td>69.83</td>\n      <td>69.73</td>\n      <td>2092.42</td>\n      <td>8176011.53</td>\n      <td>8.23</td>\n    </tr>\n    <tr>\n      <th>min</th>\n      <td>1641.40</td>\n      <td>1620.06</td>\n      <td>63.42</td>\n      <td>41703852.56</td>\n      <td>2.01</td>\n    </tr>\n    <tr>\n      <th>25%</th>\n      <td>1815.57</td>\n      <td>1806.49</td>\n      <td>658.20</td>\n      <td>44472744.53</td>\n      <td>6.46</td>\n    </tr>\n    <tr>\n      <th>50%</th>\n      <td>1863.85</td>\n      <td>1852.99</td>\n      <td>1211.43</td>\n      <td>48822178.50</td>\n      <td>8.85</td>\n    </tr>\n    <tr>\n      <th>75%</th>\n      <td>1901.60</td>\n      <td>1888.38</td>\n      <td>2132.02</td>\n      <td>60612443.02</td>\n      <td>13.28</td>\n    </tr>\n    <tr>\n      <th>max</th>\n      <td>2031.40</td>\n      <td>2011.75</td>\n      <td>26542.72</td>\n      <td>67373915.40</td>\n      <td>100.30</td>\n    </tr>\n  </tbody>\n</table>\n</div>"
     },
     "execution_count": 25,
     "metadata": {},
     "output_type": "execute_result"
    }
   ],
   "source": [
    "df.describe()"
   ],
   "metadata": {
    "collapsed": false,
    "ExecuteTime": {
     "end_time": "2023-07-19T10:56:48.937580Z",
     "start_time": "2023-07-19T10:56:48.923662Z"
    }
   }
  },
  {
   "cell_type": "code",
   "execution_count": 28,
   "outputs": [
    {
     "name": "stdout",
     "output_type": "stream",
     "text": [
      "{'datetime': '2023-05-14 00:00:56', 'bottom_price': 1600.43980475, 'top_price': 1602.04096494, 'eth_amount': 0.0, 'usdc_amount': 105267.1299}\n"
     ]
    }
   ],
   "source": [
    "liquidity_df = pd.read_csv(\"../../data/arb_pool_liquidity.csv\")\n",
    "records = liquidity_df.to_dict(\"records\")\n",
    "print(records[0])"
   ],
   "metadata": {
    "collapsed": false,
    "ExecuteTime": {
     "end_time": "2023-07-20T00:48:14.698198Z",
     "start_time": "2023-07-20T00:48:14.651Z"
    }
   }
  },
  {
   "cell_type": "code",
   "execution_count": null,
   "outputs": [],
   "source": [
    "def get_interval_liquidity(low_price, high_price):\n",
    "    eth_amount = 0\n",
    "    usdc_amount = 0\n",
    "    for record in records:\n",
    "        if low_price < record[\"bottom_price\"] < high_price or low_price < record[\"top_price\"] < high_price:\n",
    "            eth_amount += record[\"eth_amount\"]\n",
    "            usdc_amount += record[\"usdc_amount\"]\n",
    "    return eth_amount, usdc_amount\n",
    "\n",
    "\n",
    "hourly_data = df.to_dict(\"records\")\n"
   ],
   "metadata": {
    "collapsed": false
   }
  }
 ],
 "metadata": {
  "kernelspec": {
   "display_name": "Python 3",
   "language": "python",
   "name": "python3"
  },
  "language_info": {
   "codemirror_mode": {
    "name": "ipython",
    "version": 2
   },
   "file_extension": ".py",
   "mimetype": "text/x-python",
   "name": "python",
   "nbconvert_exporter": "python",
   "pygments_lexer": "ipython2",
   "version": "2.7.6"
  }
 },
 "nbformat": 4,
 "nbformat_minor": 0
}
