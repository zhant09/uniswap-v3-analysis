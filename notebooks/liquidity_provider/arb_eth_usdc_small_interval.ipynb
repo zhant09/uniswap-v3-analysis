{
 "cells": [
  {
   "cell_type": "markdown",
   "source": [
    "1. 小区间质押是否可能获得高额利润"
   ],
   "metadata": {
    "collapsed": false
   }
  },
  {
   "cell_type": "code",
   "execution_count": 2,
   "outputs": [],
   "source": [
    "# 获取并存储天级数据\n",
    "POOL_ID = \"0xc31e54c7a869b9fcbecc14363cf510d1c41fa443\"\n",
    "\n",
    "arbitrum_query = \"\"\" query get_pools($num_skip: Int, $pool_id: ID!) {\n",
    "    liquidityPool(id: $pool_id) {\n",
    "        dailySnapshots(skip: $num_skip, orderBy: day, orderDirection: desc) {\n",
    "            day\n",
    "            dailyVolumeUSD\n",
    "            dailyTotalRevenueUSD\n",
    "            totalValueLockedUSD\n",
    "        }\n",
    "    }\n",
    "}\"\"\""
   ],
   "metadata": {
    "collapsed": false,
    "ExecuteTime": {
     "end_time": "2023-07-19T06:30:02.384040Z",
     "start_time": "2023-07-19T06:30:02.378377Z"
    }
   }
  },
  {
   "cell_type": "code",
   "execution_count": null,
   "outputs": [],
   "source": [
    "num_skip = 0\n",
    "result = []\n",
    "is_break = False"
   ],
   "metadata": {
    "collapsed": false
   }
  },
  {
   "cell_type": "code",
   "execution_count": null,
   "outputs": [],
   "source": [
    "from gql import gql, Client\n",
    "from gql.transport.requests import RequestsHTTPTransport\n",
    "\n",
    "\n",
    "client = Client(\n",
    "    transport=RequestsHTTPTransport(\n",
    "        url='https://api.thegraph.com/subgraphs/name/messari/uniswap-v3-arbitrum',\n",
    "        verify=True,\n",
    "        retries=5,\n",
    "    ))\n",
    "\n",
    "while True:\n",
    "    print(\"Querying ticks, num_skip={}\".format(num_skip))\n",
    "    variables = {\"num_skip\": num_skip, \"pool_id\": POOL_ID}\n",
    "    response = client.execute(gql(arbitrum_query), variable_values=variables)\n",
    "    query_result = response[\"liquidityPool\"][\"dailySnapshots\"]\n",
    "    for item in query_result:\n",
    "        day = int(item[\"day\"])\n",
    "        # todo: 修改这个部分\n",
    "        if day <= 19477:\n",
    "            is_break = True\n",
    "            break\n",
    "        result.append(item)\n",
    "\n",
    "    if is_break == True or len(query_result) == 0:\n",
    "        break\n",
    "\n",
    "    num_skip = len(result)"
   ],
   "metadata": {
    "collapsed": false
   }
  },
  {
   "cell_type": "code",
   "execution_count": 4,
   "outputs": [
    {
     "data": {
      "text/plain": "     day                     dailyVolumeUSD              dailyTotalRevenueUSD  \\\n0  19556   62645858.87339231038231371303131  31322.92943669615519115685651945   \n1  19555   78836539.34931248039460595756886   39418.2696746562401973029787891   \n2  19554   43233649.01354901681799617409771  21616.82450677450840899808705174   \n3  19553   29838778.31630346908133923990871  14919.38915815173454066961995703   \n4  19552  129294121.16599334024223784584379  64647.06058299667012111892292883   \n\n                totalValueLockedUSD        date  \n0  43991968.86397924299999433932886  2023-07-18  \n1    44594966.108651452749034656584  2023-07-17  \n2   46212787.3971710232147209161641  2023-07-16  \n3  46504482.69780273868477842499168  2023-07-15  \n4  46430790.59592811944603207193834  2023-07-14  ",
      "text/html": "<div>\n<style scoped>\n    .dataframe tbody tr th:only-of-type {\n        vertical-align: middle;\n    }\n\n    .dataframe tbody tr th {\n        vertical-align: top;\n    }\n\n    .dataframe thead th {\n        text-align: right;\n    }\n</style>\n<table border=\"1\" class=\"dataframe\">\n  <thead>\n    <tr style=\"text-align: right;\">\n      <th></th>\n      <th>day</th>\n      <th>dailyVolumeUSD</th>\n      <th>dailyTotalRevenueUSD</th>\n      <th>totalValueLockedUSD</th>\n      <th>date</th>\n    </tr>\n  </thead>\n  <tbody>\n    <tr>\n      <th>0</th>\n      <td>19556</td>\n      <td>62645858.87339231038231371303131</td>\n      <td>31322.92943669615519115685651945</td>\n      <td>43991968.86397924299999433932886</td>\n      <td>2023-07-18</td>\n    </tr>\n    <tr>\n      <th>1</th>\n      <td>19555</td>\n      <td>78836539.34931248039460595756886</td>\n      <td>39418.2696746562401973029787891</td>\n      <td>44594966.108651452749034656584</td>\n      <td>2023-07-17</td>\n    </tr>\n    <tr>\n      <th>2</th>\n      <td>19554</td>\n      <td>43233649.01354901681799617409771</td>\n      <td>21616.82450677450840899808705174</td>\n      <td>46212787.3971710232147209161641</td>\n      <td>2023-07-16</td>\n    </tr>\n    <tr>\n      <th>3</th>\n      <td>19553</td>\n      <td>29838778.31630346908133923990871</td>\n      <td>14919.38915815173454066961995703</td>\n      <td>46504482.69780273868477842499168</td>\n      <td>2023-07-15</td>\n    </tr>\n    <tr>\n      <th>4</th>\n      <td>19552</td>\n      <td>129294121.16599334024223784584379</td>\n      <td>64647.06058299667012111892292883</td>\n      <td>46430790.59592811944603207193834</td>\n      <td>2023-07-14</td>\n    </tr>\n  </tbody>\n</table>\n</div>"
     },
     "execution_count": 4,
     "metadata": {},
     "output_type": "execute_result"
    }
   ],
   "source": [
    "import pandas as pd\n",
    "\n",
    "from datetime import datetime, timedelta\n",
    "\n",
    "\n",
    "def unixtime_to_day_before(day_count, unixtime=0):\n",
    "    current_date = datetime.fromtimestamp(unixtime) + timedelta(days=day_count)\n",
    "    return current_date.strftime(\"%Y-%m-%d\")\n",
    "\n",
    "\n",
    "arb_df = pd.DataFrame(result)\n",
    "arb_df[\"date\"] = arb_df[\"day\"].apply(unixtime_to_day_before)\n",
    "arb_df.head()"
   ],
   "metadata": {
    "collapsed": false,
    "ExecuteTime": {
     "end_time": "2023-07-19T06:31:19.875832Z",
     "start_time": "2023-07-19T06:31:19.555844Z"
    }
   }
  },
  {
   "cell_type": "code",
   "execution_count": 6,
   "outputs": [
    {
     "data": {
      "text/plain": "         date  dailyTotalVolumeUSD  dailyTotalRevenueUSD  totalValueLockedUSD\n0  2023-04-30         1.294347e+08              64717.36          58969074.13\n1  2023-04-29         5.831820e+07              29159.10          59522967.00\n2  2023-04-28         1.291540e+08              64576.98          58623166.41\n3  2023-04-27         2.670841e+08             133542.06          53907496.47\n4  2023-04-26         2.884190e+08             144209.50          50551198.16",
      "text/html": "<div>\n<style scoped>\n    .dataframe tbody tr th:only-of-type {\n        vertical-align: middle;\n    }\n\n    .dataframe tbody tr th {\n        vertical-align: top;\n    }\n\n    .dataframe thead th {\n        text-align: right;\n    }\n</style>\n<table border=\"1\" class=\"dataframe\">\n  <thead>\n    <tr style=\"text-align: right;\">\n      <th></th>\n      <th>date</th>\n      <th>dailyTotalVolumeUSD</th>\n      <th>dailyTotalRevenueUSD</th>\n      <th>totalValueLockedUSD</th>\n    </tr>\n  </thead>\n  <tbody>\n    <tr>\n      <th>0</th>\n      <td>2023-04-30</td>\n      <td>1.294347e+08</td>\n      <td>64717.36</td>\n      <td>58969074.13</td>\n    </tr>\n    <tr>\n      <th>1</th>\n      <td>2023-04-29</td>\n      <td>5.831820e+07</td>\n      <td>29159.10</td>\n      <td>59522967.00</td>\n    </tr>\n    <tr>\n      <th>2</th>\n      <td>2023-04-28</td>\n      <td>1.291540e+08</td>\n      <td>64576.98</td>\n      <td>58623166.41</td>\n    </tr>\n    <tr>\n      <th>3</th>\n      <td>2023-04-27</td>\n      <td>2.670841e+08</td>\n      <td>133542.06</td>\n      <td>53907496.47</td>\n    </tr>\n    <tr>\n      <th>4</th>\n      <td>2023-04-26</td>\n      <td>2.884190e+08</td>\n      <td>144209.50</td>\n      <td>50551198.16</td>\n    </tr>\n  </tbody>\n</table>\n</div>"
     },
     "execution_count": 6,
     "metadata": {},
     "output_type": "execute_result"
    }
   ],
   "source": [
    "arb_df[\"dailyVolumeUSD\"] = arb_df[\"dailyVolumeUSD\"].astype(float).round(2)\n",
    "arb_df[\"dailyTotalRevenueUSD\"] = arb_df[\"dailyTotalRevenueUSD\"].astype(float).round(2)\n",
    "arb_df[\"totalValueLockedUSD\"] = arb_df[\"totalValueLockedUSD\"].astype(float).round(2)\n",
    "arb_df[\"date\"] = arb_df[\"date\"].astype(str)\n",
    "arb_df = arb_df[['date', 'dailyVolumeUSD', 'dailyTotalRevenueUSD', 'totalValueLockedUSD']]\n",
    "\n",
    "arb_old_df = pd.read_csv(\"../../data/arb_data_20230718.csv\")\n",
    "# arb_old_df.rename(columns={'dailyTotalVolumeUSD': 'dailyVolumeUSD'}, inplace=True)\n",
    "arb_df = pd.concat([arb_df, arb_old_df])\n",
    "arb_df.to_csv(\"../../data/arb_data_20230718.csv\", index=False)"
   ],
   "metadata": {
    "collapsed": false,
    "ExecuteTime": {
     "end_time": "2023-07-19T06:32:53.695177Z",
     "start_time": "2023-07-19T06:32:53.686317Z"
    }
   }
  },
  {
   "cell_type": "code",
   "execution_count": 21,
   "outputs": [],
   "source": [
    "# 获取并存储小时级数据\n",
    "POOL_ID = \"0xc31e54c7a869b9fcbecc14363cf510d1c41fa443\"\n",
    "\n",
    "arbitrum_query = \"\"\" query get_pools($num_skip: Int, $pool_id: ID!) {\n",
    "    liquidityPool(id: $pool_id) {\n",
    "        hourlySnapshots(skip: $num_skip, orderBy: hour, orderDirection: desc) {\n",
    "            hour\n",
    "            hourlyVolumeUSD\n",
    "            hourlyTotalRevenueUSD\n",
    "            totalValueLockedUSD\n",
    "        }\n",
    "    }\n",
    "}\"\"\"\n",
    "\n",
    "num_skip = 0\n",
    "result = []\n",
    "is_break = False"
   ],
   "metadata": {
    "collapsed": false,
    "ExecuteTime": {
     "end_time": "2023-07-19T09:21:54.593134Z",
     "start_time": "2023-07-19T09:21:54.585871Z"
    }
   }
  },
  {
   "cell_type": "code",
   "execution_count": 24,
   "outputs": [
    {
     "name": "stdout",
     "output_type": "stream",
     "text": [
      "Querying ticks, num_skip=0\n",
      "Querying ticks, num_skip=100\n",
      "Querying ticks, num_skip=200\n",
      "Querying ticks, num_skip=300\n",
      "Querying ticks, num_skip=400\n",
      "Querying ticks, num_skip=500\n",
      "Querying ticks, num_skip=600\n",
      "Querying ticks, num_skip=700\n",
      "Querying ticks, num_skip=800\n",
      "Querying ticks, num_skip=900\n",
      "Querying ticks, num_skip=1000\n",
      "Querying ticks, num_skip=1100\n",
      "Querying ticks, num_skip=1200\n",
      "Querying ticks, num_skip=1300\n",
      "Querying ticks, num_skip=1400\n",
      "Querying ticks, num_skip=1500\n",
      "Querying ticks, num_skip=1600\n"
     ]
    }
   ],
   "source": [
    "from gql import gql, Client\n",
    "from gql.transport.requests import RequestsHTTPTransport\n",
    "\n",
    "\n",
    "client = Client(\n",
    "    transport=RequestsHTTPTransport(\n",
    "        url='https://api.thegraph.com/subgraphs/name/messari/uniswap-v3-arbitrum',\n",
    "        verify=True,\n",
    "        retries=5,\n",
    "    ))\n",
    "\n",
    "while True:\n",
    "    print(\"Querying ticks, num_skip={}\".format(num_skip))\n",
    "    variables = {\"num_skip\": num_skip, \"pool_id\": POOL_ID}\n",
    "    response = client.execute(gql(arbitrum_query), variable_values=variables)\n",
    "    query_result = response[\"liquidityPool\"][\"hourlySnapshots\"]\n",
    "    for item in query_result:\n",
    "        hour = int(item[\"hour\"])\n",
    "        # todo: 修改这个部分\n",
    "        if hour <= 467775:\n",
    "            is_break = True\n",
    "            break\n",
    "        result.append(item)\n",
    "\n",
    "    if is_break == True or len(query_result) == 0:\n",
    "        break\n",
    "\n",
    "    num_skip = len(result)"
   ],
   "metadata": {
    "collapsed": false,
    "ExecuteTime": {
     "end_time": "2023-07-19T09:25:13.081806Z",
     "start_time": "2023-07-19T09:23:56.712380Z"
    }
   }
  },
  {
   "cell_type": "code",
   "execution_count": 27,
   "outputs": [],
   "source": [
    "import time\n",
    "\n",
    "def hour_to_unixtime(hour):\n",
    "    current_date = datetime.fromtimestamp(0) + timedelta(hours=hour)\n",
    "    return int(time.mktime(current_date.timetuple()))"
   ],
   "metadata": {
    "collapsed": false,
    "ExecuteTime": {
     "end_time": "2023-07-19T09:27:27.923354Z",
     "start_time": "2023-07-19T09:27:27.917515Z"
    }
   }
  },
  {
   "cell_type": "code",
   "execution_count": 29,
   "outputs": [
    {
     "data": {
      "text/plain": "     hour                  hourlyVolumeUSD           hourlyTotalRevenueUSD  \\\n0  469376  1460878.47258988336766531052831  730.43923629494168383265526443   \n1  469375   806643.10919596517901233525319   403.3215545979825895061676268   \n2  469374  1036466.04480128782220493231525  518.23302240064391110246615779   \n3  469373   656345.72649494087873370659467  328.17286324747043936685329741   \n4  469372  1637624.49925289785898467064351   818.8122496264489294923353219   \n\n                totalValueLockedUSD   timestamp  \n0   44233373.3510221773573453678896  1689753600  \n1  44290156.20582897883020136578084  1689750000  \n2  44254886.55727854726053867876903  1689746400  \n3  44168146.44106156636941494461425  1689742800  \n4  44087659.78889045440728093729744  1689739200  ",
      "text/html": "<div>\n<style scoped>\n    .dataframe tbody tr th:only-of-type {\n        vertical-align: middle;\n    }\n\n    .dataframe tbody tr th {\n        vertical-align: top;\n    }\n\n    .dataframe thead th {\n        text-align: right;\n    }\n</style>\n<table border=\"1\" class=\"dataframe\">\n  <thead>\n    <tr style=\"text-align: right;\">\n      <th></th>\n      <th>hour</th>\n      <th>hourlyVolumeUSD</th>\n      <th>hourlyTotalRevenueUSD</th>\n      <th>totalValueLockedUSD</th>\n      <th>timestamp</th>\n    </tr>\n  </thead>\n  <tbody>\n    <tr>\n      <th>0</th>\n      <td>469376</td>\n      <td>1460878.47258988336766531052831</td>\n      <td>730.43923629494168383265526443</td>\n      <td>44233373.3510221773573453678896</td>\n      <td>1689753600</td>\n    </tr>\n    <tr>\n      <th>1</th>\n      <td>469375</td>\n      <td>806643.10919596517901233525319</td>\n      <td>403.3215545979825895061676268</td>\n      <td>44290156.20582897883020136578084</td>\n      <td>1689750000</td>\n    </tr>\n    <tr>\n      <th>2</th>\n      <td>469374</td>\n      <td>1036466.04480128782220493231525</td>\n      <td>518.23302240064391110246615779</td>\n      <td>44254886.55727854726053867876903</td>\n      <td>1689746400</td>\n    </tr>\n    <tr>\n      <th>3</th>\n      <td>469373</td>\n      <td>656345.72649494087873370659467</td>\n      <td>328.17286324747043936685329741</td>\n      <td>44168146.44106156636941494461425</td>\n      <td>1689742800</td>\n    </tr>\n    <tr>\n      <th>4</th>\n      <td>469372</td>\n      <td>1637624.49925289785898467064351</td>\n      <td>818.8122496264489294923353219</td>\n      <td>44087659.78889045440728093729744</td>\n      <td>1689739200</td>\n    </tr>\n  </tbody>\n</table>\n</div>"
     },
     "execution_count": 29,
     "metadata": {},
     "output_type": "execute_result"
    }
   ],
   "source": [
    "arb_hour_df = pd.DataFrame(result)\n",
    "arb_hour_df[\"timestamp\"] = arb_hour_df[\"hour\"].apply(hour_to_unixtime)\n",
    "arb_hour_df.head()"
   ],
   "metadata": {
    "collapsed": false,
    "ExecuteTime": {
     "end_time": "2023-07-19T09:29:34.460669Z",
     "start_time": "2023-07-19T09:29:34.454836Z"
    }
   }
  },
  {
   "cell_type": "code",
   "execution_count": 31,
   "outputs": [],
   "source": [
    "arb_hour_df[['timestamp', 'hourlyVolumeUSD', 'hourlyTotalRevenueUSD', 'totalValueLockedUSD']].to_csv(\"../../data/arb_hour_data_20230719.csv\", index=False)"
   ],
   "metadata": {
    "collapsed": false,
    "ExecuteTime": {
     "end_time": "2023-07-19T09:30:10.705027Z",
     "start_time": "2023-07-19T09:30:10.697367Z"
    }
   }
  },
  {
   "cell_type": "code",
   "execution_count": 1,
   "outputs": [
    {
     "data": {
      "text/plain": "              v         vw        o        c            h        l  \\\n0   9809.273476  1942.7081  1940.49  1952.54  1958.700000  1928.00   \n1   6089.567718  1946.3557  1954.20  1946.57  1954.200000  1940.00   \n2   8278.776988  1935.8301  1946.46  1939.03  1947.349248  1928.98   \n3   7490.516503  1931.0554  1938.94  1928.44  1940.243055  1925.36   \n4  10282.469141  1924.8137  1928.38  1932.54  1935.900000  1912.03   \n\n               t      n  \n0  1654041600000  30746  \n1  1654045200000  23571  \n2  1654048800000  25013  \n3  1654052400000  21634  \n4  1654056000000  25834  ",
      "text/html": "<div>\n<style scoped>\n    .dataframe tbody tr th:only-of-type {\n        vertical-align: middle;\n    }\n\n    .dataframe tbody tr th {\n        vertical-align: top;\n    }\n\n    .dataframe thead th {\n        text-align: right;\n    }\n</style>\n<table border=\"1\" class=\"dataframe\">\n  <thead>\n    <tr style=\"text-align: right;\">\n      <th></th>\n      <th>v</th>\n      <th>vw</th>\n      <th>o</th>\n      <th>c</th>\n      <th>h</th>\n      <th>l</th>\n      <th>t</th>\n      <th>n</th>\n    </tr>\n  </thead>\n  <tbody>\n    <tr>\n      <th>0</th>\n      <td>9809.273476</td>\n      <td>1942.7081</td>\n      <td>1940.49</td>\n      <td>1952.54</td>\n      <td>1958.700000</td>\n      <td>1928.00</td>\n      <td>1654041600000</td>\n      <td>30746</td>\n    </tr>\n    <tr>\n      <th>1</th>\n      <td>6089.567718</td>\n      <td>1946.3557</td>\n      <td>1954.20</td>\n      <td>1946.57</td>\n      <td>1954.200000</td>\n      <td>1940.00</td>\n      <td>1654045200000</td>\n      <td>23571</td>\n    </tr>\n    <tr>\n      <th>2</th>\n      <td>8278.776988</td>\n      <td>1935.8301</td>\n      <td>1946.46</td>\n      <td>1939.03</td>\n      <td>1947.349248</td>\n      <td>1928.98</td>\n      <td>1654048800000</td>\n      <td>25013</td>\n    </tr>\n    <tr>\n      <th>3</th>\n      <td>7490.516503</td>\n      <td>1931.0554</td>\n      <td>1938.94</td>\n      <td>1928.44</td>\n      <td>1940.243055</td>\n      <td>1925.36</td>\n      <td>1654052400000</td>\n      <td>21634</td>\n    </tr>\n    <tr>\n      <th>4</th>\n      <td>10282.469141</td>\n      <td>1924.8137</td>\n      <td>1928.38</td>\n      <td>1932.54</td>\n      <td>1935.900000</td>\n      <td>1912.03</td>\n      <td>1654056000000</td>\n      <td>25834</td>\n    </tr>\n  </tbody>\n</table>\n</div>"
     },
     "execution_count": 1,
     "metadata": {},
     "output_type": "execute_result"
    }
   ],
   "source": [
    "# 比较小时级数据回测质押收益 => 先粗略计算，再根据质押的分布精确计算\n",
    "\n",
    "import pandas as pd\n",
    "\n",
    "price_df = pd.read_csv(\"../../data/eth_usd_polygon_20230718.csv\")\n",
    "price_df.head()"
   ],
   "metadata": {
    "collapsed": false,
    "ExecuteTime": {
     "end_time": "2023-07-19T10:29:08.869100Z",
     "start_time": "2023-07-19T10:29:07.738375Z"
    }
   }
  },
  {
   "cell_type": "code",
   "execution_count": null,
   "outputs": [],
   "source": [],
   "metadata": {
    "collapsed": false
   }
  }
 ],
 "metadata": {
  "kernelspec": {
   "display_name": "Python 3",
   "language": "python",
   "name": "python3"
  },
  "language_info": {
   "codemirror_mode": {
    "name": "ipython",
    "version": 2
   },
   "file_extension": ".py",
   "mimetype": "text/x-python",
   "name": "python",
   "nbconvert_exporter": "python",
   "pygments_lexer": "ipython2",
   "version": "2.7.6"
  }
 },
 "nbformat": 4,
 "nbformat_minor": 0
}
