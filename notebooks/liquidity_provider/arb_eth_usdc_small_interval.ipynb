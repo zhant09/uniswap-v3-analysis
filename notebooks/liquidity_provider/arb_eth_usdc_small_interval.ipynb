{
 "cells": [
  {
   "cell_type": "markdown",
   "source": [
    "1. 小区间质押是否可能获得高额利润"
   ],
   "metadata": {
    "collapsed": false
   }
  },
  {
   "cell_type": "code",
   "execution_count": 2,
   "outputs": [],
   "source": [
    "# 获取并存储天级数据\n",
    "POOL_ID = \"0xc31e54c7a869b9fcbecc14363cf510d1c41fa443\"\n",
    "\n",
    "arbitrum_query = \"\"\" query get_pools($num_skip: Int, $pool_id: ID!) {\n",
    "    liquidityPool(id: $pool_id) {\n",
    "        dailySnapshots(skip: $num_skip, orderBy: day, orderDirection: desc) {\n",
    "            day\n",
    "            dailyVolumeUSD\n",
    "            dailyTotalRevenueUSD\n",
    "            totalValueLockedUSD\n",
    "        }\n",
    "    }\n",
    "}\"\"\""
   ],
   "metadata": {
    "collapsed": false,
    "ExecuteTime": {
     "end_time": "2023-07-19T06:30:02.384040Z",
     "start_time": "2023-07-19T06:30:02.378377Z"
    }
   }
  },
  {
   "cell_type": "code",
   "execution_count": null,
   "outputs": [],
   "source": [
    "num_skip = 0\n",
    "result = []\n",
    "is_break = False"
   ],
   "metadata": {
    "collapsed": false
   }
  },
  {
   "cell_type": "code",
   "execution_count": null,
   "outputs": [],
   "source": [
    "from gql import gql, Client\n",
    "from gql.transport.requests import RequestsHTTPTransport\n",
    "\n",
    "\n",
    "client = Client(\n",
    "    transport=RequestsHTTPTransport(\n",
    "        url='https://api.thegraph.com/subgraphs/name/messari/uniswap-v3-arbitrum',\n",
    "        verify=True,\n",
    "        retries=5,\n",
    "    ))\n",
    "\n",
    "while True:\n",
    "    print(\"Querying ticks, num_skip={}\".format(num_skip))\n",
    "    variables = {\"num_skip\": num_skip, \"pool_id\": POOL_ID}\n",
    "    response = client.execute(gql(arbitrum_query), variable_values=variables)\n",
    "    query_result = response[\"liquidityPool\"][\"dailySnapshots\"]\n",
    "    for item in query_result:\n",
    "        day = int(item[\"day\"])\n",
    "        # todo: 修改这个部分\n",
    "        if day <= 19477:\n",
    "            is_break = True\n",
    "            break\n",
    "        result.append(item)\n",
    "\n",
    "    if is_break == True or len(query_result) == 0:\n",
    "        break\n",
    "\n",
    "    num_skip = len(result)"
   ],
   "metadata": {
    "collapsed": false
   }
  },
  {
   "cell_type": "code",
   "execution_count": 4,
   "outputs": [
    {
     "data": {
      "text/plain": "     day                     dailyVolumeUSD              dailyTotalRevenueUSD  \\\n0  19556   62645858.87339231038231371303131  31322.92943669615519115685651945   \n1  19555   78836539.34931248039460595756886   39418.2696746562401973029787891   \n2  19554   43233649.01354901681799617409771  21616.82450677450840899808705174   \n3  19553   29838778.31630346908133923990871  14919.38915815173454066961995703   \n4  19552  129294121.16599334024223784584379  64647.06058299667012111892292883   \n\n                totalValueLockedUSD        date  \n0  43991968.86397924299999433932886  2023-07-18  \n1    44594966.108651452749034656584  2023-07-17  \n2   46212787.3971710232147209161641  2023-07-16  \n3  46504482.69780273868477842499168  2023-07-15  \n4  46430790.59592811944603207193834  2023-07-14  ",
      "text/html": "<div>\n<style scoped>\n    .dataframe tbody tr th:only-of-type {\n        vertical-align: middle;\n    }\n\n    .dataframe tbody tr th {\n        vertical-align: top;\n    }\n\n    .dataframe thead th {\n        text-align: right;\n    }\n</style>\n<table border=\"1\" class=\"dataframe\">\n  <thead>\n    <tr style=\"text-align: right;\">\n      <th></th>\n      <th>day</th>\n      <th>dailyVolumeUSD</th>\n      <th>dailyTotalRevenueUSD</th>\n      <th>totalValueLockedUSD</th>\n      <th>date</th>\n    </tr>\n  </thead>\n  <tbody>\n    <tr>\n      <th>0</th>\n      <td>19556</td>\n      <td>62645858.87339231038231371303131</td>\n      <td>31322.92943669615519115685651945</td>\n      <td>43991968.86397924299999433932886</td>\n      <td>2023-07-18</td>\n    </tr>\n    <tr>\n      <th>1</th>\n      <td>19555</td>\n      <td>78836539.34931248039460595756886</td>\n      <td>39418.2696746562401973029787891</td>\n      <td>44594966.108651452749034656584</td>\n      <td>2023-07-17</td>\n    </tr>\n    <tr>\n      <th>2</th>\n      <td>19554</td>\n      <td>43233649.01354901681799617409771</td>\n      <td>21616.82450677450840899808705174</td>\n      <td>46212787.3971710232147209161641</td>\n      <td>2023-07-16</td>\n    </tr>\n    <tr>\n      <th>3</th>\n      <td>19553</td>\n      <td>29838778.31630346908133923990871</td>\n      <td>14919.38915815173454066961995703</td>\n      <td>46504482.69780273868477842499168</td>\n      <td>2023-07-15</td>\n    </tr>\n    <tr>\n      <th>4</th>\n      <td>19552</td>\n      <td>129294121.16599334024223784584379</td>\n      <td>64647.06058299667012111892292883</td>\n      <td>46430790.59592811944603207193834</td>\n      <td>2023-07-14</td>\n    </tr>\n  </tbody>\n</table>\n</div>"
     },
     "execution_count": 4,
     "metadata": {},
     "output_type": "execute_result"
    }
   ],
   "source": [
    "import pandas as pd\n",
    "\n",
    "from datetime import datetime, timedelta\n",
    "\n",
    "\n",
    "def unixtime_to_day_before(day_count, unixtime=0):\n",
    "    current_date = datetime.fromtimestamp(unixtime) + timedelta(days=day_count)\n",
    "    return current_date.strftime(\"%Y-%m-%d\")\n",
    "\n",
    "\n",
    "arb_df = pd.DataFrame(result)\n",
    "arb_df[\"date\"] = arb_df[\"day\"].apply(unixtime_to_day_before)\n",
    "arb_df.head()"
   ],
   "metadata": {
    "collapsed": false,
    "ExecuteTime": {
     "end_time": "2023-07-19T06:31:19.875832Z",
     "start_time": "2023-07-19T06:31:19.555844Z"
    }
   }
  },
  {
   "cell_type": "code",
   "execution_count": 6,
   "outputs": [
    {
     "data": {
      "text/plain": "         date  dailyTotalVolumeUSD  dailyTotalRevenueUSD  totalValueLockedUSD\n0  2023-04-30         1.294347e+08              64717.36          58969074.13\n1  2023-04-29         5.831820e+07              29159.10          59522967.00\n2  2023-04-28         1.291540e+08              64576.98          58623166.41\n3  2023-04-27         2.670841e+08             133542.06          53907496.47\n4  2023-04-26         2.884190e+08             144209.50          50551198.16",
      "text/html": "<div>\n<style scoped>\n    .dataframe tbody tr th:only-of-type {\n        vertical-align: middle;\n    }\n\n    .dataframe tbody tr th {\n        vertical-align: top;\n    }\n\n    .dataframe thead th {\n        text-align: right;\n    }\n</style>\n<table border=\"1\" class=\"dataframe\">\n  <thead>\n    <tr style=\"text-align: right;\">\n      <th></th>\n      <th>date</th>\n      <th>dailyTotalVolumeUSD</th>\n      <th>dailyTotalRevenueUSD</th>\n      <th>totalValueLockedUSD</th>\n    </tr>\n  </thead>\n  <tbody>\n    <tr>\n      <th>0</th>\n      <td>2023-04-30</td>\n      <td>1.294347e+08</td>\n      <td>64717.36</td>\n      <td>58969074.13</td>\n    </tr>\n    <tr>\n      <th>1</th>\n      <td>2023-04-29</td>\n      <td>5.831820e+07</td>\n      <td>29159.10</td>\n      <td>59522967.00</td>\n    </tr>\n    <tr>\n      <th>2</th>\n      <td>2023-04-28</td>\n      <td>1.291540e+08</td>\n      <td>64576.98</td>\n      <td>58623166.41</td>\n    </tr>\n    <tr>\n      <th>3</th>\n      <td>2023-04-27</td>\n      <td>2.670841e+08</td>\n      <td>133542.06</td>\n      <td>53907496.47</td>\n    </tr>\n    <tr>\n      <th>4</th>\n      <td>2023-04-26</td>\n      <td>2.884190e+08</td>\n      <td>144209.50</td>\n      <td>50551198.16</td>\n    </tr>\n  </tbody>\n</table>\n</div>"
     },
     "execution_count": 6,
     "metadata": {},
     "output_type": "execute_result"
    }
   ],
   "source": [
    "arb_df[\"dailyVolumeUSD\"] = arb_df[\"dailyVolumeUSD\"].astype(float).round(2)\n",
    "arb_df[\"dailyTotalRevenueUSD\"] = arb_df[\"dailyTotalRevenueUSD\"].astype(float).round(2)\n",
    "arb_df[\"totalValueLockedUSD\"] = arb_df[\"totalValueLockedUSD\"].astype(float).round(2)\n",
    "arb_df[\"date\"] = arb_df[\"date\"].astype(str)\n",
    "arb_df = arb_df[['date', 'dailyVolumeUSD', 'dailyTotalRevenueUSD', 'totalValueLockedUSD']]\n",
    "\n",
    "arb_old_df = pd.read_csv(\"../../data/arb_data_20230718.csv\")\n",
    "# arb_old_df.rename(columns={'dailyTotalVolumeUSD': 'dailyVolumeUSD'}, inplace=True)\n",
    "arb_df = pd.concat([arb_df, arb_old_df])\n",
    "arb_df.to_csv(\"../../data/arb_data_20230718.csv\", index=False)"
   ],
   "metadata": {
    "collapsed": false,
    "ExecuteTime": {
     "end_time": "2023-07-19T06:32:53.695177Z",
     "start_time": "2023-07-19T06:32:53.686317Z"
    }
   }
  },
  {
   "cell_type": "code",
   "execution_count": 21,
   "outputs": [],
   "source": [
    "# 获取并存储小时级数据\n",
    "POOL_ID = \"0xc31e54c7a869b9fcbecc14363cf510d1c41fa443\"\n",
    "\n",
    "arbitrum_query = \"\"\" query get_pools($num_skip: Int, $pool_id: ID!) {\n",
    "    liquidityPool(id: $pool_id) {\n",
    "        hourlySnapshots(skip: $num_skip, orderBy: hour, orderDirection: desc) {\n",
    "            hour\n",
    "            hourlyVolumeUSD\n",
    "            hourlyTotalRevenueUSD\n",
    "            totalValueLockedUSD\n",
    "        }\n",
    "    }\n",
    "}\"\"\"\n",
    "\n",
    "num_skip = 0\n",
    "result = []\n",
    "is_break = False"
   ],
   "metadata": {
    "collapsed": false,
    "ExecuteTime": {
     "end_time": "2023-07-19T09:21:54.593134Z",
     "start_time": "2023-07-19T09:21:54.585871Z"
    }
   }
  },
  {
   "cell_type": "code",
   "execution_count": 24,
   "outputs": [
    {
     "name": "stdout",
     "output_type": "stream",
     "text": [
      "Querying ticks, num_skip=0\n",
      "Querying ticks, num_skip=100\n",
      "Querying ticks, num_skip=200\n",
      "Querying ticks, num_skip=300\n",
      "Querying ticks, num_skip=400\n",
      "Querying ticks, num_skip=500\n",
      "Querying ticks, num_skip=600\n",
      "Querying ticks, num_skip=700\n",
      "Querying ticks, num_skip=800\n",
      "Querying ticks, num_skip=900\n",
      "Querying ticks, num_skip=1000\n",
      "Querying ticks, num_skip=1100\n",
      "Querying ticks, num_skip=1200\n",
      "Querying ticks, num_skip=1300\n",
      "Querying ticks, num_skip=1400\n",
      "Querying ticks, num_skip=1500\n",
      "Querying ticks, num_skip=1600\n"
     ]
    }
   ],
   "source": [
    "from gql import gql, Client\n",
    "from gql.transport.requests import RequestsHTTPTransport\n",
    "\n",
    "\n",
    "client = Client(\n",
    "    transport=RequestsHTTPTransport(\n",
    "        url='https://api.thegraph.com/subgraphs/name/messari/uniswap-v3-arbitrum',\n",
    "        verify=True,\n",
    "        retries=5,\n",
    "    ))\n",
    "\n",
    "while True:\n",
    "    print(\"Querying ticks, num_skip={}\".format(num_skip))\n",
    "    variables = {\"num_skip\": num_skip, \"pool_id\": POOL_ID}\n",
    "    response = client.execute(gql(arbitrum_query), variable_values=variables)\n",
    "    query_result = response[\"liquidityPool\"][\"hourlySnapshots\"]\n",
    "    for item in query_result:\n",
    "        hour = int(item[\"hour\"])\n",
    "        # todo: 修改这个部分\n",
    "        if hour <= 467775:\n",
    "            is_break = True\n",
    "            break\n",
    "        result.append(item)\n",
    "\n",
    "    if is_break == True or len(query_result) == 0:\n",
    "        break\n",
    "\n",
    "    num_skip = len(result)"
   ],
   "metadata": {
    "collapsed": false,
    "ExecuteTime": {
     "end_time": "2023-07-19T09:25:13.081806Z",
     "start_time": "2023-07-19T09:23:56.712380Z"
    }
   }
  },
  {
   "cell_type": "code",
   "execution_count": 27,
   "outputs": [],
   "source": [
    "import time\n",
    "\n",
    "def hour_to_unixtime(hour):\n",
    "    current_date = datetime.fromtimestamp(0) + timedelta(hours=hour)\n",
    "    return int(time.mktime(current_date.timetuple()))"
   ],
   "metadata": {
    "collapsed": false,
    "ExecuteTime": {
     "end_time": "2023-07-19T09:27:27.923354Z",
     "start_time": "2023-07-19T09:27:27.917515Z"
    }
   }
  },
  {
   "cell_type": "code",
   "execution_count": 29,
   "outputs": [
    {
     "data": {
      "text/plain": "     hour                  hourlyVolumeUSD           hourlyTotalRevenueUSD  \\\n0  469376  1460878.47258988336766531052831  730.43923629494168383265526443   \n1  469375   806643.10919596517901233525319   403.3215545979825895061676268   \n2  469374  1036466.04480128782220493231525  518.23302240064391110246615779   \n3  469373   656345.72649494087873370659467  328.17286324747043936685329741   \n4  469372  1637624.49925289785898467064351   818.8122496264489294923353219   \n\n                totalValueLockedUSD   timestamp  \n0   44233373.3510221773573453678896  1689753600  \n1  44290156.20582897883020136578084  1689750000  \n2  44254886.55727854726053867876903  1689746400  \n3  44168146.44106156636941494461425  1689742800  \n4  44087659.78889045440728093729744  1689739200  ",
      "text/html": "<div>\n<style scoped>\n    .dataframe tbody tr th:only-of-type {\n        vertical-align: middle;\n    }\n\n    .dataframe tbody tr th {\n        vertical-align: top;\n    }\n\n    .dataframe thead th {\n        text-align: right;\n    }\n</style>\n<table border=\"1\" class=\"dataframe\">\n  <thead>\n    <tr style=\"text-align: right;\">\n      <th></th>\n      <th>hour</th>\n      <th>hourlyVolumeUSD</th>\n      <th>hourlyTotalRevenueUSD</th>\n      <th>totalValueLockedUSD</th>\n      <th>timestamp</th>\n    </tr>\n  </thead>\n  <tbody>\n    <tr>\n      <th>0</th>\n      <td>469376</td>\n      <td>1460878.47258988336766531052831</td>\n      <td>730.43923629494168383265526443</td>\n      <td>44233373.3510221773573453678896</td>\n      <td>1689753600</td>\n    </tr>\n    <tr>\n      <th>1</th>\n      <td>469375</td>\n      <td>806643.10919596517901233525319</td>\n      <td>403.3215545979825895061676268</td>\n      <td>44290156.20582897883020136578084</td>\n      <td>1689750000</td>\n    </tr>\n    <tr>\n      <th>2</th>\n      <td>469374</td>\n      <td>1036466.04480128782220493231525</td>\n      <td>518.23302240064391110246615779</td>\n      <td>44254886.55727854726053867876903</td>\n      <td>1689746400</td>\n    </tr>\n    <tr>\n      <th>3</th>\n      <td>469373</td>\n      <td>656345.72649494087873370659467</td>\n      <td>328.17286324747043936685329741</td>\n      <td>44168146.44106156636941494461425</td>\n      <td>1689742800</td>\n    </tr>\n    <tr>\n      <th>4</th>\n      <td>469372</td>\n      <td>1637624.49925289785898467064351</td>\n      <td>818.8122496264489294923353219</td>\n      <td>44087659.78889045440728093729744</td>\n      <td>1689739200</td>\n    </tr>\n  </tbody>\n</table>\n</div>"
     },
     "execution_count": 29,
     "metadata": {},
     "output_type": "execute_result"
    }
   ],
   "source": [
    "arb_hour_df = pd.DataFrame(result)\n",
    "arb_hour_df[\"timestamp\"] = arb_hour_df[\"hour\"].apply(hour_to_unixtime)\n",
    "arb_hour_df.head()"
   ],
   "metadata": {
    "collapsed": false,
    "ExecuteTime": {
     "end_time": "2023-07-19T09:29:34.460669Z",
     "start_time": "2023-07-19T09:29:34.454836Z"
    }
   }
  },
  {
   "cell_type": "code",
   "execution_count": 31,
   "outputs": [],
   "source": [
    "arb_hour_df[['timestamp', 'hourlyVolumeUSD', 'hourlyTotalRevenueUSD', 'totalValueLockedUSD']].to_csv(\"../../data/arb_hour_data_20230719.csv\", index=False)"
   ],
   "metadata": {
    "collapsed": false,
    "ExecuteTime": {
     "end_time": "2023-07-19T09:30:10.705027Z",
     "start_time": "2023-07-19T09:30:10.697367Z"
    }
   }
  },
  {
   "cell_type": "code",
   "execution_count": 13,
   "outputs": [
    {
     "data": {
      "text/plain": "         v      vw       o       c       h       l              t      n\n0  9809.27 1942.71 1940.49 1952.54 1958.70 1928.00  1654041600000  30746\n1  6089.57 1946.36 1954.20 1946.57 1954.20 1940.00  1654045200000  23571\n2  8278.78 1935.83 1946.46 1939.03 1947.35 1928.98  1654048800000  25013\n3  7490.52 1931.06 1938.94 1928.44 1940.24 1925.36  1654052400000  21634\n4 10282.47 1924.81 1928.38 1932.54 1935.90 1912.03  1654056000000  25834",
      "text/html": "<div>\n<style scoped>\n    .dataframe tbody tr th:only-of-type {\n        vertical-align: middle;\n    }\n\n    .dataframe tbody tr th {\n        vertical-align: top;\n    }\n\n    .dataframe thead th {\n        text-align: right;\n    }\n</style>\n<table border=\"1\" class=\"dataframe\">\n  <thead>\n    <tr style=\"text-align: right;\">\n      <th></th>\n      <th>v</th>\n      <th>vw</th>\n      <th>o</th>\n      <th>c</th>\n      <th>h</th>\n      <th>l</th>\n      <th>t</th>\n      <th>n</th>\n    </tr>\n  </thead>\n  <tbody>\n    <tr>\n      <th>0</th>\n      <td>9809.27</td>\n      <td>1942.71</td>\n      <td>1940.49</td>\n      <td>1952.54</td>\n      <td>1958.70</td>\n      <td>1928.00</td>\n      <td>1654041600000</td>\n      <td>30746</td>\n    </tr>\n    <tr>\n      <th>1</th>\n      <td>6089.57</td>\n      <td>1946.36</td>\n      <td>1954.20</td>\n      <td>1946.57</td>\n      <td>1954.20</td>\n      <td>1940.00</td>\n      <td>1654045200000</td>\n      <td>23571</td>\n    </tr>\n    <tr>\n      <th>2</th>\n      <td>8278.78</td>\n      <td>1935.83</td>\n      <td>1946.46</td>\n      <td>1939.03</td>\n      <td>1947.35</td>\n      <td>1928.98</td>\n      <td>1654048800000</td>\n      <td>25013</td>\n    </tr>\n    <tr>\n      <th>3</th>\n      <td>7490.52</td>\n      <td>1931.06</td>\n      <td>1938.94</td>\n      <td>1928.44</td>\n      <td>1940.24</td>\n      <td>1925.36</td>\n      <td>1654052400000</td>\n      <td>21634</td>\n    </tr>\n    <tr>\n      <th>4</th>\n      <td>10282.47</td>\n      <td>1924.81</td>\n      <td>1928.38</td>\n      <td>1932.54</td>\n      <td>1935.90</td>\n      <td>1912.03</td>\n      <td>1654056000000</td>\n      <td>25834</td>\n    </tr>\n  </tbody>\n</table>\n</div>"
     },
     "execution_count": 13,
     "metadata": {},
     "output_type": "execute_result"
    }
   ],
   "source": [
    "# 比较小时级数据回测质押收益 => 先粗略计算，再根据质押的分布精确计算\n",
    "\n",
    "import pandas as pd\n",
    "\n",
    "price_df = pd.read_csv(\"../../data/eth_usd_polygon_20230718.csv\")\n",
    "price_df.head()"
   ],
   "metadata": {
    "collapsed": false,
    "ExecuteTime": {
     "end_time": "2023-07-19T10:44:25.502409Z",
     "start_time": "2023-07-19T10:44:25.473317Z"
    }
   }
  },
  {
   "cell_type": "code",
   "execution_count": 14,
   "outputs": [
    {
     "data": {
      "text/plain": "    timestamp  hourlyVolumeUSD  hourlyTotalRevenueUSD  totalValueLockedUSD\n0  1689753600       1460878.47                 730.44          44233373.35\n1  1689750000        806643.11                 403.32          44290156.21\n2  1689746400       1036466.04                 518.23          44254886.56\n3  1689742800        656345.73                 328.17          44168146.44\n4  1689739200       1637624.50                 818.81          44087659.79",
      "text/html": "<div>\n<style scoped>\n    .dataframe tbody tr th:only-of-type {\n        vertical-align: middle;\n    }\n\n    .dataframe tbody tr th {\n        vertical-align: top;\n    }\n\n    .dataframe thead th {\n        text-align: right;\n    }\n</style>\n<table border=\"1\" class=\"dataframe\">\n  <thead>\n    <tr style=\"text-align: right;\">\n      <th></th>\n      <th>timestamp</th>\n      <th>hourlyVolumeUSD</th>\n      <th>hourlyTotalRevenueUSD</th>\n      <th>totalValueLockedUSD</th>\n    </tr>\n  </thead>\n  <tbody>\n    <tr>\n      <th>0</th>\n      <td>1689753600</td>\n      <td>1460878.47</td>\n      <td>730.44</td>\n      <td>44233373.35</td>\n    </tr>\n    <tr>\n      <th>1</th>\n      <td>1689750000</td>\n      <td>806643.11</td>\n      <td>403.32</td>\n      <td>44290156.21</td>\n    </tr>\n    <tr>\n      <th>2</th>\n      <td>1689746400</td>\n      <td>1036466.04</td>\n      <td>518.23</td>\n      <td>44254886.56</td>\n    </tr>\n    <tr>\n      <th>3</th>\n      <td>1689742800</td>\n      <td>656345.73</td>\n      <td>328.17</td>\n      <td>44168146.44</td>\n    </tr>\n    <tr>\n      <th>4</th>\n      <td>1689739200</td>\n      <td>1637624.50</td>\n      <td>818.81</td>\n      <td>44087659.79</td>\n    </tr>\n  </tbody>\n</table>\n</div>"
     },
     "execution_count": 14,
     "metadata": {},
     "output_type": "execute_result"
    }
   ],
   "source": [
    "pd.set_option('display.float_format', lambda x: '%.2f' % x)\n",
    "\n",
    "arb_df = pd.read_csv(\"../../data/arb_hour_data_20230719.csv\")\n",
    "arb_df.head()"
   ],
   "metadata": {
    "collapsed": false,
    "ExecuteTime": {
     "end_time": "2023-07-19T10:44:28.485956Z",
     "start_time": "2023-07-19T10:44:28.474080Z"
    }
   }
  },
  {
   "cell_type": "code",
   "execution_count": 15,
   "outputs": [
    {
     "data": {
      "text/plain": "        o       c       h       l              t   timestamp\n0 1940.49 1952.54 1958.70 1928.00  1654041600000  1654041600\n1 1954.20 1946.57 1954.20 1940.00  1654045200000  1654045200\n2 1946.46 1939.03 1947.35 1928.98  1654048800000  1654048800\n3 1938.94 1928.44 1940.24 1925.36  1654052400000  1654052400\n4 1928.38 1932.54 1935.90 1912.03  1654056000000  1654056000",
      "text/html": "<div>\n<style scoped>\n    .dataframe tbody tr th:only-of-type {\n        vertical-align: middle;\n    }\n\n    .dataframe tbody tr th {\n        vertical-align: top;\n    }\n\n    .dataframe thead th {\n        text-align: right;\n    }\n</style>\n<table border=\"1\" class=\"dataframe\">\n  <thead>\n    <tr style=\"text-align: right;\">\n      <th></th>\n      <th>o</th>\n      <th>c</th>\n      <th>h</th>\n      <th>l</th>\n      <th>t</th>\n      <th>timestamp</th>\n    </tr>\n  </thead>\n  <tbody>\n    <tr>\n      <th>0</th>\n      <td>1940.49</td>\n      <td>1952.54</td>\n      <td>1958.70</td>\n      <td>1928.00</td>\n      <td>1654041600000</td>\n      <td>1654041600</td>\n    </tr>\n    <tr>\n      <th>1</th>\n      <td>1954.20</td>\n      <td>1946.57</td>\n      <td>1954.20</td>\n      <td>1940.00</td>\n      <td>1654045200000</td>\n      <td>1654045200</td>\n    </tr>\n    <tr>\n      <th>2</th>\n      <td>1946.46</td>\n      <td>1939.03</td>\n      <td>1947.35</td>\n      <td>1928.98</td>\n      <td>1654048800000</td>\n      <td>1654048800</td>\n    </tr>\n    <tr>\n      <th>3</th>\n      <td>1938.94</td>\n      <td>1928.44</td>\n      <td>1940.24</td>\n      <td>1925.36</td>\n      <td>1654052400000</td>\n      <td>1654052400</td>\n    </tr>\n    <tr>\n      <th>4</th>\n      <td>1928.38</td>\n      <td>1932.54</td>\n      <td>1935.90</td>\n      <td>1912.03</td>\n      <td>1654056000000</td>\n      <td>1654056000</td>\n    </tr>\n  </tbody>\n</table>\n</div>"
     },
     "execution_count": 15,
     "metadata": {},
     "output_type": "execute_result"
    }
   ],
   "source": [
    "price_df = price_df[['o', 'c', 'h', 'l', 't']]\n",
    "price_df[\"timestamp\"] = (price_df['t'] / 1000).astype(int)\n",
    "price_df.head()"
   ],
   "metadata": {
    "collapsed": false,
    "ExecuteTime": {
     "end_time": "2023-07-19T10:44:31.185604Z",
     "start_time": "2023-07-19T10:44:31.178626Z"
    }
   }
  },
  {
   "cell_type": "code",
   "execution_count": 16,
   "outputs": [
    {
     "data": {
      "text/plain": "    timestamp  hourlyVolumeUSD  hourlyTotalRevenueUSD  totalValueLockedUSD  \\\n0  1689721200       1839294.64                 919.65          43991968.86   \n1  1689717600       1570102.68                 785.05          43971689.85   \n2  1689714000       1699318.65                 849.66          44024583.09   \n3  1689710400       2210259.03                1105.13          43916277.35   \n4  1689706800       2770797.59                1385.40          43830655.08   \n\n        o       c       h       l              t  \n0 1901.64 1897.72 1903.60 1893.29  1689721200000  \n1 1897.51 1901.65 1904.20 1896.13  1689717600000  \n2 1894.62 1897.49 1900.70 1892.85  1689714000000  \n3 1892.56 1894.61 1899.80 1889.99  1689710400000  \n4 1901.68 1892.67 1905.20 1890.43  1689706800000  ",
      "text/html": "<div>\n<style scoped>\n    .dataframe tbody tr th:only-of-type {\n        vertical-align: middle;\n    }\n\n    .dataframe tbody tr th {\n        vertical-align: top;\n    }\n\n    .dataframe thead th {\n        text-align: right;\n    }\n</style>\n<table border=\"1\" class=\"dataframe\">\n  <thead>\n    <tr style=\"text-align: right;\">\n      <th></th>\n      <th>timestamp</th>\n      <th>hourlyVolumeUSD</th>\n      <th>hourlyTotalRevenueUSD</th>\n      <th>totalValueLockedUSD</th>\n      <th>o</th>\n      <th>c</th>\n      <th>h</th>\n      <th>l</th>\n      <th>t</th>\n    </tr>\n  </thead>\n  <tbody>\n    <tr>\n      <th>0</th>\n      <td>1689721200</td>\n      <td>1839294.64</td>\n      <td>919.65</td>\n      <td>43991968.86</td>\n      <td>1901.64</td>\n      <td>1897.72</td>\n      <td>1903.60</td>\n      <td>1893.29</td>\n      <td>1689721200000</td>\n    </tr>\n    <tr>\n      <th>1</th>\n      <td>1689717600</td>\n      <td>1570102.68</td>\n      <td>785.05</td>\n      <td>43971689.85</td>\n      <td>1897.51</td>\n      <td>1901.65</td>\n      <td>1904.20</td>\n      <td>1896.13</td>\n      <td>1689717600000</td>\n    </tr>\n    <tr>\n      <th>2</th>\n      <td>1689714000</td>\n      <td>1699318.65</td>\n      <td>849.66</td>\n      <td>44024583.09</td>\n      <td>1894.62</td>\n      <td>1897.49</td>\n      <td>1900.70</td>\n      <td>1892.85</td>\n      <td>1689714000000</td>\n    </tr>\n    <tr>\n      <th>3</th>\n      <td>1689710400</td>\n      <td>2210259.03</td>\n      <td>1105.13</td>\n      <td>43916277.35</td>\n      <td>1892.56</td>\n      <td>1894.61</td>\n      <td>1899.80</td>\n      <td>1889.99</td>\n      <td>1689710400000</td>\n    </tr>\n    <tr>\n      <th>4</th>\n      <td>1689706800</td>\n      <td>2770797.59</td>\n      <td>1385.40</td>\n      <td>43830655.08</td>\n      <td>1901.68</td>\n      <td>1892.67</td>\n      <td>1905.20</td>\n      <td>1890.43</td>\n      <td>1689706800000</td>\n    </tr>\n  </tbody>\n</table>\n</div>"
     },
     "execution_count": 16,
     "metadata": {},
     "output_type": "execute_result"
    }
   ],
   "source": [
    "df = pd.merge(arb_df, price_df, on='timestamp')\n",
    "df.head()"
   ],
   "metadata": {
    "collapsed": false,
    "ExecuteTime": {
     "end_time": "2023-07-19T10:44:33.559912Z",
     "start_time": "2023-07-19T10:44:33.547517Z"
    }
   }
  },
  {
   "cell_type": "code",
   "execution_count": 17,
   "outputs": [
    {
     "data": {
      "text/plain": "(1592, 9)"
     },
     "execution_count": 17,
     "metadata": {},
     "output_type": "execute_result"
    }
   ],
   "source": [
    "df.shape"
   ],
   "metadata": {
    "collapsed": false,
    "ExecuteTime": {
     "end_time": "2023-07-19T10:44:36.233616Z",
     "start_time": "2023-07-19T10:44:36.222541Z"
    }
   }
  },
  {
   "cell_type": "code",
   "execution_count": 18,
   "outputs": [
    {
     "name": "stderr",
     "output_type": "stream",
     "text": [
      "/var/folders/sj/9n8j6m2s6_1g9x78vzd8z0rm0000gn/T/ipykernel_1928/1548438947.py:5: SettingWithCopyWarning: \n",
      "A value is trying to be set on a copy of a slice from a DataFrame.\n",
      "Try using .loc[row_indexer,col_indexer] = value instead\n",
      "\n",
      "See the caveats in the documentation: https://pandas.pydata.org/pandas-docs/stable/user_guide/indexing.html#returning-a-view-versus-a-copy\n",
      "  rest_df[\"datetime\"] = rest_df[\"timestamp\"].apply(utils.utc_timestamp_to_datetime_str)\n"
     ]
    },
    {
     "data": {
      "text/plain": "    timestamp  hourlyVolumeUSD  hourlyTotalRevenueUSD  totalValueLockedUSD  \\\n0  1689753600       1460878.47                 730.44          44233373.35   \n1  1689750000        806643.11                 403.32          44290156.21   \n2  1689746400       1036466.04                 518.23          44254886.56   \n3  1689742800        656345.73                 328.17          44168146.44   \n4  1689739200       1637624.50                 818.81          44087659.79   \n\n              datetime  \n0  2023-07-19 08:00:00  \n1  2023-07-19 07:00:00  \n2  2023-07-19 06:00:00  \n3  2023-07-19 05:00:00  \n4  2023-07-19 04:00:00  ",
      "text/html": "<div>\n<style scoped>\n    .dataframe tbody tr th:only-of-type {\n        vertical-align: middle;\n    }\n\n    .dataframe tbody tr th {\n        vertical-align: top;\n    }\n\n    .dataframe thead th {\n        text-align: right;\n    }\n</style>\n<table border=\"1\" class=\"dataframe\">\n  <thead>\n    <tr style=\"text-align: right;\">\n      <th></th>\n      <th>timestamp</th>\n      <th>hourlyVolumeUSD</th>\n      <th>hourlyTotalRevenueUSD</th>\n      <th>totalValueLockedUSD</th>\n      <th>datetime</th>\n    </tr>\n  </thead>\n  <tbody>\n    <tr>\n      <th>0</th>\n      <td>1689753600</td>\n      <td>1460878.47</td>\n      <td>730.44</td>\n      <td>44233373.35</td>\n      <td>2023-07-19 08:00:00</td>\n    </tr>\n    <tr>\n      <th>1</th>\n      <td>1689750000</td>\n      <td>806643.11</td>\n      <td>403.32</td>\n      <td>44290156.21</td>\n      <td>2023-07-19 07:00:00</td>\n    </tr>\n    <tr>\n      <th>2</th>\n      <td>1689746400</td>\n      <td>1036466.04</td>\n      <td>518.23</td>\n      <td>44254886.56</td>\n      <td>2023-07-19 06:00:00</td>\n    </tr>\n    <tr>\n      <th>3</th>\n      <td>1689742800</td>\n      <td>656345.73</td>\n      <td>328.17</td>\n      <td>44168146.44</td>\n      <td>2023-07-19 05:00:00</td>\n    </tr>\n    <tr>\n      <th>4</th>\n      <td>1689739200</td>\n      <td>1637624.50</td>\n      <td>818.81</td>\n      <td>44087659.79</td>\n      <td>2023-07-19 04:00:00</td>\n    </tr>\n  </tbody>\n</table>\n</div>"
     },
     "execution_count": 18,
     "metadata": {},
     "output_type": "execute_result"
    }
   ],
   "source": [
    "# get all timestamp in arb_df but not in df\n",
    "from utils import utils\n",
    "\n",
    "rest_df = arb_df[~arb_df['timestamp'].isin(df['timestamp'])]\n",
    "rest_df[\"datetime\"] = rest_df[\"timestamp\"].apply(utils.utc_timestamp_to_datetime_str)\n",
    "rest_df.head(10)"
   ],
   "metadata": {
    "collapsed": false,
    "ExecuteTime": {
     "end_time": "2023-07-19T10:44:39.896855Z",
     "start_time": "2023-07-19T10:44:39.886459Z"
    }
   }
  },
  {
   "cell_type": "code",
   "execution_count": 23,
   "outputs": [
    {
     "data": {
      "text/plain": "       timestamp  hourlyVolumeUSD  hourlyTotalRevenueUSD  totalValueLockedUSD  \\\n1587  1684008000       2662455.28                1331.23          61592990.58   \n1588  1684004400       5116826.36                2558.41          61377445.74   \n1589  1684000800       6298006.55                3149.00          61259722.44   \n1590  1683997200       2144822.87                1072.41          61175729.32   \n1591  1683993600       2045304.59                1022.65          61190880.56   \n\n           o       c       h       l              t             datetime  \n1587 1793.70 1803.99 1805.90 1793.31  1684008000000  2023-05-14 04:00:00  \n1588 1790.12 1793.71 1801.65 1788.18  1684004400000  2023-05-14 03:00:00  \n1589 1793.99 1790.22 1808.40 1786.77  1684000800000  2023-05-14 02:00:00  \n1590 1794.92 1794.18 1799.50 1791.08  1683997200000  2023-05-14 01:00:00  \n1591 1796.19 1794.98 1797.30 1791.70  1683993600000  2023-05-14 00:00:00  ",
      "text/html": "<div>\n<style scoped>\n    .dataframe tbody tr th:only-of-type {\n        vertical-align: middle;\n    }\n\n    .dataframe tbody tr th {\n        vertical-align: top;\n    }\n\n    .dataframe thead th {\n        text-align: right;\n    }\n</style>\n<table border=\"1\" class=\"dataframe\">\n  <thead>\n    <tr style=\"text-align: right;\">\n      <th></th>\n      <th>timestamp</th>\n      <th>hourlyVolumeUSD</th>\n      <th>hourlyTotalRevenueUSD</th>\n      <th>totalValueLockedUSD</th>\n      <th>o</th>\n      <th>c</th>\n      <th>h</th>\n      <th>l</th>\n      <th>t</th>\n      <th>datetime</th>\n    </tr>\n  </thead>\n  <tbody>\n    <tr>\n      <th>1587</th>\n      <td>1684008000</td>\n      <td>2662455.28</td>\n      <td>1331.23</td>\n      <td>61592990.58</td>\n      <td>1793.70</td>\n      <td>1803.99</td>\n      <td>1805.90</td>\n      <td>1793.31</td>\n      <td>1684008000000</td>\n      <td>2023-05-14 04:00:00</td>\n    </tr>\n    <tr>\n      <th>1588</th>\n      <td>1684004400</td>\n      <td>5116826.36</td>\n      <td>2558.41</td>\n      <td>61377445.74</td>\n      <td>1790.12</td>\n      <td>1793.71</td>\n      <td>1801.65</td>\n      <td>1788.18</td>\n      <td>1684004400000</td>\n      <td>2023-05-14 03:00:00</td>\n    </tr>\n    <tr>\n      <th>1589</th>\n      <td>1684000800</td>\n      <td>6298006.55</td>\n      <td>3149.00</td>\n      <td>61259722.44</td>\n      <td>1793.99</td>\n      <td>1790.22</td>\n      <td>1808.40</td>\n      <td>1786.77</td>\n      <td>1684000800000</td>\n      <td>2023-05-14 02:00:00</td>\n    </tr>\n    <tr>\n      <th>1590</th>\n      <td>1683997200</td>\n      <td>2144822.87</td>\n      <td>1072.41</td>\n      <td>61175729.32</td>\n      <td>1794.92</td>\n      <td>1794.18</td>\n      <td>1799.50</td>\n      <td>1791.08</td>\n      <td>1683997200000</td>\n      <td>2023-05-14 01:00:00</td>\n    </tr>\n    <tr>\n      <th>1591</th>\n      <td>1683993600</td>\n      <td>2045304.59</td>\n      <td>1022.65</td>\n      <td>61190880.56</td>\n      <td>1796.19</td>\n      <td>1794.98</td>\n      <td>1797.30</td>\n      <td>1791.70</td>\n      <td>1683993600000</td>\n      <td>2023-05-14 00:00:00</td>\n    </tr>\n  </tbody>\n</table>\n</div>"
     },
     "execution_count": 23,
     "metadata": {},
     "output_type": "execute_result"
    }
   ],
   "source": [
    "from datetime import datetime\n",
    "\n",
    "\n",
    "def timestamp_to_current_tz_datetime(ts):\n",
    "    utc_date = datetime.fromtimestamp(ts)\n",
    "    return utc_date.strftime(\"%Y-%m-%d %H:%M:%S\")\n",
    "\n",
    "\n",
    "df[\"datetime\"] = df[\"timestamp\"].apply(timestamp_to_current_tz_datetime)\n",
    "df.tail()"
   ],
   "metadata": {
    "collapsed": false,
    "ExecuteTime": {
     "end_time": "2023-07-19T10:49:24.193424Z",
     "start_time": "2023-07-19T10:49:24.190549Z"
    }
   }
  },
  {
   "cell_type": "code",
   "execution_count": 24,
   "outputs": [
    {
     "data": {
      "text/plain": "                 datetime       h       l  hourlyTotalRevenueUSD  \\\n1591  2023-05-14 00:00:00 1797.30 1791.70                1022.65   \n1590  2023-05-14 01:00:00 1799.50 1791.08                1072.41   \n1589  2023-05-14 02:00:00 1808.40 1786.77                3149.00   \n1588  2023-05-14 03:00:00 1801.65 1788.18                2558.41   \n1587  2023-05-14 04:00:00 1805.90 1793.31                1331.23   \n\n      totalValueLockedUSD  interval  \n1591          61190880.56      5.60  \n1590          61175729.32      8.42  \n1589          61259722.44     21.63  \n1588          61377445.74     13.47  \n1587          61592990.58     12.59  ",
      "text/html": "<div>\n<style scoped>\n    .dataframe tbody tr th:only-of-type {\n        vertical-align: middle;\n    }\n\n    .dataframe tbody tr th {\n        vertical-align: top;\n    }\n\n    .dataframe thead th {\n        text-align: right;\n    }\n</style>\n<table border=\"1\" class=\"dataframe\">\n  <thead>\n    <tr style=\"text-align: right;\">\n      <th></th>\n      <th>datetime</th>\n      <th>h</th>\n      <th>l</th>\n      <th>hourlyTotalRevenueUSD</th>\n      <th>totalValueLockedUSD</th>\n      <th>interval</th>\n    </tr>\n  </thead>\n  <tbody>\n    <tr>\n      <th>1591</th>\n      <td>2023-05-14 00:00:00</td>\n      <td>1797.30</td>\n      <td>1791.70</td>\n      <td>1022.65</td>\n      <td>61190880.56</td>\n      <td>5.60</td>\n    </tr>\n    <tr>\n      <th>1590</th>\n      <td>2023-05-14 01:00:00</td>\n      <td>1799.50</td>\n      <td>1791.08</td>\n      <td>1072.41</td>\n      <td>61175729.32</td>\n      <td>8.42</td>\n    </tr>\n    <tr>\n      <th>1589</th>\n      <td>2023-05-14 02:00:00</td>\n      <td>1808.40</td>\n      <td>1786.77</td>\n      <td>3149.00</td>\n      <td>61259722.44</td>\n      <td>21.63</td>\n    </tr>\n    <tr>\n      <th>1588</th>\n      <td>2023-05-14 03:00:00</td>\n      <td>1801.65</td>\n      <td>1788.18</td>\n      <td>2558.41</td>\n      <td>61377445.74</td>\n      <td>13.47</td>\n    </tr>\n    <tr>\n      <th>1587</th>\n      <td>2023-05-14 04:00:00</td>\n      <td>1805.90</td>\n      <td>1793.31</td>\n      <td>1331.23</td>\n      <td>61592990.58</td>\n      <td>12.59</td>\n    </tr>\n  </tbody>\n</table>\n</div>"
     },
     "execution_count": 24,
     "metadata": {},
     "output_type": "execute_result"
    }
   ],
   "source": [
    "df = df[[\"datetime\", \"h\", \"l\", \"hourlyTotalRevenueUSD\", \"totalValueLockedUSD\"]]\n",
    "df[\"interval\"] = df[\"h\"] - df[\"l\"]\n",
    "df.sort_values(by=[\"datetime\"], inplace=True)\n",
    "df.head()"
   ],
   "metadata": {
    "collapsed": false,
    "ExecuteTime": {
     "end_time": "2023-07-19T10:53:30.567946Z",
     "start_time": "2023-07-19T10:53:30.555494Z"
    }
   }
  },
  {
   "cell_type": "code",
   "execution_count": 25,
   "outputs": [
    {
     "data": {
      "text/plain": "            h       l  hourlyTotalRevenueUSD  totalValueLockedUSD  interval\ncount 1592.00 1592.00                1592.00              1592.00   1592.00\nmean  1852.10 1840.77                1833.37          52566694.77     11.33\nstd     69.83   69.73                2092.42           8176011.53      8.23\nmin   1641.40 1620.06                  63.42          41703852.56      2.01\n25%   1815.57 1806.49                 658.20          44472744.53      6.46\n50%   1863.85 1852.99                1211.43          48822178.50      8.85\n75%   1901.60 1888.38                2132.02          60612443.02     13.28\nmax   2031.40 2011.75               26542.72          67373915.40    100.30",
      "text/html": "<div>\n<style scoped>\n    .dataframe tbody tr th:only-of-type {\n        vertical-align: middle;\n    }\n\n    .dataframe tbody tr th {\n        vertical-align: top;\n    }\n\n    .dataframe thead th {\n        text-align: right;\n    }\n</style>\n<table border=\"1\" class=\"dataframe\">\n  <thead>\n    <tr style=\"text-align: right;\">\n      <th></th>\n      <th>h</th>\n      <th>l</th>\n      <th>hourlyTotalRevenueUSD</th>\n      <th>totalValueLockedUSD</th>\n      <th>interval</th>\n    </tr>\n  </thead>\n  <tbody>\n    <tr>\n      <th>count</th>\n      <td>1592.00</td>\n      <td>1592.00</td>\n      <td>1592.00</td>\n      <td>1592.00</td>\n      <td>1592.00</td>\n    </tr>\n    <tr>\n      <th>mean</th>\n      <td>1852.10</td>\n      <td>1840.77</td>\n      <td>1833.37</td>\n      <td>52566694.77</td>\n      <td>11.33</td>\n    </tr>\n    <tr>\n      <th>std</th>\n      <td>69.83</td>\n      <td>69.73</td>\n      <td>2092.42</td>\n      <td>8176011.53</td>\n      <td>8.23</td>\n    </tr>\n    <tr>\n      <th>min</th>\n      <td>1641.40</td>\n      <td>1620.06</td>\n      <td>63.42</td>\n      <td>41703852.56</td>\n      <td>2.01</td>\n    </tr>\n    <tr>\n      <th>25%</th>\n      <td>1815.57</td>\n      <td>1806.49</td>\n      <td>658.20</td>\n      <td>44472744.53</td>\n      <td>6.46</td>\n    </tr>\n    <tr>\n      <th>50%</th>\n      <td>1863.85</td>\n      <td>1852.99</td>\n      <td>1211.43</td>\n      <td>48822178.50</td>\n      <td>8.85</td>\n    </tr>\n    <tr>\n      <th>75%</th>\n      <td>1901.60</td>\n      <td>1888.38</td>\n      <td>2132.02</td>\n      <td>60612443.02</td>\n      <td>13.28</td>\n    </tr>\n    <tr>\n      <th>max</th>\n      <td>2031.40</td>\n      <td>2011.75</td>\n      <td>26542.72</td>\n      <td>67373915.40</td>\n      <td>100.30</td>\n    </tr>\n  </tbody>\n</table>\n</div>"
     },
     "execution_count": 25,
     "metadata": {},
     "output_type": "execute_result"
    }
   ],
   "source": [
    "df.describe()"
   ],
   "metadata": {
    "collapsed": false,
    "ExecuteTime": {
     "end_time": "2023-07-19T10:56:48.937580Z",
     "start_time": "2023-07-19T10:56:48.923662Z"
    }
   }
  },
  {
   "cell_type": "code",
   "execution_count": 38,
   "outputs": [],
   "source": [
    "liquidity_df = pd.read_csv(\"../../data/arb_pool_liquidity.csv\")\n",
    "liquidity_records = liquidity_df.to_dict(\"records\")\n",
    "liquidity_dict = dict()\n",
    "\n",
    "for item in liquidity_records:\n",
    "    day = item[\"datetime\"].split(\" \")[0]\n",
    "    if day in liquidity_dict:\n",
    "        liquidity_dict[day].append(item)\n",
    "    else:\n",
    "        liquidity_dict[day] = [item]"
   ],
   "metadata": {
    "collapsed": false,
    "ExecuteTime": {
     "end_time": "2023-07-20T02:19:18.886330Z",
     "start_time": "2023-07-20T02:19:18.835527Z"
    }
   }
  },
  {
   "cell_type": "code",
   "execution_count": 49,
   "outputs": [
    {
     "data": {
      "text/plain": "              datetime       h       l  hourlyTotalRevenueUSD  \\\n0  2023-05-14 00:00:00 1797.30 1791.70                1022.65   \n1  2023-05-14 01:00:00 1799.50 1791.08                1072.41   \n2  2023-05-14 02:00:00 1808.40 1786.77                3149.00   \n3  2023-05-14 03:00:00 1801.65 1788.18                2558.41   \n4  2023-05-14 04:00:00 1805.90 1793.31                1331.23   \n\n   totalValueLockedUSD  interval  interval_eth_amount  interval_usdc_amount  \n0          61190880.56      5.60               216.32             855797.86  \n1          61175729.32      8.42               372.30             855797.86  \n2          61259722.44     21.63              1127.49            1316397.79  \n3          61377445.74     13.47               525.72            1316397.79  \n4          61592990.58     12.59               831.91             611992.74  ",
      "text/html": "<div>\n<style scoped>\n    .dataframe tbody tr th:only-of-type {\n        vertical-align: middle;\n    }\n\n    .dataframe tbody tr th {\n        vertical-align: top;\n    }\n\n    .dataframe thead th {\n        text-align: right;\n    }\n</style>\n<table border=\"1\" class=\"dataframe\">\n  <thead>\n    <tr style=\"text-align: right;\">\n      <th></th>\n      <th>datetime</th>\n      <th>h</th>\n      <th>l</th>\n      <th>hourlyTotalRevenueUSD</th>\n      <th>totalValueLockedUSD</th>\n      <th>interval</th>\n      <th>interval_eth_amount</th>\n      <th>interval_usdc_amount</th>\n    </tr>\n  </thead>\n  <tbody>\n    <tr>\n      <th>0</th>\n      <td>2023-05-14 00:00:00</td>\n      <td>1797.30</td>\n      <td>1791.70</td>\n      <td>1022.65</td>\n      <td>61190880.56</td>\n      <td>5.60</td>\n      <td>216.32</td>\n      <td>855797.86</td>\n    </tr>\n    <tr>\n      <th>1</th>\n      <td>2023-05-14 01:00:00</td>\n      <td>1799.50</td>\n      <td>1791.08</td>\n      <td>1072.41</td>\n      <td>61175729.32</td>\n      <td>8.42</td>\n      <td>372.30</td>\n      <td>855797.86</td>\n    </tr>\n    <tr>\n      <th>2</th>\n      <td>2023-05-14 02:00:00</td>\n      <td>1808.40</td>\n      <td>1786.77</td>\n      <td>3149.00</td>\n      <td>61259722.44</td>\n      <td>21.63</td>\n      <td>1127.49</td>\n      <td>1316397.79</td>\n    </tr>\n    <tr>\n      <th>3</th>\n      <td>2023-05-14 03:00:00</td>\n      <td>1801.65</td>\n      <td>1788.18</td>\n      <td>2558.41</td>\n      <td>61377445.74</td>\n      <td>13.47</td>\n      <td>525.72</td>\n      <td>1316397.79</td>\n    </tr>\n    <tr>\n      <th>4</th>\n      <td>2023-05-14 04:00:00</td>\n      <td>1805.90</td>\n      <td>1793.31</td>\n      <td>1331.23</td>\n      <td>61592990.58</td>\n      <td>12.59</td>\n      <td>831.91</td>\n      <td>611992.74</td>\n    </tr>\n  </tbody>\n</table>\n</div>"
     },
     "execution_count": 49,
     "metadata": {},
     "output_type": "execute_result"
    }
   ],
   "source": [
    "def get_interval_liquidity(day, low_price, high_price):\n",
    "    if day not in liquidity_dict:\n",
    "        return 0, 0\n",
    "\n",
    "    eth_amount = 0\n",
    "    usdc_amount = 0\n",
    "    records = liquidity_dict[day]\n",
    "    for record in records:\n",
    "        if (low_price < record[\"bottom_price\"] < high_price) or (low_price < record[\"top_price\"] < high_price):\n",
    "            eth_amount += record[\"eth_amount\"]\n",
    "            usdc_amount += record[\"usdc_amount\"]\n",
    "    return eth_amount, usdc_amount\n",
    "\n",
    "\n",
    "hourly_data = df.to_dict(\"records\")\n",
    "for item in hourly_data:\n",
    "    day = item[\"datetime\"].split(\" \")[0]\n",
    "    low_price = item[\"l\"]\n",
    "    high_price = item[\"h\"]\n",
    "    eth_amount, usdc_amount = get_interval_liquidity(day, low_price, high_price)\n",
    "    item[\"interval_eth_amount\"] = eth_amount\n",
    "    item[\"interval_usdc_amount\"] = usdc_amount\n",
    "\n",
    "hourly_df = pd.DataFrame(hourly_data)\n",
    "hourly_df.head()"
   ],
   "metadata": {
    "collapsed": false,
    "ExecuteTime": {
     "end_time": "2023-07-20T02:51:16.398268Z",
     "start_time": "2023-07-20T02:51:16.383799Z"
    }
   }
  },
  {
   "cell_type": "code",
   "execution_count": 50,
   "outputs": [
    {
     "name": "stdout",
     "output_type": "stream",
     "text": [
      "(1592, 8)\n",
      "(1584, 9)\n"
     ]
    }
   ],
   "source": [
    "print(hourly_df.shape)\n",
    "hourly_df[\"interval_usd\"] = (hourly_df[\"h\"] + hourly_df[\"l\"]) / 2 * hourly_df[\"interval_eth_amount\"] + hourly_df[\"interval_usdc_amount\"]\n",
    "hourly_df = hourly_df[hourly_df[\"usd\"] > 0]\n",
    "print(hourly_df.shape)"
   ],
   "metadata": {
    "collapsed": false,
    "ExecuteTime": {
     "end_time": "2023-07-20T02:52:01.937028Z",
     "start_time": "2023-07-20T02:52:01.928366Z"
    }
   }
  },
  {
   "cell_type": "code",
   "execution_count": 51,
   "outputs": [
    {
     "data": {
      "text/plain": "              datetime       h       l  hourlyTotalRevenueUSD  \\\n0  2023-05-14 00:00:00 1797.30 1791.70                1022.65   \n1  2023-05-14 01:00:00 1799.50 1791.08                1072.41   \n2  2023-05-14 02:00:00 1808.40 1786.77                3149.00   \n3  2023-05-14 03:00:00 1801.65 1788.18                2558.41   \n4  2023-05-14 04:00:00 1805.90 1793.31                1331.23   \n\n   totalValueLockedUSD  interval  interval_eth_amount  interval_usdc_amount  \\\n0          61190880.56      5.60               216.32             855797.86   \n1          61175729.32      8.42               372.30             855797.86   \n2          61259722.44     21.63              1127.49            1316397.79   \n3          61377445.74     13.47               525.72            1316397.79   \n4          61592990.58     12.59               831.91             611992.74   \n\n         usd  revenue_1k  \n0 1243978.35        0.82  \n1 1524188.99        0.70  \n2 3343153.12        0.94  \n3 2260027.14        1.13  \n4 2109108.79        0.63  ",
      "text/html": "<div>\n<style scoped>\n    .dataframe tbody tr th:only-of-type {\n        vertical-align: middle;\n    }\n\n    .dataframe tbody tr th {\n        vertical-align: top;\n    }\n\n    .dataframe thead th {\n        text-align: right;\n    }\n</style>\n<table border=\"1\" class=\"dataframe\">\n  <thead>\n    <tr style=\"text-align: right;\">\n      <th></th>\n      <th>datetime</th>\n      <th>h</th>\n      <th>l</th>\n      <th>hourlyTotalRevenueUSD</th>\n      <th>totalValueLockedUSD</th>\n      <th>interval</th>\n      <th>interval_eth_amount</th>\n      <th>interval_usdc_amount</th>\n      <th>usd</th>\n      <th>revenue_1k</th>\n    </tr>\n  </thead>\n  <tbody>\n    <tr>\n      <th>0</th>\n      <td>2023-05-14 00:00:00</td>\n      <td>1797.30</td>\n      <td>1791.70</td>\n      <td>1022.65</td>\n      <td>61190880.56</td>\n      <td>5.60</td>\n      <td>216.32</td>\n      <td>855797.86</td>\n      <td>1243978.35</td>\n      <td>0.82</td>\n    </tr>\n    <tr>\n      <th>1</th>\n      <td>2023-05-14 01:00:00</td>\n      <td>1799.50</td>\n      <td>1791.08</td>\n      <td>1072.41</td>\n      <td>61175729.32</td>\n      <td>8.42</td>\n      <td>372.30</td>\n      <td>855797.86</td>\n      <td>1524188.99</td>\n      <td>0.70</td>\n    </tr>\n    <tr>\n      <th>2</th>\n      <td>2023-05-14 02:00:00</td>\n      <td>1808.40</td>\n      <td>1786.77</td>\n      <td>3149.00</td>\n      <td>61259722.44</td>\n      <td>21.63</td>\n      <td>1127.49</td>\n      <td>1316397.79</td>\n      <td>3343153.12</td>\n      <td>0.94</td>\n    </tr>\n    <tr>\n      <th>3</th>\n      <td>2023-05-14 03:00:00</td>\n      <td>1801.65</td>\n      <td>1788.18</td>\n      <td>2558.41</td>\n      <td>61377445.74</td>\n      <td>13.47</td>\n      <td>525.72</td>\n      <td>1316397.79</td>\n      <td>2260027.14</td>\n      <td>1.13</td>\n    </tr>\n    <tr>\n      <th>4</th>\n      <td>2023-05-14 04:00:00</td>\n      <td>1805.90</td>\n      <td>1793.31</td>\n      <td>1331.23</td>\n      <td>61592990.58</td>\n      <td>12.59</td>\n      <td>831.91</td>\n      <td>611992.74</td>\n      <td>2109108.79</td>\n      <td>0.63</td>\n    </tr>\n  </tbody>\n</table>\n</div>"
     },
     "execution_count": 51,
     "metadata": {},
     "output_type": "execute_result"
    }
   ],
   "source": [
    "hourly_df[\"revenue_1k\"] = hourly_df[\"hourlyTotalRevenueUSD\"] / hourly_df[\"usd\"] * 1000\n",
    "hourly_df.head()"
   ],
   "metadata": {
    "collapsed": false,
    "ExecuteTime": {
     "end_time": "2023-07-20T02:52:06.097636Z",
     "start_time": "2023-07-20T02:52:06.090920Z"
    }
   }
  },
  {
   "cell_type": "code",
   "execution_count": 53,
   "outputs": [
    {
     "data": {
      "text/plain": "                 datetime       h       l  hourlyTotalRevenueUSD  \\\n770   2023-06-15 02:00:00 1748.10 1719.42               10614.72   \n141   2023-05-19 21:00:00 1820.30 1812.81                7648.52   \n663   2023-06-10 15:00:00 1746.60 1725.58                5263.14   \n935   2023-06-21 23:00:00 1858.40 1840.66                7249.48   \n552   2023-06-06 00:00:00 1823.50 1777.00               26542.72   \n...                   ...     ...     ...                    ...   \n1580  2023-07-18 20:00:00 1898.20 1885.11                2920.18   \n794   2023-06-16 02:00:00 1669.70 1644.91                3857.15   \n955   2023-06-22 19:00:00 1907.80 1881.50                6264.88   \n946   2023-06-22 10:00:00 1934.00 1906.94                4444.90   \n1303  2023-07-07 07:00:00 1869.90 1845.70                5808.64   \n\n      totalValueLockedUSD  interval  interval_eth_amount  \\\n770           48063501.82     28.68              1168.67   \n141           58253024.90      7.49               999.78   \n663           58281201.19     21.02                 0.00   \n935           44226344.42     17.74              1056.95   \n552           58247098.89     46.50              1237.89   \n...                   ...       ...                  ...   \n1580          44010675.22     13.09                 0.00   \n794           44011010.35     24.79               358.03   \n955           43890907.56     26.30              1151.27   \n946           44806865.23     27.06              1216.81   \n1303          49841773.65     24.20              1515.43   \n\n      interval_usdc_amount        usd  revenue_1k  \n770                   0.00 2026196.25        5.24  \n141                   0.00 1816159.54        4.21  \n663             1373804.49 1373804.49        3.83  \n935                   0.00 1954853.89        3.71  \n552             5111343.60 7339855.43        3.62  \n...                    ...        ...         ...  \n1580            1518341.76 1518341.76        1.92  \n794             1417771.26 2011142.96        1.92  \n955             1097510.64 3278761.69        1.91  \n946                   0.00 2336842.49        1.90  \n1303             240770.86 3056128.36        1.90  \n\n[100 rows x 10 columns]",
      "text/html": "<div>\n<style scoped>\n    .dataframe tbody tr th:only-of-type {\n        vertical-align: middle;\n    }\n\n    .dataframe tbody tr th {\n        vertical-align: top;\n    }\n\n    .dataframe thead th {\n        text-align: right;\n    }\n</style>\n<table border=\"1\" class=\"dataframe\">\n  <thead>\n    <tr style=\"text-align: right;\">\n      <th></th>\n      <th>datetime</th>\n      <th>h</th>\n      <th>l</th>\n      <th>hourlyTotalRevenueUSD</th>\n      <th>totalValueLockedUSD</th>\n      <th>interval</th>\n      <th>interval_eth_amount</th>\n      <th>interval_usdc_amount</th>\n      <th>usd</th>\n      <th>revenue_1k</th>\n    </tr>\n  </thead>\n  <tbody>\n    <tr>\n      <th>770</th>\n      <td>2023-06-15 02:00:00</td>\n      <td>1748.10</td>\n      <td>1719.42</td>\n      <td>10614.72</td>\n      <td>48063501.82</td>\n      <td>28.68</td>\n      <td>1168.67</td>\n      <td>0.00</td>\n      <td>2026196.25</td>\n      <td>5.24</td>\n    </tr>\n    <tr>\n      <th>141</th>\n      <td>2023-05-19 21:00:00</td>\n      <td>1820.30</td>\n      <td>1812.81</td>\n      <td>7648.52</td>\n      <td>58253024.90</td>\n      <td>7.49</td>\n      <td>999.78</td>\n      <td>0.00</td>\n      <td>1816159.54</td>\n      <td>4.21</td>\n    </tr>\n    <tr>\n      <th>663</th>\n      <td>2023-06-10 15:00:00</td>\n      <td>1746.60</td>\n      <td>1725.58</td>\n      <td>5263.14</td>\n      <td>58281201.19</td>\n      <td>21.02</td>\n      <td>0.00</td>\n      <td>1373804.49</td>\n      <td>1373804.49</td>\n      <td>3.83</td>\n    </tr>\n    <tr>\n      <th>935</th>\n      <td>2023-06-21 23:00:00</td>\n      <td>1858.40</td>\n      <td>1840.66</td>\n      <td>7249.48</td>\n      <td>44226344.42</td>\n      <td>17.74</td>\n      <td>1056.95</td>\n      <td>0.00</td>\n      <td>1954853.89</td>\n      <td>3.71</td>\n    </tr>\n    <tr>\n      <th>552</th>\n      <td>2023-06-06 00:00:00</td>\n      <td>1823.50</td>\n      <td>1777.00</td>\n      <td>26542.72</td>\n      <td>58247098.89</td>\n      <td>46.50</td>\n      <td>1237.89</td>\n      <td>5111343.60</td>\n      <td>7339855.43</td>\n      <td>3.62</td>\n    </tr>\n    <tr>\n      <th>...</th>\n      <td>...</td>\n      <td>...</td>\n      <td>...</td>\n      <td>...</td>\n      <td>...</td>\n      <td>...</td>\n      <td>...</td>\n      <td>...</td>\n      <td>...</td>\n      <td>...</td>\n    </tr>\n    <tr>\n      <th>1580</th>\n      <td>2023-07-18 20:00:00</td>\n      <td>1898.20</td>\n      <td>1885.11</td>\n      <td>2920.18</td>\n      <td>44010675.22</td>\n      <td>13.09</td>\n      <td>0.00</td>\n      <td>1518341.76</td>\n      <td>1518341.76</td>\n      <td>1.92</td>\n    </tr>\n    <tr>\n      <th>794</th>\n      <td>2023-06-16 02:00:00</td>\n      <td>1669.70</td>\n      <td>1644.91</td>\n      <td>3857.15</td>\n      <td>44011010.35</td>\n      <td>24.79</td>\n      <td>358.03</td>\n      <td>1417771.26</td>\n      <td>2011142.96</td>\n      <td>1.92</td>\n    </tr>\n    <tr>\n      <th>955</th>\n      <td>2023-06-22 19:00:00</td>\n      <td>1907.80</td>\n      <td>1881.50</td>\n      <td>6264.88</td>\n      <td>43890907.56</td>\n      <td>26.30</td>\n      <td>1151.27</td>\n      <td>1097510.64</td>\n      <td>3278761.69</td>\n      <td>1.91</td>\n    </tr>\n    <tr>\n      <th>946</th>\n      <td>2023-06-22 10:00:00</td>\n      <td>1934.00</td>\n      <td>1906.94</td>\n      <td>4444.90</td>\n      <td>44806865.23</td>\n      <td>27.06</td>\n      <td>1216.81</td>\n      <td>0.00</td>\n      <td>2336842.49</td>\n      <td>1.90</td>\n    </tr>\n    <tr>\n      <th>1303</th>\n      <td>2023-07-07 07:00:00</td>\n      <td>1869.90</td>\n      <td>1845.70</td>\n      <td>5808.64</td>\n      <td>49841773.65</td>\n      <td>24.20</td>\n      <td>1515.43</td>\n      <td>240770.86</td>\n      <td>3056128.36</td>\n      <td>1.90</td>\n    </tr>\n  </tbody>\n</table>\n<p>100 rows × 10 columns</p>\n</div>"
     },
     "execution_count": 53,
     "metadata": {},
     "output_type": "execute_result"
    }
   ],
   "source": [
    "hourly_df.sort_values(by=[\"revenue_1k\"], ascending=False).head(100)"
   ],
   "metadata": {
    "collapsed": false,
    "ExecuteTime": {
     "end_time": "2023-07-20T02:52:13.405698Z",
     "start_time": "2023-07-20T02:52:13.397553Z"
    }
   }
  },
  {
   "cell_type": "code",
   "execution_count": 55,
   "outputs": [
    {
     "data": {
      "text/plain": "          day       h       l  hourlyTotalRevenueUSD\n0  2023-05-14 1827.20 1786.77               33019.58\n1  2023-05-15 1837.90 1785.52               53995.14\n2  2023-05-16 1849.00 1796.63               50724.41\n3  2023-05-17 1838.70 1782.95               43498.83\n4  2023-05-18 1837.00 1794.29               48218.16",
      "text/html": "<div>\n<style scoped>\n    .dataframe tbody tr th:only-of-type {\n        vertical-align: middle;\n    }\n\n    .dataframe tbody tr th {\n        vertical-align: top;\n    }\n\n    .dataframe thead th {\n        text-align: right;\n    }\n</style>\n<table border=\"1\" class=\"dataframe\">\n  <thead>\n    <tr style=\"text-align: right;\">\n      <th></th>\n      <th>day</th>\n      <th>h</th>\n      <th>l</th>\n      <th>hourlyTotalRevenueUSD</th>\n    </tr>\n  </thead>\n  <tbody>\n    <tr>\n      <th>0</th>\n      <td>2023-05-14</td>\n      <td>1827.20</td>\n      <td>1786.77</td>\n      <td>33019.58</td>\n    </tr>\n    <tr>\n      <th>1</th>\n      <td>2023-05-15</td>\n      <td>1837.90</td>\n      <td>1785.52</td>\n      <td>53995.14</td>\n    </tr>\n    <tr>\n      <th>2</th>\n      <td>2023-05-16</td>\n      <td>1849.00</td>\n      <td>1796.63</td>\n      <td>50724.41</td>\n    </tr>\n    <tr>\n      <th>3</th>\n      <td>2023-05-17</td>\n      <td>1838.70</td>\n      <td>1782.95</td>\n      <td>43498.83</td>\n    </tr>\n    <tr>\n      <th>4</th>\n      <td>2023-05-18</td>\n      <td>1837.00</td>\n      <td>1794.29</td>\n      <td>48218.16</td>\n    </tr>\n  </tbody>\n</table>\n</div>"
     },
     "execution_count": 55,
     "metadata": {},
     "output_type": "execute_result"
    }
   ],
   "source": [
    "# daily stats\n",
    "hourly_df[\"day\"] = hourly_df[\"datetime\"].apply(lambda x: x.split(\" \")[0])\n",
    "daily_df = hourly_df.groupby(by=[\"day\"]).agg({\"h\": \"max\", \"l\": \"min\", \"hourlyTotalRevenueUSD\": \"sum\"}).reset_index()\n",
    "daily_df.head()"
   ],
   "metadata": {
    "collapsed": false,
    "ExecuteTime": {
     "end_time": "2023-07-20T03:05:01.577502Z",
     "start_time": "2023-07-20T03:05:01.567806Z"
    }
   }
  },
  {
   "cell_type": "code",
   "execution_count": 56,
   "outputs": [
    {
     "data": {
      "text/plain": "          day    high     low  daily_revenue  interval_eth_amount  \\\n0  2023-05-14 1827.20 1786.77       33019.58              2690.60   \n1  2023-05-15 1837.90 1785.52       53995.14              3481.22   \n2  2023-05-16 1849.00 1796.63       50724.41              3351.68   \n3  2023-05-17 1838.70 1782.95       43498.83              1400.88   \n4  2023-05-18 1837.00 1794.29       48218.16              1483.32   \n\n   interval_usdc_amount  interval_usd  \n0            1316397.79    6178269.10  \n1            2310006.13    8616971.74  \n2            3148868.97    9258366.65  \n3            7103807.12    9640547.86  \n4            5278378.29    7971569.55  ",
      "text/html": "<div>\n<style scoped>\n    .dataframe tbody tr th:only-of-type {\n        vertical-align: middle;\n    }\n\n    .dataframe tbody tr th {\n        vertical-align: top;\n    }\n\n    .dataframe thead th {\n        text-align: right;\n    }\n</style>\n<table border=\"1\" class=\"dataframe\">\n  <thead>\n    <tr style=\"text-align: right;\">\n      <th></th>\n      <th>day</th>\n      <th>high</th>\n      <th>low</th>\n      <th>daily_revenue</th>\n      <th>interval_eth_amount</th>\n      <th>interval_usdc_amount</th>\n      <th>interval_usd</th>\n    </tr>\n  </thead>\n  <tbody>\n    <tr>\n      <th>0</th>\n      <td>2023-05-14</td>\n      <td>1827.20</td>\n      <td>1786.77</td>\n      <td>33019.58</td>\n      <td>2690.60</td>\n      <td>1316397.79</td>\n      <td>6178269.10</td>\n    </tr>\n    <tr>\n      <th>1</th>\n      <td>2023-05-15</td>\n      <td>1837.90</td>\n      <td>1785.52</td>\n      <td>53995.14</td>\n      <td>3481.22</td>\n      <td>2310006.13</td>\n      <td>8616971.74</td>\n    </tr>\n    <tr>\n      <th>2</th>\n      <td>2023-05-16</td>\n      <td>1849.00</td>\n      <td>1796.63</td>\n      <td>50724.41</td>\n      <td>3351.68</td>\n      <td>3148868.97</td>\n      <td>9258366.65</td>\n    </tr>\n    <tr>\n      <th>3</th>\n      <td>2023-05-17</td>\n      <td>1838.70</td>\n      <td>1782.95</td>\n      <td>43498.83</td>\n      <td>1400.88</td>\n      <td>7103807.12</td>\n      <td>9640547.86</td>\n    </tr>\n    <tr>\n      <th>4</th>\n      <td>2023-05-18</td>\n      <td>1837.00</td>\n      <td>1794.29</td>\n      <td>48218.16</td>\n      <td>1483.32</td>\n      <td>5278378.29</td>\n      <td>7971569.55</td>\n    </tr>\n  </tbody>\n</table>\n</div>"
     },
     "execution_count": 56,
     "metadata": {},
     "output_type": "execute_result"
    }
   ],
   "source": [
    "daily_df.rename(columns={\"h\": \"high\", \"l\": \"low\", \"hourlyTotalRevenueUSD\": \"daily_revenue\"}, inplace=True)\n",
    "\n",
    "daily_data = daily_df.to_dict(\"records\")\n",
    "for item in daily_data:\n",
    "    day = item[\"day\"]\n",
    "    low_price = item[\"low\"]\n",
    "    high_price = item[\"high\"]\n",
    "    eth_amount, usdc_amount = get_interval_liquidity(day, low_price, high_price)\n",
    "    item[\"interval_eth_amount\"] = eth_amount\n",
    "    item[\"interval_usdc_amount\"] = usdc_amount\n",
    "    item[\"interval_usd\"] = (low_price + high_price) / 2 * eth_amount + usdc_amount\n",
    "\n",
    "daily_df = pd.DataFrame(daily_data)\n",
    "daily_df.head()"
   ],
   "metadata": {
    "collapsed": false,
    "ExecuteTime": {
     "end_time": "2023-07-20T03:07:56.221740Z",
     "start_time": "2023-07-20T03:07:56.200536Z"
    }
   }
  },
  {
   "cell_type": "code",
   "execution_count": 57,
   "outputs": [
    {
     "data": {
      "text/plain": "           day    high     low  daily_revenue  interval_eth_amount  \\\n30  2023-06-13 1768.40 1719.74       42850.73              1378.32   \n43  2023-06-26 1909.80 1865.70       54809.50               792.89   \n39  2023-06-22 1934.00 1846.47       91072.22              2277.39   \n33  2023-06-16 1688.40 1631.67       36288.06              1154.02   \n51  2023-07-04 1976.10 1946.77       35264.62              1414.18   \n..         ...     ...     ...            ...                  ...   \n22  2023-06-05 1913.27 1818.06       49800.45              2585.86   \n7   2023-05-21 1830.30 1802.44       22603.78              1585.17   \n14  2023-05-28 1861.50 1817.71       31757.61              3404.63   \n60  2023-07-13 1945.70 1862.44       37791.08              5547.52   \n10  2023-05-24 1858.70 1774.56       40932.00               572.37   \n\n    interval_usdc_amount  interval_usd  interval  revenue_1k  \n30            1939039.83    4342930.06     48.66        9.87  \n43            4100633.08    5597410.99     44.10        9.79  \n39            5402234.13    9707037.55     87.53        9.38  \n33            2228478.98    4144194.40     56.73        8.76  \n51            1283887.48    4057712.17     29.33        8.69  \n..                   ...           ...       ...         ...  \n22           10671665.85   15496006.70     95.21        3.21  \n7             4249323.16    7128572.94     27.86        3.17  \n14            3918607.61   10181785.48     43.79        3.12  \n60            1592883.72   12155749.17     83.26        3.11  \n10           14241937.35   15281718.05     84.14        2.68  \n\n[66 rows x 9 columns]",
      "text/html": "<div>\n<style scoped>\n    .dataframe tbody tr th:only-of-type {\n        vertical-align: middle;\n    }\n\n    .dataframe tbody tr th {\n        vertical-align: top;\n    }\n\n    .dataframe thead th {\n        text-align: right;\n    }\n</style>\n<table border=\"1\" class=\"dataframe\">\n  <thead>\n    <tr style=\"text-align: right;\">\n      <th></th>\n      <th>day</th>\n      <th>high</th>\n      <th>low</th>\n      <th>daily_revenue</th>\n      <th>interval_eth_amount</th>\n      <th>interval_usdc_amount</th>\n      <th>interval_usd</th>\n      <th>interval</th>\n      <th>revenue_1k</th>\n    </tr>\n  </thead>\n  <tbody>\n    <tr>\n      <th>30</th>\n      <td>2023-06-13</td>\n      <td>1768.40</td>\n      <td>1719.74</td>\n      <td>42850.73</td>\n      <td>1378.32</td>\n      <td>1939039.83</td>\n      <td>4342930.06</td>\n      <td>48.66</td>\n      <td>9.87</td>\n    </tr>\n    <tr>\n      <th>43</th>\n      <td>2023-06-26</td>\n      <td>1909.80</td>\n      <td>1865.70</td>\n      <td>54809.50</td>\n      <td>792.89</td>\n      <td>4100633.08</td>\n      <td>5597410.99</td>\n      <td>44.10</td>\n      <td>9.79</td>\n    </tr>\n    <tr>\n      <th>39</th>\n      <td>2023-06-22</td>\n      <td>1934.00</td>\n      <td>1846.47</td>\n      <td>91072.22</td>\n      <td>2277.39</td>\n      <td>5402234.13</td>\n      <td>9707037.55</td>\n      <td>87.53</td>\n      <td>9.38</td>\n    </tr>\n    <tr>\n      <th>33</th>\n      <td>2023-06-16</td>\n      <td>1688.40</td>\n      <td>1631.67</td>\n      <td>36288.06</td>\n      <td>1154.02</td>\n      <td>2228478.98</td>\n      <td>4144194.40</td>\n      <td>56.73</td>\n      <td>8.76</td>\n    </tr>\n    <tr>\n      <th>51</th>\n      <td>2023-07-04</td>\n      <td>1976.10</td>\n      <td>1946.77</td>\n      <td>35264.62</td>\n      <td>1414.18</td>\n      <td>1283887.48</td>\n      <td>4057712.17</td>\n      <td>29.33</td>\n      <td>8.69</td>\n    </tr>\n    <tr>\n      <th>...</th>\n      <td>...</td>\n      <td>...</td>\n      <td>...</td>\n      <td>...</td>\n      <td>...</td>\n      <td>...</td>\n      <td>...</td>\n      <td>...</td>\n      <td>...</td>\n    </tr>\n    <tr>\n      <th>22</th>\n      <td>2023-06-05</td>\n      <td>1913.27</td>\n      <td>1818.06</td>\n      <td>49800.45</td>\n      <td>2585.86</td>\n      <td>10671665.85</td>\n      <td>15496006.70</td>\n      <td>95.21</td>\n      <td>3.21</td>\n    </tr>\n    <tr>\n      <th>7</th>\n      <td>2023-05-21</td>\n      <td>1830.30</td>\n      <td>1802.44</td>\n      <td>22603.78</td>\n      <td>1585.17</td>\n      <td>4249323.16</td>\n      <td>7128572.94</td>\n      <td>27.86</td>\n      <td>3.17</td>\n    </tr>\n    <tr>\n      <th>14</th>\n      <td>2023-05-28</td>\n      <td>1861.50</td>\n      <td>1817.71</td>\n      <td>31757.61</td>\n      <td>3404.63</td>\n      <td>3918607.61</td>\n      <td>10181785.48</td>\n      <td>43.79</td>\n      <td>3.12</td>\n    </tr>\n    <tr>\n      <th>60</th>\n      <td>2023-07-13</td>\n      <td>1945.70</td>\n      <td>1862.44</td>\n      <td>37791.08</td>\n      <td>5547.52</td>\n      <td>1592883.72</td>\n      <td>12155749.17</td>\n      <td>83.26</td>\n      <td>3.11</td>\n    </tr>\n    <tr>\n      <th>10</th>\n      <td>2023-05-24</td>\n      <td>1858.70</td>\n      <td>1774.56</td>\n      <td>40932.00</td>\n      <td>572.37</td>\n      <td>14241937.35</td>\n      <td>15281718.05</td>\n      <td>84.14</td>\n      <td>2.68</td>\n    </tr>\n  </tbody>\n</table>\n<p>66 rows × 9 columns</p>\n</div>"
     },
     "execution_count": 57,
     "metadata": {},
     "output_type": "execute_result"
    }
   ],
   "source": [
    "daily_df[\"interval\"] = daily_df[\"high\"] - daily_df[\"low\"]\n",
    "daily_df[\"revenue_1k\"] = daily_df[\"daily_revenue\"] / daily_df[\"interval_usd\"] * 1000\n",
    "daily_df.sort_values(by=[\"revenue_1k\"], ascending=False).head(100)"
   ],
   "metadata": {
    "collapsed": false,
    "ExecuteTime": {
     "end_time": "2023-07-20T03:09:29.526583Z",
     "start_time": "2023-07-20T03:09:29.505483Z"
    }
   }
  },
  {
   "cell_type": "code",
   "execution_count": 59,
   "outputs": [
    {
     "data": {
      "text/plain": "           day    high     low  daily_revenue  interval_eth_amount  \\\n6   2023-05-20 1824.60 1807.26       16194.46              1691.90   \n55  2023-07-08 1876.30 1855.00       15078.85               513.10   \n31  2023-06-14 1751.70 1728.21       15116.90               705.67   \n35  2023-06-18 1743.60 1719.68       14058.31               846.55   \n13  2023-05-27 1839.50 1812.92       22746.29              1502.65   \n..         ...     ...     ...            ...                  ...   \n48  2023-07-01 1949.00 1848.44       61860.01               903.55   \n62  2023-07-15 2003.10 1898.88       44754.90              4032.62   \n32  2023-06-15 1748.10 1620.06       65821.62              3608.71   \n27  2023-06-10 1846.40 1716.24       65690.92               692.35   \n38  2023-06-21 1858.40 1728.06       85128.69              3863.91   \n\n    interval_usdc_amount  interval_usd  interval  revenue_1k  \n6             1340481.06    4412844.49     17.34        3.67  \n55            1947090.78    2904352.06     21.30        5.19  \n31            1076072.17    2303908.13     23.49        6.56  \n35             708733.14    2174651.08     23.92        6.46  \n13            3654163.56    6398310.35     26.58        3.56  \n..                   ...           ...       ...         ...  \n48            9460422.70   11176010.20    100.56        5.54  \n62            4588274.40   12455871.98    104.22        3.59  \n32            1497367.56    7574719.85    128.04        8.69  \n27           13906552.85   15139844.76    130.16        4.34  \n38            5607484.89   12536362.79    130.34        6.79  \n\n[66 rows x 9 columns]",
      "text/html": "<div>\n<style scoped>\n    .dataframe tbody tr th:only-of-type {\n        vertical-align: middle;\n    }\n\n    .dataframe tbody tr th {\n        vertical-align: top;\n    }\n\n    .dataframe thead th {\n        text-align: right;\n    }\n</style>\n<table border=\"1\" class=\"dataframe\">\n  <thead>\n    <tr style=\"text-align: right;\">\n      <th></th>\n      <th>day</th>\n      <th>high</th>\n      <th>low</th>\n      <th>daily_revenue</th>\n      <th>interval_eth_amount</th>\n      <th>interval_usdc_amount</th>\n      <th>interval_usd</th>\n      <th>interval</th>\n      <th>revenue_1k</th>\n    </tr>\n  </thead>\n  <tbody>\n    <tr>\n      <th>6</th>\n      <td>2023-05-20</td>\n      <td>1824.60</td>\n      <td>1807.26</td>\n      <td>16194.46</td>\n      <td>1691.90</td>\n      <td>1340481.06</td>\n      <td>4412844.49</td>\n      <td>17.34</td>\n      <td>3.67</td>\n    </tr>\n    <tr>\n      <th>55</th>\n      <td>2023-07-08</td>\n      <td>1876.30</td>\n      <td>1855.00</td>\n      <td>15078.85</td>\n      <td>513.10</td>\n      <td>1947090.78</td>\n      <td>2904352.06</td>\n      <td>21.30</td>\n      <td>5.19</td>\n    </tr>\n    <tr>\n      <th>31</th>\n      <td>2023-06-14</td>\n      <td>1751.70</td>\n      <td>1728.21</td>\n      <td>15116.90</td>\n      <td>705.67</td>\n      <td>1076072.17</td>\n      <td>2303908.13</td>\n      <td>23.49</td>\n      <td>6.56</td>\n    </tr>\n    <tr>\n      <th>35</th>\n      <td>2023-06-18</td>\n      <td>1743.60</td>\n      <td>1719.68</td>\n      <td>14058.31</td>\n      <td>846.55</td>\n      <td>708733.14</td>\n      <td>2174651.08</td>\n      <td>23.92</td>\n      <td>6.46</td>\n    </tr>\n    <tr>\n      <th>13</th>\n      <td>2023-05-27</td>\n      <td>1839.50</td>\n      <td>1812.92</td>\n      <td>22746.29</td>\n      <td>1502.65</td>\n      <td>3654163.56</td>\n      <td>6398310.35</td>\n      <td>26.58</td>\n      <td>3.56</td>\n    </tr>\n    <tr>\n      <th>...</th>\n      <td>...</td>\n      <td>...</td>\n      <td>...</td>\n      <td>...</td>\n      <td>...</td>\n      <td>...</td>\n      <td>...</td>\n      <td>...</td>\n      <td>...</td>\n    </tr>\n    <tr>\n      <th>48</th>\n      <td>2023-07-01</td>\n      <td>1949.00</td>\n      <td>1848.44</td>\n      <td>61860.01</td>\n      <td>903.55</td>\n      <td>9460422.70</td>\n      <td>11176010.20</td>\n      <td>100.56</td>\n      <td>5.54</td>\n    </tr>\n    <tr>\n      <th>62</th>\n      <td>2023-07-15</td>\n      <td>2003.10</td>\n      <td>1898.88</td>\n      <td>44754.90</td>\n      <td>4032.62</td>\n      <td>4588274.40</td>\n      <td>12455871.98</td>\n      <td>104.22</td>\n      <td>3.59</td>\n    </tr>\n    <tr>\n      <th>32</th>\n      <td>2023-06-15</td>\n      <td>1748.10</td>\n      <td>1620.06</td>\n      <td>65821.62</td>\n      <td>3608.71</td>\n      <td>1497367.56</td>\n      <td>7574719.85</td>\n      <td>128.04</td>\n      <td>8.69</td>\n    </tr>\n    <tr>\n      <th>27</th>\n      <td>2023-06-10</td>\n      <td>1846.40</td>\n      <td>1716.24</td>\n      <td>65690.92</td>\n      <td>692.35</td>\n      <td>13906552.85</td>\n      <td>15139844.76</td>\n      <td>130.16</td>\n      <td>4.34</td>\n    </tr>\n    <tr>\n      <th>38</th>\n      <td>2023-06-21</td>\n      <td>1858.40</td>\n      <td>1728.06</td>\n      <td>85128.69</td>\n      <td>3863.91</td>\n      <td>5607484.89</td>\n      <td>12536362.79</td>\n      <td>130.34</td>\n      <td>6.79</td>\n    </tr>\n  </tbody>\n</table>\n<p>66 rows × 9 columns</p>\n</div>"
     },
     "execution_count": 59,
     "metadata": {},
     "output_type": "execute_result"
    }
   ],
   "source": [
    "daily_df.sort_values(by=[\"interval\"], ascending=True).head(100)"
   ],
   "metadata": {
    "collapsed": false,
    "ExecuteTime": {
     "end_time": "2023-07-20T03:10:11.883408Z",
     "start_time": "2023-07-20T03:10:11.879430Z"
    }
   }
  },
  {
   "cell_type": "code",
   "execution_count": 61,
   "outputs": [
    {
     "data": {
      "text/plain": "                 datetime       h       l  hourlyTotalRevenueUSD  \\\n496   2023-06-03 16:00:00 1904.48 1902.47                 130.91   \n162   2023-05-20 18:00:00 1815.80 1813.34                 322.02   \n189   2023-05-21 21:00:00 1815.20 1812.71                 124.21   \n515   2023-06-04 11:00:00 1895.55 1893.01                 262.92   \n493   2023-06-03 13:00:00 1903.25 1900.70                 188.60   \n...                   ...     ...     ...                    ...   \n566   2023-06-06 14:00:00 1817.79 1813.23                 453.90   \n1380  2023-07-10 12:00:00 1864.30 1859.72                 439.87   \n195   2023-05-22 03:00:00 1810.91 1806.33                 668.86   \n153   2023-05-20 09:00:00 1813.00 1808.41                 329.18   \n293   2023-05-26 05:00:00 1810.30 1805.71                 541.46   \n\n      totalValueLockedUSD  interval  interval_eth_amount  \\\n496           59781744.35      2.01                 0.00   \n162           58075638.28      2.46               628.22   \n189           61044409.78      2.49                 0.00   \n515           59501704.92      2.54               520.30   \n493           59787032.52      2.55                 0.00   \n...                   ...       ...                  ...   \n566           61094722.56      4.56               682.29   \n1380          47636323.96      4.58               289.46   \n195           61115197.38      4.58               752.54   \n153           57959673.29      4.59               137.48   \n293           59077999.56      4.59               564.29   \n\n      interval_usdc_amount        usd  revenue_1k         day  \n496              687066.73  687066.73        0.19  2023-06-03  \n162              166129.68 1306073.04        0.25  2023-05-20  \n189              928210.51  928210.51        0.13  2023-05-21  \n515              108963.43 1094556.93        0.24  2023-06-04  \n493             1030345.27 1030345.27        0.18  2023-06-03  \n...                    ...        ...         ...         ...  \n566                   0.00 1238709.95        0.37  2023-06-06  \n1380             484711.70 1023688.75        0.43  2023-07-10  \n195                   0.00 1361052.38        0.49  2023-05-22  \n153              956533.99 1205478.05        0.27  2023-05-20  \n293              217128.15 1237375.25        0.44  2023-05-26  \n\n[100 rows x 11 columns]",
      "text/html": "<div>\n<style scoped>\n    .dataframe tbody tr th:only-of-type {\n        vertical-align: middle;\n    }\n\n    .dataframe tbody tr th {\n        vertical-align: top;\n    }\n\n    .dataframe thead th {\n        text-align: right;\n    }\n</style>\n<table border=\"1\" class=\"dataframe\">\n  <thead>\n    <tr style=\"text-align: right;\">\n      <th></th>\n      <th>datetime</th>\n      <th>h</th>\n      <th>l</th>\n      <th>hourlyTotalRevenueUSD</th>\n      <th>totalValueLockedUSD</th>\n      <th>interval</th>\n      <th>interval_eth_amount</th>\n      <th>interval_usdc_amount</th>\n      <th>usd</th>\n      <th>revenue_1k</th>\n      <th>day</th>\n    </tr>\n  </thead>\n  <tbody>\n    <tr>\n      <th>496</th>\n      <td>2023-06-03 16:00:00</td>\n      <td>1904.48</td>\n      <td>1902.47</td>\n      <td>130.91</td>\n      <td>59781744.35</td>\n      <td>2.01</td>\n      <td>0.00</td>\n      <td>687066.73</td>\n      <td>687066.73</td>\n      <td>0.19</td>\n      <td>2023-06-03</td>\n    </tr>\n    <tr>\n      <th>162</th>\n      <td>2023-05-20 18:00:00</td>\n      <td>1815.80</td>\n      <td>1813.34</td>\n      <td>322.02</td>\n      <td>58075638.28</td>\n      <td>2.46</td>\n      <td>628.22</td>\n      <td>166129.68</td>\n      <td>1306073.04</td>\n      <td>0.25</td>\n      <td>2023-05-20</td>\n    </tr>\n    <tr>\n      <th>189</th>\n      <td>2023-05-21 21:00:00</td>\n      <td>1815.20</td>\n      <td>1812.71</td>\n      <td>124.21</td>\n      <td>61044409.78</td>\n      <td>2.49</td>\n      <td>0.00</td>\n      <td>928210.51</td>\n      <td>928210.51</td>\n      <td>0.13</td>\n      <td>2023-05-21</td>\n    </tr>\n    <tr>\n      <th>515</th>\n      <td>2023-06-04 11:00:00</td>\n      <td>1895.55</td>\n      <td>1893.01</td>\n      <td>262.92</td>\n      <td>59501704.92</td>\n      <td>2.54</td>\n      <td>520.30</td>\n      <td>108963.43</td>\n      <td>1094556.93</td>\n      <td>0.24</td>\n      <td>2023-06-04</td>\n    </tr>\n    <tr>\n      <th>493</th>\n      <td>2023-06-03 13:00:00</td>\n      <td>1903.25</td>\n      <td>1900.70</td>\n      <td>188.60</td>\n      <td>59787032.52</td>\n      <td>2.55</td>\n      <td>0.00</td>\n      <td>1030345.27</td>\n      <td>1030345.27</td>\n      <td>0.18</td>\n      <td>2023-06-03</td>\n    </tr>\n    <tr>\n      <th>...</th>\n      <td>...</td>\n      <td>...</td>\n      <td>...</td>\n      <td>...</td>\n      <td>...</td>\n      <td>...</td>\n      <td>...</td>\n      <td>...</td>\n      <td>...</td>\n      <td>...</td>\n      <td>...</td>\n    </tr>\n    <tr>\n      <th>566</th>\n      <td>2023-06-06 14:00:00</td>\n      <td>1817.79</td>\n      <td>1813.23</td>\n      <td>453.90</td>\n      <td>61094722.56</td>\n      <td>4.56</td>\n      <td>682.29</td>\n      <td>0.00</td>\n      <td>1238709.95</td>\n      <td>0.37</td>\n      <td>2023-06-06</td>\n    </tr>\n    <tr>\n      <th>1380</th>\n      <td>2023-07-10 12:00:00</td>\n      <td>1864.30</td>\n      <td>1859.72</td>\n      <td>439.87</td>\n      <td>47636323.96</td>\n      <td>4.58</td>\n      <td>289.46</td>\n      <td>484711.70</td>\n      <td>1023688.75</td>\n      <td>0.43</td>\n      <td>2023-07-10</td>\n    </tr>\n    <tr>\n      <th>195</th>\n      <td>2023-05-22 03:00:00</td>\n      <td>1810.91</td>\n      <td>1806.33</td>\n      <td>668.86</td>\n      <td>61115197.38</td>\n      <td>4.58</td>\n      <td>752.54</td>\n      <td>0.00</td>\n      <td>1361052.38</td>\n      <td>0.49</td>\n      <td>2023-05-22</td>\n    </tr>\n    <tr>\n      <th>153</th>\n      <td>2023-05-20 09:00:00</td>\n      <td>1813.00</td>\n      <td>1808.41</td>\n      <td>329.18</td>\n      <td>57959673.29</td>\n      <td>4.59</td>\n      <td>137.48</td>\n      <td>956533.99</td>\n      <td>1205478.05</td>\n      <td>0.27</td>\n      <td>2023-05-20</td>\n    </tr>\n    <tr>\n      <th>293</th>\n      <td>2023-05-26 05:00:00</td>\n      <td>1810.30</td>\n      <td>1805.71</td>\n      <td>541.46</td>\n      <td>59077999.56</td>\n      <td>4.59</td>\n      <td>564.29</td>\n      <td>217128.15</td>\n      <td>1237375.25</td>\n      <td>0.44</td>\n      <td>2023-05-26</td>\n    </tr>\n  </tbody>\n</table>\n<p>100 rows × 11 columns</p>\n</div>"
     },
     "execution_count": 61,
     "metadata": {},
     "output_type": "execute_result"
    }
   ],
   "source": [
    "hourly_df.sort_values(by=[\"interval\"], ascending=True).head(100)"
   ],
   "metadata": {
    "collapsed": false,
    "ExecuteTime": {
     "end_time": "2023-07-20T03:14:36.223388Z",
     "start_time": "2023-07-20T03:14:36.215806Z"
    }
   }
  },
  {
   "cell_type": "code",
   "execution_count": 62,
   "outputs": [
    {
     "data": {
      "text/plain": "                 datetime       h       l  hourlyTotalRevenueUSD  \\\n772   2023-06-15 04:00:00 1729.70 1629.40               18810.39   \n1149  2023-06-30 21:00:00 1911.60 1823.20               21929.38   \n1463  2023-07-13 23:00:00 1945.70 1881.31               15093.66   \n1152  2023-07-01 00:00:00 1906.30 1848.44                9536.24   \n936   2023-06-22 00:00:00 1903.40 1846.47               15103.48   \n...                   ...     ...     ...                    ...   \n573   2023-06-06 21:00:00 1820.62 1796.35                6470.56   \n118   2023-05-18 22:00:00 1826.50 1802.26                6228.97   \n1303  2023-07-07 07:00:00 1869.90 1845.70                5808.64   \n440   2023-06-01 08:00:00 1892.60 1868.46                6151.74   \n1041  2023-06-26 09:00:00 1889.80 1865.70                6775.10   \n\n      totalValueLockedUSD  interval  interval_eth_amount  \\\n772           44905447.02    100.30              2876.74   \n1149          46302911.35     88.40              3931.24   \n1463          47355306.65     64.39              4855.41   \n1152          46676425.51     57.86                 0.00   \n936           44210378.18     56.93               969.87   \n...                   ...       ...                  ...   \n573           61310537.37     24.27               912.88   \n118           67248237.16     24.24               613.93   \n1303          49841773.65     24.20              1515.43   \n440           59154632.76     24.14              1740.48   \n1041          42841525.67     24.10                 0.00   \n\n      interval_usdc_amount         usd  revenue_1k         day  \n772             1177120.50  6008743.28        3.13  2023-06-15  \n1149            3554288.74 10895495.09        2.01  2023-06-30  \n1463                  0.00  9290849.21        1.62  2023-07-13  \n1152            6544775.12  6544775.12        1.46  2023-07-01  \n936             5402234.13  7220668.34        2.09  2023-06-22  \n...                    ...         ...         ...         ...  \n573             2761829.46  4412758.16        1.47  2023-06-06  \n118             4087650.36  5201550.68        1.20  2023-05-18  \n1303             240770.86  3056128.36        1.90  2023-07-07  \n440             1370480.01  4643503.36        1.32  2023-06-01  \n1041            3260140.41  3260140.41        2.08  2023-06-26  \n\n[100 rows x 11 columns]",
      "text/html": "<div>\n<style scoped>\n    .dataframe tbody tr th:only-of-type {\n        vertical-align: middle;\n    }\n\n    .dataframe tbody tr th {\n        vertical-align: top;\n    }\n\n    .dataframe thead th {\n        text-align: right;\n    }\n</style>\n<table border=\"1\" class=\"dataframe\">\n  <thead>\n    <tr style=\"text-align: right;\">\n      <th></th>\n      <th>datetime</th>\n      <th>h</th>\n      <th>l</th>\n      <th>hourlyTotalRevenueUSD</th>\n      <th>totalValueLockedUSD</th>\n      <th>interval</th>\n      <th>interval_eth_amount</th>\n      <th>interval_usdc_amount</th>\n      <th>usd</th>\n      <th>revenue_1k</th>\n      <th>day</th>\n    </tr>\n  </thead>\n  <tbody>\n    <tr>\n      <th>772</th>\n      <td>2023-06-15 04:00:00</td>\n      <td>1729.70</td>\n      <td>1629.40</td>\n      <td>18810.39</td>\n      <td>44905447.02</td>\n      <td>100.30</td>\n      <td>2876.74</td>\n      <td>1177120.50</td>\n      <td>6008743.28</td>\n      <td>3.13</td>\n      <td>2023-06-15</td>\n    </tr>\n    <tr>\n      <th>1149</th>\n      <td>2023-06-30 21:00:00</td>\n      <td>1911.60</td>\n      <td>1823.20</td>\n      <td>21929.38</td>\n      <td>46302911.35</td>\n      <td>88.40</td>\n      <td>3931.24</td>\n      <td>3554288.74</td>\n      <td>10895495.09</td>\n      <td>2.01</td>\n      <td>2023-06-30</td>\n    </tr>\n    <tr>\n      <th>1463</th>\n      <td>2023-07-13 23:00:00</td>\n      <td>1945.70</td>\n      <td>1881.31</td>\n      <td>15093.66</td>\n      <td>47355306.65</td>\n      <td>64.39</td>\n      <td>4855.41</td>\n      <td>0.00</td>\n      <td>9290849.21</td>\n      <td>1.62</td>\n      <td>2023-07-13</td>\n    </tr>\n    <tr>\n      <th>1152</th>\n      <td>2023-07-01 00:00:00</td>\n      <td>1906.30</td>\n      <td>1848.44</td>\n      <td>9536.24</td>\n      <td>46676425.51</td>\n      <td>57.86</td>\n      <td>0.00</td>\n      <td>6544775.12</td>\n      <td>6544775.12</td>\n      <td>1.46</td>\n      <td>2023-07-01</td>\n    </tr>\n    <tr>\n      <th>936</th>\n      <td>2023-06-22 00:00:00</td>\n      <td>1903.40</td>\n      <td>1846.47</td>\n      <td>15103.48</td>\n      <td>44210378.18</td>\n      <td>56.93</td>\n      <td>969.87</td>\n      <td>5402234.13</td>\n      <td>7220668.34</td>\n      <td>2.09</td>\n      <td>2023-06-22</td>\n    </tr>\n    <tr>\n      <th>...</th>\n      <td>...</td>\n      <td>...</td>\n      <td>...</td>\n      <td>...</td>\n      <td>...</td>\n      <td>...</td>\n      <td>...</td>\n      <td>...</td>\n      <td>...</td>\n      <td>...</td>\n      <td>...</td>\n    </tr>\n    <tr>\n      <th>573</th>\n      <td>2023-06-06 21:00:00</td>\n      <td>1820.62</td>\n      <td>1796.35</td>\n      <td>6470.56</td>\n      <td>61310537.37</td>\n      <td>24.27</td>\n      <td>912.88</td>\n      <td>2761829.46</td>\n      <td>4412758.16</td>\n      <td>1.47</td>\n      <td>2023-06-06</td>\n    </tr>\n    <tr>\n      <th>118</th>\n      <td>2023-05-18 22:00:00</td>\n      <td>1826.50</td>\n      <td>1802.26</td>\n      <td>6228.97</td>\n      <td>67248237.16</td>\n      <td>24.24</td>\n      <td>613.93</td>\n      <td>4087650.36</td>\n      <td>5201550.68</td>\n      <td>1.20</td>\n      <td>2023-05-18</td>\n    </tr>\n    <tr>\n      <th>1303</th>\n      <td>2023-07-07 07:00:00</td>\n      <td>1869.90</td>\n      <td>1845.70</td>\n      <td>5808.64</td>\n      <td>49841773.65</td>\n      <td>24.20</td>\n      <td>1515.43</td>\n      <td>240770.86</td>\n      <td>3056128.36</td>\n      <td>1.90</td>\n      <td>2023-07-07</td>\n    </tr>\n    <tr>\n      <th>440</th>\n      <td>2023-06-01 08:00:00</td>\n      <td>1892.60</td>\n      <td>1868.46</td>\n      <td>6151.74</td>\n      <td>59154632.76</td>\n      <td>24.14</td>\n      <td>1740.48</td>\n      <td>1370480.01</td>\n      <td>4643503.36</td>\n      <td>1.32</td>\n      <td>2023-06-01</td>\n    </tr>\n    <tr>\n      <th>1041</th>\n      <td>2023-06-26 09:00:00</td>\n      <td>1889.80</td>\n      <td>1865.70</td>\n      <td>6775.10</td>\n      <td>42841525.67</td>\n      <td>24.10</td>\n      <td>0.00</td>\n      <td>3260140.41</td>\n      <td>3260140.41</td>\n      <td>2.08</td>\n      <td>2023-06-26</td>\n    </tr>\n  </tbody>\n</table>\n<p>100 rows × 11 columns</p>\n</div>"
     },
     "execution_count": 62,
     "metadata": {},
     "output_type": "execute_result"
    }
   ],
   "source": [
    "hourly_df.sort_values(by=[\"interval\"], ascending=False).head(100)"
   ],
   "metadata": {
    "collapsed": false,
    "ExecuteTime": {
     "end_time": "2023-07-20T03:16:34.475291Z",
     "start_time": "2023-07-20T03:16:34.458317Z"
    }
   }
  },
  {
   "cell_type": "code",
   "execution_count": 64,
   "outputs": [
    {
     "data": {
      "text/plain": "                datetime       h       l  hourlyTotalRevenueUSD  \\\n480  2023-06-03 00:00:00 1895.00 1888.10                1666.45   \n481  2023-06-03 01:00:00 1894.38 1887.34                 723.40   \n482  2023-06-03 02:00:00 1914.75 1890.94                4517.04   \n483  2023-06-03 03:00:00 1911.00 1905.61                2337.68   \n484  2023-06-03 04:00:00 1911.10 1904.61                 964.67   \n485  2023-06-03 05:00:00 1907.19 1902.87                 758.24   \n486  2023-06-03 06:00:00 1909.20 1904.46                 488.98   \n487  2023-06-03 07:00:00 1908.34 1905.01                 392.52   \n488  2023-06-03 08:00:00 1909.90 1903.02                1106.58   \n489  2023-06-03 09:00:00 1906.60 1898.06                1271.08   \n490  2023-06-03 10:00:00 1903.00 1899.61                 275.46   \n491  2023-06-03 11:00:00 1902.70 1899.57                 390.73   \n492  2023-06-03 12:00:00 1902.60 1897.84                 401.37   \n493  2023-06-03 13:00:00 1903.25 1900.70                 188.60   \n494  2023-06-03 14:00:00 1906.29 1901.25                 519.74   \n495  2023-06-03 15:00:00 1906.01 1902.92                 283.32   \n496  2023-06-03 16:00:00 1904.48 1902.47                 130.91   \n497  2023-06-03 17:00:00 1905.10 1901.70                 366.97   \n498  2023-06-03 18:00:00 1906.38 1899.79                1005.53   \n499  2023-06-03 19:00:00 1907.64 1903.18                 511.25   \n500  2023-06-03 20:00:00 1907.40 1904.00                 437.20   \n501  2023-06-03 21:00:00 1905.26 1899.91                 658.29   \n502  2023-06-03 22:00:00 1903.65 1899.33                 533.80   \n503  2023-06-03 23:00:00 1905.22 1891.58                2807.81   \n\n     totalValueLockedUSD  interval  interval_eth_amount  interval_usdc_amount  \\\n480          60417486.54      6.90                 0.00            1361350.25   \n481          60464154.97      7.04                 0.00            1723098.83   \n482          60667797.15     23.81               764.83            3065361.77   \n483          59959732.23      5.39               474.03             360849.43   \n484          60293553.15      6.49               474.03             360849.43   \n485          60236330.27      4.32               161.53             702109.69   \n486          60162989.10      4.74               319.87             702109.69   \n487          59888129.23      3.33               161.53             360849.43   \n488          59872751.84      6.88               319.87             702109.69   \n489          59827502.04      8.54               161.53            1726239.37   \n490          59908927.65      3.39                 0.00            1030345.27   \n491          59783118.75      3.13                 0.00            1030345.27   \n492          59755111.18      4.76                 0.00            1024129.68   \n493          59787032.52      2.55                 0.00            1030345.27   \n494          59774006.55      5.04                 0.00            1013689.23   \n495          59816079.21      3.09                 0.00             667882.75   \n496          59781744.35      2.01                 0.00             687066.73   \n497          59768901.10      3.40                 0.00            1013689.23   \n498          59806477.24      6.59                 0.00            1356967.77   \n499          59802069.99      4.46               161.53             702109.69   \n500          59855361.09      3.40               161.53             702109.69   \n501          59923814.82      5.35                 0.00            1356967.77   \n502          59958463.16      4.32                 0.00            1030345.27   \n503          59992235.09     13.64                 0.00            2696601.60   \n\n           usd  revenue_1k         day  \n480 1361350.25        1.22  2023-06-03  \n481 1723098.83        0.42  2023-06-03  \n482 4520723.85        1.00  2023-06-03  \n483 1265449.93        1.85  2023-06-03  \n484 1265236.61        0.76  2023-06-03  \n485 1009822.14        0.75  2023-06-03  \n486 1312049.31        0.37  2023-06-03  \n487  668827.59        0.59  2023-06-03  \n488 1311930.96        0.84  2023-06-03  \n489 2033515.70        0.63  2023-06-03  \n490 1030345.27        0.27  2023-06-03  \n491 1030345.27        0.38  2023-06-03  \n492 1024129.68        0.39  2023-06-03  \n493 1030345.27        0.18  2023-06-03  \n494 1013689.23        0.51  2023-06-03  \n495  667882.75        0.42  2023-06-03  \n496  687066.73        0.19  2023-06-03  \n497 1013689.23        0.36  2023-06-03  \n498 1356967.77        0.74  2023-06-03  \n499 1009883.52        0.51  2023-06-03  \n500 1009930.36        0.43  2023-06-03  \n501 1356967.77        0.49  2023-06-03  \n502 1030345.27        0.52  2023-06-03  \n503 2696601.60        1.04  2023-06-03  ",
      "text/html": "<div>\n<style scoped>\n    .dataframe tbody tr th:only-of-type {\n        vertical-align: middle;\n    }\n\n    .dataframe tbody tr th {\n        vertical-align: top;\n    }\n\n    .dataframe thead th {\n        text-align: right;\n    }\n</style>\n<table border=\"1\" class=\"dataframe\">\n  <thead>\n    <tr style=\"text-align: right;\">\n      <th></th>\n      <th>datetime</th>\n      <th>h</th>\n      <th>l</th>\n      <th>hourlyTotalRevenueUSD</th>\n      <th>totalValueLockedUSD</th>\n      <th>interval</th>\n      <th>interval_eth_amount</th>\n      <th>interval_usdc_amount</th>\n      <th>usd</th>\n      <th>revenue_1k</th>\n      <th>day</th>\n    </tr>\n  </thead>\n  <tbody>\n    <tr>\n      <th>480</th>\n      <td>2023-06-03 00:00:00</td>\n      <td>1895.00</td>\n      <td>1888.10</td>\n      <td>1666.45</td>\n      <td>60417486.54</td>\n      <td>6.90</td>\n      <td>0.00</td>\n      <td>1361350.25</td>\n      <td>1361350.25</td>\n      <td>1.22</td>\n      <td>2023-06-03</td>\n    </tr>\n    <tr>\n      <th>481</th>\n      <td>2023-06-03 01:00:00</td>\n      <td>1894.38</td>\n      <td>1887.34</td>\n      <td>723.40</td>\n      <td>60464154.97</td>\n      <td>7.04</td>\n      <td>0.00</td>\n      <td>1723098.83</td>\n      <td>1723098.83</td>\n      <td>0.42</td>\n      <td>2023-06-03</td>\n    </tr>\n    <tr>\n      <th>482</th>\n      <td>2023-06-03 02:00:00</td>\n      <td>1914.75</td>\n      <td>1890.94</td>\n      <td>4517.04</td>\n      <td>60667797.15</td>\n      <td>23.81</td>\n      <td>764.83</td>\n      <td>3065361.77</td>\n      <td>4520723.85</td>\n      <td>1.00</td>\n      <td>2023-06-03</td>\n    </tr>\n    <tr>\n      <th>483</th>\n      <td>2023-06-03 03:00:00</td>\n      <td>1911.00</td>\n      <td>1905.61</td>\n      <td>2337.68</td>\n      <td>59959732.23</td>\n      <td>5.39</td>\n      <td>474.03</td>\n      <td>360849.43</td>\n      <td>1265449.93</td>\n      <td>1.85</td>\n      <td>2023-06-03</td>\n    </tr>\n    <tr>\n      <th>484</th>\n      <td>2023-06-03 04:00:00</td>\n      <td>1911.10</td>\n      <td>1904.61</td>\n      <td>964.67</td>\n      <td>60293553.15</td>\n      <td>6.49</td>\n      <td>474.03</td>\n      <td>360849.43</td>\n      <td>1265236.61</td>\n      <td>0.76</td>\n      <td>2023-06-03</td>\n    </tr>\n    <tr>\n      <th>485</th>\n      <td>2023-06-03 05:00:00</td>\n      <td>1907.19</td>\n      <td>1902.87</td>\n      <td>758.24</td>\n      <td>60236330.27</td>\n      <td>4.32</td>\n      <td>161.53</td>\n      <td>702109.69</td>\n      <td>1009822.14</td>\n      <td>0.75</td>\n      <td>2023-06-03</td>\n    </tr>\n    <tr>\n      <th>486</th>\n      <td>2023-06-03 06:00:00</td>\n      <td>1909.20</td>\n      <td>1904.46</td>\n      <td>488.98</td>\n      <td>60162989.10</td>\n      <td>4.74</td>\n      <td>319.87</td>\n      <td>702109.69</td>\n      <td>1312049.31</td>\n      <td>0.37</td>\n      <td>2023-06-03</td>\n    </tr>\n    <tr>\n      <th>487</th>\n      <td>2023-06-03 07:00:00</td>\n      <td>1908.34</td>\n      <td>1905.01</td>\n      <td>392.52</td>\n      <td>59888129.23</td>\n      <td>3.33</td>\n      <td>161.53</td>\n      <td>360849.43</td>\n      <td>668827.59</td>\n      <td>0.59</td>\n      <td>2023-06-03</td>\n    </tr>\n    <tr>\n      <th>488</th>\n      <td>2023-06-03 08:00:00</td>\n      <td>1909.90</td>\n      <td>1903.02</td>\n      <td>1106.58</td>\n      <td>59872751.84</td>\n      <td>6.88</td>\n      <td>319.87</td>\n      <td>702109.69</td>\n      <td>1311930.96</td>\n      <td>0.84</td>\n      <td>2023-06-03</td>\n    </tr>\n    <tr>\n      <th>489</th>\n      <td>2023-06-03 09:00:00</td>\n      <td>1906.60</td>\n      <td>1898.06</td>\n      <td>1271.08</td>\n      <td>59827502.04</td>\n      <td>8.54</td>\n      <td>161.53</td>\n      <td>1726239.37</td>\n      <td>2033515.70</td>\n      <td>0.63</td>\n      <td>2023-06-03</td>\n    </tr>\n    <tr>\n      <th>490</th>\n      <td>2023-06-03 10:00:00</td>\n      <td>1903.00</td>\n      <td>1899.61</td>\n      <td>275.46</td>\n      <td>59908927.65</td>\n      <td>3.39</td>\n      <td>0.00</td>\n      <td>1030345.27</td>\n      <td>1030345.27</td>\n      <td>0.27</td>\n      <td>2023-06-03</td>\n    </tr>\n    <tr>\n      <th>491</th>\n      <td>2023-06-03 11:00:00</td>\n      <td>1902.70</td>\n      <td>1899.57</td>\n      <td>390.73</td>\n      <td>59783118.75</td>\n      <td>3.13</td>\n      <td>0.00</td>\n      <td>1030345.27</td>\n      <td>1030345.27</td>\n      <td>0.38</td>\n      <td>2023-06-03</td>\n    </tr>\n    <tr>\n      <th>492</th>\n      <td>2023-06-03 12:00:00</td>\n      <td>1902.60</td>\n      <td>1897.84</td>\n      <td>401.37</td>\n      <td>59755111.18</td>\n      <td>4.76</td>\n      <td>0.00</td>\n      <td>1024129.68</td>\n      <td>1024129.68</td>\n      <td>0.39</td>\n      <td>2023-06-03</td>\n    </tr>\n    <tr>\n      <th>493</th>\n      <td>2023-06-03 13:00:00</td>\n      <td>1903.25</td>\n      <td>1900.70</td>\n      <td>188.60</td>\n      <td>59787032.52</td>\n      <td>2.55</td>\n      <td>0.00</td>\n      <td>1030345.27</td>\n      <td>1030345.27</td>\n      <td>0.18</td>\n      <td>2023-06-03</td>\n    </tr>\n    <tr>\n      <th>494</th>\n      <td>2023-06-03 14:00:00</td>\n      <td>1906.29</td>\n      <td>1901.25</td>\n      <td>519.74</td>\n      <td>59774006.55</td>\n      <td>5.04</td>\n      <td>0.00</td>\n      <td>1013689.23</td>\n      <td>1013689.23</td>\n      <td>0.51</td>\n      <td>2023-06-03</td>\n    </tr>\n    <tr>\n      <th>495</th>\n      <td>2023-06-03 15:00:00</td>\n      <td>1906.01</td>\n      <td>1902.92</td>\n      <td>283.32</td>\n      <td>59816079.21</td>\n      <td>3.09</td>\n      <td>0.00</td>\n      <td>667882.75</td>\n      <td>667882.75</td>\n      <td>0.42</td>\n      <td>2023-06-03</td>\n    </tr>\n    <tr>\n      <th>496</th>\n      <td>2023-06-03 16:00:00</td>\n      <td>1904.48</td>\n      <td>1902.47</td>\n      <td>130.91</td>\n      <td>59781744.35</td>\n      <td>2.01</td>\n      <td>0.00</td>\n      <td>687066.73</td>\n      <td>687066.73</td>\n      <td>0.19</td>\n      <td>2023-06-03</td>\n    </tr>\n    <tr>\n      <th>497</th>\n      <td>2023-06-03 17:00:00</td>\n      <td>1905.10</td>\n      <td>1901.70</td>\n      <td>366.97</td>\n      <td>59768901.10</td>\n      <td>3.40</td>\n      <td>0.00</td>\n      <td>1013689.23</td>\n      <td>1013689.23</td>\n      <td>0.36</td>\n      <td>2023-06-03</td>\n    </tr>\n    <tr>\n      <th>498</th>\n      <td>2023-06-03 18:00:00</td>\n      <td>1906.38</td>\n      <td>1899.79</td>\n      <td>1005.53</td>\n      <td>59806477.24</td>\n      <td>6.59</td>\n      <td>0.00</td>\n      <td>1356967.77</td>\n      <td>1356967.77</td>\n      <td>0.74</td>\n      <td>2023-06-03</td>\n    </tr>\n    <tr>\n      <th>499</th>\n      <td>2023-06-03 19:00:00</td>\n      <td>1907.64</td>\n      <td>1903.18</td>\n      <td>511.25</td>\n      <td>59802069.99</td>\n      <td>4.46</td>\n      <td>161.53</td>\n      <td>702109.69</td>\n      <td>1009883.52</td>\n      <td>0.51</td>\n      <td>2023-06-03</td>\n    </tr>\n    <tr>\n      <th>500</th>\n      <td>2023-06-03 20:00:00</td>\n      <td>1907.40</td>\n      <td>1904.00</td>\n      <td>437.20</td>\n      <td>59855361.09</td>\n      <td>3.40</td>\n      <td>161.53</td>\n      <td>702109.69</td>\n      <td>1009930.36</td>\n      <td>0.43</td>\n      <td>2023-06-03</td>\n    </tr>\n    <tr>\n      <th>501</th>\n      <td>2023-06-03 21:00:00</td>\n      <td>1905.26</td>\n      <td>1899.91</td>\n      <td>658.29</td>\n      <td>59923814.82</td>\n      <td>5.35</td>\n      <td>0.00</td>\n      <td>1356967.77</td>\n      <td>1356967.77</td>\n      <td>0.49</td>\n      <td>2023-06-03</td>\n    </tr>\n    <tr>\n      <th>502</th>\n      <td>2023-06-03 22:00:00</td>\n      <td>1903.65</td>\n      <td>1899.33</td>\n      <td>533.80</td>\n      <td>59958463.16</td>\n      <td>4.32</td>\n      <td>0.00</td>\n      <td>1030345.27</td>\n      <td>1030345.27</td>\n      <td>0.52</td>\n      <td>2023-06-03</td>\n    </tr>\n    <tr>\n      <th>503</th>\n      <td>2023-06-03 23:00:00</td>\n      <td>1905.22</td>\n      <td>1891.58</td>\n      <td>2807.81</td>\n      <td>59992235.09</td>\n      <td>13.64</td>\n      <td>0.00</td>\n      <td>2696601.60</td>\n      <td>2696601.60</td>\n      <td>1.04</td>\n      <td>2023-06-03</td>\n    </tr>\n  </tbody>\n</table>\n</div>"
     },
     "execution_count": 64,
     "metadata": {},
     "output_type": "execute_result"
    }
   ],
   "source": [
    "hourly_df[(hourly_df[\"datetime\"] > \"2023-06-03\") & (hourly_df[\"datetime\"] < \"2023-06-04\")].head(25)"
   ],
   "metadata": {
    "collapsed": false,
    "ExecuteTime": {
     "end_time": "2023-07-20T03:22:24.709702Z",
     "start_time": "2023-07-20T03:22:24.706615Z"
    }
   }
  },
  {
   "cell_type": "code",
   "execution_count": 65,
   "outputs": [
    {
     "data": {
      "text/plain": "              datetime  bottom_price  top_price  eth_amount  usdc_amount\n0  2023-05-14 00:00:56       1600.44    1602.04        0.00    105267.13\n1  2023-05-14 00:00:56       1602.04    1603.64        0.00    105319.54\n2  2023-05-14 00:00:56       1603.64    1605.25        0.00    105381.04\n3  2023-05-14 00:00:56       1605.25    1606.85        0.00    105435.96\n4  2023-05-14 00:00:56       1606.85    1608.46        0.00    105493.51",
      "text/html": "<div>\n<style scoped>\n    .dataframe tbody tr th:only-of-type {\n        vertical-align: middle;\n    }\n\n    .dataframe tbody tr th {\n        vertical-align: top;\n    }\n\n    .dataframe thead th {\n        text-align: right;\n    }\n</style>\n<table border=\"1\" class=\"dataframe\">\n  <thead>\n    <tr style=\"text-align: right;\">\n      <th></th>\n      <th>datetime</th>\n      <th>bottom_price</th>\n      <th>top_price</th>\n      <th>eth_amount</th>\n      <th>usdc_amount</th>\n    </tr>\n  </thead>\n  <tbody>\n    <tr>\n      <th>0</th>\n      <td>2023-05-14 00:00:56</td>\n      <td>1600.44</td>\n      <td>1602.04</td>\n      <td>0.00</td>\n      <td>105267.13</td>\n    </tr>\n    <tr>\n      <th>1</th>\n      <td>2023-05-14 00:00:56</td>\n      <td>1602.04</td>\n      <td>1603.64</td>\n      <td>0.00</td>\n      <td>105319.54</td>\n    </tr>\n    <tr>\n      <th>2</th>\n      <td>2023-05-14 00:00:56</td>\n      <td>1603.64</td>\n      <td>1605.25</td>\n      <td>0.00</td>\n      <td>105381.04</td>\n    </tr>\n    <tr>\n      <th>3</th>\n      <td>2023-05-14 00:00:56</td>\n      <td>1605.25</td>\n      <td>1606.85</td>\n      <td>0.00</td>\n      <td>105435.96</td>\n    </tr>\n    <tr>\n      <th>4</th>\n      <td>2023-05-14 00:00:56</td>\n      <td>1606.85</td>\n      <td>1608.46</td>\n      <td>0.00</td>\n      <td>105493.51</td>\n    </tr>\n  </tbody>\n</table>\n</div>"
     },
     "execution_count": 65,
     "metadata": {},
     "output_type": "execute_result"
    }
   ],
   "source": [
    "liquidity_df.head()"
   ],
   "metadata": {
    "collapsed": false,
    "ExecuteTime": {
     "end_time": "2023-07-20T04:26:36.220168Z",
     "start_time": "2023-07-20T04:26:36.216176Z"
    }
   }
  },
  {
   "cell_type": "code",
   "execution_count": 66,
   "outputs": [
    {
     "name": "stdout",
     "output_type": "stream",
     "text": [
      "247\n"
     ]
    }
   ],
   "source": [
    "# 回测所有区间，看最大收益所在的区间，可能需要做计算量优化\n",
    "unique_price_list = liquidity_df.bottom_price.unique().tolist()\n",
    "print(len(unique_price_list))"
   ],
   "metadata": {
    "collapsed": false,
    "ExecuteTime": {
     "end_time": "2023-07-20T04:28:15.969906Z",
     "start_time": "2023-07-20T04:28:15.952356Z"
    }
   }
  },
  {
   "cell_type": "code",
   "execution_count": 67,
   "outputs": [
    {
     "name": "stdout",
     "output_type": "stream",
     "text": [
      "2046.77660994\n",
      "1600.43980475\n"
     ]
    }
   ],
   "source": [
    "print(max(unique_price_list))\n",
    "print(min(unique_price_list))"
   ],
   "metadata": {
    "collapsed": false,
    "ExecuteTime": {
     "end_time": "2023-07-20T04:28:34.822446Z",
     "start_time": "2023-07-20T04:28:34.801593Z"
    }
   }
  },
  {
   "cell_type": "code",
   "execution_count": 70,
   "outputs": [
    {
     "name": "stdout",
     "output_type": "stream",
     "text": [
      "226\n"
     ]
    }
   ],
   "source": [
    "price_min = daily_df.low.min()\n",
    "price_max = daily_df.high.max()\n",
    "filtered_price_list = []\n",
    "for liquidity_price in sorted(unique_price_list):\n",
    "    if liquidity_price < price_min:\n",
    "        continue\n",
    "    if liquidity_price > price_max:\n",
    "        continue\n",
    "    filtered_price_list.append(liquidity_price)\n",
    "print(len(filtered_price_list))"
   ],
   "metadata": {
    "collapsed": false,
    "ExecuteTime": {
     "end_time": "2023-07-20T04:31:56.847840Z",
     "start_time": "2023-07-20T04:31:56.828802Z"
    }
   }
  },
  {
   "cell_type": "code",
   "execution_count": 72,
   "outputs": [
    {
     "name": "stdout",
     "output_type": "stream",
     "text": [
      "1621.38029348\n",
      "2030.46853174\n"
     ]
    }
   ],
   "source": [
    "print(filtered_price_list[0])\n",
    "print(filtered_price_list[-1])"
   ],
   "metadata": {
    "collapsed": false,
    "ExecuteTime": {
     "end_time": "2023-07-20T06:40:46.127666Z",
     "start_time": "2023-07-20T06:40:46.124737Z"
    }
   }
  },
  {
   "cell_type": "code",
   "execution_count": 74,
   "outputs": [
    {
     "data": {
      "text/plain": "{'datetime': '2023-05-14 00:00:56',\n 'bottom_price': 1600.43980475,\n 'top_price': 1602.04096494,\n 'eth_amount': 0.0,\n 'usdc_amount': 105267.1299}"
     },
     "execution_count": 74,
     "metadata": {},
     "output_type": "execute_result"
    }
   ],
   "source": [
    "liquidity_dict[\"2023-05-14\"][0]"
   ],
   "metadata": {
    "collapsed": false,
    "ExecuteTime": {
     "end_time": "2023-07-20T07:17:40.887970Z",
     "start_time": "2023-07-20T07:17:40.885214Z"
    }
   }
  },
  {
   "cell_type": "code",
   "execution_count": 76,
   "outputs": [
    {
     "name": "stdout",
     "output_type": "stream",
     "text": [
      "67\n"
     ]
    }
   ],
   "source": [
    "# 记录每天的区间收益\n",
    "def convert_interval_amount():\n",
    "    liquidity_interval_dict = dict()\n",
    "    for day, item_list in liquidity_dict.items():\n",
    "        liquidity_interval_dict[day] = dict()\n",
    "        for item in item_list:\n",
    "            liquidity_interval_dict[day][(item[\"bottom_price\"], item[\"top_price\"])] = (item[\"eth_amount\"], item[\"usdc_amount\"])\n",
    "\n",
    "    interval_amount_dict = dict()\n",
    "    for day in liquidity_interval_dict.keys():\n",
    "        interval_amount_dict[day] = dict()\n",
    "        for i in range(len(filtered_price_list) - 1):\n",
    "            interval_low = filtered_price_list[i]\n",
    "            last_pair_result = (0, 0)\n",
    "            for j in range(i + 1, len(filtered_price_list)):\n",
    "                interval_high = filtered_price_list[j]\n",
    "                if (interval_low, interval_high) in liquidity_interval_dict[day]:\n",
    "                    interval_amount_dict[day][(interval_low, interval_high)] = liquidity_interval_dict[day][(interval_low, interval_high)]\n",
    "                else:\n",
    "                    to_add_result = liquidity_interval_dict[day][(filtered_price_list[j-1], interval_high)]\n",
    "                    interval_amount_dict[day][(interval_low, interval_high)] = tuple(map(sum, zip(last_pair_result, to_add_result)))\n",
    "                last_pair_result = interval_amount_dict[day][(interval_low, interval_high)]\n",
    "\n",
    "    return interval_amount_dict\n",
    "\n",
    "\n",
    "interval_amount_dict = convert_interval_amount()\n",
    "print(len(interval_amount_dict))"
   ],
   "metadata": {
    "collapsed": false,
    "ExecuteTime": {
     "end_time": "2023-07-20T07:18:59.681817Z",
     "start_time": "2023-07-20T07:18:58.277216Z"
    }
   }
  },
  {
   "cell_type": "code",
   "execution_count": 92,
   "outputs": [
    {
     "name": "stdout",
     "output_type": "stream",
     "text": [
      "[(1621.38029348, 1623.00240359), (1621.38029348, 1624.62613654)]\n",
      "(0.0, 125084.6739)\n",
      "(0.0, 250235.5431)\n",
      "(0.0, 125150.8692)\n"
     ]
    }
   ],
   "source": [
    "# check result\n",
    "print(list(interval_amount_dict[\"2023-05-14\"].keys())[:2])\n",
    "print(interval_amount_dict[\"2023-05-14\"][(1621.38029348, 1623.00240359)])\n",
    "print(interval_amount_dict[\"2023-05-14\"][(1621.38029348, 1624.62613654)])\n",
    "print(interval_amount_dict[\"2023-05-14\"][(1623.00240359, 1624.62613654)])"
   ],
   "metadata": {
    "collapsed": false,
    "ExecuteTime": {
     "end_time": "2023-07-20T08:11:46.239458Z",
     "start_time": "2023-07-20T08:11:46.235466Z"
    }
   }
  },
  {
   "cell_type": "code",
   "execution_count": 84,
   "outputs": [
    {
     "data": {
      "text/plain": "              datetime       h       l  hourlyTotalRevenueUSD  \\\n0  2023-05-14 00:00:00 1797.30 1791.70                1022.65   \n1  2023-05-14 01:00:00 1799.50 1791.08                1072.41   \n2  2023-05-14 02:00:00 1808.40 1786.77                3149.00   \n3  2023-05-14 03:00:00 1801.65 1788.18                2558.41   \n4  2023-05-14 04:00:00 1805.90 1793.31                1331.23   \n\n   totalValueLockedUSD  interval  interval_eth_amount  interval_usdc_amount  \\\n0          61190880.56      5.60               216.32             855797.86   \n1          61175729.32      8.42               372.30             855797.86   \n2          61259722.44     21.63              1127.49            1316397.79   \n3          61377445.74     13.47               525.72            1316397.79   \n4          61592990.58     12.59               831.91             611992.74   \n\n         usd  revenue_1k         day  \n0 1243978.35        0.82  2023-05-14  \n1 1524188.99        0.70  2023-05-14  \n2 3343153.12        0.94  2023-05-14  \n3 2260027.14        1.13  2023-05-14  \n4 2109108.79        0.63  2023-05-14  ",
      "text/html": "<div>\n<style scoped>\n    .dataframe tbody tr th:only-of-type {\n        vertical-align: middle;\n    }\n\n    .dataframe tbody tr th {\n        vertical-align: top;\n    }\n\n    .dataframe thead th {\n        text-align: right;\n    }\n</style>\n<table border=\"1\" class=\"dataframe\">\n  <thead>\n    <tr style=\"text-align: right;\">\n      <th></th>\n      <th>datetime</th>\n      <th>h</th>\n      <th>l</th>\n      <th>hourlyTotalRevenueUSD</th>\n      <th>totalValueLockedUSD</th>\n      <th>interval</th>\n      <th>interval_eth_amount</th>\n      <th>interval_usdc_amount</th>\n      <th>usd</th>\n      <th>revenue_1k</th>\n      <th>day</th>\n    </tr>\n  </thead>\n  <tbody>\n    <tr>\n      <th>0</th>\n      <td>2023-05-14 00:00:00</td>\n      <td>1797.30</td>\n      <td>1791.70</td>\n      <td>1022.65</td>\n      <td>61190880.56</td>\n      <td>5.60</td>\n      <td>216.32</td>\n      <td>855797.86</td>\n      <td>1243978.35</td>\n      <td>0.82</td>\n      <td>2023-05-14</td>\n    </tr>\n    <tr>\n      <th>1</th>\n      <td>2023-05-14 01:00:00</td>\n      <td>1799.50</td>\n      <td>1791.08</td>\n      <td>1072.41</td>\n      <td>61175729.32</td>\n      <td>8.42</td>\n      <td>372.30</td>\n      <td>855797.86</td>\n      <td>1524188.99</td>\n      <td>0.70</td>\n      <td>2023-05-14</td>\n    </tr>\n    <tr>\n      <th>2</th>\n      <td>2023-05-14 02:00:00</td>\n      <td>1808.40</td>\n      <td>1786.77</td>\n      <td>3149.00</td>\n      <td>61259722.44</td>\n      <td>21.63</td>\n      <td>1127.49</td>\n      <td>1316397.79</td>\n      <td>3343153.12</td>\n      <td>0.94</td>\n      <td>2023-05-14</td>\n    </tr>\n    <tr>\n      <th>3</th>\n      <td>2023-05-14 03:00:00</td>\n      <td>1801.65</td>\n      <td>1788.18</td>\n      <td>2558.41</td>\n      <td>61377445.74</td>\n      <td>13.47</td>\n      <td>525.72</td>\n      <td>1316397.79</td>\n      <td>2260027.14</td>\n      <td>1.13</td>\n      <td>2023-05-14</td>\n    </tr>\n    <tr>\n      <th>4</th>\n      <td>2023-05-14 04:00:00</td>\n      <td>1805.90</td>\n      <td>1793.31</td>\n      <td>1331.23</td>\n      <td>61592990.58</td>\n      <td>12.59</td>\n      <td>831.91</td>\n      <td>611992.74</td>\n      <td>2109108.79</td>\n      <td>0.63</td>\n      <td>2023-05-14</td>\n    </tr>\n  </tbody>\n</table>\n</div>"
     },
     "execution_count": 84,
     "metadata": {},
     "output_type": "execute_result"
    }
   ],
   "source": [
    "hourly_df.head()"
   ],
   "metadata": {
    "collapsed": false,
    "ExecuteTime": {
     "end_time": "2023-07-20T07:43:45.707169Z",
     "start_time": "2023-07-20T07:43:45.686739Z"
    }
   }
  },
  {
   "cell_type": "code",
   "execution_count": 89,
   "outputs": [
    {
     "data": {
      "text/plain": "0.1"
     },
     "execution_count": 89,
     "metadata": {},
     "output_type": "execute_result"
    }
   ],
   "source": [
    "def get_intersection_rate(hour_high, hour_low, interval_high, interval_low):\n",
    "    if hour_high < interval_low or interval_high < hour_low:\n",
    "        return 0\n",
    "    else:\n",
    "        return (min(hour_high, interval_high) - max(hour_low, interval_low)) / (hour_high - hour_low)\n",
    "\n",
    "get_intersection_rate(1640, 1620, 1622, 1618)"
   ],
   "metadata": {
    "collapsed": false,
    "ExecuteTime": {
     "end_time": "2023-07-20T07:56:07.468057Z",
     "start_time": "2023-07-20T07:56:07.459582Z"
    }
   }
  },
  {
   "cell_type": "code",
   "execution_count": 91,
   "outputs": [
    {
     "name": "stdout",
     "output_type": "stream",
     "text": [
      "66\n"
     ]
    }
   ],
   "source": [
    "def get_hourly_dict():\n",
    "    hourly_records = hourly_df[[\"day\", \"h\", \"l\", \"hourlyTotalRevenueUSD\"]].to_dict(\"records\")\n",
    "    hourly_dict = dict()\n",
    "    for item in hourly_records:\n",
    "        day = item[\"day\"]\n",
    "        if day in hourly_dict:\n",
    "            hourly_dict[day].append((item[\"h\"], item[\"l\"], item[\"hourlyTotalRevenueUSD\"]))\n",
    "        else:\n",
    "            hourly_dict[day] = [(item[\"h\"], item[\"l\"], item[\"hourlyTotalRevenueUSD\"])]\n",
    "    return hourly_dict\n",
    "\n",
    "\n",
    "hourly_dict = get_hourly_dict()\n",
    "print(len(hourly_dict))"
   ],
   "metadata": {
    "collapsed": false,
    "ExecuteTime": {
     "end_time": "2023-07-20T08:09:22.616474Z",
     "start_time": "2023-07-20T08:09:22.610153Z"
    }
   }
  },
  {
   "cell_type": "code",
   "execution_count": 93,
   "outputs": [],
   "source": [
    "def calculate_daily_interval_revenue(day, interval):\n",
    "    revenue = 0\n",
    "\n",
    "    interval_low = interval[0]\n",
    "    interval_high = interval[1]\n",
    "    for item in hourly_dict[day]:\n",
    "        hourly_high = item[0]\n",
    "        hourly_low = item[1]\n",
    "        inter_rate = get_intersection_rate(hourly_high, hourly_low, interval_high, interval_low)\n",
    "\n",
    "        hourly_revenue = item[2]\n",
    "        revenue += hourly_revenue * inter_rate\n",
    "    return revenue"
   ],
   "metadata": {
    "collapsed": false,
    "ExecuteTime": {
     "end_time": "2023-07-20T08:23:34.154953Z",
     "start_time": "2023-07-20T08:23:34.151914Z"
    }
   }
  },
  {
   "cell_type": "code",
   "execution_count": 94,
   "outputs": [
    {
     "name": "stdout",
     "output_type": "stream",
     "text": [
      "(1678050, 6)\n"
     ]
    }
   ],
   "source": [
    "# 假设在小时交易数据中高点和低点之间获得的交易利润是均匀的，假设较强，存在较大误差的可能性（获取 swap 数据后可以完全还原交易区间问题，但仍然存在流动性分布的误差）\n",
    "def main():\n",
    "    result = []\n",
    "    for day, interval_dict in interval_amount_dict.items():\n",
    "        if day not in hourly_dict:\n",
    "            continue\n",
    "        for interval_pair, amount_pair in interval_dict.items():\n",
    "            interval_revenue = calculate_daily_interval_revenue(day, interval_pair)\n",
    "            item = dict()\n",
    "            item[\"day\"] = day\n",
    "            item[\"interval_low\"] = interval_pair[0]\n",
    "            item[\"interval_high\"] = interval_pair[1]\n",
    "            item[\"eth_amount\"] = amount_pair[0]\n",
    "            item[\"usdc_amount\"] = amount_pair[1]\n",
    "            item[\"daily_revenue\"] = interval_revenue\n",
    "            result.append(item)\n",
    "    return result\n",
    "\n",
    "\n",
    "daily_stats = main()\n",
    "df = pd.DataFrame(daily_stats)\n",
    "print(df.shape)"
   ],
   "metadata": {
    "collapsed": false,
    "ExecuteTime": {
     "end_time": "2023-07-20T08:27:30.588215Z",
     "start_time": "2023-07-20T08:27:21.320989Z"
    }
   }
  },
  {
   "cell_type": "code",
   "execution_count": 96,
   "outputs": [
    {
     "data": {
      "text/plain": "                day  interval_low  interval_high  eth_amount  usdc_amount  \\\n1003769  2023-06-22       1725.08        1976.38     3781.71  15865309.75   \n1004254  2023-06-22       1730.26        1980.34     3912.81  15616580.44   \n1004252  2023-06-22       1730.26        1976.38     3781.71  15616580.44   \n1004251  2023-06-22       1730.26        1974.41     3716.26  15616580.44   \n1004250  2023-06-22       1730.26        1972.43     3650.73  15616580.44   \n1004249  2023-06-22       1730.26        1970.46     3585.18  15616580.44   \n1004248  2023-06-22       1730.26        1968.49     3519.71  15616580.44   \n1004247  2023-06-22       1730.26        1966.53     3454.10  15616580.44   \n1004246  2023-06-22       1730.26        1964.56     3388.23  15616580.44   \n1004245  2023-06-22       1730.26        1962.60     3322.32  15616580.44   \n1004244  2023-06-22       1730.26        1960.63     3256.25  15616580.44   \n1004243  2023-06-22       1730.26        1958.68     3190.18  15616580.44   \n1004242  2023-06-22       1730.26        1956.72     3124.06  15616580.44   \n1004241  2023-06-22       1730.26        1954.76     3057.88  15616580.44   \n1004240  2023-06-22       1730.26        1952.81     2991.43  15616580.44   \n1004239  2023-06-22       1730.26        1950.86     2924.50  15616580.44   \n1004238  2023-06-22       1730.26        1948.91     2853.94  15616580.44   \n1004253  2023-06-22       1730.26        1978.36     3847.10  15616580.44   \n1004255  2023-06-22       1730.26        1982.32     3977.32  15616580.44   \n1004236  2023-06-22       1730.26        1945.01     2707.75  15616580.44   \n\n         daily_revenue  \n1003769       91072.22  \n1004254       91072.22  \n1004252       91072.22  \n1004251       91072.22  \n1004250       91072.22  \n1004249       91072.22  \n1004248       91072.22  \n1004247       91072.22  \n1004246       91072.22  \n1004245       91072.22  \n1004244       91072.22  \n1004243       91072.22  \n1004242       91072.22  \n1004241       91072.22  \n1004240       91072.22  \n1004239       91072.22  \n1004238       91072.22  \n1004253       91072.22  \n1004255       91072.22  \n1004236       91072.22  ",
      "text/html": "<div>\n<style scoped>\n    .dataframe tbody tr th:only-of-type {\n        vertical-align: middle;\n    }\n\n    .dataframe tbody tr th {\n        vertical-align: top;\n    }\n\n    .dataframe thead th {\n        text-align: right;\n    }\n</style>\n<table border=\"1\" class=\"dataframe\">\n  <thead>\n    <tr style=\"text-align: right;\">\n      <th></th>\n      <th>day</th>\n      <th>interval_low</th>\n      <th>interval_high</th>\n      <th>eth_amount</th>\n      <th>usdc_amount</th>\n      <th>daily_revenue</th>\n    </tr>\n  </thead>\n  <tbody>\n    <tr>\n      <th>1003769</th>\n      <td>2023-06-22</td>\n      <td>1725.08</td>\n      <td>1976.38</td>\n      <td>3781.71</td>\n      <td>15865309.75</td>\n      <td>91072.22</td>\n    </tr>\n    <tr>\n      <th>1004254</th>\n      <td>2023-06-22</td>\n      <td>1730.26</td>\n      <td>1980.34</td>\n      <td>3912.81</td>\n      <td>15616580.44</td>\n      <td>91072.22</td>\n    </tr>\n    <tr>\n      <th>1004252</th>\n      <td>2023-06-22</td>\n      <td>1730.26</td>\n      <td>1976.38</td>\n      <td>3781.71</td>\n      <td>15616580.44</td>\n      <td>91072.22</td>\n    </tr>\n    <tr>\n      <th>1004251</th>\n      <td>2023-06-22</td>\n      <td>1730.26</td>\n      <td>1974.41</td>\n      <td>3716.26</td>\n      <td>15616580.44</td>\n      <td>91072.22</td>\n    </tr>\n    <tr>\n      <th>1004250</th>\n      <td>2023-06-22</td>\n      <td>1730.26</td>\n      <td>1972.43</td>\n      <td>3650.73</td>\n      <td>15616580.44</td>\n      <td>91072.22</td>\n    </tr>\n    <tr>\n      <th>1004249</th>\n      <td>2023-06-22</td>\n      <td>1730.26</td>\n      <td>1970.46</td>\n      <td>3585.18</td>\n      <td>15616580.44</td>\n      <td>91072.22</td>\n    </tr>\n    <tr>\n      <th>1004248</th>\n      <td>2023-06-22</td>\n      <td>1730.26</td>\n      <td>1968.49</td>\n      <td>3519.71</td>\n      <td>15616580.44</td>\n      <td>91072.22</td>\n    </tr>\n    <tr>\n      <th>1004247</th>\n      <td>2023-06-22</td>\n      <td>1730.26</td>\n      <td>1966.53</td>\n      <td>3454.10</td>\n      <td>15616580.44</td>\n      <td>91072.22</td>\n    </tr>\n    <tr>\n      <th>1004246</th>\n      <td>2023-06-22</td>\n      <td>1730.26</td>\n      <td>1964.56</td>\n      <td>3388.23</td>\n      <td>15616580.44</td>\n      <td>91072.22</td>\n    </tr>\n    <tr>\n      <th>1004245</th>\n      <td>2023-06-22</td>\n      <td>1730.26</td>\n      <td>1962.60</td>\n      <td>3322.32</td>\n      <td>15616580.44</td>\n      <td>91072.22</td>\n    </tr>\n    <tr>\n      <th>1004244</th>\n      <td>2023-06-22</td>\n      <td>1730.26</td>\n      <td>1960.63</td>\n      <td>3256.25</td>\n      <td>15616580.44</td>\n      <td>91072.22</td>\n    </tr>\n    <tr>\n      <th>1004243</th>\n      <td>2023-06-22</td>\n      <td>1730.26</td>\n      <td>1958.68</td>\n      <td>3190.18</td>\n      <td>15616580.44</td>\n      <td>91072.22</td>\n    </tr>\n    <tr>\n      <th>1004242</th>\n      <td>2023-06-22</td>\n      <td>1730.26</td>\n      <td>1956.72</td>\n      <td>3124.06</td>\n      <td>15616580.44</td>\n      <td>91072.22</td>\n    </tr>\n    <tr>\n      <th>1004241</th>\n      <td>2023-06-22</td>\n      <td>1730.26</td>\n      <td>1954.76</td>\n      <td>3057.88</td>\n      <td>15616580.44</td>\n      <td>91072.22</td>\n    </tr>\n    <tr>\n      <th>1004240</th>\n      <td>2023-06-22</td>\n      <td>1730.26</td>\n      <td>1952.81</td>\n      <td>2991.43</td>\n      <td>15616580.44</td>\n      <td>91072.22</td>\n    </tr>\n    <tr>\n      <th>1004239</th>\n      <td>2023-06-22</td>\n      <td>1730.26</td>\n      <td>1950.86</td>\n      <td>2924.50</td>\n      <td>15616580.44</td>\n      <td>91072.22</td>\n    </tr>\n    <tr>\n      <th>1004238</th>\n      <td>2023-06-22</td>\n      <td>1730.26</td>\n      <td>1948.91</td>\n      <td>2853.94</td>\n      <td>15616580.44</td>\n      <td>91072.22</td>\n    </tr>\n    <tr>\n      <th>1004253</th>\n      <td>2023-06-22</td>\n      <td>1730.26</td>\n      <td>1978.36</td>\n      <td>3847.10</td>\n      <td>15616580.44</td>\n      <td>91072.22</td>\n    </tr>\n    <tr>\n      <th>1004255</th>\n      <td>2023-06-22</td>\n      <td>1730.26</td>\n      <td>1982.32</td>\n      <td>3977.32</td>\n      <td>15616580.44</td>\n      <td>91072.22</td>\n    </tr>\n    <tr>\n      <th>1004236</th>\n      <td>2023-06-22</td>\n      <td>1730.26</td>\n      <td>1945.01</td>\n      <td>2707.75</td>\n      <td>15616580.44</td>\n      <td>91072.22</td>\n    </tr>\n  </tbody>\n</table>\n</div>"
     },
     "execution_count": 96,
     "metadata": {},
     "output_type": "execute_result"
    }
   ],
   "source": [
    "df.sort_values(by=\"daily_revenue\", ascending=False).head(20)"
   ],
   "metadata": {
    "collapsed": false,
    "ExecuteTime": {
     "end_time": "2023-07-20T08:30:18.264727Z",
     "start_time": "2023-07-20T08:30:18.160624Z"
    }
   }
  },
  {
   "cell_type": "code",
   "execution_count": 97,
   "outputs": [
    {
     "data": {
      "text/plain": "           day    high     low  daily_revenue  interval_eth_amount  \\\n39  2023-06-22 1934.00 1846.47       91072.22              2277.39   \n\n    interval_usdc_amount  interval_usd  interval  revenue_1k  \n39            5402234.13    9707037.55     87.53        9.38  ",
      "text/html": "<div>\n<style scoped>\n    .dataframe tbody tr th:only-of-type {\n        vertical-align: middle;\n    }\n\n    .dataframe tbody tr th {\n        vertical-align: top;\n    }\n\n    .dataframe thead th {\n        text-align: right;\n    }\n</style>\n<table border=\"1\" class=\"dataframe\">\n  <thead>\n    <tr style=\"text-align: right;\">\n      <th></th>\n      <th>day</th>\n      <th>high</th>\n      <th>low</th>\n      <th>daily_revenue</th>\n      <th>interval_eth_amount</th>\n      <th>interval_usdc_amount</th>\n      <th>interval_usd</th>\n      <th>interval</th>\n      <th>revenue_1k</th>\n    </tr>\n  </thead>\n  <tbody>\n    <tr>\n      <th>39</th>\n      <td>2023-06-22</td>\n      <td>1934.00</td>\n      <td>1846.47</td>\n      <td>91072.22</td>\n      <td>2277.39</td>\n      <td>5402234.13</td>\n      <td>9707037.55</td>\n      <td>87.53</td>\n      <td>9.38</td>\n    </tr>\n  </tbody>\n</table>\n</div>"
     },
     "execution_count": 97,
     "metadata": {},
     "output_type": "execute_result"
    }
   ],
   "source": [
    "daily_df[daily_df[\"day\"] == \"2023-06-22\"]"
   ],
   "metadata": {
    "collapsed": false,
    "ExecuteTime": {
     "end_time": "2023-07-20T08:32:10.736452Z",
     "start_time": "2023-07-20T08:32:10.711924Z"
    }
   }
  },
  {
   "cell_type": "code",
   "execution_count": 98,
   "outputs": [
    {
     "data": {
      "text/plain": "               day  interval_low  interval_high  eth_amount  usdc_amount  \\\n815805  2023-06-15       1637.67        1639.31        0.00     72706.72   \n815372  2023-06-15       1634.40        1636.04        0.00     71363.62   \n815374  2023-06-15       1634.40        1639.31        0.00    216630.31   \n815590  2023-06-15       1636.04        1639.31        0.00    145266.69   \n815373  2023-06-15       1634.40        1637.67        0.00    143923.59   \n815589  2023-06-15       1636.04        1637.67        0.00     72559.96   \n815157  2023-06-15       1632.77        1639.31        0.00    285452.52   \n815156  2023-06-15       1632.77        1637.67        0.00    212745.80   \n815375  2023-06-15       1634.40        1640.95        0.00    317368.56   \n815155  2023-06-15       1632.77        1636.04        0.00    140185.83   \n815158  2023-06-15       1632.77        1640.95        0.00    386190.77   \n815591  2023-06-15       1636.04        1640.95        0.00    246004.94   \n815376  2023-06-15       1634.40        1642.59        0.00    419692.39   \n815159  2023-06-15       1632.77        1642.59        0.00    488514.60   \n815806  2023-06-15       1637.67        1640.95        0.00    173444.97   \n815592  2023-06-15       1636.04        1642.59        0.00    348328.76   \n814939  2023-06-15       1631.14        1639.31        0.00    354219.55   \n844749  2023-06-16       1665.75        1667.42       78.16         0.00   \n814940  2023-06-15       1631.14        1640.95        0.00    454957.80   \n815807  2023-06-15       1637.67        1642.59        0.00    275768.80   \n\n        daily_revenue       usd  revenue_1k  \n815805        2038.15  72706.72       28.03  \n815372        1981.27  71363.62       27.76  \n815374        6002.68 216630.31       27.71  \n815590        4021.40 145266.69       27.68  \n815373        3964.53 143923.59       27.55  \n815589        1983.25  72559.96       27.33  \n815157        7789.94 285452.52       27.29  \n815156        5751.80 212745.80       27.04  \n815375        8544.64 317368.56       26.92  \n815155        3768.54 140185.83       26.88  \n815158       10331.90 386190.77       26.75  \n815591        6563.36 246004.94       26.68  \n815376       11129.98 419692.39       26.52  \n815159       12917.25 488514.60       26.44  \n815806        4580.11 173444.97       26.41  \n815592        9148.71 348328.76       26.26  \n814939        9293.52 354219.55       26.24  \n844749        3412.32 130251.94       26.20  \n814940       11835.48 454957.80       26.01  \n815807        7165.45 275768.80       25.98  ",
      "text/html": "<div>\n<style scoped>\n    .dataframe tbody tr th:only-of-type {\n        vertical-align: middle;\n    }\n\n    .dataframe tbody tr th {\n        vertical-align: top;\n    }\n\n    .dataframe thead th {\n        text-align: right;\n    }\n</style>\n<table border=\"1\" class=\"dataframe\">\n  <thead>\n    <tr style=\"text-align: right;\">\n      <th></th>\n      <th>day</th>\n      <th>interval_low</th>\n      <th>interval_high</th>\n      <th>eth_amount</th>\n      <th>usdc_amount</th>\n      <th>daily_revenue</th>\n      <th>usd</th>\n      <th>revenue_1k</th>\n    </tr>\n  </thead>\n  <tbody>\n    <tr>\n      <th>815805</th>\n      <td>2023-06-15</td>\n      <td>1637.67</td>\n      <td>1639.31</td>\n      <td>0.00</td>\n      <td>72706.72</td>\n      <td>2038.15</td>\n      <td>72706.72</td>\n      <td>28.03</td>\n    </tr>\n    <tr>\n      <th>815372</th>\n      <td>2023-06-15</td>\n      <td>1634.40</td>\n      <td>1636.04</td>\n      <td>0.00</td>\n      <td>71363.62</td>\n      <td>1981.27</td>\n      <td>71363.62</td>\n      <td>27.76</td>\n    </tr>\n    <tr>\n      <th>815374</th>\n      <td>2023-06-15</td>\n      <td>1634.40</td>\n      <td>1639.31</td>\n      <td>0.00</td>\n      <td>216630.31</td>\n      <td>6002.68</td>\n      <td>216630.31</td>\n      <td>27.71</td>\n    </tr>\n    <tr>\n      <th>815590</th>\n      <td>2023-06-15</td>\n      <td>1636.04</td>\n      <td>1639.31</td>\n      <td>0.00</td>\n      <td>145266.69</td>\n      <td>4021.40</td>\n      <td>145266.69</td>\n      <td>27.68</td>\n    </tr>\n    <tr>\n      <th>815373</th>\n      <td>2023-06-15</td>\n      <td>1634.40</td>\n      <td>1637.67</td>\n      <td>0.00</td>\n      <td>143923.59</td>\n      <td>3964.53</td>\n      <td>143923.59</td>\n      <td>27.55</td>\n    </tr>\n    <tr>\n      <th>815589</th>\n      <td>2023-06-15</td>\n      <td>1636.04</td>\n      <td>1637.67</td>\n      <td>0.00</td>\n      <td>72559.96</td>\n      <td>1983.25</td>\n      <td>72559.96</td>\n      <td>27.33</td>\n    </tr>\n    <tr>\n      <th>815157</th>\n      <td>2023-06-15</td>\n      <td>1632.77</td>\n      <td>1639.31</td>\n      <td>0.00</td>\n      <td>285452.52</td>\n      <td>7789.94</td>\n      <td>285452.52</td>\n      <td>27.29</td>\n    </tr>\n    <tr>\n      <th>815156</th>\n      <td>2023-06-15</td>\n      <td>1632.77</td>\n      <td>1637.67</td>\n      <td>0.00</td>\n      <td>212745.80</td>\n      <td>5751.80</td>\n      <td>212745.80</td>\n      <td>27.04</td>\n    </tr>\n    <tr>\n      <th>815375</th>\n      <td>2023-06-15</td>\n      <td>1634.40</td>\n      <td>1640.95</td>\n      <td>0.00</td>\n      <td>317368.56</td>\n      <td>8544.64</td>\n      <td>317368.56</td>\n      <td>26.92</td>\n    </tr>\n    <tr>\n      <th>815155</th>\n      <td>2023-06-15</td>\n      <td>1632.77</td>\n      <td>1636.04</td>\n      <td>0.00</td>\n      <td>140185.83</td>\n      <td>3768.54</td>\n      <td>140185.83</td>\n      <td>26.88</td>\n    </tr>\n    <tr>\n      <th>815158</th>\n      <td>2023-06-15</td>\n      <td>1632.77</td>\n      <td>1640.95</td>\n      <td>0.00</td>\n      <td>386190.77</td>\n      <td>10331.90</td>\n      <td>386190.77</td>\n      <td>26.75</td>\n    </tr>\n    <tr>\n      <th>815591</th>\n      <td>2023-06-15</td>\n      <td>1636.04</td>\n      <td>1640.95</td>\n      <td>0.00</td>\n      <td>246004.94</td>\n      <td>6563.36</td>\n      <td>246004.94</td>\n      <td>26.68</td>\n    </tr>\n    <tr>\n      <th>815376</th>\n      <td>2023-06-15</td>\n      <td>1634.40</td>\n      <td>1642.59</td>\n      <td>0.00</td>\n      <td>419692.39</td>\n      <td>11129.98</td>\n      <td>419692.39</td>\n      <td>26.52</td>\n    </tr>\n    <tr>\n      <th>815159</th>\n      <td>2023-06-15</td>\n      <td>1632.77</td>\n      <td>1642.59</td>\n      <td>0.00</td>\n      <td>488514.60</td>\n      <td>12917.25</td>\n      <td>488514.60</td>\n      <td>26.44</td>\n    </tr>\n    <tr>\n      <th>815806</th>\n      <td>2023-06-15</td>\n      <td>1637.67</td>\n      <td>1640.95</td>\n      <td>0.00</td>\n      <td>173444.97</td>\n      <td>4580.11</td>\n      <td>173444.97</td>\n      <td>26.41</td>\n    </tr>\n    <tr>\n      <th>815592</th>\n      <td>2023-06-15</td>\n      <td>1636.04</td>\n      <td>1642.59</td>\n      <td>0.00</td>\n      <td>348328.76</td>\n      <td>9148.71</td>\n      <td>348328.76</td>\n      <td>26.26</td>\n    </tr>\n    <tr>\n      <th>814939</th>\n      <td>2023-06-15</td>\n      <td>1631.14</td>\n      <td>1639.31</td>\n      <td>0.00</td>\n      <td>354219.55</td>\n      <td>9293.52</td>\n      <td>354219.55</td>\n      <td>26.24</td>\n    </tr>\n    <tr>\n      <th>844749</th>\n      <td>2023-06-16</td>\n      <td>1665.75</td>\n      <td>1667.42</td>\n      <td>78.16</td>\n      <td>0.00</td>\n      <td>3412.32</td>\n      <td>130251.94</td>\n      <td>26.20</td>\n    </tr>\n    <tr>\n      <th>814940</th>\n      <td>2023-06-15</td>\n      <td>1631.14</td>\n      <td>1640.95</td>\n      <td>0.00</td>\n      <td>454957.80</td>\n      <td>11835.48</td>\n      <td>454957.80</td>\n      <td>26.01</td>\n    </tr>\n    <tr>\n      <th>815807</th>\n      <td>2023-06-15</td>\n      <td>1637.67</td>\n      <td>1642.59</td>\n      <td>0.00</td>\n      <td>275768.80</td>\n      <td>7165.45</td>\n      <td>275768.80</td>\n      <td>25.98</td>\n    </tr>\n  </tbody>\n</table>\n</div>"
     },
     "execution_count": 98,
     "metadata": {},
     "output_type": "execute_result"
    }
   ],
   "source": [
    "df[\"usd\"] = (df[\"interval_low\"] + df[\"interval_high\"]) / 2 * df[\"eth_amount\"] + df[\"usdc_amount\"]\n",
    "df[\"revenue_1k\"] = (df[\"daily_revenue\"] * 1000) / df[\"usd\"]\n",
    "df.sort_values(by=\"revenue_1k\", ascending=False).head(20)"
   ],
   "metadata": {
    "collapsed": false,
    "ExecuteTime": {
     "end_time": "2023-07-20T08:34:21.317194Z",
     "start_time": "2023-07-20T08:34:21.155030Z"
    }
   }
  },
  {
   "cell_type": "code",
   "execution_count": 99,
   "outputs": [],
   "source": [
    "df.to_csv(\"../../data/daily_interval_revenue.csv\", index=False)"
   ],
   "metadata": {
    "collapsed": false,
    "ExecuteTime": {
     "end_time": "2023-07-20T08:35:52.799785Z",
     "start_time": "2023-07-20T08:35:46.353892Z"
    }
   }
  },
  {
   "cell_type": "code",
   "execution_count": 100,
   "outputs": [
    {
     "data": {
      "text/plain": "           day    high     low  daily_revenue  interval_eth_amount  \\\n32  2023-06-15 1748.10 1620.06       65821.62              3608.71   \n\n    interval_usdc_amount  interval_usd  interval  revenue_1k  \n32            1497367.56    7574719.85    128.04        8.69  ",
      "text/html": "<div>\n<style scoped>\n    .dataframe tbody tr th:only-of-type {\n        vertical-align: middle;\n    }\n\n    .dataframe tbody tr th {\n        vertical-align: top;\n    }\n\n    .dataframe thead th {\n        text-align: right;\n    }\n</style>\n<table border=\"1\" class=\"dataframe\">\n  <thead>\n    <tr style=\"text-align: right;\">\n      <th></th>\n      <th>day</th>\n      <th>high</th>\n      <th>low</th>\n      <th>daily_revenue</th>\n      <th>interval_eth_amount</th>\n      <th>interval_usdc_amount</th>\n      <th>interval_usd</th>\n      <th>interval</th>\n      <th>revenue_1k</th>\n    </tr>\n  </thead>\n  <tbody>\n    <tr>\n      <th>32</th>\n      <td>2023-06-15</td>\n      <td>1748.10</td>\n      <td>1620.06</td>\n      <td>65821.62</td>\n      <td>3608.71</td>\n      <td>1497367.56</td>\n      <td>7574719.85</td>\n      <td>128.04</td>\n      <td>8.69</td>\n    </tr>\n  </tbody>\n</table>\n</div>"
     },
     "execution_count": 100,
     "metadata": {},
     "output_type": "execute_result"
    }
   ],
   "source": [
    "daily_df[daily_df[\"day\"] == \"2023-06-15\"]"
   ],
   "metadata": {
    "collapsed": false,
    "ExecuteTime": {
     "end_time": "2023-07-20T08:38:03.530863Z",
     "start_time": "2023-07-20T08:38:03.498859Z"
    }
   }
  },
  {
   "cell_type": "code",
   "execution_count": 101,
   "outputs": [
    {
     "data": {
      "text/plain": "                datetime       h       l  hourlyTotalRevenueUSD  \\\n768  2023-06-15 00:00:00 1744.10 1737.61                 742.35   \n769  2023-06-15 01:00:00 1745.70 1730.64                2326.59   \n770  2023-06-15 02:00:00 1748.10 1719.42               10614.72   \n771  2023-06-15 03:00:00 1740.70 1726.36                2893.33   \n772  2023-06-15 04:00:00 1729.70 1629.40               18810.39   \n773  2023-06-15 05:00:00 1656.90 1630.67                4632.51   \n774  2023-06-15 06:00:00 1656.30 1646.86                1532.24   \n775  2023-06-15 07:00:00 1654.20 1645.44                1372.92   \n776  2023-06-15 08:00:00 1656.70 1648.51                 984.91   \n777  2023-06-15 09:00:00 1656.70 1643.10                 871.83   \n778  2023-06-15 10:00:00 1655.00 1647.99                 904.74   \n779  2023-06-15 11:00:00 1653.90 1647.86                 772.94   \n780  2023-06-15 12:00:00 1653.80 1644.54                1621.37   \n781  2023-06-15 13:00:00 1651.60 1638.99                1863.18   \n782  2023-06-15 14:00:00 1649.10 1629.96                2455.60   \n783  2023-06-15 15:00:00 1643.20 1627.87                2404.38   \n784  2023-06-15 16:00:00 1645.60 1633.10                 709.55   \n785  2023-06-15 17:00:00 1641.40 1620.06                1413.71   \n786  2023-06-15 18:00:00 1642.20 1630.22                1025.62   \n787  2023-06-15 19:00:00 1645.40 1627.77                1796.59   \n788  2023-06-15 20:00:00 1645.00 1632.55                1698.57   \n789  2023-06-15 21:00:00 1651.90 1634.27                2035.14   \n790  2023-06-15 22:00:00 1649.50 1640.52                1143.08   \n791  2023-06-15 23:00:00 1646.90 1639.28                1195.38   \n\n     totalValueLockedUSD  interval  interval_eth_amount  interval_usdc_amount  \\\n768          48590842.87      6.49               265.68                  0.00   \n769          48634145.91     15.06               597.41                  0.00   \n770          48063501.82     28.68              1168.67                  0.00   \n771          47889302.14     14.34               653.99                  0.00   \n772          44905447.02    100.30              2876.74            1177120.50   \n773          45321933.48     26.23               311.16            1110765.54   \n774          44532878.12      9.44               311.16             274787.18   \n775          44629284.45      8.76               250.59             381488.35   \n776          43931560.89      8.19               311.16             162530.18   \n777          44159458.06     13.60               311.16             484979.82   \n778          44216319.01      7.01               250.59             162530.18   \n779          44246844.29      6.04               186.30             162530.18   \n780          44012198.50      9.26               186.30             381488.35   \n781          44414305.14     12.61               122.08             760748.62   \n782          44208502.57     19.14                 0.00            1061790.21   \n783          43878671.92     15.33                 0.00             861923.66   \n784          43769731.55     12.50                 0.00             698707.23   \n785          43602853.63     21.34                 0.00            1012387.74   \n786          43930280.39     11.98                 0.00             625785.72   \n787          44161566.51     17.63                 0.00             968624.82   \n788          44312749.25     12.45                 0.00             767474.26   \n789          44393346.60     17.63               122.08             973494.41   \n790          43469905.09      8.98                44.53             688041.89   \n791          43526079.09      7.62                 0.00             598218.44   \n\n           usd  revenue_1k         day  \n768  462513.32        1.61  2023-06-15  \n769 1038402.57        2.24  2023-06-15  \n770 2026196.25        5.24  2023-06-15  \n771 1133718.91        2.55  2023-06-15  \n772 6008743.28        3.13  2023-06-15  \n773 1622247.81        2.86  2023-06-15  \n774  788694.96        1.94  2023-06-15  \n775  794923.34        1.73  2023-06-15  \n776  676756.90        1.46  2023-06-15  \n777  998364.85        0.87  2023-06-15  \n778  576384.92        1.57  2023-06-15  \n779  470082.19        1.64  2023-06-15  \n780  688721.79        2.35  2023-06-15  \n781  961609.19        1.94  2023-06-15  \n782 1061790.21        2.31  2023-06-15  \n783  861923.66        2.79  2023-06-15  \n784  698707.23        1.02  2023-06-15  \n785 1012387.74        1.40  2023-06-15  \n786  625785.72        1.64  2023-06-15  \n787  968624.82        1.85  2023-06-15  \n788  767474.26        2.21  2023-06-15  \n789 1174085.19        1.73  2023-06-15  \n790  761286.29        1.50  2023-06-15  \n791  598218.44        2.00  2023-06-15  ",
      "text/html": "<div>\n<style scoped>\n    .dataframe tbody tr th:only-of-type {\n        vertical-align: middle;\n    }\n\n    .dataframe tbody tr th {\n        vertical-align: top;\n    }\n\n    .dataframe thead th {\n        text-align: right;\n    }\n</style>\n<table border=\"1\" class=\"dataframe\">\n  <thead>\n    <tr style=\"text-align: right;\">\n      <th></th>\n      <th>datetime</th>\n      <th>h</th>\n      <th>l</th>\n      <th>hourlyTotalRevenueUSD</th>\n      <th>totalValueLockedUSD</th>\n      <th>interval</th>\n      <th>interval_eth_amount</th>\n      <th>interval_usdc_amount</th>\n      <th>usd</th>\n      <th>revenue_1k</th>\n      <th>day</th>\n    </tr>\n  </thead>\n  <tbody>\n    <tr>\n      <th>768</th>\n      <td>2023-06-15 00:00:00</td>\n      <td>1744.10</td>\n      <td>1737.61</td>\n      <td>742.35</td>\n      <td>48590842.87</td>\n      <td>6.49</td>\n      <td>265.68</td>\n      <td>0.00</td>\n      <td>462513.32</td>\n      <td>1.61</td>\n      <td>2023-06-15</td>\n    </tr>\n    <tr>\n      <th>769</th>\n      <td>2023-06-15 01:00:00</td>\n      <td>1745.70</td>\n      <td>1730.64</td>\n      <td>2326.59</td>\n      <td>48634145.91</td>\n      <td>15.06</td>\n      <td>597.41</td>\n      <td>0.00</td>\n      <td>1038402.57</td>\n      <td>2.24</td>\n      <td>2023-06-15</td>\n    </tr>\n    <tr>\n      <th>770</th>\n      <td>2023-06-15 02:00:00</td>\n      <td>1748.10</td>\n      <td>1719.42</td>\n      <td>10614.72</td>\n      <td>48063501.82</td>\n      <td>28.68</td>\n      <td>1168.67</td>\n      <td>0.00</td>\n      <td>2026196.25</td>\n      <td>5.24</td>\n      <td>2023-06-15</td>\n    </tr>\n    <tr>\n      <th>771</th>\n      <td>2023-06-15 03:00:00</td>\n      <td>1740.70</td>\n      <td>1726.36</td>\n      <td>2893.33</td>\n      <td>47889302.14</td>\n      <td>14.34</td>\n      <td>653.99</td>\n      <td>0.00</td>\n      <td>1133718.91</td>\n      <td>2.55</td>\n      <td>2023-06-15</td>\n    </tr>\n    <tr>\n      <th>772</th>\n      <td>2023-06-15 04:00:00</td>\n      <td>1729.70</td>\n      <td>1629.40</td>\n      <td>18810.39</td>\n      <td>44905447.02</td>\n      <td>100.30</td>\n      <td>2876.74</td>\n      <td>1177120.50</td>\n      <td>6008743.28</td>\n      <td>3.13</td>\n      <td>2023-06-15</td>\n    </tr>\n    <tr>\n      <th>773</th>\n      <td>2023-06-15 05:00:00</td>\n      <td>1656.90</td>\n      <td>1630.67</td>\n      <td>4632.51</td>\n      <td>45321933.48</td>\n      <td>26.23</td>\n      <td>311.16</td>\n      <td>1110765.54</td>\n      <td>1622247.81</td>\n      <td>2.86</td>\n      <td>2023-06-15</td>\n    </tr>\n    <tr>\n      <th>774</th>\n      <td>2023-06-15 06:00:00</td>\n      <td>1656.30</td>\n      <td>1646.86</td>\n      <td>1532.24</td>\n      <td>44532878.12</td>\n      <td>9.44</td>\n      <td>311.16</td>\n      <td>274787.18</td>\n      <td>788694.96</td>\n      <td>1.94</td>\n      <td>2023-06-15</td>\n    </tr>\n    <tr>\n      <th>775</th>\n      <td>2023-06-15 07:00:00</td>\n      <td>1654.20</td>\n      <td>1645.44</td>\n      <td>1372.92</td>\n      <td>44629284.45</td>\n      <td>8.76</td>\n      <td>250.59</td>\n      <td>381488.35</td>\n      <td>794923.34</td>\n      <td>1.73</td>\n      <td>2023-06-15</td>\n    </tr>\n    <tr>\n      <th>776</th>\n      <td>2023-06-15 08:00:00</td>\n      <td>1656.70</td>\n      <td>1648.51</td>\n      <td>984.91</td>\n      <td>43931560.89</td>\n      <td>8.19</td>\n      <td>311.16</td>\n      <td>162530.18</td>\n      <td>676756.90</td>\n      <td>1.46</td>\n      <td>2023-06-15</td>\n    </tr>\n    <tr>\n      <th>777</th>\n      <td>2023-06-15 09:00:00</td>\n      <td>1656.70</td>\n      <td>1643.10</td>\n      <td>871.83</td>\n      <td>44159458.06</td>\n      <td>13.60</td>\n      <td>311.16</td>\n      <td>484979.82</td>\n      <td>998364.85</td>\n      <td>0.87</td>\n      <td>2023-06-15</td>\n    </tr>\n    <tr>\n      <th>778</th>\n      <td>2023-06-15 10:00:00</td>\n      <td>1655.00</td>\n      <td>1647.99</td>\n      <td>904.74</td>\n      <td>44216319.01</td>\n      <td>7.01</td>\n      <td>250.59</td>\n      <td>162530.18</td>\n      <td>576384.92</td>\n      <td>1.57</td>\n      <td>2023-06-15</td>\n    </tr>\n    <tr>\n      <th>779</th>\n      <td>2023-06-15 11:00:00</td>\n      <td>1653.90</td>\n      <td>1647.86</td>\n      <td>772.94</td>\n      <td>44246844.29</td>\n      <td>6.04</td>\n      <td>186.30</td>\n      <td>162530.18</td>\n      <td>470082.19</td>\n      <td>1.64</td>\n      <td>2023-06-15</td>\n    </tr>\n    <tr>\n      <th>780</th>\n      <td>2023-06-15 12:00:00</td>\n      <td>1653.80</td>\n      <td>1644.54</td>\n      <td>1621.37</td>\n      <td>44012198.50</td>\n      <td>9.26</td>\n      <td>186.30</td>\n      <td>381488.35</td>\n      <td>688721.79</td>\n      <td>2.35</td>\n      <td>2023-06-15</td>\n    </tr>\n    <tr>\n      <th>781</th>\n      <td>2023-06-15 13:00:00</td>\n      <td>1651.60</td>\n      <td>1638.99</td>\n      <td>1863.18</td>\n      <td>44414305.14</td>\n      <td>12.61</td>\n      <td>122.08</td>\n      <td>760748.62</td>\n      <td>961609.19</td>\n      <td>1.94</td>\n      <td>2023-06-15</td>\n    </tr>\n    <tr>\n      <th>782</th>\n      <td>2023-06-15 14:00:00</td>\n      <td>1649.10</td>\n      <td>1629.96</td>\n      <td>2455.60</td>\n      <td>44208502.57</td>\n      <td>19.14</td>\n      <td>0.00</td>\n      <td>1061790.21</td>\n      <td>1061790.21</td>\n      <td>2.31</td>\n      <td>2023-06-15</td>\n    </tr>\n    <tr>\n      <th>783</th>\n      <td>2023-06-15 15:00:00</td>\n      <td>1643.20</td>\n      <td>1627.87</td>\n      <td>2404.38</td>\n      <td>43878671.92</td>\n      <td>15.33</td>\n      <td>0.00</td>\n      <td>861923.66</td>\n      <td>861923.66</td>\n      <td>2.79</td>\n      <td>2023-06-15</td>\n    </tr>\n    <tr>\n      <th>784</th>\n      <td>2023-06-15 16:00:00</td>\n      <td>1645.60</td>\n      <td>1633.10</td>\n      <td>709.55</td>\n      <td>43769731.55</td>\n      <td>12.50</td>\n      <td>0.00</td>\n      <td>698707.23</td>\n      <td>698707.23</td>\n      <td>1.02</td>\n      <td>2023-06-15</td>\n    </tr>\n    <tr>\n      <th>785</th>\n      <td>2023-06-15 17:00:00</td>\n      <td>1641.40</td>\n      <td>1620.06</td>\n      <td>1413.71</td>\n      <td>43602853.63</td>\n      <td>21.34</td>\n      <td>0.00</td>\n      <td>1012387.74</td>\n      <td>1012387.74</td>\n      <td>1.40</td>\n      <td>2023-06-15</td>\n    </tr>\n    <tr>\n      <th>786</th>\n      <td>2023-06-15 18:00:00</td>\n      <td>1642.20</td>\n      <td>1630.22</td>\n      <td>1025.62</td>\n      <td>43930280.39</td>\n      <td>11.98</td>\n      <td>0.00</td>\n      <td>625785.72</td>\n      <td>625785.72</td>\n      <td>1.64</td>\n      <td>2023-06-15</td>\n    </tr>\n    <tr>\n      <th>787</th>\n      <td>2023-06-15 19:00:00</td>\n      <td>1645.40</td>\n      <td>1627.77</td>\n      <td>1796.59</td>\n      <td>44161566.51</td>\n      <td>17.63</td>\n      <td>0.00</td>\n      <td>968624.82</td>\n      <td>968624.82</td>\n      <td>1.85</td>\n      <td>2023-06-15</td>\n    </tr>\n    <tr>\n      <th>788</th>\n      <td>2023-06-15 20:00:00</td>\n      <td>1645.00</td>\n      <td>1632.55</td>\n      <td>1698.57</td>\n      <td>44312749.25</td>\n      <td>12.45</td>\n      <td>0.00</td>\n      <td>767474.26</td>\n      <td>767474.26</td>\n      <td>2.21</td>\n      <td>2023-06-15</td>\n    </tr>\n    <tr>\n      <th>789</th>\n      <td>2023-06-15 21:00:00</td>\n      <td>1651.90</td>\n      <td>1634.27</td>\n      <td>2035.14</td>\n      <td>44393346.60</td>\n      <td>17.63</td>\n      <td>122.08</td>\n      <td>973494.41</td>\n      <td>1174085.19</td>\n      <td>1.73</td>\n      <td>2023-06-15</td>\n    </tr>\n    <tr>\n      <th>790</th>\n      <td>2023-06-15 22:00:00</td>\n      <td>1649.50</td>\n      <td>1640.52</td>\n      <td>1143.08</td>\n      <td>43469905.09</td>\n      <td>8.98</td>\n      <td>44.53</td>\n      <td>688041.89</td>\n      <td>761286.29</td>\n      <td>1.50</td>\n      <td>2023-06-15</td>\n    </tr>\n    <tr>\n      <th>791</th>\n      <td>2023-06-15 23:00:00</td>\n      <td>1646.90</td>\n      <td>1639.28</td>\n      <td>1195.38</td>\n      <td>43526079.09</td>\n      <td>7.62</td>\n      <td>0.00</td>\n      <td>598218.44</td>\n      <td>598218.44</td>\n      <td>2.00</td>\n      <td>2023-06-15</td>\n    </tr>\n  </tbody>\n</table>\n</div>"
     },
     "execution_count": 101,
     "metadata": {},
     "output_type": "execute_result"
    }
   ],
   "source": [
    "hourly_df[(hourly_df[\"datetime\"] > \"2023-06-15\") & (hourly_df[\"datetime\"] < \"2023-06-16\")].head(50)"
   ],
   "metadata": {
    "collapsed": false,
    "ExecuteTime": {
     "end_time": "2023-07-20T08:40:43.484187Z",
     "start_time": "2023-07-20T08:40:43.457675Z"
    }
   }
  },
  {
   "cell_type": "code",
   "execution_count": 105,
   "outputs": [
    {
     "data": {
      "text/plain": "(25425, 3)"
     },
     "execution_count": 105,
     "metadata": {},
     "output_type": "execute_result"
    }
   ],
   "source": [
    "stats_df = df.groupby([\"interval_low\", \"interval_high\"]).agg({\"revenue_1k\": \"sum\"}).reset_index()\n",
    "stats_df.shape"
   ],
   "metadata": {
    "collapsed": false,
    "ExecuteTime": {
     "end_time": "2023-07-20T08:51:15.204418Z",
     "start_time": "2023-07-20T08:51:15.150284Z"
    }
   }
  },
  {
   "cell_type": "code",
   "execution_count": 115,
   "outputs": [
    {
     "data": {
      "text/plain": "       interval_low  interval_high  revenue_1k  interval\n22724       1887.53        1889.42      162.61      1.89\n22725       1887.53        1891.31      161.48      3.78\n22651       1885.65        1889.42      161.19      3.77\n22726       1887.53        1893.20      161.07      5.67\n22652       1885.65        1891.31      160.96      5.67\n22653       1885.65        1893.20      160.80      7.56\n22797       1889.42        1891.31      160.59      1.89\n22798       1889.42        1893.20      160.29      3.78\n22650       1885.65        1887.53      160.15      1.89\n22869       1891.31        1893.20      159.79      1.89\n21939       1868.75        1870.62      159.46      1.87\n22579       1883.76        1893.20      158.78      9.44\n22578       1883.76        1891.31      158.38      7.55\n22654       1885.65        1895.10      157.88      9.45\n22577       1883.76        1889.42      157.64      5.66\n22727       1887.53        1895.10      157.29      7.56\n22504       1881.88        1893.20      156.78     11.32\n22580       1883.76        1895.10      156.71     11.34\n22503       1881.88        1891.31      156.04      9.43\n22576       1883.76        1887.53      155.52      3.77",
      "text/html": "<div>\n<style scoped>\n    .dataframe tbody tr th:only-of-type {\n        vertical-align: middle;\n    }\n\n    .dataframe tbody tr th {\n        vertical-align: top;\n    }\n\n    .dataframe thead th {\n        text-align: right;\n    }\n</style>\n<table border=\"1\" class=\"dataframe\">\n  <thead>\n    <tr style=\"text-align: right;\">\n      <th></th>\n      <th>interval_low</th>\n      <th>interval_high</th>\n      <th>revenue_1k</th>\n      <th>interval</th>\n    </tr>\n  </thead>\n  <tbody>\n    <tr>\n      <th>22724</th>\n      <td>1887.53</td>\n      <td>1889.42</td>\n      <td>162.61</td>\n      <td>1.89</td>\n    </tr>\n    <tr>\n      <th>22725</th>\n      <td>1887.53</td>\n      <td>1891.31</td>\n      <td>161.48</td>\n      <td>3.78</td>\n    </tr>\n    <tr>\n      <th>22651</th>\n      <td>1885.65</td>\n      <td>1889.42</td>\n      <td>161.19</td>\n      <td>3.77</td>\n    </tr>\n    <tr>\n      <th>22726</th>\n      <td>1887.53</td>\n      <td>1893.20</td>\n      <td>161.07</td>\n      <td>5.67</td>\n    </tr>\n    <tr>\n      <th>22652</th>\n      <td>1885.65</td>\n      <td>1891.31</td>\n      <td>160.96</td>\n      <td>5.67</td>\n    </tr>\n    <tr>\n      <th>22653</th>\n      <td>1885.65</td>\n      <td>1893.20</td>\n      <td>160.80</td>\n      <td>7.56</td>\n    </tr>\n    <tr>\n      <th>22797</th>\n      <td>1889.42</td>\n      <td>1891.31</td>\n      <td>160.59</td>\n      <td>1.89</td>\n    </tr>\n    <tr>\n      <th>22798</th>\n      <td>1889.42</td>\n      <td>1893.20</td>\n      <td>160.29</td>\n      <td>3.78</td>\n    </tr>\n    <tr>\n      <th>22650</th>\n      <td>1885.65</td>\n      <td>1887.53</td>\n      <td>160.15</td>\n      <td>1.89</td>\n    </tr>\n    <tr>\n      <th>22869</th>\n      <td>1891.31</td>\n      <td>1893.20</td>\n      <td>159.79</td>\n      <td>1.89</td>\n    </tr>\n    <tr>\n      <th>21939</th>\n      <td>1868.75</td>\n      <td>1870.62</td>\n      <td>159.46</td>\n      <td>1.87</td>\n    </tr>\n    <tr>\n      <th>22579</th>\n      <td>1883.76</td>\n      <td>1893.20</td>\n      <td>158.78</td>\n      <td>9.44</td>\n    </tr>\n    <tr>\n      <th>22578</th>\n      <td>1883.76</td>\n      <td>1891.31</td>\n      <td>158.38</td>\n      <td>7.55</td>\n    </tr>\n    <tr>\n      <th>22654</th>\n      <td>1885.65</td>\n      <td>1895.10</td>\n      <td>157.88</td>\n      <td>9.45</td>\n    </tr>\n    <tr>\n      <th>22577</th>\n      <td>1883.76</td>\n      <td>1889.42</td>\n      <td>157.64</td>\n      <td>5.66</td>\n    </tr>\n    <tr>\n      <th>22727</th>\n      <td>1887.53</td>\n      <td>1895.10</td>\n      <td>157.29</td>\n      <td>7.56</td>\n    </tr>\n    <tr>\n      <th>22504</th>\n      <td>1881.88</td>\n      <td>1893.20</td>\n      <td>156.78</td>\n      <td>11.32</td>\n    </tr>\n    <tr>\n      <th>22580</th>\n      <td>1883.76</td>\n      <td>1895.10</td>\n      <td>156.71</td>\n      <td>11.34</td>\n    </tr>\n    <tr>\n      <th>22503</th>\n      <td>1881.88</td>\n      <td>1891.31</td>\n      <td>156.04</td>\n      <td>9.43</td>\n    </tr>\n    <tr>\n      <th>22576</th>\n      <td>1883.76</td>\n      <td>1887.53</td>\n      <td>155.52</td>\n      <td>3.77</td>\n    </tr>\n  </tbody>\n</table>\n</div>"
     },
     "execution_count": 115,
     "metadata": {},
     "output_type": "execute_result"
    }
   ],
   "source": [
    "stats_df[\"interval\"] = stats_df[\"interval_high\"] - stats_df[\"interval_low\"]\n",
    "stats_df.sort_values(by=\"revenue_1k\", ascending=False).head(20)"
   ],
   "metadata": {
    "collapsed": false,
    "ExecuteTime": {
     "end_time": "2023-07-20T09:11:24.638697Z",
     "start_time": "2023-07-20T09:11:24.625533Z"
    }
   }
  },
  {
   "cell_type": "code",
   "execution_count": 117,
   "outputs": [
    {
     "data": {
      "text/plain": "       interval_low  interval_high  revenue_1k  interval\n18923       1811.71        1912.23      132.30    100.52\n19037       1813.52        1914.14      132.30    100.62\n18924       1811.71        1914.14      132.27    102.43\n19038       1813.52        1916.06      132.22    102.53\n18925       1811.71        1916.06      132.19    104.35\n18809       1809.90        1912.23      132.03    102.33\n19039       1813.52        1917.97      132.02    104.45\n18926       1811.71        1917.97      132.01    106.26\n18810       1809.90        1914.14      132.01    104.24\n19150       1815.34        1916.06      131.98    100.72\n18811       1809.90        1916.06      131.94    106.16\n18808       1809.90        1910.32      131.87    100.42\n18694       1808.09        1912.23      131.85    104.14\n18695       1808.09        1914.14      131.84    106.05\n18696       1808.09        1916.06      131.78    107.96\n19151       1815.34        1917.97      131.78    102.64\n18812       1809.90        1917.97      131.77    108.07\n19040       1813.52        1919.89      131.76    106.37\n18927       1811.71        1919.89      131.76    108.18\n18693       1808.09        1910.32      131.69    102.23",
      "text/html": "<div>\n<style scoped>\n    .dataframe tbody tr th:only-of-type {\n        vertical-align: middle;\n    }\n\n    .dataframe tbody tr th {\n        vertical-align: top;\n    }\n\n    .dataframe thead th {\n        text-align: right;\n    }\n</style>\n<table border=\"1\" class=\"dataframe\">\n  <thead>\n    <tr style=\"text-align: right;\">\n      <th></th>\n      <th>interval_low</th>\n      <th>interval_high</th>\n      <th>revenue_1k</th>\n      <th>interval</th>\n    </tr>\n  </thead>\n  <tbody>\n    <tr>\n      <th>18923</th>\n      <td>1811.71</td>\n      <td>1912.23</td>\n      <td>132.30</td>\n      <td>100.52</td>\n    </tr>\n    <tr>\n      <th>19037</th>\n      <td>1813.52</td>\n      <td>1914.14</td>\n      <td>132.30</td>\n      <td>100.62</td>\n    </tr>\n    <tr>\n      <th>18924</th>\n      <td>1811.71</td>\n      <td>1914.14</td>\n      <td>132.27</td>\n      <td>102.43</td>\n    </tr>\n    <tr>\n      <th>19038</th>\n      <td>1813.52</td>\n      <td>1916.06</td>\n      <td>132.22</td>\n      <td>102.53</td>\n    </tr>\n    <tr>\n      <th>18925</th>\n      <td>1811.71</td>\n      <td>1916.06</td>\n      <td>132.19</td>\n      <td>104.35</td>\n    </tr>\n    <tr>\n      <th>18809</th>\n      <td>1809.90</td>\n      <td>1912.23</td>\n      <td>132.03</td>\n      <td>102.33</td>\n    </tr>\n    <tr>\n      <th>19039</th>\n      <td>1813.52</td>\n      <td>1917.97</td>\n      <td>132.02</td>\n      <td>104.45</td>\n    </tr>\n    <tr>\n      <th>18926</th>\n      <td>1811.71</td>\n      <td>1917.97</td>\n      <td>132.01</td>\n      <td>106.26</td>\n    </tr>\n    <tr>\n      <th>18810</th>\n      <td>1809.90</td>\n      <td>1914.14</td>\n      <td>132.01</td>\n      <td>104.24</td>\n    </tr>\n    <tr>\n      <th>19150</th>\n      <td>1815.34</td>\n      <td>1916.06</td>\n      <td>131.98</td>\n      <td>100.72</td>\n    </tr>\n    <tr>\n      <th>18811</th>\n      <td>1809.90</td>\n      <td>1916.06</td>\n      <td>131.94</td>\n      <td>106.16</td>\n    </tr>\n    <tr>\n      <th>18808</th>\n      <td>1809.90</td>\n      <td>1910.32</td>\n      <td>131.87</td>\n      <td>100.42</td>\n    </tr>\n    <tr>\n      <th>18694</th>\n      <td>1808.09</td>\n      <td>1912.23</td>\n      <td>131.85</td>\n      <td>104.14</td>\n    </tr>\n    <tr>\n      <th>18695</th>\n      <td>1808.09</td>\n      <td>1914.14</td>\n      <td>131.84</td>\n      <td>106.05</td>\n    </tr>\n    <tr>\n      <th>18696</th>\n      <td>1808.09</td>\n      <td>1916.06</td>\n      <td>131.78</td>\n      <td>107.96</td>\n    </tr>\n    <tr>\n      <th>19151</th>\n      <td>1815.34</td>\n      <td>1917.97</td>\n      <td>131.78</td>\n      <td>102.64</td>\n    </tr>\n    <tr>\n      <th>18812</th>\n      <td>1809.90</td>\n      <td>1917.97</td>\n      <td>131.77</td>\n      <td>108.07</td>\n    </tr>\n    <tr>\n      <th>19040</th>\n      <td>1813.52</td>\n      <td>1919.89</td>\n      <td>131.76</td>\n      <td>106.37</td>\n    </tr>\n    <tr>\n      <th>18927</th>\n      <td>1811.71</td>\n      <td>1919.89</td>\n      <td>131.76</td>\n      <td>108.18</td>\n    </tr>\n    <tr>\n      <th>18693</th>\n      <td>1808.09</td>\n      <td>1910.32</td>\n      <td>131.69</td>\n      <td>102.23</td>\n    </tr>\n  </tbody>\n</table>\n</div>"
     },
     "execution_count": 117,
     "metadata": {},
     "output_type": "execute_result"
    }
   ],
   "source": [
    "stats_df[stats_df[\"interval\"] > 100].sort_values(by=\"revenue_1k\", ascending=False).head(20)"
   ],
   "metadata": {
    "collapsed": false,
    "ExecuteTime": {
     "end_time": "2023-07-20T09:12:36.785031Z",
     "start_time": "2023-07-20T09:12:36.775555Z"
    }
   }
  },
  {
   "cell_type": "code",
   "execution_count": 120,
   "outputs": [
    {
     "data": {
      "text/plain": "       interval_low  interval_high  revenue_1k  interval\n23279       1900.79        2030.47       52.61    129.68",
      "text/html": "<div>\n<style scoped>\n    .dataframe tbody tr th:only-of-type {\n        vertical-align: middle;\n    }\n\n    .dataframe tbody tr th {\n        vertical-align: top;\n    }\n\n    .dataframe thead th {\n        text-align: right;\n    }\n</style>\n<table border=\"1\" class=\"dataframe\">\n  <thead>\n    <tr style=\"text-align: right;\">\n      <th></th>\n      <th>interval_low</th>\n      <th>interval_high</th>\n      <th>revenue_1k</th>\n      <th>interval</th>\n    </tr>\n  </thead>\n  <tbody>\n    <tr>\n      <th>23279</th>\n      <td>1900.79</td>\n      <td>2030.47</td>\n      <td>52.61</td>\n      <td>129.68</td>\n    </tr>\n  </tbody>\n</table>\n</div>"
     },
     "execution_count": 120,
     "metadata": {},
     "output_type": "execute_result"
    }
   ],
   "source": [
    "stats_df[(stats_df[\"interval_low\"] > 1900) & (stats_df[\"interval\"] > 128)].sort_values(by=\"revenue_1k\", ascending=False).head(20)"
   ],
   "metadata": {
    "collapsed": false,
    "ExecuteTime": {
     "end_time": "2023-07-20T09:27:49.011159Z",
     "start_time": "2023-07-20T09:27:49.007243Z"
    }
   }
  },
  {
   "cell_type": "code",
   "execution_count": 108,
   "outputs": [
    {
     "data": {
      "text/plain": "                day  interval_low  interval_high  eth_amount  usdc_amount  \\\n22724    2023-05-14       1887.53        1889.42      115.18         0.00   \n48149    2023-05-15       1887.53        1889.42      117.66         0.00   \n73574    2023-05-16       1887.53        1889.42      118.36         0.00   \n98999    2023-05-17       1887.53        1889.42      120.27         0.00   \n124424   2023-05-18       1887.53        1889.42      122.39         0.00   \n...             ...           ...            ...         ...          ...   \n1573649  2023-07-14       1887.53        1889.42        0.00    226450.01   \n1599074  2023-07-15       1887.53        1889.42        0.00    176813.05   \n1624499  2023-07-16       1887.53        1889.42        0.00    185509.14   \n1649924  2023-07-17       1887.53        1889.42        0.00    180157.34   \n1675349  2023-07-18       1887.53        1889.42        0.00    183110.05   \n\n         daily_revenue       usd  revenue_1k  \n22724             0.00 217516.97        0.00  \n48149             0.00 222192.27        0.00  \n73574             0.00 223520.62        0.00  \n98999             0.00 227130.45        0.00  \n124424            0.00 231136.47        0.00  \n...                ...       ...         ...  \n1573649           0.00 226450.01        0.00  \n1599074           0.00 176813.05        0.00  \n1624499           0.00 185509.14        0.00  \n1649924           0.00 180157.34        0.00  \n1675349        1448.64 183110.05        7.91  \n\n[66 rows x 8 columns]",
      "text/html": "<div>\n<style scoped>\n    .dataframe tbody tr th:only-of-type {\n        vertical-align: middle;\n    }\n\n    .dataframe tbody tr th {\n        vertical-align: top;\n    }\n\n    .dataframe thead th {\n        text-align: right;\n    }\n</style>\n<table border=\"1\" class=\"dataframe\">\n  <thead>\n    <tr style=\"text-align: right;\">\n      <th></th>\n      <th>day</th>\n      <th>interval_low</th>\n      <th>interval_high</th>\n      <th>eth_amount</th>\n      <th>usdc_amount</th>\n      <th>daily_revenue</th>\n      <th>usd</th>\n      <th>revenue_1k</th>\n    </tr>\n  </thead>\n  <tbody>\n    <tr>\n      <th>22724</th>\n      <td>2023-05-14</td>\n      <td>1887.53</td>\n      <td>1889.42</td>\n      <td>115.18</td>\n      <td>0.00</td>\n      <td>0.00</td>\n      <td>217516.97</td>\n      <td>0.00</td>\n    </tr>\n    <tr>\n      <th>48149</th>\n      <td>2023-05-15</td>\n      <td>1887.53</td>\n      <td>1889.42</td>\n      <td>117.66</td>\n      <td>0.00</td>\n      <td>0.00</td>\n      <td>222192.27</td>\n      <td>0.00</td>\n    </tr>\n    <tr>\n      <th>73574</th>\n      <td>2023-05-16</td>\n      <td>1887.53</td>\n      <td>1889.42</td>\n      <td>118.36</td>\n      <td>0.00</td>\n      <td>0.00</td>\n      <td>223520.62</td>\n      <td>0.00</td>\n    </tr>\n    <tr>\n      <th>98999</th>\n      <td>2023-05-17</td>\n      <td>1887.53</td>\n      <td>1889.42</td>\n      <td>120.27</td>\n      <td>0.00</td>\n      <td>0.00</td>\n      <td>227130.45</td>\n      <td>0.00</td>\n    </tr>\n    <tr>\n      <th>124424</th>\n      <td>2023-05-18</td>\n      <td>1887.53</td>\n      <td>1889.42</td>\n      <td>122.39</td>\n      <td>0.00</td>\n      <td>0.00</td>\n      <td>231136.47</td>\n      <td>0.00</td>\n    </tr>\n    <tr>\n      <th>...</th>\n      <td>...</td>\n      <td>...</td>\n      <td>...</td>\n      <td>...</td>\n      <td>...</td>\n      <td>...</td>\n      <td>...</td>\n      <td>...</td>\n    </tr>\n    <tr>\n      <th>1573649</th>\n      <td>2023-07-14</td>\n      <td>1887.53</td>\n      <td>1889.42</td>\n      <td>0.00</td>\n      <td>226450.01</td>\n      <td>0.00</td>\n      <td>226450.01</td>\n      <td>0.00</td>\n    </tr>\n    <tr>\n      <th>1599074</th>\n      <td>2023-07-15</td>\n      <td>1887.53</td>\n      <td>1889.42</td>\n      <td>0.00</td>\n      <td>176813.05</td>\n      <td>0.00</td>\n      <td>176813.05</td>\n      <td>0.00</td>\n    </tr>\n    <tr>\n      <th>1624499</th>\n      <td>2023-07-16</td>\n      <td>1887.53</td>\n      <td>1889.42</td>\n      <td>0.00</td>\n      <td>185509.14</td>\n      <td>0.00</td>\n      <td>185509.14</td>\n      <td>0.00</td>\n    </tr>\n    <tr>\n      <th>1649924</th>\n      <td>2023-07-17</td>\n      <td>1887.53</td>\n      <td>1889.42</td>\n      <td>0.00</td>\n      <td>180157.34</td>\n      <td>0.00</td>\n      <td>180157.34</td>\n      <td>0.00</td>\n    </tr>\n    <tr>\n      <th>1675349</th>\n      <td>2023-07-18</td>\n      <td>1887.53</td>\n      <td>1889.42</td>\n      <td>0.00</td>\n      <td>183110.05</td>\n      <td>1448.64</td>\n      <td>183110.05</td>\n      <td>7.91</td>\n    </tr>\n  </tbody>\n</table>\n<p>66 rows × 8 columns</p>\n</div>"
     },
     "execution_count": 108,
     "metadata": {},
     "output_type": "execute_result"
    }
   ],
   "source": [
    "df[(df[\"interval_low\"] == 1887.53212146) & (df['interval_high'] == 1889.42050320)].head(100)"
   ],
   "metadata": {
    "collapsed": false,
    "ExecuteTime": {
     "end_time": "2023-07-20T08:58:30.613442Z",
     "start_time": "2023-07-20T08:58:30.582358Z"
    }
   }
  },
  {
   "cell_type": "code",
   "execution_count": 111,
   "outputs": [
    {
     "data": {
      "text/plain": "           day    high     low  daily_revenue  interval_eth_amount  \\\n39  2023-06-22 1934.00 1846.47       91072.22              2277.39   \n40  2023-06-23 1924.40 1861.37       47554.91              2928.17   \n41  2023-06-24 1938.92 1869.03       51057.17              2711.52   \n42  2023-06-25 1930.90 1865.64       42618.03              3267.36   \n43  2023-06-26 1909.80 1865.70       54809.50               792.89   \n44  2023-06-27 1897.60 1836.25       60349.82              2585.01   \n45  2023-06-28 1913.80 1845.08       53237.33              1495.82   \n46  2023-06-29 1880.40 1816.00       40179.61              3236.71   \n47  2023-06-30 1915.50 1823.20       88771.77              4121.55   \n\n    interval_usdc_amount  interval_usd  interval  revenue_1k  \n39            5402234.13    9707037.55     87.53        9.38  \n40            1603326.07    7146012.49     63.03        6.65  \n41            2672318.17    7834982.56     69.89        6.52  \n42            1470396.07    7672722.41     65.26        5.55  \n43            4100633.08    5597410.99     44.10        9.79  \n44            2473762.65    7299780.02     61.35        8.27  \n45            5732579.06    8543877.74     68.72        6.23  \n46            1492500.00    7474595.55     64.40        5.38  \n47            3554288.74   11258905.24     92.30        7.88  ",
      "text/html": "<div>\n<style scoped>\n    .dataframe tbody tr th:only-of-type {\n        vertical-align: middle;\n    }\n\n    .dataframe tbody tr th {\n        vertical-align: top;\n    }\n\n    .dataframe thead th {\n        text-align: right;\n    }\n</style>\n<table border=\"1\" class=\"dataframe\">\n  <thead>\n    <tr style=\"text-align: right;\">\n      <th></th>\n      <th>day</th>\n      <th>high</th>\n      <th>low</th>\n      <th>daily_revenue</th>\n      <th>interval_eth_amount</th>\n      <th>interval_usdc_amount</th>\n      <th>interval_usd</th>\n      <th>interval</th>\n      <th>revenue_1k</th>\n    </tr>\n  </thead>\n  <tbody>\n    <tr>\n      <th>39</th>\n      <td>2023-06-22</td>\n      <td>1934.00</td>\n      <td>1846.47</td>\n      <td>91072.22</td>\n      <td>2277.39</td>\n      <td>5402234.13</td>\n      <td>9707037.55</td>\n      <td>87.53</td>\n      <td>9.38</td>\n    </tr>\n    <tr>\n      <th>40</th>\n      <td>2023-06-23</td>\n      <td>1924.40</td>\n      <td>1861.37</td>\n      <td>47554.91</td>\n      <td>2928.17</td>\n      <td>1603326.07</td>\n      <td>7146012.49</td>\n      <td>63.03</td>\n      <td>6.65</td>\n    </tr>\n    <tr>\n      <th>41</th>\n      <td>2023-06-24</td>\n      <td>1938.92</td>\n      <td>1869.03</td>\n      <td>51057.17</td>\n      <td>2711.52</td>\n      <td>2672318.17</td>\n      <td>7834982.56</td>\n      <td>69.89</td>\n      <td>6.52</td>\n    </tr>\n    <tr>\n      <th>42</th>\n      <td>2023-06-25</td>\n      <td>1930.90</td>\n      <td>1865.64</td>\n      <td>42618.03</td>\n      <td>3267.36</td>\n      <td>1470396.07</td>\n      <td>7672722.41</td>\n      <td>65.26</td>\n      <td>5.55</td>\n    </tr>\n    <tr>\n      <th>43</th>\n      <td>2023-06-26</td>\n      <td>1909.80</td>\n      <td>1865.70</td>\n      <td>54809.50</td>\n      <td>792.89</td>\n      <td>4100633.08</td>\n      <td>5597410.99</td>\n      <td>44.10</td>\n      <td>9.79</td>\n    </tr>\n    <tr>\n      <th>44</th>\n      <td>2023-06-27</td>\n      <td>1897.60</td>\n      <td>1836.25</td>\n      <td>60349.82</td>\n      <td>2585.01</td>\n      <td>2473762.65</td>\n      <td>7299780.02</td>\n      <td>61.35</td>\n      <td>8.27</td>\n    </tr>\n    <tr>\n      <th>45</th>\n      <td>2023-06-28</td>\n      <td>1913.80</td>\n      <td>1845.08</td>\n      <td>53237.33</td>\n      <td>1495.82</td>\n      <td>5732579.06</td>\n      <td>8543877.74</td>\n      <td>68.72</td>\n      <td>6.23</td>\n    </tr>\n    <tr>\n      <th>46</th>\n      <td>2023-06-29</td>\n      <td>1880.40</td>\n      <td>1816.00</td>\n      <td>40179.61</td>\n      <td>3236.71</td>\n      <td>1492500.00</td>\n      <td>7474595.55</td>\n      <td>64.40</td>\n      <td>5.38</td>\n    </tr>\n    <tr>\n      <th>47</th>\n      <td>2023-06-30</td>\n      <td>1915.50</td>\n      <td>1823.20</td>\n      <td>88771.77</td>\n      <td>4121.55</td>\n      <td>3554288.74</td>\n      <td>11258905.24</td>\n      <td>92.30</td>\n      <td>7.88</td>\n    </tr>\n  </tbody>\n</table>\n</div>"
     },
     "execution_count": 111,
     "metadata": {},
     "output_type": "execute_result"
    }
   ],
   "source": [
    "daily_df[(daily_df[\"day\"] >= \"2023-06-22\") & (daily_df[\"day\"] <= \"2023-06-30\")]"
   ],
   "metadata": {
    "collapsed": false,
    "ExecuteTime": {
     "end_time": "2023-07-20T09:05:26.684648Z",
     "start_time": "2023-07-20T09:05:26.681635Z"
    }
   }
  },
  {
   "cell_type": "code",
   "execution_count": 112,
   "outputs": [
    {
     "data": {
      "text/plain": "                 datetime       h       l  hourlyTotalRevenueUSD  \\\n1032  2023-06-26 00:00:00 1895.10 1884.61                2010.58   \n1033  2023-06-26 01:00:00 1895.00 1884.62                1493.72   \n1034  2023-06-26 02:00:00 1896.00 1880.31                2879.75   \n1035  2023-06-26 03:00:00 1896.60 1885.00                1707.67   \n1036  2023-06-26 04:00:00 1903.40 1888.36                1891.93   \n1037  2023-06-26 05:00:00 1898.40 1892.81                 658.40   \n1038  2023-06-26 06:00:00 1907.70 1891.91                1293.83   \n1039  2023-06-26 07:00:00 1903.60 1897.23                 699.17   \n1040  2023-06-26 08:00:00 1905.70 1886.99                3298.99   \n1041  2023-06-26 09:00:00 1889.80 1865.70                6775.10   \n1042  2023-06-26 10:00:00 1879.69 1871.10                1639.97   \n1043  2023-06-26 11:00:00 1881.70 1873.60                 635.00   \n1044  2023-06-26 12:00:00 1881.60 1875.94                 576.03   \n1045  2023-06-26 13:00:00 1880.70 1870.91                1065.95   \n1046  2023-06-26 14:00:00 1898.60 1875.06                2427.40   \n1047  2023-06-26 15:00:00 1905.00 1886.24                2814.10   \n1048  2023-06-26 16:00:00 1894.20 1885.75                1200.11   \n1049  2023-06-26 17:00:00 1894.80 1881.84                2485.42   \n1050  2023-06-26 18:00:00 1885.10 1872.73                2122.60   \n1051  2023-06-26 19:00:00 1882.60 1875.80                1089.23   \n1052  2023-06-26 20:00:00 1885.00 1875.07                 965.59   \n1053  2023-06-26 21:00:00 1907.80 1881.83                4166.65   \n1054  2023-06-26 22:00:00 1909.80 1871.10                8091.09   \n1055  2023-06-26 23:00:00 1894.80 1880.57                2821.21   \n\n      totalValueLockedUSD  interval  interval_eth_amount  \\\n1032          43085369.61     10.49                 0.00   \n1033          43086441.88     10.38                 0.00   \n1034          43105745.72     15.69                 0.00   \n1035          43106511.26     11.60                 0.00   \n1036          43056339.58     15.04               447.87   \n1037          42780059.29      5.59                79.57   \n1038          42834691.23     15.79               678.16   \n1039          42852104.74      6.37               447.87   \n1040          42767311.87     18.71               563.01   \n1041          42841525.67     24.10                 0.00   \n1042          42825788.99      8.59                 0.00   \n1043          42852123.94      8.10                 0.00   \n1044          42821324.70      5.66                 0.00   \n1045          42821659.90      9.79                 0.00   \n1046          43003296.55     23.54                79.57   \n1047          42997355.09     18.76               563.01   \n1048          43008597.94      8.45                 0.00   \n1049          42924908.75     12.96                 0.00   \n1050          42935484.34     12.37                 0.00   \n1051          42975429.21      6.80                 0.00   \n1052          43015929.35      9.93                 0.00   \n1053          43226738.78     25.97               678.16   \n1054          43079128.99     38.70               792.89   \n1055          43264475.48     14.23                 0.00   \n\n      interval_usdc_amount        usd  revenue_1k         day  \n1032            1779203.63 1779203.63        1.13  2023-06-26  \n1033            1531079.44 1531079.44        0.98  2023-06-26  \n1034            2292361.08 2292361.08        1.26  2023-06-26  \n1035            1779203.63 1779203.63        0.96  2023-06-26  \n1036            1361432.94 2210549.25        0.86  2023-06-26  \n1037             840492.67  991320.84        0.66  2023-06-26  \n1038             840492.67 2128862.52        0.61  2023-06-26  \n1039             100671.00  951818.42        0.73  2023-06-26  \n1040            1620723.35 2688377.72        1.23  2023-06-26  \n1041            3260140.41 3260140.41        2.08  2023-06-26  \n1042            1114135.40 1114135.40        1.47  2023-06-26  \n1043            1165375.00 1165375.00        0.54  2023-06-26  \n1044             942544.21  942544.21        0.61  2023-06-26  \n1045            1370651.56 1370651.56        0.78  2023-06-26  \n1046            3079060.14 3229190.11        0.75  2023-06-26  \n1047            1620723.35 2687969.54        1.05  2023-06-26  \n1048            1271928.16 1271928.16        0.94  2023-06-26  \n1049            2044236.89 2044236.89        1.22  2023-06-26  \n1050            1681167.57 1681167.57        1.26  2023-06-26  \n1051            1199185.51 1199185.51        0.91  2023-06-26  \n1052            1458336.79 1458336.79        0.66  2023-06-26  \n1053            2393032.08 3678017.93        1.13  2023-06-26  \n1054            3507167.48 5006086.19        1.62  2023-06-26  \n1055            2044236.89 2044236.89        1.38  2023-06-26  ",
      "text/html": "<div>\n<style scoped>\n    .dataframe tbody tr th:only-of-type {\n        vertical-align: middle;\n    }\n\n    .dataframe tbody tr th {\n        vertical-align: top;\n    }\n\n    .dataframe thead th {\n        text-align: right;\n    }\n</style>\n<table border=\"1\" class=\"dataframe\">\n  <thead>\n    <tr style=\"text-align: right;\">\n      <th></th>\n      <th>datetime</th>\n      <th>h</th>\n      <th>l</th>\n      <th>hourlyTotalRevenueUSD</th>\n      <th>totalValueLockedUSD</th>\n      <th>interval</th>\n      <th>interval_eth_amount</th>\n      <th>interval_usdc_amount</th>\n      <th>usd</th>\n      <th>revenue_1k</th>\n      <th>day</th>\n    </tr>\n  </thead>\n  <tbody>\n    <tr>\n      <th>1032</th>\n      <td>2023-06-26 00:00:00</td>\n      <td>1895.10</td>\n      <td>1884.61</td>\n      <td>2010.58</td>\n      <td>43085369.61</td>\n      <td>10.49</td>\n      <td>0.00</td>\n      <td>1779203.63</td>\n      <td>1779203.63</td>\n      <td>1.13</td>\n      <td>2023-06-26</td>\n    </tr>\n    <tr>\n      <th>1033</th>\n      <td>2023-06-26 01:00:00</td>\n      <td>1895.00</td>\n      <td>1884.62</td>\n      <td>1493.72</td>\n      <td>43086441.88</td>\n      <td>10.38</td>\n      <td>0.00</td>\n      <td>1531079.44</td>\n      <td>1531079.44</td>\n      <td>0.98</td>\n      <td>2023-06-26</td>\n    </tr>\n    <tr>\n      <th>1034</th>\n      <td>2023-06-26 02:00:00</td>\n      <td>1896.00</td>\n      <td>1880.31</td>\n      <td>2879.75</td>\n      <td>43105745.72</td>\n      <td>15.69</td>\n      <td>0.00</td>\n      <td>2292361.08</td>\n      <td>2292361.08</td>\n      <td>1.26</td>\n      <td>2023-06-26</td>\n    </tr>\n    <tr>\n      <th>1035</th>\n      <td>2023-06-26 03:00:00</td>\n      <td>1896.60</td>\n      <td>1885.00</td>\n      <td>1707.67</td>\n      <td>43106511.26</td>\n      <td>11.60</td>\n      <td>0.00</td>\n      <td>1779203.63</td>\n      <td>1779203.63</td>\n      <td>0.96</td>\n      <td>2023-06-26</td>\n    </tr>\n    <tr>\n      <th>1036</th>\n      <td>2023-06-26 04:00:00</td>\n      <td>1903.40</td>\n      <td>1888.36</td>\n      <td>1891.93</td>\n      <td>43056339.58</td>\n      <td>15.04</td>\n      <td>447.87</td>\n      <td>1361432.94</td>\n      <td>2210549.25</td>\n      <td>0.86</td>\n      <td>2023-06-26</td>\n    </tr>\n    <tr>\n      <th>1037</th>\n      <td>2023-06-26 05:00:00</td>\n      <td>1898.40</td>\n      <td>1892.81</td>\n      <td>658.40</td>\n      <td>42780059.29</td>\n      <td>5.59</td>\n      <td>79.57</td>\n      <td>840492.67</td>\n      <td>991320.84</td>\n      <td>0.66</td>\n      <td>2023-06-26</td>\n    </tr>\n    <tr>\n      <th>1038</th>\n      <td>2023-06-26 06:00:00</td>\n      <td>1907.70</td>\n      <td>1891.91</td>\n      <td>1293.83</td>\n      <td>42834691.23</td>\n      <td>15.79</td>\n      <td>678.16</td>\n      <td>840492.67</td>\n      <td>2128862.52</td>\n      <td>0.61</td>\n      <td>2023-06-26</td>\n    </tr>\n    <tr>\n      <th>1039</th>\n      <td>2023-06-26 07:00:00</td>\n      <td>1903.60</td>\n      <td>1897.23</td>\n      <td>699.17</td>\n      <td>42852104.74</td>\n      <td>6.37</td>\n      <td>447.87</td>\n      <td>100671.00</td>\n      <td>951818.42</td>\n      <td>0.73</td>\n      <td>2023-06-26</td>\n    </tr>\n    <tr>\n      <th>1040</th>\n      <td>2023-06-26 08:00:00</td>\n      <td>1905.70</td>\n      <td>1886.99</td>\n      <td>3298.99</td>\n      <td>42767311.87</td>\n      <td>18.71</td>\n      <td>563.01</td>\n      <td>1620723.35</td>\n      <td>2688377.72</td>\n      <td>1.23</td>\n      <td>2023-06-26</td>\n    </tr>\n    <tr>\n      <th>1041</th>\n      <td>2023-06-26 09:00:00</td>\n      <td>1889.80</td>\n      <td>1865.70</td>\n      <td>6775.10</td>\n      <td>42841525.67</td>\n      <td>24.10</td>\n      <td>0.00</td>\n      <td>3260140.41</td>\n      <td>3260140.41</td>\n      <td>2.08</td>\n      <td>2023-06-26</td>\n    </tr>\n    <tr>\n      <th>1042</th>\n      <td>2023-06-26 10:00:00</td>\n      <td>1879.69</td>\n      <td>1871.10</td>\n      <td>1639.97</td>\n      <td>42825788.99</td>\n      <td>8.59</td>\n      <td>0.00</td>\n      <td>1114135.40</td>\n      <td>1114135.40</td>\n      <td>1.47</td>\n      <td>2023-06-26</td>\n    </tr>\n    <tr>\n      <th>1043</th>\n      <td>2023-06-26 11:00:00</td>\n      <td>1881.70</td>\n      <td>1873.60</td>\n      <td>635.00</td>\n      <td>42852123.94</td>\n      <td>8.10</td>\n      <td>0.00</td>\n      <td>1165375.00</td>\n      <td>1165375.00</td>\n      <td>0.54</td>\n      <td>2023-06-26</td>\n    </tr>\n    <tr>\n      <th>1044</th>\n      <td>2023-06-26 12:00:00</td>\n      <td>1881.60</td>\n      <td>1875.94</td>\n      <td>576.03</td>\n      <td>42821324.70</td>\n      <td>5.66</td>\n      <td>0.00</td>\n      <td>942544.21</td>\n      <td>942544.21</td>\n      <td>0.61</td>\n      <td>2023-06-26</td>\n    </tr>\n    <tr>\n      <th>1045</th>\n      <td>2023-06-26 13:00:00</td>\n      <td>1880.70</td>\n      <td>1870.91</td>\n      <td>1065.95</td>\n      <td>42821659.90</td>\n      <td>9.79</td>\n      <td>0.00</td>\n      <td>1370651.56</td>\n      <td>1370651.56</td>\n      <td>0.78</td>\n      <td>2023-06-26</td>\n    </tr>\n    <tr>\n      <th>1046</th>\n      <td>2023-06-26 14:00:00</td>\n      <td>1898.60</td>\n      <td>1875.06</td>\n      <td>2427.40</td>\n      <td>43003296.55</td>\n      <td>23.54</td>\n      <td>79.57</td>\n      <td>3079060.14</td>\n      <td>3229190.11</td>\n      <td>0.75</td>\n      <td>2023-06-26</td>\n    </tr>\n    <tr>\n      <th>1047</th>\n      <td>2023-06-26 15:00:00</td>\n      <td>1905.00</td>\n      <td>1886.24</td>\n      <td>2814.10</td>\n      <td>42997355.09</td>\n      <td>18.76</td>\n      <td>563.01</td>\n      <td>1620723.35</td>\n      <td>2687969.54</td>\n      <td>1.05</td>\n      <td>2023-06-26</td>\n    </tr>\n    <tr>\n      <th>1048</th>\n      <td>2023-06-26 16:00:00</td>\n      <td>1894.20</td>\n      <td>1885.75</td>\n      <td>1200.11</td>\n      <td>43008597.94</td>\n      <td>8.45</td>\n      <td>0.00</td>\n      <td>1271928.16</td>\n      <td>1271928.16</td>\n      <td>0.94</td>\n      <td>2023-06-26</td>\n    </tr>\n    <tr>\n      <th>1049</th>\n      <td>2023-06-26 17:00:00</td>\n      <td>1894.80</td>\n      <td>1881.84</td>\n      <td>2485.42</td>\n      <td>42924908.75</td>\n      <td>12.96</td>\n      <td>0.00</td>\n      <td>2044236.89</td>\n      <td>2044236.89</td>\n      <td>1.22</td>\n      <td>2023-06-26</td>\n    </tr>\n    <tr>\n      <th>1050</th>\n      <td>2023-06-26 18:00:00</td>\n      <td>1885.10</td>\n      <td>1872.73</td>\n      <td>2122.60</td>\n      <td>42935484.34</td>\n      <td>12.37</td>\n      <td>0.00</td>\n      <td>1681167.57</td>\n      <td>1681167.57</td>\n      <td>1.26</td>\n      <td>2023-06-26</td>\n    </tr>\n    <tr>\n      <th>1051</th>\n      <td>2023-06-26 19:00:00</td>\n      <td>1882.60</td>\n      <td>1875.80</td>\n      <td>1089.23</td>\n      <td>42975429.21</td>\n      <td>6.80</td>\n      <td>0.00</td>\n      <td>1199185.51</td>\n      <td>1199185.51</td>\n      <td>0.91</td>\n      <td>2023-06-26</td>\n    </tr>\n    <tr>\n      <th>1052</th>\n      <td>2023-06-26 20:00:00</td>\n      <td>1885.00</td>\n      <td>1875.07</td>\n      <td>965.59</td>\n      <td>43015929.35</td>\n      <td>9.93</td>\n      <td>0.00</td>\n      <td>1458336.79</td>\n      <td>1458336.79</td>\n      <td>0.66</td>\n      <td>2023-06-26</td>\n    </tr>\n    <tr>\n      <th>1053</th>\n      <td>2023-06-26 21:00:00</td>\n      <td>1907.80</td>\n      <td>1881.83</td>\n      <td>4166.65</td>\n      <td>43226738.78</td>\n      <td>25.97</td>\n      <td>678.16</td>\n      <td>2393032.08</td>\n      <td>3678017.93</td>\n      <td>1.13</td>\n      <td>2023-06-26</td>\n    </tr>\n    <tr>\n      <th>1054</th>\n      <td>2023-06-26 22:00:00</td>\n      <td>1909.80</td>\n      <td>1871.10</td>\n      <td>8091.09</td>\n      <td>43079128.99</td>\n      <td>38.70</td>\n      <td>792.89</td>\n      <td>3507167.48</td>\n      <td>5006086.19</td>\n      <td>1.62</td>\n      <td>2023-06-26</td>\n    </tr>\n    <tr>\n      <th>1055</th>\n      <td>2023-06-26 23:00:00</td>\n      <td>1894.80</td>\n      <td>1880.57</td>\n      <td>2821.21</td>\n      <td>43264475.48</td>\n      <td>14.23</td>\n      <td>0.00</td>\n      <td>2044236.89</td>\n      <td>2044236.89</td>\n      <td>1.38</td>\n      <td>2023-06-26</td>\n    </tr>\n  </tbody>\n</table>\n</div>"
     },
     "execution_count": 112,
     "metadata": {},
     "output_type": "execute_result"
    }
   ],
   "source": [
    "hourly_df[(hourly_df[\"datetime\"] > \"2023-06-26\") & (hourly_df[\"datetime\"] < \"2023-06-27\")].head(50)"
   ],
   "metadata": {
    "collapsed": false,
    "ExecuteTime": {
     "end_time": "2023-07-20T09:07:07.968754Z",
     "start_time": "2023-07-20T09:07:07.962701Z"
    }
   }
  },
  {
   "cell_type": "code",
   "execution_count": 3,
   "outputs": [
    {
     "data": {
      "text/plain": "   interval_low  interval_high  revenue  revenue_days  avg_revenue_rate  \\\n0   1887.530000    1889.420000      163            25          0.002464   \n1   1885.650000    1889.420000      161            25          0.002442   \n2   1885.650000    1891.310000      161            26          0.002439   \n3   1885.650000    1893.200000      161            26          0.002436   \n4   1887.530000    1891.310000      161            26          0.002447   \n\n   std_revenue_rate  interval  sharp_ratio  revenue_rate  \n0          0.004070  1.890000     0.580000     89.929688  \n1          0.003998  3.770000     0.590000     89.144490  \n2          0.003980  5.670000     0.590000     89.015448  \n3          0.003975  7.560000     0.590000     88.925854  \n4          0.004035  3.780000     0.580000     89.303600  ",
      "text/html": "<div>\n<style scoped>\n    .dataframe tbody tr th:only-of-type {\n        vertical-align: middle;\n    }\n\n    .dataframe tbody tr th {\n        vertical-align: top;\n    }\n\n    .dataframe thead th {\n        text-align: right;\n    }\n</style>\n<table border=\"1\" class=\"dataframe\">\n  <thead>\n    <tr style=\"text-align: right;\">\n      <th></th>\n      <th>interval_low</th>\n      <th>interval_high</th>\n      <th>revenue</th>\n      <th>revenue_days</th>\n      <th>avg_revenue_rate</th>\n      <th>std_revenue_rate</th>\n      <th>interval</th>\n      <th>sharp_ratio</th>\n      <th>revenue_rate</th>\n    </tr>\n  </thead>\n  <tbody>\n    <tr>\n      <th>0</th>\n      <td>1887.530000</td>\n      <td>1889.420000</td>\n      <td>163</td>\n      <td>25</td>\n      <td>0.002464</td>\n      <td>0.004070</td>\n      <td>1.890000</td>\n      <td>0.580000</td>\n      <td>89.929688</td>\n    </tr>\n    <tr>\n      <th>1</th>\n      <td>1885.650000</td>\n      <td>1889.420000</td>\n      <td>161</td>\n      <td>25</td>\n      <td>0.002442</td>\n      <td>0.003998</td>\n      <td>3.770000</td>\n      <td>0.590000</td>\n      <td>89.144490</td>\n    </tr>\n    <tr>\n      <th>2</th>\n      <td>1885.650000</td>\n      <td>1891.310000</td>\n      <td>161</td>\n      <td>26</td>\n      <td>0.002439</td>\n      <td>0.003980</td>\n      <td>5.670000</td>\n      <td>0.590000</td>\n      <td>89.015448</td>\n    </tr>\n    <tr>\n      <th>3</th>\n      <td>1885.650000</td>\n      <td>1893.200000</td>\n      <td>161</td>\n      <td>26</td>\n      <td>0.002436</td>\n      <td>0.003975</td>\n      <td>7.560000</td>\n      <td>0.590000</td>\n      <td>88.925854</td>\n    </tr>\n    <tr>\n      <th>4</th>\n      <td>1887.530000</td>\n      <td>1891.310000</td>\n      <td>161</td>\n      <td>26</td>\n      <td>0.002447</td>\n      <td>0.004035</td>\n      <td>3.780000</td>\n      <td>0.580000</td>\n      <td>89.303600</td>\n    </tr>\n  </tbody>\n</table>\n</div>"
     },
     "execution_count": 3,
     "metadata": {},
     "output_type": "execute_result"
    }
   ],
   "source": [
    "# calculate sharp ratio using mysql, and calculate cdf\n",
    "import pandas as pd\n",
    "\n",
    "from utils.config import BASE_PATH\n",
    "\n",
    "pd.set_option('display.float_format', lambda x: '%.6f' % x)\n",
    "\n",
    "stats_df = pd.read_csv(BASE_PATH + \"/data/mysql/arb_mysql_stats_0721.csv\")\n",
    "stats_df.head()"
   ],
   "metadata": {
    "collapsed": false,
    "ExecuteTime": {
     "end_time": "2023-07-30T11:38:07.649003Z",
     "start_time": "2023-07-30T11:38:07.624604Z"
    }
   }
  },
  {
   "cell_type": "code",
   "execution_count": 5,
   "outputs": [
    {
     "data": {
      "text/plain": "      interval_low  interval_high  revenue  revenue_days  avg_revenue_rate  \\\n7459   1790.100000    2012.280000      101            56          0.001535   \n\n      std_revenue_rate   interval  sharp_ratio  revenue_rate  \n7459          0.001005 222.170000     1.430000     56.040348  ",
      "text/html": "<div>\n<style scoped>\n    .dataframe tbody tr th:only-of-type {\n        vertical-align: middle;\n    }\n\n    .dataframe tbody tr th {\n        vertical-align: top;\n    }\n\n    .dataframe thead th {\n        text-align: right;\n    }\n</style>\n<table border=\"1\" class=\"dataframe\">\n  <thead>\n    <tr style=\"text-align: right;\">\n      <th></th>\n      <th>interval_low</th>\n      <th>interval_high</th>\n      <th>revenue</th>\n      <th>revenue_days</th>\n      <th>avg_revenue_rate</th>\n      <th>std_revenue_rate</th>\n      <th>interval</th>\n      <th>sharp_ratio</th>\n      <th>revenue_rate</th>\n    </tr>\n  </thead>\n  <tbody>\n    <tr>\n      <th>7459</th>\n      <td>1790.100000</td>\n      <td>2012.280000</td>\n      <td>101</td>\n      <td>56</td>\n      <td>0.001535</td>\n      <td>0.001005</td>\n      <td>222.170000</td>\n      <td>1.430000</td>\n      <td>56.040348</td>\n    </tr>\n  </tbody>\n</table>\n</div>"
     },
     "execution_count": 5,
     "metadata": {},
     "output_type": "execute_result"
    }
   ],
   "source": [
    "stats_df[(stats_df[\"interval_low\"] > 1790) & (stats_df[\"interval_low\"] < 1791) & (stats_df[\"interval_high\"] > 2012) & (stats_df[\"interval_high\"] < 2013)]"
   ],
   "metadata": {
    "collapsed": false,
    "ExecuteTime": {
     "end_time": "2023-07-30T11:40:19.247190Z",
     "start_time": "2023-07-30T11:40:19.231972Z"
    }
   }
  },
  {
   "cell_type": "code",
   "execution_count": 14,
   "outputs": [
    {
     "name": "stdout",
     "output_type": "stream",
     "text": [
      "The probability of increasing less than 50% in 365 days is  0.0008469289812057163\n",
      "0.560275 0.019200498040415515\n"
     ]
    }
   ],
   "source": [
    "import scipy.stats as stats\n",
    "\n",
    "avg_year = 365 * 0.001535\n",
    "sigma_year = (365 ** 0.5) * 0.001005\n",
    "print('The probability of increasing less than 50% in 365 days is ', stats.norm.cdf(0.5, avg_year, sigma_year))\n",
    "print(avg_year, sigma_year)\n",
    "# print(stats.norm(avg_year, sigma_year).cdf(0.005))\n",
    "# print('The probability of increasing less than 50% in 365 days is ', stats.norm(avg_year, sigma_year).cdf(0.5))"
   ],
   "metadata": {
    "collapsed": false,
    "ExecuteTime": {
     "end_time": "2023-07-31T03:28:55.176413Z",
     "start_time": "2023-07-31T03:28:55.173007Z"
    }
   }
  },
  {
   "cell_type": "code",
   "execution_count": 139,
   "outputs": [
    {
     "name": "stdout",
     "output_type": "stream",
     "text": [
      "0.811382429092051\n",
      "0.6856939208333734\n"
     ]
    }
   ],
   "source": [
    "import scipy.stats as stats\n",
    "\n",
    "def CDF(x, mean, std):\n",
    "    \"\"\"\n",
    "    Calculates the cumulative distribution function (CDF) of a value `x` with\n",
    "    specified mean and standard deviation.\n",
    "\n",
    "    Args:\n",
    "      x: The value to calculate the CDF for.\n",
    "      mean: The mean of the distribution.\n",
    "      std: The standard deviation of the distribution.\n",
    "\n",
    "    Returns:\n",
    "      The CDF of `x`.\n",
    "    \"\"\"\n",
    "\n",
    "    cdf = stats.norm(mean, std).cdf(x)\n",
    "    return cdf\n",
    "\n",
    "if __name__ == \"__main__\":\n",
    "    mean = 0.0021955703695615133\n",
    "    std = 0.0009351137040227781\n",
    "    x = 50 / 36500\n",
    "    cdf = CDF(x, mean, std)\n",
    "    print(1 - cdf)\n",
    "\n",
    "    mean = 0.002307072727630536\n",
    "    std = 0.00193766011756278\n",
    "    cdf = CDF(x, mean, std)\n",
    "    print(1 - cdf)"
   ],
   "metadata": {
    "collapsed": false,
    "ExecuteTime": {
     "end_time": "2023-07-21T08:32:46.185001Z",
     "start_time": "2023-07-21T08:32:46.181402Z"
    }
   }
  },
  {
   "cell_type": "code",
   "execution_count": 134,
   "outputs": [
    {
     "data": {
      "text/plain": "   interval_low  interval_high  revenue  revenue_days  avg_revenue_rate  \\\n0   1887.530000    1889.420000      163            25          0.002464   \n1   1885.650000    1889.420000      161            25          0.002442   \n2   1885.650000    1891.310000      161            26          0.002439   \n3   1885.650000    1893.200000      161            26          0.002436   \n4   1887.530000    1891.310000      161            26          0.002447   \n\n   std_revenue_rate  interval  sharp_ratio  revenue_rate      cdf  \n0          0.004070  1.890000     0.580000     89.929688 0.605947  \n1          0.003998  3.770000     0.590000     89.144490 0.605739  \n2          0.003980  5.670000     0.590000     89.015448 0.605873  \n3          0.003975  7.560000     0.590000     88.925854 0.605773  \n4          0.004035  3.780000     0.580000     89.303600 0.605204  ",
      "text/html": "<div>\n<style scoped>\n    .dataframe tbody tr th:only-of-type {\n        vertical-align: middle;\n    }\n\n    .dataframe tbody tr th {\n        vertical-align: top;\n    }\n\n    .dataframe thead th {\n        text-align: right;\n    }\n</style>\n<table border=\"1\" class=\"dataframe\">\n  <thead>\n    <tr style=\"text-align: right;\">\n      <th></th>\n      <th>interval_low</th>\n      <th>interval_high</th>\n      <th>revenue</th>\n      <th>revenue_days</th>\n      <th>avg_revenue_rate</th>\n      <th>std_revenue_rate</th>\n      <th>interval</th>\n      <th>sharp_ratio</th>\n      <th>revenue_rate</th>\n      <th>cdf</th>\n    </tr>\n  </thead>\n  <tbody>\n    <tr>\n      <th>0</th>\n      <td>1887.530000</td>\n      <td>1889.420000</td>\n      <td>163</td>\n      <td>25</td>\n      <td>0.002464</td>\n      <td>0.004070</td>\n      <td>1.890000</td>\n      <td>0.580000</td>\n      <td>89.929688</td>\n      <td>0.605947</td>\n    </tr>\n    <tr>\n      <th>1</th>\n      <td>1885.650000</td>\n      <td>1889.420000</td>\n      <td>161</td>\n      <td>25</td>\n      <td>0.002442</td>\n      <td>0.003998</td>\n      <td>3.770000</td>\n      <td>0.590000</td>\n      <td>89.144490</td>\n      <td>0.605739</td>\n    </tr>\n    <tr>\n      <th>2</th>\n      <td>1885.650000</td>\n      <td>1891.310000</td>\n      <td>161</td>\n      <td>26</td>\n      <td>0.002439</td>\n      <td>0.003980</td>\n      <td>5.670000</td>\n      <td>0.590000</td>\n      <td>89.015448</td>\n      <td>0.605873</td>\n    </tr>\n    <tr>\n      <th>3</th>\n      <td>1885.650000</td>\n      <td>1893.200000</td>\n      <td>161</td>\n      <td>26</td>\n      <td>0.002436</td>\n      <td>0.003975</td>\n      <td>7.560000</td>\n      <td>0.590000</td>\n      <td>88.925854</td>\n      <td>0.605773</td>\n    </tr>\n    <tr>\n      <th>4</th>\n      <td>1887.530000</td>\n      <td>1891.310000</td>\n      <td>161</td>\n      <td>26</td>\n      <td>0.002447</td>\n      <td>0.004035</td>\n      <td>3.780000</td>\n      <td>0.580000</td>\n      <td>89.303600</td>\n      <td>0.605204</td>\n    </tr>\n  </tbody>\n</table>\n</div>"
     },
     "execution_count": 134,
     "metadata": {},
     "output_type": "execute_result"
    }
   ],
   "source": [
    "stats_df[\"cdf\"] = 1 - stats_df.apply(lambda x: CDF(50/36500, x[\"avg_revenue_rate\"], x[\"std_revenue_rate\"]), axis=1)\n",
    "stats_df.head()"
   ],
   "metadata": {
    "collapsed": false,
    "ExecuteTime": {
     "end_time": "2023-07-21T08:15:50.223814Z",
     "start_time": "2023-07-21T08:15:42.027131Z"
    }
   }
  },
  {
   "cell_type": "code",
   "execution_count": 135,
   "outputs": [
    {
     "data": {
      "text/plain": "      interval_low  interval_high  revenue  revenue_days  avg_revenue_rate  \\\n1132   1802.680000    1923.740000      130            54          0.001964   \n1131   1802.680000    1921.810000      130            54          0.001970   \n1136   1804.480000    1923.740000      130            54          0.001971   \n1233   1800.870000    1923.740000      129            54          0.001956   \n1135   1804.480000    1921.810000      130            54          0.001977   \n...            ...            ...      ...           ...               ...   \n1640   1802.680000    1937.250000      126            55          0.001906   \n1154   1809.900000    1925.660000      130            54          0.001973   \n890    1808.090000    1916.060000      132            54          0.001997   \n932    1802.680000    1914.140000      131            53          0.001980   \n1706   1793.690000    1933.380000      125            55          0.001892   \n\n      std_revenue_rate   interval  sharp_ratio  revenue_rate      cdf  \n1132          0.001504 121.060000     1.240000     71.686662 0.653638  \n1131          0.001519 119.140000     1.230000     71.889568 0.653543  \n1136          0.001523 119.260000     1.230000     71.945197 0.653509  \n1233          0.001486 122.860000     1.250000     71.400266 0.653455  \n1135          0.001538 117.330000     1.220000     72.156920 0.653452  \n...                ...        ...          ...           ...      ...  \n1640          0.001392 134.570000     1.300000     69.551440 0.649828  \n1154          0.001567 115.760000     1.200000     72.015516 0.649821  \n890           0.001629 107.960000     1.160000     72.878358 0.649818  \n932           0.001585 111.470000     1.190000     72.261102 0.649815  \n1706          0.001357 139.690000     1.320000     69.056312 0.649746  \n\n[100 rows x 10 columns]",
      "text/html": "<div>\n<style scoped>\n    .dataframe tbody tr th:only-of-type {\n        vertical-align: middle;\n    }\n\n    .dataframe tbody tr th {\n        vertical-align: top;\n    }\n\n    .dataframe thead th {\n        text-align: right;\n    }\n</style>\n<table border=\"1\" class=\"dataframe\">\n  <thead>\n    <tr style=\"text-align: right;\">\n      <th></th>\n      <th>interval_low</th>\n      <th>interval_high</th>\n      <th>revenue</th>\n      <th>revenue_days</th>\n      <th>avg_revenue_rate</th>\n      <th>std_revenue_rate</th>\n      <th>interval</th>\n      <th>sharp_ratio</th>\n      <th>revenue_rate</th>\n      <th>cdf</th>\n    </tr>\n  </thead>\n  <tbody>\n    <tr>\n      <th>1132</th>\n      <td>1802.680000</td>\n      <td>1923.740000</td>\n      <td>130</td>\n      <td>54</td>\n      <td>0.001964</td>\n      <td>0.001504</td>\n      <td>121.060000</td>\n      <td>1.240000</td>\n      <td>71.686662</td>\n      <td>0.653638</td>\n    </tr>\n    <tr>\n      <th>1131</th>\n      <td>1802.680000</td>\n      <td>1921.810000</td>\n      <td>130</td>\n      <td>54</td>\n      <td>0.001970</td>\n      <td>0.001519</td>\n      <td>119.140000</td>\n      <td>1.230000</td>\n      <td>71.889568</td>\n      <td>0.653543</td>\n    </tr>\n    <tr>\n      <th>1136</th>\n      <td>1804.480000</td>\n      <td>1923.740000</td>\n      <td>130</td>\n      <td>54</td>\n      <td>0.001971</td>\n      <td>0.001523</td>\n      <td>119.260000</td>\n      <td>1.230000</td>\n      <td>71.945197</td>\n      <td>0.653509</td>\n    </tr>\n    <tr>\n      <th>1233</th>\n      <td>1800.870000</td>\n      <td>1923.740000</td>\n      <td>129</td>\n      <td>54</td>\n      <td>0.001956</td>\n      <td>0.001486</td>\n      <td>122.860000</td>\n      <td>1.250000</td>\n      <td>71.400266</td>\n      <td>0.653455</td>\n    </tr>\n    <tr>\n      <th>1135</th>\n      <td>1804.480000</td>\n      <td>1921.810000</td>\n      <td>130</td>\n      <td>54</td>\n      <td>0.001977</td>\n      <td>0.001538</td>\n      <td>117.330000</td>\n      <td>1.220000</td>\n      <td>72.156920</td>\n      <td>0.653452</td>\n    </tr>\n    <tr>\n      <th>...</th>\n      <td>...</td>\n      <td>...</td>\n      <td>...</td>\n      <td>...</td>\n      <td>...</td>\n      <td>...</td>\n      <td>...</td>\n      <td>...</td>\n      <td>...</td>\n      <td>...</td>\n    </tr>\n    <tr>\n      <th>1640</th>\n      <td>1802.680000</td>\n      <td>1937.250000</td>\n      <td>126</td>\n      <td>55</td>\n      <td>0.001906</td>\n      <td>0.001392</td>\n      <td>134.570000</td>\n      <td>1.300000</td>\n      <td>69.551440</td>\n      <td>0.649828</td>\n    </tr>\n    <tr>\n      <th>1154</th>\n      <td>1809.900000</td>\n      <td>1925.660000</td>\n      <td>130</td>\n      <td>54</td>\n      <td>0.001973</td>\n      <td>0.001567</td>\n      <td>115.760000</td>\n      <td>1.200000</td>\n      <td>72.015516</td>\n      <td>0.649821</td>\n    </tr>\n    <tr>\n      <th>890</th>\n      <td>1808.090000</td>\n      <td>1916.060000</td>\n      <td>132</td>\n      <td>54</td>\n      <td>0.001997</td>\n      <td>0.001629</td>\n      <td>107.960000</td>\n      <td>1.160000</td>\n      <td>72.878358</td>\n      <td>0.649818</td>\n    </tr>\n    <tr>\n      <th>932</th>\n      <td>1802.680000</td>\n      <td>1914.140000</td>\n      <td>131</td>\n      <td>53</td>\n      <td>0.001980</td>\n      <td>0.001585</td>\n      <td>111.470000</td>\n      <td>1.190000</td>\n      <td>72.261102</td>\n      <td>0.649815</td>\n    </tr>\n    <tr>\n      <th>1706</th>\n      <td>1793.690000</td>\n      <td>1933.380000</td>\n      <td>125</td>\n      <td>55</td>\n      <td>0.001892</td>\n      <td>0.001357</td>\n      <td>139.690000</td>\n      <td>1.320000</td>\n      <td>69.056312</td>\n      <td>0.649746</td>\n    </tr>\n  </tbody>\n</table>\n<p>100 rows × 10 columns</p>\n</div>"
     },
     "execution_count": 135,
     "metadata": {},
     "output_type": "execute_result"
    }
   ],
   "source": [
    "stats_df.sort_values(by=\"cdf\", ascending=False).head(100)"
   ],
   "metadata": {
    "collapsed": false,
    "ExecuteTime": {
     "end_time": "2023-07-21T08:15:53.743087Z",
     "start_time": "2023-07-21T08:15:53.726932Z"
    }
   }
  },
  {
   "cell_type": "code",
   "execution_count": 137,
   "outputs": [
    {
     "data": {
      "text/plain": "      interval_low  interval_high  revenue  revenue_days  avg_revenue_rate  \\\n1389   1795.480000    1906.500000      128            53          0.001934   \n1390   1795.480000    1908.410000      128            53          0.001937   \n1391   1795.480000    1910.320000      128            53          0.001941   \n1392   1795.480000    1912.230000      128            53          0.001944   \n1393   1795.480000    1914.140000      128            53          0.001945   \n1394   1795.480000    1916.060000      128            54          0.001946   \n1395   1795.480000    1917.970000      128            54          0.001945   \n1396   1795.480000    1919.890000      128            54          0.001943   \n1397   1795.480000    1921.810000      128            54          0.001938   \n1398   1795.480000    1923.740000      128            54          0.001934   \n1476   1795.480000    1925.660000      127            54          0.001928   \n1477   1795.480000    1927.590000      127            54          0.001921   \n1628   1795.480000    1929.520000      126            54          0.001914   \n1629   1795.480000    1931.450000      126            54          0.001906   \n1709   1795.480000    1933.380000      125            55          0.001899   \n1710   1795.480000    1935.310000      125            55          0.001891   \n1860   1795.480000    1937.250000      124            55          0.001882   \n1861   1795.480000    1939.190000      124            55          0.001872   \n1935   1795.480000    1941.130000      123            55          0.001861   \n2091   1795.480000    1943.070000      122            55          0.001849   \n2175   1795.480000    1945.010000      121            55          0.001837   \n2333   1795.480000    1946.960000      120            56          0.001824   \n2334   1795.480000    1948.910000      120            56          0.001813   \n2431   1795.480000    1950.860000      119            56          0.001803   \n2602   1795.480000    1952.810000      118            56          0.001794   \n2603   1795.480000    1954.760000      118            56          0.001786   \n2688   1795.480000    1956.720000      117            56          0.001779   \n2689   1795.480000    1958.680000      117            56          0.001773   \n2690   1795.480000    1960.630000      117            56          0.001766   \n2872   1795.480000    1962.600000      116            56          0.001759   \n2873   1795.480000    1964.560000      116            56          0.001751   \n3088   1795.480000    1966.530000      115            56          0.001743   \n3168   1795.480000    1968.490000      114            56          0.001734   \n3169   1795.480000    1970.460000      114            56          0.001723   \n3454   1795.480000    1972.430000      113            56          0.001713   \n3629   1795.480000    1974.410000      112            56          0.001703   \n3630   1795.480000    1976.380000      112            56          0.001692   \n3998   1795.480000    1978.360000      111            56          0.001681   \n4337   1795.480000    1980.340000      110            56          0.001670   \n4338   1795.480000    1982.320000      110            56          0.001660   \n4545   1795.480000    1984.300000      109            56          0.001650   \n4878   1795.480000    1986.290000      108            56          0.001641   \n4879   1795.480000    1988.280000      108            56          0.001632   \n5223   1795.480000    1990.260000      107            56          0.001623   \n5224   1795.480000    1992.260000      107            56          0.001615   \n5489   1795.480000    1994.250000      106            56          0.001607   \n5490   1795.480000    1996.240000      106            56          0.001600   \n5903   1795.480000    1998.240000      105            56          0.001593   \n5904   1795.480000    2000.240000      105            56          0.001584   \n6199   1795.480000    2002.240000      104            56          0.001578   \n6200   1795.480000    2004.240000      104            56          0.001571   \n6549   1795.480000    2006.250000      103            56          0.001565   \n\n      std_revenue_rate   interval  sharp_ratio  revenue_rate      cdf  \n1389          0.001574 111.020000     1.160000     70.578905 0.639903  \n1390          0.001561 112.930000     1.180000     70.712359 0.641900  \n1391          0.001548 114.840000     1.190000     70.833974 0.643849  \n1392          0.001535 116.750000     1.200000     70.962517 0.645821  \n1393          0.001520 118.660000     1.210000     71.006088 0.647481  \n1394          0.001504 120.580000     1.230000     71.021450 0.649072  \n1395          0.001487 122.490000     1.240000     70.983595 0.650446  \n1396          0.001471 124.410000     1.250000     70.910394 0.651499  \n1397          0.001457 126.330000     1.260000     70.752847 0.651805  \n1398          0.001443 128.260000     1.270000     70.582026 0.652028  \n1476          0.001429 130.180000     1.280000     70.374069 0.651927  \n1477          0.001416 132.110000     1.290000     70.130277 0.651567  \n1628          0.001401 134.040000     1.290000     69.853421 0.651076  \n1629          0.001385 135.970000     1.300000     69.559806 0.650612  \n1709          0.001368 137.900000     1.310000     69.304901 0.650435  \n1710          0.001352 139.830000     1.320000     69.014674 0.649964  \n1860          0.001338 141.770000     1.330000     68.682383 0.649002  \n1861          0.001324 143.710000     1.340000     68.328593 0.647708  \n1935          0.001312 145.650000     1.340000     67.922723 0.645886  \n2091          0.001300 147.590000     1.350000     67.506476 0.643878  \n2175          0.001289 149.530000     1.350000     67.039640 0.641426  \n2333          0.001278 151.480000     1.350000     66.589473 0.638939  \n2334          0.001267 153.430000     1.350000     66.180172 0.636791  \n2431          0.001255 155.380000     1.360000     65.803727 0.634970  \n2602          0.001242 157.330000     1.360000     65.495469 0.633748  \n2603          0.001229 159.280000     1.370000     65.194585 0.632602  \n2688          0.001216 161.240000     1.380000     64.945428 0.631872  \n2689          0.001204 163.190000     1.390000     64.713628 0.631115  \n2690          0.001193 165.150000     1.400000     64.455193 0.630003  \n2872          0.001185 167.120000     1.400000     64.189008 0.628596  \n2873          0.001177 169.080000     1.400000     63.901554 0.626871  \n3088          0.001170 171.040000     1.400000     63.608348 0.625023  \n3168          0.001163 173.010000     1.410000     63.287183 0.622886  \n3169          0.001156 174.980000     1.400000     62.906783 0.620206  \n3454          0.001148 176.950000     1.400000     62.531321 0.617507  \n3629          0.001141 178.930000     1.400000     62.141979 0.614687  \n3630          0.001134 180.900000     1.400000     61.752618 0.611810  \n3998          0.001126 182.880000     1.400000     61.346078 0.608781  \n4337          0.001117 184.860000     1.410000     60.943501 0.605815  \n4338          0.001108 186.840000     1.410000     60.575533 0.603101  \n4545          0.001100 188.820000     1.410000     60.223545 0.600481  \n4878          0.001092 190.810000     1.410000     59.884224 0.597930  \n4879          0.001084 192.790000     1.410000     59.552709 0.595384  \n5223          0.001076 194.780000     1.410000     59.242558 0.592987  \n5224          0.001069 196.780000     1.420000     58.941826 0.590602  \n5489          0.001063 198.770000     1.420000     58.657678 0.588322  \n5490          0.001057 200.760000     1.420000     58.397157 0.586187  \n5903          0.001051 202.760000     1.420000     58.137389 0.583991  \n5904          0.001045 204.760000     1.420000     57.830299 0.581314  \n6199          0.001041 206.760000     1.420000     57.591339 0.579195  \n6200          0.001037 208.760000     1.420000     57.351464 0.577021  \n6549          0.001033 210.770000     1.420000     57.108105 0.574777  ",
      "text/html": "<div>\n<style scoped>\n    .dataframe tbody tr th:only-of-type {\n        vertical-align: middle;\n    }\n\n    .dataframe tbody tr th {\n        vertical-align: top;\n    }\n\n    .dataframe thead th {\n        text-align: right;\n    }\n</style>\n<table border=\"1\" class=\"dataframe\">\n  <thead>\n    <tr style=\"text-align: right;\">\n      <th></th>\n      <th>interval_low</th>\n      <th>interval_high</th>\n      <th>revenue</th>\n      <th>revenue_days</th>\n      <th>avg_revenue_rate</th>\n      <th>std_revenue_rate</th>\n      <th>interval</th>\n      <th>sharp_ratio</th>\n      <th>revenue_rate</th>\n      <th>cdf</th>\n    </tr>\n  </thead>\n  <tbody>\n    <tr>\n      <th>1389</th>\n      <td>1795.480000</td>\n      <td>1906.500000</td>\n      <td>128</td>\n      <td>53</td>\n      <td>0.001934</td>\n      <td>0.001574</td>\n      <td>111.020000</td>\n      <td>1.160000</td>\n      <td>70.578905</td>\n      <td>0.639903</td>\n    </tr>\n    <tr>\n      <th>1390</th>\n      <td>1795.480000</td>\n      <td>1908.410000</td>\n      <td>128</td>\n      <td>53</td>\n      <td>0.001937</td>\n      <td>0.001561</td>\n      <td>112.930000</td>\n      <td>1.180000</td>\n      <td>70.712359</td>\n      <td>0.641900</td>\n    </tr>\n    <tr>\n      <th>1391</th>\n      <td>1795.480000</td>\n      <td>1910.320000</td>\n      <td>128</td>\n      <td>53</td>\n      <td>0.001941</td>\n      <td>0.001548</td>\n      <td>114.840000</td>\n      <td>1.190000</td>\n      <td>70.833974</td>\n      <td>0.643849</td>\n    </tr>\n    <tr>\n      <th>1392</th>\n      <td>1795.480000</td>\n      <td>1912.230000</td>\n      <td>128</td>\n      <td>53</td>\n      <td>0.001944</td>\n      <td>0.001535</td>\n      <td>116.750000</td>\n      <td>1.200000</td>\n      <td>70.962517</td>\n      <td>0.645821</td>\n    </tr>\n    <tr>\n      <th>1393</th>\n      <td>1795.480000</td>\n      <td>1914.140000</td>\n      <td>128</td>\n      <td>53</td>\n      <td>0.001945</td>\n      <td>0.001520</td>\n      <td>118.660000</td>\n      <td>1.210000</td>\n      <td>71.006088</td>\n      <td>0.647481</td>\n    </tr>\n    <tr>\n      <th>1394</th>\n      <td>1795.480000</td>\n      <td>1916.060000</td>\n      <td>128</td>\n      <td>54</td>\n      <td>0.001946</td>\n      <td>0.001504</td>\n      <td>120.580000</td>\n      <td>1.230000</td>\n      <td>71.021450</td>\n      <td>0.649072</td>\n    </tr>\n    <tr>\n      <th>1395</th>\n      <td>1795.480000</td>\n      <td>1917.970000</td>\n      <td>128</td>\n      <td>54</td>\n      <td>0.001945</td>\n      <td>0.001487</td>\n      <td>122.490000</td>\n      <td>1.240000</td>\n      <td>70.983595</td>\n      <td>0.650446</td>\n    </tr>\n    <tr>\n      <th>1396</th>\n      <td>1795.480000</td>\n      <td>1919.890000</td>\n      <td>128</td>\n      <td>54</td>\n      <td>0.001943</td>\n      <td>0.001471</td>\n      <td>124.410000</td>\n      <td>1.250000</td>\n      <td>70.910394</td>\n      <td>0.651499</td>\n    </tr>\n    <tr>\n      <th>1397</th>\n      <td>1795.480000</td>\n      <td>1921.810000</td>\n      <td>128</td>\n      <td>54</td>\n      <td>0.001938</td>\n      <td>0.001457</td>\n      <td>126.330000</td>\n      <td>1.260000</td>\n      <td>70.752847</td>\n      <td>0.651805</td>\n    </tr>\n    <tr>\n      <th>1398</th>\n      <td>1795.480000</td>\n      <td>1923.740000</td>\n      <td>128</td>\n      <td>54</td>\n      <td>0.001934</td>\n      <td>0.001443</td>\n      <td>128.260000</td>\n      <td>1.270000</td>\n      <td>70.582026</td>\n      <td>0.652028</td>\n    </tr>\n    <tr>\n      <th>1476</th>\n      <td>1795.480000</td>\n      <td>1925.660000</td>\n      <td>127</td>\n      <td>54</td>\n      <td>0.001928</td>\n      <td>0.001429</td>\n      <td>130.180000</td>\n      <td>1.280000</td>\n      <td>70.374069</td>\n      <td>0.651927</td>\n    </tr>\n    <tr>\n      <th>1477</th>\n      <td>1795.480000</td>\n      <td>1927.590000</td>\n      <td>127</td>\n      <td>54</td>\n      <td>0.001921</td>\n      <td>0.001416</td>\n      <td>132.110000</td>\n      <td>1.290000</td>\n      <td>70.130277</td>\n      <td>0.651567</td>\n    </tr>\n    <tr>\n      <th>1628</th>\n      <td>1795.480000</td>\n      <td>1929.520000</td>\n      <td>126</td>\n      <td>54</td>\n      <td>0.001914</td>\n      <td>0.001401</td>\n      <td>134.040000</td>\n      <td>1.290000</td>\n      <td>69.853421</td>\n      <td>0.651076</td>\n    </tr>\n    <tr>\n      <th>1629</th>\n      <td>1795.480000</td>\n      <td>1931.450000</td>\n      <td>126</td>\n      <td>54</td>\n      <td>0.001906</td>\n      <td>0.001385</td>\n      <td>135.970000</td>\n      <td>1.300000</td>\n      <td>69.559806</td>\n      <td>0.650612</td>\n    </tr>\n    <tr>\n      <th>1709</th>\n      <td>1795.480000</td>\n      <td>1933.380000</td>\n      <td>125</td>\n      <td>55</td>\n      <td>0.001899</td>\n      <td>0.001368</td>\n      <td>137.900000</td>\n      <td>1.310000</td>\n      <td>69.304901</td>\n      <td>0.650435</td>\n    </tr>\n    <tr>\n      <th>1710</th>\n      <td>1795.480000</td>\n      <td>1935.310000</td>\n      <td>125</td>\n      <td>55</td>\n      <td>0.001891</td>\n      <td>0.001352</td>\n      <td>139.830000</td>\n      <td>1.320000</td>\n      <td>69.014674</td>\n      <td>0.649964</td>\n    </tr>\n    <tr>\n      <th>1860</th>\n      <td>1795.480000</td>\n      <td>1937.250000</td>\n      <td>124</td>\n      <td>55</td>\n      <td>0.001882</td>\n      <td>0.001338</td>\n      <td>141.770000</td>\n      <td>1.330000</td>\n      <td>68.682383</td>\n      <td>0.649002</td>\n    </tr>\n    <tr>\n      <th>1861</th>\n      <td>1795.480000</td>\n      <td>1939.190000</td>\n      <td>124</td>\n      <td>55</td>\n      <td>0.001872</td>\n      <td>0.001324</td>\n      <td>143.710000</td>\n      <td>1.340000</td>\n      <td>68.328593</td>\n      <td>0.647708</td>\n    </tr>\n    <tr>\n      <th>1935</th>\n      <td>1795.480000</td>\n      <td>1941.130000</td>\n      <td>123</td>\n      <td>55</td>\n      <td>0.001861</td>\n      <td>0.001312</td>\n      <td>145.650000</td>\n      <td>1.340000</td>\n      <td>67.922723</td>\n      <td>0.645886</td>\n    </tr>\n    <tr>\n      <th>2091</th>\n      <td>1795.480000</td>\n      <td>1943.070000</td>\n      <td>122</td>\n      <td>55</td>\n      <td>0.001849</td>\n      <td>0.001300</td>\n      <td>147.590000</td>\n      <td>1.350000</td>\n      <td>67.506476</td>\n      <td>0.643878</td>\n    </tr>\n    <tr>\n      <th>2175</th>\n      <td>1795.480000</td>\n      <td>1945.010000</td>\n      <td>121</td>\n      <td>55</td>\n      <td>0.001837</td>\n      <td>0.001289</td>\n      <td>149.530000</td>\n      <td>1.350000</td>\n      <td>67.039640</td>\n      <td>0.641426</td>\n    </tr>\n    <tr>\n      <th>2333</th>\n      <td>1795.480000</td>\n      <td>1946.960000</td>\n      <td>120</td>\n      <td>56</td>\n      <td>0.001824</td>\n      <td>0.001278</td>\n      <td>151.480000</td>\n      <td>1.350000</td>\n      <td>66.589473</td>\n      <td>0.638939</td>\n    </tr>\n    <tr>\n      <th>2334</th>\n      <td>1795.480000</td>\n      <td>1948.910000</td>\n      <td>120</td>\n      <td>56</td>\n      <td>0.001813</td>\n      <td>0.001267</td>\n      <td>153.430000</td>\n      <td>1.350000</td>\n      <td>66.180172</td>\n      <td>0.636791</td>\n    </tr>\n    <tr>\n      <th>2431</th>\n      <td>1795.480000</td>\n      <td>1950.860000</td>\n      <td>119</td>\n      <td>56</td>\n      <td>0.001803</td>\n      <td>0.001255</td>\n      <td>155.380000</td>\n      <td>1.360000</td>\n      <td>65.803727</td>\n      <td>0.634970</td>\n    </tr>\n    <tr>\n      <th>2602</th>\n      <td>1795.480000</td>\n      <td>1952.810000</td>\n      <td>118</td>\n      <td>56</td>\n      <td>0.001794</td>\n      <td>0.001242</td>\n      <td>157.330000</td>\n      <td>1.360000</td>\n      <td>65.495469</td>\n      <td>0.633748</td>\n    </tr>\n    <tr>\n      <th>2603</th>\n      <td>1795.480000</td>\n      <td>1954.760000</td>\n      <td>118</td>\n      <td>56</td>\n      <td>0.001786</td>\n      <td>0.001229</td>\n      <td>159.280000</td>\n      <td>1.370000</td>\n      <td>65.194585</td>\n      <td>0.632602</td>\n    </tr>\n    <tr>\n      <th>2688</th>\n      <td>1795.480000</td>\n      <td>1956.720000</td>\n      <td>117</td>\n      <td>56</td>\n      <td>0.001779</td>\n      <td>0.001216</td>\n      <td>161.240000</td>\n      <td>1.380000</td>\n      <td>64.945428</td>\n      <td>0.631872</td>\n    </tr>\n    <tr>\n      <th>2689</th>\n      <td>1795.480000</td>\n      <td>1958.680000</td>\n      <td>117</td>\n      <td>56</td>\n      <td>0.001773</td>\n      <td>0.001204</td>\n      <td>163.190000</td>\n      <td>1.390000</td>\n      <td>64.713628</td>\n      <td>0.631115</td>\n    </tr>\n    <tr>\n      <th>2690</th>\n      <td>1795.480000</td>\n      <td>1960.630000</td>\n      <td>117</td>\n      <td>56</td>\n      <td>0.001766</td>\n      <td>0.001193</td>\n      <td>165.150000</td>\n      <td>1.400000</td>\n      <td>64.455193</td>\n      <td>0.630003</td>\n    </tr>\n    <tr>\n      <th>2872</th>\n      <td>1795.480000</td>\n      <td>1962.600000</td>\n      <td>116</td>\n      <td>56</td>\n      <td>0.001759</td>\n      <td>0.001185</td>\n      <td>167.120000</td>\n      <td>1.400000</td>\n      <td>64.189008</td>\n      <td>0.628596</td>\n    </tr>\n    <tr>\n      <th>2873</th>\n      <td>1795.480000</td>\n      <td>1964.560000</td>\n      <td>116</td>\n      <td>56</td>\n      <td>0.001751</td>\n      <td>0.001177</td>\n      <td>169.080000</td>\n      <td>1.400000</td>\n      <td>63.901554</td>\n      <td>0.626871</td>\n    </tr>\n    <tr>\n      <th>3088</th>\n      <td>1795.480000</td>\n      <td>1966.530000</td>\n      <td>115</td>\n      <td>56</td>\n      <td>0.001743</td>\n      <td>0.001170</td>\n      <td>171.040000</td>\n      <td>1.400000</td>\n      <td>63.608348</td>\n      <td>0.625023</td>\n    </tr>\n    <tr>\n      <th>3168</th>\n      <td>1795.480000</td>\n      <td>1968.490000</td>\n      <td>114</td>\n      <td>56</td>\n      <td>0.001734</td>\n      <td>0.001163</td>\n      <td>173.010000</td>\n      <td>1.410000</td>\n      <td>63.287183</td>\n      <td>0.622886</td>\n    </tr>\n    <tr>\n      <th>3169</th>\n      <td>1795.480000</td>\n      <td>1970.460000</td>\n      <td>114</td>\n      <td>56</td>\n      <td>0.001723</td>\n      <td>0.001156</td>\n      <td>174.980000</td>\n      <td>1.400000</td>\n      <td>62.906783</td>\n      <td>0.620206</td>\n    </tr>\n    <tr>\n      <th>3454</th>\n      <td>1795.480000</td>\n      <td>1972.430000</td>\n      <td>113</td>\n      <td>56</td>\n      <td>0.001713</td>\n      <td>0.001148</td>\n      <td>176.950000</td>\n      <td>1.400000</td>\n      <td>62.531321</td>\n      <td>0.617507</td>\n    </tr>\n    <tr>\n      <th>3629</th>\n      <td>1795.480000</td>\n      <td>1974.410000</td>\n      <td>112</td>\n      <td>56</td>\n      <td>0.001703</td>\n      <td>0.001141</td>\n      <td>178.930000</td>\n      <td>1.400000</td>\n      <td>62.141979</td>\n      <td>0.614687</td>\n    </tr>\n    <tr>\n      <th>3630</th>\n      <td>1795.480000</td>\n      <td>1976.380000</td>\n      <td>112</td>\n      <td>56</td>\n      <td>0.001692</td>\n      <td>0.001134</td>\n      <td>180.900000</td>\n      <td>1.400000</td>\n      <td>61.752618</td>\n      <td>0.611810</td>\n    </tr>\n    <tr>\n      <th>3998</th>\n      <td>1795.480000</td>\n      <td>1978.360000</td>\n      <td>111</td>\n      <td>56</td>\n      <td>0.001681</td>\n      <td>0.001126</td>\n      <td>182.880000</td>\n      <td>1.400000</td>\n      <td>61.346078</td>\n      <td>0.608781</td>\n    </tr>\n    <tr>\n      <th>4337</th>\n      <td>1795.480000</td>\n      <td>1980.340000</td>\n      <td>110</td>\n      <td>56</td>\n      <td>0.001670</td>\n      <td>0.001117</td>\n      <td>184.860000</td>\n      <td>1.410000</td>\n      <td>60.943501</td>\n      <td>0.605815</td>\n    </tr>\n    <tr>\n      <th>4338</th>\n      <td>1795.480000</td>\n      <td>1982.320000</td>\n      <td>110</td>\n      <td>56</td>\n      <td>0.001660</td>\n      <td>0.001108</td>\n      <td>186.840000</td>\n      <td>1.410000</td>\n      <td>60.575533</td>\n      <td>0.603101</td>\n    </tr>\n    <tr>\n      <th>4545</th>\n      <td>1795.480000</td>\n      <td>1984.300000</td>\n      <td>109</td>\n      <td>56</td>\n      <td>0.001650</td>\n      <td>0.001100</td>\n      <td>188.820000</td>\n      <td>1.410000</td>\n      <td>60.223545</td>\n      <td>0.600481</td>\n    </tr>\n    <tr>\n      <th>4878</th>\n      <td>1795.480000</td>\n      <td>1986.290000</td>\n      <td>108</td>\n      <td>56</td>\n      <td>0.001641</td>\n      <td>0.001092</td>\n      <td>190.810000</td>\n      <td>1.410000</td>\n      <td>59.884224</td>\n      <td>0.597930</td>\n    </tr>\n    <tr>\n      <th>4879</th>\n      <td>1795.480000</td>\n      <td>1988.280000</td>\n      <td>108</td>\n      <td>56</td>\n      <td>0.001632</td>\n      <td>0.001084</td>\n      <td>192.790000</td>\n      <td>1.410000</td>\n      <td>59.552709</td>\n      <td>0.595384</td>\n    </tr>\n    <tr>\n      <th>5223</th>\n      <td>1795.480000</td>\n      <td>1990.260000</td>\n      <td>107</td>\n      <td>56</td>\n      <td>0.001623</td>\n      <td>0.001076</td>\n      <td>194.780000</td>\n      <td>1.410000</td>\n      <td>59.242558</td>\n      <td>0.592987</td>\n    </tr>\n    <tr>\n      <th>5224</th>\n      <td>1795.480000</td>\n      <td>1992.260000</td>\n      <td>107</td>\n      <td>56</td>\n      <td>0.001615</td>\n      <td>0.001069</td>\n      <td>196.780000</td>\n      <td>1.420000</td>\n      <td>58.941826</td>\n      <td>0.590602</td>\n    </tr>\n    <tr>\n      <th>5489</th>\n      <td>1795.480000</td>\n      <td>1994.250000</td>\n      <td>106</td>\n      <td>56</td>\n      <td>0.001607</td>\n      <td>0.001063</td>\n      <td>198.770000</td>\n      <td>1.420000</td>\n      <td>58.657678</td>\n      <td>0.588322</td>\n    </tr>\n    <tr>\n      <th>5490</th>\n      <td>1795.480000</td>\n      <td>1996.240000</td>\n      <td>106</td>\n      <td>56</td>\n      <td>0.001600</td>\n      <td>0.001057</td>\n      <td>200.760000</td>\n      <td>1.420000</td>\n      <td>58.397157</td>\n      <td>0.586187</td>\n    </tr>\n    <tr>\n      <th>5903</th>\n      <td>1795.480000</td>\n      <td>1998.240000</td>\n      <td>105</td>\n      <td>56</td>\n      <td>0.001593</td>\n      <td>0.001051</td>\n      <td>202.760000</td>\n      <td>1.420000</td>\n      <td>58.137389</td>\n      <td>0.583991</td>\n    </tr>\n    <tr>\n      <th>5904</th>\n      <td>1795.480000</td>\n      <td>2000.240000</td>\n      <td>105</td>\n      <td>56</td>\n      <td>0.001584</td>\n      <td>0.001045</td>\n      <td>204.760000</td>\n      <td>1.420000</td>\n      <td>57.830299</td>\n      <td>0.581314</td>\n    </tr>\n    <tr>\n      <th>6199</th>\n      <td>1795.480000</td>\n      <td>2002.240000</td>\n      <td>104</td>\n      <td>56</td>\n      <td>0.001578</td>\n      <td>0.001041</td>\n      <td>206.760000</td>\n      <td>1.420000</td>\n      <td>57.591339</td>\n      <td>0.579195</td>\n    </tr>\n    <tr>\n      <th>6200</th>\n      <td>1795.480000</td>\n      <td>2004.240000</td>\n      <td>104</td>\n      <td>56</td>\n      <td>0.001571</td>\n      <td>0.001037</td>\n      <td>208.760000</td>\n      <td>1.420000</td>\n      <td>57.351464</td>\n      <td>0.577021</td>\n    </tr>\n    <tr>\n      <th>6549</th>\n      <td>1795.480000</td>\n      <td>2006.250000</td>\n      <td>103</td>\n      <td>56</td>\n      <td>0.001565</td>\n      <td>0.001033</td>\n      <td>210.770000</td>\n      <td>1.420000</td>\n      <td>57.108105</td>\n      <td>0.574777</td>\n    </tr>\n  </tbody>\n</table>\n</div>"
     },
     "execution_count": 137,
     "metadata": {},
     "output_type": "execute_result"
    }
   ],
   "source": [
    "stats_df[(stats_df[\"interval_low\"] > 1795) & (stats_df[\"interval_low\"] < 1796) & (stats_df[\"interval_high\"] > 1905) & (stats_df[\"interval_high\"] < 2007)].head(100)"
   ],
   "metadata": {
    "collapsed": false,
    "ExecuteTime": {
     "end_time": "2023-07-21T08:21:56.573413Z",
     "start_time": "2023-07-21T08:21:56.562753Z"
    }
   }
  },
  {
   "cell_type": "code",
   "execution_count": null,
   "outputs": [],
   "source": [],
   "metadata": {
    "collapsed": false
   }
  }
 ],
 "metadata": {
  "kernelspec": {
   "display_name": "Python 3",
   "language": "python",
   "name": "python3"
  },
  "language_info": {
   "codemirror_mode": {
    "name": "ipython",
    "version": 2
   },
   "file_extension": ".py",
   "mimetype": "text/x-python",
   "name": "python",
   "nbconvert_exporter": "python",
   "pygments_lexer": "ipython2",
   "version": "2.7.6"
  }
 },
 "nbformat": 4,
 "nbformat_minor": 0
}
