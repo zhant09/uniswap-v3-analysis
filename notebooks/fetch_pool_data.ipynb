{
 "cells": [
  {
   "cell_type": "code",
   "execution_count": 3,
   "outputs": [
    {
     "name": "stdout",
     "output_type": "stream",
     "text": [
      "1682899200\n"
     ]
    }
   ],
   "source": [
    "from datetime import datetime, timezone\n",
    "\n",
    "\n",
    "def date_to_utc_timestamp(c_date):\n",
    "    return int(c_date.replace(tzinfo=timezone.utc).timestamp())\n",
    "\n",
    "\n",
    "def utc_timestamp_to_date(ts):\n",
    "    return datetime.fromtimestamp(ts, tz=timezone.utc)\n",
    "\n",
    "\n",
    "start_date = datetime(2023, 5, 1)\n",
    "print(date_to_utc_timestamp(start_date))\n",
    "# print(utc_timestamp_to_date(1626480000))"
   ],
   "metadata": {
    "collapsed": false,
    "pycharm": {
     "name": "#%%\n"
    }
   }
  },
  {
   "cell_type": "code",
   "execution_count": 11,
   "outputs": [
    {
     "name": "stdout",
     "output_type": "stream",
     "text": [
      "2021-05-01 00:00:00+00:00\n",
      "100\n",
      "2021-08-12 00:00:00+00:00\n",
      "200\n",
      "2021-11-20 00:00:00+00:00\n",
      "300\n",
      "2022-02-28 00:00:00+00:00\n",
      "400\n",
      "2022-06-08 00:00:00+00:00\n",
      "500\n",
      "2022-09-16 00:00:00+00:00\n",
      "600\n",
      "2022-12-25 00:00:00+00:00\n",
      "700\n",
      "2023-04-04 00:00:00+00:00\n",
      "732\n"
     ]
    }
   ],
   "source": [
    "# 1. Fetch Eth Pool Liquidity Data\n",
    "\n",
    "from gql import gql, Client\n",
    "from gql.transport.requests import RequestsHTTPTransport\n",
    "\n",
    "# 0.05% WBTC/ETH pool\n",
    "LOW_POOL_ID = \"0x4585fe77225b41b697c938b018e2ac67ac5a20c0\"\n",
    "# 0.3% WBTC/ETH pool\n",
    "HIGH_POOL_ID = \"0xcbcdf9626bc03e24f779434178a73a0b4bad62ed\"\n",
    "\n",
    "\n",
    "def get_pool_trade_data(pool_id, start_date):\n",
    "    pool_query = \"\"\"\n",
    "    query poolDayDatas($pool_id: ID!, $start_time: Int!,){\n",
    "        poolDayDatas(\n",
    "            where: { pool: $pool_id, date_gt: $start_time }\n",
    "        orderBy: date\n",
    "        orderDirection: asc\n",
    "        ) {\n",
    "            date\n",
    "            # in range liquidity at end of period\n",
    "            liquidity\n",
    "            # current price tracker at end of period\n",
    "            sqrtPrice\n",
    "            # price of token0 - derived from sqrtPrice\n",
    "            tick\n",
    "            # tvl derived in USD at end of period\n",
    "            tvlUSD\n",
    "            # volume in token0\n",
    "            volumeToken0\n",
    "            # volume in token1\n",
    "            volumeToken1\n",
    "            # volume in USD\n",
    "            volumeUSD\n",
    "            # fees in USD\n",
    "            feesUSD\n",
    "            # number of transactions during period\n",
    "            txCount\n",
    "            # opening price of token0\n",
    "            open\n",
    "            # high price of token0\n",
    "            high\n",
    "            # low price of token0\n",
    "            low\n",
    "            # close price of token0\n",
    "            close\n",
    "            }\n",
    "    }\n",
    "    \"\"\"\n",
    "\n",
    "    client = Client(\n",
    "        transport=RequestsHTTPTransport(\n",
    "            url='https://api.thegraph.com/subgraphs/name/uniswap/uniswap-v3',\n",
    "            verify=True,\n",
    "            retries=5,\n",
    "        ))\n",
    "\n",
    "    start_timestamp = date_to_utc_timestamp(start_date)\n",
    "    variables = {\"pool_id\": pool_id, \"start_time\": start_timestamp}\n",
    "    response = client.execute(gql(pool_query), variable_values=variables)\n",
    "    trade_data = response[\"poolDayDatas\"]\n",
    "    trade_all_data = trade_data\n",
    "\n",
    "    while len(trade_data) > 0:\n",
    "        print(utc_timestamp_to_date(start_timestamp))\n",
    "        print(len(trade_all_data))\n",
    "        start_timestamp = trade_data[-1]['date']\n",
    "        variables = {\"pool_id\": pool_id, \"start_time\": start_timestamp}\n",
    "        response = client.execute(gql(pool_query), variable_values=variables)\n",
    "        trade_data = response[\"poolDayDatas\"]\n",
    "        trade_all_data += trade_data\n",
    "\n",
    "    return trade_all_data\n",
    "\n",
    "\n",
    "# the earliest data is from 2021-05-01\n",
    "start_date = datetime(2021, 5, 1)\n",
    "pool_data = get_pool_trade_data(LOW_POOL_ID, start_date)"
   ],
   "metadata": {
    "collapsed": false,
    "pycharm": {
     "name": "#%%\n"
    }
   }
  },
  {
   "cell_type": "code",
   "execution_count": 4,
   "outputs": [
    {
     "data": {
      "text/plain": "         date          liquidity                            sqrtPrice    tick  \\\n0  1620172800                  0                                    0    None   \n1  1620259200     47802696926688  31809195401932648817609369003249547  258071   \n2  1620345600  42425055535734978  32187992991029178621379247853387443  258308   \n3  1620432000   4036037627994723  30814946235335421635470353514297570  257436   \n4  1620518400    672440555897057  30550018995856811291234861690516572  257263   \n\n                                tvlUSD  volumeToken0             volumeToken1  \\\n0                                    0             0                        0   \n1  5146.736482364860299518079151516243    0.01955837     0.316827345146869434   \n2  2073400.162975270801081924615102077   68.18328357  1120.626959335943537703   \n3  1980521.049385023017241543520869319  126.96928506    2072.7905681432721063   \n4  739735.1727825094073093447014429385   10.91169152   163.331111671204485144   \n\n                             volumeUSD                               feesUSD  \\\n0                                    0                                     0   \n1  1102.031018311199696439388175003343  0.5510155091555998482196940875016715   \n2   3922263.61944071584148036405495539   1961.131809720357920740182027477691   \n3  7443618.326347876067605645380688426   3721.809163173938033802822690344206   \n4  634883.3690065130877645983992275799   317.4416845032565438822991996137902   \n\n  txCount                                   open  \\\n0       2                                      0   \n1      16  0.05998654715076262372902751818670286   \n2     227  0.06203743019377815473808300194149325   \n3     257  0.06058403976932998513307639824064359   \n4      99  0.06609184203913069571728478548803438   \n\n                                    high  \\\n0                                      0   \n1  0.06243654451824971693450264979198528   \n2  0.06203743019377815473808300194149325   \n3  0.06669932160003833798769060727416865   \n4  0.06830342385985722044198599944892239   \n\n                                     low  \\\n0                                      0   \n1  0.05998654715076262372902751818670286   \n2  0.06010084251900176152287862020188552   \n3  0.06004384605589742079211220851145031   \n4   0.0653848260519338954289133091895779   \n\n                                   close  \n0                                      0  \n1  0.05998654715076262372902751818670286  \n2  0.06203743019377815473808300194149325  \n3  0.06058403976932998513307639824064359  \n4  0.06609184203913069571728478548803438  ",
      "text/html": "<div>\n<style scoped>\n    .dataframe tbody tr th:only-of-type {\n        vertical-align: middle;\n    }\n\n    .dataframe tbody tr th {\n        vertical-align: top;\n    }\n\n    .dataframe thead th {\n        text-align: right;\n    }\n</style>\n<table border=\"1\" class=\"dataframe\">\n  <thead>\n    <tr style=\"text-align: right;\">\n      <th></th>\n      <th>date</th>\n      <th>liquidity</th>\n      <th>sqrtPrice</th>\n      <th>tick</th>\n      <th>tvlUSD</th>\n      <th>volumeToken0</th>\n      <th>volumeToken1</th>\n      <th>volumeUSD</th>\n      <th>feesUSD</th>\n      <th>txCount</th>\n      <th>open</th>\n      <th>high</th>\n      <th>low</th>\n      <th>close</th>\n    </tr>\n  </thead>\n  <tbody>\n    <tr>\n      <th>0</th>\n      <td>1620172800</td>\n      <td>0</td>\n      <td>0</td>\n      <td>None</td>\n      <td>0</td>\n      <td>0</td>\n      <td>0</td>\n      <td>0</td>\n      <td>0</td>\n      <td>2</td>\n      <td>0</td>\n      <td>0</td>\n      <td>0</td>\n      <td>0</td>\n    </tr>\n    <tr>\n      <th>1</th>\n      <td>1620259200</td>\n      <td>47802696926688</td>\n      <td>31809195401932648817609369003249547</td>\n      <td>258071</td>\n      <td>5146.736482364860299518079151516243</td>\n      <td>0.01955837</td>\n      <td>0.316827345146869434</td>\n      <td>1102.031018311199696439388175003343</td>\n      <td>0.5510155091555998482196940875016715</td>\n      <td>16</td>\n      <td>0.05998654715076262372902751818670286</td>\n      <td>0.06243654451824971693450264979198528</td>\n      <td>0.05998654715076262372902751818670286</td>\n      <td>0.05998654715076262372902751818670286</td>\n    </tr>\n    <tr>\n      <th>2</th>\n      <td>1620345600</td>\n      <td>42425055535734978</td>\n      <td>32187992991029178621379247853387443</td>\n      <td>258308</td>\n      <td>2073400.162975270801081924615102077</td>\n      <td>68.18328357</td>\n      <td>1120.626959335943537703</td>\n      <td>3922263.61944071584148036405495539</td>\n      <td>1961.131809720357920740182027477691</td>\n      <td>227</td>\n      <td>0.06203743019377815473808300194149325</td>\n      <td>0.06203743019377815473808300194149325</td>\n      <td>0.06010084251900176152287862020188552</td>\n      <td>0.06203743019377815473808300194149325</td>\n    </tr>\n    <tr>\n      <th>3</th>\n      <td>1620432000</td>\n      <td>4036037627994723</td>\n      <td>30814946235335421635470353514297570</td>\n      <td>257436</td>\n      <td>1980521.049385023017241543520869319</td>\n      <td>126.96928506</td>\n      <td>2072.7905681432721063</td>\n      <td>7443618.326347876067605645380688426</td>\n      <td>3721.809163173938033802822690344206</td>\n      <td>257</td>\n      <td>0.06058403976932998513307639824064359</td>\n      <td>0.06669932160003833798769060727416865</td>\n      <td>0.06004384605589742079211220851145031</td>\n      <td>0.06058403976932998513307639824064359</td>\n    </tr>\n    <tr>\n      <th>4</th>\n      <td>1620518400</td>\n      <td>672440555897057</td>\n      <td>30550018995856811291234861690516572</td>\n      <td>257263</td>\n      <td>739735.1727825094073093447014429385</td>\n      <td>10.91169152</td>\n      <td>163.331111671204485144</td>\n      <td>634883.3690065130877645983992275799</td>\n      <td>317.4416845032565438822991996137902</td>\n      <td>99</td>\n      <td>0.06609184203913069571728478548803438</td>\n      <td>0.06830342385985722044198599944892239</td>\n      <td>0.0653848260519338954289133091895779</td>\n      <td>0.06609184203913069571728478548803438</td>\n    </tr>\n  </tbody>\n</table>\n</div>"
     },
     "execution_count": 4,
     "metadata": {},
     "output_type": "execute_result"
    }
   ],
   "source": [
    "import pandas as pd\n",
    "\n",
    "uniswap_df = pd.DataFrame(pool_data)\n",
    "uniswap_df.head()"
   ],
   "metadata": {
    "collapsed": false,
    "pycharm": {
     "name": "#%%\n"
    }
   }
  },
  {
   "cell_type": "code",
   "execution_count": 5,
   "outputs": [],
   "source": [
    "uniswap_df.to_csv(\"../data/wbtc_eth_0.05_uniswap_data.csv\", index=False)"
   ],
   "metadata": {
    "collapsed": false,
    "pycharm": {
     "name": "#%%\n"
    }
   }
  },
  {
   "cell_type": "code",
   "execution_count": 10,
   "outputs": [
    {
     "name": "stdout",
     "output_type": "stream",
     "text": [
      "2021-05-01 00:00:00+00:00\n",
      "100\n",
      "2021-08-11 00:00:00+00:00\n",
      "200\n",
      "2021-11-19 00:00:00+00:00\n",
      "300\n",
      "2022-02-27 00:00:00+00:00\n",
      "400\n",
      "2022-06-07 00:00:00+00:00\n",
      "500\n",
      "2022-09-15 00:00:00+00:00\n",
      "600\n",
      "2022-12-24 00:00:00+00:00\n",
      "700\n",
      "2023-04-03 00:00:00+00:00\n",
      "733\n"
     ]
    }
   ],
   "source": [
    "pool_data1 = get_pool_trade_data(HIGH_POOL_ID, start_date)\n",
    "uniswap_df1 = pd.DataFrame(pool_data1)\n",
    "uniswap_df1.to_csv(\"../data/wbtc_eth_0.3_uniswap_data.csv\", index=False)"
   ],
   "metadata": {
    "collapsed": false,
    "pycharm": {
     "name": "#%%\n"
    }
   }
  },
  {
   "cell_type": "code",
   "execution_count": 1,
   "outputs": [],
   "source": [
    "# 2. Fetch Arb Swap Period Data\n",
    "\n",
    "from datetime import datetime\n",
    "from utils import utils\n",
    "\n",
    "\n",
    "start_timestamp = utils.date_to_utc_timestamp(datetime(2023, 5, 28, 0, 0))\n",
    "end_timestamp = utils.date_to_utc_timestamp(datetime(2023, 5, 30, 0, 0))"
   ],
   "metadata": {
    "collapsed": false,
    "pycharm": {
     "name": "#%%\n"
    }
   }
  },
  {
   "cell_type": "code",
   "execution_count": 2,
   "outputs": [
    {
     "name": "stdout",
     "output_type": "stream",
     "text": [
      "0x13875c5e00916a733dbf870b03f29c7c0e2b575294ea3c17e3a123540b281eca0b000000\n"
     ]
    }
   ],
   "source": [
    "import pandas as pd\n",
    "\n",
    "arb_uniswap_df = pd.read_csv(\"../data/arb_swap_0523_0528.csv\")\n",
    "id_list = arb_uniswap_df[\"id\"].tolist()\n",
    "print(id_list[0])"
   ],
   "metadata": {
    "collapsed": false,
    "pycharm": {
     "name": "#%%\n"
    }
   }
  },
  {
   "cell_type": "code",
   "execution_count": 3,
   "outputs": [
    {
     "name": "stdout",
     "output_type": "stream",
     "text": [
      "100\n"
     ]
    }
   ],
   "source": [
    "# ARB graphQL\n",
    "from gql import gql, Client\n",
    "from gql.transport.requests import RequestsHTTPTransport\n",
    "\n",
    "\n",
    "arb_query = \"\"\"\n",
    "query {\n",
    "    swaps(skip: %d, orderBy: timestamp, orderDirection: asc,\n",
    "        where: { pool: \"0xc31e54c7a869b9fcbecc14363cf510d1c41fa443\", timestamp_gte: %d }){\n",
    "            id\n",
    "            account {\n",
    "                id\n",
    "                positionCount\n",
    "                openPositionCount\n",
    "                closedPositionCount\n",
    "                depositCount\n",
    "                withdrawCount\n",
    "                swapCount\n",
    "            }\n",
    "            gasLimit\n",
    "            gasPrice\n",
    "            amountIn\n",
    "            amountInUSD\n",
    "            amountOut\n",
    "            amountOutUSD\n",
    "            tick\n",
    "            timestamp\n",
    "            tokenIn {\n",
    "                symbol\n",
    "            }\n",
    "            tokenOut {\n",
    "                symbol\n",
    "            }\n",
    "    }\n",
    "}\n",
    "\"\"\"\n",
    "\n",
    "\n",
    "client = Client(\n",
    "    transport=RequestsHTTPTransport(\n",
    "        url='https://api.thegraph.com/subgraphs/name/messari/uniswap-v3-arbitrum',\n",
    "        verify=True,\n",
    "        retries=5,\n",
    "    ))\n",
    "\n",
    "# # variables = { \"num_skip\": 0, \"start_timestamp\": 1684460940 }\n",
    "# # response = client.execute(gql(arb_query), variable_values=variables)\n",
    "response = client.execute(gql(arb_query % (0, start_timestamp)))\n",
    "print(len(response[\"swaps\"]))"
   ],
   "metadata": {
    "collapsed": false,
    "pycharm": {
     "name": "#%%\n"
    }
   }
  },
  {
   "cell_type": "code",
   "execution_count": 4,
   "outputs": [
    {
     "name": "stdout",
     "output_type": "stream",
     "text": [
      "2023-05-30 09:38:53.015469 result cnt: 100 id cnt: 68938 skip:  0\n",
      "Current time:  2023-05-28 00:16:27+00:00\n",
      "2023-05-30 09:39:37.399397 result cnt: 1057 id cnt: 69895 skip:  0\n",
      "Current time:  2023-05-28 00:58:53+00:00\n",
      "2023-05-30 09:40:23.179774 result cnt: 2045 id cnt: 70883 skip:  0\n",
      "Current time:  2023-05-28 03:10:10+00:00\n",
      "2023-05-30 09:41:09.920128 result cnt: 3028 id cnt: 71866 skip:  0\n",
      "Current time:  2023-05-28 05:09:12+00:00\n",
      "2023-05-30 09:41:55.994083 result cnt: 4011 id cnt: 72849 skip:  0\n",
      "Current time:  2023-05-28 08:22:33+00:00\n",
      "2023-05-30 09:42:45.515943 result cnt: 5098 id cnt: 73936 skip:  0\n",
      "Current time:  2023-05-28 10:52:32+00:00\n",
      "2023-05-30 09:43:31.016815 result cnt: 6082 id cnt: 74920 skip:  0\n",
      "Current time:  2023-05-28 12:46:04+00:00\n",
      "2023-05-30 09:44:15.412316 result cnt: 7069 id cnt: 75907 skip:  0\n",
      "Current time:  2023-05-28 15:05:32+00:00\n",
      "2023-05-30 09:44:59.191941 result cnt: 8056 id cnt: 76894 skip:  0\n",
      "Current time:  2023-05-28 17:45:30+00:00\n",
      "2023-05-30 09:45:47.355301 result cnt: 9040 id cnt: 77878 skip:  0\n",
      "Current time:  2023-05-28 18:55:32+00:00\n",
      "2023-05-30 09:46:32.491146 result cnt: 10026 id cnt: 78864 skip:  0\n",
      "Current time:  2023-05-28 21:25:28+00:00\n",
      "2023-05-30 09:47:20.954576 result cnt: 11049 id cnt: 79887 skip:  0\n",
      "Current time:  2023-05-28 22:02:25+00:00\n",
      "2023-05-30 09:48:05.015261 result cnt: 12011 id cnt: 80849 skip:  0\n",
      "Current time:  2023-05-28 22:30:17+00:00\n",
      "2023-05-30 09:48:53.258129 result cnt: 13093 id cnt: 81931 skip:  0\n",
      "Current time:  2023-05-29 00:13:02+00:00\n",
      "2023-05-30 09:49:37.702406 result cnt: 14052 id cnt: 82890 skip:  0\n",
      "Current time:  2023-05-29 01:04:25+00:00\n",
      "2023-05-30 09:50:21.626434 result cnt: 15040 id cnt: 83878 skip:  0\n",
      "Current time:  2023-05-29 02:50:39+00:00\n",
      "2023-05-30 09:51:06.825916 result cnt: 16028 id cnt: 84866 skip:  0\n",
      "Current time:  2023-05-29 04:02:52+00:00\n",
      "2023-05-30 09:51:50.841060 result cnt: 17013 id cnt: 85851 skip:  0\n",
      "Current time:  2023-05-29 05:38:21+00:00\n",
      "2023-05-30 09:52:35.565336 result cnt: 18001 id cnt: 86839 skip:  0\n",
      "Current time:  2023-05-29 07:29:12+00:00\n",
      "2023-05-30 09:53:25.005149 result cnt: 19061 id cnt: 87899 skip:  0\n",
      "Current time:  2023-05-29 08:50:56+00:00\n",
      "2023-05-30 09:54:08.877158 result cnt: 20051 id cnt: 88889 skip:  0\n",
      "Current time:  2023-05-29 10:42:34+00:00\n",
      "2023-05-30 09:54:53.392050 result cnt: 21031 id cnt: 89869 skip:  0\n",
      "Current time:  2023-05-29 12:20:08+00:00\n",
      "2023-05-30 09:55:38.687656 result cnt: 22006 id cnt: 90844 skip:  0\n",
      "Current time:  2023-05-29 14:20:10+00:00\n",
      "2023-05-30 09:56:26.547965 result cnt: 23093 id cnt: 91931 skip:  0\n",
      "Current time:  2023-05-29 15:23:06+00:00\n",
      "2023-05-30 09:57:10.126904 result cnt: 24073 id cnt: 92911 skip:  0\n",
      "Current time:  2023-05-29 16:08:54+00:00\n",
      "2023-05-30 09:57:54.638375 result cnt: 25039 id cnt: 93877 skip:  0\n",
      "Current time:  2023-05-29 17:08:39+00:00\n",
      "2023-05-30 09:58:38.891113 result cnt: 26017 id cnt: 94855 skip:  0\n",
      "Current time:  2023-05-29 18:58:29+00:00\n",
      "2023-05-30 09:59:23.583684 result cnt: 27006 id cnt: 95844 skip:  0\n",
      "Current time:  2023-05-29 21:46:31+00:00\n",
      "2023-05-30 10:00:12.235281 result cnt: 28036 id cnt: 96874 skip:  0\n",
      "Current time:  2023-05-29 23:59:38+00:00\n"
     ]
    }
   ],
   "source": [
    "result = response['swaps']\n",
    "id_set = set(id_list)\n",
    "print_set = set()\n",
    "PRINT_GAP = 1000\n",
    "\n",
    "for item in result:\n",
    "    id_set.add(item[\"id\"])\n",
    "\n",
    "# more than 100 swap transactions happened in a second, will need to change skip count\n",
    "skip = 0\n",
    "last_cnt = 0\n",
    "while int(result[-1][\"timestamp\"]) <= end_timestamp:\n",
    "    if skip == 1000:\n",
    "        break\n",
    "    last_cnt = len(result)\n",
    "\n",
    "    print_cnt = int(len(result) / PRINT_GAP)\n",
    "    if print_cnt not in print_set:\n",
    "        print_set.add(print_cnt)\n",
    "        print(datetime.now(), \"result cnt:\", len(result), \"id cnt:\", len(id_set), \"skip: \", skip)\n",
    "        print(\"Current time: \", utils.utc_timestamp_to_date(int(result[-1][\"timestamp\"])))\n",
    "\n",
    "    current_timestamp = int(result[-1][\"timestamp\"])\n",
    "    query = arb_query % (skip, current_timestamp)\n",
    "    try:\n",
    "        response = client.execute(gql(query))\n",
    "\n",
    "        swap_data = response[\"swaps\"]\n",
    "        if len(swap_data) == 0:\n",
    "            break\n",
    "        for item in swap_data:\n",
    "            if int(item[\"timestamp\"]) > end_timestamp:\n",
    "                break\n",
    "            elif item[\"id\"] in id_set:\n",
    "                continue\n",
    "            else:\n",
    "                result.append(item)\n",
    "                id_set.add(item[\"id\"])\n",
    "\n",
    "        if last_cnt == len(result):\n",
    "            skip += 100\n",
    "        else:\n",
    "            skip = 0\n",
    "    except Exception as ex:\n",
    "        print(\"Fetching swap data error\", ex)"
   ],
   "metadata": {
    "collapsed": false,
    "pycharm": {
     "name": "#%%\n"
    }
   }
  },
  {
   "cell_type": "code",
   "execution_count": 5,
   "outputs": [
    {
     "data": {
      "text/plain": "                                                  id  gasLimit   gasPrice  \\\n0  0x13875c5e00916a733dbf870b03f29c7c0e2b575294ea...   8000000  400000000   \n1  0xa629bdac51ec7b793a04193f87006f0ff4ae910f8025...  28410397  200000000   \n2  0x38d8de741acaf8f47d3e1692926b7a663e93b6fc0e4b...   2589363  100000000   \n3  0x452dd1fbd5a7c6d03880cd92be8bc35646422b627c34...   6430718  100000000   \n4  0x7ffaad3f6e94d4e7d19df8b5f8c808512918acccf5f1...   2526058  150000000   \n\n            amountIn amountInUSD           amountOut amountOutUSD     tick  \\\n0           18509968   18.509968   10174988585088354    18.500713  -201264   \n1          417246407  417.246407  229361579040734245   417.037599  -201264   \n2  15034268999359802   27.336143            27322474    27.322474  -201264   \n3           40248724   40.248724   22124832513497315    40.228597  -201264   \n4  54000000000000000   98.185802            98136699    98.136699  -201264   \n\n    timestamp tokenIn tokenOut  \\\n0  1684800030    USDC     WETH   \n1  1684800044    USDC     WETH   \n2  1684800056    WETH     USDC   \n3  1684800071    USDC     WETH   \n4  1684800077    WETH     USDC   \n\n                                         transaction  \\\n0  0x13875c5e00916a733dbf870b03f29c7c0e2b575294ea...   \n1  0xa629bdac51ec7b793a04193f87006f0ff4ae910f8025...   \n2  0x38d8de741acaf8f47d3e1692926b7a663e93b6fc0e4b...   \n3  0x452dd1fbd5a7c6d03880cd92be8bc35646422b627c34...   \n4  0x7ffaad3f6e94d4e7d19df8b5f8c808512918acccf5f1...   \n\n                                       trader  traderPositionCount  \\\n0  0x112bf8e7431bde9bd9395d44307f788a6e054691                    0   \n1  0x59c5c9045374693b384bc023fdca4685c7ec1a9e                    0   \n2  0x679d1c9f327257c4cec9ebc1c7c750728351e989                    0   \n3  0x2b185c762f6fb49a07116ec06b238b58fe2bec53                    3   \n4  0x23e08e6e721a0a56989c8759afa1841cd07e9565                    0   \n\n   traderOpenPositionCount  traderClosedPositionCount  traderDepositCount  \\\n0                        0                          0                3695   \n1                        0                          0                5046   \n2                        0                          0                 410   \n3                        3                          0                 293   \n4                        0                          0                   4   \n\n   traderWithdrawCount  traderSwapCount  \n0                 3695             3695  \n1                 5046             5046  \n2                  410              410  \n3                  297              290  \n4                    4                4  ",
      "text/html": "<div>\n<style scoped>\n    .dataframe tbody tr th:only-of-type {\n        vertical-align: middle;\n    }\n\n    .dataframe tbody tr th {\n        vertical-align: top;\n    }\n\n    .dataframe thead th {\n        text-align: right;\n    }\n</style>\n<table border=\"1\" class=\"dataframe\">\n  <thead>\n    <tr style=\"text-align: right;\">\n      <th></th>\n      <th>id</th>\n      <th>gasLimit</th>\n      <th>gasPrice</th>\n      <th>amountIn</th>\n      <th>amountInUSD</th>\n      <th>amountOut</th>\n      <th>amountOutUSD</th>\n      <th>tick</th>\n      <th>timestamp</th>\n      <th>tokenIn</th>\n      <th>tokenOut</th>\n      <th>transaction</th>\n      <th>trader</th>\n      <th>traderPositionCount</th>\n      <th>traderOpenPositionCount</th>\n      <th>traderClosedPositionCount</th>\n      <th>traderDepositCount</th>\n      <th>traderWithdrawCount</th>\n      <th>traderSwapCount</th>\n    </tr>\n  </thead>\n  <tbody>\n    <tr>\n      <th>0</th>\n      <td>0x13875c5e00916a733dbf870b03f29c7c0e2b575294ea...</td>\n      <td>8000000</td>\n      <td>400000000</td>\n      <td>18509968</td>\n      <td>18.509968</td>\n      <td>10174988585088354</td>\n      <td>18.500713</td>\n      <td>-201264</td>\n      <td>1684800030</td>\n      <td>USDC</td>\n      <td>WETH</td>\n      <td>0x13875c5e00916a733dbf870b03f29c7c0e2b575294ea...</td>\n      <td>0x112bf8e7431bde9bd9395d44307f788a6e054691</td>\n      <td>0</td>\n      <td>0</td>\n      <td>0</td>\n      <td>3695</td>\n      <td>3695</td>\n      <td>3695</td>\n    </tr>\n    <tr>\n      <th>1</th>\n      <td>0xa629bdac51ec7b793a04193f87006f0ff4ae910f8025...</td>\n      <td>28410397</td>\n      <td>200000000</td>\n      <td>417246407</td>\n      <td>417.246407</td>\n      <td>229361579040734245</td>\n      <td>417.037599</td>\n      <td>-201264</td>\n      <td>1684800044</td>\n      <td>USDC</td>\n      <td>WETH</td>\n      <td>0xa629bdac51ec7b793a04193f87006f0ff4ae910f8025...</td>\n      <td>0x59c5c9045374693b384bc023fdca4685c7ec1a9e</td>\n      <td>0</td>\n      <td>0</td>\n      <td>0</td>\n      <td>5046</td>\n      <td>5046</td>\n      <td>5046</td>\n    </tr>\n    <tr>\n      <th>2</th>\n      <td>0x38d8de741acaf8f47d3e1692926b7a663e93b6fc0e4b...</td>\n      <td>2589363</td>\n      <td>100000000</td>\n      <td>15034268999359802</td>\n      <td>27.336143</td>\n      <td>27322474</td>\n      <td>27.322474</td>\n      <td>-201264</td>\n      <td>1684800056</td>\n      <td>WETH</td>\n      <td>USDC</td>\n      <td>0x38d8de741acaf8f47d3e1692926b7a663e93b6fc0e4b...</td>\n      <td>0x679d1c9f327257c4cec9ebc1c7c750728351e989</td>\n      <td>0</td>\n      <td>0</td>\n      <td>0</td>\n      <td>410</td>\n      <td>410</td>\n      <td>410</td>\n    </tr>\n    <tr>\n      <th>3</th>\n      <td>0x452dd1fbd5a7c6d03880cd92be8bc35646422b627c34...</td>\n      <td>6430718</td>\n      <td>100000000</td>\n      <td>40248724</td>\n      <td>40.248724</td>\n      <td>22124832513497315</td>\n      <td>40.228597</td>\n      <td>-201264</td>\n      <td>1684800071</td>\n      <td>USDC</td>\n      <td>WETH</td>\n      <td>0x452dd1fbd5a7c6d03880cd92be8bc35646422b627c34...</td>\n      <td>0x2b185c762f6fb49a07116ec06b238b58fe2bec53</td>\n      <td>3</td>\n      <td>3</td>\n      <td>0</td>\n      <td>293</td>\n      <td>297</td>\n      <td>290</td>\n    </tr>\n    <tr>\n      <th>4</th>\n      <td>0x7ffaad3f6e94d4e7d19df8b5f8c808512918acccf5f1...</td>\n      <td>2526058</td>\n      <td>150000000</td>\n      <td>54000000000000000</td>\n      <td>98.185802</td>\n      <td>98136699</td>\n      <td>98.136699</td>\n      <td>-201264</td>\n      <td>1684800077</td>\n      <td>WETH</td>\n      <td>USDC</td>\n      <td>0x7ffaad3f6e94d4e7d19df8b5f8c808512918acccf5f1...</td>\n      <td>0x23e08e6e721a0a56989c8759afa1841cd07e9565</td>\n      <td>0</td>\n      <td>0</td>\n      <td>0</td>\n      <td>4</td>\n      <td>4</td>\n      <td>4</td>\n    </tr>\n  </tbody>\n</table>\n</div>"
     },
     "execution_count": 5,
     "metadata": {},
     "output_type": "execute_result"
    }
   ],
   "source": [
    "import pandas as pd\n",
    "from copy import deepcopy\n",
    "\n",
    "\n",
    "arb_result = deepcopy(result)\n",
    "for item in arb_result:\n",
    "    item[\"transaction\"] = item[\"id\"]\n",
    "    item[\"trader\"] = item[\"account\"][\"id\"]\n",
    "    item[\"traderPositionCount\"] = item[\"account\"][\"positionCount\"]\n",
    "    item[\"traderOpenPositionCount\"] = item[\"account\"][\"openPositionCount\"]\n",
    "    item[\"traderClosedPositionCount\"] = item[\"account\"][\"closedPositionCount\"]\n",
    "    item[\"traderDepositCount\"] = item[\"account\"][\"depositCount\"]\n",
    "    item[\"traderWithdrawCount\"] = item[\"account\"][\"withdrawCount\"]\n",
    "    item[\"traderSwapCount\"] = item[\"account\"][\"swapCount\"]\n",
    "    item[\"tokenIn\"] = item[\"tokenIn\"][\"symbol\"]\n",
    "    item[\"tokenOut\"] = item[\"tokenOut\"][\"symbol\"]\n",
    "    item.pop(\"account\")\n",
    "\n",
    "arb_uniswap_df1 = pd.DataFrame(arb_result)\n",
    "df = pd.concat([arb_uniswap_df, arb_uniswap_df1])\n",
    "df.head()"
   ],
   "metadata": {
    "collapsed": false,
    "pycharm": {
     "name": "#%%\n"
    }
   }
  },
  {
   "cell_type": "code",
   "execution_count": 11,
   "outputs": [],
   "source": [
    "def get_amount_price(swap_item):\n",
    "    if swap_item[\"tokenIn\"] == \"WETH\":\n",
    "        eth_amount = int(swap_item[\"amountIn\"]) / (10 ** 18)\n",
    "        usd = float(swap_item[\"amountInUSD\"])\n",
    "    else:\n",
    "        eth_amount = int(swap_item[\"amountOut\"]) / (10 ** 18)\n",
    "        usd = float(swap_item[\"amountOutUSD\"])\n",
    "\n",
    "    if eth_amount != 0:\n",
    "        return eth_amount, usd, usd / eth_amount\n",
    "\n",
    "    return eth_amount, usd, None"
   ],
   "metadata": {
    "collapsed": false,
    "pycharm": {
     "name": "#%%\n"
    }
   }
  },
  {
   "cell_type": "code",
   "execution_count": 17,
   "outputs": [
    {
     "data": {
      "text/plain": "   gasLimit   gasPrice           amountIn amountInUSD           amountOut  \\\n0   8000000  400000000           18509968   18.509968   10174988585088354   \n1  28410397  200000000          417246407  417.246407  229361579040734245   \n2   2589363  100000000  15034268999359802   27.336143            27322474   \n3   6430718  100000000           40248724   40.248724   22124832513497315   \n4   2526058  150000000  54000000000000000   98.185802            98136699   \n\n  amountOutUSD     tick   timestamp tokenIn tokenOut  ...  \\\n0    18.500713  -201264  1684800030    USDC     WETH  ...   \n1   417.037599  -201264  1684800044    USDC     WETH  ...   \n2    27.322474  -201264  1684800056    WETH     USDC  ...   \n3    40.228597  -201264  1684800071    USDC     WETH  ...   \n4    98.136699  -201264  1684800077    WETH     USDC  ...   \n\n                                       trader traderPositionCount  \\\n0  0x112bf8e7431bde9bd9395d44307f788a6e054691                   0   \n1  0x59c5c9045374693b384bc023fdca4685c7ec1a9e                   0   \n2  0x679d1c9f327257c4cec9ebc1c7c750728351e989                   0   \n3  0x2b185c762f6fb49a07116ec06b238b58fe2bec53                   3   \n4  0x23e08e6e721a0a56989c8759afa1841cd07e9565                   0   \n\n   traderOpenPositionCount  traderClosedPositionCount  traderDepositCount  \\\n0                        0                          0                3695   \n1                        0                          0                5046   \n2                        0                          0                 410   \n3                        3                          0                 293   \n4                        0                          0                   4   \n\n   traderWithdrawCount  traderSwapCount  ethAmount   usdAmount       price  \n0                 3695             3695   0.010175   18.500713  1818.25389  \n1                 5046             5046   0.229362  417.037599  1818.25396  \n2                  410              410   0.015034   27.336143  1818.25555  \n3                  297              290   0.022125   40.228597  1818.25545  \n4                    4                4   0.054000   98.185802  1818.25560  \n\n[5 rows x 21 columns]",
      "text/html": "<div>\n<style scoped>\n    .dataframe tbody tr th:only-of-type {\n        vertical-align: middle;\n    }\n\n    .dataframe tbody tr th {\n        vertical-align: top;\n    }\n\n    .dataframe thead th {\n        text-align: right;\n    }\n</style>\n<table border=\"1\" class=\"dataframe\">\n  <thead>\n    <tr style=\"text-align: right;\">\n      <th></th>\n      <th>gasLimit</th>\n      <th>gasPrice</th>\n      <th>amountIn</th>\n      <th>amountInUSD</th>\n      <th>amountOut</th>\n      <th>amountOutUSD</th>\n      <th>tick</th>\n      <th>timestamp</th>\n      <th>tokenIn</th>\n      <th>tokenOut</th>\n      <th>...</th>\n      <th>trader</th>\n      <th>traderPositionCount</th>\n      <th>traderOpenPositionCount</th>\n      <th>traderClosedPositionCount</th>\n      <th>traderDepositCount</th>\n      <th>traderWithdrawCount</th>\n      <th>traderSwapCount</th>\n      <th>ethAmount</th>\n      <th>usdAmount</th>\n      <th>price</th>\n    </tr>\n  </thead>\n  <tbody>\n    <tr>\n      <th>0</th>\n      <td>8000000</td>\n      <td>400000000</td>\n      <td>18509968</td>\n      <td>18.509968</td>\n      <td>10174988585088354</td>\n      <td>18.500713</td>\n      <td>-201264</td>\n      <td>1684800030</td>\n      <td>USDC</td>\n      <td>WETH</td>\n      <td>...</td>\n      <td>0x112bf8e7431bde9bd9395d44307f788a6e054691</td>\n      <td>0</td>\n      <td>0</td>\n      <td>0</td>\n      <td>3695</td>\n      <td>3695</td>\n      <td>3695</td>\n      <td>0.010175</td>\n      <td>18.500713</td>\n      <td>1818.25389</td>\n    </tr>\n    <tr>\n      <th>1</th>\n      <td>28410397</td>\n      <td>200000000</td>\n      <td>417246407</td>\n      <td>417.246407</td>\n      <td>229361579040734245</td>\n      <td>417.037599</td>\n      <td>-201264</td>\n      <td>1684800044</td>\n      <td>USDC</td>\n      <td>WETH</td>\n      <td>...</td>\n      <td>0x59c5c9045374693b384bc023fdca4685c7ec1a9e</td>\n      <td>0</td>\n      <td>0</td>\n      <td>0</td>\n      <td>5046</td>\n      <td>5046</td>\n      <td>5046</td>\n      <td>0.229362</td>\n      <td>417.037599</td>\n      <td>1818.25396</td>\n    </tr>\n    <tr>\n      <th>2</th>\n      <td>2589363</td>\n      <td>100000000</td>\n      <td>15034268999359802</td>\n      <td>27.336143</td>\n      <td>27322474</td>\n      <td>27.322474</td>\n      <td>-201264</td>\n      <td>1684800056</td>\n      <td>WETH</td>\n      <td>USDC</td>\n      <td>...</td>\n      <td>0x679d1c9f327257c4cec9ebc1c7c750728351e989</td>\n      <td>0</td>\n      <td>0</td>\n      <td>0</td>\n      <td>410</td>\n      <td>410</td>\n      <td>410</td>\n      <td>0.015034</td>\n      <td>27.336143</td>\n      <td>1818.25555</td>\n    </tr>\n    <tr>\n      <th>3</th>\n      <td>6430718</td>\n      <td>100000000</td>\n      <td>40248724</td>\n      <td>40.248724</td>\n      <td>22124832513497315</td>\n      <td>40.228597</td>\n      <td>-201264</td>\n      <td>1684800071</td>\n      <td>USDC</td>\n      <td>WETH</td>\n      <td>...</td>\n      <td>0x2b185c762f6fb49a07116ec06b238b58fe2bec53</td>\n      <td>3</td>\n      <td>3</td>\n      <td>0</td>\n      <td>293</td>\n      <td>297</td>\n      <td>290</td>\n      <td>0.022125</td>\n      <td>40.228597</td>\n      <td>1818.25545</td>\n    </tr>\n    <tr>\n      <th>4</th>\n      <td>2526058</td>\n      <td>150000000</td>\n      <td>54000000000000000</td>\n      <td>98.185802</td>\n      <td>98136699</td>\n      <td>98.136699</td>\n      <td>-201264</td>\n      <td>1684800077</td>\n      <td>WETH</td>\n      <td>USDC</td>\n      <td>...</td>\n      <td>0x23e08e6e721a0a56989c8759afa1841cd07e9565</td>\n      <td>0</td>\n      <td>0</td>\n      <td>0</td>\n      <td>4</td>\n      <td>4</td>\n      <td>4</td>\n      <td>0.054000</td>\n      <td>98.185802</td>\n      <td>1818.25560</td>\n    </tr>\n  </tbody>\n</table>\n<p>5 rows × 21 columns</p>\n</div>"
     },
     "execution_count": 17,
     "metadata": {},
     "output_type": "execute_result"
    }
   ],
   "source": [
    "data = df.to_dict(\"records\")\n",
    "\n",
    "for item in data:\n",
    "    eth_amount, usd_amount, price = get_amount_price(item)\n",
    "    item[\"ethAmount\"] = eth_amount\n",
    "    item[\"usdAmount\"] = usd_amount\n",
    "    item[\"price\"] = price\n",
    "    item.pop(\"id\")\n",
    "\n",
    "df_new = pd.DataFrame(data)\n",
    "df_new.head()"
   ],
   "metadata": {
    "collapsed": false,
    "pycharm": {
     "name": "#%%\n"
    }
   }
  },
  {
   "cell_type": "code",
   "execution_count": 25,
   "outputs": [],
   "source": [
    "df_new.to_csv(\"../data/arb_swap.csv\", index=False)"
   ],
   "metadata": {
    "collapsed": false,
    "pycharm": {
     "name": "#%%\n"
    }
   }
  },
  {
   "cell_type": "code",
   "execution_count": 26,
   "outputs": [
    {
     "name": "stdout",
     "output_type": "stream",
     "text": [
      "Hello\n"
     ]
    }
   ],
   "source": [
    "# 3. Fetch Arb User Swap Data\n",
    "\n"
   ],
   "metadata": {
    "collapsed": false,
    "pycharm": {
     "name": "#%%\n"
    }
   }
  },
  {
   "cell_type": "code",
   "execution_count": null,
   "outputs": [],
   "source": [],
   "metadata": {
    "collapsed": false,
    "pycharm": {
     "name": "#%%\n"
    }
   }
  }
 ],
 "metadata": {
  "kernelspec": {
   "display_name": "Python 3",
   "language": "python",
   "name": "python3"
  },
  "language_info": {
   "codemirror_mode": {
    "name": "ipython",
    "version": 2
   },
   "file_extension": ".py",
   "mimetype": "text/x-python",
   "name": "python",
   "nbconvert_exporter": "python",
   "pygments_lexer": "ipython2",
   "version": "2.7.6"
  }
 },
 "nbformat": 4,
 "nbformat_minor": 0
}