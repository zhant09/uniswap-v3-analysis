{
 "cells": [
  {
   "cell_type": "code",
   "execution_count": 3,
   "outputs": [
    {
     "name": "stdout",
     "output_type": "stream",
     "text": [
      "1682899200\n"
     ]
    }
   ],
   "source": [
    "from datetime import datetime, timezone\n",
    "\n",
    "\n",
    "def date_to_utc_timestamp(c_date):\n",
    "    return int(c_date.replace(tzinfo=timezone.utc).timestamp())\n",
    "\n",
    "\n",
    "def utc_timestamp_to_date(ts):\n",
    "    return datetime.fromtimestamp(ts, tz=timezone.utc)\n",
    "\n",
    "\n",
    "start_date = datetime(2023, 5, 1)\n",
    "print(date_to_utc_timestamp(start_date))\n",
    "# print(utc_timestamp_to_date(1626480000))"
   ],
   "metadata": {
    "collapsed": false,
    "pycharm": {
     "name": "#%%\n"
    }
   }
  },
  {
   "cell_type": "code",
   "execution_count": 11,
   "outputs": [
    {
     "name": "stdout",
     "output_type": "stream",
     "text": [
      "2021-05-01 00:00:00+00:00\n",
      "100\n",
      "2021-08-12 00:00:00+00:00\n",
      "200\n",
      "2021-11-20 00:00:00+00:00\n",
      "300\n",
      "2022-02-28 00:00:00+00:00\n",
      "400\n",
      "2022-06-08 00:00:00+00:00\n",
      "500\n",
      "2022-09-16 00:00:00+00:00\n",
      "600\n",
      "2022-12-25 00:00:00+00:00\n",
      "700\n",
      "2023-04-04 00:00:00+00:00\n",
      "732\n"
     ]
    }
   ],
   "source": [
    "# 1. Fetch Eth Pool Liquidity Data\n",
    "\n",
    "from gql import gql, Client\n",
    "from gql.transport.requests import RequestsHTTPTransport\n",
    "\n",
    "# 0.05% WBTC/ETH pool\n",
    "LOW_POOL_ID = \"0x4585fe77225b41b697c938b018e2ac67ac5a20c0\"\n",
    "# 0.3% WBTC/ETH pool\n",
    "HIGH_POOL_ID = \"0xcbcdf9626bc03e24f779434178a73a0b4bad62ed\"\n",
    "\n",
    "\n",
    "def get_pool_trade_data(pool_id, start_date):\n",
    "    pool_query = \"\"\"\n",
    "    query poolDayDatas($pool_id: ID!, $start_time: Int!,){\n",
    "        poolDayDatas(\n",
    "            where: { pool: $pool_id, date_gt: $start_time }\n",
    "        orderBy: date\n",
    "        orderDirection: asc\n",
    "        ) {\n",
    "            date\n",
    "            # in range liquidity at end of period\n",
    "            liquidity\n",
    "            # current price tracker at end of period\n",
    "            sqrtPrice\n",
    "            # price of token0 - derived from sqrtPrice\n",
    "            tick\n",
    "            # tvl derived in USD at end of period\n",
    "            tvlUSD\n",
    "            # volume in token0\n",
    "            volumeToken0\n",
    "            # volume in token1\n",
    "            volumeToken1\n",
    "            # volume in USD\n",
    "            volumeUSD\n",
    "            # fees in USD\n",
    "            feesUSD\n",
    "            # number of transactions during period\n",
    "            txCount\n",
    "            # opening price of token0\n",
    "            open\n",
    "            # high price of token0\n",
    "            high\n",
    "            # low price of token0\n",
    "            low\n",
    "            # close price of token0\n",
    "            close\n",
    "            }\n",
    "    }\n",
    "    \"\"\"\n",
    "\n",
    "    client = Client(\n",
    "        transport=RequestsHTTPTransport(\n",
    "            url='https://api.thegraph.com/subgraphs/name/uniswap/uniswap-v3',\n",
    "            verify=True,\n",
    "            retries=5,\n",
    "        ))\n",
    "\n",
    "    start_timestamp = date_to_utc_timestamp(start_date)\n",
    "    variables = {\"pool_id\": pool_id, \"start_time\": start_timestamp}\n",
    "    response = client.execute(gql(pool_query), variable_values=variables)\n",
    "    trade_data = response[\"poolDayDatas\"]\n",
    "    trade_all_data = trade_data\n",
    "\n",
    "    while len(trade_data) > 0:\n",
    "        print(utc_timestamp_to_date(start_timestamp))\n",
    "        print(len(trade_all_data))\n",
    "        start_timestamp = trade_data[-1]['date']\n",
    "        variables = {\"pool_id\": pool_id, \"start_time\": start_timestamp}\n",
    "        response = client.execute(gql(pool_query), variable_values=variables)\n",
    "        trade_data = response[\"poolDayDatas\"]\n",
    "        trade_all_data += trade_data\n",
    "\n",
    "    return trade_all_data\n",
    "\n",
    "\n",
    "# the earliest data is from 2021-05-01\n",
    "start_date = datetime(2021, 5, 1)\n",
    "pool_data = get_pool_trade_data(LOW_POOL_ID, start_date)"
   ],
   "metadata": {
    "collapsed": false,
    "pycharm": {
     "name": "#%%\n"
    }
   }
  },
  {
   "cell_type": "code",
   "execution_count": 4,
   "outputs": [
    {
     "data": {
      "text/plain": "         date          liquidity                            sqrtPrice    tick  \\\n0  1620172800                  0                                    0    None   \n1  1620259200     47802696926688  31809195401932648817609369003249547  258071   \n2  1620345600  42425055535734978  32187992991029178621379247853387443  258308   \n3  1620432000   4036037627994723  30814946235335421635470353514297570  257436   \n4  1620518400    672440555897057  30550018995856811291234861690516572  257263   \n\n                                tvlUSD  volumeToken0             volumeToken1  \\\n0                                    0             0                        0   \n1  5146.736482364860299518079151516243    0.01955837     0.316827345146869434   \n2  2073400.162975270801081924615102077   68.18328357  1120.626959335943537703   \n3  1980521.049385023017241543520869319  126.96928506    2072.7905681432721063   \n4  739735.1727825094073093447014429385   10.91169152   163.331111671204485144   \n\n                             volumeUSD                               feesUSD  \\\n0                                    0                                     0   \n1  1102.031018311199696439388175003343  0.5510155091555998482196940875016715   \n2   3922263.61944071584148036405495539   1961.131809720357920740182027477691   \n3  7443618.326347876067605645380688426   3721.809163173938033802822690344206   \n4  634883.3690065130877645983992275799   317.4416845032565438822991996137902   \n\n  txCount                                   open  \\\n0       2                                      0   \n1      16  0.05998654715076262372902751818670286   \n2     227  0.06203743019377815473808300194149325   \n3     257  0.06058403976932998513307639824064359   \n4      99  0.06609184203913069571728478548803438   \n\n                                    high  \\\n0                                      0   \n1  0.06243654451824971693450264979198528   \n2  0.06203743019377815473808300194149325   \n3  0.06669932160003833798769060727416865   \n4  0.06830342385985722044198599944892239   \n\n                                     low  \\\n0                                      0   \n1  0.05998654715076262372902751818670286   \n2  0.06010084251900176152287862020188552   \n3  0.06004384605589742079211220851145031   \n4   0.0653848260519338954289133091895779   \n\n                                   close  \n0                                      0  \n1  0.05998654715076262372902751818670286  \n2  0.06203743019377815473808300194149325  \n3  0.06058403976932998513307639824064359  \n4  0.06609184203913069571728478548803438  ",
      "text/html": "<div>\n<style scoped>\n    .dataframe tbody tr th:only-of-type {\n        vertical-align: middle;\n    }\n\n    .dataframe tbody tr th {\n        vertical-align: top;\n    }\n\n    .dataframe thead th {\n        text-align: right;\n    }\n</style>\n<table border=\"1\" class=\"dataframe\">\n  <thead>\n    <tr style=\"text-align: right;\">\n      <th></th>\n      <th>date</th>\n      <th>liquidity</th>\n      <th>sqrtPrice</th>\n      <th>tick</th>\n      <th>tvlUSD</th>\n      <th>volumeToken0</th>\n      <th>volumeToken1</th>\n      <th>volumeUSD</th>\n      <th>feesUSD</th>\n      <th>txCount</th>\n      <th>open</th>\n      <th>high</th>\n      <th>low</th>\n      <th>close</th>\n    </tr>\n  </thead>\n  <tbody>\n    <tr>\n      <th>0</th>\n      <td>1620172800</td>\n      <td>0</td>\n      <td>0</td>\n      <td>None</td>\n      <td>0</td>\n      <td>0</td>\n      <td>0</td>\n      <td>0</td>\n      <td>0</td>\n      <td>2</td>\n      <td>0</td>\n      <td>0</td>\n      <td>0</td>\n      <td>0</td>\n    </tr>\n    <tr>\n      <th>1</th>\n      <td>1620259200</td>\n      <td>47802696926688</td>\n      <td>31809195401932648817609369003249547</td>\n      <td>258071</td>\n      <td>5146.736482364860299518079151516243</td>\n      <td>0.01955837</td>\n      <td>0.316827345146869434</td>\n      <td>1102.031018311199696439388175003343</td>\n      <td>0.5510155091555998482196940875016715</td>\n      <td>16</td>\n      <td>0.05998654715076262372902751818670286</td>\n      <td>0.06243654451824971693450264979198528</td>\n      <td>0.05998654715076262372902751818670286</td>\n      <td>0.05998654715076262372902751818670286</td>\n    </tr>\n    <tr>\n      <th>2</th>\n      <td>1620345600</td>\n      <td>42425055535734978</td>\n      <td>32187992991029178621379247853387443</td>\n      <td>258308</td>\n      <td>2073400.162975270801081924615102077</td>\n      <td>68.18328357</td>\n      <td>1120.626959335943537703</td>\n      <td>3922263.61944071584148036405495539</td>\n      <td>1961.131809720357920740182027477691</td>\n      <td>227</td>\n      <td>0.06203743019377815473808300194149325</td>\n      <td>0.06203743019377815473808300194149325</td>\n      <td>0.06010084251900176152287862020188552</td>\n      <td>0.06203743019377815473808300194149325</td>\n    </tr>\n    <tr>\n      <th>3</th>\n      <td>1620432000</td>\n      <td>4036037627994723</td>\n      <td>30814946235335421635470353514297570</td>\n      <td>257436</td>\n      <td>1980521.049385023017241543520869319</td>\n      <td>126.96928506</td>\n      <td>2072.7905681432721063</td>\n      <td>7443618.326347876067605645380688426</td>\n      <td>3721.809163173938033802822690344206</td>\n      <td>257</td>\n      <td>0.06058403976932998513307639824064359</td>\n      <td>0.06669932160003833798769060727416865</td>\n      <td>0.06004384605589742079211220851145031</td>\n      <td>0.06058403976932998513307639824064359</td>\n    </tr>\n    <tr>\n      <th>4</th>\n      <td>1620518400</td>\n      <td>672440555897057</td>\n      <td>30550018995856811291234861690516572</td>\n      <td>257263</td>\n      <td>739735.1727825094073093447014429385</td>\n      <td>10.91169152</td>\n      <td>163.331111671204485144</td>\n      <td>634883.3690065130877645983992275799</td>\n      <td>317.4416845032565438822991996137902</td>\n      <td>99</td>\n      <td>0.06609184203913069571728478548803438</td>\n      <td>0.06830342385985722044198599944892239</td>\n      <td>0.0653848260519338954289133091895779</td>\n      <td>0.06609184203913069571728478548803438</td>\n    </tr>\n  </tbody>\n</table>\n</div>"
     },
     "execution_count": 4,
     "metadata": {},
     "output_type": "execute_result"
    }
   ],
   "source": [
    "import pandas as pd\n",
    "\n",
    "uniswap_df = pd.DataFrame(pool_data)\n",
    "uniswap_df.head()"
   ],
   "metadata": {
    "collapsed": false,
    "pycharm": {
     "name": "#%%\n"
    }
   }
  },
  {
   "cell_type": "code",
   "execution_count": 5,
   "outputs": [],
   "source": [
    "uniswap_df.to_csv(\"../data/wbtc_eth_0.05_uniswap_data.csv\", index=False)"
   ],
   "metadata": {
    "collapsed": false,
    "pycharm": {
     "name": "#%%\n"
    }
   }
  },
  {
   "cell_type": "code",
   "execution_count": 10,
   "outputs": [
    {
     "name": "stdout",
     "output_type": "stream",
     "text": [
      "2021-05-01 00:00:00+00:00\n",
      "100\n",
      "2021-08-11 00:00:00+00:00\n",
      "200\n",
      "2021-11-19 00:00:00+00:00\n",
      "300\n",
      "2022-02-27 00:00:00+00:00\n",
      "400\n",
      "2022-06-07 00:00:00+00:00\n",
      "500\n",
      "2022-09-15 00:00:00+00:00\n",
      "600\n",
      "2022-12-24 00:00:00+00:00\n",
      "700\n",
      "2023-04-03 00:00:00+00:00\n",
      "733\n"
     ]
    }
   ],
   "source": [
    "pool_data1 = get_pool_trade_data(HIGH_POOL_ID, start_date)\n",
    "uniswap_df1 = pd.DataFrame(pool_data1)\n",
    "uniswap_df1.to_csv(\"../data/wbtc_eth_0.3_uniswap_data.csv\", index=False)"
   ],
   "metadata": {
    "collapsed": false,
    "pycharm": {
     "name": "#%%\n"
    }
   }
  },
  {
   "cell_type": "code",
   "execution_count": 1,
   "outputs": [],
   "source": [
    "# 2. Fetch Arb Swap Period Data\n",
    "\n",
    "from datetime import datetime\n",
    "from utils import utils\n",
    "\n",
    "\n",
    "start_timestamp = utils.date_to_utc_timestamp(datetime(2023, 5, 28, 0, 0))\n",
    "end_timestamp = utils.date_to_utc_timestamp(datetime(2023, 5, 30, 0, 0))"
   ],
   "metadata": {
    "collapsed": false,
    "pycharm": {
     "name": "#%%\n"
    }
   }
  },
  {
   "cell_type": "code",
   "execution_count": 2,
   "outputs": [
    {
     "name": "stdout",
     "output_type": "stream",
     "text": [
      "0x13875c5e00916a733dbf870b03f29c7c0e2b575294ea3c17e3a123540b281eca0b000000\n"
     ]
    }
   ],
   "source": [
    "import pandas as pd\n",
    "\n",
    "arb_uniswap_df = pd.read_csv(\"../data/arb_swap_0523_0528.csv\")\n",
    "id_list = arb_uniswap_df[\"id\"].tolist()\n",
    "print(id_list[0])"
   ],
   "metadata": {
    "collapsed": false,
    "pycharm": {
     "name": "#%%\n"
    }
   }
  },
  {
   "cell_type": "code",
   "execution_count": 3,
   "outputs": [
    {
     "name": "stdout",
     "output_type": "stream",
     "text": [
      "100\n"
     ]
    }
   ],
   "source": [
    "# ARB graphQL\n",
    "from gql import gql, Client\n",
    "from gql.transport.requests import RequestsHTTPTransport\n",
    "\n",
    "\n",
    "arb_query = \"\"\"\n",
    "query {\n",
    "    swaps(skip: %d, orderBy: timestamp, orderDirection: asc,\n",
    "        where: { pool: \"0xc31e54c7a869b9fcbecc14363cf510d1c41fa443\", timestamp_gte: %d }){\n",
    "            id\n",
    "            account {\n",
    "                id\n",
    "                positionCount\n",
    "                openPositionCount\n",
    "                closedPositionCount\n",
    "                depositCount\n",
    "                withdrawCount\n",
    "                swapCount\n",
    "            }\n",
    "            gasLimit\n",
    "            gasPrice\n",
    "            amountIn\n",
    "            amountInUSD\n",
    "            amountOut\n",
    "            amountOutUSD\n",
    "            tick\n",
    "            timestamp\n",
    "            tokenIn {\n",
    "                symbol\n",
    "            }\n",
    "            tokenOut {\n",
    "                symbol\n",
    "            }\n",
    "    }\n",
    "}\n",
    "\"\"\"\n",
    "\n",
    "\n",
    "client = Client(\n",
    "    transport=RequestsHTTPTransport(\n",
    "        url='https://api.thegraph.com/subgraphs/name/messari/uniswap-v3-arbitrum',\n",
    "        verify=True,\n",
    "        retries=5,\n",
    "    ))\n",
    "\n",
    "# # variables = { \"num_skip\": 0, \"start_timestamp\": 1684460940 }\n",
    "# # response = client.execute(gql(arb_query), variable_values=variables)\n",
    "response = client.execute(gql(arb_query % (0, start_timestamp)))\n",
    "print(len(response[\"swaps\"]))"
   ],
   "metadata": {
    "collapsed": false,
    "pycharm": {
     "name": "#%%\n"
    }
   }
  },
  {
   "cell_type": "code",
   "execution_count": 4,
   "outputs": [
    {
     "name": "stdout",
     "output_type": "stream",
     "text": [
      "2023-05-30 09:38:53.015469 result cnt: 100 id cnt: 68938 skip:  0\n",
      "Current time:  2023-05-28 00:16:27+00:00\n",
      "2023-05-30 09:39:37.399397 result cnt: 1057 id cnt: 69895 skip:  0\n",
      "Current time:  2023-05-28 00:58:53+00:00\n",
      "2023-05-30 09:40:23.179774 result cnt: 2045 id cnt: 70883 skip:  0\n",
      "Current time:  2023-05-28 03:10:10+00:00\n",
      "2023-05-30 09:41:09.920128 result cnt: 3028 id cnt: 71866 skip:  0\n",
      "Current time:  2023-05-28 05:09:12+00:00\n",
      "2023-05-30 09:41:55.994083 result cnt: 4011 id cnt: 72849 skip:  0\n",
      "Current time:  2023-05-28 08:22:33+00:00\n",
      "2023-05-30 09:42:45.515943 result cnt: 5098 id cnt: 73936 skip:  0\n",
      "Current time:  2023-05-28 10:52:32+00:00\n",
      "2023-05-30 09:43:31.016815 result cnt: 6082 id cnt: 74920 skip:  0\n",
      "Current time:  2023-05-28 12:46:04+00:00\n",
      "2023-05-30 09:44:15.412316 result cnt: 7069 id cnt: 75907 skip:  0\n",
      "Current time:  2023-05-28 15:05:32+00:00\n",
      "2023-05-30 09:44:59.191941 result cnt: 8056 id cnt: 76894 skip:  0\n",
      "Current time:  2023-05-28 17:45:30+00:00\n",
      "2023-05-30 09:45:47.355301 result cnt: 9040 id cnt: 77878 skip:  0\n",
      "Current time:  2023-05-28 18:55:32+00:00\n",
      "2023-05-30 09:46:32.491146 result cnt: 10026 id cnt: 78864 skip:  0\n",
      "Current time:  2023-05-28 21:25:28+00:00\n",
      "2023-05-30 09:47:20.954576 result cnt: 11049 id cnt: 79887 skip:  0\n",
      "Current time:  2023-05-28 22:02:25+00:00\n",
      "2023-05-30 09:48:05.015261 result cnt: 12011 id cnt: 80849 skip:  0\n",
      "Current time:  2023-05-28 22:30:17+00:00\n",
      "2023-05-30 09:48:53.258129 result cnt: 13093 id cnt: 81931 skip:  0\n",
      "Current time:  2023-05-29 00:13:02+00:00\n",
      "2023-05-30 09:49:37.702406 result cnt: 14052 id cnt: 82890 skip:  0\n",
      "Current time:  2023-05-29 01:04:25+00:00\n",
      "2023-05-30 09:50:21.626434 result cnt: 15040 id cnt: 83878 skip:  0\n",
      "Current time:  2023-05-29 02:50:39+00:00\n",
      "2023-05-30 09:51:06.825916 result cnt: 16028 id cnt: 84866 skip:  0\n",
      "Current time:  2023-05-29 04:02:52+00:00\n",
      "2023-05-30 09:51:50.841060 result cnt: 17013 id cnt: 85851 skip:  0\n",
      "Current time:  2023-05-29 05:38:21+00:00\n",
      "2023-05-30 09:52:35.565336 result cnt: 18001 id cnt: 86839 skip:  0\n",
      "Current time:  2023-05-29 07:29:12+00:00\n",
      "2023-05-30 09:53:25.005149 result cnt: 19061 id cnt: 87899 skip:  0\n",
      "Current time:  2023-05-29 08:50:56+00:00\n",
      "2023-05-30 09:54:08.877158 result cnt: 20051 id cnt: 88889 skip:  0\n",
      "Current time:  2023-05-29 10:42:34+00:00\n",
      "2023-05-30 09:54:53.392050 result cnt: 21031 id cnt: 89869 skip:  0\n",
      "Current time:  2023-05-29 12:20:08+00:00\n",
      "2023-05-30 09:55:38.687656 result cnt: 22006 id cnt: 90844 skip:  0\n",
      "Current time:  2023-05-29 14:20:10+00:00\n",
      "2023-05-30 09:56:26.547965 result cnt: 23093 id cnt: 91931 skip:  0\n",
      "Current time:  2023-05-29 15:23:06+00:00\n",
      "2023-05-30 09:57:10.126904 result cnt: 24073 id cnt: 92911 skip:  0\n",
      "Current time:  2023-05-29 16:08:54+00:00\n",
      "2023-05-30 09:57:54.638375 result cnt: 25039 id cnt: 93877 skip:  0\n",
      "Current time:  2023-05-29 17:08:39+00:00\n",
      "2023-05-30 09:58:38.891113 result cnt: 26017 id cnt: 94855 skip:  0\n",
      "Current time:  2023-05-29 18:58:29+00:00\n",
      "2023-05-30 09:59:23.583684 result cnt: 27006 id cnt: 95844 skip:  0\n",
      "Current time:  2023-05-29 21:46:31+00:00\n",
      "2023-05-30 10:00:12.235281 result cnt: 28036 id cnt: 96874 skip:  0\n",
      "Current time:  2023-05-29 23:59:38+00:00\n"
     ]
    }
   ],
   "source": [
    "result = response['swaps']\n",
    "id_set = set(id_list)\n",
    "print_set = set()\n",
    "PRINT_GAP = 1000\n",
    "\n",
    "for item in result:\n",
    "    id_set.add(item[\"id\"])\n",
    "\n",
    "# more than 100 swap transactions happened in a second, will need to change skip count\n",
    "skip = 0\n",
    "last_cnt = 0\n",
    "while int(result[-1][\"timestamp\"]) <= end_timestamp:\n",
    "    if skip == 1000:\n",
    "        break\n",
    "    last_cnt = len(result)\n",
    "\n",
    "    print_cnt = int(len(result) / PRINT_GAP)\n",
    "    if print_cnt not in print_set:\n",
    "        print_set.add(print_cnt)\n",
    "        print(datetime.now(), \"result cnt:\", len(result), \"id cnt:\", len(id_set), \"skip: \", skip)\n",
    "        print(\"Current time: \", utils.utc_timestamp_to_date(int(result[-1][\"timestamp\"])))\n",
    "\n",
    "    current_timestamp = int(result[-1][\"timestamp\"])\n",
    "    query = arb_query % (skip, current_timestamp)\n",
    "    try:\n",
    "        response = client.execute(gql(query))\n",
    "\n",
    "        swap_data = response[\"swaps\"]\n",
    "        if len(swap_data) == 0:\n",
    "            break\n",
    "        for item in swap_data:\n",
    "            if int(item[\"timestamp\"]) > end_timestamp:\n",
    "                break\n",
    "            elif item[\"id\"] in id_set:\n",
    "                continue\n",
    "            else:\n",
    "                result.append(item)\n",
    "                id_set.add(item[\"id\"])\n",
    "\n",
    "        if last_cnt == len(result):\n",
    "            skip += 100\n",
    "        else:\n",
    "            skip = 0\n",
    "    except Exception as ex:\n",
    "        print(\"Fetching swap data error\", ex)"
   ],
   "metadata": {
    "collapsed": false,
    "pycharm": {
     "name": "#%%\n"
    }
   }
  },
  {
   "cell_type": "code",
   "execution_count": 5,
   "outputs": [
    {
     "data": {
      "text/plain": "                                                  id  gasLimit   gasPrice  \\\n0  0x13875c5e00916a733dbf870b03f29c7c0e2b575294ea...   8000000  400000000   \n1  0xa629bdac51ec7b793a04193f87006f0ff4ae910f8025...  28410397  200000000   \n2  0x38d8de741acaf8f47d3e1692926b7a663e93b6fc0e4b...   2589363  100000000   \n3  0x452dd1fbd5a7c6d03880cd92be8bc35646422b627c34...   6430718  100000000   \n4  0x7ffaad3f6e94d4e7d19df8b5f8c808512918acccf5f1...   2526058  150000000   \n\n            amountIn amountInUSD           amountOut amountOutUSD     tick  \\\n0           18509968   18.509968   10174988585088354    18.500713  -201264   \n1          417246407  417.246407  229361579040734245   417.037599  -201264   \n2  15034268999359802   27.336143            27322474    27.322474  -201264   \n3           40248724   40.248724   22124832513497315    40.228597  -201264   \n4  54000000000000000   98.185802            98136699    98.136699  -201264   \n\n    timestamp tokenIn tokenOut  \\\n0  1684800030    USDC     WETH   \n1  1684800044    USDC     WETH   \n2  1684800056    WETH     USDC   \n3  1684800071    USDC     WETH   \n4  1684800077    WETH     USDC   \n\n                                         transaction  \\\n0  0x13875c5e00916a733dbf870b03f29c7c0e2b575294ea...   \n1  0xa629bdac51ec7b793a04193f87006f0ff4ae910f8025...   \n2  0x38d8de741acaf8f47d3e1692926b7a663e93b6fc0e4b...   \n3  0x452dd1fbd5a7c6d03880cd92be8bc35646422b627c34...   \n4  0x7ffaad3f6e94d4e7d19df8b5f8c808512918acccf5f1...   \n\n                                       trader  traderPositionCount  \\\n0  0x112bf8e7431bde9bd9395d44307f788a6e054691                    0   \n1  0x59c5c9045374693b384bc023fdca4685c7ec1a9e                    0   \n2  0x679d1c9f327257c4cec9ebc1c7c750728351e989                    0   \n3  0x2b185c762f6fb49a07116ec06b238b58fe2bec53                    3   \n4  0x23e08e6e721a0a56989c8759afa1841cd07e9565                    0   \n\n   traderOpenPositionCount  traderClosedPositionCount  traderDepositCount  \\\n0                        0                          0                3695   \n1                        0                          0                5046   \n2                        0                          0                 410   \n3                        3                          0                 293   \n4                        0                          0                   4   \n\n   traderWithdrawCount  traderSwapCount  \n0                 3695             3695  \n1                 5046             5046  \n2                  410              410  \n3                  297              290  \n4                    4                4  ",
      "text/html": "<div>\n<style scoped>\n    .dataframe tbody tr th:only-of-type {\n        vertical-align: middle;\n    }\n\n    .dataframe tbody tr th {\n        vertical-align: top;\n    }\n\n    .dataframe thead th {\n        text-align: right;\n    }\n</style>\n<table border=\"1\" class=\"dataframe\">\n  <thead>\n    <tr style=\"text-align: right;\">\n      <th></th>\n      <th>id</th>\n      <th>gasLimit</th>\n      <th>gasPrice</th>\n      <th>amountIn</th>\n      <th>amountInUSD</th>\n      <th>amountOut</th>\n      <th>amountOutUSD</th>\n      <th>tick</th>\n      <th>timestamp</th>\n      <th>tokenIn</th>\n      <th>tokenOut</th>\n      <th>transaction</th>\n      <th>trader</th>\n      <th>traderPositionCount</th>\n      <th>traderOpenPositionCount</th>\n      <th>traderClosedPositionCount</th>\n      <th>traderDepositCount</th>\n      <th>traderWithdrawCount</th>\n      <th>traderSwapCount</th>\n    </tr>\n  </thead>\n  <tbody>\n    <tr>\n      <th>0</th>\n      <td>0x13875c5e00916a733dbf870b03f29c7c0e2b575294ea...</td>\n      <td>8000000</td>\n      <td>400000000</td>\n      <td>18509968</td>\n      <td>18.509968</td>\n      <td>10174988585088354</td>\n      <td>18.500713</td>\n      <td>-201264</td>\n      <td>1684800030</td>\n      <td>USDC</td>\n      <td>WETH</td>\n      <td>0x13875c5e00916a733dbf870b03f29c7c0e2b575294ea...</td>\n      <td>0x112bf8e7431bde9bd9395d44307f788a6e054691</td>\n      <td>0</td>\n      <td>0</td>\n      <td>0</td>\n      <td>3695</td>\n      <td>3695</td>\n      <td>3695</td>\n    </tr>\n    <tr>\n      <th>1</th>\n      <td>0xa629bdac51ec7b793a04193f87006f0ff4ae910f8025...</td>\n      <td>28410397</td>\n      <td>200000000</td>\n      <td>417246407</td>\n      <td>417.246407</td>\n      <td>229361579040734245</td>\n      <td>417.037599</td>\n      <td>-201264</td>\n      <td>1684800044</td>\n      <td>USDC</td>\n      <td>WETH</td>\n      <td>0xa629bdac51ec7b793a04193f87006f0ff4ae910f8025...</td>\n      <td>0x59c5c9045374693b384bc023fdca4685c7ec1a9e</td>\n      <td>0</td>\n      <td>0</td>\n      <td>0</td>\n      <td>5046</td>\n      <td>5046</td>\n      <td>5046</td>\n    </tr>\n    <tr>\n      <th>2</th>\n      <td>0x38d8de741acaf8f47d3e1692926b7a663e93b6fc0e4b...</td>\n      <td>2589363</td>\n      <td>100000000</td>\n      <td>15034268999359802</td>\n      <td>27.336143</td>\n      <td>27322474</td>\n      <td>27.322474</td>\n      <td>-201264</td>\n      <td>1684800056</td>\n      <td>WETH</td>\n      <td>USDC</td>\n      <td>0x38d8de741acaf8f47d3e1692926b7a663e93b6fc0e4b...</td>\n      <td>0x679d1c9f327257c4cec9ebc1c7c750728351e989</td>\n      <td>0</td>\n      <td>0</td>\n      <td>0</td>\n      <td>410</td>\n      <td>410</td>\n      <td>410</td>\n    </tr>\n    <tr>\n      <th>3</th>\n      <td>0x452dd1fbd5a7c6d03880cd92be8bc35646422b627c34...</td>\n      <td>6430718</td>\n      <td>100000000</td>\n      <td>40248724</td>\n      <td>40.248724</td>\n      <td>22124832513497315</td>\n      <td>40.228597</td>\n      <td>-201264</td>\n      <td>1684800071</td>\n      <td>USDC</td>\n      <td>WETH</td>\n      <td>0x452dd1fbd5a7c6d03880cd92be8bc35646422b627c34...</td>\n      <td>0x2b185c762f6fb49a07116ec06b238b58fe2bec53</td>\n      <td>3</td>\n      <td>3</td>\n      <td>0</td>\n      <td>293</td>\n      <td>297</td>\n      <td>290</td>\n    </tr>\n    <tr>\n      <th>4</th>\n      <td>0x7ffaad3f6e94d4e7d19df8b5f8c808512918acccf5f1...</td>\n      <td>2526058</td>\n      <td>150000000</td>\n      <td>54000000000000000</td>\n      <td>98.185802</td>\n      <td>98136699</td>\n      <td>98.136699</td>\n      <td>-201264</td>\n      <td>1684800077</td>\n      <td>WETH</td>\n      <td>USDC</td>\n      <td>0x7ffaad3f6e94d4e7d19df8b5f8c808512918acccf5f1...</td>\n      <td>0x23e08e6e721a0a56989c8759afa1841cd07e9565</td>\n      <td>0</td>\n      <td>0</td>\n      <td>0</td>\n      <td>4</td>\n      <td>4</td>\n      <td>4</td>\n    </tr>\n  </tbody>\n</table>\n</div>"
     },
     "execution_count": 5,
     "metadata": {},
     "output_type": "execute_result"
    }
   ],
   "source": [
    "import pandas as pd\n",
    "from copy import deepcopy\n",
    "\n",
    "\n",
    "arb_result = deepcopy(result)\n",
    "for item in arb_result:\n",
    "    item[\"transaction\"] = item[\"id\"]\n",
    "    item[\"trader\"] = item[\"account\"][\"id\"]\n",
    "    item[\"traderPositionCount\"] = item[\"account\"][\"positionCount\"]\n",
    "    item[\"traderOpenPositionCount\"] = item[\"account\"][\"openPositionCount\"]\n",
    "    item[\"traderClosedPositionCount\"] = item[\"account\"][\"closedPositionCount\"]\n",
    "    item[\"traderDepositCount\"] = item[\"account\"][\"depositCount\"]\n",
    "    item[\"traderWithdrawCount\"] = item[\"account\"][\"withdrawCount\"]\n",
    "    item[\"traderSwapCount\"] = item[\"account\"][\"swapCount\"]\n",
    "    item[\"tokenIn\"] = item[\"tokenIn\"][\"symbol\"]\n",
    "    item[\"tokenOut\"] = item[\"tokenOut\"][\"symbol\"]\n",
    "    item.pop(\"account\")\n",
    "\n",
    "arb_uniswap_df1 = pd.DataFrame(arb_result)\n",
    "df = pd.concat([arb_uniswap_df, arb_uniswap_df1])\n",
    "df.head()"
   ],
   "metadata": {
    "collapsed": false,
    "pycharm": {
     "name": "#%%\n"
    }
   }
  },
  {
   "cell_type": "code",
   "execution_count": 11,
   "outputs": [],
   "source": [
    "def get_amount_price(swap_item):\n",
    "    if swap_item[\"tokenIn\"] == \"WETH\":\n",
    "        eth_amount = int(swap_item[\"amountIn\"]) / (10 ** 18)\n",
    "        usd = float(swap_item[\"amountInUSD\"])\n",
    "    else:\n",
    "        eth_amount = int(swap_item[\"amountOut\"]) / (10 ** 18)\n",
    "        usd = float(swap_item[\"amountOutUSD\"])\n",
    "\n",
    "    if eth_amount != 0:\n",
    "        return eth_amount, usd, usd / eth_amount\n",
    "\n",
    "    return eth_amount, usd, None"
   ],
   "metadata": {
    "collapsed": false,
    "pycharm": {
     "name": "#%%\n"
    }
   }
  },
  {
   "cell_type": "code",
   "execution_count": 17,
   "outputs": [
    {
     "data": {
      "text/plain": "   gasLimit   gasPrice           amountIn amountInUSD           amountOut  \\\n0   8000000  400000000           18509968   18.509968   10174988585088354   \n1  28410397  200000000          417246407  417.246407  229361579040734245   \n2   2589363  100000000  15034268999359802   27.336143            27322474   \n3   6430718  100000000           40248724   40.248724   22124832513497315   \n4   2526058  150000000  54000000000000000   98.185802            98136699   \n\n  amountOutUSD     tick   timestamp tokenIn tokenOut  ...  \\\n0    18.500713  -201264  1684800030    USDC     WETH  ...   \n1   417.037599  -201264  1684800044    USDC     WETH  ...   \n2    27.322474  -201264  1684800056    WETH     USDC  ...   \n3    40.228597  -201264  1684800071    USDC     WETH  ...   \n4    98.136699  -201264  1684800077    WETH     USDC  ...   \n\n                                       trader traderPositionCount  \\\n0  0x112bf8e7431bde9bd9395d44307f788a6e054691                   0   \n1  0x59c5c9045374693b384bc023fdca4685c7ec1a9e                   0   \n2  0x679d1c9f327257c4cec9ebc1c7c750728351e989                   0   \n3  0x2b185c762f6fb49a07116ec06b238b58fe2bec53                   3   \n4  0x23e08e6e721a0a56989c8759afa1841cd07e9565                   0   \n\n   traderOpenPositionCount  traderClosedPositionCount  traderDepositCount  \\\n0                        0                          0                3695   \n1                        0                          0                5046   \n2                        0                          0                 410   \n3                        3                          0                 293   \n4                        0                          0                   4   \n\n   traderWithdrawCount  traderSwapCount  ethAmount   usdAmount       price  \n0                 3695             3695   0.010175   18.500713  1818.25389  \n1                 5046             5046   0.229362  417.037599  1818.25396  \n2                  410              410   0.015034   27.336143  1818.25555  \n3                  297              290   0.022125   40.228597  1818.25545  \n4                    4                4   0.054000   98.185802  1818.25560  \n\n[5 rows x 21 columns]",
      "text/html": "<div>\n<style scoped>\n    .dataframe tbody tr th:only-of-type {\n        vertical-align: middle;\n    }\n\n    .dataframe tbody tr th {\n        vertical-align: top;\n    }\n\n    .dataframe thead th {\n        text-align: right;\n    }\n</style>\n<table border=\"1\" class=\"dataframe\">\n  <thead>\n    <tr style=\"text-align: right;\">\n      <th></th>\n      <th>gasLimit</th>\n      <th>gasPrice</th>\n      <th>amountIn</th>\n      <th>amountInUSD</th>\n      <th>amountOut</th>\n      <th>amountOutUSD</th>\n      <th>tick</th>\n      <th>timestamp</th>\n      <th>tokenIn</th>\n      <th>tokenOut</th>\n      <th>...</th>\n      <th>trader</th>\n      <th>traderPositionCount</th>\n      <th>traderOpenPositionCount</th>\n      <th>traderClosedPositionCount</th>\n      <th>traderDepositCount</th>\n      <th>traderWithdrawCount</th>\n      <th>traderSwapCount</th>\n      <th>ethAmount</th>\n      <th>usdAmount</th>\n      <th>price</th>\n    </tr>\n  </thead>\n  <tbody>\n    <tr>\n      <th>0</th>\n      <td>8000000</td>\n      <td>400000000</td>\n      <td>18509968</td>\n      <td>18.509968</td>\n      <td>10174988585088354</td>\n      <td>18.500713</td>\n      <td>-201264</td>\n      <td>1684800030</td>\n      <td>USDC</td>\n      <td>WETH</td>\n      <td>...</td>\n      <td>0x112bf8e7431bde9bd9395d44307f788a6e054691</td>\n      <td>0</td>\n      <td>0</td>\n      <td>0</td>\n      <td>3695</td>\n      <td>3695</td>\n      <td>3695</td>\n      <td>0.010175</td>\n      <td>18.500713</td>\n      <td>1818.25389</td>\n    </tr>\n    <tr>\n      <th>1</th>\n      <td>28410397</td>\n      <td>200000000</td>\n      <td>417246407</td>\n      <td>417.246407</td>\n      <td>229361579040734245</td>\n      <td>417.037599</td>\n      <td>-201264</td>\n      <td>1684800044</td>\n      <td>USDC</td>\n      <td>WETH</td>\n      <td>...</td>\n      <td>0x59c5c9045374693b384bc023fdca4685c7ec1a9e</td>\n      <td>0</td>\n      <td>0</td>\n      <td>0</td>\n      <td>5046</td>\n      <td>5046</td>\n      <td>5046</td>\n      <td>0.229362</td>\n      <td>417.037599</td>\n      <td>1818.25396</td>\n    </tr>\n    <tr>\n      <th>2</th>\n      <td>2589363</td>\n      <td>100000000</td>\n      <td>15034268999359802</td>\n      <td>27.336143</td>\n      <td>27322474</td>\n      <td>27.322474</td>\n      <td>-201264</td>\n      <td>1684800056</td>\n      <td>WETH</td>\n      <td>USDC</td>\n      <td>...</td>\n      <td>0x679d1c9f327257c4cec9ebc1c7c750728351e989</td>\n      <td>0</td>\n      <td>0</td>\n      <td>0</td>\n      <td>410</td>\n      <td>410</td>\n      <td>410</td>\n      <td>0.015034</td>\n      <td>27.336143</td>\n      <td>1818.25555</td>\n    </tr>\n    <tr>\n      <th>3</th>\n      <td>6430718</td>\n      <td>100000000</td>\n      <td>40248724</td>\n      <td>40.248724</td>\n      <td>22124832513497315</td>\n      <td>40.228597</td>\n      <td>-201264</td>\n      <td>1684800071</td>\n      <td>USDC</td>\n      <td>WETH</td>\n      <td>...</td>\n      <td>0x2b185c762f6fb49a07116ec06b238b58fe2bec53</td>\n      <td>3</td>\n      <td>3</td>\n      <td>0</td>\n      <td>293</td>\n      <td>297</td>\n      <td>290</td>\n      <td>0.022125</td>\n      <td>40.228597</td>\n      <td>1818.25545</td>\n    </tr>\n    <tr>\n      <th>4</th>\n      <td>2526058</td>\n      <td>150000000</td>\n      <td>54000000000000000</td>\n      <td>98.185802</td>\n      <td>98136699</td>\n      <td>98.136699</td>\n      <td>-201264</td>\n      <td>1684800077</td>\n      <td>WETH</td>\n      <td>USDC</td>\n      <td>...</td>\n      <td>0x23e08e6e721a0a56989c8759afa1841cd07e9565</td>\n      <td>0</td>\n      <td>0</td>\n      <td>0</td>\n      <td>4</td>\n      <td>4</td>\n      <td>4</td>\n      <td>0.054000</td>\n      <td>98.185802</td>\n      <td>1818.25560</td>\n    </tr>\n  </tbody>\n</table>\n<p>5 rows × 21 columns</p>\n</div>"
     },
     "execution_count": 17,
     "metadata": {},
     "output_type": "execute_result"
    }
   ],
   "source": [
    "data = df.to_dict(\"records\")\n",
    "\n",
    "for item in data:\n",
    "    eth_amount, usd_amount, price = get_amount_price(item)\n",
    "    item[\"ethAmount\"] = eth_amount\n",
    "    item[\"usdAmount\"] = usd_amount\n",
    "    item[\"price\"] = price\n",
    "    item.pop(\"id\")\n",
    "\n",
    "df_new = pd.DataFrame(data)\n",
    "df_new.head()"
   ],
   "metadata": {
    "collapsed": false,
    "pycharm": {
     "name": "#%%\n"
    }
   }
  },
  {
   "cell_type": "code",
   "execution_count": 25,
   "outputs": [],
   "source": [
    "df_new.to_csv(\"../data/arb_swap.csv\", index=False)"
   ],
   "metadata": {
    "collapsed": false,
    "pycharm": {
     "name": "#%%\n"
    }
   }
  },
  {
   "cell_type": "code",
   "execution_count": 4,
   "outputs": [
    {
     "name": "stdout",
     "output_type": "stream",
     "text": [
      "[{'id': '0x4163f1437cefc0b6c73e00c8db819ea92aa07395a1a666250da730c3cb8b7ade03000000', 'amountIn': '3516117741730628903', 'amountInUSD': '5174.51464616665305507211904', 'amountOut': '5170663639', 'amountOutUSD': '5170.663639', 'gasLimit': '3000000', 'gasPrice': '2000000000', 'tick': '-203382', 'timestamp': '1676306229', 'pool': {'id': '0xc31e54c7a869b9fcbecc14363cf510d1c41fa443'}, 'tokenIn': {'symbol': 'WETH'}, 'tokenOut': {'symbol': 'USDC'}}, {'id': '0x058d12a79ee20e82379e5d0b2b1eeeaaa2988768244d1ff805265603eb96d5b70e000000', 'amountIn': '4186892251423356044', 'amountInUSD': '6158.12730481500526913236532', 'amountOut': '6154400504', 'amountOutUSD': '6154.400504', 'gasLimit': '3000000', 'gasPrice': '2000000000', 'tick': '-203387', 'timestamp': '1676306236', 'pool': {'id': '0xc31e54c7a869b9fcbecc14363cf510d1c41fa443'}, 'tokenIn': {'symbol': 'WETH'}, 'tokenOut': {'symbol': 'USDC'}}, {'id': '0xcd8af3e9679b087671fa11627d3f0864b3bedb46523c158dfca748ed5c62c48d04000000', 'amountIn': '3559441400205692687', 'amountInUSD': '5231.84205894480322937587353', 'amountOut': '5228940013', 'amountOutUSD': '5228.940013', 'gasLimit': '3000000', 'gasPrice': '2000000000', 'tick': '-203393', 'timestamp': '1676306246', 'pool': {'id': '0xc31e54c7a869b9fcbecc14363cf510d1c41fa443'}, 'tokenIn': {'symbol': 'WETH'}, 'tokenOut': {'symbol': 'USDC'}}, {'id': '0xa9ac38c9ce148d8830f73bec697d014de0ad3aa7e3a33cceae29f07943facd6721000000', 'amountIn': '8250801903', 'amountInUSD': '8250.801903', 'amountOut': '5613510956742205013', 'amountOutUSD': '8245.02003287827877870475716', 'gasLimit': '3000000', 'gasPrice': '2000000000', 'tick': '-203396', 'timestamp': '1676306255', 'pool': {'id': '0xc31e54c7a869b9fcbecc14363cf510d1c41fa443'}, 'tokenIn': {'symbol': 'USDC'}, 'tokenOut': {'symbol': 'WETH'}}, {'id': '0xc6ea270acc5833c393000dad84ffb0baaf793238f66992f41b5dce792b3d2d9f27000000', 'amountIn': '3454446749687345942', 'amountInUSD': '5076.53752669550172347463142', 'amountOut': '5073730688', 'amountOutUSD': '5073.730688', 'gasLimit': '3000000', 'gasPrice': '2000000000', 'tick': '-203395', 'timestamp': '1676306282', 'pool': {'id': '0xc31e54c7a869b9fcbecc14363cf510d1c41fa443'}, 'tokenIn': {'symbol': 'WETH'}, 'tokenOut': {'symbol': 'USDC'}}, {'id': '0x0411fe902628d74cffbdf5053ec03f6b5746eae3c11161fe7f2f70401d80840409000000', 'amountIn': '4179519783531603929', 'amountInUSD': '6141.1477193416991586882541', 'amountOut': '6137684095', 'amountOutUSD': '6137.684095', 'gasLimit': '3000000', 'gasPrice': '2000000000', 'tick': '-203396', 'timestamp': '1676306286', 'pool': {'id': '0xc31e54c7a869b9fcbecc14363cf510d1c41fa443'}, 'tokenIn': {'symbol': 'WETH'}, 'tokenOut': {'symbol': 'USDC'}}, {'id': '0xb371926068adbe4f0b68c2c953a9d8f0b3647fcc97c977025954b2d2390a9f7103000000', 'amountIn': '6522324284006071922', 'amountInUSD': '9579.70168683800821071536682', 'amountOut': '9573952769', 'amountOutUSD': '9573.952769', 'gasLimit': '3000000', 'gasPrice': '2000000000', 'tick': '-203401', 'timestamp': '1676306289', 'pool': {'id': '0xc31e54c7a869b9fcbecc14363cf510d1c41fa443'}, 'tokenIn': {'symbol': 'WETH'}, 'tokenOut': {'symbol': 'USDC'}}, {'id': '0x034fa4f91cd7fc439fa9fefbc5a6c3ed62260b8aaf2ec2d23b3a16577d26563205000000', 'amountIn': '6110772471946200474', 'amountInUSD': '8958.79581596400306357728874', 'amountOut': '8957245427', 'amountOutUSD': '8957.245427', 'gasLimit': '3000000', 'gasPrice': '2000000000', 'tick': '-203415', 'timestamp': '1676306292', 'pool': {'id': '0xc31e54c7a869b9fcbecc14363cf510d1c41fa443'}, 'tokenIn': {'symbol': 'WETH'}, 'tokenOut': {'symbol': 'USDC'}}, {'id': '0x4736cd7ebdf0e11ca0a7a9d01dc5ce8791a1eb3e5324ff3317a622ed6002bbac03000000', 'amountIn': '6111977767070282417', 'amountInUSD': '8957.9719296821995692449557', 'amountOut': '8953246755', 'amountOutUSD': '8953.246755', 'gasLimit': '3000000', 'gasPrice': '2000000000', 'tick': '-203422', 'timestamp': '1676306295', 'pool': {'id': '0xc31e54c7a869b9fcbecc14363cf510d1c41fa443'}, 'tokenIn': {'symbol': 'WETH'}, 'tokenOut': {'symbol': 'USDC'}}, {'id': '0x9d2a7e511559782f18e7c086d22e0b35b2f738224bc81318ad648a6d020df50c14000000', 'amountIn': '4743670834', 'amountInUSD': '4743.670834', 'amountOut': '3236609489830158433', 'amountOutUSD': '4740.75238298947380974330235', 'gasLimit': '3000000', 'gasPrice': '2000000000', 'tick': '-203425', 'timestamp': '1676306300', 'pool': {'id': '0xc31e54c7a869b9fcbecc14363cf510d1c41fa443'}, 'tokenIn': {'symbol': 'USDC'}, 'tokenOut': {'symbol': 'WETH'}}, {'id': '0xdd31aff285496df2dae6e77884f74ef962e05c8187254ad04a79435bc04eb19803000000', 'amountIn': '5168404948', 'amountInUSD': '5168.404948', 'amountOut': '3525013563909371113', 'amountOutUSD': '5164.44858629589511196009608', 'gasLimit': '3000000', 'gasPrice': '2000000000', 'tick': '-203421', 'timestamp': '1676306304', 'pool': {'id': '0xc31e54c7a869b9fcbecc14363cf510d1c41fa443'}, 'tokenIn': {'symbol': 'USDC'}, 'tokenOut': {'symbol': 'WETH'}}, {'id': '0x2d273ce173397ebf88fb32ba553da194cd648a90f7e3809671808e33d23d8ae605000000', 'amountIn': '4497064313', 'amountInUSD': '4497.064313', 'amountOut': '3064731480924258595', 'amountOutUSD': '4494.5904120083587934509722', 'gasLimit': '3000000', 'gasPrice': '2000000000', 'tick': '-203413', 'timestamp': '1676306309', 'pool': {'id': '0xc31e54c7a869b9fcbecc14363cf510d1c41fa443'}, 'tokenIn': {'symbol': 'USDC'}, 'tokenOut': {'symbol': 'WETH'}}, {'id': '0xb71a227f08a5730037a3a34ece50929a939ab04eddc568f09f447303d08ba12a09000000', 'amountIn': '3192120605000946199', 'amountInUSD': '4682.1124856143268580103882', 'amountOut': '4679527240', 'amountOutUSD': '4679.52724', 'gasLimit': '3000000', 'gasPrice': '2000000000', 'tick': '-203414', 'timestamp': '1676306312', 'pool': {'id': '0xc31e54c7a869b9fcbecc14363cf510d1c41fa443'}, 'tokenIn': {'symbol': 'WETH'}, 'tokenOut': {'symbol': 'USDC'}}, {'id': '0x6ffa1d8bac70b73a977036d695261957a5276a8105ea36960649c1f0fe07631b03000000', 'amountIn': '3217186077907646868', 'amountInUSD': '4717.15230884651444301953928', 'amountOut': '4714480975', 'amountOutUSD': '4714.480975', 'gasLimit': '3000000', 'gasPrice': '2000000000', 'tick': '-203418', 'timestamp': '1676306316', 'pool': {'id': '0xc31e54c7a869b9fcbecc14363cf510d1c41fa443'}, 'tokenIn': {'symbol': 'WETH'}, 'tokenOut': {'symbol': 'USDC'}}, {'id': '0x8f07f5bb3f0f6aefe77be4a722830b06304c9842aa67cb8563a370fd76199aee03000000', 'amountIn': '4684932966', 'amountInUSD': '4684.932966', 'amountOut': '3195093916602900001', 'amountOutUSD': '4682.31993728028425159847177', 'gasLimit': '3000000', 'gasPrice': '2000000000', 'tick': '-203420', 'timestamp': '1676306324', 'pool': {'id': '0xc31e54c7a869b9fcbecc14363cf510d1c41fa443'}, 'tokenIn': {'symbol': 'USDC'}, 'tokenOut': {'symbol': 'WETH'}}, {'id': '0x909d25bbeaffab95dcdb9c9c8aa38b1201c6945c1c30fa049e2e7e4b9282a8e520000000', 'amountIn': '7145091075', 'amountInUSD': '7145.091075', 'amountOut': '4871474601116259767', 'amountOutUSD': '7141.46134238429722448055976', 'gasLimit': '3000000', 'gasPrice': '2000000000', 'tick': '-203417', 'timestamp': '1676306333', 'pool': {'id': '0xc31e54c7a869b9fcbecc14363cf510d1c41fa443'}, 'tokenIn': {'symbol': 'USDC'}, 'tokenOut': {'symbol': 'WETH'}}, {'id': '0x9096bd34c4b7858483deb41b912e2495a7e95d3cddcc940fdb02375e2de1f63903000000', 'amountIn': '7624127644', 'amountInUSD': '7624.127644', 'amountOut': '5194713836645496406', 'amountOutUSD': '7619.1140564555919675363315', 'gasLimit': '3000000', 'gasPrice': '2000000000', 'tick': '-203411', 'timestamp': '1676306346', 'pool': {'id': '0xc31e54c7a869b9fcbecc14363cf510d1c41fa443'}, 'tokenIn': {'symbol': 'USDC'}, 'tokenOut': {'symbol': 'WETH'}}, {'id': '0xca3fe64fb5bd94e9e053be398b35fe0aa6fb3fbd7a0c1ad929134a91122575ef05000000', 'amountIn': '4873586644', 'amountInUSD': '4873.586644', 'amountOut': '3315806754312145096', 'amountOutUSD': '4871.11117886972461182443152', 'gasLimit': '3000000', 'gasPrice': '2000000000', 'tick': '-203397', 'timestamp': '1676306355', 'pool': {'id': '0xc31e54c7a869b9fcbecc14363cf510d1c41fa443'}, 'tokenIn': {'symbol': 'USDC'}, 'tokenOut': {'symbol': 'WETH'}}, {'id': '0x497c415a165443537ea738d6f8773c92ba1e6439adbfcad368ef3e737f63a0b90e000000', 'amountIn': '5875588605', 'amountInUSD': '5875.588605', 'amountOut': '3997126656595429617', 'amountOutUSD': '5872.28773287700444174605942', 'gasLimit': '3000000', 'gasPrice': '2000000000', 'tick': '-203395', 'timestamp': '1676306361', 'pool': {'id': '0xc31e54c7a869b9fcbecc14363cf510d1c41fa443'}, 'tokenIn': {'symbol': 'USDC'}, 'tokenOut': {'symbol': 'WETH'}}, {'id': '0xa4acd9df0fdfff794de4d80571d0d370ed5f0f2beaec75bab6dbe16c85336f310c000000', 'amountIn': '5724143284', 'amountInUSD': '5724.143284', 'amountOut': '3893385136052845170', 'amountOutUSD': '5720.936614869428245237347', 'gasLimit': '3000000', 'gasPrice': '2000000000', 'tick': '-203394', 'timestamp': '1676306377', 'pool': {'id': '0xc31e54c7a869b9fcbecc14363cf510d1c41fa443'}, 'tokenIn': {'symbol': 'USDC'}, 'tokenOut': {'symbol': 'WETH'}}, {'id': '0x76989f500117331aac4a99252421944f92e2cc9792ee24cb66489801d6982f4703000000', 'amountIn': '5765539336', 'amountInUSD': '5765.539336', 'amountOut': '3921021232084104537', 'amountOutUSD': '5762.30127766009407137472252', 'gasLimit': '3000000', 'gasPrice': '2000000000', 'tick': '-203392', 'timestamp': '1676306495', 'pool': {'id': '0xc31e54c7a869b9fcbecc14363cf510d1c41fa443'}, 'tokenIn': {'symbol': 'USDC'}, 'tokenOut': {'symbol': 'WETH'}}, {'id': '0x1432b89bed77308f8974cb515a75ec18d43962a9bad549d1f4b2601f4271ff440a000000', 'amountIn': '4720856298', 'amountInUSD': '4720.856298', 'amountOut': '3209767998643830384', 'amountOutUSD': '4717.77773321723623967406528', 'gasLimit': '3000000', 'gasPrice': '2000000000', 'tick': '-203390', 'timestamp': '1676306499', 'pool': {'id': '0xc31e54c7a869b9fcbecc14363cf510d1c41fa443'}, 'tokenIn': {'symbol': 'USDC'}, 'tokenOut': {'symbol': 'WETH'}}, {'id': '0x1296b7628ddc6dd88fa075b27773b73aea56dd4c88dfbe0f22f35d10de75b6e106000000', 'amountIn': '4943400736', 'amountInUSD': '4943.400736', 'amountOut': '3360559246887193479', 'amountOutUSD': '4940.40728022505262424656298', 'gasLimit': '3000000', 'gasPrice': '2000000000', 'tick': '-203388', 'timestamp': '1676306504', 'pool': {'id': '0xc31e54c7a869b9fcbecc14363cf510d1c41fa443'}, 'tokenIn': {'symbol': 'USDC'}, 'tokenOut': {'symbol': 'WETH'}}, {'id': '0x4bad9e0c0a3ea67231aba2f1570307722134d912205062f9e919e0e0ff3954170b000000', 'amountIn': '7167734831', 'amountInUSD': '7167.734831', 'amountOut': '4871619697499091247', 'amountOutUSD': '7163.67813322821251091991129', 'gasLimit': '3000000', 'gasPrice': '2000000000', 'tick': '-203386', 'timestamp': '1676306507', 'pool': {'id': '0xc31e54c7a869b9fcbecc14363cf510d1c41fa443'}, 'tokenIn': {'symbol': 'USDC'}, 'tokenOut': {'symbol': 'WETH'}}, {'id': '0x2619d293a64dcf737045fd38d9b78cb610f10022e2b374ec034b928b53e46eca1d000000', 'amountIn': '7239690478', 'amountInUSD': '7239.690478', 'amountOut': '4919244352342230093', 'amountOutUSD': '7235.53120992543351198609669', 'gasLimit': '3000000', 'gasPrice': '2000000000', 'tick': '-203383', 'timestamp': '1676306584', 'pool': {'id': '0xc31e54c7a869b9fcbecc14363cf510d1c41fa443'}, 'tokenIn': {'symbol': 'USDC'}, 'tokenOut': {'symbol': 'WETH'}}, {'id': '0xca45db5888699df419e041f0fe06cdb6bbfcd22f5ed1e55a05c03a16435968b40f000000', 'amountIn': '8363394151', 'amountInUSD': '8363.394151', 'amountOut': '5681785172788594234', 'amountOutUSD': '8358.36985011352857904726376', 'gasLimit': '3000000', 'gasPrice': '2000000000', 'tick': '-203381', 'timestamp': '1676306587', 'pool': {'id': '0xc31e54c7a869b9fcbecc14363cf510d1c41fa443'}, 'tokenIn': {'symbol': 'USDC'}, 'tokenOut': {'symbol': 'WETH'}}, {'id': '0x6d5abf259a583c8ecb9b81a2230eb7c2ecd2880f4c7e4184c20702a6e735170003000000', 'amountIn': '5497793608', 'amountInUSD': '5497.793608', 'amountOut': '3733288890297187984', 'amountOutUSD': '5493.99797788937580542857408', 'gasLimit': '3000000', 'gasPrice': '2000000000', 'tick': '-203377', 'timestamp': '1676306597', 'pool': {'id': '0xc31e54c7a869b9fcbecc14363cf510d1c41fa443'}, 'tokenIn': {'symbol': 'USDC'}, 'tokenOut': {'symbol': 'WETH'}}, {'id': '0x705dc7912d5fefbfddcb0d0614e6e60c3d0fa3ff0daa406b45e04707d670507814000000', 'amountIn': '5868694167', 'amountInUSD': '5868.694167', 'amountOut': '3982313595765189907', 'amountOutUSD': '5864.5748248343048955310664', 'gasLimit': '3000000', 'gasPrice': '2000000000', 'tick': '-203370', 'timestamp': '1676306606', 'pool': {'id': '0xc31e54c7a869b9fcbecc14363cf510d1c41fa443'}, 'tokenIn': {'symbol': 'USDC'}, 'tokenOut': {'symbol': 'WETH'}}, {'id': '0xe09b554b5c5ba779877b26847776c7a150b061141edcb464ad75e4273d3b784a0e000000', 'amountIn': '43583388629', 'amountInUSD': '43583.388629', 'amountOut': '29531137745288319629', 'amountOutUSD': '43559.79133161859396160907464', 'gasLimit': '3000000', 'gasPrice': '2000000000', 'tick': '-203356', 'timestamp': '1676306715', 'pool': {'id': '0xc31e54c7a869b9fcbecc14363cf510d1c41fa443'}, 'tokenIn': {'symbol': 'USDC'}, 'tokenOut': {'symbol': 'WETH'}}, {'id': '0x19b89074df39e9084aefd2ec937c866ad6f165dd9801edafaa3663e754310a090f000000', 'amountIn': '17340616795', 'amountInUSD': '17340.616795', 'amountOut': '11744933198221119989', 'amountOutUSD': '17330.81896422046933174280418', 'gasLimit': '3000000', 'gasPrice': '2000000000', 'tick': '-203352', 'timestamp': '1676306721', 'pool': {'id': '0xc31e54c7a869b9fcbecc14363cf510d1c41fa443'}, 'tokenIn': {'symbol': 'USDC'}, 'tokenOut': {'symbol': 'WETH'}}, {'id': '0x347d3a46f9ed2c0d19e6b6077439c5670fe8623a3470d81d969f084f3bcc599f03000000', 'amountIn': '29540930960384916490', 'amountInUSD': '43597.5794287671601438072466', 'amountOut': '43574227046', 'amountOutUSD': '43574.227046', 'gasLimit': '3000000', 'gasPrice': '2000000000', 'tick': '-203352', 'timestamp': '1676306731', 'pool': {'id': '0xc31e54c7a869b9fcbecc14363cf510d1c41fa443'}, 'tokenIn': {'symbol': 'WETH'}, 'tokenOut': {'symbol': 'USDC'}}, {'id': '0xdb52c6469c0816bc5744828ba5d5425895f02ea20e32bb20e51c1143aefd536003000000', 'amountIn': '43592456827', 'amountInUSD': '43592.456827', 'amountOut': '29522775006408987063', 'amountOutUSD': '43568.95498096271890932684594', 'gasLimit': '3000000', 'gasPrice': '2000000000', 'tick': '-203351', 'timestamp': '1676306760', 'pool': {'id': '0xc31e54c7a869b9fcbecc14363cf510d1c41fa443'}, 'tokenIn': {'symbol': 'USDC'}, 'tokenOut': {'symbol': 'WETH'}}, {'id': '0xa9b9360294e52ed63d5dd3288c0739631b490562fe3b084c0973f7ecf40cf92703000000', 'amountIn': '29535678078318023687', 'amountInUSD': '43592.31098504949198004746228', 'amountOut': '43568961470', 'amountOutUSD': '43568.96147', 'gasLimit': '3000000', 'gasPrice': '2000000000', 'tick': '-203351', 'timestamp': '1676306786', 'pool': {'id': '0xc31e54c7a869b9fcbecc14363cf510d1c41fa443'}, 'tokenIn': {'symbol': 'WETH'}, 'tokenOut': {'symbol': 'USDC'}}, {'id': '0x3d1329f9cb8ab2a4dfe5dc8534af575b056f1ff2b39b76d6e7a017d4809ac93303000000', 'amountIn': '43586401280', 'amountInUSD': '43586.40128', 'amountOut': '29517601882207797048', 'amountOutUSD': '43562.5255253108764419535296', 'gasLimit': '3000000', 'gasPrice': '2000000000', 'tick': '-203350', 'timestamp': '1676306799', 'pool': {'id': '0xc31e54c7a869b9fcbecc14363cf510d1c41fa443'}, 'tokenIn': {'symbol': 'USDC'}, 'tokenOut': {'symbol': 'WETH'}}, {'id': '0xa040d3ec9194a08dbc2276dd2d76a55e23a540850bf222a29785df7976fcd0d103000000', 'amountIn': '3808835984139373038', 'amountInUSD': '5629.48445625696978026993814', 'amountOut': '5626381980', 'amountOutUSD': '5626.38198', 'gasLimit': '3000000', 'gasPrice': '2000000000', 'tick': '-203337', 'timestamp': '1676306826', 'pool': {'id': '0xc31e54c7a869b9fcbecc14363cf510d1c41fa443'}, 'tokenIn': {'symbol': 'WETH'}, 'tokenOut': {'symbol': 'USDC'}}, {'id': '0x3333989c96457b29e538b7a8d918fb16c98b282490e5ed0d92daf2343b69269003000000', 'amountIn': '3724717438587852593', 'amountInUSD': '5502.94283633374664918573088', 'amountOut': '5499915851', 'amountOutUSD': '5499.915851', 'gasLimit': '3000000', 'gasPrice': '2000000000', 'tick': '-203341', 'timestamp': '1676306831', 'pool': {'id': '0xc31e54c7a869b9fcbecc14363cf510d1c41fa443'}, 'tokenIn': {'symbol': 'WETH'}, 'tokenOut': {'symbol': 'USDC'}}, {'id': '0xf12a729a82b6ef164cab63ceb2dd1f8442a4a4a352a35b322cd4f820d0226e7f03000000', 'amountIn': '4067282941423988274', 'amountInUSD': '6030.42513941871565200980676', 'amountOut': '6026344456', 'amountOutUSD': '6026.344456', 'gasLimit': '3000000', 'gasPrice': '2000000000', 'tick': '-203307', 'timestamp': '1676306974', 'pool': {'id': '0xc31e54c7a869b9fcbecc14363cf510d1c41fa443'}, 'tokenIn': {'symbol': 'WETH'}, 'tokenOut': {'symbol': 'USDC'}}, {'id': '0x5a17090925874add31f707592c4c7bd77d0d4c75d557b3224a5cf1c557f6598d08000000', 'amountIn': '4828697662790331157', 'amountInUSD': '7159.88738734157107086381955', 'amountOut': '7154974119', 'amountOutUSD': '7154.974119', 'gasLimit': '3000000', 'gasPrice': '2000000000', 'tick': '-203307', 'timestamp': '1676307051', 'pool': {'id': '0xc31e54c7a869b9fcbecc14363cf510d1c41fa443'}, 'tokenIn': {'symbol': 'WETH'}, 'tokenOut': {'symbol': 'USDC'}}, {'id': '0xd7c3e770a17863cfd0815bac70dad307c09c90ef53d9fbd46351342b565a75a603000000', 'amountIn': '5681327291250098065', 'amountInUSD': '8420.33489083953618032197435', 'amountOut': '8415526066', 'amountOutUSD': '8415.526066', 'gasLimit': '3000000', 'gasPrice': '2000000000', 'tick': '-203310', 'timestamp': '1676307071', 'pool': {'id': '0xc31e54c7a869b9fcbecc14363cf510d1c41fa443'}, 'tokenIn': {'symbol': 'WETH'}, 'tokenOut': {'symbol': 'USDC'}}, {'id': '0x5265125b4216dceed7f0dc26f64b2f86b200f5b08818f17ff7233e761d45480803000000', 'amountIn': '14440547961476286655', 'amountInUSD': '21393.97520083978929616512155', 'amountOut': '21390020722', 'amountOutUSD': '21390.020722', 'gasLimit': '3000000', 'gasPrice': '2000000000', 'tick': '-203311', 'timestamp': '1676307101', 'pool': {'id': '0xc31e54c7a869b9fcbecc14363cf510d1c41fa443'}, 'tokenIn': {'symbol': 'WETH'}, 'tokenOut': {'symbol': 'USDC'}}, {'id': '0xf19a6c4bcffc736412e36c3862016b7b44a0a4aef49e3c2c53a60d8dc6de4b0603000000', 'amountIn': '4456261449756382363', 'amountInUSD': '6599.06746821687062793828455', 'amountOut': '6595121602', 'amountOutUSD': '6595.121602', 'gasLimit': '3000000', 'gasPrice': '2000000000', 'tick': '-203319', 'timestamp': '1676307146', 'pool': {'id': '0xc31e54c7a869b9fcbecc14363cf510d1c41fa443'}, 'tokenIn': {'symbol': 'WETH'}, 'tokenOut': {'symbol': 'USDC'}}, {'id': '0xe0f2b49b5e0b4127420e4921763c7f19f7a07521ed00763dd230f91d844bc1f304000000', 'amountIn': '12745584576560318486', 'amountInUSD': '18863.80140183040102048166068', 'amountOut': '18863285009', 'amountOutUSD': '18863.285009', 'gasLimit': '3000000', 'gasPrice': '2000000000', 'tick': '-203320', 'timestamp': '1676307159', 'pool': {'id': '0xc31e54c7a869b9fcbecc14363cf510d1c41fa443'}, 'tokenIn': {'symbol': 'WETH'}, 'tokenOut': {'symbol': 'USDC'}}, {'id': '0x964181267e65c6b4eb93fe1fd0a27b00129a44fb0d7666f515d24b297165f6e314000000', 'amountIn': '4619918013585542718', 'amountInUSD': '6837.0958998991776604258137', 'amountOut': '6832044314', 'amountOutUSD': '6832.044314', 'gasLimit': '3000000', 'gasPrice': '2000000000', 'tick': '-203326', 'timestamp': '1676307165', 'pool': {'id': '0xc31e54c7a869b9fcbecc14363cf510d1c41fa443'}, 'tokenIn': {'symbol': 'WETH'}, 'tokenOut': {'symbol': 'USDC'}}, {'id': '0x4cc111e1b7d3257f2a825704a0f0eca2a71c7d39347e8ef620e8528f854c54c304000000', 'amountIn': '6170302225', 'amountInUSD': '6170.302225', 'amountOut': '4170405734875064947', 'amountOutUSD': '6166.87158487113011232137287', 'gasLimit': '3000000', 'gasPrice': '2000000000', 'tick': '-203330', 'timestamp': '1676307183', 'pool': {'id': '0xc31e54c7a869b9fcbecc14363cf510d1c41fa443'}, 'tokenIn': {'symbol': 'USDC'}, 'tokenOut': {'symbol': 'WETH'}}, {'id': '0x85e3cd4a5b2bc2af448c9d2ab66a98966666bd3767a623813fdb3dd29896828603000000', 'amountIn': '7737516335', 'amountInUSD': '7737.516335', 'amountOut': '5229220282343445712', 'amountOutUSD': '7733.1045601077013939435416', 'gasLimit': '3000000', 'gasPrice': '2000000000', 'tick': '-203329', 'timestamp': '1676307253', 'pool': {'id': '0xc31e54c7a869b9fcbecc14363cf510d1c41fa443'}, 'tokenIn': {'symbol': 'USDC'}, 'tokenOut': {'symbol': 'WETH'}}, {'id': '0xb43eae6c29d59dd64dda653749d66896d5ff947b936526b9abccba202fc63ca803000000', 'amountIn': '6068645345', 'amountInUSD': '6068.645345', 'amountOut': '4100839053935807433', 'amountOutUSD': '6065.2771086276498622137756', 'gasLimit': '3000000', 'gasPrice': '2000000000', 'tick': '-203328', 'timestamp': '1676307265', 'pool': {'id': '0xc31e54c7a869b9fcbecc14363cf510d1c41fa443'}, 'tokenIn': {'symbol': 'USDC'}, 'tokenOut': {'symbol': 'WETH'}}, {'id': '0xe67115b23638d8dff40c98a252029bdf452434909e12358a263c8d52d5855dd00c000000', 'amountIn': '4986247152132607365', 'amountInUSD': '7374.6843695149439132196777', 'amountOut': '7370105742', 'amountOutUSD': '7370.105742', 'gasLimit': '3000000', 'gasPrice': '2000000000', 'tick': '-203332', 'timestamp': '1676307324', 'pool': {'id': '0xc31e54c7a869b9fcbecc14363cf510d1c41fa443'}, 'tokenIn': {'symbol': 'WETH'}, 'tokenOut': {'symbol': 'USDC'}}, {'id': '0x7ac6ce9b038f9f3a5a8eddc46ffb825cfe4c5d968bce08ed2d7c2a865598425303000000', 'amountIn': '4242706305739208881', 'amountInUSD': '6269.01490349946331024499253', 'amountOut': '6265191381', 'amountOutUSD': '6265.191381', 'gasLimit': '3000000', 'gasPrice': '2000000000', 'tick': '-203341', 'timestamp': '1676307349', 'pool': {'id': '0xc31e54c7a869b9fcbecc14363cf510d1c41fa443'}, 'tokenIn': {'symbol': 'WETH'}, 'tokenOut': {'symbol': 'USDC'}}, {'id': '0xe75b3d559d62402c1078b6ea100ac9e9a438c98b242391d5e3485be79e211c8105000000', 'amountIn': '3991617057812349885', 'amountInUSD': '5894.5379434836321332781282', 'amountOut': '5891286098', 'amountOutUSD': '5891.286098', 'gasLimit': '3000000', 'gasPrice': '2000000000', 'tick': '-203346', 'timestamp': '1676307384', 'pool': {'id': '0xc31e54c7a869b9fcbecc14363cf510d1c41fa443'}, 'tokenIn': {'symbol': 'WETH'}, 'tokenOut': {'symbol': 'USDC'}}, {'id': '0x98108bb50a7ecb5bb3958759f04088e62b9088baad9c855ee682911f9f13643507000000', 'amountIn': '5844580156', 'amountInUSD': '5844.580156', 'amountOut': '3957461479954843470', 'amountOutUSD': '5841.3583041004337053784796', 'gasLimit': '3000000', 'gasPrice': '2000000000', 'tick': '-203349', 'timestamp': '1676307412', 'pool': {'id': '0xc31e54c7a869b9fcbecc14363cf510d1c41fa443'}, 'tokenIn': {'symbol': 'USDC'}, 'tokenOut': {'symbol': 'WETH'}}, {'id': '0x22faf15264de1e33023e680aa3145d7163029d3832c6dc79fd4807dcd9450db403000000', 'amountIn': '8761417678', 'amountInUSD': '8761.417678', 'amountOut': '5931740064389222932', 'amountOutUSD': '8756.36385807500208489659192', 'gasLimit': '3000000', 'gasPrice': '2000000000', 'tick': '-203347', 'timestamp': '1676307415', 'pool': {'id': '0xc31e54c7a869b9fcbecc14363cf510d1c41fa443'}, 'tokenIn': {'symbol': 'USDC'}, 'tokenOut': {'symbol': 'WETH'}}, {'id': '0xd8c9964e4e2737a79121ed02683781badfc544a874afb6461f01b19d5998c1640f000000', 'amountIn': '15787429123', 'amountInUSD': '15787.429123', 'amountOut': '10688866967029600447', 'amountOutUSD': '15781.20363001567721425350947', 'gasLimit': '3000000', 'gasPrice': '2000000000', 'tick': '-203347', 'timestamp': '1676307421', 'pool': {'id': '0xc31e54c7a869b9fcbecc14363cf510d1c41fa443'}, 'tokenIn': {'symbol': 'USDC'}, 'tokenOut': {'symbol': 'WETH'}}, {'id': '0x1e6319e329f2908369869e61ec3fa90434448ea83959e4939700dd34efaec43803000000', 'amountIn': '4280154786050976185', 'amountInUSD': '6320.65989937866232231525365', 'amountOut': '6317149371', 'amountOutUSD': '6317.149371', 'gasLimit': '3000000', 'gasPrice': '2000000000', 'tick': '-203346', 'timestamp': '1676307549', 'pool': {'id': '0xc31e54c7a869b9fcbecc14363cf510d1c41fa443'}, 'tokenIn': {'symbol': 'WETH'}, 'tokenOut': {'symbol': 'USDC'}}, {'id': '0x93e81bb6db4e5a21b8367f25df1960a01bb362e251dff79a2bc1c52e16ded9f103000000', 'amountIn': '6586220815', 'amountInUSD': '6586.220815', 'amountOut': '4458105123810865008', 'amountOutUSD': '6582.5473573650508024142784', 'gasLimit': '3000000', 'gasPrice': '2000000000', 'tick': '-203345', 'timestamp': '1676307583', 'pool': {'id': '0xc31e54c7a869b9fcbecc14363cf510d1c41fa443'}, 'tokenIn': {'symbol': 'USDC'}, 'tokenOut': {'symbol': 'WETH'}}, {'id': '0xaff7a05694e176834dcf13a458a2e55adf132f01a85c96134a07b7e0f16c41f603000000', 'amountIn': '5743159663', 'amountInUSD': '5743.159663', 'amountOut': '3886061878647064155', 'amountOutUSD': '5739.70356302516077986268785', 'gasLimit': '3000000', 'gasPrice': '2000000000', 'tick': '-203342', 'timestamp': '1676307660', 'pool': {'id': '0xc31e54c7a869b9fcbecc14363cf510d1c41fa443'}, 'tokenIn': {'symbol': 'USDC'}, 'tokenOut': {'symbol': 'WETH'}}, {'id': '0x4b23202c8dc2663d676c23745dc48311409641c195f4ac62965754904a03230603000000', 'amountIn': '6369126408', 'amountInUSD': '6369.126408', 'amountOut': '4305985411991785830', 'amountOutUSD': '6365.5856865066971419688466', 'gasLimit': '3000000', 'gasPrice': '2000000000', 'tick': '-203333', 'timestamp': '1676307752', 'pool': {'id': '0xc31e54c7a869b9fcbecc14363cf510d1c41fa443'}, 'tokenIn': {'symbol': 'USDC'}, 'tokenOut': {'symbol': 'WETH'}}, {'id': '0xb51a9215819895337302f51f2d5bf1525593d9a74980ab0813a1c0ed231135d81e000000', 'amountIn': '27859948083', 'amountInUSD': '27859.948083', 'amountOut': '18841087277293910710', 'amountOutUSD': '27872.7798898119267805680934', 'gasLimit': '3000000', 'gasPrice': '2000000000', 'tick': '-203334', 'timestamp': '1676307766', 'pool': {'id': '0xc31e54c7a869b9fcbecc14363cf510d1c41fa443'}, 'tokenIn': {'symbol': 'USDC'}, 'tokenOut': {'symbol': 'WETH'}}, {'id': '0xfb082333cd9b97aa438a1d51fc145ea693fc20510480d4fbf223bf8ce76020aa03000000', 'amountIn': '4317069639379469099', 'amountInUSD': '6391.04338263019796578173661', 'amountOut': '6387487180', 'amountOutUSD': '6387.48718', 'gasLimit': '3000000', 'gasPrice': '2000000000', 'tick': '-203321', 'timestamp': '1676307867', 'pool': {'id': '0xc31e54c7a869b9fcbecc14363cf510d1c41fa443'}, 'tokenIn': {'symbol': 'WETH'}, 'tokenOut': {'symbol': 'USDC'}}, {'id': '0xcb6d1951f9580cb0ad38a0a35adaa2228470356486488c3980b2f949d53f473403000000', 'amountIn': '7279730384247328090', 'amountInUSD': '10776.8947343110877285890559', 'amountOut': '10770465568', 'amountOutUSD': '10770.465568', 'gasLimit': '3000000', 'gasPrice': '2000000000', 'tick': '-203322', 'timestamp': '1676307879', 'pool': {'id': '0xc31e54c7a869b9fcbecc14363cf510d1c41fa443'}, 'tokenIn': {'symbol': 'WETH'}, 'tokenOut': {'symbol': 'USDC'}}, {'id': '0xda05decb9c6821b24f65aac864bb18cc42d335e65c03444c78ac80cd4e21186908000000', 'amountIn': '5859996858324090347', 'amountInUSD': '8673.98979347928591289542901', 'amountOut': '8668963880', 'amountOutUSD': '8668.96388', 'gasLimit': '3000000', 'gasPrice': '2000000000', 'tick': '-203323', 'timestamp': '1676307935', 'pool': {'id': '0xc31e54c7a869b9fcbecc14363cf510d1c41fa443'}, 'tokenIn': {'symbol': 'WETH'}, 'tokenOut': {'symbol': 'USDC'}}, {'id': '0xa2a6802434909db07b0ba7c00d6bd909c5caa6a58f29bcb77f491604630ad1da08000000', 'amountIn': '4124624625121133665', 'amountInUSD': '6103.81589363265561464079065', 'amountOut': '6100255006', 'amountOutUSD': '6100.255006', 'gasLimit': '3000000', 'gasPrice': '2000000000', 'tick': '-203325', 'timestamp': '1676307953', 'pool': {'id': '0xc31e54c7a869b9fcbecc14363cf510d1c41fa443'}, 'tokenIn': {'symbol': 'WETH'}, 'tokenOut': {'symbol': 'USDC'}}, {'id': '0xdd8c6824882b8dd5d00914d3dbd0b0d200131b824ac43ebd73360bdaad97f7e804000000', 'amountIn': '4910411054259989399', 'amountInUSD': '7264.82666258889657849358176', 'amountOut': '7260317103', 'amountOutUSD': '7260.317103', 'gasLimit': '3000000', 'gasPrice': '2000000000', 'tick': '-203328', 'timestamp': '1676307956', 'pool': {'id': '0xc31e54c7a869b9fcbecc14363cf510d1c41fa443'}, 'tokenIn': {'symbol': 'WETH'}, 'tokenOut': {'symbol': 'USDC'}}, {'id': '0xc4e1f6483bdbee8e4680b3bfea1131c7398807412c0ec0eb0d3cbd4b6d1b107f03000000', 'amountIn': '3732317442024244668', 'amountInUSD': '5518.56153615694162656377796', 'amountOut': '5515487560', 'amountOutUSD': '5515.48756', 'gasLimit': '3000000', 'gasPrice': '2000000000', 'tick': '-203334', 'timestamp': '1676307980', 'pool': {'id': '0xc31e54c7a869b9fcbecc14363cf510d1c41fa443'}, 'tokenIn': {'symbol': 'WETH'}, 'tokenOut': {'symbol': 'USDC'}}, {'id': '0xcf73d213b0359d4256ea4d0a06f39440cb850d5caf6b9d89239c42d9a1e1fab92b000000', 'amountIn': '5486196167093448284', 'amountInUSD': '8108.78709900795794584883232', 'amountOut': '8108033936', 'amountOutUSD': '8108.033936', 'gasLimit': '3000000', 'gasPrice': '2000000000', 'tick': '-203333', 'timestamp': '1676308032', 'pool': {'id': '0xc31e54c7a869b9fcbecc14363cf510d1c41fa443'}, 'tokenIn': {'symbol': 'WETH'}, 'tokenOut': {'symbol': 'USDC'}}, {'id': '0xe8a33f9e40e5aaabc6613138ceebb46e112a9549a15c085b8149ffd4d4ed1bd707000000', 'amountIn': '5484724610', 'amountInUSD': '5484.72461', 'amountOut': '3708517958029559584', 'amountOutUSD': '5481.55661107517483095962432', 'gasLimit': '3000000', 'gasPrice': '2000000000', 'tick': '-203334', 'timestamp': '1676308085', 'pool': {'id': '0xc31e54c7a869b9fcbecc14363cf510d1c41fa443'}, 'tokenIn': {'symbol': 'USDC'}, 'tokenOut': {'symbol': 'WETH'}}, {'id': '0x90b523e2b70384c965f76d57a1db7b89079fafb8c40d0bda0674ec4112a8a81103000000', 'amountIn': '10307751539', 'amountInUSD': '10307.751539', 'amountOut': '6966865893821465356', 'amountOutUSD': '10300.45785782228985642137304', 'gasLimit': '3000000', 'gasPrice': '2000000000', 'tick': '-203330', 'timestamp': '1676308088', 'pool': {'id': '0xc31e54c7a869b9fcbecc14363cf510d1c41fa443'}, 'tokenIn': {'symbol': 'USDC'}, 'tokenOut': {'symbol': 'WETH'}}, {'id': '0x4232d50c9075e5795c93913a0f6f78b131dba6ebc448aeb2929e1fbbb20cf75603000000', 'amountIn': '5656942626796763315', 'amountInUSD': '8366.869313285042719176186', 'amountOut': '8362001003', 'amountOutUSD': '8362.001003', 'gasLimit': '3000000', 'gasPrice': '2000000000', 'tick': '-203331', 'timestamp': '1676308262', 'pool': {'id': '0xc31e54c7a869b9fcbecc14363cf510d1c41fa443'}, 'tokenIn': {'symbol': 'WETH'}, 'tokenOut': {'symbol': 'USDC'}}, {'id': '0x25b9bccb5b949f8ca7342b56029877dddd7a1ed0408c71dea938d96dcc64a68a07000000', 'amountIn': '4841708449103356397', 'amountInUSD': '7157.77870990204670255750982', 'amountOut': '7153755703', 'amountOutUSD': '7153.755703', 'gasLimit': '3000000', 'gasPrice': '2000000000', 'tick': '-203335', 'timestamp': '1676308302', 'pool': {'id': '0xc31e54c7a869b9fcbecc14363cf510d1c41fa443'}, 'tokenIn': {'symbol': 'WETH'}, 'tokenOut': {'symbol': 'USDC'}}, {'id': '0x3ecff0b9ca58f9a2f850d1f550b1a326454d71c9440858c2de015d864af923be11000000', 'amountIn': '3965808967687223248', 'amountInUSD': '5858.9834544088405275130768', 'amountOut': '5855548486', 'amountOutUSD': '5855.548486', 'gasLimit': '3000000', 'gasPrice': '2000000000', 'tick': '-203342', 'timestamp': '1676308363', 'pool': {'id': '0xc31e54c7a869b9fcbecc14363cf510d1c41fa443'}, 'tokenIn': {'symbol': 'WETH'}, 'tokenOut': {'symbol': 'USDC'}}, {'id': '0x437d172d351fe59029fe70f677edd6f1b2ef15d036bfccfdfdd3bf9786d75a2d03000000', 'amountIn': '5982924296', 'amountInUSD': '5982.924296', 'amountOut': '4049846123043593396', 'amountOutUSD': '5979.62525863057988475722488', 'gasLimit': '3000000', 'gasPrice': '2000000000', 'tick': '-203346', 'timestamp': '1676308532', 'pool': {'id': '0xc31e54c7a869b9fcbecc14363cf510d1c41fa443'}, 'tokenIn': {'symbol': 'USDC'}, 'tokenOut': {'symbol': 'WETH'}}, {'id': '0x80857efb9be56c7c0578241d112083ee17af5225c79b62ab0222759115df6b7c03000000', 'amountIn': '6336676935', 'amountInUSD': '6336.676935', 'amountOut': '4288626194453575015', 'amountOutUSD': '6332.8370095427155138593799', 'gasLimit': '3000000', 'gasPrice': '2000000000', 'tick': '-203344', 'timestamp': '1676308535', 'pool': {'id': '0xc31e54c7a869b9fcbecc14363cf510d1c41fa443'}, 'tokenIn': {'symbol': 'USDC'}, 'tokenOut': {'symbol': 'WETH'}}, {'id': '0x613c47befc0dc5a77e8917f991d8f566233dd81fdb6a45879fa52ef901b85a5a04000000', 'amountIn': '6609081802', 'amountInUSD': '6609.081802', 'amountOut': '4471686049144428355', 'amountOutUSD': '6605.402024714652591071497', 'gasLimit': '3000000', 'gasPrice': '2000000000', 'tick': '-203341', 'timestamp': '1676308541', 'pool': {'id': '0xc31e54c7a869b9fcbecc14363cf510d1c41fa443'}, 'tokenIn': {'symbol': 'USDC'}, 'tokenOut': {'symbol': 'WETH'}}, {'id': '0x28227101c5465470027962958059acb64a784b47b90ea71c2e6eb0505b2cf59809000000', 'amountIn': '4459265557507660596', 'amountInUSD': '6587.44910838242453883227484', 'amountOut': '6583431666', 'amountOutUSD': '6583.431666', 'gasLimit': '3000000', 'gasPrice': '2000000000', 'tick': '-203343', 'timestamp': '1676308604', 'pool': {'id': '0xc31e54c7a869b9fcbecc14363cf510d1c41fa443'}, 'tokenIn': {'symbol': 'WETH'}, 'tokenOut': {'symbol': 'USDC'}}, {'id': '0xec7b222ac672b2d5634e0f755e4f478145fb420e21c56296fd3aea8f5a1745aa08000000', 'amountIn': '4414155870361789819', 'amountInUSD': '6519.46844357748551024003192', 'amountOut': '6515507435', 'amountOutUSD': '6515.507435', 'gasLimit': '3000000', 'gasPrice': '2000000000', 'tick': '-203345', 'timestamp': '1676308611', 'pool': {'id': '0xc31e54c7a869b9fcbecc14363cf510d1c41fa443'}, 'tokenIn': {'symbol': 'WETH'}, 'tokenOut': {'symbol': 'USDC'}}, {'id': '0x516b5524c92cdce997a7f920fef6c5c49b0fb09e18afa39844c067390db44ddd03000000', 'amountIn': '4726290386497199337', 'amountInUSD': '6978.46677144671193740661015', 'amountOut': '6974397919', 'amountOutUSD': '6974.397919', 'gasLimit': '3000000', 'gasPrice': '2000000000', 'tick': '-203348', 'timestamp': '1676308637', 'pool': {'id': '0xc31e54c7a869b9fcbecc14363cf510d1c41fa443'}, 'tokenIn': {'symbol': 'WETH'}, 'tokenOut': {'symbol': 'USDC'}}, {'id': '0x9323681e94b0ddd61127bdec8d0eaea69da8bfea2e6ed78c5eb1d5f1bcff7c290b000000', 'amountIn': '4182069084231520539', 'amountInUSD': '6173.2855832379344531230941', 'amountOut': '6169679618', 'amountOutUSD': '6169.679618', 'gasLimit': '3000000', 'gasPrice': '2000000000', 'tick': '-203350', 'timestamp': '1676308645', 'pool': {'id': '0xc31e54c7a869b9fcbecc14363cf510d1c41fa443'}, 'tokenIn': {'symbol': 'WETH'}, 'tokenOut': {'symbol': 'USDC'}}, {'id': '0x86fcdd5c350cd8d8c8429ae8279ed13f5f15529c3b8e05928c53995bb592bee903000000', 'amountIn': '4340750247185891804', 'amountInUSD': '6403.97377729704407938258784', 'amountOut': '6400418998', 'amountOutUSD': '6400.418998', 'gasLimit': '3000000', 'gasPrice': '2000000000', 'tick': '-203356', 'timestamp': '1676308651', 'pool': {'id': '0xc31e54c7a869b9fcbecc14363cf510d1c41fa443'}, 'tokenIn': {'symbol': 'WETH'}, 'tokenOut': {'symbol': 'USDC'}}, {'id': '0x5b51342671007f4cf3fea6765f277e4ca54b281b8f6dcaad7f6e36f4c38ee95c03000000', 'amountIn': '7902352280', 'amountInUSD': '7902.35228', 'amountOut': '5356424450665624705', 'amountOutUSD': '7897.6511557116473313568477', 'gasLimit': '3000000', 'gasPrice': '2000000000', 'tick': '-203359', 'timestamp': '1676308693', 'pool': {'id': '0xc31e54c7a869b9fcbecc14363cf510d1c41fa443'}, 'tokenIn': {'symbol': 'USDC'}, 'tokenOut': {'symbol': 'WETH'}}, {'id': '0x0cd8ac55871b96949463334e26a46b9cd06dccedd3dc1cac7f77a4fa13ce1c5c08000000', 'amountIn': '6385828690', 'amountInUSD': '6385.82869', 'amountOut': '4327619899537888434', 'amountOutUSD': '6381.7950086769146698851525', 'gasLimit': '3000000', 'gasPrice': '2000000000', 'tick': '-203357', 'timestamp': '1676308697', 'pool': {'id': '0xc31e54c7a869b9fcbecc14363cf510d1c41fa443'}, 'tokenIn': {'symbol': 'USDC'}, 'tokenOut': {'symbol': 'WETH'}}, {'id': '0xab3ed2749881d4024d4c9c623769a4690fe2bbd47511eb7ad0124bb916bbcf8f03000000', 'amountIn': '7692299471', 'amountInUSD': '7692.299471', 'amountOut': '5211705809927027929', 'amountOutUSD': '7687.94437315352819795995935', 'gasLimit': '3000000', 'gasPrice': '2000000000', 'tick': '-203355', 'timestamp': '1676308703', 'pool': {'id': '0xc31e54c7a869b9fcbecc14363cf510d1c41fa443'}, 'tokenIn': {'symbol': 'USDC'}, 'tokenOut': {'symbol': 'WETH'}}, {'id': '0xfe38e0cadce7fafd7355eb54822ca4098afdb7518ca687b92f3cfee7d693ce6010000000', 'amountIn': '9258284742', 'amountInUSD': '9258.284742', 'amountOut': '6268600955976713700', 'amountOutUSD': '9251.975901850564120971909', 'gasLimit': '3000000', 'gasPrice': '2000000000', 'tick': '-203348', 'timestamp': '1676308717', 'pool': {'id': '0xc31e54c7a869b9fcbecc14363cf510d1c41fa443'}, 'tokenIn': {'symbol': 'USDC'}, 'tokenOut': {'symbol': 'WETH'}}, {'id': '0x230c365e6cfb02fc8cd4061173b7ca7747eafbf582e05fcdb0bbfb25153d4f1c14000000', 'amountIn': '6512095267', 'amountInUSD': '6512.095267', 'amountOut': '4404030870593992228', 'amountOutUSD': '6508.01795162922819967523816', 'gasLimit': '3000000', 'gasPrice': '2000000000', 'tick': '-203336', 'timestamp': '1676308742', 'pool': {'id': '0xc31e54c7a869b9fcbecc14363cf510d1c41fa443'}, 'tokenIn': {'symbol': 'USDC'}, 'tokenOut': {'symbol': 'WETH'}}, {'id': '0x0a71c675f159c64ca1ab512568fa5a946200d87b42f561b62451f2983e3c594e03000000', 'amountIn': '5902288299', 'amountInUSD': '5902.288299', 'amountOut': '3989922794668757202', 'amountOutUSD': '5899.03027018351983284209662', 'gasLimit': '3000000', 'gasPrice': '2000000000', 'tick': '-203332', 'timestamp': '1676308750', 'pool': {'id': '0xc31e54c7a869b9fcbecc14363cf510d1c41fa443'}, 'tokenIn': {'symbol': 'USDC'}, 'tokenOut': {'symbol': 'WETH'}}, {'id': '0xe78735e557971190067e528647cb5c5276774a5e9d3af175a2cb41eecb12ed0c03000000', 'amountIn': '4569980793884047434', 'amountInUSD': '6757.06981757312342919517386', 'amountOut': '6753296094', 'amountOutUSD': '6753.296094', 'gasLimit': '3000000', 'gasPrice': '2000000000', 'tick': '-203334', 'timestamp': '1676308793', 'pool': {'id': '0xc31e54c7a869b9fcbecc14363cf510d1c41fa443'}, 'tokenIn': {'symbol': 'WETH'}, 'tokenOut': {'symbol': 'USDC'}}, {'id': '0xfa0ba43dec9b8ac11e3e031bc09ba14effef3f142555b596c24c5cfb19844ee404000000', 'amountIn': '4556724854636224258', 'amountInUSD': '6736.4594786744053628589319', 'amountOut': '6732844243', 'amountOutUSD': '6732.844243', 'gasLimit': '3000000', 'gasPrice': '2000000000', 'tick': '-203335', 'timestamp': '1676308834', 'pool': {'id': '0xc31e54c7a869b9fcbecc14363cf510d1c41fa443'}, 'tokenIn': {'symbol': 'WETH'}, 'tokenOut': {'symbol': 'USDC'}}, {'id': '0x03c75ae0fef73e490f35ccd0967616bbc3f4c511d7f2260e4c43448e9c2059f803000000', 'amountIn': '6228086065501969802', 'amountInUSD': '9204.89409373166796868870228', 'amountOut': '9198370926', 'amountOutUSD': '9198.370926', 'gasLimit': '3000000', 'gasPrice': '2000000000', 'tick': '-203340', 'timestamp': '1676308854', 'pool': {'id': '0xc31e54c7a869b9fcbecc14363cf510d1c41fa443'}, 'tokenIn': {'symbol': 'WETH'}, 'tokenOut': {'symbol': 'USDC'}}, {'id': '0xcfd5c995d13e82c9187dc54b7ea5b32155d013188c3a44fbaf80575d783ef25a0c000000', 'amountIn': '5745600641661122381', 'amountInUSD': '8489.4311885685088557504073', 'amountOut': '8483690495', 'amountOutUSD': '8483.690495', 'gasLimit': '3000000', 'gasPrice': '2000000000', 'tick': '-203342', 'timestamp': '1676308858', 'pool': {'id': '0xc31e54c7a869b9fcbecc14363cf510d1c41fa443'}, 'tokenIn': {'symbol': 'WETH'}, 'tokenOut': {'symbol': 'USDC'}}, {'id': '0x64def721f0126e8c76a036166e86e12892c89e99e40e4563e6f70b446318ddf803000000', 'amountIn': '4564264594803549151', 'amountInUSD': '6741.95697896321538250739441', 'amountOut': '6738181809', 'amountOutUSD': '6738.181809', 'gasLimit': '3000000', 'gasPrice': '2000000000', 'tick': '-203344', 'timestamp': '1676308884', 'pool': {'id': '0xc31e54c7a869b9fcbecc14363cf510d1c41fa443'}, 'tokenIn': {'symbol': 'WETH'}, 'tokenOut': {'symbol': 'USDC'}}, {'id': '0x067320ca2987350a15d9198bd389b81068e51d7cf748ca299f7144a77766480a03000000', 'amountIn': '6391885216', 'amountInUSD': '6391.885216', 'amountOut': '4327234710302049508', 'amountOutUSD': '6388.325811653210227494579', 'gasLimit': '3000000', 'gasPrice': '2000000000', 'tick': '-203347', 'timestamp': '1676308989', 'pool': {'id': '0xc31e54c7a869b9fcbecc14363cf510d1c41fa443'}, 'tokenIn': {'symbol': 'USDC'}, 'tokenOut': {'symbol': 'WETH'}}, {'id': '0x61b67a32870a4d87ca8646ad35cb901fc95bf803902cd821ce9e7623e77aad5003000000', 'amountIn': '7029709362', 'amountInUSD': '7029.709362', 'amountOut': '4758203318140458949', 'amountOutUSD': '7024.56767644315699450660575', 'gasLimit': '3000000', 'gasPrice': '2000000000', 'tick': '-203345', 'timestamp': '1676308993', 'pool': {'id': '0xc31e54c7a869b9fcbecc14363cf510d1c41fa443'}, 'tokenIn': {'symbol': 'USDC'}, 'tokenOut': {'symbol': 'WETH'}}, {'id': '0x044a7f1198d6040808a1f8474ccbc52a0e1ef6307b7d69409483bdac4a637bb403000000', 'amountIn': '6787368402', 'amountInUSD': '6787.368402', 'amountOut': '4593346984609337553', 'amountOutUSD': '6783.19034195169589261409826', 'gasLimit': '3000000', 'gasPrice': '2000000000', 'tick': '-203343', 'timestamp': '1676309002', 'pool': {'id': '0xc31e54c7a869b9fcbecc14363cf510d1c41fa443'}, 'tokenIn': {'symbol': 'USDC'}, 'tokenOut': {'symbol': 'WETH'}}, {'id': '0x69fda104214d9a6d40afc1ce44ea6662782e8bef7f8a12578093f33d64ddf47a11000000', 'amountIn': '3838697636955377379', 'amountInUSD': '5669.76554588346834258116202', 'amountOut': '5666305784', 'amountOutUSD': '5666.305784', 'gasLimit': '3000000', 'gasPrice': '2000000000', 'tick': '-203345', 'timestamp': '1676309016', 'pool': {'id': '0xc31e54c7a869b9fcbecc14363cf510d1c41fa443'}, 'tokenIn': {'symbol': 'WETH'}, 'tokenOut': {'symbol': 'USDC'}}, {'id': '0x423aa6ea23822ed42a01fcf9c74a49a467b06d79436e1259b4daeb9370c56afd05000000', 'amountIn': '4966337252697493821', 'amountInUSD': '7330.28701642370884030430481', 'amountOut': '7325947395', 'amountOutUSD': '7325.947395', 'gasLimit': '3000000', 'gasPrice': '2000000000', 'tick': '-203352', 'timestamp': '1676309050', 'pool': {'id': '0xc31e54c7a869b9fcbecc14363cf510d1c41fa443'}, 'tokenIn': {'symbol': 'WETH'}, 'tokenOut': {'symbol': 'USDC'}}, {'id': '0x3d7846f6dd51155cfeff18526caebd617850da002764385066afc17a6861afd003000000', 'amountIn': '3924181381558640768', 'amountInUSD': '5789.45831878083121650781824', 'amountOut': '5786265065', 'amountOutUSD': '5786.265065', 'gasLimit': '3000000', 'gasPrice': '2000000000', 'tick': '-203356', 'timestamp': '1676309098', 'pool': {'id': '0xc31e54c7a869b9fcbecc14363cf510d1c41fa443'}, 'tokenIn': {'symbol': 'WETH'}, 'tokenOut': {'symbol': 'USDC'}}, {'id': '0x16771976248aa27f23a9251a5e5256580587326ed88c49503d5de45ef38e17ac06000000', 'amountIn': '4395453970406714857', 'amountInUSD': '6478.00111717880390330556633', 'amountOut': '6474369975', 'amountOutUSD': '6474.369975', 'gasLimit': '3000000', 'gasPrice': '2000000000', 'tick': '-203366', 'timestamp': '1676309122', 'pool': {'id': '0xc31e54c7a869b9fcbecc14363cf510d1c41fa443'}, 'tokenIn': {'symbol': 'WETH'}, 'tokenOut': {'symbol': 'USDC'}}, {'id': '0x579a3257f4501722eae007690a44cc59aee3ee897972ed742d1128ac9eb17c9204000000', 'amountIn': '6868417967', 'amountInUSD': '6868.417967', 'amountOut': '4659471665448937926', 'amountOutUSD': '6864.54277462772070091731888', 'gasLimit': '3000000', 'gasPrice': '2000000000', 'tick': '-203367', 'timestamp': '1676309155', 'pool': {'id': '0xc31e54c7a869b9fcbecc14363cf510d1c41fa443'}, 'tokenIn': {'symbol': 'USDC'}, 'tokenOut': {'symbol': 'WETH'}}, {'id': '0x8b980701e1a2e2579367caa93a0fa0b7fed2f2a8290ed09bd6f77587d73950911b000000', 'amountIn': '5732943680', 'amountInUSD': '5732.94368', 'amountOut': '3888074770402788980', 'amountOutUSD': '5729.5330400558989843127702', 'gasLimit': '3000000', 'gasPrice': '2000000000', 'tick': '-203365', 'timestamp': '1676309164', 'pool': {'id': '0xc31e54c7a869b9fcbecc14363cf510d1c41fa443'}, 'tokenIn': {'symbol': 'USDC'}, 'tokenOut': {'symbol': 'WETH'}}, {'id': '0xd53b0de578e8af866968eadd44cdca085219418952c6f54bf811e311d766fa9610000000', 'amountIn': '5624351415', 'amountInUSD': '5624.351415', 'amountOut': '3813495708227086284', 'amountOutUSD': '5620.93357488577794857623152', 'gasLimit': '3000000', 'gasPrice': '2000000000', 'tick': '-203362', 'timestamp': '1676309169', 'pool': {'id': '0xc31e54c7a869b9fcbecc14363cf510d1c41fa443'}, 'tokenIn': {'symbol': 'USDC'}, 'tokenOut': {'symbol': 'WETH'}}, {'id': '0x3764abe9ef5de3bcf3da5e2afc74dd6460c08569d57137ef5d9b2d0c43ace3964f000000', 'amountIn': '4713049368144335810', 'amountInUSD': '6948.3870367694589567706052', 'amountOut': '6944018692', 'amountOutUSD': '6944.018692', 'gasLimit': '3000000', 'gasPrice': '2000000000', 'tick': '-203364', 'timestamp': '1676309251', 'pool': {'id': '0xc31e54c7a869b9fcbecc14363cf510d1c41fa443'}, 'tokenIn': {'symbol': 'WETH'}, 'tokenOut': {'symbol': 'USDC'}}, {'id': '0x4ed6a4cd2dd8ab794075fa37b79687370d8720a233e3a3d499aacf4e5d2d434c04000000', 'amountIn': '3754403471216139780', 'amountInUSD': '5532.5137717910483184919458', 'amountOut': '5529461014', 'amountOutUSD': '5529.461014', 'gasLimit': '3000000', 'gasPrice': '2000000000', 'tick': '-203367', 'timestamp': '1676309321', 'pool': {'id': '0xc31e54c7a869b9fcbecc14363cf510d1c41fa443'}, 'tokenIn': {'symbol': 'WETH'}, 'tokenOut': {'symbol': 'USDC'}}]\n"
     ]
    }
   ],
   "source": [
    "# 3. Fetch Arb User Swap Data\n",
    "from gql import gql, Client\n",
    "from gql.transport.requests import RequestsHTTPTransport\n",
    "\n",
    "swap_query = \"\"\"\n",
    "{\n",
    "    swaps(skip: %d, orderBy: timestamp, orderDirection: asc,\n",
    "        where: { account_: {id: \"0x8cc02c2381b7c55e18dccfea917f0677a5671931\"}, timestamp_gte: %d }){\n",
    "        id\n",
    "        amountIn\n",
    "        amountInUSD\n",
    "        amountOut\n",
    "        amountOutUSD\n",
    "        gasLimit\n",
    "        gasPrice\n",
    "        tick\n",
    "        timestamp\n",
    "        pool {\n",
    "            id\n",
    "        }\n",
    "        tokenIn {\n",
    "            symbol\n",
    "        }\n",
    "        tokenOut {\n",
    "            symbol\n",
    "        }\n",
    "    }\n",
    "}\"\"\"\n",
    "\n",
    "\n",
    "client = Client(\n",
    "    transport=RequestsHTTPTransport(\n",
    "        url='https://api.thegraph.com/subgraphs/name/messari/uniswap-v3-arbitrum',\n",
    "        verify=True,\n",
    "        retries=5,\n",
    "    ))\n",
    "\n",
    "response = client.execute(gql(swap_query % (0, 0)))\n",
    "print(response[\"swaps\"])"
   ],
   "metadata": {
    "collapsed": false,
    "pycharm": {
     "name": "#%%\n"
    }
   }
  },
  {
   "cell_type": "code",
   "execution_count": 7,
   "outputs": [
    {
     "name": "stdout",
     "output_type": "stream",
     "text": [
      "2023-06-01 20:30:35.504524 result cnt: 100 id cnt: 100 skip:  0\n",
      "Current time:  2023-02-13 17:28:41+00:00\n",
      "2023-06-01 20:31:29.045159 result cnt: 1090 id cnt: 1090 skip:  0\n",
      "Current time:  2023-02-14 17:21:46+00:00\n",
      "2023-06-01 20:32:16.711624 result cnt: 2080 id cnt: 2080 skip:  0\n",
      "Current time:  2023-02-15 19:47:13+00:00\n",
      "2023-06-01 20:33:04.625562 result cnt: 3070 id cnt: 3070 skip:  0\n",
      "Current time:  2023-02-16 14:42:14+00:00\n",
      "2023-06-01 20:33:53.602710 result cnt: 4060 id cnt: 4060 skip:  0\n",
      "Current time:  2023-02-17 00:01:10+00:00\n",
      "2023-06-01 20:34:42.618796 result cnt: 5050 id cnt: 5050 skip:  0\n",
      "Current time:  2023-02-17 21:10:55+00:00\n",
      "2023-06-01 20:35:31.143546 result cnt: 6040 id cnt: 6040 skip:  0\n",
      "Current time:  2023-02-19 17:07:57+00:00\n",
      "2023-06-01 20:36:18.833062 result cnt: 7030 id cnt: 7030 skip:  0\n",
      "Current time:  2023-02-20 23:02:11+00:00\n",
      "2023-06-01 20:37:05.405891 result cnt: 8020 id cnt: 8020 skip:  0\n",
      "Current time:  2023-02-21 23:02:09+00:00\n",
      "2023-06-01 20:37:51.707454 result cnt: 9010 id cnt: 9010 skip:  0\n",
      "Current time:  2023-02-22 19:13:28+00:00\n",
      "2023-06-01 20:38:38.492075 result cnt: 10000 id cnt: 10000 skip:  0\n",
      "Current time:  2023-02-23 16:03:40+00:00\n",
      "2023-06-01 20:39:30.043257 result cnt: 11089 id cnt: 11089 skip:  0\n",
      "Current time:  2023-02-24 19:43:35+00:00\n",
      "2023-06-01 20:40:17.252960 result cnt: 12079 id cnt: 12079 skip:  0\n",
      "Current time:  2023-02-27 14:32:15+00:00\n",
      "2023-06-01 20:41:05.729047 result cnt: 13069 id cnt: 13069 skip:  0\n",
      "Current time:  2023-03-01 08:55:01+00:00\n",
      "2023-06-01 20:41:53.736437 result cnt: 14059 id cnt: 14059 skip:  0\n",
      "Current time:  2023-03-03 01:36:42+00:00\n",
      "2023-06-01 20:42:41.159519 result cnt: 15049 id cnt: 15049 skip:  0\n",
      "Current time:  2023-03-05 13:53:21+00:00\n",
      "2023-06-01 20:43:30.330217 result cnt: 16039 id cnt: 16039 skip:  0\n",
      "Current time:  2023-03-08 06:13:53+00:00\n",
      "2023-06-01 20:44:17.636306 result cnt: 17029 id cnt: 17029 skip:  0\n",
      "Current time:  2023-03-09 20:57:54+00:00\n",
      "2023-06-01 20:45:04.851117 result cnt: 18019 id cnt: 18019 skip:  0\n",
      "Current time:  2023-03-10 11:43:17+00:00\n",
      "2023-06-01 20:45:58.290757 result cnt: 19009 id cnt: 19009 skip:  0\n",
      "Current time:  2023-03-11 00:58:41+00:00\n",
      "2023-06-01 20:46:50.508971 result cnt: 20098 id cnt: 20098 skip:  0\n",
      "Current time:  2023-03-13 18:29:31+00:00\n",
      "2023-06-01 20:47:37.744486 result cnt: 21088 id cnt: 21088 skip:  0\n",
      "Current time:  2023-03-14 13:58:49+00:00\n",
      "2023-06-01 20:48:25.669169 result cnt: 22078 id cnt: 22078 skip:  0\n",
      "Current time:  2023-03-15 00:36:26+00:00\n",
      "2023-06-01 20:49:14.084148 result cnt: 23068 id cnt: 23068 skip:  0\n",
      "Current time:  2023-03-15 16:33:43+00:00\n",
      "2023-06-01 20:50:01.732896 result cnt: 24058 id cnt: 24058 skip:  0\n",
      "Current time:  2023-03-16 21:43:37+00:00\n",
      "2023-06-01 20:50:48.073776 result cnt: 25048 id cnt: 25048 skip:  0\n",
      "Current time:  2023-03-18 00:48:55+00:00\n",
      "2023-06-01 20:51:36.035825 result cnt: 26038 id cnt: 26038 skip:  0\n",
      "Current time:  2023-03-19 16:33:29+00:00\n",
      "2023-06-01 20:52:24.395561 result cnt: 27028 id cnt: 27028 skip:  0\n",
      "Current time:  2023-03-20 16:55:12+00:00\n",
      "2023-06-01 20:53:13.778091 result cnt: 28018 id cnt: 28018 skip:  0\n",
      "Current time:  2023-03-21 16:45:48+00:00\n",
      "2023-06-01 20:54:04.695036 result cnt: 29008 id cnt: 29008 skip:  0\n",
      "Current time:  2023-03-22 18:39:40+00:00\n",
      "2023-06-01 20:54:57.939147 result cnt: 30097 id cnt: 30097 skip:  0\n",
      "Current time:  2023-03-24 07:12:47+00:00\n",
      "2023-06-01 20:55:46.144225 result cnt: 31087 id cnt: 31087 skip:  0\n",
      "Current time:  2023-03-26 00:48:01+00:00\n",
      "2023-06-01 20:56:35.268016 result cnt: 32077 id cnt: 32077 skip:  0\n",
      "Current time:  2023-03-28 16:29:43+00:00\n",
      "2023-06-01 20:57:24.377612 result cnt: 33067 id cnt: 33067 skip:  0\n",
      "Current time:  2023-03-31 01:03:10+00:00\n",
      "2023-06-01 20:58:11.528377 result cnt: 34057 id cnt: 34057 skip:  0\n",
      "Current time:  2023-04-04 02:19:35+00:00\n",
      "2023-06-01 20:58:59.462377 result cnt: 35047 id cnt: 35047 skip:  0\n",
      "Current time:  2023-04-06 10:03:23+00:00\n",
      "2023-06-01 20:59:46.144302 result cnt: 36037 id cnt: 36037 skip:  0\n",
      "Current time:  2023-04-11 08:41:41+00:00\n",
      "2023-06-01 21:00:32.993847 result cnt: 37027 id cnt: 37027 skip:  0\n",
      "Current time:  2023-04-14 00:18:19+00:00\n",
      "2023-06-01 21:01:30.235155 result cnt: 38017 id cnt: 38017 skip:  0\n",
      "Current time:  2023-04-16 19:08:11+00:00\n",
      "2023-06-01 21:02:18.843249 result cnt: 39007 id cnt: 39007 skip:  0\n",
      "Current time:  2023-04-19 08:12:13+00:00\n",
      "2023-06-01 21:03:11.321098 result cnt: 40096 id cnt: 40096 skip:  0\n",
      "Current time:  2023-04-20 03:25:38+00:00\n",
      "2023-06-01 21:03:57.182672 result cnt: 41086 id cnt: 41086 skip:  0\n",
      "Current time:  2023-04-21 00:26:31+00:00\n",
      "2023-06-01 21:04:44.844047 result cnt: 42076 id cnt: 42076 skip:  0\n",
      "Current time:  2023-04-21 21:17:04+00:00\n",
      "2023-06-01 21:05:32.168108 result cnt: 43066 id cnt: 43066 skip:  0\n",
      "Current time:  2023-04-24 06:30:00+00:00\n",
      "2023-06-01 21:06:19.321226 result cnt: 44056 id cnt: 44056 skip:  0\n",
      "Current time:  2023-04-25 20:09:20+00:00\n",
      "2023-06-01 21:07:08.913312 result cnt: 45046 id cnt: 45046 skip:  0\n",
      "Current time:  2023-04-26 19:58:14+00:00\n",
      "2023-06-01 21:07:57.133248 result cnt: 46036 id cnt: 46036 skip:  0\n",
      "Current time:  2023-04-27 08:15:21+00:00\n",
      "2023-06-01 21:08:45.276186 result cnt: 47026 id cnt: 47026 skip:  0\n",
      "Current time:  2023-04-28 23:01:29+00:00\n",
      "2023-06-01 21:09:36.043572 result cnt: 48016 id cnt: 48016 skip:  0\n",
      "Current time:  2023-05-01 14:10:02+00:00\n",
      "2023-06-01 21:10:24.494060 result cnt: 49006 id cnt: 49006 skip:  0\n",
      "Current time:  2023-05-02 19:36:51+00:00\n",
      "2023-06-01 21:11:17.046569 result cnt: 50095 id cnt: 50095 skip:  0\n",
      "Current time:  2023-05-03 22:58:26+00:00\n",
      "2023-06-01 21:12:04.069579 result cnt: 51085 id cnt: 51085 skip:  0\n",
      "Current time:  2023-05-05 16:04:17+00:00\n",
      "2023-06-01 21:12:50.596789 result cnt: 52075 id cnt: 52075 skip:  0\n",
      "Current time:  2023-05-06 21:57:16+00:00\n",
      "2023-06-01 21:13:38.997472 result cnt: 53065 id cnt: 53065 skip:  0\n",
      "Current time:  2023-05-08 12:17:23+00:00\n",
      "2023-06-01 21:14:25.467305 result cnt: 54055 id cnt: 54055 skip:  0\n",
      "Current time:  2023-05-09 20:01:40+00:00\n",
      "2023-06-01 21:15:12.553252 result cnt: 55045 id cnt: 55045 skip:  0\n",
      "Current time:  2023-05-11 09:53:16+00:00\n",
      "2023-06-01 21:16:05.484921 result cnt: 56035 id cnt: 56035 skip:  0\n",
      "Current time:  2023-05-12 08:35:11+00:00\n",
      "2023-06-01 21:16:53.459138 result cnt: 57025 id cnt: 57025 skip:  0\n",
      "Current time:  2023-05-14 12:10:04+00:00\n",
      "2023-06-01 21:17:40.291280 result cnt: 58015 id cnt: 58015 skip:  0\n",
      "Current time:  2023-05-16 18:00:47+00:00\n",
      "2023-06-01 21:18:26.284692 result cnt: 59005 id cnt: 59005 skip:  0\n",
      "Current time:  2023-05-19 15:12:48+00:00\n",
      "2023-06-01 21:19:20.104391 result cnt: 60094 id cnt: 60094 skip:  0\n",
      "Current time:  2023-05-25 12:00:07+00:00\n",
      "2023-06-01 21:20:06.321167 result cnt: 61084 id cnt: 61084 skip:  0\n",
      "Current time:  2023-05-28 22:18:28+00:00\n",
      "2023-06-01 21:20:57.147851 result cnt: 62074 id cnt: 62074 skip:  0\n",
      "Current time:  2023-05-31 05:58:24+00:00\n"
     ]
    }
   ],
   "source": [
    "from utils import utils\n",
    "from datetime import datetime\n",
    "\n",
    "result = response['swaps']\n",
    "id_set = set([t[\"id\"] for t in result])\n",
    "print_set = set()\n",
    "PRINT_GAP = 1000\n",
    "\n",
    "current_timestamp = int(result[-1][\"timestamp\"])\n",
    "end_timestamp = utils.date_to_utc_timestamp(datetime(2023, 6, 1, 0, 0))\n",
    "\n",
    "# more than 100 swap transactions happened in a second, will need to change skip count\n",
    "skip = 0\n",
    "last_cnt = 0\n",
    "while current_timestamp <= end_timestamp:\n",
    "    if skip == 1000:\n",
    "        break\n",
    "\n",
    "    print_cnt = int(len(result) / PRINT_GAP)\n",
    "    if print_cnt not in print_set:\n",
    "        print_set.add(print_cnt)\n",
    "        print(datetime.now(), \"result cnt:\", len(result), \"id cnt:\", len(id_set), \"skip: \", skip)\n",
    "        print(\"Current time: \", utils.utc_timestamp_to_date(current_timestamp))\n",
    "\n",
    "    last_cnt = len(result)\n",
    "    query = swap_query % (skip, current_timestamp)\n",
    "    try:\n",
    "        response = client.execute(gql(query))\n",
    "\n",
    "        swap_data = response[\"swaps\"]\n",
    "        if len(swap_data) == 0:\n",
    "            break\n",
    "        for item in swap_data:\n",
    "            if int(item[\"timestamp\"]) > end_timestamp:\n",
    "                break\n",
    "            elif item[\"id\"] in id_set:\n",
    "                continue\n",
    "            else:\n",
    "                result.append(item)\n",
    "                id_set.add(item[\"id\"])\n",
    "\n",
    "        if last_cnt == len(result):\n",
    "            skip += 100\n",
    "        else:\n",
    "            skip = 0\n",
    "\n",
    "        current_timestamp = int(result[-1][\"timestamp\"])\n",
    "    except Exception as ex:\n",
    "        print(\"Fetching swap data error\", ex)"
   ],
   "metadata": {
    "collapsed": false,
    "pycharm": {
     "name": "#%%\n"
    }
   }
  },
  {
   "cell_type": "code",
   "execution_count": 9,
   "outputs": [
    {
     "name": "stdout",
     "output_type": "stream",
     "text": [
      "{'id': '0x4163f1437cefc0b6c73e00c8db819ea92aa07395a1a666250da730c3cb8b7ade03000000', 'amountIn': '3516117741730628903', 'amountInUSD': '5174.51464616665305507211904', 'amountOut': '5170663639', 'amountOutUSD': '5170.663639', 'gasLimit': '3000000', 'gasPrice': '2000000000', 'tick': '-203382', 'timestamp': '1676306229', 'pool': {'id': '0xc31e54c7a869b9fcbecc14363cf510d1c41fa443'}, 'tokenIn': {'symbol': 'WETH'}, 'tokenOut': {'symbol': 'USDC'}}\n"
     ]
    }
   ],
   "source": [
    "print(result[0])"
   ],
   "metadata": {
    "collapsed": false,
    "pycharm": {
     "name": "#%%\n"
    }
   }
  },
  {
   "cell_type": "code",
   "execution_count": 13,
   "outputs": [],
   "source": [
    "import pandas as pd\n",
    "from copy import deepcopy\n",
    "\n",
    "\n",
    "arb_result = deepcopy(result)\n",
    "for item in arb_result:\n",
    "    item[\"tokenIn\"] = item[\"tokenIn\"][\"symbol\"]\n",
    "    item[\"tokenOut\"] = item[\"tokenOut\"][\"symbol\"]\n",
    "    item[\"pool\"] = item[\"pool\"][\"id\"]\n",
    "\n",
    "arb_uniswap_df = pd.DataFrame(arb_result)\n",
    "arb_uniswap_df.to_csv(\"../data/user_arb_swap.csv\", index=False)"
   ],
   "metadata": {
    "collapsed": false,
    "pycharm": {
     "name": "#%%\n"
    }
   }
  },
  {
   "cell_type": "code",
   "execution_count": null,
   "outputs": [],
   "source": [],
   "metadata": {
    "collapsed": false,
    "pycharm": {
     "name": "#%%\n"
    }
   }
  }
 ],
 "metadata": {
  "kernelspec": {
   "display_name": "Python 3",
   "language": "python",
   "name": "python3"
  },
  "language_info": {
   "codemirror_mode": {
    "name": "ipython",
    "version": 2
   },
   "file_extension": ".py",
   "mimetype": "text/x-python",
   "name": "python",
   "nbconvert_exporter": "python",
   "pygments_lexer": "ipython2",
   "version": "2.7.6"
  }
 },
 "nbformat": 4,
 "nbformat_minor": 0
}