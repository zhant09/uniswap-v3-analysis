{
 "cells": [
  {
   "cell_type": "code",
   "execution_count": null,
   "outputs": [],
   "source": [
    "import time\n",
    "from datetime import datetime, timezone\n",
    "\n",
    "\n",
    "def date_to_utc_timestamp(c_date):\n",
    "    return int(c_date.replace(tzinfo=timezone.utc).timestamp())\n",
    "\n",
    "\n",
    "def utc_timestamp_to_date(ts):\n",
    "    return datetime.fromtimestamp(ts, tz=timezone.utc)\n",
    "\n",
    "\n",
    "start_date = datetime(2023, 5, 1)\n",
    "print(date_to_utc_timestamp(start_date))\n",
    "# print(utc_timestamp_to_date(1626480000))"
   ],
   "metadata": {
    "collapsed": false,
    "pycharm": {
     "name": "#%%\n"
    }
   }
  },
  {
   "cell_type": "code",
   "execution_count": null,
   "outputs": [],
   "source": [
    "# 1. Fetch Eth Pool Liquidity Data\n",
    "\n",
    "from gql import gql, Client\n",
    "from gql.transport.requests import RequestsHTTPTransport\n",
    "\n",
    "# 0.05% WBTC/ETH pool\n",
    "LOW_POOL_ID = \"0x4585fe77225b41b697c938b018e2ac67ac5a20c0\"\n",
    "# 0.3% WBTC/ETH pool\n",
    "HIGH_POOL_ID = \"0xcbcdf9626bc03e24f779434178a73a0b4bad62ed\"\n",
    "\n",
    "\n",
    "def get_pool_trade_data(pool_id, start_date):\n",
    "    pool_query = \"\"\"\n",
    "    query poolDayDatas($pool_id: ID!, $start_time: Int!,){\n",
    "        poolDayDatas(\n",
    "            where: { pool: $pool_id, date_gt: $start_time }\n",
    "        orderBy: date\n",
    "        orderDirection: asc\n",
    "        ) {\n",
    "            date\n",
    "            # in range liquidity at end of period\n",
    "            liquidity\n",
    "            # current price tracker at end of period\n",
    "            sqrtPrice\n",
    "            # price of token0 - derived from sqrtPrice\n",
    "            tick\n",
    "            # tvl derived in USD at end of period\n",
    "            tvlUSD\n",
    "            # volume in token0\n",
    "            volumeToken0\n",
    "            # volume in token1\n",
    "            volumeToken1\n",
    "            # volume in USD\n",
    "            volumeUSD\n",
    "            # fees in USD\n",
    "            feesUSD\n",
    "            # number of transactions during period\n",
    "            txCount\n",
    "            # opening price of token0\n",
    "            open\n",
    "            # high price of token0\n",
    "            high\n",
    "            # low price of token0\n",
    "            low\n",
    "            # close price of token0\n",
    "            close\n",
    "            }\n",
    "    }\n",
    "    \"\"\"\n",
    "\n",
    "    client = Client(\n",
    "        transport=RequestsHTTPTransport(\n",
    "            url='https://api.thegraph.com/subgraphs/name/uniswap/uniswap-v3',\n",
    "            verify=True,\n",
    "            retries=5,\n",
    "        ))\n",
    "\n",
    "    start_timestamp = date_to_utc_timestamp(start_date)\n",
    "    variables = {\"pool_id\": pool_id, \"start_time\": start_timestamp}\n",
    "    response = client.execute(gql(pool_query), variable_values=variables)\n",
    "    trade_data = response[\"poolDayDatas\"]\n",
    "    trade_all_data = trade_data\n",
    "\n",
    "    while len(trade_data) > 0:\n",
    "        print(utc_timestamp_to_date(start_timestamp))\n",
    "        print(len(trade_all_data))\n",
    "        start_timestamp = trade_data[-1]['date']\n",
    "        variables = {\"pool_id\": pool_id, \"start_time\": start_timestamp}\n",
    "        response = client.execute(gql(pool_query), variable_values=variables)\n",
    "        trade_data = response[\"poolDayDatas\"]\n",
    "        trade_all_data += trade_data\n",
    "\n",
    "    return trade_all_data\n",
    "\n",
    "\n",
    "# the earliest data is from 2021-05-01\n",
    "start_date = datetime(2021, 5, 1)\n",
    "pool_data = get_pool_trade_data(LOW_POOL_ID, start_date)"
   ],
   "metadata": {
    "collapsed": false,
    "pycharm": {
     "name": "#%%\n"
    }
   }
  },
  {
   "cell_type": "code",
   "execution_count": null,
   "outputs": [],
   "source": [
    "import pandas as pd\n",
    "\n",
    "uniswap_df = pd.DataFrame(pool_data)\n",
    "uniswap_df.head()"
   ],
   "metadata": {
    "collapsed": false,
    "pycharm": {
     "name": "#%%\n"
    }
   }
  },
  {
   "cell_type": "code",
   "execution_count": null,
   "outputs": [],
   "source": [
    "uniswap_df.to_csv(\"../data/wbtc_eth_0.05_uniswap_data.csv\", index=False)"
   ],
   "metadata": {
    "collapsed": false,
    "pycharm": {
     "name": "#%%\n"
    }
   }
  },
  {
   "cell_type": "code",
   "execution_count": null,
   "outputs": [],
   "source": [
    "pool_data1 = get_pool_trade_data(HIGH_POOL_ID, start_date)\n",
    "uniswap_df1 = pd.DataFrame(pool_data1)\n",
    "uniswap_df1.to_csv(\"../data/wbtc_eth_0.3_uniswap_data.csv\", index=False)"
   ],
   "metadata": {
    "collapsed": false,
    "pycharm": {
     "name": "#%%\n"
    }
   }
  },
  {
   "cell_type": "code",
   "execution_count": null,
   "outputs": [],
   "source": [
    "# 2. Fetch Arb Swap Period Data\n",
    "\n",
    "from datetime import datetime\n",
    "from utils import utils\n",
    "\n",
    "\n",
    "start_timestamp = utils.date_to_utc_timestamp(datetime(2023, 5, 28, 0, 0))\n",
    "end_timestamp = utils.date_to_utc_timestamp(datetime(2023, 5, 30, 0, 0))"
   ],
   "metadata": {
    "collapsed": false,
    "pycharm": {
     "name": "#%%\n"
    }
   }
  },
  {
   "cell_type": "code",
   "execution_count": null,
   "outputs": [],
   "source": [
    "import pandas as pd\n",
    "\n",
    "arb_uniswap_df = pd.read_csv(\"../data/arb_swap_0523_0528.csv\")\n",
    "id_list = arb_uniswap_df[\"id\"].tolist()\n",
    "print(id_list[0])"
   ],
   "metadata": {
    "collapsed": false,
    "pycharm": {
     "name": "#%%\n"
    }
   }
  },
  {
   "cell_type": "code",
   "execution_count": null,
   "outputs": [],
   "source": [
    "# ARB graphQL\n",
    "from gql import gql, Client\n",
    "from gql.transport.requests import RequestsHTTPTransport\n",
    "\n",
    "\n",
    "arb_query = \"\"\"\n",
    "query {\n",
    "    swaps(skip: %d, orderBy: timestamp, orderDirection: asc,\n",
    "        where: { pool: \"0xc31e54c7a869b9fcbecc14363cf510d1c41fa443\", timestamp_gte: %d }){\n",
    "            id\n",
    "            account {\n",
    "                id\n",
    "                positionCount\n",
    "                openPositionCount\n",
    "                closedPositionCount\n",
    "                depositCount\n",
    "                withdrawCount\n",
    "                swapCount\n",
    "            }\n",
    "            gasLimit\n",
    "            gasPrice\n",
    "            amountIn\n",
    "            amountInUSD\n",
    "            amountOut\n",
    "            amountOutUSD\n",
    "            tick\n",
    "            timestamp\n",
    "            tokenIn {\n",
    "                symbol\n",
    "            }\n",
    "            tokenOut {\n",
    "                symbol\n",
    "            }\n",
    "    }\n",
    "}\n",
    "\"\"\"\n",
    "\n",
    "\n",
    "client = Client(\n",
    "    transport=RequestsHTTPTransport(\n",
    "        url='https://api.thegraph.com/subgraphs/name/messari/uniswap-v3-arbitrum',\n",
    "        verify=True,\n",
    "        retries=5,\n",
    "    ))\n",
    "\n",
    "# # variables = { \"num_skip\": 0, \"start_timestamp\": 1684460940 }\n",
    "# # response = client.execute(gql(arb_query), variable_values=variables)\n",
    "response = client.execute(gql(arb_query % (0, start_timestamp)))\n",
    "print(len(response[\"swaps\"]))"
   ],
   "metadata": {
    "collapsed": false,
    "pycharm": {
     "name": "#%%\n"
    }
   }
  },
  {
   "cell_type": "code",
   "execution_count": null,
   "outputs": [],
   "source": [
    "result = response['swaps']\n",
    "id_set = set(id_list)\n",
    "print_set = set()\n",
    "PRINT_GAP = 1000\n",
    "\n",
    "for item in result:\n",
    "    id_set.add(item[\"id\"])\n",
    "\n",
    "# more than 100 swap transactions happened in a second, will need to change skip count\n",
    "skip = 0\n",
    "last_cnt = 0\n",
    "while int(result[-1][\"timestamp\"]) <= end_timestamp:\n",
    "    if skip == 1000:\n",
    "        break\n",
    "    last_cnt = len(result)\n",
    "\n",
    "    print_cnt = int(len(result) / PRINT_GAP)\n",
    "    if print_cnt not in print_set:\n",
    "        print_set.add(print_cnt)\n",
    "        print(datetime.now(), \"result cnt:\", len(result), \"id cnt:\", len(id_set), \"skip: \", skip)\n",
    "        print(\"Current time: \", utils.utc_timestamp_to_date(int(result[-1][\"timestamp\"])))\n",
    "\n",
    "    current_timestamp = int(result[-1][\"timestamp\"])\n",
    "    query = arb_query % (skip, current_timestamp)\n",
    "    try:\n",
    "        response = client.execute(gql(query))\n",
    "\n",
    "        swap_data = response[\"swaps\"]\n",
    "        if len(swap_data) == 0:\n",
    "            break\n",
    "        for item in swap_data:\n",
    "            if int(item[\"timestamp\"]) > end_timestamp:\n",
    "                break\n",
    "            elif item[\"id\"] in id_set:\n",
    "                continue\n",
    "            else:\n",
    "                result.append(item)\n",
    "                id_set.add(item[\"id\"])\n",
    "\n",
    "        if last_cnt == len(result):\n",
    "            skip += 100\n",
    "        else:\n",
    "            skip = 0\n",
    "    except Exception as ex:\n",
    "        print(\"Fetching swap data error\", ex)"
   ],
   "metadata": {
    "collapsed": false,
    "pycharm": {
     "name": "#%%\n"
    }
   }
  },
  {
   "cell_type": "code",
   "execution_count": null,
   "outputs": [],
   "source": [
    "import pandas as pd\n",
    "from copy import deepcopy\n",
    "\n",
    "\n",
    "arb_result = deepcopy(result)\n",
    "for item in arb_result:\n",
    "    item[\"transaction\"] = item[\"id\"]\n",
    "    item[\"trader\"] = item[\"account\"][\"id\"]\n",
    "    item[\"traderPositionCount\"] = item[\"account\"][\"positionCount\"]\n",
    "    item[\"traderOpenPositionCount\"] = item[\"account\"][\"openPositionCount\"]\n",
    "    item[\"traderClosedPositionCount\"] = item[\"account\"][\"closedPositionCount\"]\n",
    "    item[\"traderDepositCount\"] = item[\"account\"][\"depositCount\"]\n",
    "    item[\"traderWithdrawCount\"] = item[\"account\"][\"withdrawCount\"]\n",
    "    item[\"traderSwapCount\"] = item[\"account\"][\"swapCount\"]\n",
    "    item[\"tokenIn\"] = item[\"tokenIn\"][\"symbol\"]\n",
    "    item[\"tokenOut\"] = item[\"tokenOut\"][\"symbol\"]\n",
    "    item.pop(\"account\")\n",
    "\n",
    "arb_uniswap_df1 = pd.DataFrame(arb_result)\n",
    "df = pd.concat([arb_uniswap_df, arb_uniswap_df1])\n",
    "df.head()"
   ],
   "metadata": {
    "collapsed": false,
    "pycharm": {
     "name": "#%%\n"
    }
   }
  },
  {
   "cell_type": "code",
   "execution_count": null,
   "outputs": [],
   "source": [
    "def get_amount_price(swap_item):\n",
    "    if swap_item[\"tokenIn\"] == \"WETH\":\n",
    "        eth_amount = int(swap_item[\"amountIn\"]) / (10 ** 18)\n",
    "        usd = float(swap_item[\"amountInUSD\"])\n",
    "    else:\n",
    "        eth_amount = int(swap_item[\"amountOut\"]) / (10 ** 18)\n",
    "        usd = float(swap_item[\"amountOutUSD\"])\n",
    "\n",
    "    if eth_amount != 0:\n",
    "        return eth_amount, usd, usd / eth_amount\n",
    "\n",
    "    return eth_amount, usd, None"
   ],
   "metadata": {
    "collapsed": false,
    "pycharm": {
     "name": "#%%\n"
    }
   }
  },
  {
   "cell_type": "code",
   "execution_count": null,
   "outputs": [],
   "source": [
    "data = df.to_dict(\"records\")\n",
    "\n",
    "for item in data:\n",
    "    eth_amount, usd_amount, price = get_amount_price(item)\n",
    "    item[\"ethAmount\"] = eth_amount\n",
    "    item[\"usdAmount\"] = usd_amount\n",
    "    item[\"price\"] = price\n",
    "    item.pop(\"id\")\n",
    "\n",
    "df_new = pd.DataFrame(data)\n",
    "df_new.head()"
   ],
   "metadata": {
    "collapsed": false,
    "pycharm": {
     "name": "#%%\n"
    }
   }
  },
  {
   "cell_type": "code",
   "execution_count": null,
   "outputs": [],
   "source": [
    "df_new.to_csv(\"../data/arb_swap.csv\", index=False)"
   ],
   "metadata": {
    "collapsed": false,
    "pycharm": {
     "name": "#%%\n"
    }
   }
  },
  {
   "cell_type": "code",
   "execution_count": null,
   "outputs": [],
   "source": [
    "# 3. Fetch Arb User Swap Data\n",
    "from gql import gql, Client\n",
    "from gql.transport.requests import RequestsHTTPTransport\n",
    "\n",
    "swap_query = \"\"\"\n",
    "{\n",
    "    swaps(skip: %d, orderBy: timestamp, orderDirection: asc,\n",
    "        where: { account_: {id: \"0x8cc02c2381b7c55e18dccfea917f0677a5671931\"}, timestamp_gte: %d }){\n",
    "        id\n",
    "        amountIn\n",
    "        amountInUSD\n",
    "        amountOut\n",
    "        amountOutUSD\n",
    "        gasLimit\n",
    "        gasPrice\n",
    "        tick\n",
    "        timestamp\n",
    "        pool {\n",
    "            id\n",
    "        }\n",
    "        tokenIn {\n",
    "            symbol\n",
    "        }\n",
    "        tokenOut {\n",
    "            symbol\n",
    "        }\n",
    "    }\n",
    "}\"\"\"\n",
    "\n",
    "\n",
    "client = Client(\n",
    "    transport=RequestsHTTPTransport(\n",
    "        url='https://api.thegraph.com/subgraphs/name/messari/uniswap-v3-arbitrum',\n",
    "        verify=True,\n",
    "        retries=5,\n",
    "    ))\n",
    "\n",
    "response = client.execute(gql(swap_query % (0, 0)))\n",
    "print(response[\"swaps\"])"
   ],
   "metadata": {
    "collapsed": false,
    "pycharm": {
     "name": "#%%\n"
    }
   }
  },
  {
   "cell_type": "code",
   "execution_count": null,
   "outputs": [],
   "source": [
    "from utils import utils\n",
    "from datetime import datetime\n",
    "\n",
    "result = response['swaps']\n",
    "id_set = set([t[\"id\"] for t in result])\n",
    "print_set = set()\n",
    "PRINT_GAP = 1000\n",
    "\n",
    "current_timestamp = int(result[-1][\"timestamp\"])\n",
    "end_timestamp = utils.date_to_utc_timestamp(datetime(2023, 6, 1, 0, 0))\n",
    "\n",
    "# more than 100 swap transactions happened in a second, will need to change skip count\n",
    "skip = 0\n",
    "last_cnt = 0\n",
    "while current_timestamp <= end_timestamp:\n",
    "    if skip == 1000:\n",
    "        break\n",
    "\n",
    "    print_cnt = int(len(result) / PRINT_GAP)\n",
    "    if print_cnt not in print_set:\n",
    "        print_set.add(print_cnt)\n",
    "        print(datetime.now(), \"result cnt:\", len(result), \"id cnt:\", len(id_set), \"skip: \", skip)\n",
    "        print(\"Current time: \", utils.utc_timestamp_to_date(current_timestamp))\n",
    "\n",
    "    last_cnt = len(result)\n",
    "    query = swap_query % (skip, current_timestamp)\n",
    "    try:\n",
    "        response = client.execute(gql(query))\n",
    "\n",
    "        swap_data = response[\"swaps\"]\n",
    "        if len(swap_data) == 0:\n",
    "            break\n",
    "        for item in swap_data:\n",
    "            if int(item[\"timestamp\"]) > end_timestamp:\n",
    "                break\n",
    "            elif item[\"id\"] in id_set:\n",
    "                continue\n",
    "            else:\n",
    "                result.append(item)\n",
    "                id_set.add(item[\"id\"])\n",
    "\n",
    "        if last_cnt == len(result):\n",
    "            skip += 100\n",
    "        else:\n",
    "            skip = 0\n",
    "\n",
    "        current_timestamp = int(result[-1][\"timestamp\"])\n",
    "    except Exception as ex:\n",
    "        print(\"Fetching swap data error\", ex)"
   ],
   "metadata": {
    "collapsed": false,
    "pycharm": {
     "name": "#%%\n"
    }
   }
  },
  {
   "cell_type": "code",
   "execution_count": null,
   "outputs": [],
   "source": [
    "print(result[0])"
   ],
   "metadata": {
    "collapsed": false,
    "pycharm": {
     "name": "#%%\n"
    }
   }
  },
  {
   "cell_type": "code",
   "execution_count": null,
   "outputs": [],
   "source": [
    "import pandas as pd\n",
    "from copy import deepcopy\n",
    "\n",
    "\n",
    "arb_result = deepcopy(result)\n",
    "for item in arb_result:\n",
    "    item[\"tokenIn\"] = item[\"tokenIn\"][\"symbol\"]\n",
    "    item[\"tokenOut\"] = item[\"tokenOut\"][\"symbol\"]\n",
    "    item[\"pool\"] = item[\"pool\"][\"id\"]\n",
    "\n",
    "arb_uniswap_df = pd.DataFrame(arb_result)\n",
    "arb_uniswap_df.to_csv(\"../data/user_arb_swap.csv\", index=False)"
   ],
   "metadata": {
    "collapsed": false,
    "pycharm": {
     "name": "#%%\n"
    }
   }
  },
  {
   "cell_type": "code",
   "execution_count": null,
   "outputs": [],
   "source": [
    "import time\n",
    "\n",
    "from gql import gql, Client\n",
    "from gql.transport.requests import RequestsHTTPTransport\n",
    "\n",
    "\n",
    "client = Client(\n",
    "    transport=RequestsHTTPTransport(\n",
    "        url='https://api.thegraph.com/subgraphs/name/messari/uniswap-v3-arbitrum',\n",
    "        verify=True,\n",
    "        retries=5,\n",
    "    ))\n",
    "\n",
    "query1 = \"\"\"query get_pools($pool_id: ID!) {\n",
    "    liquidityPool(id: $pool_id) {\n",
    "        tick\n",
    "        lastUpdateTimestamp\n",
    "    }\n",
    "}\"\"\"\n",
    "\n",
    "variables = { \"pool_id\": \"0xc31e54c7a869b9fcbecc14363cf510d1c41fa443\" }\n",
    "print(int(time.time()))\n",
    "response1 = client.execute(gql(query1), variable_values=variables)\n",
    "print(response1[\"liquidityPool\"][\"lastUpdateTimestamp\"])\n",
    "print(int(time.time()))"
   ],
   "metadata": {
    "collapsed": false,
    "pycharm": {
     "name": "#%%\n"
    }
   }
  },
  {
   "cell_type": "code",
   "execution_count": null,
   "outputs": [],
   "source": [
    "query2 = \"\"\"\n",
    "{\n",
    "    liquidityPool(id: \"0xc31e54c7a869b9fcbecc14363cf510d1c41fa443\") {\n",
    "        tick\n",
    "        lastUpdateTimestamp\n",
    "    }\n",
    "}\"\"\"\n",
    "\n",
    "print(int(time.time()))\n",
    "response2 = client.execute(gql(query2))\n",
    "print(response2[\"liquidityPool\"][\"lastUpdateTimestamp\"])\n",
    "print(int(time.time()))"
   ],
   "metadata": {
    "collapsed": false,
    "pycharm": {
     "name": "#%%\n"
    }
   }
  },
  {
   "cell_type": "code",
   "execution_count": null,
   "outputs": [],
   "source": [],
   "metadata": {
    "collapsed": false,
    "pycharm": {
     "name": "#%%\n"
    }
   }
  },
  {
   "cell_type": "code",
   "execution_count": null,
   "outputs": [],
   "source": [],
   "metadata": {
    "collapsed": false,
    "pycharm": {
     "name": "#%%\n"
    }
   }
  }
 ],
 "metadata": {
  "kernelspec": {
   "display_name": "Python 3",
   "language": "python",
   "name": "python3"
  },
  "language_info": {
   "codemirror_mode": {
    "name": "ipython",
    "version": 2
   },
   "file_extension": ".py",
   "mimetype": "text/x-python",
   "name": "python",
   "nbconvert_exporter": "python",
   "pygments_lexer": "ipython2",
   "version": "2.7.6"
  }
 },
 "nbformat": 4,
 "nbformat_minor": 0
}