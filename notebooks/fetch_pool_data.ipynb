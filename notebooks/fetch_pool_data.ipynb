{
 "cells": [
  {
   "cell_type": "code",
   "execution_count": null,
   "metadata": {
    "collapsed": false,
    "pycharm": {
     "name": "#%%\n"
    }
   },
   "outputs": [],
   "source": [
    "import time\n",
    "from datetime import datetime, timezone\n",
    "\n",
    "\n",
    "def date_to_utc_timestamp(c_date):\n",
    "    return int(c_date.replace(tzinfo=timezone.utc).timestamp())\n",
    "\n",
    "\n",
    "def utc_timestamp_to_date(ts):\n",
    "    return datetime.fromtimestamp(ts, tz=timezone.utc)\n",
    "\n",
    "\n",
    "start_date = datetime(2023, 5, 1)\n",
    "print(date_to_utc_timestamp(start_date))\n",
    "# print(utc_timestamp_to_date(1626480000))"
   ]
  },
  {
   "cell_type": "code",
   "execution_count": null,
   "metadata": {
    "collapsed": false,
    "pycharm": {
     "name": "#%%\n"
    }
   },
   "outputs": [],
   "source": [
    "# 1. Fetch Eth Pool Liquidity Data\n",
    "\n",
    "from gql import gql, Client\n",
    "from gql.transport.requests import RequestsHTTPTransport\n",
    "\n",
    "# 0.05% WBTC/ETH pool\n",
    "LOW_POOL_ID = \"0x4585fe77225b41b697c938b018e2ac67ac5a20c0\"\n",
    "# 0.3% WBTC/ETH pool\n",
    "HIGH_POOL_ID = \"0xcbcdf9626bc03e24f779434178a73a0b4bad62ed\"\n",
    "\n",
    "\n",
    "def get_pool_trade_data(pool_id, start_date):\n",
    "    pool_query = \"\"\"\n",
    "    query poolDayDatas($pool_id: ID!, $start_time: Int!,){\n",
    "        poolDayDatas(\n",
    "            where: { pool: $pool_id, date_gt: $start_time }\n",
    "        orderBy: date\n",
    "        orderDirection: asc\n",
    "        ) {\n",
    "            date\n",
    "            # in range liquidity at end of period\n",
    "            liquidity\n",
    "            # current price tracker at end of period\n",
    "            sqrtPrice\n",
    "            # price of token0 - derived from sqrtPrice\n",
    "            tick\n",
    "            # tvl derived in USD at end of period\n",
    "            tvlUSD\n",
    "            # volume in token0\n",
    "            volumeToken0\n",
    "            # volume in token1\n",
    "            volumeToken1\n",
    "            # volume in USD\n",
    "            volumeUSD\n",
    "            # fees in USD\n",
    "            feesUSD\n",
    "            # number of transactions during period\n",
    "            txCount\n",
    "            # opening price of token0\n",
    "            open\n",
    "            # high price of token0\n",
    "            high\n",
    "            # low price of token0\n",
    "            low\n",
    "            # close price of token0\n",
    "            close\n",
    "            }\n",
    "    }\n",
    "    \"\"\"\n",
    "\n",
    "    client = Client(\n",
    "        transport=RequestsHTTPTransport(\n",
    "            url='https://api.thegraph.com/subgraphs/name/uniswap/uniswap-v3',\n",
    "            verify=True,\n",
    "            retries=5,\n",
    "        ))\n",
    "\n",
    "    start_timestamp = date_to_utc_timestamp(start_date)\n",
    "    variables = {\"pool_id\": pool_id, \"start_time\": start_timestamp}\n",
    "    response = client.execute(gql(pool_query), variable_values=variables)\n",
    "    trade_data = response[\"poolDayDatas\"]\n",
    "    trade_all_data = trade_data\n",
    "\n",
    "    while len(trade_data) > 0:\n",
    "        print(utc_timestamp_to_date(start_timestamp))\n",
    "        print(len(trade_all_data))\n",
    "        start_timestamp = trade_data[-1]['date']\n",
    "        variables = {\"pool_id\": pool_id, \"start_time\": start_timestamp}\n",
    "        response = client.execute(gql(pool_query), variable_values=variables)\n",
    "        trade_data = response[\"poolDayDatas\"]\n",
    "        trade_all_data += trade_data\n",
    "\n",
    "    return trade_all_data\n",
    "\n",
    "\n",
    "# the earliest data is from 2021-05-01\n",
    "start_date = datetime(2021, 5, 1)\n",
    "pool_data = get_pool_trade_data(LOW_POOL_ID, start_date)"
   ]
  },
  {
   "cell_type": "code",
   "execution_count": null,
   "metadata": {
    "collapsed": false,
    "pycharm": {
     "name": "#%%\n"
    }
   },
   "outputs": [],
   "source": [
    "import pandas as pd\n",
    "\n",
    "uniswap_df = pd.DataFrame(pool_data)\n",
    "uniswap_df.head()"
   ]
  },
  {
   "cell_type": "code",
   "execution_count": null,
   "metadata": {
    "collapsed": false,
    "pycharm": {
     "name": "#%%\n"
    }
   },
   "outputs": [],
   "source": [
    "uniswap_df.to_csv(\"../data/wbtc_eth_0.05_uniswap_data.csv\", index=False)"
   ]
  },
  {
   "cell_type": "code",
   "execution_count": null,
   "metadata": {
    "collapsed": false,
    "pycharm": {
     "name": "#%%\n"
    }
   },
   "outputs": [],
   "source": [
    "pool_data1 = get_pool_trade_data(HIGH_POOL_ID, start_date)\n",
    "uniswap_df1 = pd.DataFrame(pool_data1)\n",
    "uniswap_df1.to_csv(\"../data/wbtc_eth_0.3_uniswap_data.csv\", index=False)"
   ]
  },
  {
   "cell_type": "code",
   "execution_count": null,
   "metadata": {
    "collapsed": false,
    "pycharm": {
     "name": "#%%\n"
    }
   },
   "outputs": [],
   "source": [
    "# 2. Fetch Arb Swap Period Data\n",
    "\n",
    "from datetime import datetime\n",
    "from utils import utils\n",
    "\n",
    "\n",
    "start_timestamp = utils.date_to_utc_timestamp(datetime(2023, 5, 28, 0, 0))\n",
    "end_timestamp = utils.date_to_utc_timestamp(datetime(2023, 5, 30, 0, 0))"
   ]
  },
  {
   "cell_type": "code",
   "execution_count": null,
   "metadata": {
    "collapsed": false,
    "pycharm": {
     "name": "#%%\n"
    }
   },
   "outputs": [],
   "source": [
    "import pandas as pd\n",
    "\n",
    "arb_uniswap_df = pd.read_csv(\"../data/arb_swap_0523_0528.csv\")\n",
    "id_list = arb_uniswap_df[\"id\"].tolist()\n",
    "print(id_list[0])"
   ]
  },
  {
   "cell_type": "code",
   "execution_count": null,
   "metadata": {
    "collapsed": false,
    "pycharm": {
     "name": "#%%\n"
    }
   },
   "outputs": [],
   "source": [
    "# ARB graphQL\n",
    "from gql import gql, Client\n",
    "from gql.transport.requests import RequestsHTTPTransport\n",
    "\n",
    "\n",
    "arb_query = \"\"\"\n",
    "query {\n",
    "    swaps(skip: %d, orderBy: timestamp, orderDirection: asc,\n",
    "        where: { pool: \"0xc31e54c7a869b9fcbecc14363cf510d1c41fa443\", timestamp_gte: %d }){\n",
    "            id\n",
    "            account {\n",
    "                id\n",
    "                positionCount\n",
    "                openPositionCount\n",
    "                closedPositionCount\n",
    "                depositCount\n",
    "                withdrawCount\n",
    "                swapCount\n",
    "            }\n",
    "            gasLimit\n",
    "            gasPrice\n",
    "            amountIn\n",
    "            amountInUSD\n",
    "            amountOut\n",
    "            amountOutUSD\n",
    "            tick\n",
    "            timestamp\n",
    "            tokenIn {\n",
    "                symbol\n",
    "            }\n",
    "            tokenOut {\n",
    "                symbol\n",
    "            }\n",
    "    }\n",
    "}\n",
    "\"\"\"\n",
    "\n",
    "\n",
    "client = Client(\n",
    "    transport=RequestsHTTPTransport(\n",
    "        url='https://api.thegraph.com/subgraphs/name/messari/uniswap-v3-arbitrum',\n",
    "        verify=True,\n",
    "        retries=5,\n",
    "    ))\n",
    "\n",
    "# # variables = { \"num_skip\": 0, \"start_timestamp\": 1684460940 }\n",
    "# # response = client.execute(gql(arb_query), variable_values=variables)\n",
    "response = client.execute(gql(arb_query % (0, start_timestamp)))\n",
    "print(len(response[\"swaps\"]))"
   ]
  },
  {
   "cell_type": "code",
   "execution_count": null,
   "metadata": {
    "collapsed": false,
    "pycharm": {
     "name": "#%%\n"
    }
   },
   "outputs": [],
   "source": [
    "result = response['swaps']\n",
    "id_set = set(id_list)\n",
    "print_set = set()\n",
    "PRINT_GAP = 1000\n",
    "\n",
    "for item in result:\n",
    "    id_set.add(item[\"id\"])\n",
    "\n",
    "# more than 100 swap transactions happened in a second, will need to change skip count\n",
    "skip = 0\n",
    "last_cnt = 0\n",
    "while int(result[-1][\"timestamp\"]) <= end_timestamp:\n",
    "    if skip == 1000:\n",
    "        break\n",
    "    last_cnt = len(result)\n",
    "\n",
    "    print_cnt = int(len(result) / PRINT_GAP)\n",
    "    if print_cnt not in print_set:\n",
    "        print_set.add(print_cnt)\n",
    "        print(datetime.now(), \"result cnt:\", len(result), \"id cnt:\", len(id_set), \"skip: \", skip)\n",
    "        print(\"Current time: \", utils.utc_timestamp_to_date(int(result[-1][\"timestamp\"])))\n",
    "\n",
    "    current_timestamp = int(result[-1][\"timestamp\"])\n",
    "    query = arb_query % (skip, current_timestamp)\n",
    "    try:\n",
    "        response = client.execute(gql(query))\n",
    "\n",
    "        swap_data = response[\"swaps\"]\n",
    "        if len(swap_data) == 0:\n",
    "            break\n",
    "        for item in swap_data:\n",
    "            if int(item[\"timestamp\"]) > end_timestamp:\n",
    "                break\n",
    "            elif item[\"id\"] in id_set:\n",
    "                continue\n",
    "            else:\n",
    "                result.append(item)\n",
    "                id_set.add(item[\"id\"])\n",
    "\n",
    "        if last_cnt == len(result):\n",
    "            skip += 100\n",
    "        else:\n",
    "            skip = 0\n",
    "    except Exception as ex:\n",
    "        print(\"Fetching swap data error\", ex)"
   ]
  },
  {
   "cell_type": "code",
   "execution_count": null,
   "metadata": {
    "collapsed": false,
    "pycharm": {
     "name": "#%%\n"
    }
   },
   "outputs": [],
   "source": [
    "import pandas as pd\n",
    "from copy import deepcopy\n",
    "\n",
    "\n",
    "arb_result = deepcopy(result)\n",
    "for item in arb_result:\n",
    "    item[\"transaction\"] = item[\"id\"]\n",
    "    item[\"trader\"] = item[\"account\"][\"id\"]\n",
    "    item[\"traderPositionCount\"] = item[\"account\"][\"positionCount\"]\n",
    "    item[\"traderOpenPositionCount\"] = item[\"account\"][\"openPositionCount\"]\n",
    "    item[\"traderClosedPositionCount\"] = item[\"account\"][\"closedPositionCount\"]\n",
    "    item[\"traderDepositCount\"] = item[\"account\"][\"depositCount\"]\n",
    "    item[\"traderWithdrawCount\"] = item[\"account\"][\"withdrawCount\"]\n",
    "    item[\"traderSwapCount\"] = item[\"account\"][\"swapCount\"]\n",
    "    item[\"tokenIn\"] = item[\"tokenIn\"][\"symbol\"]\n",
    "    item[\"tokenOut\"] = item[\"tokenOut\"][\"symbol\"]\n",
    "    item.pop(\"account\")\n",
    "\n",
    "arb_uniswap_df1 = pd.DataFrame(arb_result)\n",
    "df = pd.concat([arb_uniswap_df, arb_uniswap_df1])\n",
    "df.head()"
   ]
  },
  {
   "cell_type": "code",
   "execution_count": null,
   "metadata": {
    "collapsed": false,
    "pycharm": {
     "name": "#%%\n"
    }
   },
   "outputs": [],
   "source": [
    "def get_amount_price(swap_item):\n",
    "    if swap_item[\"tokenIn\"] == \"WETH\":\n",
    "        eth_amount = int(swap_item[\"amountIn\"]) / (10 ** 18)\n",
    "        usd = float(swap_item[\"amountInUSD\"])\n",
    "    else:\n",
    "        eth_amount = int(swap_item[\"amountOut\"]) / (10 ** 18)\n",
    "        usd = float(swap_item[\"amountOutUSD\"])\n",
    "\n",
    "    if eth_amount != 0:\n",
    "        return eth_amount, usd, usd / eth_amount\n",
    "\n",
    "    return eth_amount, usd, None"
   ]
  },
  {
   "cell_type": "code",
   "execution_count": null,
   "metadata": {
    "collapsed": false,
    "pycharm": {
     "name": "#%%\n"
    }
   },
   "outputs": [],
   "source": [
    "data = df.to_dict(\"records\")\n",
    "\n",
    "for item in data:\n",
    "    eth_amount, usd_amount, price = get_amount_price(item)\n",
    "    item[\"ethAmount\"] = eth_amount\n",
    "    item[\"usdAmount\"] = usd_amount\n",
    "    item[\"price\"] = price\n",
    "    item.pop(\"id\")\n",
    "\n",
    "df_new = pd.DataFrame(data)\n",
    "df_new.head()"
   ]
  },
  {
   "cell_type": "code",
   "execution_count": null,
   "metadata": {
    "collapsed": false,
    "pycharm": {
     "name": "#%%\n"
    }
   },
   "outputs": [],
   "source": [
    "df_new.to_csv(\"../data/arb_swap.csv\", index=False)"
   ]
  },
  {
   "cell_type": "code",
   "execution_count": 1,
   "metadata": {},
   "outputs": [
    {
     "data": {
      "text/html": [
       "<div>\n",
       "<style scoped>\n",
       "    .dataframe tbody tr th:only-of-type {\n",
       "        vertical-align: middle;\n",
       "    }\n",
       "\n",
       "    .dataframe tbody tr th {\n",
       "        vertical-align: top;\n",
       "    }\n",
       "\n",
       "    .dataframe thead th {\n",
       "        text-align: right;\n",
       "    }\n",
       "</style>\n",
       "<table border=\"1\" class=\"dataframe\">\n",
       "  <thead>\n",
       "    <tr style=\"text-align: right;\">\n",
       "      <th></th>\n",
       "      <th>id</th>\n",
       "      <th>amountIn</th>\n",
       "      <th>amountInUSD</th>\n",
       "      <th>amountOut</th>\n",
       "      <th>amountOutUSD</th>\n",
       "      <th>gasLimit</th>\n",
       "      <th>gasPrice</th>\n",
       "      <th>tick</th>\n",
       "      <th>timestamp</th>\n",
       "      <th>pool</th>\n",
       "      <th>tokenIn</th>\n",
       "      <th>tokenOut</th>\n",
       "    </tr>\n",
       "  </thead>\n",
       "  <tbody>\n",
       "    <tr>\n",
       "      <th>0</th>\n",
       "      <td>0x4163f1437cefc0b6c73e00c8db819ea92aa07395a1a6...</td>\n",
       "      <td>3516117741730628903</td>\n",
       "      <td>5174.514646</td>\n",
       "      <td>5170663639</td>\n",
       "      <td>5170.663639</td>\n",
       "      <td>3000000</td>\n",
       "      <td>2000000000</td>\n",
       "      <td>-203382</td>\n",
       "      <td>1676306229</td>\n",
       "      <td>0xc31e54c7a869b9fcbecc14363cf510d1c41fa443</td>\n",
       "      <td>WETH</td>\n",
       "      <td>USDC</td>\n",
       "    </tr>\n",
       "    <tr>\n",
       "      <th>1</th>\n",
       "      <td>0x058d12a79ee20e82379e5d0b2b1eeeaaa2988768244d...</td>\n",
       "      <td>4186892251423356044</td>\n",
       "      <td>6158.127305</td>\n",
       "      <td>6154400504</td>\n",
       "      <td>6154.400504</td>\n",
       "      <td>3000000</td>\n",
       "      <td>2000000000</td>\n",
       "      <td>-203387</td>\n",
       "      <td>1676306236</td>\n",
       "      <td>0xc31e54c7a869b9fcbecc14363cf510d1c41fa443</td>\n",
       "      <td>WETH</td>\n",
       "      <td>USDC</td>\n",
       "    </tr>\n",
       "    <tr>\n",
       "      <th>2</th>\n",
       "      <td>0xcd8af3e9679b087671fa11627d3f0864b3bedb46523c...</td>\n",
       "      <td>3559441400205692687</td>\n",
       "      <td>5231.842059</td>\n",
       "      <td>5228940013</td>\n",
       "      <td>5228.940013</td>\n",
       "      <td>3000000</td>\n",
       "      <td>2000000000</td>\n",
       "      <td>-203393</td>\n",
       "      <td>1676306246</td>\n",
       "      <td>0xc31e54c7a869b9fcbecc14363cf510d1c41fa443</td>\n",
       "      <td>WETH</td>\n",
       "      <td>USDC</td>\n",
       "    </tr>\n",
       "    <tr>\n",
       "      <th>3</th>\n",
       "      <td>0xa9ac38c9ce148d8830f73bec697d014de0ad3aa7e3a3...</td>\n",
       "      <td>8250801903</td>\n",
       "      <td>8250.801903</td>\n",
       "      <td>5613510956742205013</td>\n",
       "      <td>8245.020033</td>\n",
       "      <td>3000000</td>\n",
       "      <td>2000000000</td>\n",
       "      <td>-203396</td>\n",
       "      <td>1676306255</td>\n",
       "      <td>0xc31e54c7a869b9fcbecc14363cf510d1c41fa443</td>\n",
       "      <td>USDC</td>\n",
       "      <td>WETH</td>\n",
       "    </tr>\n",
       "    <tr>\n",
       "      <th>4</th>\n",
       "      <td>0xc6ea270acc5833c393000dad84ffb0baaf793238f669...</td>\n",
       "      <td>3454446749687345942</td>\n",
       "      <td>5076.537527</td>\n",
       "      <td>5073730688</td>\n",
       "      <td>5073.730688</td>\n",
       "      <td>3000000</td>\n",
       "      <td>2000000000</td>\n",
       "      <td>-203395</td>\n",
       "      <td>1676306282</td>\n",
       "      <td>0xc31e54c7a869b9fcbecc14363cf510d1c41fa443</td>\n",
       "      <td>WETH</td>\n",
       "      <td>USDC</td>\n",
       "    </tr>\n",
       "  </tbody>\n",
       "</table>\n",
       "</div>"
      ],
      "text/plain": [
       "                                                  id             amountIn  \\\n",
       "0  0x4163f1437cefc0b6c73e00c8db819ea92aa07395a1a6...  3516117741730628903   \n",
       "1  0x058d12a79ee20e82379e5d0b2b1eeeaaa2988768244d...  4186892251423356044   \n",
       "2  0xcd8af3e9679b087671fa11627d3f0864b3bedb46523c...  3559441400205692687   \n",
       "3  0xa9ac38c9ce148d8830f73bec697d014de0ad3aa7e3a3...           8250801903   \n",
       "4  0xc6ea270acc5833c393000dad84ffb0baaf793238f669...  3454446749687345942   \n",
       "\n",
       "   amountInUSD            amountOut  amountOutUSD  gasLimit    gasPrice  \\\n",
       "0  5174.514646           5170663639   5170.663639   3000000  2000000000   \n",
       "1  6158.127305           6154400504   6154.400504   3000000  2000000000   \n",
       "2  5231.842059           5228940013   5228.940013   3000000  2000000000   \n",
       "3  8250.801903  5613510956742205013   8245.020033   3000000  2000000000   \n",
       "4  5076.537527           5073730688   5073.730688   3000000  2000000000   \n",
       "\n",
       "     tick   timestamp                                        pool tokenIn  \\\n",
       "0 -203382  1676306229  0xc31e54c7a869b9fcbecc14363cf510d1c41fa443    WETH   \n",
       "1 -203387  1676306236  0xc31e54c7a869b9fcbecc14363cf510d1c41fa443    WETH   \n",
       "2 -203393  1676306246  0xc31e54c7a869b9fcbecc14363cf510d1c41fa443    WETH   \n",
       "3 -203396  1676306255  0xc31e54c7a869b9fcbecc14363cf510d1c41fa443    USDC   \n",
       "4 -203395  1676306282  0xc31e54c7a869b9fcbecc14363cf510d1c41fa443    WETH   \n",
       "\n",
       "  tokenOut  \n",
       "0     USDC  \n",
       "1     USDC  \n",
       "2     USDC  \n",
       "3     WETH  \n",
       "4     USDC  "
      ]
     },
     "execution_count": 1,
     "metadata": {},
     "output_type": "execute_result"
    }
   ],
   "source": [
    "# 3. Fetch And Concat Arb User Swap Data\n",
    "import pandas as pd\n",
    "\n",
    "\n",
    "df = pd.read_csv(\"../data/user_arb_swap_resolved.csv\")\n",
    "df.head()"
   ]
  },
  {
   "cell_type": "code",
   "execution_count": 3,
   "metadata": {},
   "outputs": [
    {
     "name": "stdout",
     "output_type": "stream",
     "text": [
      "<class 'int'>\n"
     ]
    }
   ],
   "source": [
    "last_timestamp = int(df[\"timestamp\"].max())\n",
    "print(type(last_timestamp))"
   ]
  },
  {
   "cell_type": "code",
   "execution_count": 4,
   "metadata": {
    "collapsed": false,
    "pycharm": {
     "name": "#%%\n"
    }
   },
   "outputs": [
    {
     "name": "stdout",
     "output_type": "stream",
     "text": [
      "[{'id': '0xf18c91bf18a01b04bdd36f9f2a86364f8e93c1974eb4480e2de26d9dea0d23dd1e000000', 'amountIn': '16491066994', 'amountInUSD': '16491.066994', 'amountOut': '8793652510660301738', 'amountOutUSD': '16482.42989320664391504365044', 'gasLimit': '6000000', 'gasPrice': '2000000000', 'tick': '-200960', 'timestamp': '1685577355', 'pool': {'id': '0xc31e54c7a869b9fcbecc14363cf510d1c41fa443'}, 'tokenIn': {'symbol': 'USDC'}, 'tokenOut': {'symbol': 'WETH'}}, {'id': '0xcbc07212c81721435423a8ac276615cbc1ab2e9cf1d115c477fac83a6d960c081a000000', 'amountIn': '32798155443', 'amountInUSD': '32798.155443', 'amountOut': '17487734589899770208', 'amountOutUSD': '32779.97486338014584619297952', 'gasLimit': '6000000', 'gasPrice': '2000000000', 'tick': '-200959', 'timestamp': '1685577641', 'pool': {'id': '0xc31e54c7a869b9fcbecc14363cf510d1c41fa443'}, 'tokenIn': {'symbol': 'USDC'}, 'tokenOut': {'symbol': 'WETH'}}, {'id': '0xf239b50d206a97cfac9e56bf265c6b2c323de40b622dadb6fa6a73ac6ccb9aa903000000', 'amountIn': '23602123802', 'amountInUSD': '23602.123802', 'amountOut': '12577680087838434308', 'amountOutUSD': '23586.5247562646313794248364', 'gasLimit': '6000000', 'gasPrice': '2000000000', 'tick': '-200954', 'timestamp': '1685577793', 'pool': {'id': '0xc31e54c7a869b9fcbecc14363cf510d1c41fa443'}, 'tokenIn': {'symbol': 'USDC'}, 'tokenOut': {'symbol': 'WETH'}}, {'id': '0x0774ac668acc332a7c7602b1a8104b5f480c3125ad82245aa03d5d90d98080e614000000', 'amountIn': '9010101078880157749', 'amountInUSD': '16906.74233592731975072686406', 'amountOut': '16896605650', 'amountOutUSD': '16896.60565', 'gasLimit': '6000000', 'gasPrice': '2000000000', 'tick': '-200951', 'timestamp': '1685577967', 'pool': {'id': '0xc31e54c7a869b9fcbecc14363cf510d1c41fa443'}, 'tokenIn': {'symbol': 'WETH'}, 'tokenOut': {'symbol': 'USDC'}}, {'id': '0xf4ad4dc41f3a4702e8a661e2c1ffc0baf528bcd1cddba9b965128fa7598e1c0d03000000', 'amountIn': '9966794012412496598', 'amountInUSD': '18692.23459471655015021542584', 'amountOut': '18680307146', 'amountOutUSD': '18680.307146', 'gasLimit': '6000000', 'gasPrice': '2000000000', 'tick': '-200956', 'timestamp': '1685577995', 'pool': {'id': '0xc31e54c7a869b9fcbecc14363cf510d1c41fa443'}, 'tokenIn': {'symbol': 'WETH'}, 'tokenOut': {'symbol': 'USDC'}}, {'id': '0x502ef89d325e0b0b4d8f4c5be6f5f3281621d7e00dc5dfaefa3d90719edc427f18000000', 'amountIn': '11096937901908989557', 'amountInUSD': '20806.70285945108783624742386', 'amountOut': '20793615090', 'amountOutUSD': '20793.61509', 'gasLimit': '6000000', 'gasPrice': '2000000000', 'tick': '-200959', 'timestamp': '1685578024', 'pool': {'id': '0xc31e54c7a869b9fcbecc14363cf510d1c41fa443'}, 'tokenIn': {'symbol': 'WETH'}, 'tokenOut': {'symbol': 'USDC'}}, {'id': '0x419fcf911ce45838b034732465014067c840d0ea881bfec1b8adb6618d0680830e000000', 'amountIn': '24140639021', 'amountInUSD': '24140.639021', 'amountOut': '12871199960402552382', 'amountOutUSD': '24125.9162147381165323865256', 'gasLimit': '6000000', 'gasPrice': '2000000000', 'tick': '-200959', 'timestamp': '1685578161', 'pool': {'id': '0xc31e54c7a869b9fcbecc14363cf510d1c41fa443'}, 'tokenIn': {'symbol': 'USDC'}, 'tokenOut': {'symbol': 'WETH'}}, {'id': '0xdec035bac8cc444afd36b7c694d5defa0b011e23ba2038a25334cde36c91672703000000', 'amountIn': '19799663055', 'amountInUSD': '19799.663055', 'amountOut': '10554341404992021927', 'amountOutUSD': '19788.06197603763691708570632', 'gasLimit': '6000000', 'gasPrice': '2000000000', 'tick': '-200957', 'timestamp': '1685578182', 'pool': {'id': '0xc31e54c7a869b9fcbecc14363cf510d1c41fa443'}, 'tokenIn': {'symbol': 'USDC'}, 'tokenOut': {'symbol': 'WETH'}}, {'id': '0x9ba396596255a496d953dc10821b7b4dc857f51cbfcd7578fbeab311cb09c7be0e000000', 'amountIn': '25200485878', 'amountInUSD': '25200.485878', 'amountOut': '13428409178931805207', 'amountOutUSD': '25185.36869040732105899066988', 'gasLimit': '6000000', 'gasPrice': '2000000000', 'tick': '-200953', 'timestamp': '1685578219', 'pool': {'id': '0xc31e54c7a869b9fcbecc14363cf510d1c41fa443'}, 'tokenIn': {'symbol': 'USDC'}, 'tokenOut': {'symbol': 'WETH'}}, {'id': '0x698a0c96046291f48ccc932f98e50cc1ec4d9d9fbfab468058594fd7321cecba3c000000', 'amountIn': '33290557712', 'amountInUSD': '33290.557712', 'amountOut': '17719604427996959047', 'amountOutUSD': '33246.33125933816546507066696', 'gasLimit': '6000000', 'gasPrice': '2000000000', 'tick': '-200942', 'timestamp': '1685578254', 'pool': {'id': '0xc31e54c7a869b9fcbecc14363cf510d1c41fa443'}, 'tokenIn': {'symbol': 'USDC'}, 'tokenOut': {'symbol': 'WETH'}}, {'id': '0x5d1bae2392e27b543496a896120fc5283c2c2c994e84d3060623dea973ae51c807000000', 'amountIn': '18714353855', 'amountInUSD': '18714.353855', 'amountOut': '9938028937086957082', 'amountOutUSD': '18702.90575736455504221084568', 'gasLimit': '6000000', 'gasPrice': '2000000000', 'tick': '-200919', 'timestamp': '1685578267', 'pool': {'id': '0xc31e54c7a869b9fcbecc14363cf510d1c41fa443'}, 'tokenIn': {'symbol': 'USDC'}, 'tokenOut': {'symbol': 'WETH'}}, {'id': '0x467c478ad51da7d7504cf7e2b2f91e1525ab969a9208964b691ead9d6f5b10a869000000', 'amountIn': '11314472868394853826', 'amountInUSD': '21343.15761240771938441099574', 'amountOut': '21332003929', 'amountOutUSD': '21332.003929', 'gasLimit': '6000000', 'gasPrice': '2000000000', 'tick': '-200897', 'timestamp': '1685578278', 'pool': {'id': '0xc31e54c7a869b9fcbecc14363cf510d1c41fa443'}, 'tokenIn': {'symbol': 'WETH'}, 'tokenOut': {'symbol': 'USDC'}}, {'id': '0x09b25a6964945e84dcd95562e6254addcdd3d492d5c3caad81cbdf591e70d5340a000000', 'amountIn': '12113540878611865858', 'amountInUSD': '22847.6298796211800594684127', 'amountOut': '22835257874', 'amountOutUSD': '22835.257874', 'gasLimit': '6000000', 'gasPrice': '2000000000', 'tick': '-200899', 'timestamp': '1685578281', 'pool': {'id': '0xc31e54c7a869b9fcbecc14363cf510d1c41fa443'}, 'tokenIn': {'symbol': 'WETH'}, 'tokenOut': {'symbol': 'USDC'}}, {'id': '0x99cd39b826e77f659f49d846c3d02623907bdd1fc5af530da37f89ca86d0c1bf1e000000', 'amountIn': '16401136553591198309', 'amountInUSD': '30934.56334003957476684575335', 'amountOut': '30912388534', 'amountOutUSD': '30912.388534', 'gasLimit': '6000000', 'gasPrice': '2000000000', 'tick': '-200901', 'timestamp': '1685578283', 'pool': {'id': '0xc31e54c7a869b9fcbecc14363cf510d1c41fa443'}, 'tokenIn': {'symbol': 'WETH'}, 'tokenOut': {'symbol': 'USDC'}}, {'id': '0x05513bf96473048d9f903aca112234238c115e8332861ffb9dd261ba0ac43ced03000000', 'amountIn': '24655950444', 'amountInUSD': '24655.950444', 'amountOut': '13079258697847699235', 'amountOutUSD': '24640.8261133293731892150853', 'gasLimit': '6000000', 'gasPrice': '2000000000', 'tick': '-200908', 'timestamp': '1685578320', 'pool': {'id': '0xc31e54c7a869b9fcbecc14363cf510d1c41fa443'}, 'tokenIn': {'symbol': 'USDC'}, 'tokenOut': {'symbol': 'WETH'}}, {'id': '0x80f5cb62f4f29aa598c8ef79b3da08fa5f6669d654142a4be41a61db5668f53b04000000', 'amountIn': '9829358993285537986', 'amountInUSD': '18532.32219956116001507281056', 'amountOut': '18522548840', 'amountOutUSD': '18522.54884', 'gasLimit': '6000000', 'gasPrice': '2000000000', 'tick': '-200902', 'timestamp': '1685578335', 'pool': {'id': '0xc31e54c7a869b9fcbecc14363cf510d1c41fa443'}, 'tokenIn': {'symbol': 'WETH'}, 'tokenOut': {'symbol': 'USDC'}}, {'id': '0x5b79ba5e33c01ff2b6e46e551819028e68c84c76e4fcfc7a0ff4c7d8e1ca531b12000000', 'amountIn': '12987516294317105020', 'amountInUSD': '24486.7276393862896175488992', 'amountOut': '24470937366', 'amountOutUSD': '24470.937366', 'gasLimit': '6000000', 'gasPrice': '2000000000', 'tick': '-200904', 'timestamp': '1685578337', 'pool': {'id': '0xc31e54c7a869b9fcbecc14363cf510d1c41fa443'}, 'tokenIn': {'symbol': 'WETH'}, 'tokenOut': {'symbol': 'USDC'}}, {'id': '0x2d2bcb8643d426893c5ce17531b696a112c5c6bf358919c2320b85af4ebde3384e000000', 'amountIn': '18860008012', 'amountInUSD': '18860.008012', 'amountOut': '10000926858179311516', 'amountOutUSD': '18849.11498372819799466210396', 'gasLimit': '6000000', 'gasPrice': '2000000000', 'tick': '-200904', 'timestamp': '1685578364', 'pool': {'id': '0xc31e54c7a869b9fcbecc14363cf510d1c41fa443'}, 'tokenIn': {'symbol': 'USDC'}, 'tokenOut': {'symbol': 'WETH'}}, {'id': '0x8f3e797f2542025c0bb218d6b3690a8d0fb7d6ce00824daec629d2ad42e5a82a03000000', 'amountIn': '21123962355', 'amountInUSD': '21123.962355', 'amountOut': '11194102330025324201', 'amountOutUSD': '21110.06597394417239359329035', 'gasLimit': '6000000', 'gasPrice': '2000000000', 'tick': '-200898', 'timestamp': '1685578610', 'pool': {'id': '0xc31e54c7a869b9fcbecc14363cf510d1c41fa443'}, 'tokenIn': {'symbol': 'USDC'}, 'tokenOut': {'symbol': 'WETH'}}, {'id': '0xc86e3d72a7ae488b6f4c2efb2243d174dd7e24817a9df0d8ebc55541644acbb929000000', 'amountIn': '9957233630782249303', 'amountInUSD': '18782.44301149093885442347511', 'amountOut': '18772387408', 'amountOutUSD': '18772.387408', 'gasLimit': '6000000', 'gasPrice': '2000000000', 'tick': '-200898', 'timestamp': '1685578641', 'pool': {'id': '0xc31e54c7a869b9fcbecc14363cf510d1c41fa443'}, 'tokenIn': {'symbol': 'WETH'}, 'tokenOut': {'symbol': 'USDC'}}, {'id': '0xb854905921ac2d0e1fb1cb5de8dd653f210a0b20d536dd7b186062cc5ac2922313000000', 'amountIn': '18506609577', 'amountInUSD': '18506.609577', 'amountOut': '9807194039441489652', 'amountOutUSD': '18496.70895452340086426720004', 'gasLimit': '6000000', 'gasPrice': '2000000000', 'tick': '-200898', 'timestamp': '1685578879', 'pool': {'id': '0xc31e54c7a869b9fcbecc14363cf510d1c41fa443'}, 'tokenIn': {'symbol': 'USDC'}, 'tokenOut': {'symbol': 'WETH'}}, {'id': '0x3b3760c21db4673013fcf9b2428aee018c5f86eaf9cd803a209277adb8fe4f310d000000', 'amountIn': '29893833132', 'amountInUSD': '29893.833132', 'amountOut': '15835642767364008169', 'amountOutUSD': '29877.46176922723549259520391', 'gasLimit': '6000000', 'gasPrice': '2000000000', 'tick': '-200894', 'timestamp': '1685578882', 'pool': {'id': '0xc31e54c7a869b9fcbecc14363cf510d1c41fa443'}, 'tokenIn': {'symbol': 'USDC'}, 'tokenOut': {'symbol': 'WETH'}}, {'id': '0x3d91927f79cf60ddba51df41e01ef1409dfd400111319c5a99d7bd19111abb8d03000000', 'amountIn': '18544368324389102761', 'amountInUSD': '34999.39144135797845725839143', 'amountOut': '34980143936', 'amountOutUSD': '34980.143936', 'gasLimit': '6000000', 'gasPrice': '2000000000', 'tick': '-200893', 'timestamp': '1685578911', 'pool': {'id': '0xc31e54c7a869b9fcbecc14363cf510d1c41fa443'}, 'tokenIn': {'symbol': 'WETH'}, 'tokenOut': {'symbol': 'USDC'}}, {'id': '0xa3bb7345a3f01b0202e991126e942d8f553a1ed2d868dd436b6fa70356d6ef0f07000000', 'amountIn': '10061806672399356701', 'amountInUSD': '18983.20395059016790577884558', 'amountOut': '18973198112', 'amountOutUSD': '18973.198112', 'gasLimit': '6000000', 'gasPrice': '2000000000', 'tick': '-200896', 'timestamp': '1685579057', 'pool': {'id': '0xc31e54c7a869b9fcbecc14363cf510d1c41fa443'}, 'tokenIn': {'symbol': 'WETH'}, 'tokenOut': {'symbol': 'USDC'}}, {'id': '0x8f9e5376defd5917f252dfeadff060a407a8bb1fe35f6bc18253708d379ada7e0f000000', 'amountIn': '25396680725', 'amountInUSD': '25396.680725', 'amountOut': '13453526490132976793', 'amountOutUSD': '25383.10638151931945573014016', 'gasLimit': '6000000', 'gasPrice': '2000000000', 'tick': '-200894', 'timestamp': '1685579415', 'pool': {'id': '0xc31e54c7a869b9fcbecc14363cf510d1c41fa443'}, 'tokenIn': {'symbol': 'USDC'}, 'tokenOut': {'symbol': 'WETH'}}, {'id': '0x7bcd74728e50f7d22733f31ed52e216e500e71c3462a464d264e01d5d435b8811b000000', 'amountIn': '27127829149', 'amountInUSD': '27127.829149', 'amountOut': '14369218620462191832', 'amountOutUSD': '27110.76572599776333969321984', 'gasLimit': '6000000', 'gasPrice': '2000000000', 'tick': '-200893', 'timestamp': '1685579416', 'pool': {'id': '0xc31e54c7a869b9fcbecc14363cf510d1c41fa443'}, 'tokenIn': {'symbol': 'USDC'}, 'tokenOut': {'symbol': 'WETH'}}, {'id': '0xca854185a3524e50ba53de3bd2a04f5d1ee608430c69f2ca7533fc4707ba774b06000000', 'amountIn': '12038212385886493838', 'amountInUSD': '22719.00340683210588045329956', 'amountOut': '22706943016', 'amountOutUSD': '22706.943016', 'gasLimit': '6000000', 'gasPrice': '2000000000', 'tick': '-200893', 'timestamp': '1685579441', 'pool': {'id': '0xc31e54c7a869b9fcbecc14363cf510d1c41fa443'}, 'tokenIn': {'symbol': 'WETH'}, 'tokenOut': {'symbol': 'USDC'}}, {'id': '0x634d66cfc0877b4b731bb9e5856497224d6c08af197a91638c8cb2b58fe2b07203000000', 'amountIn': '12740873084464510085', 'amountInUSD': '24038.22397754262534019932495', 'amountOut': '24025224274', 'amountOutUSD': '24025.224274', 'gasLimit': '6000000', 'gasPrice': '2000000000', 'tick': '-200896', 'timestamp': '1685579447', 'pool': {'id': '0xc31e54c7a869b9fcbecc14363cf510d1c41fa443'}, 'tokenIn': {'symbol': 'WETH'}, 'tokenOut': {'symbol': 'USDC'}}, {'id': '0x842527acb77d18bb5017c060a506612df805e1b6ec9cb11019e27e331485187103000000', 'amountIn': '10658764645858960538', 'amountInUSD': '20106.68627340073751620042878', 'amountOut': '20096083884', 'amountOutUSD': '20096.083884', 'gasLimit': '6000000', 'gasPrice': '2000000000', 'tick': '-200897', 'timestamp': '1685579458', 'pool': {'id': '0xc31e54c7a869b9fcbecc14363cf510d1c41fa443'}, 'tokenIn': {'symbol': 'WETH'}, 'tokenOut': {'symbol': 'USDC'}}, {'id': '0xcac81cb522b53eb931024bc7ede9fbec7841e7fa99839955f1d7a1803452b64a1a000000', 'amountIn': '13732484289155319279', 'amountInUSD': '25898.19305467754191986280065', 'amountOut': '25884332953', 'amountOutUSD': '25884.332953', 'gasLimit': '6000000', 'gasPrice': '2000000000', 'tick': '-200900', 'timestamp': '1685579460', 'pool': {'id': '0xc31e54c7a869b9fcbecc14363cf510d1c41fa443'}, 'tokenIn': {'symbol': 'WETH'}, 'tokenOut': {'symbol': 'USDC'}}, {'id': '0xf7eae6c2623a45f77a155f796ab20482b8747fce572cca601416a18be0acfe8507000000', 'amountIn': '10382788037595447513', 'amountInUSD': '19571.58836430549773957361621', 'amountOut': '19559466361', 'amountOutUSD': '19559.466361', 'gasLimit': '6000000', 'gasPrice': '2000000000', 'tick': '-200905', 'timestamp': '1685579507', 'pool': {'id': '0xc31e54c7a869b9fcbecc14363cf510d1c41fa443'}, 'tokenIn': {'symbol': 'WETH'}, 'tokenOut': {'symbol': 'USDC'}}, {'id': '0xafec028a3a8a67a5a7e338bf1749026edbcde442da26628b60a8570b76ba55462d000000', 'amountIn': '12787503691860944509', 'amountInUSD': '24100.34273947367908290429316', 'amountOut': '24084931437', 'amountOutUSD': '24084.931437', 'gasLimit': '6000000', 'gasPrice': '2000000000', 'tick': '-200907', 'timestamp': '1685579509', 'pool': {'id': '0xc31e54c7a869b9fcbecc14363cf510d1c41fa443'}, 'tokenIn': {'symbol': 'WETH'}, 'tokenOut': {'symbol': 'USDC'}}, {'id': '0xf04a6c49a9a1a00be97b1d75ee354958fdab5460ba989370a80bca761987f7e305000000', 'amountIn': '25513217283608808299', 'amountInUSD': '48067.01923338284510801034138', 'amountOut': '48047681487', 'amountOutUSD': '48047.681487', 'gasLimit': '6000000', 'gasPrice': '2000000000', 'tick': '-200909', 'timestamp': '1685579511', 'pool': {'id': '0xc31e54c7a869b9fcbecc14363cf510d1c41fa443'}, 'tokenIn': {'symbol': 'WETH'}, 'tokenOut': {'symbol': 'USDC'}}, {'id': '0x7c68515eaf996ca90f9277faf2d05d2f3513a970d4c248fd5d5560286128a05303000000', 'amountIn': '11912898102509865704', 'amountInUSD': '22443.95506271782058191555248', 'amountOut': '22430176147', 'amountOutUSD': '22430.176147', 'gasLimit': '6000000', 'gasPrice': '2000000000', 'tick': '-200911', 'timestamp': '1685579512', 'pool': {'id': '0xc31e54c7a869b9fcbecc14363cf510d1c41fa443'}, 'tokenIn': {'symbol': 'WETH'}, 'tokenOut': {'symbol': 'USDC'}}, {'id': '0x275459f51f81ace59af1937829e201103015ead61c008675aa83fe6023db428305000000', 'amountIn': '10744662510722480485', 'amountInUSD': '20228.1580103336475994453721', 'amountOut': '20216598117', 'amountOutUSD': '20216.598117', 'gasLimit': '6000000', 'gasPrice': '2000000000', 'tick': '-200918', 'timestamp': '1685579591', 'pool': {'id': '0xc31e54c7a869b9fcbecc14363cf510d1c41fa443'}, 'tokenIn': {'symbol': 'WETH'}, 'tokenOut': {'symbol': 'USDC'}}, {'id': '0x80c52c58f10817ee3c5ffc7c9291d1304bbe84f53cbf326b89168aadd379622b06000000', 'amountIn': '14550064372272931675', 'amountInUSD': '27373.613450111358150106364', 'amountOut': '27357664385', 'amountOutUSD': '27357.664385', 'gasLimit': '6000000', 'gasPrice': '2000000000', 'tick': '-200925', 'timestamp': '1685579640', 'pool': {'id': '0xc31e54c7a869b9fcbecc14363cf510d1c41fa443'}, 'tokenIn': {'symbol': 'WETH'}, 'tokenOut': {'symbol': 'USDC'}}, {'id': '0x85b25a22d600b4103c9ac21e4d63ab381952bb780e94f45fdd97d4ddb647cd120f000000', 'amountIn': '9616439755101149694', 'amountInUSD': '18063.77229053918568432008586', 'amountOut': '18054249538', 'amountOutUSD': '18054.249538', 'gasLimit': '6000000', 'gasPrice': '2000000000', 'tick': '-200939', 'timestamp': '1685579723', 'pool': {'id': '0xc31e54c7a869b9fcbecc14363cf510d1c41fa443'}, 'tokenIn': {'symbol': 'WETH'}, 'tokenOut': {'symbol': 'USDC'}}, {'id': '0x26d2617ec87ff9e56fddb7961a65431da708ecbc5bd68620926869aab5d755e706000000', 'amountIn': '9425565339940864833', 'amountInUSD': '17700.21806531080759040330514', 'amountOut': '17690896383', 'amountOutUSD': '17690.896383', 'gasLimit': '6000000', 'gasPrice': '2000000000', 'tick': '-200942', 'timestamp': '1685579730', 'pool': {'id': '0xc31e54c7a869b9fcbecc14363cf510d1c41fa443'}, 'tokenIn': {'symbol': 'WETH'}, 'tokenOut': {'symbol': 'USDC'}}, {'id': '0x271b893243ebbdb39a74d3a5d6941241122bae58b6ffa4b142039ca4461f6e2110000000', 'amountIn': '17568370236', 'amountInUSD': '17568.370236', 'amountOut': '9360185988675187474', 'amountOutUSD': '17559.8156208749225983612036', 'gasLimit': '6000000', 'gasPrice': '2000000000', 'tick': '-200952', 'timestamp': '1685579790', 'pool': {'id': '0xc31e54c7a869b9fcbecc14363cf510d1c41fa443'}, 'tokenIn': {'symbol': 'USDC'}, 'tokenOut': {'symbol': 'WETH'}}, {'id': '0x67a1f15be718d318b60866a0bc595915fafa63060c0a75b98adcca1e37dfcc4803000000', 'amountIn': '33604348754', 'amountInUSD': '33604.348754', 'amountOut': '17896581878707700248', 'amountOutUSD': '33580.13615412589448274520288', 'gasLimit': '6000000', 'gasPrice': '2000000000', 'tick': '-200947', 'timestamp': '1685579797', 'pool': {'id': '0xc31e54c7a869b9fcbecc14363cf510d1c41fa443'}, 'tokenIn': {'symbol': 'USDC'}, 'tokenOut': {'symbol': 'WETH'}}, {'id': '0xe1b8dd8a85a2a90a6a28d6d63b88b7dca523cc1b64fd7955183b1042066638e221000000', 'amountIn': '12305623934944858725', 'amountInUSD': '23101.551594204345971302986', 'amountOut': '23087044060', 'amountOutUSD': '23087.04406', 'gasLimit': '6000000', 'gasPrice': '2000000000', 'tick': '-200946', 'timestamp': '1685579860', 'pool': {'id': '0xc31e54c7a869b9fcbecc14363cf510d1c41fa443'}, 'tokenIn': {'symbol': 'WETH'}, 'tokenOut': {'symbol': 'USDC'}}, {'id': '0x7705173d126aeef3a3f333af54a5d407a5fb1d3c72980c4d89643fd7c8a0da1e13000000', 'amountIn': '15736500120237884531', 'amountInUSD': '29503.57457522297737250497973', 'amountOut': '29485885959', 'amountOutUSD': '29485.885959', 'gasLimit': '6000000', 'gasPrice': '2000000000', 'tick': '-200959', 'timestamp': '1685579884', 'pool': {'id': '0xc31e54c7a869b9fcbecc14363cf510d1c41fa443'}, 'tokenIn': {'symbol': 'WETH'}, 'tokenOut': {'symbol': 'USDC'}}, {'id': '0x41b65199ec745db4b16580b48f42f19c8f3a5d32e57d4b030d568ca7dbf360070a000000', 'amountIn': '18332029162', 'amountInUSD': '18332.029162', 'amountOut': '9780332544808145311', 'amountOutUSD': '18322.3175260896080144878929', 'gasLimit': '6000000', 'gasPrice': '2000000000', 'tick': '-200965', 'timestamp': '1685579887', 'pool': {'id': '0xc31e54c7a869b9fcbecc14363cf510d1c41fa443'}, 'tokenIn': {'symbol': 'USDC'}, 'tokenOut': {'symbol': 'WETH'}}, {'id': '0xe7164238e40e7a746b9c9f1acfcc0ae959c8f8c11d3242a7a96c18eb3550cd670b000000', 'amountIn': '11876027230', 'amountInUSD': '11876.02723', 'amountOut': '6336695101488250354', 'amountOutUSD': '11870.94681091745006201893302', 'gasLimit': '6000000', 'gasPrice': '2000000000', 'tick': '-200966', 'timestamp': '1685579924', 'pool': {'id': '0xc31e54c7a869b9fcbecc14363cf510d1c41fa443'}, 'tokenIn': {'symbol': 'USDC'}, 'tokenOut': {'symbol': 'WETH'}}, {'id': '0xbe478d564a20e8005a2042c9e17b9da2bd1097577efcde7592f586db7db0672f04000000', 'amountIn': '23176962703', 'amountInUSD': '23176.962703', 'amountOut': '12363619245716515301', 'amountOutUSD': '23164.50199328533941531450802', 'gasLimit': '6000000', 'gasPrice': '2000000000', 'tick': '-200964', 'timestamp': '1685579965', 'pool': {'id': '0xc31e54c7a869b9fcbecc14363cf510d1c41fa443'}, 'tokenIn': {'symbol': 'USDC'}, 'tokenOut': {'symbol': 'WETH'}}, {'id': '0x7e284dce55fb07d5e7078643bc4f78f67fcf6e06535f06f54452cd8fa70fdcd216000000', 'amountIn': '22030623512', 'amountInUSD': '22030.623512', 'amountOut': '11747280385607419280', 'amountOutUSD': '22015.3904491263024660879056', 'gasLimit': '6000000', 'gasPrice': '2000000000', 'tick': '-200960', 'timestamp': '1685579973', 'pool': {'id': '0xc31e54c7a869b9fcbecc14363cf510d1c41fa443'}, 'tokenIn': {'symbol': 'USDC'}, 'tokenOut': {'symbol': 'WETH'}}, {'id': '0x40fa542f56ebb9ac42cda53e6eb73c56fd0dbb7e7aec30712662d9ba6c73046a04000000', 'amountIn': '13084787769', 'amountInUSD': '13084.787769', 'amountOut': '6975419349920847016', 'amountOutUSD': '13078.3242995632923157236036', 'gasLimit': '6000000', 'gasPrice': '2000000000', 'tick': '-200957', 'timestamp': '1685579999', 'pool': {'id': '0xc31e54c7a869b9fcbecc14363cf510d1c41fa443'}, 'tokenIn': {'symbol': 'USDC'}, 'tokenOut': {'symbol': 'WETH'}}, {'id': '0x22bdeab212e4d2cf2175200a511d968aab180901b5a839e6e786e9e7ae3658a516000000', 'amountIn': '20650005052', 'amountInUSD': '20650.005052', 'amountOut': '11006415721100906236', 'amountOutUSD': '20636.37822744598165187801588', 'gasLimit': '6000000', 'gasPrice': '2000000000', 'tick': '-200956', 'timestamp': '1685580013', 'pool': {'id': '0xc31e54c7a869b9fcbecc14363cf510d1c41fa443'}, 'tokenIn': {'symbol': 'USDC'}, 'tokenOut': {'symbol': 'WETH'}}, {'id': '0x552d7175a06f4193392081583be1838487c8eb59e12fbe37186677ac2540205103000000', 'amountIn': '13379756181464185144', 'amountInUSD': '25086.28634883084715997195824', 'amountOut': '25072804306', 'amountOutUSD': '25072.804306', 'gasLimit': '6000000', 'gasPrice': '2000000000', 'tick': '-200958', 'timestamp': '1685580223', 'pool': {'id': '0xc31e54c7a869b9fcbecc14363cf510d1c41fa443'}, 'tokenIn': {'symbol': 'WETH'}, 'tokenOut': {'symbol': 'USDC'}}, {'id': '0x84dfcbc0f1f0aaa2122b0eba693a3cfc8866b50b403a50f1dd1497ae6311336808000000', 'amountIn': '13853370038468935706', 'amountInUSD': '25971.3644309809678553422156', 'amountOut': '25955278399', 'amountOutUSD': '25955.278399', 'gasLimit': '6000000', 'gasPrice': '2000000000', 'tick': '-200960', 'timestamp': '1685580331', 'pool': {'id': '0xc31e54c7a869b9fcbecc14363cf510d1c41fa443'}, 'tokenIn': {'symbol': 'WETH'}, 'tokenOut': {'symbol': 'USDC'}}, {'id': '0x1b3cade1947b2ee2997f04af7cac0ac5943f5eca07d19579fedfbd3d3c8dfa1a12000000', 'amountIn': '9626098414955623322', 'amountInUSD': '18040.64867130915237686312206', 'amountOut': '18030480153', 'amountOutUSD': '18030.480153', 'gasLimit': '6000000', 'gasPrice': '2000000000', 'tick': '-200963', 'timestamp': '1685580342', 'pool': {'id': '0xc31e54c7a869b9fcbecc14363cf510d1c41fa443'}, 'tokenIn': {'symbol': 'WETH'}, 'tokenOut': {'symbol': 'USDC'}}, {'id': '0x71c550371be58406ce7e64b584c8f99121f5e8eb82df98f975e7b5a0d7ff919c21000000', 'amountIn': '16771278520020386105', 'amountInUSD': '31423.22474469541568375826915', 'amountOut': '31405304967', 'amountOutUSD': '31405.304967', 'gasLimit': '6000000', 'gasPrice': '2000000000', 'tick': '-200966', 'timestamp': '1685580345', 'pool': {'id': '0xc31e54c7a869b9fcbecc14363cf510d1c41fa443'}, 'tokenIn': {'symbol': 'WETH'}, 'tokenOut': {'symbol': 'USDC'}}, {'id': '0xc5df2678f2b66178aa60dcafd987aca2c9167e49edad685abd007bdc0617c3ab08000000', 'amountIn': '17004193548', 'amountInUSD': '17004.193548', 'amountOut': '9079149823008113452', 'amountOutUSD': '16995.221967302139786316629', 'gasLimit': '6000000', 'gasPrice': '2000000000', 'tick': '-200973', 'timestamp': '1685580376', 'pool': {'id': '0xc31e54c7a869b9fcbecc14363cf510d1c41fa443'}, 'tokenIn': {'symbol': 'USDC'}, 'tokenOut': {'symbol': 'WETH'}}, {'id': '0xfca513e4dec4efda2137b7a647866bd3470ee700b9b8466c9ed0a8cafc9a9ec515000000', 'amountIn': '18061691765', 'amountInUSD': '18061.691765', 'amountOut': '9644562838147800339', 'amountOutUSD': '18051.97555075240800410699196', 'gasLimit': '6000000', 'gasPrice': '2000000000', 'tick': '-200974', 'timestamp': '1685580517', 'pool': {'id': '0xc31e54c7a869b9fcbecc14363cf510d1c41fa443'}, 'tokenIn': {'symbol': 'USDC'}, 'tokenOut': {'symbol': 'WETH'}}, {'id': '0x8f5affc19d2676ff5b93d3143e336aa31786e05d5afa5c8cd2164e968e74424607000000', 'amountIn': '28981433791', 'amountInUSD': '28981.433791', 'amountOut': '15473219059622005186', 'amountOutUSD': '28963.5458704144033885143593', 'gasLimit': '6000000', 'gasPrice': '2000000000', 'tick': '-200972', 'timestamp': '1685580528', 'pool': {'id': '0xc31e54c7a869b9fcbecc14363cf510d1c41fa443'}, 'tokenIn': {'symbol': 'USDC'}, 'tokenOut': {'symbol': 'WETH'}}, {'id': '0x9cf0c7b6c3400745761cc544c9fa797a7220ca7fb0f6762517a5ae03e49817f403000000', 'amountIn': '18154439198', 'amountInUSD': '18154.439198', 'amountOut': '9688344002293028949', 'amountOutUSD': '18144.86612226739135139721123', 'gasLimit': '6000000', 'gasPrice': '2000000000', 'tick': '-200968', 'timestamp': '1685580680', 'pool': {'id': '0xc31e54c7a869b9fcbecc14363cf510d1c41fa443'}, 'tokenIn': {'symbol': 'USDC'}, 'tokenOut': {'symbol': 'WETH'}}, {'id': '0xc35521fd53ff888cca55b12be03ffabd91253f73ac64263537c279b34936b7f90b000000', 'amountIn': '17723641966074196422', 'amountInUSD': '33203.17540613182512012044526', 'amountOut': '33184316331', 'amountOutUSD': '33184.316331', 'gasLimit': '6000000', 'gasPrice': '2000000000', 'tick': '-200967', 'timestamp': '1685580709', 'pool': {'id': '0xc31e54c7a869b9fcbecc14363cf510d1c41fa443'}, 'tokenIn': {'symbol': 'WETH'}, 'tokenOut': {'symbol': 'USDC'}}, {'id': '0x0631abaf80322dbb796a84f53ee5c2b987187e85464d7246c2838e27e8b3b06306000000', 'amountIn': '17726665274319805424', 'amountInUSD': '33198.330322426025559915672', 'amountOut': '33177475987', 'amountOutUSD': '33177.475987', 'gasLimit': '6000000', 'gasPrice': '2000000000', 'tick': '-200971', 'timestamp': '1685580728', 'pool': {'id': '0xc31e54c7a869b9fcbecc14363cf510d1c41fa443'}, 'tokenIn': {'symbol': 'WETH'}, 'tokenOut': {'symbol': 'USDC'}}, {'id': '0x901f200624bbd7a418ecef42d3a6a2e04f5c11831995087163925b491065d8d006000000', 'amountIn': '20166642335', 'amountInUSD': '20166.642335', 'amountOut': '10777884345251746847', 'amountOutUSD': '20153.6909606446463494687252', 'gasLimit': '6000000', 'gasPrice': '2000000000', 'tick': '-200983', 'timestamp': '1685581026', 'pool': {'id': '0xc31e54c7a869b9fcbecc14363cf510d1c41fa443'}, 'tokenIn': {'symbol': 'USDC'}, 'tokenOut': {'symbol': 'WETH'}}, {'id': '0x5377fa06200284da6c6c421af7e31397c42aee3b0167405d5349e6a8b042c3d805000000', 'amountIn': '16436849821', 'amountInUSD': '16436.849821', 'amountOut': '8780790742176703109', 'amountOutUSD': '16428.00273685989733601665487', 'gasLimit': '6000000', 'gasPrice': '2000000000', 'tick': '-200978', 'timestamp': '1685581200', 'pool': {'id': '0xc31e54c7a869b9fcbecc14363cf510d1c41fa443'}, 'tokenIn': {'symbol': 'USDC'}, 'tokenOut': {'symbol': 'WETH'}}, {'id': '0x551c1cdba813cda72c71e4ee8f3cba06a9df6f8e2702b95939da36bb3f28129612000000', 'amountIn': '17765974089', 'amountInUSD': '17765.974089', 'amountOut': '9486993718587203557', 'amountOutUSD': '17756.58661404502078974659102', 'gasLimit': '6000000', 'gasPrice': '2000000000', 'tick': '-200974', 'timestamp': '1685581235', 'pool': {'id': '0xc31e54c7a869b9fcbecc14363cf510d1c41fa443'}, 'tokenIn': {'symbol': 'USDC'}, 'tokenOut': {'symbol': 'WETH'}}, {'id': '0x22ead1e0760d0484e8d92dd0d37987a8b230c3cb5c4a95a2a60e1064233d58d803000000', 'amountIn': '18063294070', 'amountInUSD': '18063.29407', 'amountOut': '9641733274939786673', 'amountOutUSD': '18053.25138298083262937644598', 'gasLimit': '6000000', 'gasPrice': '2000000000', 'tick': '-200970', 'timestamp': '1685581251', 'pool': {'id': '0xc31e54c7a869b9fcbecc14363cf510d1c41fa443'}, 'tokenIn': {'symbol': 'USDC'}, 'tokenOut': {'symbol': 'WETH'}}, {'id': '0xd8d7ebccb797e36a822fef7b5faa1c30b3871309887cb68cc315a97ca232f2670c000000', 'amountIn': '18064667126', 'amountInUSD': '18064.667126', 'amountOut': '9641933939379299022', 'amountOutUSD': '18055.13761390514254348848624', 'gasLimit': '6000000', 'gasPrice': '2000000000', 'tick': '-200970', 'timestamp': '1685581254', 'pool': {'id': '0xc31e54c7a869b9fcbecc14363cf510d1c41fa443'}, 'tokenIn': {'symbol': 'USDC'}, 'tokenOut': {'symbol': 'WETH'}}, {'id': '0x3481ac9d91daf1870e7301515056fa34ab05774404319efc8d3b6d3bf7b6a5bd0a000000', 'amountIn': '30115169690', 'amountInUSD': '30115.16969', 'amountOut': '16066207564160294337', 'amountOutUSD': '30096.37372355024570280473997', 'gasLimit': '6000000', 'gasPrice': '2000000000', 'tick': '-200965', 'timestamp': '1685581432', 'pool': {'id': '0xc31e54c7a869b9fcbecc14363cf510d1c41fa443'}, 'tokenIn': {'symbol': 'USDC'}, 'tokenOut': {'symbol': 'WETH'}}, {'id': '0x46f6f9d6b311ec649e84eee7452db4eae5ef4a0c66a49c2369a7b95669538ac30c000000', 'amountIn': '16764042226', 'amountInUSD': '16764.042226', 'amountOut': '8939843890375248953', 'amountOutUSD': '16755.21025743747288702446596', 'gasLimit': '6000000', 'gasPrice': '2000000000', 'tick': '-200961', 'timestamp': '1685581494', 'pool': {'id': '0xc31e54c7a869b9fcbecc14363cf510d1c41fa443'}, 'tokenIn': {'symbol': 'USDC'}, 'tokenOut': {'symbol': 'WETH'}}, {'id': '0x73b20fbe7acf281d6287afd4f81c1f58803b12dcef1f4a63170e85ca5f775eb511000000', 'amountIn': '25096986947', 'amountInUSD': '25096.986947', 'amountOut': '13375539678417165536', 'amountOutUSD': '25083.4986605213172176812896', 'gasLimit': '6000000', 'gasPrice': '2000000000', 'tick': '-200955', 'timestamp': '1685581535', 'pool': {'id': '0xc31e54c7a869b9fcbecc14363cf510d1c41fa443'}, 'tokenIn': {'symbol': 'USDC'}, 'tokenOut': {'symbol': 'WETH'}}, {'id': '0xfc6ec9286233c75326c2fe71821366966027a8c4db32a788fe1982c4de15f0a40d000000', 'amountIn': '21647537767', 'amountInUSD': '21647.537767', 'amountOut': '11535331653136972831', 'amountOutUSD': '21634.110778850532750491415', 'gasLimit': '6000000', 'gasPrice': '2000000000', 'tick': '-200953', 'timestamp': '1685581622', 'pool': {'id': '0xc31e54c7a869b9fcbecc14363cf510d1c41fa443'}, 'tokenIn': {'symbol': 'USDC'}, 'tokenOut': {'symbol': 'WETH'}}, {'id': '0xc42aa333c2da8ec1f155ff1163ec1d1daf1f17555b0515d4b17cc02e5968520718000000', 'amountIn': '27918874089', 'amountInUSD': '27918.874089', 'amountOut': '14875032608519904321', 'amountOutUSD': '27903.14070827728214736488688', 'gasLimit': '6000000', 'gasPrice': '2000000000', 'tick': '-200952', 'timestamp': '1685581660', 'pool': {'id': '0xc31e54c7a869b9fcbecc14363cf510d1c41fa443'}, 'tokenIn': {'symbol': 'USDC'}, 'tokenOut': {'symbol': 'WETH'}}, {'id': '0x957dec9a2ae1d1badab42805f92d53e810e45d575554744493762623372b89d225000000', 'amountIn': '20533436539', 'amountInUSD': '20533.436539', 'amountOut': '10934709813857123912', 'amountOutUSD': '20521.22972052834624411819864', 'gasLimit': '6000000', 'gasPrice': '2000000000', 'tick': '-200947', 'timestamp': '1685581825', 'pool': {'id': '0xc31e54c7a869b9fcbecc14363cf510d1c41fa443'}, 'tokenIn': {'symbol': 'USDC'}, 'tokenOut': {'symbol': 'WETH'}}, {'id': '0xa0a1684204088066a73045fb89fd31ac36b99b4e8c06d2727d93a0ccef415e2603000000', 'amountIn': '17946067105692716699', 'amountInUSD': '33709.26505682718403002580296', 'amountOut': '33690427367', 'amountOutUSD': '33690.427367', 'gasLimit': '6000000', 'gasPrice': '2000000000', 'tick': '-200940', 'timestamp': '1685582136', 'pool': {'id': '0xc31e54c7a869b9fcbecc14363cf510d1c41fa443'}, 'tokenIn': {'symbol': 'WETH'}, 'tokenOut': {'symbol': 'USDC'}}, {'id': '0xa0848a5ac2a5a9507237184417725dae4f33ae84a64d250045cc9d0d0301115f0c000000', 'amountIn': '11310935527438218915', 'amountInUSD': '21237.88070593948050268489185', 'amountOut': '21226626786', 'amountOutUSD': '21226.626786', 'gasLimit': '6000000', 'gasPrice': '2000000000', 'tick': '-200944', 'timestamp': '1685582150', 'pool': {'id': '0xc31e54c7a869b9fcbecc14363cf510d1c41fa443'}, 'tokenIn': {'symbol': 'WETH'}, 'tokenOut': {'symbol': 'USDC'}}, {'id': '0x7895d0037627a75de735a4b3ba6d2093c1595b489b5cf6ae8970730ef6ac1d6103000000', 'amountIn': '23122280867', 'amountInUSD': '23122.280867', 'amountOut': '12312638281103432709', 'amountOutUSD': '23109.80675347848340573181586', 'gasLimit': '6000000', 'gasPrice': '2000000000', 'tick': '-200946', 'timestamp': '1685582307', 'pool': {'id': '0xc31e54c7a869b9fcbecc14363cf510d1c41fa443'}, 'tokenIn': {'symbol': 'USDC'}, 'tokenOut': {'symbol': 'WETH'}}, {'id': '0xdaf8a08f8e161a0ee0231a8bb1e56aa9de52c5e72cdd889327df787bba34a56f07000000', 'amountIn': '24276125686', 'amountInUSD': '24276.125686', 'amountOut': '12923642256839981795', 'amountOutUSD': '24263.15782047903937069371335', 'gasLimit': '6000000', 'gasPrice': '2000000000', 'tick': '-200944', 'timestamp': '1685582318', 'pool': {'id': '0xc31e54c7a869b9fcbecc14363cf510d1c41fa443'}, 'tokenIn': {'symbol': 'USDC'}, 'tokenOut': {'symbol': 'WETH'}}, {'id': '0x57944f42eb5437679b8afb9161b0ee6f82e2dd68b28a2c1a3ed2193fb6af627b13000000', 'amountIn': '18633876047', 'amountInUSD': '18633.876047', 'amountOut': '9919144515774824843', 'amountOutUSD': '18623.71577375165371401573866', 'gasLimit': '6000000', 'gasPrice': '2000000000', 'tick': '-200943', 'timestamp': '1685582328', 'pool': {'id': '0xc31e54c7a869b9fcbecc14363cf510d1c41fa443'}, 'tokenIn': {'symbol': 'USDC'}, 'tokenOut': {'symbol': 'WETH'}}, {'id': '0xb7051dfa3ec56f959f5a2af9808508bd3b010266c4297e36cd7425d1cb04383c04000000', 'amountIn': '6082923997658950398', 'amountInUSD': '11430.3689542697542941182976', 'amountOut': '11424749950', 'amountOutUSD': '11424.74995', 'gasLimit': '6000000', 'gasPrice': '2000000000', 'tick': '-200935', 'timestamp': '1685582527', 'pool': {'id': '0xc31e54c7a869b9fcbecc14363cf510d1c41fa443'}, 'tokenIn': {'symbol': 'WETH'}, 'tokenOut': {'symbol': 'USDC'}}, {'id': '0x09bcdae37b2d40eed6ec9c46278a7b3e0e903cc724b78b921c04593594333ae403000000', 'amountIn': '9926315610810064003', 'amountInUSD': '18652.29468280391647565770596', 'amountOut': '18642478869', 'amountOutUSD': '18642.478869', 'gasLimit': '6000000', 'gasPrice': '2000000000', 'tick': '-200936', 'timestamp': '1685582548', 'pool': {'id': '0xc31e54c7a869b9fcbecc14363cf510d1c41fa443'}, 'tokenIn': {'symbol': 'WETH'}, 'tokenOut': {'symbol': 'USDC'}}, {'id': '0x5d952f0fa2b66a468dfd01b00279435519090f337df135efcd8b98433de9e2a52a000000', 'amountIn': '9643783830811199506', 'amountInUSD': '18118.83373809069572750005266', 'amountOut': '18109312615', 'amountOutUSD': '18109.312615', 'gasLimit': '6000000', 'gasPrice': '2000000000', 'tick': '-200937', 'timestamp': '1685582772', 'pool': {'id': '0xc31e54c7a869b9fcbecc14363cf510d1c41fa443'}, 'tokenIn': {'symbol': 'WETH'}, 'tokenOut': {'symbol': 'USDC'}}, {'id': '0x6a092d39c24cc9fd9e169c215d24ad8faa9729243c1099f54d8b344624d9b68306000000', 'amountIn': '13230057310322737626', 'amountInUSD': '24852.6871330472867275056081', 'amountOut': '24839104497', 'amountOutUSD': '24839.104497', 'gasLimit': '6000000', 'gasPrice': '2000000000', 'tick': '-200939', 'timestamp': '1685582781', 'pool': {'id': '0xc31e54c7a869b9fcbecc14363cf510d1c41fa443'}, 'tokenIn': {'symbol': 'WETH'}, 'tokenOut': {'symbol': 'USDC'}}, {'id': '0x90ba0e2901f28b38eac655d396e07433ae4501cfee6f4934349e70ff04ab54d503000000', 'amountIn': '17392456188348918127', 'amountInUSD': '32665.71237744420716032182689', 'amountOut': '32647828527', 'amountOutUSD': '32647.828527', 'gasLimit': '6000000', 'gasPrice': '2000000000', 'tick': '-200941', 'timestamp': '1685582801', 'pool': {'id': '0xc31e54c7a869b9fcbecc14363cf510d1c41fa443'}, 'tokenIn': {'symbol': 'WETH'}, 'tokenOut': {'symbol': 'USDC'}}, {'id': '0x6c7f9f407acd26a53c0ed5d5ebad6c85805ac78cd3bacaec243b6e8cd2cf599c14000000', 'amountIn': '24929145383', 'amountInUSD': '24929.145383', 'amountOut': '13267543062933799361', 'amountOutUSD': '24913.72854669495572851087359', 'gasLimit': '6000000', 'gasPrice': '2000000000', 'tick': '-200941', 'timestamp': '1685582876', 'pool': {'id': '0xc31e54c7a869b9fcbecc14363cf510d1c41fa443'}, 'tokenIn': {'symbol': 'USDC'}, 'tokenOut': {'symbol': 'WETH'}}, {'id': '0xa06c9b83b9e61cc9fec8b23223e439b9a693e5d4d589a6ff773ae258228097cb03000000', 'amountIn': '10658717307353580805', 'amountInUSD': '20022.3134867304735369731312', 'amountOut': '20011738908', 'amountOutUSD': '20011.738908', 'gasLimit': '6000000', 'gasPrice': '2000000000', 'tick': '-200939', 'timestamp': '1685583152', 'pool': {'id': '0xc31e54c7a869b9fcbecc14363cf510d1c41fa443'}, 'tokenIn': {'symbol': 'WETH'}, 'tokenOut': {'symbol': 'USDC'}}, {'id': '0x513e5a96fd0e10bef6ed02ee7e791a369d15aeb36ebe9a42bb71b5130712b18b03000000', 'amountIn': '10429682754669890044', 'amountInUSD': '19591.4253264655974208894046', 'amountOut': '19581090189', 'amountOutUSD': '19581.090189', 'gasLimit': '6000000', 'gasPrice': '2000000000', 'tick': '-200939', 'timestamp': '1685583219', 'pool': {'id': '0xc31e54c7a869b9fcbecc14363cf510d1c41fa443'}, 'tokenIn': {'symbol': 'WETH'}, 'tokenOut': {'symbol': 'USDC'}}, {'id': '0xd4ba478abce9bb2a68ed3ae67527e2f1e2e606fe94e26b6c1a04c41ec02b452603000000', 'amountIn': '10135375989333830728', 'amountInUSD': '19034.65338139841498099507176', 'amountOut': '19024599970', 'amountOutUSD': '19024.59997', 'gasLimit': '6000000', 'gasPrice': '2000000000', 'tick': '-200941', 'timestamp': '1685583246', 'pool': {'id': '0xc31e54c7a869b9fcbecc14363cf510d1c41fa443'}, 'tokenIn': {'symbol': 'WETH'}, 'tokenOut': {'symbol': 'USDC'}}, {'id': '0x0660f2cbd9a7f06e4d2fb427b25dbf4f921cbd0dce8d0e93d041d42921ca129e0d000000', 'amountIn': '9224808330844494913', 'amountInUSD': '17321.47813617285978199947626', 'amountOut': '17312372970', 'amountOutUSD': '17312.37297', 'gasLimit': '6000000', 'gasPrice': '2000000000', 'tick': '-200943', 'timestamp': '1685583311', 'pool': {'id': '0xc31e54c7a869b9fcbecc14363cf510d1c41fa443'}, 'tokenIn': {'symbol': 'WETH'}, 'tokenOut': {'symbol': 'USDC'}}, {'id': '0xc18b1a91f9ead5862585bc1cc2c3ef9906be01aa0fb6ede49f35f221295e087903000000', 'amountIn': '15404148361719871854', 'amountInUSD': '28922.35559448607574140832658', 'amountOut': '28904398968', 'amountOutUSD': '28904.398968', 'gasLimit': '6000000', 'gasPrice': '2000000000', 'tick': '-200945', 'timestamp': '1685583315', 'pool': {'id': '0xc31e54c7a869b9fcbecc14363cf510d1c41fa443'}, 'tokenIn': {'symbol': 'WETH'}, 'tokenOut': {'symbol': 'USDC'}}, {'id': '0x6734374219099c34e14a70f26bd1f2095d88c1c9c0b6492f296d0d352cf45bc516000000', 'amountIn': '25509459938', 'amountInUSD': '25509.459938', 'amountOut': '13582519909739279496', 'amountOutUSD': '25495.74105966124847751626208', 'gasLimit': '6000000', 'gasPrice': '2000000000', 'tick': '-200945', 'timestamp': '1685583427', 'pool': {'id': '0xc31e54c7a869b9fcbecc14363cf510d1c41fa443'}, 'tokenIn': {'symbol': 'USDC'}, 'tokenOut': {'symbol': 'WETH'}}, {'id': '0xfd65eb4281e8a0a17376381d69089a852914594c74aa883ad55c7cc66b9b83dd03000000', 'amountIn': '14217005127354008769', 'amountInUSD': '26670.50564206118177059640352', 'amountOut': '26656118214', 'amountOutUSD': '26656.118214', 'gasLimit': '6000000', 'gasPrice': '2000000000', 'tick': '-200953', 'timestamp': '1685583900', 'pool': {'id': '0xc31e54c7a869b9fcbecc14363cf510d1c41fa443'}, 'tokenIn': {'symbol': 'WETH'}, 'tokenOut': {'symbol': 'USDC'}}, {'id': '0xdaa9cbcd184bcaa8ce631e9f4d0269f16004f4e35407db139f5b4dbda1e2df2910000000', 'amountIn': '17968301912', 'amountInUSD': '17968.301912', 'amountOut': '9577486734425295877', 'amountOutUSD': '17958.68044036081289545665394', 'gasLimit': '6000000', 'gasPrice': '2000000000', 'tick': '-200956', 'timestamp': '1685583908', 'pool': {'id': '0xc31e54c7a869b9fcbecc14363cf510d1c41fa443'}, 'tokenIn': {'symbol': 'USDC'}, 'tokenOut': {'symbol': 'WETH'}}, {'id': '0xaf41aea18332709ef2f5c0ca9a01a488b740f1751496aadb32041cccd812afb209000000', 'amountIn': '33603252918', 'amountInUSD': '33603.252918', 'amountOut': '17895074799923674392', 'amountOutUSD': '33559.22305711002807391532856', 'gasLimit': '6000000', 'gasPrice': '2000000000', 'tick': '-200947', 'timestamp': '1685583911', 'pool': {'id': '0xc31e54c7a869b9fcbecc14363cf510d1c41fa443'}, 'tokenIn': {'symbol': 'USDC'}, 'tokenOut': {'symbol': 'WETH'}}, {'id': '0xf4d082b76ce7b6ea2bbbf908c241369aeb4dafbc5eac9eb337a6d3cd9b2efb9603000000', 'amountIn': '10640999508765042705', 'amountInUSD': '19970.35313227138135738607595', 'amountOut': '19958458821', 'amountOutUSD': '19958.458821', 'gasLimit': '6000000', 'gasPrice': '2000000000', 'tick': '-200949', 'timestamp': '1685583979', 'pool': {'id': '0xc31e54c7a869b9fcbecc14363cf510d1c41fa443'}, 'tokenIn': {'symbol': 'WETH'}, 'tokenOut': {'symbol': 'USDC'}}, {'id': '0x0c5a67251086e80b3d3cebc7ff2f54fd6376d5f38ddab24de0603c6a8814d36e0d000000', 'amountIn': '9652948401281376665', 'amountInUSD': '18106.15607466797824056257915', 'amountOut': '18096617979', 'amountOutUSD': '18096.617979', 'gasLimit': '6000000', 'gasPrice': '2000000000', 'tick': '-200954', 'timestamp': '1685584228', 'pool': {'id': '0xc31e54c7a869b9fcbecc14363cf510d1c41fa443'}, 'tokenIn': {'symbol': 'WETH'}, 'tokenOut': {'symbol': 'USDC'}}, {'id': '0x23e01c7a62c8fedef4d5348eeb107cd0f2b4d8214430428314112006f5136d9e0f000000', 'amountIn': '8490461846440190602', 'amountInUSD': '15914.9220102435529193756843', 'amountOut': '15903439097', 'amountOutUSD': '15903.439097', 'gasLimit': '6000000', 'gasPrice': '2000000000', 'tick': '-200963', 'timestamp': '1685584258', 'pool': {'id': '0xc31e54c7a869b9fcbecc14363cf510d1c41fa443'}, 'tokenIn': {'symbol': 'WETH'}, 'tokenOut': {'symbol': 'USDC'}}, {'id': '0xc7025a2f1b7adae8a7fd4460a331ae615c9f9e244a3a31adc42fcf7452ccfe350f000000', 'amountIn': '11458518168', 'amountInUSD': '11458.518168', 'amountOut': '6110772156248603104', 'amountOutUSD': '11452.74391219450320243564928', 'gasLimit': '6000000', 'gasPrice': '2000000000', 'tick': '-200961', 'timestamp': '1685584583', 'pool': {'id': '0xc31e54c7a869b9fcbecc14363cf510d1c41fa443'}, 'tokenIn': {'symbol': 'USDC'}, 'tokenOut': {'symbol': 'WETH'}}, {'id': '0x0d9ddf2a686ca546ea84c7773f6f1c832d1a042bc560acf59dc46b1d1dc754dc17000000', 'amountIn': '16693997086973057095', 'amountInUSD': '31283.4514082193026899508652', 'amountOut': '31266247376', 'amountOutUSD': '31266.247376', 'gasLimit': '6000000', 'gasPrice': '2000000000', 'tick': '-200964', 'timestamp': '1685585140', 'pool': {'id': '0xc31e54c7a869b9fcbecc14363cf510d1c41fa443'}, 'tokenIn': {'symbol': 'WETH'}, 'tokenOut': {'symbol': 'USDC'}}, {'id': '0xbf9a1f627262a1c817999b57e1a26283c788c3a498ba8ff369730e65e1815cfd07000000', 'amountIn': '8727571735158288399', 'amountInUSD': '16343.40688024003548616397412', 'amountOut': '16333377249', 'amountOutUSD': '16333.377249', 'gasLimit': '6000000', 'gasPrice': '2000000000', 'tick': '-200971', 'timestamp': '1685586078', 'pool': {'id': '0xc31e54c7a869b9fcbecc14363cf510d1c41fa443'}, 'tokenIn': {'symbol': 'WETH'}, 'tokenOut': {'symbol': 'USDC'}}, {'id': '0xa5b2830d505dc0c4061919db713b439f5d4eb8ddc16b39160c63021a5965201012000000', 'amountIn': '16287605021', 'amountInUSD': '16287.605021', 'amountOut': '8693956988912280559', 'amountOutUSD': '16278.14992959313355727490775', 'gasLimit': '6000000', 'gasPrice': '2000000000', 'tick': '-200970', 'timestamp': '1685586210', 'pool': {'id': '0xc31e54c7a869b9fcbecc14363cf510d1c41fa443'}, 'tokenIn': {'symbol': 'USDC'}, 'tokenOut': {'symbol': 'WETH'}}, {'id': '0xedd1a5e92913e2dea1ef96936452643b3acb700ab6514fe0d09ade0a95493dbd11000000', 'amountIn': '19472104819', 'amountInUSD': '19472.104819', 'amountOut': '10391570167443190747', 'amountOutUSD': '19460.89117568689464423866744', 'gasLimit': '6000000', 'gasPrice': '2000000000', 'tick': '-200968', 'timestamp': '1685586235', 'pool': {'id': '0xc31e54c7a869b9fcbecc14363cf510d1c41fa443'}, 'tokenIn': {'symbol': 'USDC'}, 'tokenOut': {'symbol': 'WETH'}}, {'id': '0x6ff0316718346a03e03d5755e78bc3fb10011893e172a2e4f6b628ef80784a2907000000', 'amountIn': '22290582975', 'amountInUSD': '22290.582975', 'amountOut': '11892311132935394310', 'amountOutUSD': '22278.4853211992321188428924', 'gasLimit': '6000000', 'gasPrice': '2000000000', 'tick': '-200965', 'timestamp': '1685586719', 'pool': {'id': '0xc31e54c7a869b9fcbecc14363cf510d1c41fa443'}, 'tokenIn': {'symbol': 'USDC'}, 'tokenOut': {'symbol': 'WETH'}}, {'id': '0xaa58cedc8e627d04ca6392f4dbc88e00aeca9e7078880a83025afe630365d29d0a000000', 'amountIn': '20198175464', 'amountInUSD': '20198.175464', 'amountOut': '10773118493192202304', 'amountOutUSD': '20187.46028717213391680633664', 'gasLimit': '6000000', 'gasPrice': '2000000000', 'tick': '-200963', 'timestamp': '1685586796', 'pool': {'id': '0xc31e54c7a869b9fcbecc14363cf510d1c41fa443'}, 'tokenIn': {'symbol': 'USDC'}, 'tokenOut': {'symbol': 'WETH'}}, {'id': '0x0a492a19335c8e03d9e6ce0f6efc142857ffb6fb73753215efc54d3c6ef4c6a403000000', 'amountIn': '16422872721690266580', 'amountInUSD': '30768.086173072225365937542', 'amountOut': '30751272547', 'amountOutUSD': '30751.272547', 'gasLimit': '6000000', 'gasPrice': '2000000000', 'tick': '-200966', 'timestamp': '1685587296', 'pool': {'id': '0xc31e54c7a869b9fcbecc14363cf510d1c41fa443'}, 'tokenIn': {'symbol': 'WETH'}, 'tokenOut': {'symbol': 'USDC'}}]\n"
     ]
    }
   ],
   "source": [
    "from gql import gql, Client\n",
    "from gql.transport.requests import RequestsHTTPTransport\n",
    "\n",
    "swap_query = \"\"\"\n",
    "{\n",
    "    swaps(skip: %d, orderBy: timestamp, orderDirection: asc,\n",
    "        where: { account_: {id: \"0x8cc02c2381b7c55e18dccfea917f0677a5671931\"}, timestamp_gte: %d }){\n",
    "        id\n",
    "        amountIn\n",
    "        amountInUSD\n",
    "        amountOut\n",
    "        amountOutUSD\n",
    "        gasLimit\n",
    "        gasPrice\n",
    "        tick\n",
    "        timestamp\n",
    "        pool {\n",
    "            id\n",
    "        }\n",
    "        tokenIn {\n",
    "            symbol\n",
    "        }\n",
    "        tokenOut {\n",
    "            symbol\n",
    "        }\n",
    "    }\n",
    "}\"\"\"\n",
    "\n",
    "\n",
    "client = Client(\n",
    "    transport=RequestsHTTPTransport(\n",
    "        url='https://api.thegraph.com/subgraphs/name/messari/uniswap-v3-arbitrum',\n",
    "        verify=True,\n",
    "        retries=5,\n",
    "    ))\n",
    "\n",
    "response = client.execute(gql(swap_query % (0, last_timestamp)))\n",
    "print(response[\"swaps\"])"
   ]
  },
  {
   "cell_type": "code",
   "execution_count": 5,
   "metadata": {
    "collapsed": false,
    "pycharm": {
     "name": "#%%\n"
    }
   },
   "outputs": [
    {
     "name": "stdout",
     "output_type": "stream",
     "text": [
      "2023-06-07 15:33:21.954100 result cnt: 100 id cnt: 62410 skip:  0\n",
      "Current time:  2023-06-01 02:41:36+00:00\n",
      "2023-06-07 15:34:09.798130 result cnt: 1090 id cnt: 63400 skip:  0\n",
      "Current time:  2023-06-05 00:47:30+00:00\n",
      "2023-06-07 15:34:57.697410 result cnt: 2080 id cnt: 64390 skip:  0\n",
      "Current time:  2023-06-06 16:55:18+00:00\n"
     ]
    }
   ],
   "source": [
    "from utils import utils\n",
    "from datetime import datetime\n",
    "\n",
    "result = response['swaps']\n",
    "id_set = id_set = set(df[\"id\"].tolist())\n",
    "for t in result:\n",
    "    id_set.add(t[\"id\"])\n",
    "\n",
    "print_set = set()\n",
    "PRINT_GAP = 1000\n",
    "\n",
    "current_timestamp = int(result[-1][\"timestamp\"])\n",
    "end_timestamp = utils.date_to_utc_timestamp(datetime(2023, 6, 7, 0, 0))\n",
    "\n",
    "# more than 100 swap transactions happened in a second, will need to change skip count\n",
    "skip = 0\n",
    "last_cnt = 0\n",
    "while current_timestamp <= end_timestamp:\n",
    "    if skip == 1000:\n",
    "        break\n",
    "\n",
    "    print_cnt = int(len(result) / PRINT_GAP)\n",
    "    if print_cnt not in print_set:\n",
    "        print_set.add(print_cnt)\n",
    "        print(datetime.now(), \"result cnt:\", len(result), \"id cnt:\", len(id_set), \"skip: \", skip)\n",
    "        print(\"Current time: \", utils.utc_timestamp_to_date(current_timestamp))\n",
    "\n",
    "    last_cnt = len(result)\n",
    "    query = swap_query % (skip, current_timestamp)\n",
    "    try:\n",
    "        response = client.execute(gql(query))\n",
    "\n",
    "        swap_data = response[\"swaps\"]\n",
    "        if len(swap_data) == 0:\n",
    "            break\n",
    "        for item in swap_data:\n",
    "            if int(item[\"timestamp\"]) > end_timestamp:\n",
    "                break\n",
    "            elif item[\"id\"] in id_set:\n",
    "                continue\n",
    "            else:\n",
    "                result.append(item)\n",
    "                id_set.add(item[\"id\"])\n",
    "\n",
    "        if last_cnt == len(result):\n",
    "            skip += 100\n",
    "        else:\n",
    "            skip = 0\n",
    "\n",
    "        current_timestamp = int(result[-1][\"timestamp\"])\n",
    "    except Exception as ex:\n",
    "        print(\"Fetching swap data error\", ex)"
   ]
  },
  {
   "cell_type": "code",
   "execution_count": null,
   "metadata": {
    "collapsed": false,
    "pycharm": {
     "name": "#%%\n"
    }
   },
   "outputs": [],
   "source": [
    "# data concat"
   ]
  },
  {
   "cell_type": "code",
   "execution_count": 7,
   "metadata": {
    "collapsed": false,
    "pycharm": {
     "name": "#%%\n"
    }
   },
   "outputs": [
    {
     "data": {
      "text/html": [
       "<div>\n",
       "<style scoped>\n",
       "    .dataframe tbody tr th:only-of-type {\n",
       "        vertical-align: middle;\n",
       "    }\n",
       "\n",
       "    .dataframe tbody tr th {\n",
       "        vertical-align: top;\n",
       "    }\n",
       "\n",
       "    .dataframe thead th {\n",
       "        text-align: right;\n",
       "    }\n",
       "</style>\n",
       "<table border=\"1\" class=\"dataframe\">\n",
       "  <thead>\n",
       "    <tr style=\"text-align: right;\">\n",
       "      <th></th>\n",
       "      <th>id</th>\n",
       "      <th>amountIn</th>\n",
       "      <th>amountInUSD</th>\n",
       "      <th>amountOut</th>\n",
       "      <th>amountOutUSD</th>\n",
       "      <th>gasLimit</th>\n",
       "      <th>gasPrice</th>\n",
       "      <th>tick</th>\n",
       "      <th>timestamp</th>\n",
       "      <th>pool</th>\n",
       "      <th>tokenIn</th>\n",
       "      <th>tokenOut</th>\n",
       "    </tr>\n",
       "  </thead>\n",
       "  <tbody>\n",
       "    <tr>\n",
       "      <th>0</th>\n",
       "      <td>0xf18c91bf18a01b04bdd36f9f2a86364f8e93c1974eb4...</td>\n",
       "      <td>16491066994</td>\n",
       "      <td>16491.066994</td>\n",
       "      <td>8793652510660301738</td>\n",
       "      <td>16482.42989320664391504365044</td>\n",
       "      <td>6000000</td>\n",
       "      <td>2000000000</td>\n",
       "      <td>-200960</td>\n",
       "      <td>1685577355</td>\n",
       "      <td>0xc31e54c7a869b9fcbecc14363cf510d1c41fa443</td>\n",
       "      <td>USDC</td>\n",
       "      <td>WETH</td>\n",
       "    </tr>\n",
       "    <tr>\n",
       "      <th>1</th>\n",
       "      <td>0xcbc07212c81721435423a8ac276615cbc1ab2e9cf1d1...</td>\n",
       "      <td>32798155443</td>\n",
       "      <td>32798.155443</td>\n",
       "      <td>17487734589899770208</td>\n",
       "      <td>32779.97486338014584619297952</td>\n",
       "      <td>6000000</td>\n",
       "      <td>2000000000</td>\n",
       "      <td>-200959</td>\n",
       "      <td>1685577641</td>\n",
       "      <td>0xc31e54c7a869b9fcbecc14363cf510d1c41fa443</td>\n",
       "      <td>USDC</td>\n",
       "      <td>WETH</td>\n",
       "    </tr>\n",
       "    <tr>\n",
       "      <th>2</th>\n",
       "      <td>0xf239b50d206a97cfac9e56bf265c6b2c323de40b622d...</td>\n",
       "      <td>23602123802</td>\n",
       "      <td>23602.123802</td>\n",
       "      <td>12577680087838434308</td>\n",
       "      <td>23586.5247562646313794248364</td>\n",
       "      <td>6000000</td>\n",
       "      <td>2000000000</td>\n",
       "      <td>-200954</td>\n",
       "      <td>1685577793</td>\n",
       "      <td>0xc31e54c7a869b9fcbecc14363cf510d1c41fa443</td>\n",
       "      <td>USDC</td>\n",
       "      <td>WETH</td>\n",
       "    </tr>\n",
       "    <tr>\n",
       "      <th>3</th>\n",
       "      <td>0x0774ac668acc332a7c7602b1a8104b5f480c3125ad82...</td>\n",
       "      <td>9010101078880157749</td>\n",
       "      <td>16906.74233592731975072686406</td>\n",
       "      <td>16896605650</td>\n",
       "      <td>16896.60565</td>\n",
       "      <td>6000000</td>\n",
       "      <td>2000000000</td>\n",
       "      <td>-200951</td>\n",
       "      <td>1685577967</td>\n",
       "      <td>0xc31e54c7a869b9fcbecc14363cf510d1c41fa443</td>\n",
       "      <td>WETH</td>\n",
       "      <td>USDC</td>\n",
       "    </tr>\n",
       "    <tr>\n",
       "      <th>4</th>\n",
       "      <td>0xf4ad4dc41f3a4702e8a661e2c1ffc0baf528bcd1cddb...</td>\n",
       "      <td>9966794012412496598</td>\n",
       "      <td>18692.23459471655015021542584</td>\n",
       "      <td>18680307146</td>\n",
       "      <td>18680.307146</td>\n",
       "      <td>6000000</td>\n",
       "      <td>2000000000</td>\n",
       "      <td>-200956</td>\n",
       "      <td>1685577995</td>\n",
       "      <td>0xc31e54c7a869b9fcbecc14363cf510d1c41fa443</td>\n",
       "      <td>WETH</td>\n",
       "      <td>USDC</td>\n",
       "    </tr>\n",
       "  </tbody>\n",
       "</table>\n",
       "</div>"
      ],
      "text/plain": [
       "                                                  id             amountIn  \\\n",
       "0  0xf18c91bf18a01b04bdd36f9f2a86364f8e93c1974eb4...          16491066994   \n",
       "1  0xcbc07212c81721435423a8ac276615cbc1ab2e9cf1d1...          32798155443   \n",
       "2  0xf239b50d206a97cfac9e56bf265c6b2c323de40b622d...          23602123802   \n",
       "3  0x0774ac668acc332a7c7602b1a8104b5f480c3125ad82...  9010101078880157749   \n",
       "4  0xf4ad4dc41f3a4702e8a661e2c1ffc0baf528bcd1cddb...  9966794012412496598   \n",
       "\n",
       "                     amountInUSD             amountOut  \\\n",
       "0                   16491.066994   8793652510660301738   \n",
       "1                   32798.155443  17487734589899770208   \n",
       "2                   23602.123802  12577680087838434308   \n",
       "3  16906.74233592731975072686406           16896605650   \n",
       "4  18692.23459471655015021542584           18680307146   \n",
       "\n",
       "                    amountOutUSD gasLimit    gasPrice     tick   timestamp  \\\n",
       "0  16482.42989320664391504365044  6000000  2000000000  -200960  1685577355   \n",
       "1  32779.97486338014584619297952  6000000  2000000000  -200959  1685577641   \n",
       "2   23586.5247562646313794248364  6000000  2000000000  -200954  1685577793   \n",
       "3                    16896.60565  6000000  2000000000  -200951  1685577967   \n",
       "4                   18680.307146  6000000  2000000000  -200956  1685577995   \n",
       "\n",
       "                                         pool tokenIn tokenOut  \n",
       "0  0xc31e54c7a869b9fcbecc14363cf510d1c41fa443    USDC     WETH  \n",
       "1  0xc31e54c7a869b9fcbecc14363cf510d1c41fa443    USDC     WETH  \n",
       "2  0xc31e54c7a869b9fcbecc14363cf510d1c41fa443    USDC     WETH  \n",
       "3  0xc31e54c7a869b9fcbecc14363cf510d1c41fa443    WETH     USDC  \n",
       "4  0xc31e54c7a869b9fcbecc14363cf510d1c41fa443    WETH     USDC  "
      ]
     },
     "execution_count": 7,
     "metadata": {},
     "output_type": "execute_result"
    }
   ],
   "source": [
    "import pandas as pd\n",
    "from copy import deepcopy\n",
    "\n",
    "\n",
    "arb_result = deepcopy(result)\n",
    "for item in arb_result:\n",
    "    item[\"tokenIn\"] = item[\"tokenIn\"][\"symbol\"]\n",
    "    item[\"tokenOut\"] = item[\"tokenOut\"][\"symbol\"]\n",
    "    item[\"pool\"] = item[\"pool\"][\"id\"]\n",
    "\n",
    "arb_uniswap_df = pd.DataFrame(arb_result)\n",
    "arb_uniswap_df.head()"
   ]
  },
  {
   "cell_type": "code",
   "execution_count": 9,
   "metadata": {},
   "outputs": [
    {
     "data": {
      "text/plain": [
       "0xc31e54c7a869b9fcbecc14363cf510d1c41fa443    2321\n",
       "Name: pool, dtype: int64"
      ]
     },
     "execution_count": 9,
     "metadata": {},
     "output_type": "execute_result"
    }
   ],
   "source": [
    "# judge whether need to resolve some usdt transaction\n",
    "arb_uniswap_df.pool.value_counts()"
   ]
  },
  {
   "cell_type": "code",
   "execution_count": 10,
   "metadata": {},
   "outputs": [
    {
     "data": {
      "text/plain": [
       "(64632, 12)"
      ]
     },
     "execution_count": 10,
     "metadata": {},
     "output_type": "execute_result"
    }
   ],
   "source": [
    "df = pd.concat([df, arb_uniswap_df])\n",
    "df.shape"
   ]
  },
  {
   "cell_type": "code",
   "execution_count": 11,
   "metadata": {},
   "outputs": [],
   "source": [
    "df.to_csv(\"../data/user_arb_swap_all.csv\", index=False)"
   ]
  },
  {
   "cell_type": "code",
   "execution_count": null,
   "metadata": {
    "collapsed": false,
    "pycharm": {
     "name": "#%%\n"
    }
   },
   "outputs": [],
   "source": [
    "import time\n",
    "\n",
    "from gql import gql, Client\n",
    "from gql.transport.requests import RequestsHTTPTransport\n",
    "\n",
    "\n",
    "client = Client(\n",
    "    transport=RequestsHTTPTransport(\n",
    "        url='https://api.thegraph.com/subgraphs/name/messari/uniswap-v3-arbitrum',\n",
    "        verify=True,\n",
    "        retries=5,\n",
    "    ))\n",
    "\n",
    "query1 = \"\"\"query get_pools($pool_id: ID!) {\n",
    "    liquidityPool(id: $pool_id) {\n",
    "        tick\n",
    "        lastUpdateTimestamp\n",
    "    }\n",
    "}\"\"\"\n",
    "\n",
    "variables = { \"pool_id\": \"0xc31e54c7a869b9fcbecc14363cf510d1c41fa443\" }\n",
    "print(int(time.time()))\n",
    "response1 = client.execute(gql(query1), variable_values=variables)\n",
    "print(response1[\"liquidityPool\"][\"lastUpdateTimestamp\"])\n",
    "print(int(time.time()))"
   ]
  },
  {
   "cell_type": "code",
   "execution_count": null,
   "metadata": {
    "collapsed": false,
    "pycharm": {
     "name": "#%%\n"
    }
   },
   "outputs": [],
   "source": [
    "query2 = \"\"\"\n",
    "{\n",
    "    liquidityPool(id: \"0xc31e54c7a869b9fcbecc14363cf510d1c41fa443\") {\n",
    "        tick\n",
    "        lastUpdateTimestamp\n",
    "    }\n",
    "}\"\"\"\n",
    "\n",
    "print(int(time.time()))\n",
    "response2 = client.execute(gql(query2))\n",
    "print(response2[\"liquidityPool\"][\"lastUpdateTimestamp\"])\n",
    "print(int(time.time()))"
   ]
  },
  {
   "cell_type": "code",
   "execution_count": null,
   "metadata": {
    "collapsed": false,
    "pycharm": {
     "name": "#%%\n"
    }
   },
   "outputs": [],
   "source": []
  },
  {
   "cell_type": "code",
   "execution_count": null,
   "metadata": {
    "collapsed": false,
    "pycharm": {
     "name": "#%%\n"
    }
   },
   "outputs": [],
   "source": []
  }
 ],
 "metadata": {
  "kernelspec": {
   "display_name": "Python (vs_base)",
   "language": "python",
   "name": "vs_base"
  },
  "language_info": {
   "codemirror_mode": {
    "name": "ipython",
    "version": 3
   },
   "file_extension": ".py",
   "mimetype": "text/x-python",
   "name": "python",
   "nbconvert_exporter": "python",
   "pygments_lexer": "ipython3",
   "version": "3.10.6"
  }
 },
 "nbformat": 4,
 "nbformat_minor": 0
}
