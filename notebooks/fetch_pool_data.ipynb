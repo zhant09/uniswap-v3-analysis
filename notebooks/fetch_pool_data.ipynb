{
 "cells": [
  {
   "cell_type": "code",
   "execution_count": 3,
   "outputs": [
    {
     "name": "stdout",
     "output_type": "stream",
     "text": [
      "1682899200\n"
     ]
    }
   ],
   "source": [
    "from datetime import datetime, timezone\n",
    "\n",
    "\n",
    "def date_to_utc_timestamp(c_date):\n",
    "    return int(c_date.replace(tzinfo=timezone.utc).timestamp())\n",
    "\n",
    "\n",
    "def utc_timestamp_to_date(ts):\n",
    "    return datetime.fromtimestamp(ts, tz=timezone.utc)\n",
    "\n",
    "\n",
    "start_date = datetime(2023, 5, 1)\n",
    "print(date_to_utc_timestamp(start_date))\n",
    "# print(utc_timestamp_to_date(1626480000))"
   ],
   "metadata": {
    "collapsed": false,
    "pycharm": {
     "name": "#%%\n"
    }
   }
  },
  {
   "cell_type": "code",
   "execution_count": 11,
   "outputs": [
    {
     "name": "stdout",
     "output_type": "stream",
     "text": [
      "2021-05-01 00:00:00+00:00\n",
      "100\n",
      "2021-08-12 00:00:00+00:00\n",
      "200\n",
      "2021-11-20 00:00:00+00:00\n",
      "300\n",
      "2022-02-28 00:00:00+00:00\n",
      "400\n",
      "2022-06-08 00:00:00+00:00\n",
      "500\n",
      "2022-09-16 00:00:00+00:00\n",
      "600\n",
      "2022-12-25 00:00:00+00:00\n",
      "700\n",
      "2023-04-04 00:00:00+00:00\n",
      "732\n"
     ]
    }
   ],
   "source": [
    "from gql import gql, Client\n",
    "from gql.transport.requests import RequestsHTTPTransport\n",
    "\n",
    "# 0.05% WBTC/ETH pool\n",
    "LOW_POOL_ID = \"0x4585fe77225b41b697c938b018e2ac67ac5a20c0\"\n",
    "# 0.3% WBTC/ETH pool\n",
    "HIGH_POOL_ID = \"0xcbcdf9626bc03e24f779434178a73a0b4bad62ed\"\n",
    "\n",
    "\n",
    "def get_pool_trade_data(pool_id, start_date):\n",
    "    pool_query = \"\"\"\n",
    "    query poolDayDatas($pool_id: ID!, $start_time: Int!,){\n",
    "        poolDayDatas(\n",
    "            where: { pool: $pool_id, date_gt: $start_time }\n",
    "        orderBy: date\n",
    "        orderDirection: asc\n",
    "        ) {\n",
    "            date\n",
    "            # in range liquidity at end of period\n",
    "            liquidity\n",
    "            # current price tracker at end of period\n",
    "            sqrtPrice\n",
    "            # price of token0 - derived from sqrtPrice\n",
    "            tick\n",
    "            # tvl derived in USD at end of period\n",
    "            tvlUSD\n",
    "            # volume in token0\n",
    "            volumeToken0\n",
    "            # volume in token1\n",
    "            volumeToken1\n",
    "            # volume in USD\n",
    "            volumeUSD\n",
    "            # fees in USD\n",
    "            feesUSD\n",
    "            # number of transactions during period\n",
    "            txCount\n",
    "            # opening price of token0\n",
    "            open\n",
    "            # high price of token0\n",
    "            high\n",
    "            # low price of token0\n",
    "            low\n",
    "            # close price of token0\n",
    "            close\n",
    "            }\n",
    "    }\n",
    "    \"\"\"\n",
    "\n",
    "    client = Client(\n",
    "        transport=RequestsHTTPTransport(\n",
    "            url='https://api.thegraph.com/subgraphs/name/uniswap/uniswap-v3',\n",
    "            verify=True,\n",
    "            retries=5,\n",
    "        ))\n",
    "\n",
    "    start_timestamp = date_to_utc_timestamp(start_date)\n",
    "    variables = {\"pool_id\": pool_id, \"start_time\": start_timestamp}\n",
    "    response = client.execute(gql(pool_query), variable_values=variables)\n",
    "    trade_data = response[\"poolDayDatas\"]\n",
    "    trade_all_data = trade_data\n",
    "\n",
    "    while len(trade_data) > 0:\n",
    "        print(utc_timestamp_to_date(start_timestamp))\n",
    "        print(len(trade_all_data))\n",
    "        start_timestamp = trade_data[-1]['date']\n",
    "        variables = {\"pool_id\": pool_id, \"start_time\": start_timestamp}\n",
    "        response = client.execute(gql(pool_query), variable_values=variables)\n",
    "        trade_data = response[\"poolDayDatas\"]\n",
    "        trade_all_data += trade_data\n",
    "\n",
    "    return trade_all_data\n",
    "\n",
    "\n",
    "# the earliest data is from 2021-05-01\n",
    "start_date = datetime(2021, 5, 1)\n",
    "pool_data = get_pool_trade_data(LOW_POOL_ID, start_date)"
   ],
   "metadata": {
    "collapsed": false,
    "pycharm": {
     "name": "#%%\n"
    }
   }
  },
  {
   "cell_type": "code",
   "execution_count": 4,
   "outputs": [
    {
     "data": {
      "text/plain": "         date          liquidity                            sqrtPrice    tick  \\\n0  1620172800                  0                                    0    None   \n1  1620259200     47802696926688  31809195401932648817609369003249547  258071   \n2  1620345600  42425055535734978  32187992991029178621379247853387443  258308   \n3  1620432000   4036037627994723  30814946235335421635470353514297570  257436   \n4  1620518400    672440555897057  30550018995856811291234861690516572  257263   \n\n                                tvlUSD  volumeToken0             volumeToken1  \\\n0                                    0             0                        0   \n1  5146.736482364860299518079151516243    0.01955837     0.316827345146869434   \n2  2073400.162975270801081924615102077   68.18328357  1120.626959335943537703   \n3  1980521.049385023017241543520869319  126.96928506    2072.7905681432721063   \n4  739735.1727825094073093447014429385   10.91169152   163.331111671204485144   \n\n                             volumeUSD                               feesUSD  \\\n0                                    0                                     0   \n1  1102.031018311199696439388175003343  0.5510155091555998482196940875016715   \n2   3922263.61944071584148036405495539   1961.131809720357920740182027477691   \n3  7443618.326347876067605645380688426   3721.809163173938033802822690344206   \n4  634883.3690065130877645983992275799   317.4416845032565438822991996137902   \n\n  txCount                                   open  \\\n0       2                                      0   \n1      16  0.05998654715076262372902751818670286   \n2     227  0.06203743019377815473808300194149325   \n3     257  0.06058403976932998513307639824064359   \n4      99  0.06609184203913069571728478548803438   \n\n                                    high  \\\n0                                      0   \n1  0.06243654451824971693450264979198528   \n2  0.06203743019377815473808300194149325   \n3  0.06669932160003833798769060727416865   \n4  0.06830342385985722044198599944892239   \n\n                                     low  \\\n0                                      0   \n1  0.05998654715076262372902751818670286   \n2  0.06010084251900176152287862020188552   \n3  0.06004384605589742079211220851145031   \n4   0.0653848260519338954289133091895779   \n\n                                   close  \n0                                      0  \n1  0.05998654715076262372902751818670286  \n2  0.06203743019377815473808300194149325  \n3  0.06058403976932998513307639824064359  \n4  0.06609184203913069571728478548803438  ",
      "text/html": "<div>\n<style scoped>\n    .dataframe tbody tr th:only-of-type {\n        vertical-align: middle;\n    }\n\n    .dataframe tbody tr th {\n        vertical-align: top;\n    }\n\n    .dataframe thead th {\n        text-align: right;\n    }\n</style>\n<table border=\"1\" class=\"dataframe\">\n  <thead>\n    <tr style=\"text-align: right;\">\n      <th></th>\n      <th>date</th>\n      <th>liquidity</th>\n      <th>sqrtPrice</th>\n      <th>tick</th>\n      <th>tvlUSD</th>\n      <th>volumeToken0</th>\n      <th>volumeToken1</th>\n      <th>volumeUSD</th>\n      <th>feesUSD</th>\n      <th>txCount</th>\n      <th>open</th>\n      <th>high</th>\n      <th>low</th>\n      <th>close</th>\n    </tr>\n  </thead>\n  <tbody>\n    <tr>\n      <th>0</th>\n      <td>1620172800</td>\n      <td>0</td>\n      <td>0</td>\n      <td>None</td>\n      <td>0</td>\n      <td>0</td>\n      <td>0</td>\n      <td>0</td>\n      <td>0</td>\n      <td>2</td>\n      <td>0</td>\n      <td>0</td>\n      <td>0</td>\n      <td>0</td>\n    </tr>\n    <tr>\n      <th>1</th>\n      <td>1620259200</td>\n      <td>47802696926688</td>\n      <td>31809195401932648817609369003249547</td>\n      <td>258071</td>\n      <td>5146.736482364860299518079151516243</td>\n      <td>0.01955837</td>\n      <td>0.316827345146869434</td>\n      <td>1102.031018311199696439388175003343</td>\n      <td>0.5510155091555998482196940875016715</td>\n      <td>16</td>\n      <td>0.05998654715076262372902751818670286</td>\n      <td>0.06243654451824971693450264979198528</td>\n      <td>0.05998654715076262372902751818670286</td>\n      <td>0.05998654715076262372902751818670286</td>\n    </tr>\n    <tr>\n      <th>2</th>\n      <td>1620345600</td>\n      <td>42425055535734978</td>\n      <td>32187992991029178621379247853387443</td>\n      <td>258308</td>\n      <td>2073400.162975270801081924615102077</td>\n      <td>68.18328357</td>\n      <td>1120.626959335943537703</td>\n      <td>3922263.61944071584148036405495539</td>\n      <td>1961.131809720357920740182027477691</td>\n      <td>227</td>\n      <td>0.06203743019377815473808300194149325</td>\n      <td>0.06203743019377815473808300194149325</td>\n      <td>0.06010084251900176152287862020188552</td>\n      <td>0.06203743019377815473808300194149325</td>\n    </tr>\n    <tr>\n      <th>3</th>\n      <td>1620432000</td>\n      <td>4036037627994723</td>\n      <td>30814946235335421635470353514297570</td>\n      <td>257436</td>\n      <td>1980521.049385023017241543520869319</td>\n      <td>126.96928506</td>\n      <td>2072.7905681432721063</td>\n      <td>7443618.326347876067605645380688426</td>\n      <td>3721.809163173938033802822690344206</td>\n      <td>257</td>\n      <td>0.06058403976932998513307639824064359</td>\n      <td>0.06669932160003833798769060727416865</td>\n      <td>0.06004384605589742079211220851145031</td>\n      <td>0.06058403976932998513307639824064359</td>\n    </tr>\n    <tr>\n      <th>4</th>\n      <td>1620518400</td>\n      <td>672440555897057</td>\n      <td>30550018995856811291234861690516572</td>\n      <td>257263</td>\n      <td>739735.1727825094073093447014429385</td>\n      <td>10.91169152</td>\n      <td>163.331111671204485144</td>\n      <td>634883.3690065130877645983992275799</td>\n      <td>317.4416845032565438822991996137902</td>\n      <td>99</td>\n      <td>0.06609184203913069571728478548803438</td>\n      <td>0.06830342385985722044198599944892239</td>\n      <td>0.0653848260519338954289133091895779</td>\n      <td>0.06609184203913069571728478548803438</td>\n    </tr>\n  </tbody>\n</table>\n</div>"
     },
     "execution_count": 4,
     "metadata": {},
     "output_type": "execute_result"
    }
   ],
   "source": [
    "import pandas as pd\n",
    "\n",
    "uniswap_df = pd.DataFrame(pool_data)\n",
    "uniswap_df.head()"
   ],
   "metadata": {
    "collapsed": false,
    "pycharm": {
     "name": "#%%\n"
    }
   }
  },
  {
   "cell_type": "code",
   "execution_count": 5,
   "outputs": [],
   "source": [
    "uniswap_df.to_csv(\"../data/wbtc_eth_0.05_uniswap_data.csv\", index=False)"
   ],
   "metadata": {
    "collapsed": false,
    "pycharm": {
     "name": "#%%\n"
    }
   }
  },
  {
   "cell_type": "code",
   "execution_count": 10,
   "outputs": [
    {
     "name": "stdout",
     "output_type": "stream",
     "text": [
      "2021-05-01 00:00:00+00:00\n",
      "100\n",
      "2021-08-11 00:00:00+00:00\n",
      "200\n",
      "2021-11-19 00:00:00+00:00\n",
      "300\n",
      "2022-02-27 00:00:00+00:00\n",
      "400\n",
      "2022-06-07 00:00:00+00:00\n",
      "500\n",
      "2022-09-15 00:00:00+00:00\n",
      "600\n",
      "2022-12-24 00:00:00+00:00\n",
      "700\n",
      "2023-04-03 00:00:00+00:00\n",
      "733\n"
     ]
    }
   ],
   "source": [
    "pool_data1 = get_pool_trade_data(HIGH_POOL_ID, start_date)\n",
    "uniswap_df1 = pd.DataFrame(pool_data1)\n",
    "uniswap_df1.to_csv(\"../data/wbtc_eth_0.3_uniswap_data.csv\", index=False)"
   ],
   "metadata": {
    "collapsed": false,
    "pycharm": {
     "name": "#%%\n"
    }
   }
  },
  {
   "cell_type": "code",
   "execution_count": 8,
   "outputs": [
    {
     "data": {
      "text/plain": "         date            liquidity                           sqrtPrice  \\\n0  1620172800     3990726651924459  1339927351757144388712475515525518   \n1  1620259200    68047172598720294  1339910162090425200965669972282089   \n2  1620345600  1126614144148477771  1342329450130962182714220163061212   \n3  1620432000    87209657035771435  1271215747025067696231868854587672   \n4  1620518400   191200334840491900  1267131081268782544641468500372448   \n\n     tick                               tvlUSD     volumeToken0  \\\n0  194725   15990.5025439940886751925509600602      3695.686153   \n1  194725  513871.4159407929723419764491435211   1803816.327163   \n2  194761  2749923.824139887875098979243647372  24132900.806355   \n3  193672  1576917.792811014489888423519154903  21335972.622553   \n4  193608  1558604.980082295860302258155946276   6330422.177312   \n\n              volumeToken1                            volumeUSD  \\\n0     1.053733492783073142  3732.094428775605445003159429854333   \n1   516.145087582265653465  1804100.360824469382992833462819919   \n2  6912.410379553819027454  24132962.61343503546513328194485803   \n3  5949.015215539578664786  21333664.52815374778086557562483543   \n4  1631.843705113879928786  6330963.787682867735399760167184382   \n\n                               feesUSD txCount  \\\n0  1.866047214387802722501579714927167      14   \n1  902.0501804122346914964167314099573     906   \n2  12066.48130671751773256664097242894    1979   \n3  10666.83226407687389043278781241774    1372   \n4  3165.481893841433867699880083592182    1097   \n\n                                  open                                 high  \\\n0                                    0  3525.673097867570086322273753776014   \n1  3519.716693090278316252338136457059  3613.912924179666876274469797086365   \n2  3492.800580689646176381188242378386  3577.139147665005703027959377071504   \n3  3448.215489988570176415924695536605   4065.42977939784842474404892687385   \n4  3886.561269519253200911892003949243  3998.817352529580010161614476694996   \n\n                                   low                                close  \n0                                    0                                    0  \n1  3395.383086192493988252557527608186  3519.716693090278316252338136457059  \n2  3367.326464953274994888859401816482  3492.800580689646176381188242378386  \n3  3448.215489988570176415924695536605  3448.215489988570176415924695536605  \n4   3739.03329448136685809450955097815  3886.561269519253200911892003949243  ",
      "text/html": "<div>\n<style scoped>\n    .dataframe tbody tr th:only-of-type {\n        vertical-align: middle;\n    }\n\n    .dataframe tbody tr th {\n        vertical-align: top;\n    }\n\n    .dataframe thead th {\n        text-align: right;\n    }\n</style>\n<table border=\"1\" class=\"dataframe\">\n  <thead>\n    <tr style=\"text-align: right;\">\n      <th></th>\n      <th>date</th>\n      <th>liquidity</th>\n      <th>sqrtPrice</th>\n      <th>tick</th>\n      <th>tvlUSD</th>\n      <th>volumeToken0</th>\n      <th>volumeToken1</th>\n      <th>volumeUSD</th>\n      <th>feesUSD</th>\n      <th>txCount</th>\n      <th>open</th>\n      <th>high</th>\n      <th>low</th>\n      <th>close</th>\n    </tr>\n  </thead>\n  <tbody>\n    <tr>\n      <th>0</th>\n      <td>1620172800</td>\n      <td>3990726651924459</td>\n      <td>1339927351757144388712475515525518</td>\n      <td>194725</td>\n      <td>15990.5025439940886751925509600602</td>\n      <td>3695.686153</td>\n      <td>1.053733492783073142</td>\n      <td>3732.094428775605445003159429854333</td>\n      <td>1.866047214387802722501579714927167</td>\n      <td>14</td>\n      <td>0</td>\n      <td>3525.673097867570086322273753776014</td>\n      <td>0</td>\n      <td>0</td>\n    </tr>\n    <tr>\n      <th>1</th>\n      <td>1620259200</td>\n      <td>68047172598720294</td>\n      <td>1339910162090425200965669972282089</td>\n      <td>194725</td>\n      <td>513871.4159407929723419764491435211</td>\n      <td>1803816.327163</td>\n      <td>516.145087582265653465</td>\n      <td>1804100.360824469382992833462819919</td>\n      <td>902.0501804122346914964167314099573</td>\n      <td>906</td>\n      <td>3519.716693090278316252338136457059</td>\n      <td>3613.912924179666876274469797086365</td>\n      <td>3395.383086192493988252557527608186</td>\n      <td>3519.716693090278316252338136457059</td>\n    </tr>\n    <tr>\n      <th>2</th>\n      <td>1620345600</td>\n      <td>1126614144148477771</td>\n      <td>1342329450130962182714220163061212</td>\n      <td>194761</td>\n      <td>2749923.824139887875098979243647372</td>\n      <td>24132900.806355</td>\n      <td>6912.410379553819027454</td>\n      <td>24132962.61343503546513328194485803</td>\n      <td>12066.48130671751773256664097242894</td>\n      <td>1979</td>\n      <td>3492.800580689646176381188242378386</td>\n      <td>3577.139147665005703027959377071504</td>\n      <td>3367.326464953274994888859401816482</td>\n      <td>3492.800580689646176381188242378386</td>\n    </tr>\n    <tr>\n      <th>3</th>\n      <td>1620432000</td>\n      <td>87209657035771435</td>\n      <td>1271215747025067696231868854587672</td>\n      <td>193672</td>\n      <td>1576917.792811014489888423519154903</td>\n      <td>21335972.622553</td>\n      <td>5949.015215539578664786</td>\n      <td>21333664.52815374778086557562483543</td>\n      <td>10666.83226407687389043278781241774</td>\n      <td>1372</td>\n      <td>3448.215489988570176415924695536605</td>\n      <td>4065.42977939784842474404892687385</td>\n      <td>3448.215489988570176415924695536605</td>\n      <td>3448.215489988570176415924695536605</td>\n    </tr>\n    <tr>\n      <th>4</th>\n      <td>1620518400</td>\n      <td>191200334840491900</td>\n      <td>1267131081268782544641468500372448</td>\n      <td>193608</td>\n      <td>1558604.980082295860302258155946276</td>\n      <td>6330422.177312</td>\n      <td>1631.843705113879928786</td>\n      <td>6330963.787682867735399760167184382</td>\n      <td>3165.481893841433867699880083592182</td>\n      <td>1097</td>\n      <td>3886.561269519253200911892003949243</td>\n      <td>3998.817352529580010161614476694996</td>\n      <td>3739.03329448136685809450955097815</td>\n      <td>3886.561269519253200911892003949243</td>\n    </tr>\n  </tbody>\n</table>\n</div>"
     },
     "execution_count": 8,
     "metadata": {},
     "output_type": "execute_result"
    }
   ],
   "source": [
    "uniswap_df1.head()"
   ],
   "metadata": {
    "collapsed": false,
    "pycharm": {
     "name": "#%%\n"
    }
   }
  },
  {
   "cell_type": "code",
   "execution_count": 1,
   "outputs": [],
   "source": [
    "# fetch arb swap data\n",
    "\n",
    "from datetime import datetime\n",
    "from utils import utils\n",
    "\n",
    "\n",
    "start_timestamp = utils.date_to_utc_timestamp(datetime(2023, 5, 23, 0, 0))\n",
    "end_timestamp = utils.date_to_utc_timestamp(datetime(2023, 5, 28, 0, 0))"
   ],
   "metadata": {
    "collapsed": false,
    "pycharm": {
     "name": "#%%\n"
    }
   }
  },
  {
   "cell_type": "code",
   "execution_count": 2,
   "outputs": [
    {
     "name": "stdout",
     "output_type": "stream",
     "text": [
      "100\n"
     ]
    }
   ],
   "source": [
    "# ARB graphQL\n",
    "from gql import gql, Client\n",
    "from gql.transport.requests import RequestsHTTPTransport\n",
    "\n",
    "\n",
    "arb_query = \"\"\"\n",
    "query {\n",
    "    swaps(skip: %d, orderBy: timestamp, orderDirection: asc,\n",
    "        where: { pool: \"0xc31e54c7a869b9fcbecc14363cf510d1c41fa443\", timestamp_gte: %d }){\n",
    "            id\n",
    "            account {\n",
    "                id\n",
    "                positionCount\n",
    "                openPositionCount\n",
    "                closedPositionCount\n",
    "                depositCount\n",
    "                withdrawCount\n",
    "                swapCount\n",
    "            }\n",
    "            gasLimit\n",
    "            gasPrice\n",
    "            amountIn\n",
    "            amountInUSD\n",
    "            amountOut\n",
    "            amountOutUSD\n",
    "            tick\n",
    "            timestamp\n",
    "            tokenIn {\n",
    "                symbol\n",
    "            }\n",
    "            tokenOut {\n",
    "                symbol\n",
    "            }\n",
    "    }\n",
    "}\n",
    "\"\"\"\n",
    "\n",
    "\n",
    "client = Client(\n",
    "    transport=RequestsHTTPTransport(\n",
    "        url='https://api.thegraph.com/subgraphs/name/messari/uniswap-v3-arbitrum',\n",
    "        verify=True,\n",
    "        retries=5,\n",
    "    ))\n",
    "\n",
    "# # variables = { \"num_skip\": 0, \"start_timestamp\": 1684460940 }\n",
    "# # response = client.execute(gql(arb_query), variable_values=variables)\n",
    "response = client.execute(gql(arb_query % (0, start_timestamp)))\n",
    "print(len(response[\"swaps\"]))"
   ],
   "metadata": {
    "collapsed": false,
    "pycharm": {
     "name": "#%%\n"
    }
   }
  },
  {
   "cell_type": "code",
   "execution_count": 4,
   "outputs": [
    {
     "name": "stdout",
     "output_type": "stream",
     "text": [
      "2023-05-28 18:00:48.721025 result cnt: 100 id cnt: 100 skip:  0\n",
      "Current time:  2023-05-23 00:32:21+00:00\n",
      "2023-05-28 18:01:31.294167 result cnt: 1069 id cnt: 1069 skip:  0\n",
      "Current time:  2023-05-23 01:34:29+00:00\n",
      "2023-05-28 18:02:11.946026 result cnt: 2051 id cnt: 2051 skip:  0\n",
      "Current time:  2023-05-23 02:47:25+00:00\n",
      "2023-05-28 18:02:52.746591 result cnt: 3024 id cnt: 3024 skip:  0\n",
      "Current time:  2023-05-23 03:20:59+00:00\n",
      "2023-05-28 18:03:32.475233 result cnt: 4010 id cnt: 4010 skip:  0\n",
      "Current time:  2023-05-23 04:15:54+00:00\n",
      "2023-05-28 18:04:17.051785 result cnt: 5093 id cnt: 5093 skip:  0\n",
      "Current time:  2023-05-23 06:04:21+00:00\n",
      "2023-05-28 18:04:57.272286 result cnt: 6077 id cnt: 6077 skip:  0\n",
      "Current time:  2023-05-23 07:20:10+00:00\n",
      "2023-05-28 18:05:37.132056 result cnt: 7050 id cnt: 7050 skip:  0\n",
      "Current time:  2023-05-23 08:48:01+00:00\n",
      "2023-05-28 18:06:17.536927 result cnt: 8034 id cnt: 8034 skip:  0\n",
      "Current time:  2023-05-23 10:45:52+00:00\n",
      "2023-05-28 18:06:57.690793 result cnt: 9019 id cnt: 9019 skip:  0\n",
      "Current time:  2023-05-23 12:44:40+00:00\n",
      "2023-05-28 18:07:42.632342 result cnt: 10084 id cnt: 10084 skip:  0\n",
      "Current time:  2023-05-23 14:06:30+00:00\n",
      "2023-05-28 18:08:23.838179 result cnt: 11074 id cnt: 11074 skip:  0\n",
      "Current time:  2023-05-23 15:29:26+00:00\n",
      "2023-05-28 18:09:04.134051 result cnt: 12052 id cnt: 12052 skip:  0\n",
      "Current time:  2023-05-23 17:27:32+00:00\n",
      "2023-05-28 18:09:45.028912 result cnt: 13034 id cnt: 13034 skip:  0\n",
      "Current time:  2023-05-23 19:14:52+00:00\n",
      "2023-05-28 18:10:25.617456 result cnt: 14016 id cnt: 14016 skip:  0\n",
      "Current time:  2023-05-23 21:59:06+00:00\n",
      "2023-05-28 18:11:06.659951 result cnt: 15005 id cnt: 15005 skip:  0\n",
      "Current time:  2023-05-24 01:09:25+00:00\n",
      "2023-05-28 18:11:50.903971 result cnt: 16091 id cnt: 16091 skip:  0\n",
      "Current time:  2023-05-24 03:09:26+00:00\n",
      "2023-05-28 18:12:31.514460 result cnt: 17059 id cnt: 17059 skip:  0\n",
      "Current time:  2023-05-24 03:45:44+00:00\n",
      "2023-05-28 18:13:12.395198 result cnt: 18045 id cnt: 18045 skip:  0\n",
      "Current time:  2023-05-24 05:44:13+00:00\n",
      "2023-05-28 18:13:53.619957 result cnt: 19032 id cnt: 19032 skip:  0\n",
      "Current time:  2023-05-24 06:58:29+00:00\n",
      "2023-05-28 18:14:35.277239 result cnt: 20020 id cnt: 20020 skip:  0\n",
      "Current time:  2023-05-24 08:27:21+00:00\n",
      "2023-05-28 18:15:17.239681 result cnt: 21007 id cnt: 21007 skip:  0\n",
      "Current time:  2023-05-24 10:31:58+00:00\n",
      "2023-05-28 18:16:07.295501 result cnt: 22093 id cnt: 22093 skip:  0\n",
      "Current time:  2023-05-24 12:29:55+00:00\n",
      "2023-05-28 18:16:47.823524 result cnt: 23076 id cnt: 23076 skip:  0\n",
      "Current time:  2023-05-24 13:51:09+00:00\n",
      "2023-05-28 18:17:36.742362 result cnt: 24076 id cnt: 24076 skip:  0\n",
      "Current time:  2023-05-24 14:13:49+00:00\n",
      "2023-05-28 18:18:17.800971 result cnt: 25059 id cnt: 25059 skip:  0\n",
      "Current time:  2023-05-24 15:06:49+00:00\n",
      "2023-05-28 18:18:58.439830 result cnt: 26044 id cnt: 26044 skip:  0\n",
      "Current time:  2023-05-24 16:11:07+00:00\n",
      "2023-05-28 18:19:39.119754 result cnt: 27032 id cnt: 27032 skip:  0\n",
      "Current time:  2023-05-24 17:31:54+00:00\n",
      "2023-05-28 18:20:19.683291 result cnt: 28017 id cnt: 28017 skip:  0\n",
      "Current time:  2023-05-24 19:33:17+00:00\n",
      "2023-05-28 18:21:05.075144 result cnt: 29001 id cnt: 29001 skip:  0\n",
      "Current time:  2023-05-24 20:57:05+00:00\n",
      "2023-05-28 18:21:50.540645 result cnt: 30073 id cnt: 30073 skip:  0\n",
      "Current time:  2023-05-24 23:10:11+00:00\n",
      "2023-05-28 18:22:31.512519 result cnt: 31050 id cnt: 31050 skip:  0\n",
      "Current time:  2023-05-25 01:02:13+00:00\n",
      "2023-05-28 18:23:11.626662 result cnt: 32011 id cnt: 32011 skip:  0\n",
      "Current time:  2023-05-25 01:35:12+00:00\n",
      "2023-05-28 18:23:51.897519 result cnt: 33000 id cnt: 33000 skip:  0\n",
      "Current time:  2023-05-25 02:58:49+00:00\n",
      "2023-05-28 18:24:36.233807 result cnt: 34086 id cnt: 34086 skip:  0\n",
      "Current time:  2023-05-25 04:46:48+00:00\n",
      "2023-05-28 18:25:16.634562 result cnt: 35071 id cnt: 35071 skip:  0\n",
      "Current time:  2023-05-25 07:00:58+00:00\n",
      "2023-05-28 18:25:56.856381 result cnt: 36053 id cnt: 36053 skip:  0\n",
      "Current time:  2023-05-25 08:13:02+00:00\n",
      "2023-05-28 18:26:36.896967 result cnt: 37042 id cnt: 37042 skip:  0\n",
      "Current time:  2023-05-25 09:41:39+00:00\n",
      "2023-05-28 18:27:17.274626 result cnt: 38026 id cnt: 38026 skip:  0\n",
      "Current time:  2023-05-25 11:31:03+00:00\n",
      "2023-05-28 18:27:57.524939 result cnt: 39002 id cnt: 39002 skip:  0\n",
      "Current time:  2023-05-25 12:16:10+00:00\n",
      "2023-05-28 18:28:41.867885 result cnt: 40080 id cnt: 40080 skip:  0\n",
      "Current time:  2023-05-25 13:37:17+00:00\n",
      "2023-05-28 18:29:22.580227 result cnt: 41047 id cnt: 41047 skip:  0\n",
      "Current time:  2023-05-25 14:31:59+00:00\n",
      "2023-05-28 18:30:03.285414 result cnt: 42037 id cnt: 42037 skip:  0\n",
      "Current time:  2023-05-25 15:41:04+00:00\n",
      "2023-05-28 18:30:47.932480 result cnt: 43019 id cnt: 43019 skip:  0\n",
      "Current time:  2023-05-25 17:04:34+00:00\n",
      "2023-05-28 18:31:29.499217 result cnt: 44003 id cnt: 44003 skip:  0\n",
      "Current time:  2023-05-25 18:22:49+00:00\n",
      "2023-05-28 18:32:14.154682 result cnt: 45084 id cnt: 45084 skip:  0\n",
      "Current time:  2023-05-25 19:40:33+00:00\n",
      "2023-05-28 18:32:54.273907 result cnt: 46064 id cnt: 46064 skip:  0\n",
      "Current time:  2023-05-25 22:46:49+00:00\n",
      "2023-05-28 18:33:34.782134 result cnt: 47046 id cnt: 47046 skip:  0\n",
      "Current time:  2023-05-26 01:24:22+00:00\n",
      "2023-05-28 18:34:16.054496 result cnt: 48034 id cnt: 48034 skip:  0\n",
      "Current time:  2023-05-26 02:55:58+00:00\n",
      "2023-05-28 18:34:56.277980 result cnt: 49024 id cnt: 49024 skip:  0\n",
      "Current time:  2023-05-26 05:48:18+00:00\n",
      "2023-05-28 18:35:36.752818 result cnt: 50008 id cnt: 50008 skip:  0\n",
      "Current time:  2023-05-26 07:09:34+00:00\n",
      "2023-05-28 18:36:21.038858 result cnt: 51096 id cnt: 51096 skip:  0\n",
      "Current time:  2023-05-26 08:59:04+00:00\n",
      "2023-05-28 18:37:01.848465 result cnt: 52085 id cnt: 52085 skip:  0\n",
      "Current time:  2023-05-26 11:03:23+00:00\n",
      "2023-05-28 18:37:42.427116 result cnt: 53054 id cnt: 53054 skip:  0\n",
      "Current time:  2023-05-26 12:32:29+00:00\n",
      "2023-05-28 18:38:23.109486 result cnt: 54038 id cnt: 54038 skip:  0\n",
      "Current time:  2023-05-26 13:40:46+00:00\n",
      "2023-05-28 18:39:03.226393 result cnt: 55019 id cnt: 55019 skip:  0\n",
      "Current time:  2023-05-26 14:30:31+00:00\n",
      "2023-05-28 18:39:47.849465 result cnt: 56097 id cnt: 56097 skip:  0\n",
      "Current time:  2023-05-26 15:48:55+00:00\n",
      "2023-05-28 18:40:28.481707 result cnt: 57081 id cnt: 57081 skip:  0\n",
      "Current time:  2023-05-26 18:20:35+00:00\n",
      "2023-05-28 18:41:10.682982 result cnt: 58054 id cnt: 58054 skip:  0\n",
      "Current time:  2023-05-26 19:52:17+00:00\n",
      "2023-05-28 18:41:54.276310 result cnt: 59037 id cnt: 59037 skip:  0\n",
      "Current time:  2023-05-26 23:00:12+00:00\n",
      "2023-05-28 18:42:36.558277 result cnt: 60025 id cnt: 60025 skip:  0\n",
      "Current time:  2023-05-27 02:42:52+00:00\n",
      "2023-05-28 18:43:16.816401 result cnt: 61012 id cnt: 61012 skip:  0\n",
      "Current time:  2023-05-27 05:30:05+00:00\n",
      "2023-05-28 18:43:56.911231 result cnt: 62002 id cnt: 62002 skip:  0\n",
      "Current time:  2023-05-27 08:03:24+00:00\n",
      "2023-05-28 18:44:41.369666 result cnt: 63089 id cnt: 63089 skip:  0\n",
      "Current time:  2023-05-27 10:17:45+00:00\n",
      "2023-05-28 18:45:21.578688 result cnt: 64076 id cnt: 64076 skip:  0\n",
      "Current time:  2023-05-27 12:05:30+00:00\n",
      "2023-05-28 18:46:06.362564 result cnt: 65054 id cnt: 65054 skip:  0\n",
      "Current time:  2023-05-27 13:57:56+00:00\n",
      "2023-05-28 18:46:47.052166 result cnt: 66028 id cnt: 66028 skip:  0\n",
      "Current time:  2023-05-27 15:43:48+00:00\n",
      "2023-05-28 18:48:13.543011 result cnt: 67009 id cnt: 67009 skip:  0\n",
      "Current time:  2023-05-27 18:10:27+00:00\n",
      "2023-05-28 18:48:57.843903 result cnt: 68086 id cnt: 68086 skip:  0\n",
      "Current time:  2023-05-27 21:14:00+00:00\n"
     ]
    }
   ],
   "source": [
    "result = response['swaps']\n",
    "id_set = set()\n",
    "print_set = set()\n",
    "PRINT_GAP = 1000\n",
    "\n",
    "for item in result:\n",
    "    id_set.add(item[\"id\"])\n",
    "\n",
    "# more than 100 swap transactions happened in a second, will need to change skip count\n",
    "skip = 0\n",
    "last_cnt = 0\n",
    "while int(result[-1][\"timestamp\"]) <= end_timestamp:\n",
    "    if skip == 1000:\n",
    "        break\n",
    "    last_cnt = len(result)\n",
    "\n",
    "    print_cnt = int(len(result) / PRINT_GAP)\n",
    "    if print_cnt not in print_set:\n",
    "        print_set.add(print_cnt)\n",
    "        print(datetime.now(), \"result cnt:\", len(result), \"id cnt:\", len(id_set), \"skip: \", skip)\n",
    "        print(\"Current time: \", utils.utc_timestamp_to_date(int(result[-1][\"timestamp\"])))\n",
    "\n",
    "    current_timestamp = int(result[-1][\"timestamp\"])\n",
    "    query = arb_query % (skip, current_timestamp)\n",
    "    try:\n",
    "        response = client.execute(gql(query))\n",
    "\n",
    "        swap_data = response[\"swaps\"]\n",
    "        if len(swap_data) == 0:\n",
    "            break\n",
    "        for item in swap_data:\n",
    "            if int(item[\"timestamp\"]) > end_timestamp:\n",
    "                break\n",
    "            elif item[\"id\"] in id_set:\n",
    "                continue\n",
    "            else:\n",
    "                result.append(item)\n",
    "                id_set.add(item[\"id\"])\n",
    "\n",
    "        if last_cnt == len(result):\n",
    "            skip += 100\n",
    "        else:\n",
    "            skip = 0\n",
    "    except Exception as ex:\n",
    "        print(\"Fetching swap data error\", ex)"
   ],
   "metadata": {
    "collapsed": false,
    "pycharm": {
     "name": "#%%\n"
    }
   }
  },
  {
   "cell_type": "code",
   "execution_count": 19,
   "outputs": [],
   "source": [
    "import pandas as pd\n",
    "from copy import deepcopy\n",
    "\n",
    "\n",
    "arb_result = deepcopy(result)\n",
    "for item in arb_result:\n",
    "    item[\"transaction\"] = item[\"id\"]\n",
    "    item[\"trader\"] = item[\"account\"][\"id\"]\n",
    "    item[\"traderPositionCount\"] = item[\"account\"][\"positionCount\"]\n",
    "    item[\"traderOpenPositionCount\"] = item[\"account\"][\"openPositionCount\"]\n",
    "    item[\"traderClosedPositionCount\"] = item[\"account\"][\"closedPositionCount\"]\n",
    "    item[\"traderDepositCount\"] = item[\"account\"][\"depositCount\"]\n",
    "    item[\"traderWithdrawCount\"] = item[\"account\"][\"withdrawCount\"]\n",
    "    item[\"traderSwapCount\"] = item[\"account\"][\"swapCount\"]\n",
    "    item[\"tokenIn\"] = item[\"tokenIn\"][\"symbol\"]\n",
    "    item[\"tokenOut\"] = item[\"tokenOut\"][\"symbol\"]\n",
    "    item.pop(\"account\")\n",
    "\n",
    "arb_uniswap_df = pd.DataFrame(arb_result)\n",
    "arb_uniswap_df.to_csv(\"../data/arb_swap_0523_0528.csv\", index=False)"
   ],
   "metadata": {
    "collapsed": false,
    "pycharm": {
     "name": "#%%\n"
    }
   }
  },
  {
   "cell_type": "code",
   "execution_count": null,
   "outputs": [],
   "source": [],
   "metadata": {
    "collapsed": false,
    "pycharm": {
     "name": "#%%\n"
    }
   }
  }
 ],
 "metadata": {
  "kernelspec": {
   "display_name": "Python 3",
   "language": "python",
   "name": "python3"
  },
  "language_info": {
   "codemirror_mode": {
    "name": "ipython",
    "version": 2
   },
   "file_extension": ".py",
   "mimetype": "text/x-python",
   "name": "python",
   "nbconvert_exporter": "python",
   "pygments_lexer": "ipython2",
   "version": "2.7.6"
  }
 },
 "nbformat": 4,
 "nbformat_minor": 0
}