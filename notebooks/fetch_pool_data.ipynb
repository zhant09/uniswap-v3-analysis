{
 "cells": [
  {
   "cell_type": "code",
   "execution_count": 3,
   "outputs": [
    {
     "name": "stdout",
     "output_type": "stream",
     "text": [
      "1682899200\n"
     ]
    }
   ],
   "source": [
    "from datetime import datetime, timezone\n",
    "\n",
    "\n",
    "def date_to_utc_timestamp(c_date):\n",
    "    return int(c_date.replace(tzinfo=timezone.utc).timestamp())\n",
    "\n",
    "\n",
    "def utc_timestamp_to_date(ts):\n",
    "    return datetime.fromtimestamp(ts, tz=timezone.utc)\n",
    "\n",
    "\n",
    "start_date = datetime(2023, 5, 1)\n",
    "print(date_to_utc_timestamp(start_date))\n",
    "# print(utc_timestamp_to_date(1626480000))"
   ],
   "metadata": {
    "collapsed": false,
    "pycharm": {
     "name": "#%%\n"
    }
   }
  },
  {
   "cell_type": "code",
   "execution_count": 11,
   "outputs": [
    {
     "name": "stdout",
     "output_type": "stream",
     "text": [
      "2021-05-01 00:00:00+00:00\n",
      "100\n",
      "2021-08-12 00:00:00+00:00\n",
      "200\n",
      "2021-11-20 00:00:00+00:00\n",
      "300\n",
      "2022-02-28 00:00:00+00:00\n",
      "400\n",
      "2022-06-08 00:00:00+00:00\n",
      "500\n",
      "2022-09-16 00:00:00+00:00\n",
      "600\n",
      "2022-12-25 00:00:00+00:00\n",
      "700\n",
      "2023-04-04 00:00:00+00:00\n",
      "732\n"
     ]
    }
   ],
   "source": [
    "from gql import gql, Client\n",
    "from gql.transport.requests import RequestsHTTPTransport\n",
    "\n",
    "# 0.05% WBTC/ETH pool\n",
    "LOW_POOL_ID = \"0x4585fe77225b41b697c938b018e2ac67ac5a20c0\"\n",
    "# 0.3% WBTC/ETH pool\n",
    "HIGH_POOL_ID = \"0xcbcdf9626bc03e24f779434178a73a0b4bad62ed\"\n",
    "\n",
    "\n",
    "def get_pool_trade_data(pool_id, start_date):\n",
    "    pool_query = \"\"\"\n",
    "    query poolDayDatas($pool_id: ID!, $start_time: Int!,){\n",
    "        poolDayDatas(\n",
    "            where: { pool: $pool_id, date_gt: $start_time }\n",
    "        orderBy: date\n",
    "        orderDirection: asc\n",
    "        ) {\n",
    "            date\n",
    "            # in range liquidity at end of period\n",
    "            liquidity\n",
    "            # current price tracker at end of period\n",
    "            sqrtPrice\n",
    "            # price of token0 - derived from sqrtPrice\n",
    "            tick\n",
    "            # tvl derived in USD at end of period\n",
    "            tvlUSD\n",
    "            # volume in token0\n",
    "            volumeToken0\n",
    "            # volume in token1\n",
    "            volumeToken1\n",
    "            # volume in USD\n",
    "            volumeUSD\n",
    "            # fees in USD\n",
    "            feesUSD\n",
    "            # number of transactions during period\n",
    "            txCount\n",
    "            # opening price of token0\n",
    "            open\n",
    "            # high price of token0\n",
    "            high\n",
    "            # low price of token0\n",
    "            low\n",
    "            # close price of token0\n",
    "            close\n",
    "            }\n",
    "    }\n",
    "    \"\"\"\n",
    "\n",
    "    client = Client(\n",
    "        transport=RequestsHTTPTransport(\n",
    "            url='https://api.thegraph.com/subgraphs/name/uniswap/uniswap-v3',\n",
    "            verify=True,\n",
    "            retries=5,\n",
    "        ))\n",
    "\n",
    "    start_timestamp = date_to_utc_timestamp(start_date)\n",
    "    variables = {\"pool_id\": pool_id, \"start_time\": start_timestamp}\n",
    "    response = client.execute(gql(pool_query), variable_values=variables)\n",
    "    trade_data = response[\"poolDayDatas\"]\n",
    "    trade_all_data = trade_data\n",
    "\n",
    "    while len(trade_data) > 0:\n",
    "        print(utc_timestamp_to_date(start_timestamp))\n",
    "        print(len(trade_all_data))\n",
    "        start_timestamp = trade_data[-1]['date']\n",
    "        variables = {\"pool_id\": pool_id, \"start_time\": start_timestamp}\n",
    "        response = client.execute(gql(pool_query), variable_values=variables)\n",
    "        trade_data = response[\"poolDayDatas\"]\n",
    "        trade_all_data += trade_data\n",
    "\n",
    "    return trade_all_data\n",
    "\n",
    "\n",
    "# the earliest data is from 2021-05-01\n",
    "start_date = datetime(2021, 5, 1)\n",
    "pool_data = get_pool_trade_data(LOW_POOL_ID, start_date)"
   ],
   "metadata": {
    "collapsed": false,
    "pycharm": {
     "name": "#%%\n"
    }
   }
  },
  {
   "cell_type": "code",
   "execution_count": 4,
   "outputs": [
    {
     "data": {
      "text/plain": "         date          liquidity                            sqrtPrice    tick  \\\n0  1620172800                  0                                    0    None   \n1  1620259200     47802696926688  31809195401932648817609369003249547  258071   \n2  1620345600  42425055535734978  32187992991029178621379247853387443  258308   \n3  1620432000   4036037627994723  30814946235335421635470353514297570  257436   \n4  1620518400    672440555897057  30550018995856811291234861690516572  257263   \n\n                                tvlUSD  volumeToken0             volumeToken1  \\\n0                                    0             0                        0   \n1  5146.736482364860299518079151516243    0.01955837     0.316827345146869434   \n2  2073400.162975270801081924615102077   68.18328357  1120.626959335943537703   \n3  1980521.049385023017241543520869319  126.96928506    2072.7905681432721063   \n4  739735.1727825094073093447014429385   10.91169152   163.331111671204485144   \n\n                             volumeUSD                               feesUSD  \\\n0                                    0                                     0   \n1  1102.031018311199696439388175003343  0.5510155091555998482196940875016715   \n2   3922263.61944071584148036405495539   1961.131809720357920740182027477691   \n3  7443618.326347876067605645380688426   3721.809163173938033802822690344206   \n4  634883.3690065130877645983992275799   317.4416845032565438822991996137902   \n\n  txCount                                   open  \\\n0       2                                      0   \n1      16  0.05998654715076262372902751818670286   \n2     227  0.06203743019377815473808300194149325   \n3     257  0.06058403976932998513307639824064359   \n4      99  0.06609184203913069571728478548803438   \n\n                                    high  \\\n0                                      0   \n1  0.06243654451824971693450264979198528   \n2  0.06203743019377815473808300194149325   \n3  0.06669932160003833798769060727416865   \n4  0.06830342385985722044198599944892239   \n\n                                     low  \\\n0                                      0   \n1  0.05998654715076262372902751818670286   \n2  0.06010084251900176152287862020188552   \n3  0.06004384605589742079211220851145031   \n4   0.0653848260519338954289133091895779   \n\n                                   close  \n0                                      0  \n1  0.05998654715076262372902751818670286  \n2  0.06203743019377815473808300194149325  \n3  0.06058403976932998513307639824064359  \n4  0.06609184203913069571728478548803438  ",
      "text/html": "<div>\n<style scoped>\n    .dataframe tbody tr th:only-of-type {\n        vertical-align: middle;\n    }\n\n    .dataframe tbody tr th {\n        vertical-align: top;\n    }\n\n    .dataframe thead th {\n        text-align: right;\n    }\n</style>\n<table border=\"1\" class=\"dataframe\">\n  <thead>\n    <tr style=\"text-align: right;\">\n      <th></th>\n      <th>date</th>\n      <th>liquidity</th>\n      <th>sqrtPrice</th>\n      <th>tick</th>\n      <th>tvlUSD</th>\n      <th>volumeToken0</th>\n      <th>volumeToken1</th>\n      <th>volumeUSD</th>\n      <th>feesUSD</th>\n      <th>txCount</th>\n      <th>open</th>\n      <th>high</th>\n      <th>low</th>\n      <th>close</th>\n    </tr>\n  </thead>\n  <tbody>\n    <tr>\n      <th>0</th>\n      <td>1620172800</td>\n      <td>0</td>\n      <td>0</td>\n      <td>None</td>\n      <td>0</td>\n      <td>0</td>\n      <td>0</td>\n      <td>0</td>\n      <td>0</td>\n      <td>2</td>\n      <td>0</td>\n      <td>0</td>\n      <td>0</td>\n      <td>0</td>\n    </tr>\n    <tr>\n      <th>1</th>\n      <td>1620259200</td>\n      <td>47802696926688</td>\n      <td>31809195401932648817609369003249547</td>\n      <td>258071</td>\n      <td>5146.736482364860299518079151516243</td>\n      <td>0.01955837</td>\n      <td>0.316827345146869434</td>\n      <td>1102.031018311199696439388175003343</td>\n      <td>0.5510155091555998482196940875016715</td>\n      <td>16</td>\n      <td>0.05998654715076262372902751818670286</td>\n      <td>0.06243654451824971693450264979198528</td>\n      <td>0.05998654715076262372902751818670286</td>\n      <td>0.05998654715076262372902751818670286</td>\n    </tr>\n    <tr>\n      <th>2</th>\n      <td>1620345600</td>\n      <td>42425055535734978</td>\n      <td>32187992991029178621379247853387443</td>\n      <td>258308</td>\n      <td>2073400.162975270801081924615102077</td>\n      <td>68.18328357</td>\n      <td>1120.626959335943537703</td>\n      <td>3922263.61944071584148036405495539</td>\n      <td>1961.131809720357920740182027477691</td>\n      <td>227</td>\n      <td>0.06203743019377815473808300194149325</td>\n      <td>0.06203743019377815473808300194149325</td>\n      <td>0.06010084251900176152287862020188552</td>\n      <td>0.06203743019377815473808300194149325</td>\n    </tr>\n    <tr>\n      <th>3</th>\n      <td>1620432000</td>\n      <td>4036037627994723</td>\n      <td>30814946235335421635470353514297570</td>\n      <td>257436</td>\n      <td>1980521.049385023017241543520869319</td>\n      <td>126.96928506</td>\n      <td>2072.7905681432721063</td>\n      <td>7443618.326347876067605645380688426</td>\n      <td>3721.809163173938033802822690344206</td>\n      <td>257</td>\n      <td>0.06058403976932998513307639824064359</td>\n      <td>0.06669932160003833798769060727416865</td>\n      <td>0.06004384605589742079211220851145031</td>\n      <td>0.06058403976932998513307639824064359</td>\n    </tr>\n    <tr>\n      <th>4</th>\n      <td>1620518400</td>\n      <td>672440555897057</td>\n      <td>30550018995856811291234861690516572</td>\n      <td>257263</td>\n      <td>739735.1727825094073093447014429385</td>\n      <td>10.91169152</td>\n      <td>163.331111671204485144</td>\n      <td>634883.3690065130877645983992275799</td>\n      <td>317.4416845032565438822991996137902</td>\n      <td>99</td>\n      <td>0.06609184203913069571728478548803438</td>\n      <td>0.06830342385985722044198599944892239</td>\n      <td>0.0653848260519338954289133091895779</td>\n      <td>0.06609184203913069571728478548803438</td>\n    </tr>\n  </tbody>\n</table>\n</div>"
     },
     "execution_count": 4,
     "metadata": {},
     "output_type": "execute_result"
    }
   ],
   "source": [
    "import pandas as pd\n",
    "\n",
    "uniswap_df = pd.DataFrame(pool_data)\n",
    "uniswap_df.head()"
   ],
   "metadata": {
    "collapsed": false,
    "pycharm": {
     "name": "#%%\n"
    }
   }
  },
  {
   "cell_type": "code",
   "execution_count": 5,
   "outputs": [],
   "source": [
    "uniswap_df.to_csv(\"../data/wbtc_eth_0.05_uniswap_data.csv\", index=False)"
   ],
   "metadata": {
    "collapsed": false,
    "pycharm": {
     "name": "#%%\n"
    }
   }
  },
  {
   "cell_type": "code",
   "execution_count": 10,
   "outputs": [
    {
     "name": "stdout",
     "output_type": "stream",
     "text": [
      "2021-05-01 00:00:00+00:00\n",
      "100\n",
      "2021-08-11 00:00:00+00:00\n",
      "200\n",
      "2021-11-19 00:00:00+00:00\n",
      "300\n",
      "2022-02-27 00:00:00+00:00\n",
      "400\n",
      "2022-06-07 00:00:00+00:00\n",
      "500\n",
      "2022-09-15 00:00:00+00:00\n",
      "600\n",
      "2022-12-24 00:00:00+00:00\n",
      "700\n",
      "2023-04-03 00:00:00+00:00\n",
      "733\n"
     ]
    }
   ],
   "source": [
    "pool_data1 = get_pool_trade_data(HIGH_POOL_ID, start_date)\n",
    "uniswap_df1 = pd.DataFrame(pool_data1)\n",
    "uniswap_df1.to_csv(\"../data/wbtc_eth_0.3_uniswap_data.csv\", index=False)"
   ],
   "metadata": {
    "collapsed": false,
    "pycharm": {
     "name": "#%%\n"
    }
   }
  },
  {
   "cell_type": "code",
   "execution_count": 8,
   "outputs": [
    {
     "data": {
      "text/plain": "         date            liquidity                           sqrtPrice  \\\n0  1620172800     3990726651924459  1339927351757144388712475515525518   \n1  1620259200    68047172598720294  1339910162090425200965669972282089   \n2  1620345600  1126614144148477771  1342329450130962182714220163061212   \n3  1620432000    87209657035771435  1271215747025067696231868854587672   \n4  1620518400   191200334840491900  1267131081268782544641468500372448   \n\n     tick                               tvlUSD     volumeToken0  \\\n0  194725   15990.5025439940886751925509600602      3695.686153   \n1  194725  513871.4159407929723419764491435211   1803816.327163   \n2  194761  2749923.824139887875098979243647372  24132900.806355   \n3  193672  1576917.792811014489888423519154903  21335972.622553   \n4  193608  1558604.980082295860302258155946276   6330422.177312   \n\n              volumeToken1                            volumeUSD  \\\n0     1.053733492783073142  3732.094428775605445003159429854333   \n1   516.145087582265653465  1804100.360824469382992833462819919   \n2  6912.410379553819027454  24132962.61343503546513328194485803   \n3  5949.015215539578664786  21333664.52815374778086557562483543   \n4  1631.843705113879928786  6330963.787682867735399760167184382   \n\n                               feesUSD txCount  \\\n0  1.866047214387802722501579714927167      14   \n1  902.0501804122346914964167314099573     906   \n2  12066.48130671751773256664097242894    1979   \n3  10666.83226407687389043278781241774    1372   \n4  3165.481893841433867699880083592182    1097   \n\n                                  open                                 high  \\\n0                                    0  3525.673097867570086322273753776014   \n1  3519.716693090278316252338136457059  3613.912924179666876274469797086365   \n2  3492.800580689646176381188242378386  3577.139147665005703027959377071504   \n3  3448.215489988570176415924695536605   4065.42977939784842474404892687385   \n4  3886.561269519253200911892003949243  3998.817352529580010161614476694996   \n\n                                   low                                close  \n0                                    0                                    0  \n1  3395.383086192493988252557527608186  3519.716693090278316252338136457059  \n2  3367.326464953274994888859401816482  3492.800580689646176381188242378386  \n3  3448.215489988570176415924695536605  3448.215489988570176415924695536605  \n4   3739.03329448136685809450955097815  3886.561269519253200911892003949243  ",
      "text/html": "<div>\n<style scoped>\n    .dataframe tbody tr th:only-of-type {\n        vertical-align: middle;\n    }\n\n    .dataframe tbody tr th {\n        vertical-align: top;\n    }\n\n    .dataframe thead th {\n        text-align: right;\n    }\n</style>\n<table border=\"1\" class=\"dataframe\">\n  <thead>\n    <tr style=\"text-align: right;\">\n      <th></th>\n      <th>date</th>\n      <th>liquidity</th>\n      <th>sqrtPrice</th>\n      <th>tick</th>\n      <th>tvlUSD</th>\n      <th>volumeToken0</th>\n      <th>volumeToken1</th>\n      <th>volumeUSD</th>\n      <th>feesUSD</th>\n      <th>txCount</th>\n      <th>open</th>\n      <th>high</th>\n      <th>low</th>\n      <th>close</th>\n    </tr>\n  </thead>\n  <tbody>\n    <tr>\n      <th>0</th>\n      <td>1620172800</td>\n      <td>3990726651924459</td>\n      <td>1339927351757144388712475515525518</td>\n      <td>194725</td>\n      <td>15990.5025439940886751925509600602</td>\n      <td>3695.686153</td>\n      <td>1.053733492783073142</td>\n      <td>3732.094428775605445003159429854333</td>\n      <td>1.866047214387802722501579714927167</td>\n      <td>14</td>\n      <td>0</td>\n      <td>3525.673097867570086322273753776014</td>\n      <td>0</td>\n      <td>0</td>\n    </tr>\n    <tr>\n      <th>1</th>\n      <td>1620259200</td>\n      <td>68047172598720294</td>\n      <td>1339910162090425200965669972282089</td>\n      <td>194725</td>\n      <td>513871.4159407929723419764491435211</td>\n      <td>1803816.327163</td>\n      <td>516.145087582265653465</td>\n      <td>1804100.360824469382992833462819919</td>\n      <td>902.0501804122346914964167314099573</td>\n      <td>906</td>\n      <td>3519.716693090278316252338136457059</td>\n      <td>3613.912924179666876274469797086365</td>\n      <td>3395.383086192493988252557527608186</td>\n      <td>3519.716693090278316252338136457059</td>\n    </tr>\n    <tr>\n      <th>2</th>\n      <td>1620345600</td>\n      <td>1126614144148477771</td>\n      <td>1342329450130962182714220163061212</td>\n      <td>194761</td>\n      <td>2749923.824139887875098979243647372</td>\n      <td>24132900.806355</td>\n      <td>6912.410379553819027454</td>\n      <td>24132962.61343503546513328194485803</td>\n      <td>12066.48130671751773256664097242894</td>\n      <td>1979</td>\n      <td>3492.800580689646176381188242378386</td>\n      <td>3577.139147665005703027959377071504</td>\n      <td>3367.326464953274994888859401816482</td>\n      <td>3492.800580689646176381188242378386</td>\n    </tr>\n    <tr>\n      <th>3</th>\n      <td>1620432000</td>\n      <td>87209657035771435</td>\n      <td>1271215747025067696231868854587672</td>\n      <td>193672</td>\n      <td>1576917.792811014489888423519154903</td>\n      <td>21335972.622553</td>\n      <td>5949.015215539578664786</td>\n      <td>21333664.52815374778086557562483543</td>\n      <td>10666.83226407687389043278781241774</td>\n      <td>1372</td>\n      <td>3448.215489988570176415924695536605</td>\n      <td>4065.42977939784842474404892687385</td>\n      <td>3448.215489988570176415924695536605</td>\n      <td>3448.215489988570176415924695536605</td>\n    </tr>\n    <tr>\n      <th>4</th>\n      <td>1620518400</td>\n      <td>191200334840491900</td>\n      <td>1267131081268782544641468500372448</td>\n      <td>193608</td>\n      <td>1558604.980082295860302258155946276</td>\n      <td>6330422.177312</td>\n      <td>1631.843705113879928786</td>\n      <td>6330963.787682867735399760167184382</td>\n      <td>3165.481893841433867699880083592182</td>\n      <td>1097</td>\n      <td>3886.561269519253200911892003949243</td>\n      <td>3998.817352529580010161614476694996</td>\n      <td>3739.03329448136685809450955097815</td>\n      <td>3886.561269519253200911892003949243</td>\n    </tr>\n  </tbody>\n</table>\n</div>"
     },
     "execution_count": 8,
     "metadata": {},
     "output_type": "execute_result"
    }
   ],
   "source": [
    "uniswap_df1.head()"
   ],
   "metadata": {
    "collapsed": false,
    "pycharm": {
     "name": "#%%\n"
    }
   }
  },
  {
   "cell_type": "code",
   "execution_count": null,
   "outputs": [],
   "source": [],
   "metadata": {
    "collapsed": false,
    "pycharm": {
     "name": "#%%\n"
    }
   }
  }
 ],
 "metadata": {
  "kernelspec": {
   "display_name": "Python 3",
   "language": "python",
   "name": "python3"
  },
  "language_info": {
   "codemirror_mode": {
    "name": "ipython",
    "version": 2
   },
   "file_extension": ".py",
   "mimetype": "text/x-python",
   "name": "python",
   "nbconvert_exporter": "python",
   "pygments_lexer": "ipython2",
   "version": "2.7.6"
  }
 },
 "nbformat": 4,
 "nbformat_minor": 0
}