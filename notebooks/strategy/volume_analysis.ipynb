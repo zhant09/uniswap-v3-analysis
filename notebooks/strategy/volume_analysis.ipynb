{
 "cells": [
  {
   "cell_type": "code",
   "execution_count": 2,
   "metadata": {
    "collapsed": true,
    "ExecuteTime": {
     "end_time": "2023-08-06T08:00:15.993449Z",
     "start_time": "2023-08-06T08:00:15.987299Z"
    }
   },
   "outputs": [
    {
     "data": {
      "text/plain": "         time      high       low      open  volumefrom        volumeto  \\\n0  1627776000 2594.0300 2434.5200 2534.9800 408598.4800 1044272789.6100   \n1  1627862400 2624.8300 2490.5200 2555.7400 334751.4900  873030121.1100   \n2  1627948800 2547.1300 2441.0000 2607.9900 330910.3200  829480464.8600   \n3  1628035200 2754.2400 2593.6700 2506.6600 391959.4100 1068333830.6000   \n4  1628121600 2985.7500 2765.7400 2725.6200 606092.4600 1714959669.1600   \n\n      close conversionType conversionSymbol  \n0 2555.7400       multiply              BTC  \n1 2607.9900       multiply              BTC  \n2 2506.6600       multiply              BTC  \n3 2725.6200       multiply              BTC  \n4 2829.5300       multiply              BTC  ",
      "text/html": "<div>\n<style scoped>\n    .dataframe tbody tr th:only-of-type {\n        vertical-align: middle;\n    }\n\n    .dataframe tbody tr th {\n        vertical-align: top;\n    }\n\n    .dataframe thead th {\n        text-align: right;\n    }\n</style>\n<table border=\"1\" class=\"dataframe\">\n  <thead>\n    <tr style=\"text-align: right;\">\n      <th></th>\n      <th>time</th>\n      <th>high</th>\n      <th>low</th>\n      <th>open</th>\n      <th>volumefrom</th>\n      <th>volumeto</th>\n      <th>close</th>\n      <th>conversionType</th>\n      <th>conversionSymbol</th>\n    </tr>\n  </thead>\n  <tbody>\n    <tr>\n      <th>0</th>\n      <td>1627776000</td>\n      <td>2594.0300</td>\n      <td>2434.5200</td>\n      <td>2534.9800</td>\n      <td>408598.4800</td>\n      <td>1044272789.6100</td>\n      <td>2555.7400</td>\n      <td>multiply</td>\n      <td>BTC</td>\n    </tr>\n    <tr>\n      <th>1</th>\n      <td>1627862400</td>\n      <td>2624.8300</td>\n      <td>2490.5200</td>\n      <td>2555.7400</td>\n      <td>334751.4900</td>\n      <td>873030121.1100</td>\n      <td>2607.9900</td>\n      <td>multiply</td>\n      <td>BTC</td>\n    </tr>\n    <tr>\n      <th>2</th>\n      <td>1627948800</td>\n      <td>2547.1300</td>\n      <td>2441.0000</td>\n      <td>2607.9900</td>\n      <td>330910.3200</td>\n      <td>829480464.8600</td>\n      <td>2506.6600</td>\n      <td>multiply</td>\n      <td>BTC</td>\n    </tr>\n    <tr>\n      <th>3</th>\n      <td>1628035200</td>\n      <td>2754.2400</td>\n      <td>2593.6700</td>\n      <td>2506.6600</td>\n      <td>391959.4100</td>\n      <td>1068333830.6000</td>\n      <td>2725.6200</td>\n      <td>multiply</td>\n      <td>BTC</td>\n    </tr>\n    <tr>\n      <th>4</th>\n      <td>1628121600</td>\n      <td>2985.7500</td>\n      <td>2765.7400</td>\n      <td>2725.6200</td>\n      <td>606092.4600</td>\n      <td>1714959669.1600</td>\n      <td>2829.5300</td>\n      <td>multiply</td>\n      <td>BTC</td>\n    </tr>\n  </tbody>\n</table>\n</div>"
     },
     "execution_count": 2,
     "metadata": {},
     "output_type": "execute_result"
    }
   ],
   "source": [
    "import pandas as pd\n",
    "pd.set_option('display.float_format', lambda x: '%.4f' % x)\n",
    "\n",
    "from utils.config import BASE_PATH\n",
    "\n",
    "\n",
    "df = pd.read_csv(BASE_PATH + \"/data/price/eth_usdc_daily_20230805.csv\")\n",
    "df.head()"
   ]
  },
  {
   "cell_type": "code",
   "execution_count": 3,
   "outputs": [
    {
     "data": {
      "text/plain": "       datetime      open      high       low     close  volumefrom  \\\n730  2023-08-01 1856.0100 1873.7600 1814.0400 1871.5800  59616.2000   \n731  2023-08-02 1871.5800 1877.3300 1820.7000 1839.2100  56898.4300   \n732  2023-08-03 1839.2100 1857.0800 1825.5400 1834.4800  33687.5000   \n733  2023-08-04 1834.4800 1849.4100 1815.2800 1827.4400  47621.4000   \n734  2023-08-05 1827.4400 1836.9800 1825.0400 1835.0200  16831.9400   \n\n          volumeto  \n730 109634949.9700  \n731 105163502.5700  \n732  61999904.9000  \n733  87354095.0800  \n734  30815372.0000  ",
      "text/html": "<div>\n<style scoped>\n    .dataframe tbody tr th:only-of-type {\n        vertical-align: middle;\n    }\n\n    .dataframe tbody tr th {\n        vertical-align: top;\n    }\n\n    .dataframe thead th {\n        text-align: right;\n    }\n</style>\n<table border=\"1\" class=\"dataframe\">\n  <thead>\n    <tr style=\"text-align: right;\">\n      <th></th>\n      <th>datetime</th>\n      <th>open</th>\n      <th>high</th>\n      <th>low</th>\n      <th>close</th>\n      <th>volumefrom</th>\n      <th>volumeto</th>\n    </tr>\n  </thead>\n  <tbody>\n    <tr>\n      <th>730</th>\n      <td>2023-08-01</td>\n      <td>1856.0100</td>\n      <td>1873.7600</td>\n      <td>1814.0400</td>\n      <td>1871.5800</td>\n      <td>59616.2000</td>\n      <td>109634949.9700</td>\n    </tr>\n    <tr>\n      <th>731</th>\n      <td>2023-08-02</td>\n      <td>1871.5800</td>\n      <td>1877.3300</td>\n      <td>1820.7000</td>\n      <td>1839.2100</td>\n      <td>56898.4300</td>\n      <td>105163502.5700</td>\n    </tr>\n    <tr>\n      <th>732</th>\n      <td>2023-08-03</td>\n      <td>1839.2100</td>\n      <td>1857.0800</td>\n      <td>1825.5400</td>\n      <td>1834.4800</td>\n      <td>33687.5000</td>\n      <td>61999904.9000</td>\n    </tr>\n    <tr>\n      <th>733</th>\n      <td>2023-08-04</td>\n      <td>1834.4800</td>\n      <td>1849.4100</td>\n      <td>1815.2800</td>\n      <td>1827.4400</td>\n      <td>47621.4000</td>\n      <td>87354095.0800</td>\n    </tr>\n    <tr>\n      <th>734</th>\n      <td>2023-08-05</td>\n      <td>1827.4400</td>\n      <td>1836.9800</td>\n      <td>1825.0400</td>\n      <td>1835.0200</td>\n      <td>16831.9400</td>\n      <td>30815372.0000</td>\n    </tr>\n  </tbody>\n</table>\n</div>"
     },
     "execution_count": 3,
     "metadata": {},
     "output_type": "execute_result"
    }
   ],
   "source": [
    "from utils import utils\n",
    "\n",
    "# crypto compare data\n",
    "df[\"datetime\"] = df[\"time\"].apply(utils.utc_timestamp_to_date_str)\n",
    "\n",
    "# poloniex daily parse data\n",
    "# df[\"datetime\"] = df[\"date\"].apply(utils.utc_timestamp_to_datetime_ms_str).str[:10]\n",
    "\n",
    "# poloniex hourly parse data\n",
    "# df[\"datetime\"] = df[\"date\"].apply(utils.utc_timestamp_to_datetime_ms_str).str[:-4]\n",
    "\n",
    "df = df[[\"datetime\", \"open\", \"high\", \"low\", \"close\", \"volumefrom\", \"volumeto\"]]\n",
    "df.tail()"
   ],
   "metadata": {
    "collapsed": false,
    "ExecuteTime": {
     "end_time": "2023-08-06T08:00:56.508882Z",
     "start_time": "2023-08-06T08:00:56.500748Z"
    }
   }
  }
 ],
 "metadata": {
  "kernelspec": {
   "display_name": "Python 3",
   "language": "python",
   "name": "python3"
  },
  "language_info": {
   "codemirror_mode": {
    "name": "ipython",
    "version": 2
   },
   "file_extension": ".py",
   "mimetype": "text/x-python",
   "name": "python",
   "nbconvert_exporter": "python",
   "pygments_lexer": "ipython2",
   "version": "2.7.6"
  }
 },
 "nbformat": 4,
 "nbformat_minor": 0
}
