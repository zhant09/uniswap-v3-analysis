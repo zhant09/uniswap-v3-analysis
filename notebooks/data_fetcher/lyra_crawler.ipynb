{
 "cells": [
  {
   "cell_type": "code",
   "execution_count": 1,
   "outputs": [
    {
     "name": "stdout",
     "output_type": "stream",
     "text": [
      "button cnt: 3\n"
     ]
    }
   ],
   "source": [
    "from selenium import webdriver\n",
    "from selenium.webdriver.common.by import By\n",
    "\n",
    "url = \"https://app.lyra.finance/?utm_source=www#/trade/arbitrum/eth-usdc\"\n",
    "\n",
    "# driver = webdriver.Chrome()\n",
    "op = webdriver.ChromeOptions()\n",
    "op.add_argument('headless')\n",
    "op.add_argument('--window-size=1920,1080')\n",
    "driver = webdriver.Chrome(options=op)\n",
    "driver.get(url)\n",
    "\n",
    "all_button = driver.find_elements(By.CSS_SELECTOR, 'button')\n",
    "print(\"button cnt:\", len(all_button))"
   ],
   "metadata": {
    "collapsed": false,
    "ExecuteTime": {
     "end_time": "2023-09-13T15:03:08.037078Z",
     "start_time": "2023-09-13T15:03:00.579789Z"
    }
   },
   "id": "5ece15cff365161c"
  },
  {
   "cell_type": "code",
   "execution_count": 2,
   "outputs": [
    {
     "name": "stdout",
     "output_type": "stream",
     "text": [
      "button cnt: 18\n"
     ]
    }
   ],
   "source": [
    "all_button = driver.find_elements(By.CSS_SELECTOR, 'button')\n",
    "print(\"button cnt:\", len(all_button))"
   ],
   "metadata": {
    "collapsed": false,
    "ExecuteTime": {
     "end_time": "2023-09-13T15:03:28.804545Z",
     "start_time": "2023-09-13T15:03:28.794543Z"
    }
   },
   "id": "ed7ee3c659709fef"
  },
  {
   "cell_type": "code",
   "execution_count": 2,
   "outputs": [
    {
     "name": "stdout",
     "output_type": "stream",
     "text": [
      "button cnt: 17\n",
      "Arbitrum\n",
      "Connect Wallet\n",
      "\n",
      "Ethereum\n",
      "Simple\n",
      "Advanced\n",
      "1D\n",
      "1W\n",
      "1M\n",
      "3M\n",
      "Buy\n",
      "Sell\n",
      "Call\n",
      "Put\n",
      "Expires Sep 15, 4PM\n",
      "$22.61\n",
      "$4.18\n"
     ]
    }
   ],
   "source": [
    "# button = driver.find_element(By.XPATH, '//button[normalize-space()=\"Sell\"]')\n",
    "button = driver.find_elements(By.CSS_SELECTOR, 'button')\n",
    "print(\"button cnt:\", len(button))\n",
    "for b in button:\n",
    "    print(b.text)"
   ],
   "metadata": {
    "collapsed": false,
    "ExecuteTime": {
     "end_time": "2023-09-13T14:44:37.571838Z",
     "start_time": "2023-09-13T14:44:37.488571Z"
    }
   },
   "id": "4b5f8a5a81a64034"
  },
  {
   "cell_type": "code",
   "execution_count": 32,
   "outputs": [],
   "source": [
    "# print(driver.page_source)\n",
    "\n",
    "with open(\"test.html\", \"w\") as f:\n",
    "    f.write(driver.page_source)"
   ],
   "metadata": {
    "collapsed": false,
    "ExecuteTime": {
     "start_time": "2023-09-13T08:44:15.536046Z"
    }
   },
   "id": "17683150be0140bf"
  },
  {
   "cell_type": "code",
   "execution_count": 6,
   "outputs": [
    {
     "name": "stdout",
     "output_type": "stream",
     "text": [
      "------------------\n",
      "Strike\n",
      "Break Even\n",
      "To Break Even\n",
      "Price\n",
      "------------------\n",
      "$1,550\n",
      "$1,600.13\n",
      "+$5.47\n",
      "$50.13\n",
      "------------------\n",
      "\n",
      "------------------\n",
      "ETH Price: $1,594.66\n",
      "------------------\n",
      "$1,600\n",
      "$1,614.93\n",
      "+$20.27\n",
      "$14.93\n",
      "------------------\n"
     ]
    }
   ],
   "source": [
    "from selenium.webdriver.common.by import By\n",
    "\n",
    "table = driver.find_element(By.CLASS_NAME, \"css-xxfrxm\")\n",
    "rows = table.find_elements(By.TAG_NAME, \"tr\")\n",
    "\n",
    "option_list = []\n",
    "for row in rows:\n",
    "    print(\"------------------\")\n",
    "    print(row.text)"
   ],
   "metadata": {
    "collapsed": false,
    "ExecuteTime": {
     "end_time": "2023-09-13T13:56:40.131155Z",
     "start_time": "2023-09-13T13:56:40.054518Z"
    }
   },
   "id": "17602190b50c1f11"
  },
  {
   "cell_type": "code",
   "execution_count": null,
   "outputs": [],
   "source": [
    "# advanced_button = driver.find_element(By.XPATH, '//button[normalize-space()=\"Advanced\"]')\n",
    "# advanced_button.click()"
   ],
   "metadata": {
    "collapsed": false
   },
   "id": "a0cd9e4bbc336c05"
  },
  {
   "cell_type": "code",
   "execution_count": 41,
   "outputs": [],
   "source": [
    "buy_button = driver.find_element(By.XPATH, '//button[normalize-space()=\"Buy\"]')\n",
    "sell_button = driver.find_element(By.XPATH, '//button[normalize-space()=\"Sell\"]')\n",
    "call_button = driver.find_element(By.XPATH, '//button[normalize-space()=\"Call\"]')\n",
    "put_button = driver.find_element(By.XPATH, '//button[normalize-space()=\"Put\"]')\n",
    "\n",
    "buy_button.click()\n",
    "sell_button.click()\n",
    "\n",
    "# all_button = driver.find_elements(By.CSS_SELECTOR, 'button')\n",
    "# for button in all_button:\n",
    "#     print(button.text)"
   ],
   "metadata": {
    "collapsed": false,
    "ExecuteTime": {
     "end_time": "2023-09-13T09:24:16.520033Z",
     "start_time": "2023-09-13T09:24:16.437795Z"
    }
   },
   "id": "aee3bb3cf9de42d2"
  },
  {
   "cell_type": "code",
   "execution_count": 5,
   "outputs": [
    {
     "name": "stdout",
     "output_type": "stream",
     "text": [
      "Arbitrum\n",
      "Connect Wallet\n",
      "\n",
      "Ethereum\n",
      "Simple\n",
      "Advanced\n",
      "1D\n",
      "1W\n",
      "1M\n",
      "3M\n",
      "Buy\n",
      "Sell\n",
      "Call\n",
      "Put\n",
      "Expires Sep 15, 4PM\n",
      "$59.42\n",
      "$20.60\n",
      "$3.805\n"
     ]
    }
   ],
   "source": [
    "all_button = driver.find_elements(By.CSS_SELECTOR, 'button')\n",
    "for button in all_button:\n",
    "    print(button.text)"
   ],
   "metadata": {
    "collapsed": false,
    "ExecuteTime": {
     "end_time": "2023-09-13T11:57:40.231238Z",
     "start_time": "2023-09-13T11:57:40.132724Z"
    }
   },
   "id": "7375b5481629eedf"
  },
  {
   "cell_type": "code",
   "execution_count": 18,
   "outputs": [],
   "source": [
    "def str_to_float(data_str):\n",
    "    return float(data_str.replace(',', ''))"
   ],
   "metadata": {
    "collapsed": false,
    "ExecuteTime": {
     "end_time": "2023-09-13T12:10:30.372611Z",
     "start_time": "2023-09-13T12:10:30.368606Z"
    }
   },
   "id": "7ac6116d17d80ed7"
  },
  {
   "cell_type": "code",
   "execution_count": 19,
   "outputs": [
    {
     "name": "stdout",
     "output_type": "stream",
     "text": [
      "[(1450.0, 166.02), (1500.0, 122.77), (1550.0, 84.11), (1600.0, 51.07), (1650.0, 27.47), (1700.0, 16.31), (1750.0, 8.0)]\n"
     ]
    }
   ],
   "source": [
    "table = driver.find_element(By.CLASS_NAME, \"css-xxfrxm\")\n",
    "rows = table.find_elements(By.TAG_NAME, \"tr\")\n",
    "\n",
    "current_price = 0\n",
    "option_list = []\n",
    "for row in rows:\n",
    "    row_str = row.text\n",
    "    if \"ETH Price\" in row_str:\n",
    "        current_price = str_to_float(row_str[12:])\n",
    "        continue\n",
    "    if \"$\" in row_str:\n",
    "        temp_list = row_str.split(\"\\n\")\n",
    "        option_list.append((str_to_float(temp_list[0].strip(\"$\")), str_to_float(temp_list[-1].strip(\"$\"))))\n",
    "print(option_list)\n",
    "    \n",
    "\n",
    "# for tbody in tbody_list:\n",
    "#     date_text = tbody.find_elements(By.CLASS_NAME, \"css-1hwiqm\")\n",
    "    # convert this kind of string \"Sep 15\" to date\n",
    "    # print(date_text[0].text)"
   ],
   "metadata": {
    "collapsed": false,
    "ExecuteTime": {
     "end_time": "2023-09-13T12:10:33.492917Z",
     "start_time": "2023-09-13T12:10:33.305552Z"
    }
   },
   "id": "d36ff160b6d37483"
  },
  {
   "cell_type": "code",
   "execution_count": 11,
   "outputs": [
    {
     "name": "stdout",
     "output_type": "stream",
     "text": [
      "Expires Sep 15, 4PM\n"
     ]
    }
   ],
   "source": [
    "all_button = driver.find_elements(By.CSS_SELECTOR, 'button')\n",
    "date_button = None\n",
    "for button in all_button:\n",
    "    if \"Expires\" in button.text:\n",
    "        date_button = button\n",
    "print(date_button.text)"
   ],
   "metadata": {
    "collapsed": false,
    "ExecuteTime": {
     "end_time": "2023-09-13T14:29:42.664749Z",
     "start_time": "2023-09-13T14:29:42.562869Z"
    }
   },
   "id": "88a9d0589c079648"
  },
  {
   "cell_type": "code",
   "execution_count": 12,
   "outputs": [
    {
     "data": {
      "text/plain": "['__abstractmethods__',\n '__class__',\n '__delattr__',\n '__dict__',\n '__dir__',\n '__doc__',\n '__eq__',\n '__format__',\n '__ge__',\n '__getattribute__',\n '__gt__',\n '__hash__',\n '__init__',\n '__init_subclass__',\n '__le__',\n '__lt__',\n '__module__',\n '__ne__',\n '__new__',\n '__reduce__',\n '__reduce_ex__',\n '__repr__',\n '__setattr__',\n '__sizeof__',\n '__str__',\n '__subclasshook__',\n '__weakref__',\n '_abc_impl',\n '_execute',\n '_id',\n '_parent',\n '_upload',\n 'accessible_name',\n 'aria_role',\n 'clear',\n 'click',\n 'find_element',\n 'find_elements',\n 'get_attribute',\n 'get_dom_attribute',\n 'get_property',\n 'id',\n 'is_displayed',\n 'is_enabled',\n 'is_selected',\n 'location',\n 'location_once_scrolled_into_view',\n 'parent',\n 'rect',\n 'screenshot',\n 'screenshot_as_base64',\n 'screenshot_as_png',\n 'send_keys',\n 'shadow_root',\n 'size',\n 'submit',\n 'tag_name',\n 'text',\n 'value_of_css_property']"
     },
     "execution_count": 12,
     "metadata": {},
     "output_type": "execute_result"
    }
   ],
   "source": [
    "dir(date_button)"
   ],
   "metadata": {
    "collapsed": false,
    "ExecuteTime": {
     "end_time": "2023-09-13T14:29:49.118179Z",
     "start_time": "2023-09-13T14:29:49.098745Z"
    }
   },
   "id": "3b7e435f14a2a1ae"
  },
  {
   "cell_type": "code",
   "execution_count": 13,
   "outputs": [
    {
     "data": {
      "text/plain": "''"
     },
     "execution_count": 13,
     "metadata": {},
     "output_type": "execute_result"
    }
   ],
   "source": [
    "date_button.value_of_css_property(\"name\")"
   ],
   "metadata": {
    "collapsed": false,
    "ExecuteTime": {
     "end_time": "2023-09-13T14:30:42.859380Z",
     "start_time": "2023-09-13T14:30:42.846393Z"
    }
   },
   "id": "d19d9b70ed4d31dc"
  },
  {
   "cell_type": "code",
   "execution_count": 10,
   "outputs": [
    {
     "name": "stdout",
     "output_type": "stream",
     "text": [
      "Sep 15, 4PM\n",
      "Sep 22, 4PM\n",
      "Sep 29, 4PM\n",
      "Oct 6, 4PM\n"
     ]
    }
   ],
   "source": [
    "all_lis = driver.find_elements(By.CSS_SELECTOR, 'li')\n",
    "for li in all_lis:\n",
    "    print(li.text)\n",
    "    # if \"29\" in li.text:\n",
    "    #     li.click()"
   ],
   "metadata": {
    "collapsed": false,
    "ExecuteTime": {
     "end_time": "2023-09-13T14:13:49.095716Z",
     "start_time": "2023-09-13T14:13:49.065566Z"
    }
   },
   "id": "b6d0af8ed895bafc"
  },
  {
   "cell_type": "code",
   "execution_count": null,
   "outputs": [],
   "source": [],
   "metadata": {
    "collapsed": false
   },
   "id": "8cf3a5d1f4f4d955"
  }
 ],
 "metadata": {
  "kernelspec": {
   "name": "vs_base",
   "language": "python",
   "display_name": "Python (vs_base)"
  },
  "language_info": {
   "codemirror_mode": {
    "name": "ipython",
    "version": 2
   },
   "file_extension": ".py",
   "mimetype": "text/x-python",
   "name": "python",
   "nbconvert_exporter": "python",
   "pygments_lexer": "ipython2",
   "version": "2.7.6"
  }
 },
 "nbformat": 4,
 "nbformat_minor": 5
}
