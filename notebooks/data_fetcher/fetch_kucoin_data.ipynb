{
 "cells": [
  {
   "cell_type": "code",
   "execution_count": null,
   "metadata": {
    "collapsed": true
   },
   "outputs": [],
   "source": [
    "import requests\n",
    "import time\n",
    "\n",
    "\n",
    "KUCOIN_URL = \"https://api.kucoin.com/api/v1/market/orderbook/level1?symbol=ETH-USDC\"\n",
    "\n",
    "\n",
    "# print(int(time.time()))\n",
    "response = requests.get(KUCOIN_URL).json()\n",
    "print(response)\n",
    "# print(int(response[\"data\"][\"time\"] / 1000))\n",
    "# print(int(time.time()))\n",
    "# print(int(time.time()) - int(response[\"data\"][\"time\"] / 1000))"
   ]
  },
  {
   "cell_type": "code",
   "execution_count": null,
   "metadata": {
    "collapsed": false,
    "pycharm": {
     "name": "#%%\n"
    }
   },
   "outputs": [],
   "source": [
    "import requests\n",
    "import time\n",
    "\n",
    "KUCOIN_URL = \"https://api.kucoin.com/api/v1/market/orderbook/level2_20?symbol=ETH-USDC\"\n",
    "\n",
    "print(int(time.time()))\n",
    "response = requests.get(KUCOIN_URL).json()\n",
    "print(int(time.time()))\n",
    "print(int(time.time()) - int(response[\"data\"][\"time\"] / 1000))\n",
    "print(response)"
   ]
  },
  {
   "cell_type": "code",
   "execution_count": null,
   "metadata": {
    "collapsed": false,
    "pycharm": {
     "name": "#%%\n"
    }
   },
   "outputs": [],
   "source": [
    "import requests\n",
    "from concurrent.futures import ThreadPoolExecutor\n",
    "\n",
    "\n",
    "KUCOIN_URL_LIST = [\"https://api.kucoin.com/api/v1/market/orderbook/level2_20?symbol=ETH-USDC\", \"https://api.kucoin.com/api/v1/market/orderbook/level2_100?symbol=ETH-USDC\"]\n",
    "\n",
    "\n",
    "def get_url(url):\n",
    "    # start_time = int(time.time())\n",
    "    data = requests.get(url).json()\n",
    "    # end_time = int(time.time())\n",
    "    return data\n",
    "    # results.append([start_time, data, end_time])\n",
    "\n",
    "# with ThreadPoolExecutor(max_workers=3) as pool:\n",
    "#     pool.map(get_url, KUCOIN_URL_LIST)\n",
    "#\n",
    "# print(results)\n",
    "\n",
    "results = []\n",
    "for i in range(5):\n",
    "    results.append(get_url(KUCOIN_URL_LIST[0]))\n",
    "\n",
    "for item in results:\n",
    "    print(item[\"data\"][\"time\"] / 1000)"
   ]
  },
  {
   "cell_type": "markdown",
   "source": [
    "# save kucoin price weekly data"
   ],
   "metadata": {
    "collapsed": false
   }
  },
  {
   "cell_type": "code",
   "execution_count": null,
   "outputs": [],
   "source": [
    "from datetime import datetime\n",
    "from utils import utils\n",
    "\n",
    "\n",
    "start_timestamp = utils.date_to_utc_timestamp(datetime(2023, 5, 23, 0, 0))\n",
    "end_timestamp = utils.date_to_utc_timestamp(datetime(2023, 5, 26, 0, 0))\n",
    "print(start_timestamp)\n",
    "print(end_timestamp)"
   ],
   "metadata": {
    "collapsed": false
   }
  },
  {
   "cell_type": "code",
   "execution_count": null,
   "metadata": {},
   "outputs": [],
   "source": [
    "import requests\n",
    "\n",
    "# this api can only get the recent week data\n",
    "kucoin_url = \"https://min-api.cryptocompare.com/data/v2/histominute?fsym=ETH&tsym=USD&limit=1000&toTs={}\"\n",
    "\n",
    "current_timestamp = end_timestamp\n",
    "# current_timestamp = utils.date_to_utc_timestamp(datetime(2023, 5, 19, 1, 32))\n",
    "kucoin_result = []\n",
    "while current_timestamp >= start_timestamp:\n",
    "    print(\"Start processing, current time: \", utils.utc_timestamp_to_date(current_timestamp))\n",
    "    response = requests.get(kucoin_url.format(current_timestamp))\n",
    "    kucoin_data = response.json()['Data']\n",
    "    if not kucoin_data:\n",
    "        break\n",
    "    for d in kucoin_data['Data'][::-1]:\n",
    "        if d[\"time\"] >= start_timestamp:\n",
    "            kucoin_result.append(d)\n",
    "        else:\n",
    "            break\n",
    "    current_timestamp = kucoin_data['TimeFrom'] - 60\n",
    "\n",
    "kucoin_result = kucoin_result[::-1]\n",
    "\n",
    "print(len(kucoin_result))"
   ]
  }
 ],
 "metadata": {
  "kernelspec": {
   "display_name": "Python (vs_base)",
   "language": "python",
   "name": "vs_base"
  },
  "language_info": {
   "codemirror_mode": {
    "name": "ipython",
    "version": 3
   },
   "file_extension": ".py",
   "mimetype": "text/x-python",
   "name": "python",
   "nbconvert_exporter": "python",
   "pygments_lexer": "ipython3",
   "version": "3.10.6"
  }
 },
 "nbformat": 4,
 "nbformat_minor": 0
}
