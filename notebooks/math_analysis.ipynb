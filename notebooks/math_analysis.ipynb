{
 "cells": [
  {
   "cell_type": "code",
   "execution_count": 1,
   "metadata": {
    "collapsed": true
   },
   "outputs": [],
   "source": [
    "#!/usr/bin/env python3\n",
    "\"\"\"\n",
    "\n",
    "See the technical note \"Liquidity Math in Uniswap v3\" and the Uniswap v3 whitepaper\n",
    "for the description of the purpose of this code.\n",
    "\n",
    "\"\"\"\n",
    "\n",
    "#\n",
    "# Liquidity math adapted from https://github.com/Uniswap/uniswap-v3-periphery/blob/main/contracts/libraries/LiquidityAmounts.sol\n",
    "#\n",
    "\n",
    "def get_liquidity_0(x, sa, sb):\n",
    "    return x * sa * sb / (sb - sa)\n",
    "\n",
    "def get_liquidity_1(y, sa, sb):\n",
    "    return y / (sb - sa)\n",
    "\n",
    "def get_liquidity(x, y, sp, sa, sb):\n",
    "    if sp <= sa:\n",
    "        liquidity = get_liquidity_0(x, sa, sb)\n",
    "    elif sp < sb:\n",
    "        liquidity0 = get_liquidity_0(x, sp, sb)\n",
    "        liquidity1 = get_liquidity_1(y, sa, sp)\n",
    "        liquidity = min(liquidity0, liquidity1)\n",
    "    else:\n",
    "        liquidity = get_liquidity_1(y, sa, sb)\n",
    "    return liquidity\n",
    "\n",
    "\n",
    "#\n",
    "# Calculate x and y given liquidity and price range\n",
    "#\n",
    "def calculate_x(L, sp, sa, sb):\n",
    "    sp = max(min(sp, sb), sa)     # if the price is outside the range, use the range endpoints instead\n",
    "    return L * (sb - sp) / (sp * sb)\n",
    "\n",
    "def calculate_y(L, sp, sa, sb):\n",
    "    sp = max(min(sp, sb), sa)     # if the price is outside the range, use the range endpoints instead\n",
    "    return L * (sp - sa)\n",
    "\n",
    "\n",
    "#\n",
    "# Two different ways how to calculate p_a. calculate_a1() uses liquidity as an input, calculate_a2() does not.\n",
    "#\n",
    "def calculate_a1(L, sp, sb, x, y):\n",
    "    # https://www.wolframalpha.com/input/?i=solve+L+%3D+y+%2F+%28sqrt%28P%29+-+a%29+for+a\n",
    "    # sqrt(a) = sqrt(P) - y / L\n",
    "    return (sp - y / L) ** 2\n",
    "\n",
    "def calculate_a2(sp, sb, x, y):\n",
    "    # https://www.wolframalpha.com/input/?i=solve+++x+sqrt%28P%29+sqrt%28b%29+%2F+%28sqrt%28b%29++-+sqrt%28P%29%29+%3D+y+%2F+%28sqrt%28P%29+-+a%29%2C+for+a\n",
    "    # sqrt(a) = (y/sqrt(b) + sqrt(P) x - y/sqrt(P))/x\n",
    "    #    simplify:\n",
    "    # sqrt(a) = y/(sqrt(b) x) + sqrt(P) - y/(sqrt(P) x)\n",
    "    sa = y / (sb * x) + sp - y / (sp * x)\n",
    "    return sa ** 2\n",
    "\n",
    "#\n",
    "# Two different ways how to calculate p_b. calculate_b1() uses liquidity as an input, calculate_b2() does not.\n",
    "#\n",
    "def calculate_b1(L, sp, sa, x, y):\n",
    "    # https://www.wolframalpha.com/input/?i=solve+L+%3D+x+sqrt%28P%29+sqrt%28b%29+%2F+%28sqrt%28b%29+-+sqrt%28P%29%29+for+b\n",
    "    # sqrt(b) = (L sqrt(P)) / (L - sqrt(P) x)\n",
    "    return ((L * sp) / (L - sp * x)) ** 2\n",
    "\n",
    "def calculate_b2(sp, sa, x, y):\n",
    "    # find the square root of b:\n",
    "    # https://www.wolframalpha.com/input/?i=solve+++x+sqrt%28P%29+b+%2F+%28b++-+sqrt%28P%29%29+%3D+y+%2F+%28sqrt%28P%29+-+sqrt%28a%29%29%2C+for+b\n",
    "    # sqrt(b) = (sqrt(P) y)/(sqrt(a) sqrt(P) x - P x + y)\n",
    "    P = sp ** 2\n",
    "    return (sp * y / ((sa * sp - P) * x + y)) ** 2\n",
    "\n",
    "#\n",
    "# Calculating c and d\n",
    "#\n",
    "def calculate_c(p, d, x, y):\n",
    "    return y / ((d - 1) * p * x + y)\n",
    "\n",
    "def calculate_d(p, c, x, y):\n",
    "    return 1 + y * (1 - c) / (c * p * x)\n",
    "\n",
    "\n",
    "#\n",
    "# Test a known good combination of values against the functions provided above.\n",
    "#\n",
    "# Some errors are expected because:\n",
    "#  -- the floating point math is meant for simplicity, not accurate calculations!\n",
    "#  -- ticks and tick ranges are ignored for simplicity\n",
    "#  -- the test values taken from Uniswap v3 UI and are approximate\n",
    "#\n",
    "def test(x, y, p, a, b):\n",
    "    sp = p ** 0.5\n",
    "    sa = a ** 0.5\n",
    "    sb = b ** 0.5\n",
    "\n",
    "    L = get_liquidity(x, y, sp, sa, sb)\n",
    "    print(\"L: {:.2f}\".format(L))\n",
    "\n",
    "    ia = calculate_a1(L, sp, sb, x, y)\n",
    "    error = 100.0 * (1 - ia / a)\n",
    "    print(\"a: {:.2f} vs {:.2f}, error {:.6f}%\".format(a, ia, error))\n",
    "\n",
    "    ia = calculate_a2(sp, sb, x, y)\n",
    "    error = 100.0 * (1 - ia / a)\n",
    "    print(\"a: {:.2f} vs {:.2f}, error {:.6f}%\".format(a, ia, error))\n",
    "\n",
    "    ib = calculate_b1(L, sp, sa, x, y)\n",
    "    error = 100.0 * (1 - ib / b)\n",
    "    print(\"b: {:.2f} vs {:.2f}, error {:.6f}%\".format(b, ib, error))\n",
    "\n",
    "    ib = calculate_b2(sp, sa, x, y)\n",
    "    error = 100.0 * (1 - ib / b)\n",
    "    print(\"b: {:.2f} vs {:.2f}, error {:.6f}%\".format(b, ib, error))\n",
    "\n",
    "\n",
    "    c = sb / sp\n",
    "    d = sa / sp\n",
    "\n",
    "    ic = calculate_c(p, d, x, y)\n",
    "    error = 100.0 * (1 - ic / c)\n",
    "    print(\"c^2: {:.2f} vs {:.2f}, error {:.6f}%\".format(c**2, ic**2, error))\n",
    "\n",
    "    id = calculate_d(p, c, x, y)\n",
    "    error = 100.0 * (1 - id**2 / d**2)\n",
    "    print(\"d^2: {:.2f} vs {:.2f}, error {:.6f}%\".format(d**2, id**2, error))\n",
    "\n",
    "\n",
    "    ix = calculate_x(L, sp, sa, sb)\n",
    "    error = 100.0 * (1 - ix / x)\n",
    "    print(\"x: {:.2f} vs {:.2f}, error {:.6f}%\".format(x, ix, error))\n",
    "\n",
    "    iy = calculate_y(L, sp, sa, sb)\n",
    "    error = 100.0 * (1 - iy / y)\n",
    "    print(\"y: {:.2f} vs {:.2f}, error {:.6f}%\".format(y, iy, error))\n",
    "    print(\"\")\n",
    "\n",
    "\n",
    "def test_1():\n",
    "    print(\"test case 1\")\n",
    "    p = 20.0\n",
    "    a = 19.027\n",
    "    b = 25.993\n",
    "    x = 1\n",
    "    y = 4\n",
    "    test(x, y, p, a, b)\n",
    "\n",
    "def test_2():\n",
    "    print(\"test case 2\")\n",
    "    p = 3227.02\n",
    "    a = 1626.3\n",
    "    b = 4846.3\n",
    "    x = 1\n",
    "    y = 5096.06\n",
    "    test(x, y, p, a, b)\n",
    "\n",
    "def tests():\n",
    "    test_1()\n",
    "    test_2()\n",
    "\n",
    "#\n",
    "# Example 1 from the technical note\n",
    "#\n",
    "def example_1():\n",
    "    print(\"Example 1: how much of USDC I need when providing 2 ETH at this price and range?\")\n",
    "    p = 2000\n",
    "    a = 1500\n",
    "    b = 2500\n",
    "    x = 2\n",
    "\n",
    "    sp = p ** 0.5\n",
    "    sa = a ** 0.5\n",
    "    sb = b ** 0.5\n",
    "    L = get_liquidity_0(x, sp, sb)\n",
    "    y = calculate_y(L, sp, sa, sb)\n",
    "    print(\"amount of USDC y={:.2f}\".format(y))\n",
    "\n",
    "    # demonstrate that with the calculated y value, the given range is correct\n",
    "    c = sb / sp\n",
    "    d = sa / sp\n",
    "    ic = calculate_c(p, d, x, y)\n",
    "    id = calculate_d(p, c, x, y)\n",
    "    C = ic ** 2\n",
    "    D = id ** 2\n",
    "    print(\"p_a={:.2f} ({:.2f}% of P), p_b={:.2f} ({:.2f}% of P)\".format(\n",
    "        D * p, D * 100, C * p, C * 100))\n",
    "    print(\"\")\n",
    "\n",
    "#\n",
    "# Example 2 from the technical note\n",
    "#\n",
    "def example_2():\n",
    "    print(\"Example 2: I have 2 ETH and 4000 USDC, range top set to 3000 USDC. What's the bottom of the range?\")\n",
    "    p = 2000\n",
    "    b = 3000\n",
    "    x = 2\n",
    "    y = 4000\n",
    "\n",
    "    sp = p ** 0.5\n",
    "    sb = b ** 0.5\n",
    "\n",
    "    a = calculate_a2(sp, sb, x, y)\n",
    "    print(\"lower bound of the price p_a={:.2f}\".format(a))\n",
    "    print(\"\")\n",
    "\n",
    "\n",
    "#\n",
    "# Example 3 from the technical note\n",
    "#\n",
    "def example_3():\n",
    "    print(\"Example 3: Using the position created in Example 2, what are asset balances at 2500 USDC per ETH?\")\n",
    "    p = 2000\n",
    "    a = 1333.33\n",
    "    b = 3000\n",
    "    x = 2\n",
    "    y = 4000\n",
    "\n",
    "    sp = p ** 0.5\n",
    "    sa = a ** 0.5\n",
    "    sb = b ** 0.5\n",
    "    # calculate the initial liquidity\n",
    "    L = get_liquidity(x, y, sp, sa, sb)\n",
    "\n",
    "    P1 = 2500\n",
    "    sp1 = P1 ** 0.5\n",
    "\n",
    "    x1 = calculate_x(L, sp1, sa, sb)\n",
    "    y1 = calculate_y(L, sp1, sa, sb)\n",
    "    print(\"Amount of ETH x={:.2f} amount of USDC y={:.2f}\".format(x1, y1))\n",
    "\n",
    "    # alternative way, directly based on the whitepaper\n",
    "\n",
    "    # this delta math only works if the price is in the range (including at its endpoints),\n",
    "    # so limit the square roots of prices to the range first\n",
    "    sp = max(min(sp, sb), sa)\n",
    "    sp1 = max(min(sp1, sb), sa)\n",
    "\n",
    "    delta_p = sp1 - sp\n",
    "    delta_inv_p = 1/sp1 - 1/sp\n",
    "    delta_x = delta_inv_p * L\n",
    "    delta_y = delta_p * L\n",
    "    x1 = x + delta_x\n",
    "    y1 = y + delta_y\n",
    "    print(\"delta_x={:.2f} delta_y={:.2f}\".format(delta_x, delta_y))\n",
    "    print(\"Amount of ETH x={:.2f} amount of USDC y={:.2f}\".format(x1, y1))\n",
    "\n",
    "\n",
    "def examples():\n",
    "    example_1()\n",
    "    example_2()\n",
    "    example_3()\n",
    "\n",
    "def main():\n",
    "    # test with some values taken from Uniswap UI\n",
    "    tests()\n",
    "    # demonstrate the examples given in the paper\n",
    "    examples()"
   ]
  },
  {
   "cell_type": "code",
   "execution_count": 30,
   "outputs": [
    {
     "name": "stdout",
     "output_type": "stream",
     "text": [
      "how much of USDC I need when providing 0.21 ETH at this price and range?\n",
      "amount of USDC y=994.25\n",
      "p_a=1800.90 (99.64% of P), p_b=1809.90 (100.14% of P)\n",
      "\n"
     ]
    },
    {
     "data": {
      "text/plain": "994.2547194451286"
     },
     "execution_count": 30,
     "metadata": {},
     "output_type": "execute_result"
    }
   ],
   "source": [
    "def example_current1(p, a, b, x):\n",
    "    print(\"how much of USDC I need when providing {} ETH at this price and range?\".format(x))\n",
    "\n",
    "    sp = p ** 0.5\n",
    "    sa = a ** 0.5\n",
    "    sb = b ** 0.5\n",
    "    L = get_liquidity_0(x, sp, sb)\n",
    "    y = calculate_y(L, sp, sa, sb)\n",
    "    print(\"amount of USDC y={:.2f}\".format(y))\n",
    "\n",
    "    # demonstrate that with the calculated y value, the given range is correct\n",
    "    c = sb / sp\n",
    "    d = sa / sp\n",
    "    ic = calculate_c(p, d, x, y)\n",
    "    id = calculate_d(p, c, x, y)\n",
    "    C = ic ** 2\n",
    "    D = id ** 2\n",
    "    print(\"p_a={:.2f} ({:.2f}% of P), p_b={:.2f} ({:.2f}% of P)\".format(\n",
    "        D * p, D * 100, C * p, C * 100))\n",
    "    print(\"\")\n",
    "    return y\n",
    "\n",
    "\n",
    "# the answer is right based on uniswap UI test\n",
    "example_current1(1807.41, 1800.9, 1809.9, 0.21)"
   ],
   "metadata": {
    "collapsed": false,
    "pycharm": {
     "name": "#%%\n"
    }
   }
  },
  {
   "cell_type": "code",
   "execution_count": 21,
   "outputs": [
    {
     "name": "stdout",
     "output_type": "stream",
     "text": [
      "how much of USDC I need when providing 0.2 ETH at this price and range?\n",
      "amount of USDC y=146.74\n",
      "p_a=1699.40 (94.15% of P), p_b=2100.70 (116.38% of P)\n",
      "\n"
     ]
    }
   ],
   "source": [
    "example_current1(1805, 1699.4, 2100.7, 0.2)"
   ],
   "metadata": {
    "collapsed": false,
    "pycharm": {
     "name": "#%%\n"
    }
   }
  },
  {
   "cell_type": "code",
   "execution_count": 24,
   "outputs": [
    {
     "name": "stdout",
     "output_type": "stream",
     "text": [
      "how much of USDC I need when providing 1 ETH at this price and range?\n",
      "amount of USDC y=2204.32\n",
      "p_a=1597.24 (88.48% of P), p_b=1994.25 (110.48% of P)\n",
      "\n"
     ]
    }
   ],
   "source": [
    "example_current1(1805.13, 1597.24, 1994.25, 1)"
   ],
   "metadata": {
    "collapsed": false,
    "pycharm": {
     "name": "#%%\n"
    }
   }
  },
  {
   "cell_type": "code",
   "execution_count": 38,
   "outputs": [
    {
     "name": "stdout",
     "output_type": "stream",
     "text": [
      "how much of USDC I need when providing 0.06829334178872704 ETH at this price and range?\n",
      "amount of USDC y=100.01\n",
      "p_a=1600.44 (86.92% of P), p_b=2199.57 (119.46% of P)\n",
      "\n",
      "100.00867207908966\n"
     ]
    }
   ],
   "source": [
    "p = 1800.87\n",
    "a = 1600.44\n",
    "b = 2199.57\n",
    "x = 0.068293341788727032\n",
    "y = example_current1(p, a, b, x)\n",
    "print(y)"
   ],
   "metadata": {
    "collapsed": false,
    "pycharm": {
     "name": "#%%\n"
    }
   }
  },
  {
   "cell_type": "code",
   "execution_count": 46,
   "outputs": [
    {
     "name": "stdout",
     "output_type": "stream",
     "text": [
      "Example 3: Using the position created in Example 2, what are asset balances at 2500 USDC per ETH?\n",
      "Amount of ETH x=0.0000 amount of USDC y=7287.2379\n",
      "delta_x=-3.0000 delta_y=5404.0035\n",
      "Amount of ETH x=0.0000 amount of USDC y=7287.2379\n"
     ]
    },
    {
     "data": {
      "text/plain": "(8.348877145181177e-14, 7287.237916391592)"
     },
     "execution_count": 46,
     "metadata": {},
     "output_type": "execute_result"
    }
   ],
   "source": [
    "#\n",
    "# Example 3 from the technical note\n",
    "#\n",
    "def example_current3(p, a, b, x, y, P1):\n",
    "    print(\"Example 3: Using the position created in Example 2, what are asset balances at 2500 USDC per ETH?\")\n",
    "    # p = 1807.23\n",
    "    # a = 1699.4\n",
    "    # b = 2100.69\n",
    "    # x = 0.9999\n",
    "    # y = 4000\n",
    "\n",
    "    sp = p ** 0.5\n",
    "    sa = a ** 0.5\n",
    "    sb = b ** 0.5\n",
    "    # calculate the initial liquidity\n",
    "    L = get_liquidity(x, y, sp, sa, sb)\n",
    "\n",
    "    # P1 = 1807.23\n",
    "    sp1 = P1 ** 0.5\n",
    "\n",
    "    x1 = calculate_x(L, sp1, sa, sb)\n",
    "    y1 = calculate_y(L, sp1, sa, sb)\n",
    "    print(\"Amount of ETH x={:.4f} amount of USDC y={:.4f}\".format(x1, y1))\n",
    "\n",
    "    # alternative way, directly based on the whitepaper\n",
    "\n",
    "    # this delta math only works if the price is in the range (including at its endpoints),\n",
    "    # so limit the square roots of prices to the range first\n",
    "    sp = max(min(sp, sb), sa)\n",
    "    sp1 = max(min(sp1, sb), sa)\n",
    "\n",
    "    delta_p = sp1 - sp\n",
    "    delta_inv_p = 1/sp1 - 1/sp\n",
    "    delta_x = delta_inv_p * L\n",
    "    delta_y = delta_p * L\n",
    "    x1 = x + delta_x\n",
    "    y1 = y + delta_y\n",
    "    print(\"delta_x={:.4f} delta_y={:.4f}\".format(delta_x, delta_y))\n",
    "    print(\"Amount of ETH x={:.4f} amount of USDC y={:.4f}\".format(x1, y1))\n",
    "    return x1, y1\n",
    "\n",
    "\n",
    "\n",
    "example_current3(p, a, b, x, y, 1804.43)"
   ],
   "metadata": {
    "collapsed": false,
    "pycharm": {
     "name": "#%%\n"
    }
   }
  },
  {
   "cell_type": "code",
   "execution_count": 44,
   "outputs": [
    {
     "name": "stdout",
     "output_type": "stream",
     "text": [
      "how much of USDC I need when providing 3 ETH at this price and range?\n",
      "amount of USDC y=1883.23\n",
      "p_a=1799.07 (99.95% of P), p_b=1802.67 (100.15% of P)\n",
      "\n"
     ]
    }
   ],
   "source": [
    "p = 1800\n",
    "a = 1799.07\n",
    "b = 1802.67\n",
    "x = 3\n",
    "y = example_current1(p, a, b, x)"
   ],
   "metadata": {
    "collapsed": false,
    "pycharm": {
     "name": "#%%\n"
    }
   }
  },
  {
   "cell_type": "code",
   "execution_count": 45,
   "outputs": [
    {
     "name": "stdout",
     "output_type": "stream",
     "text": [
      "Example 3: Using the position created in Example 2, what are asset balances at 2500 USDC per ETH?\n",
      "Amount of ETH x=4.0353 amount of USDC y=20.2524\n",
      "delta_x=1.0353 delta_y=-1862.9820\n",
      "Amount of ETH x=4.0353 amount of USDC y=20.2524\n"
     ]
    }
   ],
   "source": [
    "p1 = 1799.08\n",
    "x1, y1 = example_current3(p, a, b, x, y, p1)"
   ],
   "metadata": {
    "collapsed": false,
    "pycharm": {
     "name": "#%%\n"
    }
   }
  },
  {
   "cell_type": "code",
   "execution_count": 43,
   "outputs": [
    {
     "data": {
      "text/plain": "-1.0466920000005757"
     },
     "execution_count": 43,
     "metadata": {},
     "output_type": "execute_result"
    }
   ],
   "source": [
    "# calculate impermanent loss\n",
    "1799.08 * 1.3451 + 6.7508 - 1800 - 627.74"
   ],
   "metadata": {
    "collapsed": false,
    "pycharm": {
     "name": "#%%\n"
    }
   }
  },
  {
   "cell_type": "code",
   "execution_count": 47,
   "outputs": [
    {
     "data": {
      "text/plain": "2.6138461538461537"
     },
     "execution_count": 47,
     "metadata": {},
     "output_type": "execute_result"
    }
   ],
   "source": [
    "95 / 6.5 / 4 - 1.04"
   ],
   "metadata": {
    "collapsed": false,
    "pycharm": {
     "name": "#%%\n"
    }
   }
  }
 ],
 "metadata": {
  "kernelspec": {
   "display_name": "Python 3",
   "language": "python",
   "name": "python3"
  },
  "language_info": {
   "codemirror_mode": {
    "name": "ipython",
    "version": 2
   },
   "file_extension": ".py",
   "mimetype": "text/x-python",
   "name": "python",
   "nbconvert_exporter": "python",
   "pygments_lexer": "ipython2",
   "version": "2.7.6"
  }
 },
 "nbformat": 4,
 "nbformat_minor": 0
}