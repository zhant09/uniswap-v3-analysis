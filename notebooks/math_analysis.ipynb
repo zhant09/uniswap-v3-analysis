{
 "cells": [
  {
   "cell_type": "code",
   "execution_count": 3,
   "metadata": {
    "collapsed": true
   },
   "outputs": [],
   "source": [
    "#!/usr/bin/env python3\n",
    "\"\"\"\n",
    "\n",
    "See the technical note \"Liquidity Math in Uniswap v3\" and the Uniswap v3 whitepaper\n",
    "for the description of the purpose of this code.\n",
    "\n",
    "\"\"\"\n",
    "\n",
    "#\n",
    "# Liquidity math adapted from https://github.com/Uniswap/uniswap-v3-periphery/blob/main/contracts/libraries/LiquidityAmounts.sol\n",
    "#\n",
    "\n",
    "def get_liquidity_0(x, sa, sb):\n",
    "    return x * sa * sb / (sb - sa)\n",
    "\n",
    "def get_liquidity_1(y, sa, sb):\n",
    "    return y / (sb - sa)\n",
    "\n",
    "def get_liquidity(x, y, sp, sa, sb):\n",
    "    if sp <= sa:\n",
    "        liquidity = get_liquidity_0(x, sa, sb)\n",
    "    elif sp < sb:\n",
    "        liquidity0 = get_liquidity_0(x, sp, sb)\n",
    "        liquidity1 = get_liquidity_1(y, sa, sp)\n",
    "        liquidity = min(liquidity0, liquidity1)\n",
    "    else:\n",
    "        liquidity = get_liquidity_1(y, sa, sb)\n",
    "    return liquidity\n",
    "\n",
    "\n",
    "#\n",
    "# Calculate x and y given liquidity and price range\n",
    "#\n",
    "def calculate_x(L, sp, sa, sb):\n",
    "    sp = max(min(sp, sb), sa)     # if the price is outside the range, use the range endpoints instead\n",
    "    return L * (sb - sp) / (sp * sb)\n",
    "\n",
    "def calculate_y(L, sp, sa, sb):\n",
    "    sp = max(min(sp, sb), sa)     # if the price is outside the range, use the range endpoints instead\n",
    "    return L * (sp - sa)\n",
    "\n",
    "\n",
    "#\n",
    "# Two different ways how to calculate p_a. calculate_a1() uses liquidity as an input, calculate_a2() does not.\n",
    "#\n",
    "def calculate_a1(L, sp, sb, x, y):\n",
    "    # https://www.wolframalpha.com/input/?i=solve+L+%3D+y+%2F+%28sqrt%28P%29+-+a%29+for+a\n",
    "    # sqrt(a) = sqrt(P) - y / L\n",
    "    return (sp - y / L) ** 2\n",
    "\n",
    "def calculate_a2(sp, sb, x, y):\n",
    "    # https://www.wolframalpha.com/input/?i=solve+++x+sqrt%28P%29+sqrt%28b%29+%2F+%28sqrt%28b%29++-+sqrt%28P%29%29+%3D+y+%2F+%28sqrt%28P%29+-+a%29%2C+for+a\n",
    "    # sqrt(a) = (y/sqrt(b) + sqrt(P) x - y/sqrt(P))/x\n",
    "    #    simplify:\n",
    "    # sqrt(a) = y/(sqrt(b) x) + sqrt(P) - y/(sqrt(P) x)\n",
    "    sa = y / (sb * x) + sp - y / (sp * x)\n",
    "    return sa ** 2\n",
    "\n",
    "#\n",
    "# Two different ways how to calculate p_b. calculate_b1() uses liquidity as an input, calculate_b2() does not.\n",
    "#\n",
    "def calculate_b1(L, sp, sa, x, y):\n",
    "    # https://www.wolframalpha.com/input/?i=solve+L+%3D+x+sqrt%28P%29+sqrt%28b%29+%2F+%28sqrt%28b%29+-+sqrt%28P%29%29+for+b\n",
    "    # sqrt(b) = (L sqrt(P)) / (L - sqrt(P) x)\n",
    "    return ((L * sp) / (L - sp * x)) ** 2\n",
    "\n",
    "def calculate_b2(sp, sa, x, y):\n",
    "    # find the square root of b:\n",
    "    # https://www.wolframalpha.com/input/?i=solve+++x+sqrt%28P%29+b+%2F+%28b++-+sqrt%28P%29%29+%3D+y+%2F+%28sqrt%28P%29+-+sqrt%28a%29%29%2C+for+b\n",
    "    # sqrt(b) = (sqrt(P) y)/(sqrt(a) sqrt(P) x - P x + y)\n",
    "    P = sp ** 2\n",
    "    return (sp * y / ((sa * sp - P) * x + y)) ** 2\n",
    "\n",
    "#\n",
    "# Calculating c and d\n",
    "#\n",
    "def calculate_c(p, d, x, y):\n",
    "    return y / ((d - 1) * p * x + y)\n",
    "\n",
    "def calculate_d(p, c, x, y):\n",
    "    return 1 + y * (1 - c) / (c * p * x)\n",
    "\n",
    "\n",
    "#\n",
    "# Test a known good combination of values against the functions provided above.\n",
    "#\n",
    "# Some errors are expected because:\n",
    "#  -- the floating point math is meant for simplicity, not accurate calculations!\n",
    "#  -- ticks and tick ranges are ignored for simplicity\n",
    "#  -- the test values taken from Uniswap v3 UI and are approximate\n",
    "#\n",
    "def test(x, y, p, a, b):\n",
    "    sp = p ** 0.5\n",
    "    sa = a ** 0.5\n",
    "    sb = b ** 0.5\n",
    "\n",
    "    L = get_liquidity(x, y, sp, sa, sb)\n",
    "    print(\"L: {:.2f}\".format(L))\n",
    "\n",
    "    ia = calculate_a1(L, sp, sb, x, y)\n",
    "    error = 100.0 * (1 - ia / a)\n",
    "    print(\"a: {:.2f} vs {:.2f}, error {:.6f}%\".format(a, ia, error))\n",
    "\n",
    "    ia = calculate_a2(sp, sb, x, y)\n",
    "    error = 100.0 * (1 - ia / a)\n",
    "    print(\"a: {:.2f} vs {:.2f}, error {:.6f}%\".format(a, ia, error))\n",
    "\n",
    "    ib = calculate_b1(L, sp, sa, x, y)\n",
    "    error = 100.0 * (1 - ib / b)\n",
    "    print(\"b: {:.2f} vs {:.2f}, error {:.6f}%\".format(b, ib, error))\n",
    "\n",
    "    ib = calculate_b2(sp, sa, x, y)\n",
    "    error = 100.0 * (1 - ib / b)\n",
    "    print(\"b: {:.2f} vs {:.2f}, error {:.6f}%\".format(b, ib, error))\n",
    "\n",
    "\n",
    "    c = sb / sp\n",
    "    d = sa / sp\n",
    "\n",
    "    ic = calculate_c(p, d, x, y)\n",
    "    error = 100.0 * (1 - ic / c)\n",
    "    print(\"c^2: {:.2f} vs {:.2f}, error {:.6f}%\".format(c**2, ic**2, error))\n",
    "\n",
    "    id = calculate_d(p, c, x, y)\n",
    "    error = 100.0 * (1 - id**2 / d**2)\n",
    "    print(\"d^2: {:.2f} vs {:.2f}, error {:.6f}%\".format(d**2, id**2, error))\n",
    "\n",
    "\n",
    "    ix = calculate_x(L, sp, sa, sb)\n",
    "    error = 100.0 * (1 - ix / x)\n",
    "    print(\"x: {:.2f} vs {:.2f}, error {:.6f}%\".format(x, ix, error))\n",
    "\n",
    "    iy = calculate_y(L, sp, sa, sb)\n",
    "    error = 100.0 * (1 - iy / y)\n",
    "    print(\"y: {:.2f} vs {:.2f}, error {:.6f}%\".format(y, iy, error))\n",
    "    print(\"\")\n",
    "\n",
    "\n",
    "def test_1():\n",
    "    print(\"test case 1\")\n",
    "    p = 20.0\n",
    "    a = 19.027\n",
    "    b = 25.993\n",
    "    x = 1\n",
    "    y = 4\n",
    "    test(x, y, p, a, b)\n",
    "\n",
    "def test_2():\n",
    "    print(\"test case 2\")\n",
    "    p = 3227.02\n",
    "    a = 1626.3\n",
    "    b = 4846.3\n",
    "    x = 1\n",
    "    y = 5096.06\n",
    "    test(x, y, p, a, b)\n",
    "\n",
    "def tests():\n",
    "    test_1()\n",
    "    test_2()\n",
    "\n",
    "#\n",
    "# Example 1 from the technical note\n",
    "#\n",
    "def example_1():\n",
    "    print(\"Example 1: how much of USDC I need when providing 2 ETH at this price and range?\")\n",
    "    p = 2000\n",
    "    a = 1500\n",
    "    b = 2500\n",
    "    x = 2\n",
    "\n",
    "    sp = p ** 0.5\n",
    "    sa = a ** 0.5\n",
    "    sb = b ** 0.5\n",
    "    L = get_liquidity_0(x, sp, sb)\n",
    "    y = calculate_y(L, sp, sa, sb)\n",
    "    print(\"amount of USDC y={:.2f}\".format(y))\n",
    "\n",
    "    # demonstrate that with the calculated y value, the given range is correct\n",
    "    c = sb / sp\n",
    "    d = sa / sp\n",
    "    ic = calculate_c(p, d, x, y)\n",
    "    id = calculate_d(p, c, x, y)\n",
    "    C = ic ** 2\n",
    "    D = id ** 2\n",
    "    print(\"p_a={:.2f} ({:.2f}% of P), p_b={:.2f} ({:.2f}% of P)\".format(\n",
    "        D * p, D * 100, C * p, C * 100))\n",
    "    print(\"\")\n",
    "\n",
    "#\n",
    "# Example 2 from the technical note\n",
    "#\n",
    "def example_2():\n",
    "    print(\"Example 2: I have 2 ETH and 4000 USDC, range top set to 3000 USDC. What's the bottom of the range?\")\n",
    "    p = 2000\n",
    "    b = 3000\n",
    "    x = 2\n",
    "    y = 4000\n",
    "\n",
    "    sp = p ** 0.5\n",
    "    sb = b ** 0.5\n",
    "\n",
    "    a = calculate_a2(sp, sb, x, y)\n",
    "    print(\"lower bound of the price p_a={:.2f}\".format(a))\n",
    "    print(\"\")\n",
    "\n",
    "\n",
    "#\n",
    "# Example 3 from the technical note\n",
    "#\n",
    "def example_3():\n",
    "    print(\"Example 3: Using the position created in Example 2, what are asset balances at 2500 USDC per ETH?\")\n",
    "    p = 2000\n",
    "    a = 1333.33\n",
    "    b = 3000\n",
    "    x = 2\n",
    "    y = 4000\n",
    "\n",
    "    sp = p ** 0.5\n",
    "    sa = a ** 0.5\n",
    "    sb = b ** 0.5\n",
    "    # calculate the initial liquidity\n",
    "    L = get_liquidity(x, y, sp, sa, sb)\n",
    "\n",
    "    P1 = 2500\n",
    "    sp1 = P1 ** 0.5\n",
    "\n",
    "    x1 = calculate_x(L, sp1, sa, sb)\n",
    "    y1 = calculate_y(L, sp1, sa, sb)\n",
    "    print(\"Amount of ETH x={:.2f} amount of USDC y={:.2f}\".format(x1, y1))\n",
    "\n",
    "    # alternative way, directly based on the whitepaper\n",
    "\n",
    "    # this delta math only works if the price is in the range (including at its endpoints),\n",
    "    # so limit the square roots of prices to the range first\n",
    "    sp = max(min(sp, sb), sa)\n",
    "    sp1 = max(min(sp1, sb), sa)\n",
    "\n",
    "    delta_p = sp1 - sp\n",
    "    delta_inv_p = 1/sp1 - 1/sp\n",
    "    delta_x = delta_inv_p * L\n",
    "    delta_y = delta_p * L\n",
    "    x1 = x + delta_x\n",
    "    y1 = y + delta_y\n",
    "    print(\"delta_x={:.2f} delta_y={:.2f}\".format(delta_x, delta_y))\n",
    "    print(\"Amount of ETH x={:.2f} amount of USDC y={:.2f}\".format(x1, y1))\n",
    "\n",
    "\n",
    "def examples():\n",
    "    example_1()\n",
    "    example_2()\n",
    "    example_3()\n",
    "\n",
    "def main():\n",
    "    # test with some values taken from Uniswap UI\n",
    "    tests()\n",
    "    # demonstrate the examples given in the paper\n",
    "    examples()"
   ]
  },
  {
   "cell_type": "code",
   "execution_count": 4,
   "outputs": [
    {
     "name": "stdout",
     "output_type": "stream",
     "text": [
      "how much of USDC I need when providing 0.21 ETH at this price and range?\n",
      "amount of USDC y=994.25\n",
      "p_a=1800.90 (99.64% of P), p_b=1809.90 (100.14% of P)\n",
      "\n"
     ]
    },
    {
     "data": {
      "text/plain": "994.2547194451286"
     },
     "execution_count": 4,
     "metadata": {},
     "output_type": "execute_result"
    }
   ],
   "source": [
    "def example_current1(p, a, b, x):\n",
    "    print(\"how much of USDC I need when providing {} ETH at this price and range?\".format(x))\n",
    "\n",
    "    sp = p ** 0.5\n",
    "    sa = a ** 0.5\n",
    "    sb = b ** 0.5\n",
    "    L = get_liquidity_0(x, sp, sb)\n",
    "    y = calculate_y(L, sp, sa, sb)\n",
    "    print(\"amount of USDC y={:.2f}\".format(y))\n",
    "\n",
    "    # demonstrate that with the calculated y value, the given range is correct\n",
    "    c = sb / sp\n",
    "    d = sa / sp\n",
    "    ic = calculate_c(p, d, x, y)\n",
    "    id = calculate_d(p, c, x, y)\n",
    "    C = ic ** 2\n",
    "    D = id ** 2\n",
    "    print(\"p_a={:.2f} ({:.2f}% of P), p_b={:.2f} ({:.2f}% of P)\".format(\n",
    "        D * p, D * 100, C * p, C * 100))\n",
    "    print(\"\")\n",
    "    return y\n",
    "\n",
    "\n",
    "# the answer is right based on uniswap UI test\n",
    "example_current1(1807.41, 1800.9, 1809.9, 0.21)"
   ],
   "metadata": {
    "collapsed": false,
    "pycharm": {
     "name": "#%%\n"
    }
   }
  },
  {
   "cell_type": "code",
   "execution_count": 5,
   "outputs": [
    {
     "name": "stdout",
     "output_type": "stream",
     "text": [
      "how much of USDC I need when providing 1 ETH at this price and range?\n",
      "amount of USDC y=2433.73\n",
      "p_a=1699.40 (88.78% of P), p_b=2100.69 (109.75% of P)\n",
      "\n",
      "2433.7275169918166\n"
     ]
    }
   ],
   "source": [
    "p = 1914.15\n",
    "a = 1699.4\n",
    "b = 2100.69\n",
    "x = 1\n",
    "y = example_current1(p, a, b, x)\n",
    "print(y)"
   ],
   "metadata": {
    "collapsed": false,
    "pycharm": {
     "name": "#%%\n"
    }
   }
  },
  {
   "cell_type": "code",
   "execution_count": 28,
   "outputs": [
    {
     "name": "stdout",
     "output_type": "stream",
     "text": [
      "Example 3: Using the position created in Example 2, what are asset balances at 1699.4 USDC per ETH?\n",
      "Amount of ETH x=2.3494 amount of USDC y=0.0000\n"
     ]
    },
    {
     "data": {
      "text/plain": "(2.3493858809146984, 0.0)"
     },
     "execution_count": 28,
     "metadata": {},
     "output_type": "execute_result"
    }
   ],
   "source": [
    "#\n",
    "# Example 3 from the technical note\n",
    "#\n",
    "def example_current3(p, a, b, x, y, P1):\n",
    "    print(\"Example 3: Using the position created in Example 2, what are asset balances at {} USDC per ETH?\".format(P1))\n",
    "    # p = 1807.23\n",
    "    # a = 1699.4\n",
    "    # b = 2100.69\n",
    "    # x = 0.9999\n",
    "    # y = 4000\n",
    "\n",
    "    sp = p ** 0.5\n",
    "    sa = a ** 0.5\n",
    "    sb = b ** 0.5\n",
    "    # calculate the initial liquidity\n",
    "    L = get_liquidity(x, y, sp, sa, sb)\n",
    "\n",
    "    # P1 = 1807.23\n",
    "    sp1 = P1 ** 0.5\n",
    "\n",
    "    x1 = calculate_x(L, sp1, sa, sb)\n",
    "    y1 = calculate_y(L, sp1, sa, sb)\n",
    "    print(\"Amount of ETH x={:.4f} amount of USDC y={:.4f}\".format(x1, y1))\n",
    "\n",
    "    # alternative way, directly based on the whitepaper\n",
    "\n",
    "    # this delta math only works if the price is in the range (including at its endpoints),\n",
    "    # so limit the square roots of prices to the range first\n",
    "    # sp = max(min(sp, sb), sa)\n",
    "    # sp1 = max(min(sp1, sb), sa)\n",
    "    #\n",
    "    # delta_p = sp1 - sp\n",
    "    # delta_inv_p = 1/sp1 - 1/sp\n",
    "    # delta_x = delta_inv_p * L\n",
    "    # delta_y = delta_p * L\n",
    "    # x1 = x + delta_x\n",
    "    # y1 = y + delta_y\n",
    "    # print(\"delta_x={:.4f} delta_y={:.4f}\".format(delta_x, delta_y))\n",
    "    # print(\"Amount of ETH x={:.4f} amount of USDC y={:.4f}\".format(x1, y1))\n",
    "    return x1, y1\n",
    "\n",
    "\n",
    "\n",
    "example_current3(p, a, b, x, y, a)"
   ],
   "metadata": {
    "collapsed": false,
    "pycharm": {
     "name": "#%%\n"
    }
   }
  },
  {
   "cell_type": "code",
   "execution_count": 8,
   "outputs": [
    {
     "name": "stdout",
     "output_type": "stream",
     "text": [
      "Example 3: Using the position created in Example 2, what are asset balances at 1699.4 USDC per ETH?\n",
      "Amount of ETH x=2.3494 amount of USDC y=0.0000\n",
      "delta_x=1.3494 delta_y=-2433.7275\n",
      "Amount of ETH x=2.3494 amount of USDC y=0.0000\n",
      "gain amount: 1.3493858809147006, sell price: 1803.5815784155675\n"
     ]
    }
   ],
   "source": [
    "def calculate_lower_bound_sale_price():\n",
    "    x1, y1 = example_current3(p, a, b, x, y, a)\n",
    "    sell_amount = x1 - x\n",
    "    sell_price = y/sell_amount\n",
    "    print(\"gain amount: {}, sell price: {}\".format(sell_amount, sell_price))\n",
    "\n",
    "\n",
    "calculate_lower_bound_sale_price()"
   ],
   "metadata": {
    "collapsed": false,
    "pycharm": {
     "name": "#%%\n"
    }
   }
  },
  {
   "cell_type": "code",
   "execution_count": 9,
   "outputs": [
    {
     "name": "stdout",
     "output_type": "stream",
     "text": [
      "Example 3: Using the position created in Example 2, what are asset balances at 2100.69 USDC per ETH?\n",
      "Amount of ETH x=0.0000 amount of USDC y=4438.9796\n",
      "delta_x=-1.0000 delta_y=2005.2520\n",
      "Amount of ETH x=-0.0000 amount of USDC y=4438.9796\n",
      "gain amount: 1, sell price: 2005.252044881142\n"
     ]
    }
   ],
   "source": [
    "def calculate_upper_bound_sale_price():\n",
    "    x1, y1 = example_current3(p, a, b, x, y, b)\n",
    "    sell_amount = x\n",
    "    sell_price = (y1-y)/sell_amount\n",
    "    print(\"gain amount: {}, sell price: {}\".format(sell_amount, sell_price))\n",
    "\n",
    "\n",
    "calculate_upper_bound_sale_price()"
   ],
   "metadata": {
    "collapsed": false,
    "pycharm": {
     "name": "#%%\n"
    }
   }
  },
  {
   "cell_type": "code",
   "execution_count": 16,
   "outputs": [
    {
     "name": "stdout",
     "output_type": "stream",
     "text": [
      "Example 3: Using the position created in Example 2, what are asset balances at 1699.4 USDC per ETH?\n",
      "Amount of ETH x=2.3494 amount of USDC y=0.0000\n",
      "delta_x=1.3494 delta_y=-2433.7275\n",
      "Amount of ETH x=2.3494 amount of USDC y=0.0000\n",
      "Example 3: Using the position created in Example 2, what are asset balances at 2100.69 USDC per ETH?\n",
      "Amount of ETH x=0.0000 amount of USDC y=4438.9796\n",
      "delta_x=-1.0000 delta_y=2005.2520\n",
      "Amount of ETH x=-0.0000 amount of USDC y=4438.9796\n",
      "963.0056307423113\n",
      "963.0056307423121\n",
      "963.0056307423113\n"
     ]
    }
   ],
   "source": [
    "def get_liquidity(x, y, sp, sa, sb):\n",
    "    if sp <= sa:\n",
    "        liquidity = get_liquidity_0(x, sa, sb)\n",
    "    elif sp < sb:\n",
    "        liquidity0 = get_liquidity_0(x, sp, sb)\n",
    "        liquidity1 = get_liquidity_1(y, sa, sp)\n",
    "        liquidity = min(liquidity0, liquidity1)\n",
    "    else:\n",
    "        liquidity = get_liquidity_1(y, sa, sb)\n",
    "    return liquidity\n",
    "\n",
    "\n",
    "x1, y1 = example_current3(p, a, b, x, y, a)\n",
    "x2, y2 = example_current3(p, a, b, x, y, b)\n",
    "sa = a ** 0.5\n",
    "sb = b ** 0.5\n",
    "sp = p ** 0.5\n",
    "\n",
    "print(get_liquidity(x, y, sp, sa, sb))\n",
    "print(get_liquidity(x1, y1, sa, sa, sb))\n",
    "print(get_liquidity(x2, y2, sb, sa, sb))"
   ],
   "metadata": {
    "collapsed": false,
    "pycharm": {
     "name": "#%%\n"
    }
   }
  },
  {
   "cell_type": "code",
   "execution_count": 38,
   "outputs": [
    {
     "name": "stdout",
     "output_type": "stream",
     "text": [
      "how much of USDC I need when providing 1 ETH at this price and range?\n",
      "amount of USDC y=2423.46\n",
      "p_a=1800.90 (94.08% of P), p_b=2008.30 (104.92% of P)\n",
      "\n",
      "2423.459256772404\n"
     ]
    }
   ],
   "source": [
    "tp = 1914.15\n",
    "ta = 1800.9\n",
    "tb = 2008.3\n",
    "tx = 1\n",
    "ty = example_current1(tp, ta, tb, tx)\n",
    "print(ty)"
   ],
   "metadata": {
    "collapsed": false,
    "pycharm": {
     "name": "#%%\n"
    }
   }
  },
  {
   "cell_type": "code",
   "execution_count": 39,
   "outputs": [
    {
     "name": "stdout",
     "output_type": "stream",
     "text": [
      "Example 3: Using the position created in Example 2, what are asset balances at 1800.9 USDC per ETH?\n",
      "Amount of ETH x=2.3053 amount of USDC y=0.0000\n",
      "\n",
      "Example 3: Using the position created in Example 2, what are asset balances at 2008.3 USDC per ETH?\n",
      "Amount of ETH x=0.0000 amount of USDC y=4384.1192\n",
      "\n",
      "Example 3: Using the position created in Example 2, what are asset balances at 1799.9 USDC per ETH?\n",
      "Amount of ETH x=2.3053 amount of USDC y=0.0000\n",
      "\n",
      "Example 3: Using the position created in Example 2, what are asset balances at 2009.3 USDC per ETH?\n",
      "Amount of ETH x=0.0000 amount of USDC y=4384.1192\n"
     ]
    }
   ],
   "source": [
    "tx1, ty1 = example_current3(tp, ta, tb, tx, ty, ta)\n",
    "print()\n",
    "tx2, ty2 = example_current3(tp, ta, tb, tx, ty, tb)\n",
    "print()\n",
    "\n",
    "tx3, ty3 = example_current3(tp, ta, tb, tx, ty, ta - 1)\n",
    "print()\n",
    "\n",
    "tx4, ty4 = example_current3(tp, ta, tb, tx, ty, tb + 1)"
   ],
   "metadata": {
    "collapsed": false,
    "pycharm": {
     "name": "#%%\n"
    }
   }
  },
  {
   "cell_type": "code",
   "execution_count": 40,
   "outputs": [
    {
     "name": "stdout",
     "output_type": "stream",
     "text": [
      "1844.3544002982173\n",
      "1844.3544002982176\n",
      "1844.3544002982176\n",
      "1844.3544002982176\n",
      "1844.3544002982176\n"
     ]
    }
   ],
   "source": [
    "sa = ta ** 0.5\n",
    "sb = tb ** 0.5\n",
    "sp = tp ** 0.5\n",
    "sp1 = sa\n",
    "sp2 = sb\n",
    "sp3 = (ta-1) ** 0.5\n",
    "sp4 = (tb+1) ** 0.5\n",
    "\n",
    "print(get_liquidity(tx, ty, sp, sa, sb))\n",
    "print(get_liquidity(tx1, ty1, sp1, sa, sb))\n",
    "print(get_liquidity(tx2, ty2, sp2, sa, sb))\n",
    "print(get_liquidity(tx3, ty3, sp3, sa, sb))\n",
    "print(get_liquidity(tx4, ty4, sp4, sa, sb))"
   ],
   "metadata": {
    "collapsed": false,
    "pycharm": {
     "name": "#%%\n"
    }
   }
  },
  {
   "cell_type": "code",
   "execution_count": 13,
   "outputs": [
    {
     "name": "stdout",
     "output_type": "stream",
     "text": [
      "Center locked usdc rate: 21.32%, locked eth rate: 43.94%\n",
      "Center locked usdc rate: 48.40%, locked eth rate: 76.99%\n"
     ]
    }
   ],
   "source": [
    "def print_agg_rate(usdc_amount, eth_amount, usdc_all_amount, eth_all_amount):\n",
    "    print(\"Center locked usdc rate: {:.2f}%, locked eth rate: {:.2f}%\".format(usdc_amount * 100/usdc_all_amount, eth_amount * 100/eth_all_amount))\n",
    "\n",
    "\n",
    "print_agg_rate(29276531, 27795, 137293096, 63250)\n",
    "print_agg_rate(16089559, 13854, 33240711, 17995)"
   ],
   "metadata": {
    "collapsed": false,
    "pycharm": {
     "name": "#%%\n"
    }
   }
  },
  {
   "cell_type": "code",
   "execution_count": null,
   "outputs": [],
   "source": [],
   "metadata": {
    "collapsed": false,
    "pycharm": {
     "name": "#%%\n"
    }
   }
  },
  {
   "cell_type": "code",
   "execution_count": null,
   "outputs": [],
   "source": [],
   "metadata": {
    "collapsed": false,
    "pycharm": {
     "name": "#%%\n"
    }
   }
  },
  {
   "cell_type": "code",
   "execution_count": null,
   "outputs": [],
   "source": [],
   "metadata": {
    "collapsed": false,
    "pycharm": {
     "name": "#%%\n"
    }
   }
  },
  {
   "cell_type": "code",
   "execution_count": null,
   "outputs": [],
   "source": [],
   "metadata": {
    "collapsed": false,
    "pycharm": {
     "name": "#%%\n"
    }
   }
  },
  {
   "cell_type": "code",
   "execution_count": null,
   "outputs": [],
   "source": [],
   "metadata": {
    "collapsed": false,
    "pycharm": {
     "name": "#%%\n"
    }
   }
  },
  {
   "cell_type": "code",
   "execution_count": null,
   "outputs": [],
   "source": [],
   "metadata": {
    "collapsed": false,
    "pycharm": {
     "name": "#%%\n"
    }
   }
  }
 ],
 "metadata": {
  "kernelspec": {
   "display_name": "Python 3",
   "language": "python",
   "name": "python3"
  },
  "language_info": {
   "codemirror_mode": {
    "name": "ipython",
    "version": 2
   },
   "file_extension": ".py",
   "mimetype": "text/x-python",
   "name": "python",
   "nbconvert_exporter": "python",
   "pygments_lexer": "ipython2",
   "version": "2.7.6"
  }
 },
 "nbformat": 4,
 "nbformat_minor": 0
}