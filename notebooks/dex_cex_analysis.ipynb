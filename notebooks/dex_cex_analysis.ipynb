{
 "cells": [
  {
   "cell_type": "code",
   "execution_count": 1,
   "outputs": [
    {
     "name": "stdout",
     "output_type": "stream",
     "text": [
      "1684800000\n",
      "1685059200\n"
     ]
    }
   ],
   "source": [
    "from datetime import datetime\n",
    "from utils import utils\n",
    "\n",
    "\n",
    "start_timestamp = utils.date_to_utc_timestamp(datetime(2023, 5, 23, 0, 0))\n",
    "end_timestamp = utils.date_to_utc_timestamp(datetime(2023, 5, 26, 0, 0))\n",
    "print(start_timestamp)\n",
    "print(end_timestamp)"
   ],
   "metadata": {
    "collapsed": false,
    "pycharm": {
     "name": "#%%\n"
    }
   }
  },
  {
   "cell_type": "code",
   "execution_count": 2,
   "outputs": [
    {
     "data": {
      "text/plain": "         time     high      low     open  volumefrom   volumeto    close  \\\n0  1684800000  1818.27  1817.80  1817.80       54.66   99368.32  1818.17   \n1  1684800060  1818.40  1818.17  1818.17       38.42   69844.82  1818.38   \n2  1684800120  1818.48  1818.23  1818.38       30.73   55879.84  1818.41   \n3  1684800180  1818.99  1818.41  1818.41      101.61  184832.72  1818.85   \n4  1684800240  1818.93  1818.52  1818.85       47.14   85728.63  1818.85   \n\n  conversionType conversionSymbol  \n0         direct              NaN  \n1         direct              NaN  \n2         direct              NaN  \n3         direct              NaN  \n4         direct              NaN  ",
      "text/html": "<div>\n<style scoped>\n    .dataframe tbody tr th:only-of-type {\n        vertical-align: middle;\n    }\n\n    .dataframe tbody tr th {\n        vertical-align: top;\n    }\n\n    .dataframe thead th {\n        text-align: right;\n    }\n</style>\n<table border=\"1\" class=\"dataframe\">\n  <thead>\n    <tr style=\"text-align: right;\">\n      <th></th>\n      <th>time</th>\n      <th>high</th>\n      <th>low</th>\n      <th>open</th>\n      <th>volumefrom</th>\n      <th>volumeto</th>\n      <th>close</th>\n      <th>conversionType</th>\n      <th>conversionSymbol</th>\n    </tr>\n  </thead>\n  <tbody>\n    <tr>\n      <th>0</th>\n      <td>1684800000</td>\n      <td>1818.27</td>\n      <td>1817.80</td>\n      <td>1817.80</td>\n      <td>54.66</td>\n      <td>99368.32</td>\n      <td>1818.17</td>\n      <td>direct</td>\n      <td>NaN</td>\n    </tr>\n    <tr>\n      <th>1</th>\n      <td>1684800060</td>\n      <td>1818.40</td>\n      <td>1818.17</td>\n      <td>1818.17</td>\n      <td>38.42</td>\n      <td>69844.82</td>\n      <td>1818.38</td>\n      <td>direct</td>\n      <td>NaN</td>\n    </tr>\n    <tr>\n      <th>2</th>\n      <td>1684800120</td>\n      <td>1818.48</td>\n      <td>1818.23</td>\n      <td>1818.38</td>\n      <td>30.73</td>\n      <td>55879.84</td>\n      <td>1818.41</td>\n      <td>direct</td>\n      <td>NaN</td>\n    </tr>\n    <tr>\n      <th>3</th>\n      <td>1684800180</td>\n      <td>1818.99</td>\n      <td>1818.41</td>\n      <td>1818.41</td>\n      <td>101.61</td>\n      <td>184832.72</td>\n      <td>1818.85</td>\n      <td>direct</td>\n      <td>NaN</td>\n    </tr>\n    <tr>\n      <th>4</th>\n      <td>1684800240</td>\n      <td>1818.93</td>\n      <td>1818.52</td>\n      <td>1818.85</td>\n      <td>47.14</td>\n      <td>85728.63</td>\n      <td>1818.85</td>\n      <td>direct</td>\n      <td>NaN</td>\n    </tr>\n  </tbody>\n</table>\n</div>"
     },
     "execution_count": 2,
     "metadata": {},
     "output_type": "execute_result"
    }
   ],
   "source": [
    "import pandas as pd\n",
    "\n",
    "kucoin_df = pd.read_csv(\"../data/kucoin_eth_price.csv\")\n",
    "kucoin_df.head()"
   ],
   "metadata": {
    "collapsed": false,
    "pycharm": {
     "name": "#%%\n"
    }
   }
  },
  {
   "cell_type": "code",
   "execution_count": 36,
   "outputs": [
    {
     "name": "stdout",
     "output_type": "stream",
     "text": [
      "Start processing, current time:  2023-05-26 00:00:00+00:00\n",
      "Start processing, current time:  2023-05-25 07:19:00+00:00\n",
      "Start processing, current time:  2023-05-24 14:38:00+00:00\n",
      "Start processing, current time:  2023-05-23 21:57:00+00:00\n",
      "Start processing, current time:  2023-05-23 05:16:00+00:00\n",
      "4321\n"
     ]
    }
   ],
   "source": [
    "# save kucoin price weekly data\n",
    "import requests\n",
    "\n",
    "\n",
    "kucoin_url = \"https://min-api.cryptocompare.com/data/v2/histominute?fsym=ETH&tsym=USD&limit=1000&toTs={}\"\n",
    "\n",
    "current_timestamp = end_timestamp\n",
    "# current_timestamp = utils.date_to_utc_timestamp(datetime(2023, 5, 19, 1, 32))\n",
    "kucoin_result = []\n",
    "while current_timestamp >= start_timestamp:\n",
    "    print(\"Start processing, current time: \", utils.utc_timestamp_to_date(current_timestamp))\n",
    "    response = requests.get(kucoin_url.format(current_timestamp))\n",
    "    kucoin_data = response.json()['Data']\n",
    "    if not kucoin_data:\n",
    "        break\n",
    "    for d in kucoin_data['Data'][::-1]:\n",
    "        if d[\"time\"] >= start_timestamp:\n",
    "            kucoin_result.append(d)\n",
    "        else:\n",
    "            break\n",
    "    current_timestamp = kucoin_data['TimeFrom'] - 60\n",
    "\n",
    "kucoin_result = kucoin_result[::-1]\n",
    "\n",
    "print(len(kucoin_result))"
   ],
   "metadata": {
    "collapsed": false,
    "pycharm": {
     "name": "#%%\n"
    }
   }
  },
  {
   "cell_type": "code",
   "execution_count": 19,
   "outputs": [
    {
     "name": "stdout",
     "output_type": "stream",
     "text": [
      "{'time': 1684460940, 'high': 1798.38, 'low': 1797.75, 'open': 1797.75, 'volumefrom': 57.77, 'volumeto': 103880.66, 'close': 1798.05, 'conversionType': 'direct', 'conversionSymbol': ''}\n"
     ]
    }
   ],
   "source": [
    "print(kucoin_result[0])"
   ],
   "metadata": {
    "collapsed": false,
    "pycharm": {
     "name": "#%%\n"
    }
   }
  },
  {
   "cell_type": "code",
   "execution_count": 22,
   "outputs": [
    {
     "name": "stdout",
     "output_type": "stream",
     "text": [
      "100\n"
     ]
    }
   ],
   "source": [
    "# ARB graphQL\n",
    "from gql import gql, Client\n",
    "from gql.transport.requests import RequestsHTTPTransport\n",
    "\n",
    "\n",
    "\n",
    "arb_query = \"\"\"\n",
    "query {\n",
    "    swaps(skip: %d, orderBy: timestamp, orderDirection: asc,\n",
    "        where: { pool: \"0xc31e54c7a869b9fcbecc14363cf510d1c41fa443\", timestamp_gte: %d }){\n",
    "            id\n",
    "            amountIn\n",
    "            amountInUSD\n",
    "            amountOut\n",
    "            amountOutUSD\n",
    "            tick\n",
    "            timestamp\n",
    "            tokenIn {\n",
    "                symbol\n",
    "                decimals\n",
    "            }\n",
    "            tokenOut {\n",
    "                symbol\n",
    "                decimals\n",
    "            }\n",
    "    }\n",
    "}\n",
    "\"\"\"\n",
    "\n",
    "\n",
    "client = Client(\n",
    "    transport=RequestsHTTPTransport(\n",
    "        url='https://api.thegraph.com/subgraphs/name/messari/uniswap-v3-arbitrum',\n",
    "        verify=True,\n",
    "        retries=5,\n",
    "    ))\n",
    "\n",
    "# # variables = { \"num_skip\": 0, \"start_timestamp\": 1684460940 }\n",
    "# # response = client.execute(gql(arb_query), variable_values=variables)\n",
    "response = client.execute(gql(arb_query % (0, start_timestamp)))\n",
    "print(len(response[\"swaps\"]))"
   ],
   "metadata": {
    "collapsed": false,
    "pycharm": {
     "name": "#%%\n"
    }
   }
  },
  {
   "cell_type": "code",
   "execution_count": 23,
   "outputs": [
    {
     "name": "stdout",
     "output_type": "stream",
     "text": [
      "{'id': '0x13875c5e00916a733dbf870b03f29c7c0e2b575294ea3c17e3a123540b281eca0b000000', 'amountIn': '18509968', 'amountInUSD': '18.509968', 'amountOut': '10174988585088354', 'amountOutUSD': '18.50071257554249565419706', 'tick': '-201264', 'timestamp': '1684800030', 'tokenIn': {'symbol': 'USDC', 'decimals': 6}, 'tokenOut': {'symbol': 'WETH', 'decimals': 18}}\n"
     ]
    }
   ],
   "source": [
    "print(response[\"swaps\"][0])\n",
    "\n",
    "# temp\n",
    "result = []\n",
    "id_set = set()"
   ],
   "metadata": {
    "collapsed": false,
    "pycharm": {
     "name": "#%%\n"
    }
   }
  },
  {
   "cell_type": "code",
   "execution_count": 50,
   "outputs": [
    {
     "name": "stdout",
     "output_type": "stream",
     "text": [
      "2023-05-26 19:06:51.391025 result cnt: 23386 id cnt: 23386 skip:  0\n",
      "Current time:  2023-05-24 13:52:26+00:00\n",
      "2023-05-26 19:06:56.193864 result cnt: 23386 id cnt: 23386 skip:  100\n",
      "Current time:  2023-05-24 13:52:26+00:00\n",
      "2023-05-26 19:07:00.436694 result cnt: 23486 id cnt: 23486 skip:  0\n",
      "Current time:  2023-05-24 13:55:08+00:00\n",
      "2023-05-26 19:07:04.621134 result cnt: 23585 id cnt: 23585 skip:  0\n",
      "Current time:  2023-05-24 13:58:02+00:00\n",
      "2023-05-26 19:07:08.786921 result cnt: 23684 id cnt: 23684 skip:  0\n",
      "Current time:  2023-05-24 14:02:25+00:00\n",
      "2023-05-26 19:07:13.029153 result cnt: 23783 id cnt: 23783 skip:  0\n",
      "Current time:  2023-05-24 14:06:10+00:00\n",
      "2023-05-26 19:07:17.294734 result cnt: 23879 id cnt: 23879 skip:  0\n",
      "Current time:  2023-05-24 14:06:43+00:00\n",
      "2023-05-26 19:07:21.578973 result cnt: 23977 id cnt: 23977 skip:  0\n",
      "Current time:  2023-05-24 14:08:55+00:00\n",
      "2023-05-26 19:07:25.795697 result cnt: 24076 id cnt: 24076 skip:  0\n",
      "Current time:  2023-05-24 14:13:49+00:00\n",
      "2023-05-26 19:07:30.054301 result cnt: 24175 id cnt: 24175 skip:  0\n",
      "Current time:  2023-05-24 14:17:18+00:00\n",
      "2023-05-26 19:07:34.216141 result cnt: 24274 id cnt: 24274 skip:  0\n",
      "Current time:  2023-05-24 14:20:07+00:00\n",
      "2023-05-26 19:07:38.442927 result cnt: 24372 id cnt: 24372 skip:  0\n",
      "Current time:  2023-05-24 14:24:45+00:00\n",
      "2023-05-26 19:07:42.631728 result cnt: 24471 id cnt: 24471 skip:  0\n",
      "Current time:  2023-05-24 14:33:31+00:00\n",
      "2023-05-26 19:07:46.902661 result cnt: 24565 id cnt: 24565 skip:  0\n",
      "Current time:  2023-05-24 14:37:05+00:00\n",
      "2023-05-26 19:07:51.121960 result cnt: 24664 id cnt: 24664 skip:  0\n",
      "Current time:  2023-05-24 14:44:38+00:00\n",
      "2023-05-26 19:07:55.283264 result cnt: 24762 id cnt: 24762 skip:  0\n",
      "Current time:  2023-05-24 14:49:35+00:00\n",
      "2023-05-26 19:07:59.563502 result cnt: 24861 id cnt: 24861 skip:  0\n",
      "Current time:  2023-05-24 14:58:18+00:00\n",
      "2023-05-26 19:08:03.773267 result cnt: 24960 id cnt: 24960 skip:  0\n",
      "Current time:  2023-05-24 15:03:08+00:00\n",
      "2023-05-26 19:08:07.929529 result cnt: 25059 id cnt: 25059 skip:  0\n",
      "Current time:  2023-05-24 15:06:49+00:00\n",
      "2023-05-26 19:08:12.273767 result cnt: 25155 id cnt: 25155 skip:  0\n",
      "Current time:  2023-05-24 15:10:10+00:00\n",
      "2023-05-26 19:08:16.485907 result cnt: 25254 id cnt: 25254 skip:  0\n",
      "Current time:  2023-05-24 15:13:26+00:00\n",
      "2023-05-26 19:08:20.683954 result cnt: 25352 id cnt: 25352 skip:  0\n",
      "Current time:  2023-05-24 15:16:45+00:00\n",
      "2023-05-26 19:08:24.905994 result cnt: 25451 id cnt: 25451 skip:  0\n",
      "Current time:  2023-05-24 15:24:05+00:00\n",
      "2023-05-26 19:08:29.044222 result cnt: 25550 id cnt: 25550 skip:  0\n",
      "Current time:  2023-05-24 15:30:20+00:00\n",
      "2023-05-26 19:08:33.273962 result cnt: 25649 id cnt: 25649 skip:  0\n",
      "Current time:  2023-05-24 15:38:44+00:00\n",
      "2023-05-26 19:08:37.670437 result cnt: 25748 id cnt: 25748 skip:  0\n",
      "Current time:  2023-05-24 15:44:53+00:00\n",
      "2023-05-26 19:08:42.012309 result cnt: 25846 id cnt: 25846 skip:  0\n",
      "Current time:  2023-05-24 15:53:31+00:00\n",
      "2023-05-26 19:08:46.246355 result cnt: 25945 id cnt: 25945 skip:  0\n",
      "Current time:  2023-05-24 16:03:22+00:00\n",
      "2023-05-26 19:08:50.514255 result cnt: 26044 id cnt: 26044 skip:  0\n",
      "Current time:  2023-05-24 16:11:07+00:00\n",
      "2023-05-26 19:08:54.907054 result cnt: 26143 id cnt: 26143 skip:  0\n",
      "Current time:  2023-05-24 16:17:01+00:00\n",
      "2023-05-26 19:08:59.310398 result cnt: 26242 id cnt: 26242 skip:  0\n",
      "Current time:  2023-05-24 16:26:23+00:00\n",
      "2023-05-26 19:09:03.592546 result cnt: 26341 id cnt: 26341 skip:  0\n",
      "Current time:  2023-05-24 16:36:14+00:00\n",
      "2023-05-26 19:09:07.816072 result cnt: 26440 id cnt: 26440 skip:  0\n",
      "Current time:  2023-05-24 16:41:20+00:00\n",
      "2023-05-26 19:09:11.994192 result cnt: 26539 id cnt: 26539 skip:  0\n",
      "Current time:  2023-05-24 16:48:54+00:00\n",
      "2023-05-26 19:09:16.374745 result cnt: 26638 id cnt: 26638 skip:  0\n",
      "Current time:  2023-05-24 16:59:54+00:00\n",
      "2023-05-26 19:09:20.597204 result cnt: 26736 id cnt: 26736 skip:  0\n",
      "Current time:  2023-05-24 17:08:30+00:00\n",
      "2023-05-26 19:09:24.904323 result cnt: 26835 id cnt: 26835 skip:  0\n",
      "Current time:  2023-05-24 17:15:26+00:00\n",
      "2023-05-26 19:09:29.091267 result cnt: 26934 id cnt: 26934 skip:  0\n",
      "Current time:  2023-05-24 17:22:43+00:00\n",
      "2023-05-26 19:09:33.485182 result cnt: 27032 id cnt: 27032 skip:  0\n",
      "Current time:  2023-05-24 17:31:54+00:00\n",
      "2023-05-26 19:09:37.860312 result cnt: 27131 id cnt: 27131 skip:  0\n",
      "Current time:  2023-05-24 17:43:24+00:00\n",
      "2023-05-26 19:09:42.227826 result cnt: 27230 id cnt: 27230 skip:  0\n",
      "Current time:  2023-05-24 18:00:08+00:00\n",
      "2023-05-26 19:09:46.577905 result cnt: 27324 id cnt: 27324 skip:  0\n",
      "Current time:  2023-05-24 18:07:08+00:00\n",
      "2023-05-26 19:09:50.858703 result cnt: 27423 id cnt: 27423 skip:  0\n",
      "Current time:  2023-05-24 18:16:53+00:00\n",
      "2023-05-26 19:09:55.103916 result cnt: 27522 id cnt: 27522 skip:  0\n",
      "Current time:  2023-05-24 18:30:50+00:00\n",
      "2023-05-26 19:09:59.640112 result cnt: 27621 id cnt: 27621 skip:  0\n",
      "Current time:  2023-05-24 18:47:26+00:00\n",
      "2023-05-26 19:10:03.824156 result cnt: 27720 id cnt: 27720 skip:  0\n",
      "Current time:  2023-05-24 18:59:43+00:00\n",
      "2023-05-26 19:10:08.052833 result cnt: 27819 id cnt: 27819 skip:  0\n",
      "Current time:  2023-05-24 19:18:31+00:00\n",
      "2023-05-26 19:10:12.186262 result cnt: 27918 id cnt: 27918 skip:  0\n",
      "Current time:  2023-05-24 19:24:59+00:00\n",
      "2023-05-26 19:10:16.535035 result cnt: 28017 id cnt: 28017 skip:  0\n",
      "Current time:  2023-05-24 19:33:17+00:00\n",
      "2023-05-26 19:10:20.795252 result cnt: 28115 id cnt: 28115 skip:  0\n",
      "Current time:  2023-05-24 19:42:04+00:00\n",
      "2023-05-26 19:10:24.955594 result cnt: 28214 id cnt: 28214 skip:  0\n",
      "Current time:  2023-05-24 19:55:47+00:00\n",
      "2023-05-26 19:10:29.124337 result cnt: 28313 id cnt: 28313 skip:  0\n",
      "Current time:  2023-05-24 20:17:23+00:00\n",
      "2023-05-26 19:10:33.551193 result cnt: 28412 id cnt: 28412 skip:  0\n",
      "Current time:  2023-05-24 20:24:13+00:00\n",
      "2023-05-26 19:10:37.778863 result cnt: 28508 id cnt: 28508 skip:  0\n",
      "Current time:  2023-05-24 20:28:45+00:00\n",
      "2023-05-26 19:10:42.099052 result cnt: 28606 id cnt: 28606 skip:  0\n",
      "Current time:  2023-05-24 20:31:39+00:00\n",
      "2023-05-26 19:10:46.402764 result cnt: 28704 id cnt: 28704 skip:  0\n",
      "Current time:  2023-05-24 20:35:31+00:00\n",
      "2023-05-26 19:10:50.649703 result cnt: 28803 id cnt: 28803 skip:  0\n",
      "Current time:  2023-05-24 20:44:15+00:00\n",
      "2023-05-26 19:10:55.091194 result cnt: 28902 id cnt: 28902 skip:  0\n",
      "Current time:  2023-05-24 20:52:59+00:00\n",
      "2023-05-26 19:10:59.341408 result cnt: 29001 id cnt: 29001 skip:  0\n",
      "Current time:  2023-05-24 20:57:05+00:00\n",
      "2023-05-26 19:11:03.684617 result cnt: 29100 id cnt: 29100 skip:  0\n",
      "Current time:  2023-05-24 21:02:02+00:00\n",
      "2023-05-26 19:11:07.999505 result cnt: 29199 id cnt: 29199 skip:  0\n",
      "Current time:  2023-05-24 21:18:05+00:00\n",
      "2023-05-26 19:11:12.331325 result cnt: 29297 id cnt: 29297 skip:  0\n",
      "Current time:  2023-05-24 21:26:27+00:00\n",
      "2023-05-26 19:11:16.545036 result cnt: 29396 id cnt: 29396 skip:  0\n",
      "Current time:  2023-05-24 21:45:03+00:00\n",
      "2023-05-26 19:11:20.856796 result cnt: 29495 id cnt: 29495 skip:  0\n",
      "Current time:  2023-05-24 21:46:35+00:00\n",
      "2023-05-26 19:11:25.476454 result cnt: 29585 id cnt: 29585 skip:  0\n",
      "Current time:  2023-05-24 21:50:15+00:00\n",
      "2023-05-26 19:11:29.620354 result cnt: 29684 id cnt: 29684 skip:  0\n",
      "Current time:  2023-05-24 22:00:52+00:00\n",
      "2023-05-26 19:11:33.742657 result cnt: 29782 id cnt: 29782 skip:  0\n",
      "Current time:  2023-05-24 22:21:07+00:00\n",
      "2023-05-26 19:11:37.889982 result cnt: 29881 id cnt: 29881 skip:  0\n",
      "Current time:  2023-05-24 22:35:37+00:00\n",
      "2023-05-26 19:11:42.261384 result cnt: 29980 id cnt: 29980 skip:  0\n",
      "Current time:  2023-05-24 22:52:14+00:00\n",
      "2023-05-26 19:11:46.372530 result cnt: 30073 id cnt: 30073 skip:  0\n",
      "Current time:  2023-05-24 23:10:11+00:00\n",
      "2023-05-26 19:11:50.646460 result cnt: 30171 id cnt: 30171 skip:  0\n",
      "Current time:  2023-05-24 23:27:39+00:00\n",
      "2023-05-26 19:11:54.922733 result cnt: 30270 id cnt: 30270 skip:  0\n",
      "Current time:  2023-05-24 23:49:39+00:00\n",
      "2023-05-26 19:11:59.105157 result cnt: 30369 id cnt: 30369 skip:  0\n",
      "Current time:  2023-05-25 00:01:47+00:00\n",
      "2023-05-26 19:12:03.270721 result cnt: 30468 id cnt: 30468 skip:  0\n",
      "Current time:  2023-05-25 00:06:13+00:00\n",
      "2023-05-26 19:12:07.797245 result cnt: 30558 id cnt: 30558 skip:  0\n",
      "Current time:  2023-05-25 00:09:13+00:00\n",
      "2023-05-26 19:12:12.918054 result cnt: 30654 id cnt: 30654 skip:  0\n",
      "Current time:  2023-05-25 00:16:20+00:00\n",
      "2023-05-26 19:12:17.104746 result cnt: 30753 id cnt: 30753 skip:  0\n",
      "Current time:  2023-05-25 00:25:12+00:00\n",
      "2023-05-26 19:12:21.311971 result cnt: 30852 id cnt: 30852 skip:  0\n",
      "Current time:  2023-05-25 00:42:09+00:00\n",
      "2023-05-26 19:12:25.552959 result cnt: 30951 id cnt: 30951 skip:  0\n",
      "Current time:  2023-05-25 00:55:28+00:00\n",
      "2023-05-26 19:12:29.823528 result cnt: 31050 id cnt: 31050 skip:  0\n",
      "Current time:  2023-05-25 01:02:13+00:00\n",
      "2023-05-26 19:12:34.188164 result cnt: 31137 id cnt: 31137 skip:  0\n",
      "Current time:  2023-05-25 01:06:57+00:00\n",
      "2023-05-26 19:12:38.605279 result cnt: 31236 id cnt: 31236 skip:  0\n",
      "Current time:  2023-05-25 01:10:06+00:00\n",
      "2023-05-26 19:12:42.845331 result cnt: 31335 id cnt: 31335 skip:  0\n",
      "Current time:  2023-05-25 01:18:03+00:00\n",
      "2023-05-26 19:12:47.167879 result cnt: 31434 id cnt: 31434 skip:  0\n",
      "Current time:  2023-05-25 01:24:58+00:00\n",
      "2023-05-26 19:12:51.443288 result cnt: 31533 id cnt: 31533 skip:  0\n",
      "Current time:  2023-05-25 01:25:52+00:00\n",
      "2023-05-26 19:12:55.711217 result cnt: 31621 id cnt: 31621 skip:  0\n",
      "Current time:  2023-05-25 01:26:11+00:00\n",
      "2023-05-26 19:13:00.653151 result cnt: 31716 id cnt: 31716 skip:  0\n",
      "Current time:  2023-05-25 01:26:29+00:00\n",
      "2023-05-26 19:13:04.984953 result cnt: 31813 id cnt: 31813 skip:  0\n",
      "Current time:  2023-05-25 01:27:57+00:00\n",
      "2023-05-26 19:13:09.409278 result cnt: 31912 id cnt: 31912 skip:  0\n",
      "Current time:  2023-05-25 01:31:11+00:00\n",
      "2023-05-26 19:13:13.586241 result cnt: 32011 id cnt: 32011 skip:  0\n",
      "Current time:  2023-05-25 01:35:12+00:00\n",
      "2023-05-26 19:13:17.904766 result cnt: 32109 id cnt: 32109 skip:  0\n",
      "Current time:  2023-05-25 01:41:49+00:00\n",
      "2023-05-26 19:13:22.186551 result cnt: 32208 id cnt: 32208 skip:  0\n",
      "Current time:  2023-05-25 01:51:05+00:00\n",
      "2023-05-26 19:13:26.661615 result cnt: 32307 id cnt: 32307 skip:  0\n",
      "Current time:  2023-05-25 01:57:42+00:00\n",
      "2023-05-26 19:13:31.067557 result cnt: 32406 id cnt: 32406 skip:  0\n",
      "Current time:  2023-05-25 02:06:44+00:00\n",
      "2023-05-26 19:13:35.211916 result cnt: 32505 id cnt: 32505 skip:  0\n",
      "Current time:  2023-05-25 02:16:59+00:00\n",
      "2023-05-26 19:13:39.605116 result cnt: 32604 id cnt: 32604 skip:  0\n",
      "Current time:  2023-05-25 02:28:04+00:00\n",
      "2023-05-26 19:13:43.749773 result cnt: 32703 id cnt: 32703 skip:  0\n",
      "Current time:  2023-05-25 02:37:54+00:00\n",
      "2023-05-26 19:13:47.917035 result cnt: 32802 id cnt: 32802 skip:  0\n",
      "Current time:  2023-05-25 02:43:18+00:00\n",
      "2023-05-26 19:13:52.292833 result cnt: 32901 id cnt: 32901 skip:  0\n",
      "Current time:  2023-05-25 02:51:12+00:00\n",
      "2023-05-26 19:13:56.516541 result cnt: 33000 id cnt: 33000 skip:  0\n",
      "Current time:  2023-05-25 02:58:49+00:00\n",
      "2023-05-26 19:14:00.678688 result cnt: 33097 id cnt: 33097 skip:  0\n",
      "Current time:  2023-05-25 03:04:38+00:00\n",
      "2023-05-26 19:14:05.032883 result cnt: 33196 id cnt: 33196 skip:  0\n",
      "Current time:  2023-05-25 03:10:32+00:00\n",
      "2023-05-26 19:14:09.517608 result cnt: 33294 id cnt: 33294 skip:  0\n",
      "Current time:  2023-05-25 03:14:49+00:00\n",
      "2023-05-26 19:14:14.081915 result cnt: 33393 id cnt: 33393 skip:  0\n",
      "Current time:  2023-05-25 03:19:58+00:00\n",
      "2023-05-26 19:14:18.296536 result cnt: 33492 id cnt: 33492 skip:  0\n",
      "Current time:  2023-05-25 03:29:44+00:00\n",
      "2023-05-26 19:14:22.588579 result cnt: 33591 id cnt: 33591 skip:  0\n",
      "Current time:  2023-05-25 03:47:15+00:00\n",
      "2023-05-26 19:14:26.761478 result cnt: 33690 id cnt: 33690 skip:  0\n",
      "Current time:  2023-05-25 04:03:24+00:00\n",
      "2023-05-26 19:14:30.951118 result cnt: 33789 id cnt: 33789 skip:  0\n",
      "Current time:  2023-05-25 04:07:58+00:00\n",
      "2023-05-26 19:14:35.246050 result cnt: 33888 id cnt: 33888 skip:  0\n",
      "Current time:  2023-05-25 04:21:55+00:00\n",
      "2023-05-26 19:14:39.534489 result cnt: 33987 id cnt: 33987 skip:  0\n",
      "Current time:  2023-05-25 04:33:26+00:00\n",
      "2023-05-26 19:14:44.891999 result cnt: 34086 id cnt: 34086 skip:  0\n",
      "Current time:  2023-05-25 04:46:48+00:00\n",
      "2023-05-26 19:14:49.406826 result cnt: 34185 id cnt: 34185 skip:  0\n",
      "Current time:  2023-05-25 05:03:20+00:00\n",
      "2023-05-26 19:14:53.963328 result cnt: 34284 id cnt: 34284 skip:  0\n",
      "Current time:  2023-05-25 05:20:27+00:00\n",
      "2023-05-26 19:14:58.138026 result cnt: 34383 id cnt: 34383 skip:  0\n",
      "Current time:  2023-05-25 05:35:23+00:00\n",
      "2023-05-26 19:15:02.490262 result cnt: 34482 id cnt: 34482 skip:  0\n",
      "Current time:  2023-05-25 05:49:54+00:00\n",
      "2023-05-26 19:15:06.678400 result cnt: 34580 id cnt: 34580 skip:  0\n",
      "Current time:  2023-05-25 06:00:21+00:00\n",
      "2023-05-26 19:15:11.097312 result cnt: 34679 id cnt: 34679 skip:  0\n",
      "Current time:  2023-05-25 06:10:21+00:00\n",
      "2023-05-26 19:15:15.278494 result cnt: 34777 id cnt: 34777 skip:  0\n",
      "Current time:  2023-05-25 06:22:53+00:00\n",
      "2023-05-26 19:15:20.044008 result cnt: 34876 id cnt: 34876 skip:  0\n",
      "Current time:  2023-05-25 06:37:32+00:00\n",
      "2023-05-26 19:15:24.236651 result cnt: 34974 id cnt: 34974 skip:  0\n",
      "Current time:  2023-05-25 06:50:02+00:00\n",
      "2023-05-26 19:15:28.524322 result cnt: 35071 id cnt: 35071 skip:  0\n",
      "Current time:  2023-05-25 07:00:58+00:00\n",
      "2023-05-26 19:15:32.749040 result cnt: 35170 id cnt: 35170 skip:  0\n",
      "Current time:  2023-05-25 07:12:39+00:00\n",
      "2023-05-26 19:15:38.640693 result cnt: 35269 id cnt: 35269 skip:  0\n",
      "Current time:  2023-05-25 07:23:10+00:00\n",
      "2023-05-26 19:15:45.821872 result cnt: 35368 id cnt: 35368 skip:  0\n",
      "Current time:  2023-05-25 07:30:33+00:00\n",
      "2023-05-26 19:15:50.547493 result cnt: 35467 id cnt: 35467 skip:  0\n",
      "Current time:  2023-05-25 07:37:15+00:00\n",
      "2023-05-26 19:15:54.923239 result cnt: 35566 id cnt: 35566 skip:  0\n",
      "Current time:  2023-05-25 07:47:29+00:00\n",
      "2023-05-26 19:15:59.356405 result cnt: 35663 id cnt: 35663 skip:  0\n",
      "Current time:  2023-05-25 07:58:27+00:00\n",
      "2023-05-26 19:16:03.727471 result cnt: 35756 id cnt: 35756 skip:  0\n",
      "Current time:  2023-05-25 08:02:43+00:00\n",
      "2023-05-26 19:16:08.140450 result cnt: 35855 id cnt: 35855 skip:  0\n",
      "Current time:  2023-05-25 08:05:32+00:00\n",
      "2023-05-26 19:16:12.617540 result cnt: 35954 id cnt: 35954 skip:  0\n",
      "Current time:  2023-05-25 08:08:29+00:00\n",
      "2023-05-26 19:16:16.905884 result cnt: 36053 id cnt: 36053 skip:  0\n",
      "Current time:  2023-05-25 08:13:02+00:00\n",
      "2023-05-26 19:16:21.125392 result cnt: 36152 id cnt: 36152 skip:  0\n",
      "Current time:  2023-05-25 08:17:08+00:00\n",
      "2023-05-26 19:16:25.410407 result cnt: 36251 id cnt: 36251 skip:  0\n",
      "Current time:  2023-05-25 08:21:33+00:00\n",
      "2023-05-26 19:16:29.602289 result cnt: 36349 id cnt: 36349 skip:  0\n",
      "Current time:  2023-05-25 08:25:42+00:00\n",
      "2023-05-26 19:16:33.872523 result cnt: 36448 id cnt: 36448 skip:  0\n",
      "Current time:  2023-05-25 08:36:54+00:00\n",
      "2023-05-26 19:16:39.333562 result cnt: 36547 id cnt: 36547 skip:  0\n",
      "Current time:  2023-05-25 08:47:48+00:00\n",
      "2023-05-26 19:16:43.531758 result cnt: 36646 id cnt: 36646 skip:  0\n",
      "Current time:  2023-05-25 08:59:00+00:00\n",
      "2023-05-26 19:16:47.855523 result cnt: 36745 id cnt: 36745 skip:  0\n",
      "Current time:  2023-05-25 09:08:05+00:00\n",
      "2023-05-26 19:16:52.210291 result cnt: 36844 id cnt: 36844 skip:  0\n",
      "Current time:  2023-05-25 09:16:00+00:00\n",
      "2023-05-26 19:16:56.828760 result cnt: 36943 id cnt: 36943 skip:  0\n",
      "Current time:  2023-05-25 09:26:24+00:00\n",
      "2023-05-26 19:17:01.135809 result cnt: 37042 id cnt: 37042 skip:  0\n",
      "Current time:  2023-05-25 09:41:39+00:00\n",
      "2023-05-26 19:17:06.030450 result cnt: 37140 id cnt: 37140 skip:  0\n",
      "Current time:  2023-05-25 09:55:58+00:00\n",
      "2023-05-26 19:17:10.381906 result cnt: 37239 id cnt: 37239 skip:  0\n",
      "Current time:  2023-05-25 10:08:37+00:00\n",
      "2023-05-26 19:17:14.822327 result cnt: 37336 id cnt: 37336 skip:  0\n",
      "Current time:  2023-05-25 10:21:34+00:00\n",
      "2023-05-26 19:17:19.698472 result cnt: 37435 id cnt: 37435 skip:  0\n",
      "Current time:  2023-05-25 10:31:17+00:00\n",
      "2023-05-26 19:17:24.516241 result cnt: 37532 id cnt: 37532 skip:  0\n",
      "Current time:  2023-05-25 10:40:53+00:00\n",
      "2023-05-26 19:17:28.807328 result cnt: 37631 id cnt: 37631 skip:  0\n",
      "Current time:  2023-05-25 10:52:47+00:00\n",
      "2023-05-26 19:17:33.274179 result cnt: 37730 id cnt: 37730 skip:  0\n",
      "Current time:  2023-05-25 11:02:01+00:00\n",
      "2023-05-26 19:17:37.706732 result cnt: 37829 id cnt: 37829 skip:  0\n",
      "Current time:  2023-05-25 11:14:36+00:00\n",
      "2023-05-26 19:17:41.895203 result cnt: 37928 id cnt: 37928 skip:  0\n",
      "Current time:  2023-05-25 11:24:11+00:00\n",
      "2023-05-26 19:17:46.078573 result cnt: 38026 id cnt: 38026 skip:  0\n",
      "Current time:  2023-05-25 11:31:03+00:00\n",
      "2023-05-26 19:17:50.370920 result cnt: 38125 id cnt: 38125 skip:  0\n",
      "Current time:  2023-05-25 11:41:46+00:00\n",
      "2023-05-26 19:17:54.528489 result cnt: 38223 id cnt: 38223 skip:  0\n",
      "Current time:  2023-05-25 11:51:55+00:00\n",
      "2023-05-26 19:17:58.696195 result cnt: 38322 id cnt: 38322 skip:  0\n",
      "Current time:  2023-05-25 11:56:27+00:00\n",
      "2023-05-26 19:18:02.866790 result cnt: 38416 id cnt: 38416 skip:  0\n",
      "Current time:  2023-05-25 11:59:54+00:00\n",
      "2023-05-26 19:18:07.151089 result cnt: 38515 id cnt: 38515 skip:  0\n",
      "Current time:  2023-05-25 12:04:27+00:00\n",
      "2023-05-26 19:18:11.529531 result cnt: 38614 id cnt: 38614 skip:  0\n",
      "Current time:  2023-05-25 12:05:18+00:00\n",
      "2023-05-26 19:18:15.862039 result cnt: 38712 id cnt: 38712 skip:  0\n",
      "Current time:  2023-05-25 12:05:27+00:00\n",
      "2023-05-26 19:18:20.087972 result cnt: 38804 id cnt: 38804 skip:  0\n",
      "Current time:  2023-05-25 12:06:04+00:00\n",
      "2023-05-26 19:18:24.298645 result cnt: 38903 id cnt: 38903 skip:  0\n",
      "Current time:  2023-05-25 12:08:57+00:00\n",
      "2023-05-26 19:18:28.447911 result cnt: 39002 id cnt: 39002 skip:  0\n",
      "Current time:  2023-05-25 12:16:10+00:00\n",
      "2023-05-26 19:18:32.921121 result cnt: 39101 id cnt: 39101 skip:  0\n",
      "Current time:  2023-05-25 12:22:32+00:00\n",
      "2023-05-26 19:18:37.530800 result cnt: 39200 id cnt: 39200 skip:  0\n",
      "Current time:  2023-05-25 12:26:26+00:00\n",
      "2023-05-26 19:18:41.858895 result cnt: 39299 id cnt: 39299 skip:  0\n",
      "Current time:  2023-05-25 12:32:02+00:00\n",
      "2023-05-26 19:18:46.017924 result cnt: 39398 id cnt: 39398 skip:  0\n",
      "Current time:  2023-05-25 12:38:05+00:00\n",
      "2023-05-26 19:18:50.249584 result cnt: 39490 id cnt: 39490 skip:  0\n",
      "Current time:  2023-05-25 12:45:16+00:00\n",
      "2023-05-26 19:18:54.520421 result cnt: 39589 id cnt: 39589 skip:  0\n",
      "Current time:  2023-05-25 12:55:45+00:00\n",
      "2023-05-26 19:18:59.009345 result cnt: 39685 id cnt: 39685 skip:  0\n",
      "Current time:  2023-05-25 13:03:54+00:00\n",
      "2023-05-26 19:19:03.556162 result cnt: 39783 id cnt: 39783 skip:  0\n",
      "Current time:  2023-05-25 13:12:02+00:00\n",
      "2023-05-26 19:19:08.345553 result cnt: 39882 id cnt: 39882 skip:  0\n",
      "Current time:  2023-05-25 13:21:55+00:00\n",
      "2023-05-26 19:19:12.851736 result cnt: 39981 id cnt: 39981 skip:  0\n",
      "Current time:  2023-05-25 13:30:31+00:00\n",
      "2023-05-26 19:19:18.062556 result cnt: 40080 id cnt: 40080 skip:  0\n",
      "Current time:  2023-05-25 13:37:17+00:00\n",
      "2023-05-26 19:19:23.358211 result cnt: 40179 id cnt: 40179 skip:  0\n",
      "Current time:  2023-05-25 13:40:19+00:00\n",
      "2023-05-26 19:19:27.619388 result cnt: 40272 id cnt: 40272 skip:  0\n",
      "Current time:  2023-05-25 13:46:54+00:00\n",
      "2023-05-26 19:19:32.176258 result cnt: 40371 id cnt: 40371 skip:  0\n",
      "Current time:  2023-05-25 13:52:56+00:00\n",
      "2023-05-26 19:19:36.563712 result cnt: 40470 id cnt: 40470 skip:  0\n",
      "Current time:  2023-05-25 14:00:01+00:00\n",
      "2023-05-26 19:19:40.963275 result cnt: 40563 id cnt: 40563 skip:  0\n",
      "Current time:  2023-05-25 14:04:45+00:00\n",
      "2023-05-26 19:19:45.390475 result cnt: 40662 id cnt: 40662 skip:  0\n",
      "Current time:  2023-05-25 14:07:35+00:00\n",
      "2023-05-26 19:19:49.692103 result cnt: 40759 id cnt: 40759 skip:  0\n",
      "Current time:  2023-05-25 14:14:29+00:00\n",
      "2023-05-26 19:19:55.215094 result cnt: 40858 id cnt: 40858 skip:  0\n",
      "Current time:  2023-05-25 14:20:11+00:00\n",
      "2023-05-26 19:20:00.512376 result cnt: 40957 id cnt: 40957 skip:  0\n",
      "Current time:  2023-05-25 14:28:16+00:00\n",
      "2023-05-26 19:20:04.751705 result cnt: 41047 id cnt: 41047 skip:  0\n",
      "Current time:  2023-05-25 14:31:59+00:00\n",
      "2023-05-26 19:20:09.775976 result cnt: 41146 id cnt: 41146 skip:  0\n",
      "Current time:  2023-05-25 14:41:37+00:00\n",
      "2023-05-26 19:20:14.186489 result cnt: 41245 id cnt: 41245 skip:  0\n",
      "Current time:  2023-05-25 14:48:56+00:00\n",
      "2023-05-26 19:20:18.428327 result cnt: 41344 id cnt: 41344 skip:  0\n",
      "Current time:  2023-05-25 14:55:03+00:00\n",
      "2023-05-26 19:20:22.578332 result cnt: 41443 id cnt: 41443 skip:  0\n",
      "Current time:  2023-05-25 15:00:18+00:00\n",
      "2023-05-26 19:20:26.995085 result cnt: 41542 id cnt: 41542 skip:  0\n",
      "Current time:  2023-05-25 15:08:33+00:00\n",
      "2023-05-26 19:20:32.453984 result cnt: 41641 id cnt: 41641 skip:  0\n",
      "Current time:  2023-05-25 15:16:04+00:00\n",
      "2023-05-26 19:20:38.858225 result cnt: 41740 id cnt: 41740 skip:  0\n",
      "Current time:  2023-05-25 15:20:03+00:00\n",
      "2023-05-26 19:20:43.630931 result cnt: 41839 id cnt: 41839 skip:  0\n",
      "Current time:  2023-05-25 15:30:01+00:00\n",
      "2023-05-26 19:20:48.022194 result cnt: 41938 id cnt: 41938 skip:  0\n",
      "Current time:  2023-05-25 15:36:13+00:00\n",
      "2023-05-26 19:20:52.350503 result cnt: 42037 id cnt: 42037 skip:  0\n",
      "Current time:  2023-05-25 15:41:04+00:00\n",
      "2023-05-26 19:20:56.540466 result cnt: 42135 id cnt: 42135 skip:  0\n",
      "Current time:  2023-05-25 15:44:35+00:00\n",
      "2023-05-26 19:21:00.764355 result cnt: 42234 id cnt: 42234 skip:  0\n",
      "Current time:  2023-05-25 15:52:13+00:00\n",
      "2023-05-26 19:21:05.276679 result cnt: 42333 id cnt: 42333 skip:  0\n",
      "Current time:  2023-05-25 15:58:39+00:00\n",
      "2023-05-26 19:21:10.527763 result cnt: 42432 id cnt: 42432 skip:  0\n",
      "Current time:  2023-05-25 16:04:57+00:00\n",
      "2023-05-26 19:21:15.048523 result cnt: 42529 id cnt: 42529 skip:  0\n",
      "Current time:  2023-05-25 16:17:21+00:00\n",
      "2023-05-26 19:21:19.254386 result cnt: 42628 id cnt: 42628 skip:  0\n",
      "Current time:  2023-05-25 16:24:30+00:00\n",
      "2023-05-26 19:21:23.799541 result cnt: 42727 id cnt: 42727 skip:  0\n",
      "Current time:  2023-05-25 16:30:30+00:00\n",
      "2023-05-26 19:21:28.132203 result cnt: 42824 id cnt: 42824 skip:  0\n",
      "Current time:  2023-05-25 16:41:32+00:00\n",
      "2023-05-26 19:21:32.468761 result cnt: 42923 id cnt: 42923 skip:  0\n",
      "Current time:  2023-05-25 16:54:53+00:00\n",
      "2023-05-26 19:21:36.689094 result cnt: 43019 id cnt: 43019 skip:  0\n",
      "Current time:  2023-05-25 17:04:34+00:00\n",
      "2023-05-26 19:21:40.984174 result cnt: 43118 id cnt: 43118 skip:  0\n",
      "Current time:  2023-05-25 17:16:26+00:00\n",
      "2023-05-26 19:21:45.493125 result cnt: 43217 id cnt: 43217 skip:  0\n",
      "Current time:  2023-05-25 17:25:03+00:00\n",
      "2023-05-26 19:21:49.636990 result cnt: 43316 id cnt: 43316 skip:  0\n",
      "Current time:  2023-05-25 17:30:22+00:00\n",
      "2023-05-26 19:21:53.916823 result cnt: 43410 id cnt: 43410 skip:  0\n",
      "Current time:  2023-05-25 17:37:29+00:00\n",
      "2023-05-26 19:21:58.214988 result cnt: 43508 id cnt: 43508 skip:  0\n",
      "Current time:  2023-05-25 17:48:09+00:00\n",
      "2023-05-26 19:22:02.654071 result cnt: 43607 id cnt: 43607 skip:  0\n",
      "Current time:  2023-05-25 17:53:32+00:00\n",
      "2023-05-26 19:22:06.826505 result cnt: 43706 id cnt: 43706 skip:  0\n",
      "Current time:  2023-05-25 18:00:17+00:00\n",
      "2023-05-26 19:22:11.306398 result cnt: 43805 id cnt: 43805 skip:  0\n",
      "Current time:  2023-05-25 18:02:34+00:00\n",
      "2023-05-26 19:22:15.829509 result cnt: 43904 id cnt: 43904 skip:  0\n",
      "Current time:  2023-05-25 18:11:01+00:00\n",
      "2023-05-26 19:22:21.736007 result cnt: 44003 id cnt: 44003 skip:  0\n",
      "Current time:  2023-05-25 18:22:49+00:00\n",
      "2023-05-26 19:22:25.899757 result cnt: 44101 id cnt: 44101 skip:  0\n",
      "Current time:  2023-05-25 18:32:54+00:00\n",
      "2023-05-26 19:22:30.297883 result cnt: 44200 id cnt: 44200 skip:  0\n",
      "Current time:  2023-05-25 18:43:52+00:00\n",
      "2023-05-26 19:22:34.817904 result cnt: 44299 id cnt: 44299 skip:  0\n",
      "Current time:  2023-05-25 18:56:44+00:00\n",
      "2023-05-26 19:22:39.216793 result cnt: 44398 id cnt: 44398 skip:  0\n",
      "Current time:  2023-05-25 19:07:33+00:00\n",
      "2023-05-26 19:22:43.830849 result cnt: 44496 id cnt: 44496 skip:  0\n",
      "Current time:  2023-05-25 19:10:10+00:00\n",
      "2023-05-26 19:22:48.382282 result cnt: 44591 id cnt: 44591 skip:  0\n",
      "Current time:  2023-05-25 19:10:36+00:00\n",
      "2023-05-26 19:22:52.752026 result cnt: 44690 id cnt: 44690 skip:  0\n",
      "Current time:  2023-05-25 19:11:37+00:00\n",
      "2023-05-26 19:22:57.178146 result cnt: 44788 id cnt: 44788 skip:  0\n",
      "Current time:  2023-05-25 19:14:53+00:00\n",
      "2023-05-26 19:23:01.440029 result cnt: 44886 id cnt: 44886 skip:  0\n",
      "Current time:  2023-05-25 19:20:05+00:00\n",
      "2023-05-26 19:23:05.962894 result cnt: 44985 id cnt: 44985 skip:  0\n",
      "Current time:  2023-05-25 19:30:18+00:00\n",
      "2023-05-26 19:23:10.281565 result cnt: 45084 id cnt: 45084 skip:  0\n",
      "Current time:  2023-05-25 19:40:33+00:00\n",
      "2023-05-26 19:23:15.176524 result cnt: 45183 id cnt: 45183 skip:  0\n",
      "Current time:  2023-05-25 20:00:09+00:00\n",
      "2023-05-26 19:23:19.635629 result cnt: 45282 id cnt: 45282 skip:  0\n",
      "Current time:  2023-05-25 20:07:45+00:00\n",
      "2023-05-26 19:23:24.087887 result cnt: 45381 id cnt: 45381 skip:  0\n",
      "Current time:  2023-05-25 20:14:30+00:00\n",
      "2023-05-26 19:23:28.537053 result cnt: 45473 id cnt: 45473 skip:  0\n",
      "Current time:  2023-05-25 20:27:02+00:00\n",
      "2023-05-26 19:23:32.801181 result cnt: 45572 id cnt: 45572 skip:  0\n",
      "Current time:  2023-05-25 20:49:33+00:00\n",
      "2023-05-26 19:23:37.311803 result cnt: 45671 id cnt: 45671 skip:  0\n",
      "Current time:  2023-05-25 21:08:12+00:00\n",
      "2023-05-26 19:23:41.625669 result cnt: 45769 id cnt: 45769 skip:  0\n",
      "Current time:  2023-05-25 21:34:56+00:00\n",
      "2023-05-26 19:23:45.756509 result cnt: 45868 id cnt: 45868 skip:  0\n",
      "Current time:  2023-05-25 21:54:12+00:00\n",
      "2023-05-26 19:23:50.400576 result cnt: 45967 id cnt: 45967 skip:  0\n",
      "Current time:  2023-05-25 22:18:23+00:00\n",
      "2023-05-26 19:23:55.576471 result cnt: 46064 id cnt: 46064 skip:  0\n",
      "Current time:  2023-05-25 22:46:49+00:00\n",
      "2023-05-26 19:23:59.997809 result cnt: 46163 id cnt: 46163 skip:  0\n",
      "Current time:  2023-05-25 23:12:59+00:00\n",
      "2023-05-26 19:24:04.853107 result cnt: 46262 id cnt: 46262 skip:  0\n",
      "Current time:  2023-05-25 23:27:45+00:00\n",
      "2023-05-26 19:24:09.489434 result cnt: 46360 id cnt: 46360 skip:  0\n",
      "Current time:  2023-05-25 23:54:21+00:00\n",
      "2023-05-26 19:24:13.919729 result cnt: 46369 id cnt: 46369 skip:  0\n",
      "Current time:  2023-05-25 23:58:56+00:00\n",
      "2023-05-26 19:24:18.113795 result cnt: 46369 id cnt: 46369 skip:  100\n",
      "Current time:  2023-05-25 23:58:56+00:00\n",
      "2023-05-26 19:24:22.414036 result cnt: 46369 id cnt: 46369 skip:  200\n",
      "Current time:  2023-05-25 23:58:56+00:00\n",
      "2023-05-26 19:24:26.731000 result cnt: 46369 id cnt: 46369 skip:  300\n",
      "Current time:  2023-05-25 23:58:56+00:00\n",
      "2023-05-26 19:24:32.022564 result cnt: 46369 id cnt: 46369 skip:  400\n",
      "Current time:  2023-05-25 23:58:56+00:00\n",
      "2023-05-26 19:24:36.221975 result cnt: 46369 id cnt: 46369 skip:  500\n",
      "Current time:  2023-05-25 23:58:56+00:00\n",
      "2023-05-26 19:24:41.658804 result cnt: 46369 id cnt: 46369 skip:  600\n",
      "Current time:  2023-05-25 23:58:56+00:00\n",
      "2023-05-26 19:24:46.184820 result cnt: 46369 id cnt: 46369 skip:  700\n",
      "Current time:  2023-05-25 23:58:56+00:00\n",
      "2023-05-26 19:24:50.503909 result cnt: 46369 id cnt: 46369 skip:  800\n",
      "Current time:  2023-05-25 23:58:56+00:00\n",
      "2023-05-26 19:24:55.045222 result cnt: 46369 id cnt: 46369 skip:  900\n",
      "Current time:  2023-05-25 23:58:56+00:00\n",
      "2023-05-26 19:24:59.706496 result cnt: 46369 id cnt: 46369 skip:  1000\n",
      "Current time:  2023-05-25 23:58:56+00:00\n",
      "2023-05-26 19:25:04.050534 result cnt: 46369 id cnt: 46369 skip:  1100\n",
      "Current time:  2023-05-25 23:58:56+00:00\n",
      "2023-05-26 19:25:08.227756 result cnt: 46369 id cnt: 46369 skip:  1200\n",
      "Current time:  2023-05-25 23:58:56+00:00\n",
      "2023-05-26 19:25:13.085565 result cnt: 46369 id cnt: 46369 skip:  1300\n",
      "Current time:  2023-05-25 23:58:56+00:00\n",
      "2023-05-26 19:25:17.353667 result cnt: 46369 id cnt: 46369 skip:  1400\n",
      "Current time:  2023-05-25 23:58:56+00:00\n",
      "2023-05-26 19:25:21.879325 result cnt: 46369 id cnt: 46369 skip:  1500\n",
      "Current time:  2023-05-25 23:58:56+00:00\n",
      "2023-05-26 19:25:27.137751 result cnt: 46369 id cnt: 46369 skip:  1600\n",
      "Current time:  2023-05-25 23:58:56+00:00\n",
      "2023-05-26 19:25:33.488802 result cnt: 46369 id cnt: 46369 skip:  1700\n",
      "Current time:  2023-05-25 23:58:56+00:00\n",
      "2023-05-26 19:25:37.752438 result cnt: 46369 id cnt: 46369 skip:  1800\n",
      "Current time:  2023-05-25 23:58:56+00:00\n",
      "2023-05-26 19:25:41.969897 result cnt: 46369 id cnt: 46369 skip:  1900\n",
      "Current time:  2023-05-25 23:58:56+00:00\n",
      "2023-05-26 19:25:46.357347 result cnt: 46369 id cnt: 46369 skip:  2000\n",
      "Current time:  2023-05-25 23:58:56+00:00\n",
      "2023-05-26 19:25:52.685740 result cnt: 46369 id cnt: 46369 skip:  2100\n",
      "Current time:  2023-05-25 23:58:56+00:00\n",
      "2023-05-26 19:25:57.115512 result cnt: 46369 id cnt: 46369 skip:  2200\n",
      "Current time:  2023-05-25 23:58:56+00:00\n",
      "2023-05-26 19:26:03.027792 result cnt: 46369 id cnt: 46369 skip:  2300\n",
      "Current time:  2023-05-25 23:58:56+00:00\n",
      "2023-05-26 19:26:07.527652 result cnt: 46369 id cnt: 46369 skip:  2400\n",
      "Current time:  2023-05-25 23:58:56+00:00\n"
     ]
    },
    {
     "ename": "KeyboardInterrupt",
     "evalue": "",
     "output_type": "error",
     "traceback": [
      "\u001B[0;31m---------------------------------------------------------------------------\u001B[0m",
      "\u001B[0;31mKeyboardInterrupt\u001B[0m                         Traceback (most recent call last)",
      "Cell \u001B[0;32mIn [50], line 17\u001B[0m\n\u001B[1;32m     15\u001B[0m query \u001B[38;5;241m=\u001B[39m arb_query \u001B[38;5;241m%\u001B[39m (skip, current_timestamp)\n\u001B[1;32m     16\u001B[0m \u001B[38;5;28;01mtry\u001B[39;00m:\n\u001B[0;32m---> 17\u001B[0m     response \u001B[38;5;241m=\u001B[39m \u001B[43mclient\u001B[49m\u001B[38;5;241;43m.\u001B[39;49m\u001B[43mexecute\u001B[49m\u001B[43m(\u001B[49m\u001B[43mgql\u001B[49m\u001B[43m(\u001B[49m\u001B[43mquery\u001B[49m\u001B[43m)\u001B[49m\u001B[43m)\u001B[49m\n\u001B[1;32m     19\u001B[0m     swap_data \u001B[38;5;241m=\u001B[39m response[\u001B[38;5;124m\"\u001B[39m\u001B[38;5;124mswaps\u001B[39m\u001B[38;5;124m\"\u001B[39m]\n\u001B[1;32m     20\u001B[0m     \u001B[38;5;28;01mif\u001B[39;00m \u001B[38;5;28mlen\u001B[39m(swap_data) \u001B[38;5;241m==\u001B[39m \u001B[38;5;241m0\u001B[39m:\n",
      "File \u001B[0;32m~/miniforge3/envs/vs_base/lib/python3.10/site-packages/gql/client.py:403\u001B[0m, in \u001B[0;36mClient.execute\u001B[0;34m(self, document, variable_values, operation_name, serialize_variables, parse_result, get_execution_result, **kwargs)\u001B[0m\n\u001B[1;32m    400\u001B[0m     \u001B[38;5;28;01mreturn\u001B[39;00m data\n\u001B[1;32m    402\u001B[0m \u001B[38;5;28;01melse\u001B[39;00m:  \u001B[38;5;66;03m# Sync transports\u001B[39;00m\n\u001B[0;32m--> 403\u001B[0m     \u001B[38;5;28;01mreturn\u001B[39;00m \u001B[38;5;28;43mself\u001B[39;49m\u001B[38;5;241;43m.\u001B[39;49m\u001B[43mexecute_sync\u001B[49m\u001B[43m(\u001B[49m\n\u001B[1;32m    404\u001B[0m \u001B[43m        \u001B[49m\u001B[43mdocument\u001B[49m\u001B[43m,\u001B[49m\n\u001B[1;32m    405\u001B[0m \u001B[43m        \u001B[49m\u001B[43mvariable_values\u001B[49m\u001B[38;5;241;43m=\u001B[39;49m\u001B[43mvariable_values\u001B[49m\u001B[43m,\u001B[49m\n\u001B[1;32m    406\u001B[0m \u001B[43m        \u001B[49m\u001B[43moperation_name\u001B[49m\u001B[38;5;241;43m=\u001B[39;49m\u001B[43moperation_name\u001B[49m\u001B[43m,\u001B[49m\n\u001B[1;32m    407\u001B[0m \u001B[43m        \u001B[49m\u001B[43mserialize_variables\u001B[49m\u001B[38;5;241;43m=\u001B[39;49m\u001B[43mserialize_variables\u001B[49m\u001B[43m,\u001B[49m\n\u001B[1;32m    408\u001B[0m \u001B[43m        \u001B[49m\u001B[43mparse_result\u001B[49m\u001B[38;5;241;43m=\u001B[39;49m\u001B[43mparse_result\u001B[49m\u001B[43m,\u001B[49m\n\u001B[1;32m    409\u001B[0m \u001B[43m        \u001B[49m\u001B[43mget_execution_result\u001B[49m\u001B[38;5;241;43m=\u001B[39;49m\u001B[43mget_execution_result\u001B[49m\u001B[43m,\u001B[49m\n\u001B[1;32m    410\u001B[0m \u001B[43m        \u001B[49m\u001B[38;5;241;43m*\u001B[39;49m\u001B[38;5;241;43m*\u001B[39;49m\u001B[43mkwargs\u001B[49m\u001B[43m,\u001B[49m\n\u001B[1;32m    411\u001B[0m \u001B[43m    \u001B[49m\u001B[43m)\u001B[49m\n",
      "File \u001B[0;32m~/miniforge3/envs/vs_base/lib/python3.10/site-packages/gql/client.py:221\u001B[0m, in \u001B[0;36mClient.execute_sync\u001B[0;34m(self, document, variable_values, operation_name, serialize_variables, parse_result, get_execution_result, **kwargs)\u001B[0m\n\u001B[1;32m    219\u001B[0m \u001B[38;5;124;03m\"\"\":meta private:\"\"\"\u001B[39;00m\n\u001B[1;32m    220\u001B[0m \u001B[38;5;28;01mwith\u001B[39;00m \u001B[38;5;28mself\u001B[39m \u001B[38;5;28;01mas\u001B[39;00m session:\n\u001B[0;32m--> 221\u001B[0m     \u001B[38;5;28;01mreturn\u001B[39;00m \u001B[43msession\u001B[49m\u001B[38;5;241;43m.\u001B[39;49m\u001B[43mexecute\u001B[49m\u001B[43m(\u001B[49m\n\u001B[1;32m    222\u001B[0m \u001B[43m        \u001B[49m\u001B[43mdocument\u001B[49m\u001B[43m,\u001B[49m\n\u001B[1;32m    223\u001B[0m \u001B[43m        \u001B[49m\u001B[43mvariable_values\u001B[49m\u001B[38;5;241;43m=\u001B[39;49m\u001B[43mvariable_values\u001B[49m\u001B[43m,\u001B[49m\n\u001B[1;32m    224\u001B[0m \u001B[43m        \u001B[49m\u001B[43moperation_name\u001B[49m\u001B[38;5;241;43m=\u001B[39;49m\u001B[43moperation_name\u001B[49m\u001B[43m,\u001B[49m\n\u001B[1;32m    225\u001B[0m \u001B[43m        \u001B[49m\u001B[43mserialize_variables\u001B[49m\u001B[38;5;241;43m=\u001B[39;49m\u001B[43mserialize_variables\u001B[49m\u001B[43m,\u001B[49m\n\u001B[1;32m    226\u001B[0m \u001B[43m        \u001B[49m\u001B[43mparse_result\u001B[49m\u001B[38;5;241;43m=\u001B[39;49m\u001B[43mparse_result\u001B[49m\u001B[43m,\u001B[49m\n\u001B[1;32m    227\u001B[0m \u001B[43m        \u001B[49m\u001B[43mget_execution_result\u001B[49m\u001B[38;5;241;43m=\u001B[39;49m\u001B[43mget_execution_result\u001B[49m\u001B[43m,\u001B[49m\n\u001B[1;32m    228\u001B[0m \u001B[43m        \u001B[49m\u001B[38;5;241;43m*\u001B[39;49m\u001B[38;5;241;43m*\u001B[39;49m\u001B[43mkwargs\u001B[49m\u001B[43m,\u001B[49m\n\u001B[1;32m    229\u001B[0m \u001B[43m    \u001B[49m\u001B[43m)\u001B[49m\n",
      "File \u001B[0;32m~/miniforge3/envs/vs_base/lib/python3.10/site-packages/gql/client.py:849\u001B[0m, in \u001B[0;36mSyncClientSession.execute\u001B[0;34m(self, document, variable_values, operation_name, serialize_variables, parse_result, get_execution_result, **kwargs)\u001B[0m\n\u001B[1;32m    829\u001B[0m \u001B[38;5;124;03m\"\"\"Execute the provided document AST synchronously using\u001B[39;00m\n\u001B[1;32m    830\u001B[0m \u001B[38;5;124;03mthe sync transport.\u001B[39;00m\n\u001B[1;32m    831\u001B[0m \n\u001B[0;32m   (...)\u001B[0m\n\u001B[1;32m    845\u001B[0m \n\u001B[1;32m    846\u001B[0m \u001B[38;5;124;03mThe extra arguments are passed to the transport execute method.\"\"\"\u001B[39;00m\n\u001B[1;32m    848\u001B[0m \u001B[38;5;66;03m# Validate and execute on the transport\u001B[39;00m\n\u001B[0;32m--> 849\u001B[0m result \u001B[38;5;241m=\u001B[39m \u001B[38;5;28;43mself\u001B[39;49m\u001B[38;5;241;43m.\u001B[39;49m\u001B[43m_execute\u001B[49m\u001B[43m(\u001B[49m\n\u001B[1;32m    850\u001B[0m \u001B[43m    \u001B[49m\u001B[43mdocument\u001B[49m\u001B[43m,\u001B[49m\n\u001B[1;32m    851\u001B[0m \u001B[43m    \u001B[49m\u001B[43mvariable_values\u001B[49m\u001B[38;5;241;43m=\u001B[39;49m\u001B[43mvariable_values\u001B[49m\u001B[43m,\u001B[49m\n\u001B[1;32m    852\u001B[0m \u001B[43m    \u001B[49m\u001B[43moperation_name\u001B[49m\u001B[38;5;241;43m=\u001B[39;49m\u001B[43moperation_name\u001B[49m\u001B[43m,\u001B[49m\n\u001B[1;32m    853\u001B[0m \u001B[43m    \u001B[49m\u001B[43mserialize_variables\u001B[49m\u001B[38;5;241;43m=\u001B[39;49m\u001B[43mserialize_variables\u001B[49m\u001B[43m,\u001B[49m\n\u001B[1;32m    854\u001B[0m \u001B[43m    \u001B[49m\u001B[43mparse_result\u001B[49m\u001B[38;5;241;43m=\u001B[39;49m\u001B[43mparse_result\u001B[49m\u001B[43m,\u001B[49m\n\u001B[1;32m    855\u001B[0m \u001B[43m    \u001B[49m\u001B[38;5;241;43m*\u001B[39;49m\u001B[38;5;241;43m*\u001B[39;49m\u001B[43mkwargs\u001B[49m\u001B[43m,\u001B[49m\n\u001B[1;32m    856\u001B[0m \u001B[43m\u001B[49m\u001B[43m)\u001B[49m\n\u001B[1;32m    858\u001B[0m \u001B[38;5;66;03m# Raise an error if an error is returned in the ExecutionResult object\u001B[39;00m\n\u001B[1;32m    859\u001B[0m \u001B[38;5;28;01mif\u001B[39;00m result\u001B[38;5;241m.\u001B[39merrors:\n",
      "File \u001B[0;32m~/miniforge3/envs/vs_base/lib/python3.10/site-packages/gql/client.py:758\u001B[0m, in \u001B[0;36mSyncClientSession._execute\u001B[0;34m(self, document, variable_values, operation_name, serialize_variables, parse_result, **kwargs)\u001B[0m\n\u001B[1;32m    748\u001B[0m         \u001B[38;5;28;01mif\u001B[39;00m serialize_variables \u001B[38;5;129;01mor\u001B[39;00m (\n\u001B[1;32m    749\u001B[0m             serialize_variables \u001B[38;5;129;01mis\u001B[39;00m \u001B[38;5;28;01mNone\u001B[39;00m \u001B[38;5;129;01mand\u001B[39;00m \u001B[38;5;28mself\u001B[39m\u001B[38;5;241m.\u001B[39mclient\u001B[38;5;241m.\u001B[39mserialize_variables\n\u001B[1;32m    750\u001B[0m         ):\n\u001B[1;32m    751\u001B[0m             variable_values \u001B[38;5;241m=\u001B[39m serialize_variable_values(\n\u001B[1;32m    752\u001B[0m                 \u001B[38;5;28mself\u001B[39m\u001B[38;5;241m.\u001B[39mclient\u001B[38;5;241m.\u001B[39mschema,\n\u001B[1;32m    753\u001B[0m                 document,\n\u001B[1;32m    754\u001B[0m                 variable_values,\n\u001B[1;32m    755\u001B[0m                 operation_name\u001B[38;5;241m=\u001B[39moperation_name,\n\u001B[1;32m    756\u001B[0m             )\n\u001B[0;32m--> 758\u001B[0m result \u001B[38;5;241m=\u001B[39m \u001B[38;5;28;43mself\u001B[39;49m\u001B[38;5;241;43m.\u001B[39;49m\u001B[43mtransport\u001B[49m\u001B[38;5;241;43m.\u001B[39;49m\u001B[43mexecute\u001B[49m\u001B[43m(\u001B[49m\n\u001B[1;32m    759\u001B[0m \u001B[43m    \u001B[49m\u001B[43mdocument\u001B[49m\u001B[43m,\u001B[49m\n\u001B[1;32m    760\u001B[0m \u001B[43m    \u001B[49m\u001B[43mvariable_values\u001B[49m\u001B[38;5;241;43m=\u001B[39;49m\u001B[43mvariable_values\u001B[49m\u001B[43m,\u001B[49m\n\u001B[1;32m    761\u001B[0m \u001B[43m    \u001B[49m\u001B[43moperation_name\u001B[49m\u001B[38;5;241;43m=\u001B[39;49m\u001B[43moperation_name\u001B[49m\u001B[43m,\u001B[49m\n\u001B[1;32m    762\u001B[0m \u001B[43m    \u001B[49m\u001B[38;5;241;43m*\u001B[39;49m\u001B[38;5;241;43m*\u001B[39;49m\u001B[43mkwargs\u001B[49m\u001B[43m,\u001B[49m\n\u001B[1;32m    763\u001B[0m \u001B[43m\u001B[49m\u001B[43m)\u001B[49m\n\u001B[1;32m    765\u001B[0m \u001B[38;5;66;03m# Unserialize the result if requested\u001B[39;00m\n\u001B[1;32m    766\u001B[0m \u001B[38;5;28;01mif\u001B[39;00m \u001B[38;5;28mself\u001B[39m\u001B[38;5;241m.\u001B[39mclient\u001B[38;5;241m.\u001B[39mschema:\n",
      "File \u001B[0;32m~/miniforge3/envs/vs_base/lib/python3.10/site-packages/gql/transport/requests.py:220\u001B[0m, in \u001B[0;36mRequestsHTTPTransport.execute\u001B[0;34m(self, document, variable_values, operation_name, timeout, extra_args, upload_files)\u001B[0m\n\u001B[1;32m    217\u001B[0m     post_args\u001B[38;5;241m.\u001B[39mupdate(extra_args)\n\u001B[1;32m    219\u001B[0m \u001B[38;5;66;03m# Using the created session to perform requests\u001B[39;00m\n\u001B[0;32m--> 220\u001B[0m response \u001B[38;5;241m=\u001B[39m \u001B[38;5;28;43mself\u001B[39;49m\u001B[38;5;241;43m.\u001B[39;49m\u001B[43msession\u001B[49m\u001B[38;5;241;43m.\u001B[39;49m\u001B[43mrequest\u001B[49m\u001B[43m(\u001B[49m\n\u001B[1;32m    221\u001B[0m \u001B[43m    \u001B[49m\u001B[38;5;28;43mself\u001B[39;49m\u001B[38;5;241;43m.\u001B[39;49m\u001B[43mmethod\u001B[49m\u001B[43m,\u001B[49m\u001B[43m \u001B[49m\u001B[38;5;28;43mself\u001B[39;49m\u001B[38;5;241;43m.\u001B[39;49m\u001B[43murl\u001B[49m\u001B[43m,\u001B[49m\u001B[43m \u001B[49m\u001B[38;5;241;43m*\u001B[39;49m\u001B[38;5;241;43m*\u001B[39;49m\u001B[43mpost_args\u001B[49m\u001B[43m  \u001B[49m\u001B[38;5;66;43;03m# type: ignore\u001B[39;49;00m\n\u001B[1;32m    222\u001B[0m \u001B[43m\u001B[49m\u001B[43m)\u001B[49m\n\u001B[1;32m    223\u001B[0m \u001B[38;5;28mself\u001B[39m\u001B[38;5;241m.\u001B[39mresponse_headers \u001B[38;5;241m=\u001B[39m response\u001B[38;5;241m.\u001B[39mheaders\n\u001B[1;32m    225\u001B[0m \u001B[38;5;28;01mdef\u001B[39;00m \u001B[38;5;21mraise_response_error\u001B[39m(resp: requests\u001B[38;5;241m.\u001B[39mResponse, reason: \u001B[38;5;28mstr\u001B[39m):\n\u001B[1;32m    226\u001B[0m     \u001B[38;5;66;03m# We raise a TransportServerError if the status code is 400 or higher\u001B[39;00m\n\u001B[1;32m    227\u001B[0m     \u001B[38;5;66;03m# We raise a TransportProtocolError in the other cases\u001B[39;00m\n",
      "File \u001B[0;32m~/miniforge3/envs/vs_base/lib/python3.10/site-packages/requests/sessions.py:587\u001B[0m, in \u001B[0;36mSession.request\u001B[0;34m(self, method, url, params, data, headers, cookies, files, auth, timeout, allow_redirects, proxies, hooks, stream, verify, cert, json)\u001B[0m\n\u001B[1;32m    582\u001B[0m send_kwargs \u001B[38;5;241m=\u001B[39m {\n\u001B[1;32m    583\u001B[0m     \u001B[38;5;124m\"\u001B[39m\u001B[38;5;124mtimeout\u001B[39m\u001B[38;5;124m\"\u001B[39m: timeout,\n\u001B[1;32m    584\u001B[0m     \u001B[38;5;124m\"\u001B[39m\u001B[38;5;124mallow_redirects\u001B[39m\u001B[38;5;124m\"\u001B[39m: allow_redirects,\n\u001B[1;32m    585\u001B[0m }\n\u001B[1;32m    586\u001B[0m send_kwargs\u001B[38;5;241m.\u001B[39mupdate(settings)\n\u001B[0;32m--> 587\u001B[0m resp \u001B[38;5;241m=\u001B[39m \u001B[38;5;28;43mself\u001B[39;49m\u001B[38;5;241;43m.\u001B[39;49m\u001B[43msend\u001B[49m\u001B[43m(\u001B[49m\u001B[43mprep\u001B[49m\u001B[43m,\u001B[49m\u001B[43m \u001B[49m\u001B[38;5;241;43m*\u001B[39;49m\u001B[38;5;241;43m*\u001B[39;49m\u001B[43msend_kwargs\u001B[49m\u001B[43m)\u001B[49m\n\u001B[1;32m    589\u001B[0m \u001B[38;5;28;01mreturn\u001B[39;00m resp\n",
      "File \u001B[0;32m~/miniforge3/envs/vs_base/lib/python3.10/site-packages/requests/sessions.py:701\u001B[0m, in \u001B[0;36mSession.send\u001B[0;34m(self, request, **kwargs)\u001B[0m\n\u001B[1;32m    698\u001B[0m start \u001B[38;5;241m=\u001B[39m preferred_clock()\n\u001B[1;32m    700\u001B[0m \u001B[38;5;66;03m# Send the request\u001B[39;00m\n\u001B[0;32m--> 701\u001B[0m r \u001B[38;5;241m=\u001B[39m \u001B[43madapter\u001B[49m\u001B[38;5;241;43m.\u001B[39;49m\u001B[43msend\u001B[49m\u001B[43m(\u001B[49m\u001B[43mrequest\u001B[49m\u001B[43m,\u001B[49m\u001B[43m \u001B[49m\u001B[38;5;241;43m*\u001B[39;49m\u001B[38;5;241;43m*\u001B[39;49m\u001B[43mkwargs\u001B[49m\u001B[43m)\u001B[49m\n\u001B[1;32m    703\u001B[0m \u001B[38;5;66;03m# Total elapsed time of the request (approximately)\u001B[39;00m\n\u001B[1;32m    704\u001B[0m elapsed \u001B[38;5;241m=\u001B[39m preferred_clock() \u001B[38;5;241m-\u001B[39m start\n",
      "File \u001B[0;32m~/miniforge3/envs/vs_base/lib/python3.10/site-packages/requests/adapters.py:489\u001B[0m, in \u001B[0;36mHTTPAdapter.send\u001B[0;34m(self, request, stream, timeout, verify, cert, proxies)\u001B[0m\n\u001B[1;32m    487\u001B[0m \u001B[38;5;28;01mtry\u001B[39;00m:\n\u001B[1;32m    488\u001B[0m     \u001B[38;5;28;01mif\u001B[39;00m \u001B[38;5;129;01mnot\u001B[39;00m chunked:\n\u001B[0;32m--> 489\u001B[0m         resp \u001B[38;5;241m=\u001B[39m \u001B[43mconn\u001B[49m\u001B[38;5;241;43m.\u001B[39;49m\u001B[43murlopen\u001B[49m\u001B[43m(\u001B[49m\n\u001B[1;32m    490\u001B[0m \u001B[43m            \u001B[49m\u001B[43mmethod\u001B[49m\u001B[38;5;241;43m=\u001B[39;49m\u001B[43mrequest\u001B[49m\u001B[38;5;241;43m.\u001B[39;49m\u001B[43mmethod\u001B[49m\u001B[43m,\u001B[49m\n\u001B[1;32m    491\u001B[0m \u001B[43m            \u001B[49m\u001B[43murl\u001B[49m\u001B[38;5;241;43m=\u001B[39;49m\u001B[43murl\u001B[49m\u001B[43m,\u001B[49m\n\u001B[1;32m    492\u001B[0m \u001B[43m            \u001B[49m\u001B[43mbody\u001B[49m\u001B[38;5;241;43m=\u001B[39;49m\u001B[43mrequest\u001B[49m\u001B[38;5;241;43m.\u001B[39;49m\u001B[43mbody\u001B[49m\u001B[43m,\u001B[49m\n\u001B[1;32m    493\u001B[0m \u001B[43m            \u001B[49m\u001B[43mheaders\u001B[49m\u001B[38;5;241;43m=\u001B[39;49m\u001B[43mrequest\u001B[49m\u001B[38;5;241;43m.\u001B[39;49m\u001B[43mheaders\u001B[49m\u001B[43m,\u001B[49m\n\u001B[1;32m    494\u001B[0m \u001B[43m            \u001B[49m\u001B[43mredirect\u001B[49m\u001B[38;5;241;43m=\u001B[39;49m\u001B[38;5;28;43;01mFalse\u001B[39;49;00m\u001B[43m,\u001B[49m\n\u001B[1;32m    495\u001B[0m \u001B[43m            \u001B[49m\u001B[43massert_same_host\u001B[49m\u001B[38;5;241;43m=\u001B[39;49m\u001B[38;5;28;43;01mFalse\u001B[39;49;00m\u001B[43m,\u001B[49m\n\u001B[1;32m    496\u001B[0m \u001B[43m            \u001B[49m\u001B[43mpreload_content\u001B[49m\u001B[38;5;241;43m=\u001B[39;49m\u001B[38;5;28;43;01mFalse\u001B[39;49;00m\u001B[43m,\u001B[49m\n\u001B[1;32m    497\u001B[0m \u001B[43m            \u001B[49m\u001B[43mdecode_content\u001B[49m\u001B[38;5;241;43m=\u001B[39;49m\u001B[38;5;28;43;01mFalse\u001B[39;49;00m\u001B[43m,\u001B[49m\n\u001B[1;32m    498\u001B[0m \u001B[43m            \u001B[49m\u001B[43mretries\u001B[49m\u001B[38;5;241;43m=\u001B[39;49m\u001B[38;5;28;43mself\u001B[39;49m\u001B[38;5;241;43m.\u001B[39;49m\u001B[43mmax_retries\u001B[49m\u001B[43m,\u001B[49m\n\u001B[1;32m    499\u001B[0m \u001B[43m            \u001B[49m\u001B[43mtimeout\u001B[49m\u001B[38;5;241;43m=\u001B[39;49m\u001B[43mtimeout\u001B[49m\u001B[43m,\u001B[49m\n\u001B[1;32m    500\u001B[0m \u001B[43m        \u001B[49m\u001B[43m)\u001B[49m\n\u001B[1;32m    502\u001B[0m     \u001B[38;5;66;03m# Send the request.\u001B[39;00m\n\u001B[1;32m    503\u001B[0m     \u001B[38;5;28;01melse\u001B[39;00m:\n\u001B[1;32m    504\u001B[0m         \u001B[38;5;28;01mif\u001B[39;00m \u001B[38;5;28mhasattr\u001B[39m(conn, \u001B[38;5;124m\"\u001B[39m\u001B[38;5;124mproxy_pool\u001B[39m\u001B[38;5;124m\"\u001B[39m):\n",
      "File \u001B[0;32m~/miniforge3/envs/vs_base/lib/python3.10/site-packages/urllib3/connectionpool.py:703\u001B[0m, in \u001B[0;36mHTTPConnectionPool.urlopen\u001B[0;34m(self, method, url, body, headers, retries, redirect, assert_same_host, timeout, pool_timeout, release_conn, chunked, body_pos, **response_kw)\u001B[0m\n\u001B[1;32m    700\u001B[0m     \u001B[38;5;28mself\u001B[39m\u001B[38;5;241m.\u001B[39m_prepare_proxy(conn)\n\u001B[1;32m    702\u001B[0m \u001B[38;5;66;03m# Make the request on the httplib connection object.\u001B[39;00m\n\u001B[0;32m--> 703\u001B[0m httplib_response \u001B[38;5;241m=\u001B[39m \u001B[38;5;28;43mself\u001B[39;49m\u001B[38;5;241;43m.\u001B[39;49m\u001B[43m_make_request\u001B[49m\u001B[43m(\u001B[49m\n\u001B[1;32m    704\u001B[0m \u001B[43m    \u001B[49m\u001B[43mconn\u001B[49m\u001B[43m,\u001B[49m\n\u001B[1;32m    705\u001B[0m \u001B[43m    \u001B[49m\u001B[43mmethod\u001B[49m\u001B[43m,\u001B[49m\n\u001B[1;32m    706\u001B[0m \u001B[43m    \u001B[49m\u001B[43murl\u001B[49m\u001B[43m,\u001B[49m\n\u001B[1;32m    707\u001B[0m \u001B[43m    \u001B[49m\u001B[43mtimeout\u001B[49m\u001B[38;5;241;43m=\u001B[39;49m\u001B[43mtimeout_obj\u001B[49m\u001B[43m,\u001B[49m\n\u001B[1;32m    708\u001B[0m \u001B[43m    \u001B[49m\u001B[43mbody\u001B[49m\u001B[38;5;241;43m=\u001B[39;49m\u001B[43mbody\u001B[49m\u001B[43m,\u001B[49m\n\u001B[1;32m    709\u001B[0m \u001B[43m    \u001B[49m\u001B[43mheaders\u001B[49m\u001B[38;5;241;43m=\u001B[39;49m\u001B[43mheaders\u001B[49m\u001B[43m,\u001B[49m\n\u001B[1;32m    710\u001B[0m \u001B[43m    \u001B[49m\u001B[43mchunked\u001B[49m\u001B[38;5;241;43m=\u001B[39;49m\u001B[43mchunked\u001B[49m\u001B[43m,\u001B[49m\n\u001B[1;32m    711\u001B[0m \u001B[43m\u001B[49m\u001B[43m)\u001B[49m\n\u001B[1;32m    713\u001B[0m \u001B[38;5;66;03m# If we're going to release the connection in ``finally:``, then\u001B[39;00m\n\u001B[1;32m    714\u001B[0m \u001B[38;5;66;03m# the response doesn't need to know about the connection. Otherwise\u001B[39;00m\n\u001B[1;32m    715\u001B[0m \u001B[38;5;66;03m# it will also try to release it and we'll have a double-release\u001B[39;00m\n\u001B[1;32m    716\u001B[0m \u001B[38;5;66;03m# mess.\u001B[39;00m\n\u001B[1;32m    717\u001B[0m response_conn \u001B[38;5;241m=\u001B[39m conn \u001B[38;5;28;01mif\u001B[39;00m \u001B[38;5;129;01mnot\u001B[39;00m release_conn \u001B[38;5;28;01melse\u001B[39;00m \u001B[38;5;28;01mNone\u001B[39;00m\n",
      "File \u001B[0;32m~/miniforge3/envs/vs_base/lib/python3.10/site-packages/urllib3/connectionpool.py:449\u001B[0m, in \u001B[0;36mHTTPConnectionPool._make_request\u001B[0;34m(self, conn, method, url, timeout, chunked, **httplib_request_kw)\u001B[0m\n\u001B[1;32m    444\u001B[0m             httplib_response \u001B[38;5;241m=\u001B[39m conn\u001B[38;5;241m.\u001B[39mgetresponse()\n\u001B[1;32m    445\u001B[0m         \u001B[38;5;28;01mexcept\u001B[39;00m \u001B[38;5;167;01mBaseException\u001B[39;00m \u001B[38;5;28;01mas\u001B[39;00m e:\n\u001B[1;32m    446\u001B[0m             \u001B[38;5;66;03m# Remove the TypeError from the exception chain in\u001B[39;00m\n\u001B[1;32m    447\u001B[0m             \u001B[38;5;66;03m# Python 3 (including for exceptions like SystemExit).\u001B[39;00m\n\u001B[1;32m    448\u001B[0m             \u001B[38;5;66;03m# Otherwise it looks like a bug in the code.\u001B[39;00m\n\u001B[0;32m--> 449\u001B[0m             \u001B[43msix\u001B[49m\u001B[38;5;241;43m.\u001B[39;49m\u001B[43mraise_from\u001B[49m\u001B[43m(\u001B[49m\u001B[43me\u001B[49m\u001B[43m,\u001B[49m\u001B[43m \u001B[49m\u001B[38;5;28;43;01mNone\u001B[39;49;00m\u001B[43m)\u001B[49m\n\u001B[1;32m    450\u001B[0m \u001B[38;5;28;01mexcept\u001B[39;00m (SocketTimeout, BaseSSLError, SocketError) \u001B[38;5;28;01mas\u001B[39;00m e:\n\u001B[1;32m    451\u001B[0m     \u001B[38;5;28mself\u001B[39m\u001B[38;5;241m.\u001B[39m_raise_timeout(err\u001B[38;5;241m=\u001B[39me, url\u001B[38;5;241m=\u001B[39murl, timeout_value\u001B[38;5;241m=\u001B[39mread_timeout)\n",
      "File \u001B[0;32m<string>:3\u001B[0m, in \u001B[0;36mraise_from\u001B[0;34m(value, from_value)\u001B[0m\n",
      "File \u001B[0;32m~/miniforge3/envs/vs_base/lib/python3.10/site-packages/urllib3/connectionpool.py:444\u001B[0m, in \u001B[0;36mHTTPConnectionPool._make_request\u001B[0;34m(self, conn, method, url, timeout, chunked, **httplib_request_kw)\u001B[0m\n\u001B[1;32m    441\u001B[0m \u001B[38;5;28;01mexcept\u001B[39;00m \u001B[38;5;167;01mTypeError\u001B[39;00m:\n\u001B[1;32m    442\u001B[0m     \u001B[38;5;66;03m# Python 3\u001B[39;00m\n\u001B[1;32m    443\u001B[0m     \u001B[38;5;28;01mtry\u001B[39;00m:\n\u001B[0;32m--> 444\u001B[0m         httplib_response \u001B[38;5;241m=\u001B[39m \u001B[43mconn\u001B[49m\u001B[38;5;241;43m.\u001B[39;49m\u001B[43mgetresponse\u001B[49m\u001B[43m(\u001B[49m\u001B[43m)\u001B[49m\n\u001B[1;32m    445\u001B[0m     \u001B[38;5;28;01mexcept\u001B[39;00m \u001B[38;5;167;01mBaseException\u001B[39;00m \u001B[38;5;28;01mas\u001B[39;00m e:\n\u001B[1;32m    446\u001B[0m         \u001B[38;5;66;03m# Remove the TypeError from the exception chain in\u001B[39;00m\n\u001B[1;32m    447\u001B[0m         \u001B[38;5;66;03m# Python 3 (including for exceptions like SystemExit).\u001B[39;00m\n\u001B[1;32m    448\u001B[0m         \u001B[38;5;66;03m# Otherwise it looks like a bug in the code.\u001B[39;00m\n\u001B[1;32m    449\u001B[0m         six\u001B[38;5;241m.\u001B[39mraise_from(e, \u001B[38;5;28;01mNone\u001B[39;00m)\n",
      "File \u001B[0;32m~/miniforge3/envs/vs_base/lib/python3.10/http/client.py:1374\u001B[0m, in \u001B[0;36mHTTPConnection.getresponse\u001B[0;34m(self)\u001B[0m\n\u001B[1;32m   1372\u001B[0m \u001B[38;5;28;01mtry\u001B[39;00m:\n\u001B[1;32m   1373\u001B[0m     \u001B[38;5;28;01mtry\u001B[39;00m:\n\u001B[0;32m-> 1374\u001B[0m         \u001B[43mresponse\u001B[49m\u001B[38;5;241;43m.\u001B[39;49m\u001B[43mbegin\u001B[49m\u001B[43m(\u001B[49m\u001B[43m)\u001B[49m\n\u001B[1;32m   1375\u001B[0m     \u001B[38;5;28;01mexcept\u001B[39;00m \u001B[38;5;167;01mConnectionError\u001B[39;00m:\n\u001B[1;32m   1376\u001B[0m         \u001B[38;5;28mself\u001B[39m\u001B[38;5;241m.\u001B[39mclose()\n",
      "File \u001B[0;32m~/miniforge3/envs/vs_base/lib/python3.10/http/client.py:318\u001B[0m, in \u001B[0;36mHTTPResponse.begin\u001B[0;34m(self)\u001B[0m\n\u001B[1;32m    316\u001B[0m \u001B[38;5;66;03m# read until we get a non-100 response\u001B[39;00m\n\u001B[1;32m    317\u001B[0m \u001B[38;5;28;01mwhile\u001B[39;00m \u001B[38;5;28;01mTrue\u001B[39;00m:\n\u001B[0;32m--> 318\u001B[0m     version, status, reason \u001B[38;5;241m=\u001B[39m \u001B[38;5;28;43mself\u001B[39;49m\u001B[38;5;241;43m.\u001B[39;49m\u001B[43m_read_status\u001B[49m\u001B[43m(\u001B[49m\u001B[43m)\u001B[49m\n\u001B[1;32m    319\u001B[0m     \u001B[38;5;28;01mif\u001B[39;00m status \u001B[38;5;241m!=\u001B[39m CONTINUE:\n\u001B[1;32m    320\u001B[0m         \u001B[38;5;28;01mbreak\u001B[39;00m\n",
      "File \u001B[0;32m~/miniforge3/envs/vs_base/lib/python3.10/http/client.py:279\u001B[0m, in \u001B[0;36mHTTPResponse._read_status\u001B[0;34m(self)\u001B[0m\n\u001B[1;32m    278\u001B[0m \u001B[38;5;28;01mdef\u001B[39;00m \u001B[38;5;21m_read_status\u001B[39m(\u001B[38;5;28mself\u001B[39m):\n\u001B[0;32m--> 279\u001B[0m     line \u001B[38;5;241m=\u001B[39m \u001B[38;5;28mstr\u001B[39m(\u001B[38;5;28;43mself\u001B[39;49m\u001B[38;5;241;43m.\u001B[39;49m\u001B[43mfp\u001B[49m\u001B[38;5;241;43m.\u001B[39;49m\u001B[43mreadline\u001B[49m\u001B[43m(\u001B[49m\u001B[43m_MAXLINE\u001B[49m\u001B[43m \u001B[49m\u001B[38;5;241;43m+\u001B[39;49m\u001B[43m \u001B[49m\u001B[38;5;241;43m1\u001B[39;49m\u001B[43m)\u001B[49m, \u001B[38;5;124m\"\u001B[39m\u001B[38;5;124miso-8859-1\u001B[39m\u001B[38;5;124m\"\u001B[39m)\n\u001B[1;32m    280\u001B[0m     \u001B[38;5;28;01mif\u001B[39;00m \u001B[38;5;28mlen\u001B[39m(line) \u001B[38;5;241m>\u001B[39m _MAXLINE:\n\u001B[1;32m    281\u001B[0m         \u001B[38;5;28;01mraise\u001B[39;00m LineTooLong(\u001B[38;5;124m\"\u001B[39m\u001B[38;5;124mstatus line\u001B[39m\u001B[38;5;124m\"\u001B[39m)\n",
      "File \u001B[0;32m~/miniforge3/envs/vs_base/lib/python3.10/socket.py:705\u001B[0m, in \u001B[0;36mSocketIO.readinto\u001B[0;34m(self, b)\u001B[0m\n\u001B[1;32m    703\u001B[0m \u001B[38;5;28;01mwhile\u001B[39;00m \u001B[38;5;28;01mTrue\u001B[39;00m:\n\u001B[1;32m    704\u001B[0m     \u001B[38;5;28;01mtry\u001B[39;00m:\n\u001B[0;32m--> 705\u001B[0m         \u001B[38;5;28;01mreturn\u001B[39;00m \u001B[38;5;28;43mself\u001B[39;49m\u001B[38;5;241;43m.\u001B[39;49m\u001B[43m_sock\u001B[49m\u001B[38;5;241;43m.\u001B[39;49m\u001B[43mrecv_into\u001B[49m\u001B[43m(\u001B[49m\u001B[43mb\u001B[49m\u001B[43m)\u001B[49m\n\u001B[1;32m    706\u001B[0m     \u001B[38;5;28;01mexcept\u001B[39;00m timeout:\n\u001B[1;32m    707\u001B[0m         \u001B[38;5;28mself\u001B[39m\u001B[38;5;241m.\u001B[39m_timeout_occurred \u001B[38;5;241m=\u001B[39m \u001B[38;5;28;01mTrue\u001B[39;00m\n",
      "File \u001B[0;32m~/miniforge3/envs/vs_base/lib/python3.10/ssl.py:1274\u001B[0m, in \u001B[0;36mSSLSocket.recv_into\u001B[0;34m(self, buffer, nbytes, flags)\u001B[0m\n\u001B[1;32m   1270\u001B[0m     \u001B[38;5;28;01mif\u001B[39;00m flags \u001B[38;5;241m!=\u001B[39m \u001B[38;5;241m0\u001B[39m:\n\u001B[1;32m   1271\u001B[0m         \u001B[38;5;28;01mraise\u001B[39;00m \u001B[38;5;167;01mValueError\u001B[39;00m(\n\u001B[1;32m   1272\u001B[0m           \u001B[38;5;124m\"\u001B[39m\u001B[38;5;124mnon-zero flags not allowed in calls to recv_into() on \u001B[39m\u001B[38;5;132;01m%s\u001B[39;00m\u001B[38;5;124m\"\u001B[39m \u001B[38;5;241m%\u001B[39m\n\u001B[1;32m   1273\u001B[0m           \u001B[38;5;28mself\u001B[39m\u001B[38;5;241m.\u001B[39m\u001B[38;5;18m__class__\u001B[39m)\n\u001B[0;32m-> 1274\u001B[0m     \u001B[38;5;28;01mreturn\u001B[39;00m \u001B[38;5;28;43mself\u001B[39;49m\u001B[38;5;241;43m.\u001B[39;49m\u001B[43mread\u001B[49m\u001B[43m(\u001B[49m\u001B[43mnbytes\u001B[49m\u001B[43m,\u001B[49m\u001B[43m \u001B[49m\u001B[43mbuffer\u001B[49m\u001B[43m)\u001B[49m\n\u001B[1;32m   1275\u001B[0m \u001B[38;5;28;01melse\u001B[39;00m:\n\u001B[1;32m   1276\u001B[0m     \u001B[38;5;28;01mreturn\u001B[39;00m \u001B[38;5;28msuper\u001B[39m()\u001B[38;5;241m.\u001B[39mrecv_into(buffer, nbytes, flags)\n",
      "File \u001B[0;32m~/miniforge3/envs/vs_base/lib/python3.10/ssl.py:1130\u001B[0m, in \u001B[0;36mSSLSocket.read\u001B[0;34m(self, len, buffer)\u001B[0m\n\u001B[1;32m   1128\u001B[0m \u001B[38;5;28;01mtry\u001B[39;00m:\n\u001B[1;32m   1129\u001B[0m     \u001B[38;5;28;01mif\u001B[39;00m buffer \u001B[38;5;129;01mis\u001B[39;00m \u001B[38;5;129;01mnot\u001B[39;00m \u001B[38;5;28;01mNone\u001B[39;00m:\n\u001B[0;32m-> 1130\u001B[0m         \u001B[38;5;28;01mreturn\u001B[39;00m \u001B[38;5;28;43mself\u001B[39;49m\u001B[38;5;241;43m.\u001B[39;49m\u001B[43m_sslobj\u001B[49m\u001B[38;5;241;43m.\u001B[39;49m\u001B[43mread\u001B[49m\u001B[43m(\u001B[49m\u001B[38;5;28;43mlen\u001B[39;49m\u001B[43m,\u001B[49m\u001B[43m \u001B[49m\u001B[43mbuffer\u001B[49m\u001B[43m)\u001B[49m\n\u001B[1;32m   1131\u001B[0m     \u001B[38;5;28;01melse\u001B[39;00m:\n\u001B[1;32m   1132\u001B[0m         \u001B[38;5;28;01mreturn\u001B[39;00m \u001B[38;5;28mself\u001B[39m\u001B[38;5;241m.\u001B[39m_sslobj\u001B[38;5;241m.\u001B[39mread(\u001B[38;5;28mlen\u001B[39m)\n",
      "\u001B[0;31mKeyboardInterrupt\u001B[0m: "
     ]
    }
   ],
   "source": [
    "# response = client.execute(gql(arb_query % start_timestamp))\n",
    "# result = response['swaps']\n",
    "# id_set = set()\n",
    "#\n",
    "# for item in result:\n",
    "#     id_set.add(item[\"id\"])\n",
    "\n",
    "skip = 0\n",
    "last_cnt = 0\n",
    "while int(result[-1][\"timestamp\"]) <= end_timestamp:\n",
    "    print(datetime.now(), \"result cnt:\", len(result), \"id cnt:\", len(id_set), \"skip: \", skip)\n",
    "    print(\"Current time: \", utils.utc_timestamp_to_date(int(result[-1][\"timestamp\"])))\n",
    "    last_cnt = len(result)\n",
    "    current_timestamp = int(result[-1][\"timestamp\"])\n",
    "    query = arb_query % (skip, current_timestamp)\n",
    "    try:\n",
    "        response = client.execute(gql(query))\n",
    "\n",
    "        swap_data = response[\"swaps\"]\n",
    "        if len(swap_data) == 0:\n",
    "            break\n",
    "        for item in swap_data:\n",
    "            if int(item[\"timestamp\"]) > end_timestamp:\n",
    "                break\n",
    "            elif item[\"id\"] in id_set:\n",
    "                continue\n",
    "            else:\n",
    "                result.append(item)\n",
    "                id_set.add(item[\"id\"])\n",
    "\n",
    "        if last_cnt == len(result):\n",
    "            skip += 100\n",
    "        else:\n",
    "            skip = 0\n",
    "    except Exception as ex:\n",
    "        print(\"Fetching swap data error\", ex)"
   ],
   "metadata": {
    "collapsed": false,
    "pycharm": {
     "name": "#%%\n"
    }
   }
  },
  {
   "cell_type": "code",
   "execution_count": 41,
   "outputs": [
    {
     "name": "stdout",
     "output_type": "stream",
     "text": [
      "100\n",
      "23386\n"
     ]
    }
   ],
   "source": [
    "query = arb_query % current_timestamp\n",
    "response = client.execute(gql(query))\n",
    "swap_data = response[\"swaps\"]\n",
    "print(len(swap_data))\n",
    "print(len(id_set))"
   ],
   "metadata": {
    "collapsed": false,
    "pycharm": {
     "name": "#%%\n"
    }
   }
  },
  {
   "cell_type": "code",
   "execution_count": 45,
   "outputs": [
    {
     "name": "stdout",
     "output_type": "stream",
     "text": [
      "1684936346\n",
      "1684936346\n"
     ]
    }
   ],
   "source": [
    "print(current_timestamp)\n",
    "print(item[\"timestamp\"])"
   ],
   "metadata": {
    "collapsed": false,
    "pycharm": {
     "name": "#%%\n"
    }
   }
  },
  {
   "cell_type": "code",
   "execution_count": 46,
   "outputs": [
    {
     "name": "stdout",
     "output_type": "stream",
     "text": [
      "[{'id': '0x12a70eac042cf435da93d9cdca04f64d4abd946270608e8f6738536fb116cba115000000', 'amountIn': '631949258', 'amountInUSD': '631.949258', 'amountOut': '351717616321909247', 'amountOutUSD': '631.8643907572813422825935', 'tick': '-201388', 'timestamp': '1684936346', 'tokenIn': {'symbol': 'USDC', 'decimals': 6}, 'tokenOut': {'symbol': 'WETH', 'decimals': 18}}, {'id': '0x71a4802f92e6d6d8f283daaaa73cf66e3bb0a87b5c58ea9ee3a2b00b237d507301020000', 'amountIn': '88000000', 'amountInUSD': '88', 'amountOut': '48975992489322807', 'amountOutUSD': '87.9858847549895606649735', 'tick': '-201388', 'timestamp': '1684936346', 'tokenIn': {'symbol': 'USDC', 'decimals': 6}, 'tokenOut': {'symbol': 'WETH', 'decimals': 18}}, {'id': '0x71a4802f92e6d6d8f283daaaa73cf66e3bb0a87b5c58ea9ee3a2b00b237d507304030000', 'amountIn': '88000000', 'amountInUSD': '88', 'amountOut': '48975345149648370', 'amountOutUSD': '87.984721802467368012885', 'tick': '-201388', 'timestamp': '1684936346', 'tokenIn': {'symbol': 'USDC', 'decimals': 6}, 'tokenOut': {'symbol': 'WETH', 'decimals': 18}}, {'id': '0x71a4802f92e6d6d8f283daaaa73cf66e3bb0a87b5c58ea9ee3a2b00b237d507305010000', 'amountIn': '88000000', 'amountInUSD': '88', 'amountOut': '48976622345649294', 'amountOutUSD': '87.987016298493585988587', 'tick': '-201388', 'timestamp': '1684936346', 'tokenIn': {'symbol': 'USDC', 'decimals': 6}, 'tokenOut': {'symbol': 'WETH', 'decimals': 18}}, {'id': '0x71a4802f92e6d6d8f283daaaa73cf66e3bb0a87b5c58ea9ee3a2b00b237d507308020000', 'amountIn': '88000000', 'amountInUSD': '88', 'amountOut': '48975974993487179', 'amountOutUSD': '87.9858533235371486888795', 'tick': '-201388', 'timestamp': '1684936346', 'tokenIn': {'symbol': 'USDC', 'decimals': 6}, 'tokenOut': {'symbol': 'WETH', 'decimals': 18}}, {'id': '0x71a4802f92e6d6d8f283daaaa73cf66e3bb0a87b5c58ea9ee3a2b00b237d50730b030000', 'amountIn': '88000000', 'amountInUSD': '88', 'amountOut': '48975327654159618', 'amountOutUSD': '87.984690371638122412989', 'tick': '-201388', 'timestamp': '1684936346', 'tokenIn': {'symbol': 'USDC', 'decimals': 6}, 'tokenOut': {'symbol': 'WETH', 'decimals': 18}}, {'id': '0x71a4802f92e6d6d8f283daaaa73cf66e3bb0a87b5c58ea9ee3a2b00b237d50730c010000', 'amountIn': '88000000', 'amountInUSD': '88', 'amountOut': '48976604849476157', 'amountOutUSD': '87.9869848664348355501485', 'tick': '-201388', 'timestamp': '1684936346', 'tokenIn': {'symbol': 'USDC', 'decimals': 6}, 'tokenOut': {'symbol': 'WETH', 'decimals': 18}}, {'id': '0x71a4802f92e6d6d8f283daaaa73cf66e3bb0a87b5c58ea9ee3a2b00b237d50730f020000', 'amountIn': '88000000', 'amountInUSD': '88', 'amountOut': '48975957497660927', 'amountOutUSD': '87.9858218921015807952335', 'tick': '-201388', 'timestamp': '1684936346', 'tokenIn': {'symbol': 'USDC', 'decimals': 6}, 'tokenOut': {'symbol': 'WETH', 'decimals': 18}}, {'id': '0x71a4802f92e6d6d8f283daaaa73cf66e3bb0a87b5c58ea9ee3a2b00b237d507312030000', 'amountIn': '88000000', 'amountInUSD': '88', 'amountOut': '48975310158680240', 'amountOutUSD': '87.98465894082571730252', 'tick': '-201388', 'timestamp': '1684936346', 'tokenIn': {'symbol': 'USDC', 'decimals': 6}, 'tokenOut': {'symbol': 'WETH', 'decimals': 18}}, {'id': '0x71a4802f92e6d6d8f283daaaa73cf66e3bb0a87b5c58ea9ee3a2b00b237d507313010000', 'amountIn': '88000000', 'amountInUSD': '88', 'amountOut': '48976587353312396', 'amountOutUSD': '87.986953434392929194158', 'tick': '-201388', 'timestamp': '1684936346', 'tokenIn': {'symbol': 'USDC', 'decimals': 6}, 'tokenOut': {'symbol': 'WETH', 'decimals': 18}}, {'id': '0x71a4802f92e6d6d8f283daaaa73cf66e3bb0a87b5c58ea9ee3a2b00b237d507316020000', 'amountIn': '88000000', 'amountInUSD': '88', 'amountOut': '48975940001844049', 'amountOutUSD': '87.9857904606828533910145', 'tick': '-201388', 'timestamp': '1684936346', 'tokenIn': {'symbol': 'USDC', 'decimals': 6}, 'tokenOut': {'symbol': 'WETH', 'decimals': 18}}, {'id': '0x71a4802f92e6d6d8f283daaaa73cf66e3bb0a87b5c58ea9ee3a2b00b237d507319030000', 'amountIn': '88000000', 'amountInUSD': '88', 'amountOut': '48975292663210238', 'amountOutUSD': '87.984627510030156274499', 'tick': '-201388', 'timestamp': '1684936346', 'tokenIn': {'symbol': 'USDC', 'decimals': 6}, 'tokenOut': {'symbol': 'WETH', 'decimals': 18}}, {'id': '0x71a4802f92e6d6d8f283daaaa73cf66e3bb0a87b5c58ea9ee3a2b00b237d50731a010000', 'amountIn': '88000000', 'amountInUSD': '88', 'amountOut': '48976569857158010', 'amountOutUSD': '87.986922002367865124105', 'tick': '-201388', 'timestamp': '1684936346', 'tokenIn': {'symbol': 'USDC', 'decimals': 6}, 'tokenOut': {'symbol': 'WETH', 'decimals': 18}}, {'id': '0x71a4802f92e6d6d8f283daaaa73cf66e3bb0a87b5c58ea9ee3a2b00b237d50731d020000', 'amountIn': '88000000', 'amountInUSD': '88', 'amountOut': '48975922506036547', 'amountOutUSD': '87.9857590292809700692435', 'tick': '-201388', 'timestamp': '1684936346', 'tokenIn': {'symbol': 'USDC', 'decimals': 6}, 'tokenOut': {'symbol': 'WETH', 'decimals': 18}}, {'id': '0x71a4802f92e6d6d8f283daaaa73cf66e3bb0a87b5c58ea9ee3a2b00b237d50731e000000', 'amountIn': '88000000', 'amountInUSD': '88', 'amountOut': '48977199724622434', 'amountOutUSD': '87.988053565881311216557', 'tick': '-201388', 'timestamp': '1684936346', 'tokenIn': {'symbol': 'USDC', 'decimals': 6}, 'tokenOut': {'symbol': 'WETH', 'decimals': 18}}, {'id': '0x71a4802f92e6d6d8f283daaaa73cf66e3bb0a87b5c58ea9ee3a2b00b237d507320030000', 'amountIn': '88000000', 'amountInUSD': '88', 'amountOut': '48975275167749610', 'amountOutUSD': '87.984596079251435735905', 'tick': '-201388', 'timestamp': '1684936346', 'tokenIn': {'symbol': 'USDC', 'decimals': 6}, 'tokenOut': {'symbol': 'WETH', 'decimals': 18}}, {'id': '0x71a4802f92e6d6d8f283daaaa73cf66e3bb0a87b5c58ea9ee3a2b00b237d507321010000', 'amountIn': '88000000', 'amountInUSD': '88', 'amountOut': '48976552361012999', 'amountOutUSD': '87.9868905703596433399895', 'tick': '-201388', 'timestamp': '1684936346', 'tokenIn': {'symbol': 'USDC', 'decimals': 6}, 'tokenOut': {'symbol': 'WETH', 'decimals': 18}}, {'id': '0x71a4802f92e6d6d8f283daaaa73cf66e3bb0a87b5c58ea9ee3a2b00b237d507324020000', 'amountIn': '88000000', 'amountInUSD': '88', 'amountOut': '48975905010238420', 'amountOutUSD': '87.98572759789592903341', 'tick': '-201388', 'timestamp': '1684936346', 'tokenIn': {'symbol': 'USDC', 'decimals': 6}, 'tokenOut': {'symbol': 'WETH', 'decimals': 18}}, {'id': '0x71a4802f92e6d6d8f283daaaa73cf66e3bb0a87b5c58ea9ee3a2b00b237d507325000000', 'amountIn': '88000000', 'amountInUSD': '88', 'amountOut': '48977182228139907', 'amountOutUSD': '87.9880221332667383945235', 'tick': '-201388', 'timestamp': '1684936346', 'tokenIn': {'symbol': 'USDC', 'decimals': 6}, 'tokenOut': {'symbol': 'WETH', 'decimals': 18}}, {'id': '0x71a4802f92e6d6d8f283daaaa73cf66e3bb0a87b5c58ea9ee3a2b00b237d507327030000', 'amountIn': '88000000', 'amountInUSD': '88', 'amountOut': '48975257672298358', 'amountOutUSD': '87.984564648489559279759', 'tick': '-201388', 'timestamp': '1684936346', 'tokenIn': {'symbol': 'USDC', 'decimals': 6}, 'tokenOut': {'symbol': 'WETH', 'decimals': 18}}, {'id': '0x71a4802f92e6d6d8f283daaaa73cf66e3bb0a87b5c58ea9ee3a2b00b237d507328010000', 'amountIn': '88000000', 'amountInUSD': '88', 'amountOut': '48976534864877364', 'amountOutUSD': '87.986859138368265638322', 'tick': '-201388', 'timestamp': '1684936346', 'tokenIn': {'symbol': 'USDC', 'decimals': 6}, 'tokenOut': {'symbol': 'WETH', 'decimals': 18}}, {'id': '0x71a4802f92e6d6d8f283daaaa73cf66e3bb0a87b5c58ea9ee3a2b00b237d50732b020000', 'amountIn': '88000000', 'amountInUSD': '88', 'amountOut': '48975887514449668', 'amountOutUSD': '87.985696166527730283514', 'tick': '-201388', 'timestamp': '1684936346', 'tokenIn': {'symbol': 'USDC', 'decimals': 6}, 'tokenOut': {'symbol': 'WETH', 'decimals': 18}}, {'id': '0x71a4802f92e6d6d8f283daaaa73cf66e3bb0a87b5c58ea9ee3a2b00b237d50732c000000', 'amountIn': '88000000', 'amountInUSD': '88', 'amountOut': '48977164731666754', 'amountOutUSD': '87.987990700669006061917', 'tick': '-201388', 'timestamp': '1684936346', 'tokenIn': {'symbol': 'USDC', 'decimals': 6}, 'tokenOut': {'symbol': 'WETH', 'decimals': 18}}, {'id': '0x71a4802f92e6d6d8f283daaaa73cf66e3bb0a87b5c58ea9ee3a2b00b237d50732e030000', 'amountIn': '88000000', 'amountInUSD': '88', 'amountOut': '48975240176856480', 'amountOutUSD': '87.98453321774452331304', 'tick': '-201388', 'timestamp': '1684936346', 'tokenIn': {'symbol': 'USDC', 'decimals': 6}, 'tokenOut': {'symbol': 'WETH', 'decimals': 18}}, {'id': '0x71a4802f92e6d6d8f283daaaa73cf66e3bb0a87b5c58ea9ee3a2b00b237d50732f010000', 'amountIn': '88000000', 'amountInUSD': '88', 'amountOut': '48976517368751104', 'amountOutUSD': '87.986827706393730222592', 'tick': '-201388', 'timestamp': '1684936346', 'tokenIn': {'symbol': 'USDC', 'decimals': 6}, 'tokenOut': {'symbol': 'WETH', 'decimals': 18}}, {'id': '0x71a4802f92e6d6d8f283daaaa73cf66e3bb0a87b5c58ea9ee3a2b00b237d507332020000', 'amountIn': '88000000', 'amountInUSD': '88', 'amountOut': '48975870018670291', 'amountOutUSD': '87.9856647351763738195555', 'tick': '-201388', 'timestamp': '1684936346', 'tokenIn': {'symbol': 'USDC', 'decimals': 6}, 'tokenOut': {'symbol': 'WETH', 'decimals': 18}}, {'id': '0x71a4802f92e6d6d8f283daaaa73cf66e3bb0a87b5c58ea9ee3a2b00b237d507333000000', 'amountIn': '88000000', 'amountInUSD': '88', 'amountOut': '48977147235202978', 'amountOutUSD': '87.987959268088119608269', 'tick': '-201388', 'timestamp': '1684936346', 'tokenIn': {'symbol': 'USDC', 'decimals': 6}, 'tokenOut': {'symbol': 'WETH', 'decimals': 18}}, {'id': '0x71a4802f92e6d6d8f283daaaa73cf66e3bb0a87b5c58ea9ee3a2b00b237d507336010000', 'amountIn': '88000000', 'amountInUSD': '88', 'amountOut': '48976499872634219', 'amountOutUSD': '87.9867962744360370927995', 'tick': '-201388', 'timestamp': '1684936346', 'tokenIn': {'symbol': 'USDC', 'decimals': 6}, 'tokenOut': {'symbol': 'WETH', 'decimals': 18}}, {'id': '0x71a4802f92e6d6d8f283daaaa73cf66e3bb0a87b5c58ea9ee3a2b00b237d507339020000', 'amountIn': '88000000', 'amountInUSD': '88', 'amountOut': '48975852522900289', 'amountOutUSD': '87.9856333038418596415345', 'tick': '-201388', 'timestamp': '1684936346', 'tokenIn': {'symbol': 'USDC', 'decimals': 6}, 'tokenOut': {'symbol': 'WETH', 'decimals': 18}}, {'id': '0x71a4802f92e6d6d8f283daaaa73cf66e3bb0a87b5c58ea9ee3a2b00b237d50733a000000', 'amountIn': '88000000', 'amountInUSD': '88', 'amountOut': '48977129738748577', 'amountOutUSD': '87.9879278355240754405585', 'tick': '-201388', 'timestamp': '1684936346', 'tokenIn': {'symbol': 'USDC', 'decimals': 6}, 'tokenOut': {'symbol': 'WETH', 'decimals': 18}}, {'id': '0x71a4802f92e6d6d8f283daaaa73cf66e3bb0a87b5c58ea9ee3a2b00b237d50733d010000', 'amountIn': '88000000', 'amountInUSD': '88', 'amountOut': '48976482376526710', 'amountOutUSD': '87.986764842495188045455', 'tick': '-201388', 'timestamp': '1684936346', 'tokenIn': {'symbol': 'USDC', 'decimals': 6}, 'tokenOut': {'symbol': 'WETH', 'decimals': 18}}, {'id': '0x71a4802f92e6d6d8f283daaaa73cf66e3bb0a87b5c58ea9ee3a2b00b237d507340020000', 'amountIn': '88000000', 'amountInUSD': '88', 'amountOut': '48975835027139662', 'amountOutUSD': '87.985601872524187749451', 'tick': '-201388', 'timestamp': '1684936346', 'tokenIn': {'symbol': 'USDC', 'decimals': 6}, 'tokenOut': {'symbol': 'WETH', 'decimals': 18}}, {'id': '0x71a4802f92e6d6d8f283daaaa73cf66e3bb0a87b5c58ea9ee3a2b00b237d507341000000', 'amountIn': '88000000', 'amountInUSD': '88', 'amountOut': '48977112242303551', 'amountOutUSD': '87.9878964029768735587855', 'tick': '-201388', 'timestamp': '1684936346', 'tokenIn': {'symbol': 'USDC', 'decimals': 6}, 'tokenOut': {'symbol': 'WETH', 'decimals': 18}}, {'id': '0x71a4802f92e6d6d8f283daaaa73cf66e3bb0a87b5c58ea9ee3a2b00b237d507344010000', 'amountIn': '88000000', 'amountInUSD': '88', 'amountOut': '48976464880428576', 'amountOutUSD': '87.986733410571181284048', 'tick': '-201388', 'timestamp': '1684936346', 'tokenIn': {'symbol': 'USDC', 'decimals': 6}, 'tokenOut': {'symbol': 'WETH', 'decimals': 18}}, {'id': '0x71a4802f92e6d6d8f283daaaa73cf66e3bb0a87b5c58ea9ee3a2b00b237d507347020000', 'amountIn': '88000000', 'amountInUSD': '88', 'amountOut': '48975817531388411', 'amountOutUSD': '87.9855704412233599398155', 'tick': '-201388', 'timestamp': '1684936346', 'tokenIn': {'symbol': 'USDC', 'decimals': 6}, 'tokenOut': {'symbol': 'WETH', 'decimals': 18}}, {'id': '0x71a4802f92e6d6d8f283daaaa73cf66e3bb0a87b5c58ea9ee3a2b00b237d507348000000', 'amountIn': '88000000', 'amountInUSD': '88', 'amountOut': '48977094745867901', 'amountOutUSD': '87.9878649704465157594605', 'tick': '-201388', 'timestamp': '1684936346', 'tokenIn': {'symbol': 'USDC', 'decimals': 6}, 'tokenOut': {'symbol': 'WETH', 'decimals': 18}}, {'id': '0x71a4802f92e6d6d8f283daaaa73cf66e3bb0a87b5c58ea9ee3a2b00b237d50734b010000', 'amountIn': '88000000', 'amountInUSD': '88', 'amountOut': '48976447384339817', 'amountOutUSD': '87.9867019786640168085785', 'tick': '-201388', 'timestamp': '1684936346', 'tokenIn': {'symbol': 'USDC', 'decimals': 6}, 'tokenOut': {'symbol': 'WETH', 'decimals': 18}}, {'id': '0x71a4802f92e6d6d8f283daaaa73cf66e3bb0a87b5c58ea9ee3a2b00b237d50734e020000', 'amountIn': '88000000', 'amountInUSD': '88', 'amountOut': '48975800035646534', 'amountOutUSD': '87.985539009939372619607', 'tick': '-201388', 'timestamp': '1684936346', 'tokenIn': {'symbol': 'USDC', 'decimals': 6}, 'tokenOut': {'symbol': 'WETH', 'decimals': 18}}, {'id': '0x71a4802f92e6d6d8f283daaaa73cf66e3bb0a87b5c58ea9ee3a2b00b237d50734f000000', 'amountIn': '88000000', 'amountInUSD': '88', 'amountOut': '48977077249441627', 'amountOutUSD': '87.9878335379330020425835', 'tick': '-201388', 'timestamp': '1684936346', 'tokenIn': {'symbol': 'USDC', 'decimals': 6}, 'tokenOut': {'symbol': 'WETH', 'decimals': 18}}, {'id': '0x71a4802f92e6d6d8f283daaaa73cf66e3bb0a87b5c58ea9ee3a2b00b237d507352010000', 'amountIn': '88000000', 'amountInUSD': '88', 'amountOut': '48976429888260434', 'amountOutUSD': '87.986670546773696415557', 'tick': '-201388', 'timestamp': '1684936346', 'tokenIn': {'symbol': 'USDC', 'decimals': 6}, 'tokenOut': {'symbol': 'WETH', 'decimals': 18}}, {'id': '0x71a4802f92e6d6d8f283daaaa73cf66e3bb0a87b5c58ea9ee3a2b00b237d507355020000', 'amountIn': '88000000', 'amountInUSD': '88', 'amountOut': '48975782539914033', 'amountOutUSD': '87.9855075786722293818465', 'tick': '-201388', 'timestamp': '1684936346', 'tokenIn': {'symbol': 'USDC', 'decimals': 6}, 'tokenOut': {'symbol': 'WETH', 'decimals': 18}}, {'id': '0x71a4802f92e6d6d8f283daaaa73cf66e3bb0a87b5c58ea9ee3a2b00b237d507356000000', 'amountIn': '88000000', 'amountInUSD': '88', 'amountOut': '48977059753024728', 'amountOutUSD': '87.987802105436330611644', 'tick': '-201388', 'timestamp': '1684936346', 'tokenIn': {'symbol': 'USDC', 'decimals': 6}, 'tokenOut': {'symbol': 'WETH', 'decimals': 18}}, {'id': '0x71a4802f92e6d6d8f283daaaa73cf66e3bb0a87b5c58ea9ee3a2b00b237d507359010000', 'amountIn': '88000000', 'amountInUSD': '88', 'amountOut': '48976412392190426', 'amountOutUSD': '87.986639114900218308473', 'tick': '-201388', 'timestamp': '1684936346', 'tokenIn': {'symbol': 'USDC', 'decimals': 6}, 'tokenOut': {'symbol': 'WETH', 'decimals': 18}}, {'id': '0x71a4802f92e6d6d8f283daaaa73cf66e3bb0a87b5c58ea9ee3a2b00b237d50735c020000', 'amountIn': '88000000', 'amountInUSD': '88', 'amountOut': '48975765044190906', 'amountOutUSD': '87.985476147421926633513', 'tick': '-201388', 'timestamp': '1684936346', 'tokenIn': {'symbol': 'USDC', 'decimals': 6}, 'tokenOut': {'symbol': 'WETH', 'decimals': 18}}, {'id': '0x71a4802f92e6d6d8f283daaaa73cf66e3bb0a87b5c58ea9ee3a2b00b237d50735d000000', 'amountIn': '88000000', 'amountInUSD': '88', 'amountOut': '48977042256617205', 'amountOutUSD': '87.9877706729565032631525', 'tick': '-201388', 'timestamp': '1684936346', 'tokenIn': {'symbol': 'USDC', 'decimals': 6}, 'tokenOut': {'symbol': 'WETH', 'decimals': 18}}, {'id': '0x71a4802f92e6d6d8f283daaaa73cf66e3bb0a87b5c58ea9ee3a2b00b237d507360010000', 'amountIn': '88000000', 'amountInUSD': '88', 'amountOut': '48976394896129793', 'amountOutUSD': '87.9866076830435824873265', 'tick': '-201388', 'timestamp': '1684936346', 'tokenIn': {'symbol': 'USDC', 'decimals': 6}, 'tokenOut': {'symbol': 'WETH', 'decimals': 18}}, {'id': '0x71a4802f92e6d6d8f283daaaa73cf66e3bb0a87b5c58ea9ee3a2b00b237d507363020000', 'amountIn': '88000000', 'amountInUSD': '88', 'amountOut': '48975747548477155', 'amountOutUSD': '87.9854447161884679676275', 'tick': '-201388', 'timestamp': '1684936346', 'tokenIn': {'symbol': 'USDC', 'decimals': 6}, 'tokenOut': {'symbol': 'WETH', 'decimals': 18}}, {'id': '0x71a4802f92e6d6d8f283daaaa73cf66e3bb0a87b5c58ea9ee3a2b00b237d507364000000', 'amountIn': '88000000', 'amountInUSD': '88', 'amountOut': '48977024760219057', 'amountOutUSD': '87.9877392404935182005985', 'tick': '-201388', 'timestamp': '1684936346', 'tokenIn': {'symbol': 'USDC', 'decimals': 6}, 'tokenOut': {'symbol': 'WETH', 'decimals': 18}}, {'id': '0x71a4802f92e6d6d8f283daaaa73cf66e3bb0a87b5c58ea9ee3a2b00b237d507367010000', 'amountIn': '88000000', 'amountInUSD': '88', 'amountOut': '48976377400078536', 'amountOutUSD': '87.986576251203790748628', 'tick': '-201388', 'timestamp': '1684936346', 'tokenIn': {'symbol': 'USDC', 'decimals': 6}, 'tokenOut': {'symbol': 'WETH', 'decimals': 18}}, {'id': '0x71a4802f92e6d6d8f283daaaa73cf66e3bb0a87b5c58ea9ee3a2b00b237d50736a020000', 'amountIn': '88000000', 'amountInUSD': '88', 'amountOut': '48975730052772778', 'amountOutUSD': '87.985413284971849791169', 'tick': '-201388', 'timestamp': '1684936346', 'tokenIn': {'symbol': 'USDC', 'decimals': 6}, 'tokenOut': {'symbol': 'WETH', 'decimals': 18}}, {'id': '0x71a4802f92e6d6d8f283daaaa73cf66e3bb0a87b5c58ea9ee3a2b00b237d50736b000000', 'amountIn': '88000000', 'amountInUSD': '88', 'amountOut': '48977007263830285', 'amountOutUSD': '87.9877078080473772204925', 'tick': '-201388', 'timestamp': '1684936346', 'tokenIn': {'symbol': 'USDC', 'decimals': 6}, 'tokenOut': {'symbol': 'WETH', 'decimals': 18}}, {'id': '0x71a4802f92e6d6d8f283daaaa73cf66e3bb0a87b5c58ea9ee3a2b00b237d50736e010000', 'amountIn': '88000000', 'amountInUSD': '88', 'amountOut': '48976359904036654', 'amountOutUSD': '87.986544819380841295867', 'tick': '-201388', 'timestamp': '1684936346', 'tokenIn': {'symbol': 'USDC', 'decimals': 6}, 'tokenOut': {'symbol': 'WETH', 'decimals': 18}}, {'id': '0x71a4802f92e6d6d8f283daaaa73cf66e3bb0a87b5c58ea9ee3a2b00b237d507371020000', 'amountIn': '88000000', 'amountInUSD': '88', 'amountOut': '48975712557077777', 'amountOutUSD': '87.9853818537720756971585', 'tick': '-201388', 'timestamp': '1684936346', 'tokenIn': {'symbol': 'USDC', 'decimals': 6}, 'tokenOut': {'symbol': 'WETH', 'decimals': 18}}, {'id': '0x71a4802f92e6d6d8f283daaaa73cf66e3bb0a87b5c58ea9ee3a2b00b237d507372000000', 'amountIn': '88000000', 'amountInUSD': '88', 'amountOut': '48976989767450889', 'amountOutUSD': '87.9876763756180803228345', 'tick': '-201388', 'timestamp': '1684936346', 'tokenIn': {'symbol': 'USDC', 'decimals': 6}, 'tokenOut': {'symbol': 'WETH', 'decimals': 18}}, {'id': '0x71a4802f92e6d6d8f283daaaa73cf66e3bb0a87b5c58ea9ee3a2b00b237d507375010000', 'amountIn': '88000000', 'amountInUSD': '88', 'amountOut': '48976342408004147', 'amountOutUSD': '87.9865133875747341290435', 'tick': '-201388', 'timestamp': '1684936346', 'tokenIn': {'symbol': 'USDC', 'decimals': 6}, 'tokenOut': {'symbol': 'WETH', 'decimals': 18}}, {'id': '0x71a4802f92e6d6d8f283daaaa73cf66e3bb0a87b5c58ea9ee3a2b00b237d507378020000', 'amountIn': '88000000', 'amountInUSD': '88', 'amountOut': '48975695061392151', 'amountOutUSD': '87.9853504225891438890855', 'tick': '-201388', 'timestamp': '1684936346', 'tokenIn': {'symbol': 'USDC', 'decimals': 6}, 'tokenOut': {'symbol': 'WETH', 'decimals': 18}}, {'id': '0x71a4802f92e6d6d8f283daaaa73cf66e3bb0a87b5c58ea9ee3a2b00b237d507379000000', 'amountIn': '88000000', 'amountInUSD': '88', 'amountOut': '48976972271080868', 'amountOutUSD': '87.987644943205625711114', 'tick': '-201388', 'timestamp': '1684936346', 'tokenIn': {'symbol': 'USDC', 'decimals': 6}, 'tokenOut': {'symbol': 'WETH', 'decimals': 18}}, {'id': '0x71a4802f92e6d6d8f283daaaa73cf66e3bb0a87b5c58ea9ee3a2b00b237d50737c010000', 'amountIn': '88000000', 'amountInUSD': '88', 'amountOut': '48976324911981015', 'amountOutUSD': '87.9864819557854692481575', 'tick': '-201388', 'timestamp': '1684936346', 'tokenIn': {'symbol': 'USDC', 'decimals': 6}, 'tokenOut': {'symbol': 'WETH', 'decimals': 18}}, {'id': '0x71a4802f92e6d6d8f283daaaa73cf66e3bb0a87b5c58ea9ee3a2b00b237d50737f020000', 'amountIn': '88000000', 'amountInUSD': '88', 'amountOut': '48975677565715899', 'amountOutUSD': '87.9853189914230525704395', 'tick': '-201388', 'timestamp': '1684936346', 'tokenIn': {'symbol': 'USDC', 'decimals': 6}, 'tokenOut': {'symbol': 'WETH', 'decimals': 18}}, {'id': '0x71a4802f92e6d6d8f283daaaa73cf66e3bb0a87b5c58ea9ee3a2b00b237d507380000000', 'amountIn': '88000000', 'amountInUSD': '88', 'amountOut': '48976954774720222', 'amountOutUSD': '87.987613510810013385331', 'tick': '-201388', 'timestamp': '1684936346', 'tokenIn': {'symbol': 'USDC', 'decimals': 6}, 'tokenOut': {'symbol': 'WETH', 'decimals': 18}}, {'id': '0x71a4802f92e6d6d8f283daaaa73cf66e3bb0a87b5c58ea9ee3a2b00b237d507383010000', 'amountIn': '88000000', 'amountInUSD': '88', 'amountOut': '48976307415967259', 'amountOutUSD': '87.9864505240130484497195', 'tick': '-201388', 'timestamp': '1684936346', 'tokenIn': {'symbol': 'USDC', 'decimals': 6}, 'tokenOut': {'symbol': 'WETH', 'decimals': 18}}, {'id': '0x71a4802f92e6d6d8f283daaaa73cf66e3bb0a87b5c58ea9ee3a2b00b237d507386020000', 'amountIn': '88000000', 'amountInUSD': '88', 'amountOut': '48975660070049023', 'amountOutUSD': '87.9852875602738053342415', 'tick': '-201388', 'timestamp': '1684936346', 'tokenIn': {'symbol': 'USDC', 'decimals': 6}, 'tokenOut': {'symbol': 'WETH', 'decimals': 18}}, {'id': '0x71a4802f92e6d6d8f283daaaa73cf66e3bb0a87b5c58ea9ee3a2b00b237d507387000000', 'amountIn': '88000000', 'amountInUSD': '88', 'amountOut': '48976937278368952', 'amountOutUSD': '87.987582078431245141996', 'tick': '-201388', 'timestamp': '1684936346', 'tokenIn': {'symbol': 'USDC', 'decimals': 6}, 'tokenOut': {'symbol': 'WETH', 'decimals': 18}}, {'id': '0x71a4802f92e6d6d8f283daaaa73cf66e3bb0a87b5c58ea9ee3a2b00b237d50738a010000', 'amountIn': '88000000', 'amountInUSD': '88', 'amountOut': '48976289919962878', 'amountOutUSD': '87.986419092257469937219', 'tick': '-201388', 'timestamp': '1684936346', 'tokenIn': {'symbol': 'USDC', 'decimals': 6}, 'tokenOut': {'symbol': 'WETH', 'decimals': 18}}, {'id': '0x71a4802f92e6d6d8f283daaaa73cf66e3bb0a87b5c58ea9ee3a2b00b237d50738d020000', 'amountIn': '88000000', 'amountInUSD': '88', 'amountOut': '48975642574391522', 'amountOutUSD': '87.985256129141400383981', 'tick': '-201388', 'timestamp': '1684936346', 'tokenIn': {'symbol': 'USDC', 'decimals': 6}, 'tokenOut': {'symbol': 'WETH', 'decimals': 18}}, {'id': '0x71a4802f92e6d6d8f283daaaa73cf66e3bb0a87b5c58ea9ee3a2b00b237d50738e000000', 'amountIn': '88000000', 'amountInUSD': '88', 'amountOut': '48976919782027057', 'amountOutUSD': '87.9875506460693191845985', 'tick': '-201388', 'timestamp': '1684936346', 'tokenIn': {'symbol': 'USDC', 'decimals': 6}, 'tokenOut': {'symbol': 'WETH', 'decimals': 18}}, {'id': '0x71a4802f92e6d6d8f283daaaa73cf66e3bb0a87b5c58ea9ee3a2b00b237d507391010000', 'amountIn': '88000000', 'amountInUSD': '88', 'amountOut': '48976272423967872', 'amountOutUSD': '87.986387660518733710656', 'tick': '-201388', 'timestamp': '1684936346', 'tokenIn': {'symbol': 'USDC', 'decimals': 6}, 'tokenOut': {'symbol': 'WETH', 'decimals': 18}}, {'id': '0x71a4802f92e6d6d8f283daaaa73cf66e3bb0a87b5c58ea9ee3a2b00b237d507394020000', 'amountIn': '88000000', 'amountInUSD': '88', 'amountOut': '48975625078743396', 'amountOutUSD': '87.985224698025837719658', 'tick': '-201388', 'timestamp': '1684936346', 'tokenIn': {'symbol': 'USDC', 'decimals': 6}, 'tokenOut': {'symbol': 'WETH', 'decimals': 18}}, {'id': '0x71a4802f92e6d6d8f283daaaa73cf66e3bb0a87b5c58ea9ee3a2b00b237d507395000000', 'amountIn': '88000000', 'amountInUSD': '88', 'amountOut': '48976902285694538', 'amountOutUSD': '87.987519213724237309649', 'tick': '-201388', 'timestamp': '1684936346', 'tokenIn': {'symbol': 'USDC', 'decimals': 6}, 'tokenOut': {'symbol': 'WETH', 'decimals': 18}}, {'id': '0x71a4802f92e6d6d8f283daaaa73cf66e3bb0a87b5c58ea9ee3a2b00b237d507398010000', 'amountIn': '88000000', 'amountInUSD': '88', 'amountOut': '48976254927982241', 'amountOutUSD': '87.9863562287968397700305', 'tick': '-201388', 'timestamp': '1684936346', 'tokenIn': {'symbol': 'USDC', 'decimals': 6}, 'tokenOut': {'symbol': 'WETH', 'decimals': 18}}, {'id': '0x71a4802f92e6d6d8f283daaaa73cf66e3bb0a87b5c58ea9ee3a2b00b237d50739b020000', 'amountIn': '88000000', 'amountInUSD': '88', 'amountOut': '48975607583104644', 'amountOutUSD': '87.985193266927115544762', 'tick': '-201388', 'timestamp': '1684936346', 'tokenIn': {'symbol': 'USDC', 'decimals': 6}, 'tokenOut': {'symbol': 'WETH', 'decimals': 18}}, {'id': '0x71a4802f92e6d6d8f283daaaa73cf66e3bb0a87b5c58ea9ee3a2b00b237d50739c000000', 'amountIn': '88000000', 'amountInUSD': '88', 'amountOut': '48976884789371395', 'amountOutUSD': '87.9874877813959995171475', 'tick': '-201388', 'timestamp': '1684936346', 'tokenIn': {'symbol': 'USDC', 'decimals': 6}, 'tokenOut': {'symbol': 'WETH', 'decimals': 18}}, {'id': '0x71a4802f92e6d6d8f283daaaa73cf66e3bb0a87b5c58ea9ee3a2b00b237d50739f010000', 'amountIn': '88000000', 'amountInUSD': '88', 'amountOut': '48976237432005986', 'amountOutUSD': '87.986324797091789911853', 'tick': '-201388', 'timestamp': '1684936346', 'tokenIn': {'symbol': 'USDC', 'decimals': 6}, 'tokenOut': {'symbol': 'WETH', 'decimals': 18}}, {'id': '0x71a4802f92e6d6d8f283daaaa73cf66e3bb0a87b5c58ea9ee3a2b00b237d5073a2020000', 'amountIn': '88000000', 'amountInUSD': '88', 'amountOut': '48975590087475268', 'amountOutUSD': '87.985161835845237452314', 'tick': '-201388', 'timestamp': '1684936346', 'tokenIn': {'symbol': 'USDC', 'decimals': 6}, 'tokenOut': {'symbol': 'WETH', 'decimals': 18}}, {'id': '0x71a4802f92e6d6d8f283daaaa73cf66e3bb0a87b5c58ea9ee3a2b00b237d5073a3000000', 'amountIn': '88000000', 'amountInUSD': '88', 'amountOut': '48976867293057626', 'amountOutUSD': '87.987456349084602214073', 'tick': '-201388', 'timestamp': '1684936346', 'tokenIn': {'symbol': 'USDC', 'decimals': 6}, 'tokenOut': {'symbol': 'WETH', 'decimals': 18}}, {'id': '0x71a4802f92e6d6d8f283daaaa73cf66e3bb0a87b5c58ea9ee3a2b00b237d5073a6010000', 'amountIn': '88000000', 'amountInUSD': '88', 'amountOut': '48976219936039106', 'amountOutUSD': '87.986293365403582339613', 'tick': '-201388', 'timestamp': '1684936346', 'tokenIn': {'symbol': 'USDC', 'decimals': 6}, 'tokenOut': {'symbol': 'WETH', 'decimals': 18}}, {'id': '0x71a4802f92e6d6d8f283daaaa73cf66e3bb0a87b5c58ea9ee3a2b00b237d5073a9020000', 'amountIn': '88000000', 'amountInUSD': '88', 'amountOut': '48975572591855267', 'amountOutUSD': '87.9851304047802016458035', 'tick': '-201388', 'timestamp': '1684936346', 'tokenIn': {'symbol': 'USDC', 'decimals': 6}, 'tokenOut': {'symbol': 'WETH', 'decimals': 18}}, {'id': '0x71a4802f92e6d6d8f283daaaa73cf66e3bb0a87b5c58ea9ee3a2b00b237d5073aa000000', 'amountIn': '88000000', 'amountInUSD': '88', 'amountOut': '48976849796753234', 'amountOutUSD': '87.987424916790050789957', 'tick': '-201388', 'timestamp': '1684936346', 'tokenIn': {'symbol': 'USDC', 'decimals': 6}, 'tokenOut': {'symbol': 'WETH', 'decimals': 18}}, {'id': '0x71a4802f92e6d6d8f283daaaa73cf66e3bb0a87b5c58ea9ee3a2b00b237d5073ad010000', 'amountIn': '88000000', 'amountInUSD': '88', 'amountOut': '48976202440081601', 'amountOutUSD': '87.9862619337322170533105', 'tick': '-201388', 'timestamp': '1684936346', 'tokenIn': {'symbol': 'USDC', 'decimals': 6}, 'tokenOut': {'symbol': 'WETH', 'decimals': 18}}, {'id': '0x71a4802f92e6d6d8f283daaaa73cf66e3bb0a87b5c58ea9ee3a2b00b237d5073b0020000', 'amountIn': '88000000', 'amountInUSD': '88', 'amountOut': '48975555096244640', 'amountOutUSD': '87.98509897373200632872', 'tick': '-201388', 'timestamp': '1684936346', 'tokenIn': {'symbol': 'USDC', 'decimals': 6}, 'tokenOut': {'symbol': 'WETH', 'decimals': 18}}, {'id': '0x71a4802f92e6d6d8f283daaaa73cf66e3bb0a87b5c58ea9ee3a2b00b237d5073b1000000', 'amountIn': '88000000', 'amountInUSD': '88', 'amountOut': '48976832300458217', 'amountOutUSD': '87.9873934845123416517785', 'tick': '-201388', 'timestamp': '1684936346', 'tokenIn': {'symbol': 'USDC', 'decimals': 6}, 'tokenOut': {'symbol': 'WETH', 'decimals': 18}}, {'id': '0x71a4802f92e6d6d8f283daaaa73cf66e3bb0a87b5c58ea9ee3a2b00b237d5073b4010000', 'amountIn': '88000000', 'amountInUSD': '88', 'amountOut': '48976184944133471', 'amountOutUSD': '87.9862305020776940529455', 'tick': '-201388', 'timestamp': '1684936346', 'tokenIn': {'symbol': 'USDC', 'decimals': 6}, 'tokenOut': {'symbol': 'WETH', 'decimals': 18}}, {'id': '0x71a4802f92e6d6d8f283daaaa73cf66e3bb0a87b5c58ea9ee3a2b00b237d5073b7020000', 'amountIn': '88000000', 'amountInUSD': '88', 'amountOut': '48975537600643389', 'amountOutUSD': '87.9850675427006550940845', 'tick': '-201388', 'timestamp': '1684936346', 'tokenIn': {'symbol': 'USDC', 'decimals': 6}, 'tokenOut': {'symbol': 'WETH', 'decimals': 18}}, {'id': '0x71a4802f92e6d6d8f283daaaa73cf66e3bb0a87b5c58ea9ee3a2b00b237d5073b8000000', 'amountIn': '88000000', 'amountInUSD': '88', 'amountOut': '48976814804172575', 'amountOutUSD': '87.9873620522514747995375', 'tick': '-201388', 'timestamp': '1684936346', 'tokenIn': {'symbol': 'USDC', 'decimals': 6}, 'tokenOut': {'symbol': 'WETH', 'decimals': 18}}, {'id': '0x71a4802f92e6d6d8f283daaaa73cf66e3bb0a87b5c58ea9ee3a2b00b237d5073bb010000', 'amountIn': '88000000', 'amountInUSD': '88', 'amountOut': '48976167448194717', 'amountOutUSD': '87.9861990704400151350285', 'tick': '-201388', 'timestamp': '1684936346', 'tokenIn': {'symbol': 'USDC', 'decimals': 6}, 'tokenOut': {'symbol': 'WETH', 'decimals': 18}}, {'id': '0x71a4802f92e6d6d8f283daaaa73cf66e3bb0a87b5c58ea9ee3a2b00b237d5073be020000', 'amountIn': '88000000', 'amountInUSD': '88', 'amountOut': '48975520105051513', 'amountOutUSD': '87.9850361116861461453865', 'tick': '-201388', 'timestamp': '1684936346', 'tokenIn': {'symbol': 'USDC', 'decimals': 6}, 'tokenOut': {'symbol': 'WETH', 'decimals': 18}}, {'id': '0x71a4802f92e6d6d8f283daaaa73cf66e3bb0a87b5c58ea9ee3a2b00b237d5073bf000000', 'amountIn': '88000000', 'amountInUSD': '88', 'amountOut': '48976797307896309', 'amountOutUSD': '87.9873306200074520297445', 'tick': '-201388', 'timestamp': '1684936346', 'tokenIn': {'symbol': 'USDC', 'decimals': 6}, 'tokenOut': {'symbol': 'WETH', 'decimals': 18}}, {'id': '0x71a4802f92e6d6d8f283daaaa73cf66e3bb0a87b5c58ea9ee3a2b00b237d5073c2010000', 'amountIn': '88000000', 'amountInUSD': '88', 'amountOut': '48976149952265337', 'amountOutUSD': '87.9861676388191767065385', 'tick': '-201388', 'timestamp': '1684936346', 'tokenIn': {'symbol': 'USDC', 'decimals': 6}, 'tokenOut': {'symbol': 'WETH', 'decimals': 18}}, {'id': '0x71a4802f92e6d6d8f283daaaa73cf66e3bb0a87b5c58ea9ee3a2b00b237d5073c5020000', 'amountIn': '88000000', 'amountInUSD': '88', 'amountOut': '48975502609469011', 'amountOutUSD': '87.9850046806884776861155', 'tick': '-201388', 'timestamp': '1684936346', 'tokenIn': {'symbol': 'USDC', 'decimals': 6}, 'tokenOut': {'symbol': 'WETH', 'decimals': 18}}, {'id': '0x71a4802f92e6d6d8f283daaaa73cf66e3bb0a87b5c58ea9ee3a2b00b237d5073c6000000', 'amountIn': '88000000', 'amountInUSD': '88', 'amountOut': '48976779811629418', 'amountOutUSD': '87.987299187780271545889', 'tick': '-201388', 'timestamp': '1684936346', 'tokenIn': {'symbol': 'USDC', 'decimals': 6}, 'tokenOut': {'symbol': 'WETH', 'decimals': 18}}, {'id': '0x71a4802f92e6d6d8f283daaaa73cf66e3bb0a87b5c58ea9ee3a2b00b237d5073c9010000', 'amountIn': '88000000', 'amountInUSD': '88', 'amountOut': '48976132456345333', 'amountOutUSD': '87.9861362072151823604965', 'tick': '-201388', 'timestamp': '1684936346', 'tokenIn': {'symbol': 'USDC', 'decimals': 6}, 'tokenOut': {'symbol': 'WETH', 'decimals': 18}}, {'id': '0x71a4802f92e6d6d8f283daaaa73cf66e3bb0a87b5c58ea9ee3a2b00b237d5073cc020000', 'amountIn': '88000000', 'amountInUSD': '88', 'amountOut': '48975485113895885', 'amountOutUSD': '87.9849732497076533092925', 'tick': '-201388', 'timestamp': '1684936346', 'tokenIn': {'symbol': 'USDC', 'decimals': 6}, 'tokenOut': {'symbol': 'WETH', 'decimals': 18}}, {'id': '0x71a4802f92e6d6d8f283daaaa73cf66e3bb0a87b5c58ea9ee3a2b00b237d5073cd000000', 'amountIn': '88000000', 'amountInUSD': '88', 'amountOut': '48976762315371902', 'amountOutUSD': '87.987267755569933347971', 'tick': '-201388', 'timestamp': '1684936346', 'tokenIn': {'symbol': 'USDC', 'decimals': 6}, 'tokenOut': {'symbol': 'WETH', 'decimals': 18}}, {'id': '0x71a4802f92e6d6d8f283daaaa73cf66e3bb0a87b5c58ea9ee3a2b00b237d5073d0010000', 'amountIn': '88000000', 'amountInUSD': '88', 'amountOut': '48976114960434704', 'amountOutUSD': '87.986104775628030300392', 'tick': '-201388', 'timestamp': '1684936346', 'tokenIn': {'symbol': 'USDC', 'decimals': 6}, 'tokenOut': {'symbol': 'WETH', 'decimals': 18}}, {'id': '0x71a4802f92e6d6d8f283daaaa73cf66e3bb0a87b5c58ea9ee3a2b00b237d5073d3020000', 'amountIn': '88000000', 'amountInUSD': '88', 'amountOut': '48975467618332133', 'amountOutUSD': '87.9849418187436694218965', 'tick': '-201388', 'timestamp': '1684936346', 'tokenIn': {'symbol': 'USDC', 'decimals': 6}, 'tokenOut': {'symbol': 'WETH', 'decimals': 18}}, {'id': '0x71a4802f92e6d6d8f283daaaa73cf66e3bb0a87b5c58ea9ee3a2b00b237d5073d4000000', 'amountIn': '88000000', 'amountInUSD': '88', 'amountOut': '48976744819123762', 'amountOutUSD': '87.987236323376439232501', 'tick': '-201388', 'timestamp': '1684936346', 'tokenIn': {'symbol': 'USDC', 'decimals': 6}, 'tokenOut': {'symbol': 'WETH', 'decimals': 18}}, {'id': '0x71a4802f92e6d6d8f283daaaa73cf66e3bb0a87b5c58ea9ee3a2b00b237d5073d7010000', 'amountIn': '88000000', 'amountInUSD': '88', 'amountOut': '48976097464533451', 'amountOutUSD': '87.9860733440577223227355', 'tick': '-201388', 'timestamp': '1684936346', 'tokenIn': {'symbol': 'USDC', 'decimals': 6}, 'tokenOut': {'symbol': 'WETH', 'decimals': 18}}, {'id': '0x71a4802f92e6d6d8f283daaaa73cf66e3bb0a87b5c58ea9ee3a2b00b237d5073da020000', 'amountIn': '88000000', 'amountInUSD': '88', 'amountOut': '48975450122777756', 'amountOutUSD': '87.984910387796527820438', 'tick': '-201388', 'timestamp': '1684936346', 'tokenIn': {'symbol': 'USDC', 'decimals': 6}, 'tokenOut': {'symbol': 'WETH', 'decimals': 18}}, {'id': '0x71a4802f92e6d6d8f283daaaa73cf66e3bb0a87b5c58ea9ee3a2b00b237d5073db000000', 'amountIn': '88000000', 'amountInUSD': '88', 'amountOut': '48976727322884998', 'amountOutUSD': '87.987204891199789199479', 'tick': '-201388', 'timestamp': '1684936346', 'tokenIn': {'symbol': 'USDC', 'decimals': 6}, 'tokenOut': {'symbol': 'WETH', 'decimals': 18}}, {'id': '0x71a4802f92e6d6d8f283daaaa73cf66e3bb0a87b5c58ea9ee3a2b00b237d5073de010000', 'amountIn': '88000000', 'amountInUSD': '88', 'amountOut': '48976079968641572', 'amountOutUSD': '87.986041912504254834506', 'tick': '-201388', 'timestamp': '1684936346', 'tokenIn': {'symbol': 'USDC', 'decimals': 6}, 'tokenOut': {'symbol': 'WETH', 'decimals': 18}}]\n"
     ]
    }
   ],
   "source": [
    "print(swap_data)"
   ],
   "metadata": {
    "collapsed": false,
    "pycharm": {
     "name": "#%%\n"
    }
   }
  },
  {
   "cell_type": "code",
   "execution_count": 44,
   "outputs": [
    {
     "name": "stdout",
     "output_type": "stream",
     "text": [
      "0\n",
      "100\n"
     ]
    }
   ],
   "source": [
    "time_cnt = 0\n",
    "id_cnt = 0\n",
    "for item in swap_data:\n",
    "    if int(item[\"timestamp\"]) > current_timestamp:\n",
    "        time_cnt += 1\n",
    "    elif item[\"id\"] in id_set:\n",
    "        id_cnt += 1\n",
    "\n",
    "print(time_cnt)\n",
    "print(id_cnt)"
   ],
   "metadata": {
    "collapsed": false,
    "pycharm": {
     "name": "#%%\n"
    }
   }
  },
  {
   "cell_type": "code",
   "execution_count": 37,
   "outputs": [],
   "source": [
    "# save data\n",
    "import pandas as pd\n",
    "\n",
    "kucoin_df = pd.DataFrame(kucoin_result)\n",
    "kucoin_df.to_csv(\"../../data/kucoin_eth_price.csv\", index=False)"
   ],
   "metadata": {
    "collapsed": false,
    "pycharm": {
     "name": "#%%\n"
    }
   }
  },
  {
   "cell_type": "code",
   "execution_count": 51,
   "outputs": [],
   "source": [
    "import pandas as pd\n",
    "from copy import deepcopy\n",
    "\n",
    "\n",
    "# arb_result = deepcopy(result)\n",
    "arb_result1 = deepcopy(result)\n",
    "for item in arb_result1:\n",
    "    item[\"tokenIn\"] = item[\"tokenIn\"][\"symbol\"]\n",
    "    item[\"tokenOut\"] = item[\"tokenOut\"][\"symbol\"]\n",
    "\n",
    "arb_uniswap_df = pd.DataFrame(arb_result1)\n",
    "arb_uniswap_df.to_csv(\"../../data/arb_swap1.csv\", index=False)"
   ],
   "metadata": {
    "collapsed": false,
    "pycharm": {
     "name": "#%%\n"
    }
   }
  },
  {
   "cell_type": "code",
   "execution_count": 29,
   "outputs": [
    {
     "name": "stdout",
     "output_type": "stream",
     "text": [
      "1786.1362752201069\n"
     ]
    }
   ],
   "source": [
    "import math\n",
    "\n",
    "def sqrtpricex96_to_price_eth_usd(sqrtpricex96):\n",
    "    \"\"\"Converts a Uniswap SQRTpriceX96 to price.\n",
    "\n",
    "    Args:\n",
    "      sqrtpricex96: The SQRTpriceX96 to convert.\n",
    "\n",
    "    Returns:\n",
    "      The price.\n",
    "    \"\"\"\n",
    "    price = sqrtpricex96 / math.pow(2, 96)\n",
    "    return 1 / (price ** 2 / (10 ** 12))\n",
    "\n",
    "\n",
    "print(sqrtpricex96_to_price_eth_usd(1874659030893028805438655155008306))"
   ],
   "metadata": {
    "collapsed": false,
    "pycharm": {
     "name": "#%%\n"
    }
   }
  },
  {
   "cell_type": "code",
   "execution_count": 31,
   "outputs": [
    {
     "name": "stdout",
     "output_type": "stream",
     "text": [
      "1786.1687802452334\n"
     ]
    }
   ],
   "source": [
    "TICK_BASE = 1.0001\n",
    "\n",
    "\n",
    "def tick_to_price_eth_usd(tick):\n",
    "    return 1 / (TICK_BASE ** tick / (10 ** 12))\n",
    "\n",
    "\n",
    "print(tick_to_price_eth_usd(201442))"
   ],
   "metadata": {
    "collapsed": false,
    "pycharm": {
     "name": "#%%\n"
    }
   }
  },
  {
   "cell_type": "code",
   "execution_count": 36,
   "outputs": [
    {
     "name": "stdout",
     "output_type": "stream",
     "text": [
      "1786.7046844661563\n"
     ]
    }
   ],
   "source": [
    "def arb_tick_to_price_eth_usd(tick):\n",
    "    return TICK_BASE ** tick * 10 ** 12\n",
    "\n",
    "print(arb_tick_to_price_eth_usd(-201439))"
   ],
   "metadata": {
    "collapsed": false,
    "pycharm": {
     "name": "#%%\n"
    }
   }
  },
  {
   "cell_type": "code",
   "execution_count": 1,
   "outputs": [],
   "source": [
    "# read kucoin & arb data\n",
    "import pandas as pd\n",
    "\n",
    "kucoin_df = pd.read_csv(\"../../data/kucoin_eth_price.csv\")\n",
    "arb_df = pd.read_csv(\"../../data/arb_swap_all.csv\")"
   ],
   "metadata": {
    "collapsed": false,
    "pycharm": {
     "name": "#%%\n"
    }
   }
  },
  {
   "cell_type": "code",
   "execution_count": 2,
   "outputs": [
    {
     "data": {
      "text/plain": "                                                  id           amountIn  \\\n0  0x13875c5e00916a733dbf870b03f29c7c0e2b575294ea...           18509968   \n1  0xa629bdac51ec7b793a04193f87006f0ff4ae910f8025...          417246407   \n2  0x38d8de741acaf8f47d3e1692926b7a663e93b6fc0e4b...  15034268999359802   \n3  0x452dd1fbd5a7c6d03880cd92be8bc35646422b627c34...           40248724   \n4  0x7ffaad3f6e94d4e7d19df8b5f8c808512918acccf5f1...  54000000000000000   \n\n   amountInUSD           amountOut  amountOutUSD    tick   timestamp tokenIn  \\\n0    18.509968   10174988585088354     18.500713 -201264  1684800030    USDC   \n1   417.246407  229361579040734245    417.037599 -201264  1684800044    USDC   \n2    27.336143            27322474     27.322474 -201264  1684800056    WETH   \n3    40.248724   22124832513497315     40.228597 -201264  1684800071    USDC   \n4    98.185802            98136699     98.136699 -201264  1684800077    WETH   \n\n  tokenOut  \n0     WETH  \n1     WETH  \n2     USDC  \n3     WETH  \n4     USDC  ",
      "text/html": "<div>\n<style scoped>\n    .dataframe tbody tr th:only-of-type {\n        vertical-align: middle;\n    }\n\n    .dataframe tbody tr th {\n        vertical-align: top;\n    }\n\n    .dataframe thead th {\n        text-align: right;\n    }\n</style>\n<table border=\"1\" class=\"dataframe\">\n  <thead>\n    <tr style=\"text-align: right;\">\n      <th></th>\n      <th>id</th>\n      <th>amountIn</th>\n      <th>amountInUSD</th>\n      <th>amountOut</th>\n      <th>amountOutUSD</th>\n      <th>tick</th>\n      <th>timestamp</th>\n      <th>tokenIn</th>\n      <th>tokenOut</th>\n    </tr>\n  </thead>\n  <tbody>\n    <tr>\n      <th>0</th>\n      <td>0x13875c5e00916a733dbf870b03f29c7c0e2b575294ea...</td>\n      <td>18509968</td>\n      <td>18.509968</td>\n      <td>10174988585088354</td>\n      <td>18.500713</td>\n      <td>-201264</td>\n      <td>1684800030</td>\n      <td>USDC</td>\n      <td>WETH</td>\n    </tr>\n    <tr>\n      <th>1</th>\n      <td>0xa629bdac51ec7b793a04193f87006f0ff4ae910f8025...</td>\n      <td>417246407</td>\n      <td>417.246407</td>\n      <td>229361579040734245</td>\n      <td>417.037599</td>\n      <td>-201264</td>\n      <td>1684800044</td>\n      <td>USDC</td>\n      <td>WETH</td>\n    </tr>\n    <tr>\n      <th>2</th>\n      <td>0x38d8de741acaf8f47d3e1692926b7a663e93b6fc0e4b...</td>\n      <td>15034268999359802</td>\n      <td>27.336143</td>\n      <td>27322474</td>\n      <td>27.322474</td>\n      <td>-201264</td>\n      <td>1684800056</td>\n      <td>WETH</td>\n      <td>USDC</td>\n    </tr>\n    <tr>\n      <th>3</th>\n      <td>0x452dd1fbd5a7c6d03880cd92be8bc35646422b627c34...</td>\n      <td>40248724</td>\n      <td>40.248724</td>\n      <td>22124832513497315</td>\n      <td>40.228597</td>\n      <td>-201264</td>\n      <td>1684800071</td>\n      <td>USDC</td>\n      <td>WETH</td>\n    </tr>\n    <tr>\n      <th>4</th>\n      <td>0x7ffaad3f6e94d4e7d19df8b5f8c808512918acccf5f1...</td>\n      <td>54000000000000000</td>\n      <td>98.185802</td>\n      <td>98136699</td>\n      <td>98.136699</td>\n      <td>-201264</td>\n      <td>1684800077</td>\n      <td>WETH</td>\n      <td>USDC</td>\n    </tr>\n  </tbody>\n</table>\n</div>"
     },
     "execution_count": 2,
     "metadata": {},
     "output_type": "execute_result"
    }
   ],
   "source": [
    "arb_df.head()"
   ],
   "metadata": {
    "collapsed": false,
    "pycharm": {
     "name": "#%%\n"
    }
   }
  },
  {
   "cell_type": "code",
   "execution_count": 3,
   "outputs": [
    {
     "data": {
      "text/plain": "         time     high      low     open  volumefrom   volumeto    close  \\\n0  1684800000  1818.27  1817.80  1817.80       54.66   99368.32  1818.17   \n1  1684800060  1818.40  1818.17  1818.17       38.42   69844.82  1818.38   \n2  1684800120  1818.48  1818.23  1818.38       30.73   55879.84  1818.41   \n3  1684800180  1818.99  1818.41  1818.41      101.61  184832.72  1818.85   \n4  1684800240  1818.93  1818.52  1818.85       47.14   85728.63  1818.85   \n\n  conversionType conversionSymbol  \n0         direct              NaN  \n1         direct              NaN  \n2         direct              NaN  \n3         direct              NaN  \n4         direct              NaN  ",
      "text/html": "<div>\n<style scoped>\n    .dataframe tbody tr th:only-of-type {\n        vertical-align: middle;\n    }\n\n    .dataframe tbody tr th {\n        vertical-align: top;\n    }\n\n    .dataframe thead th {\n        text-align: right;\n    }\n</style>\n<table border=\"1\" class=\"dataframe\">\n  <thead>\n    <tr style=\"text-align: right;\">\n      <th></th>\n      <th>time</th>\n      <th>high</th>\n      <th>low</th>\n      <th>open</th>\n      <th>volumefrom</th>\n      <th>volumeto</th>\n      <th>close</th>\n      <th>conversionType</th>\n      <th>conversionSymbol</th>\n    </tr>\n  </thead>\n  <tbody>\n    <tr>\n      <th>0</th>\n      <td>1684800000</td>\n      <td>1818.27</td>\n      <td>1817.80</td>\n      <td>1817.80</td>\n      <td>54.66</td>\n      <td>99368.32</td>\n      <td>1818.17</td>\n      <td>direct</td>\n      <td>NaN</td>\n    </tr>\n    <tr>\n      <th>1</th>\n      <td>1684800060</td>\n      <td>1818.40</td>\n      <td>1818.17</td>\n      <td>1818.17</td>\n      <td>38.42</td>\n      <td>69844.82</td>\n      <td>1818.38</td>\n      <td>direct</td>\n      <td>NaN</td>\n    </tr>\n    <tr>\n      <th>2</th>\n      <td>1684800120</td>\n      <td>1818.48</td>\n      <td>1818.23</td>\n      <td>1818.38</td>\n      <td>30.73</td>\n      <td>55879.84</td>\n      <td>1818.41</td>\n      <td>direct</td>\n      <td>NaN</td>\n    </tr>\n    <tr>\n      <th>3</th>\n      <td>1684800180</td>\n      <td>1818.99</td>\n      <td>1818.41</td>\n      <td>1818.41</td>\n      <td>101.61</td>\n      <td>184832.72</td>\n      <td>1818.85</td>\n      <td>direct</td>\n      <td>NaN</td>\n    </tr>\n    <tr>\n      <th>4</th>\n      <td>1684800240</td>\n      <td>1818.93</td>\n      <td>1818.52</td>\n      <td>1818.85</td>\n      <td>47.14</td>\n      <td>85728.63</td>\n      <td>1818.85</td>\n      <td>direct</td>\n      <td>NaN</td>\n    </tr>\n  </tbody>\n</table>\n</div>"
     },
     "execution_count": 3,
     "metadata": {},
     "output_type": "execute_result"
    }
   ],
   "source": [
    "kucoin_df.head()"
   ],
   "metadata": {
    "collapsed": false,
    "pycharm": {
     "name": "#%%\n"
    }
   }
  },
  {
   "cell_type": "code",
   "execution_count": 6,
   "outputs": [
    {
     "name": "stdout",
     "output_type": "stream",
     "text": [
      "2\n",
      "46367\n"
     ]
    }
   ],
   "source": [
    "# convert arb swap data to minute price\n",
    "def get_trade_data(swap_dict):\n",
    "    if swap_dict[\"tokenIn\"] == \"WETH\":\n",
    "        eth_amount = int(swap_dict[\"amountIn\"]) / (10 ** 18)\n",
    "        usd = float(swap_dict[\"amountInUSD\"])\n",
    "    else:\n",
    "        eth_amount = int(swap_dict[\"amountOut\"]) / (10 ** 18)\n",
    "        usd = float(swap_dict[\"amountOutUSD\"])\n",
    "\n",
    "    if eth_amount != 0:\n",
    "        return usd / eth_amount, usd\n",
    "    return 0, usd\n",
    "\n",
    "\n",
    "arb_result = arb_df.to_dict(\"records\")\n",
    "\n",
    "error_result = []\n",
    "new_result = []\n",
    "for r in arb_result:\n",
    "    price, trade_usd = get_trade_data(r)\n",
    "    if price == 0:\n",
    "        error_result.append(r)\n",
    "    else:\n",
    "        r[\"price\"] = price\n",
    "        r[\"trade_usd\"] = trade_usd\n",
    "        new_result.append(r)\n",
    "\n",
    "\n",
    "print(len(error_result))\n",
    "print(len(new_result))\n",
    "print(new_result[0])"
   ],
   "metadata": {
    "collapsed": false,
    "pycharm": {
     "name": "#%%\n"
    }
   }
  },
  {
   "cell_type": "code",
   "execution_count": 8,
   "outputs": [
    {
     "name": "stdout",
     "output_type": "stream",
     "text": [
      "46367\n",
      "4272\n",
      "[1685059080, 1685059020, 1685058960, 1685058900, 1685058840, 1685058780, 1685058720, 1685058660, 1685058540, 1685058480]\n"
     ]
    }
   ],
   "source": [
    "kucoin_time_list = kucoin_df[\"time\"].tolist()[::-1]\n",
    "\n",
    "def get_time_key(timestamp):\n",
    "    end_time = kucoin_time_list[0] + 60\n",
    "\n",
    "    for t in kucoin_time_list:\n",
    "        if t < timestamp <= end_time:\n",
    "            return t\n",
    "    return None\n",
    "\n",
    "\n",
    "minute_price_dict = dict()\n",
    "\n",
    "for r in new_result[::-1]:\n",
    "    swap_time = r[\"timestamp\"]\n",
    "    time_key = get_time_key(swap_time)\n",
    "    if time_key not in minute_price_dict:\n",
    "        minute_price_dict[time_key] = [(r[\"price\"], r[\"trade_usd\"])]\n",
    "    elif time_key is not None:\n",
    "        minute_price_dict[time_key].append((r[\"price\"], r[\"trade_usd\"]))\n",
    "\n",
    "\n",
    "# stats minute price\n",
    "print(len(new_result))\n",
    "print(len(minute_price_dict.keys()))\n",
    "print(list(minute_price_dict.keys())[:10])"
   ],
   "metadata": {
    "collapsed": false,
    "pycharm": {
     "name": "#%%\n"
    }
   }
  },
  {
   "cell_type": "code",
   "execution_count": 9,
   "outputs": [
    {
     "data": {
      "text/plain": "         open       close        high         low        volume        time\n0  1818.25389  1818.25555  1818.25555  1818.25389    462.874455  1684800000\n1  1818.25545  1818.25784  1818.25784  1818.25545   2996.957906  1684800060\n2  1818.24957  1818.37415  1818.37415  1818.24957  32740.669877  1684800180\n3  1818.37420  1818.37420  1818.37420  1818.37420     55.016836  1684800240\n4  1818.37399  1818.37403  1818.37403  1818.37399  32740.751811  1684800300",
      "text/html": "<div>\n<style scoped>\n    .dataframe tbody tr th:only-of-type {\n        vertical-align: middle;\n    }\n\n    .dataframe tbody tr th {\n        vertical-align: top;\n    }\n\n    .dataframe thead th {\n        text-align: right;\n    }\n</style>\n<table border=\"1\" class=\"dataframe\">\n  <thead>\n    <tr style=\"text-align: right;\">\n      <th></th>\n      <th>open</th>\n      <th>close</th>\n      <th>high</th>\n      <th>low</th>\n      <th>volume</th>\n      <th>time</th>\n    </tr>\n  </thead>\n  <tbody>\n    <tr>\n      <th>0</th>\n      <td>1818.25389</td>\n      <td>1818.25555</td>\n      <td>1818.25555</td>\n      <td>1818.25389</td>\n      <td>462.874455</td>\n      <td>1684800000</td>\n    </tr>\n    <tr>\n      <th>1</th>\n      <td>1818.25545</td>\n      <td>1818.25784</td>\n      <td>1818.25784</td>\n      <td>1818.25545</td>\n      <td>2996.957906</td>\n      <td>1684800060</td>\n    </tr>\n    <tr>\n      <th>2</th>\n      <td>1818.24957</td>\n      <td>1818.37415</td>\n      <td>1818.37415</td>\n      <td>1818.24957</td>\n      <td>32740.669877</td>\n      <td>1684800180</td>\n    </tr>\n    <tr>\n      <th>3</th>\n      <td>1818.37420</td>\n      <td>1818.37420</td>\n      <td>1818.37420</td>\n      <td>1818.37420</td>\n      <td>55.016836</td>\n      <td>1684800240</td>\n    </tr>\n    <tr>\n      <th>4</th>\n      <td>1818.37399</td>\n      <td>1818.37403</td>\n      <td>1818.37403</td>\n      <td>1818.37399</td>\n      <td>32740.751811</td>\n      <td>1684800300</td>\n    </tr>\n  </tbody>\n</table>\n</div>"
     },
     "execution_count": 9,
     "metadata": {},
     "output_type": "execute_result"
    }
   ],
   "source": [
    "import pandas as pd\n",
    "\n",
    "\n",
    "def get_price_detail(trade_list):\n",
    "    price_detail_dict = dict()\n",
    "    price_list = [p[0] for p in trade_list]\n",
    "    price_detail_dict[\"open\"] = price_list[-1]\n",
    "    price_detail_dict[\"close\"] = price_list[0]\n",
    "    price_detail_dict[\"high\"] = max(price_list)\n",
    "    price_detail_dict[\"low\"] = min(price_list)\n",
    "\n",
    "    usd_list = [p[1] for p in trade_list]\n",
    "    price_detail_dict[\"volume\"] = sum(usd_list)\n",
    "    return price_detail_dict\n",
    "\n",
    "\n",
    "minute_stats = []\n",
    "for time_key in sorted(minute_price_dict.keys()):\n",
    "    stats_dict = get_price_detail(minute_price_dict[time_key])\n",
    "    stats_dict[\"time\"] = time_key\n",
    "    minute_stats.append(stats_dict)\n",
    "\n",
    "\n",
    "arb_df = pd.DataFrame(minute_stats)\n",
    "arb_df.head()"
   ],
   "metadata": {
    "collapsed": false,
    "pycharm": {
     "name": "#%%\n"
    }
   }
  },
  {
   "cell_type": "code",
   "execution_count": 11,
   "outputs": [
    {
     "data": {
      "text/plain": "         time      high_x       low_x   high_y    low_y        volume  \\\n0  1684800000  1818.25555  1818.25389  1818.27  1817.80    462.874455   \n1  1684800060  1818.25784  1818.25545  1818.40  1818.17   2996.957906   \n2  1684800180  1818.37415  1818.24957  1818.99  1818.41  32740.669877   \n3  1684800240  1818.37420  1818.37420  1818.93  1818.52     55.016836   \n4  1684800300  1818.37403  1818.37399  1819.17  1818.85  32740.751811   \n\n    volumeto  \n0   99368.32  \n1   69844.82  \n2  184832.72  \n3   85728.63  \n4   49105.83  ",
      "text/html": "<div>\n<style scoped>\n    .dataframe tbody tr th:only-of-type {\n        vertical-align: middle;\n    }\n\n    .dataframe tbody tr th {\n        vertical-align: top;\n    }\n\n    .dataframe thead th {\n        text-align: right;\n    }\n</style>\n<table border=\"1\" class=\"dataframe\">\n  <thead>\n    <tr style=\"text-align: right;\">\n      <th></th>\n      <th>time</th>\n      <th>high_x</th>\n      <th>low_x</th>\n      <th>high_y</th>\n      <th>low_y</th>\n      <th>volume</th>\n      <th>volumeto</th>\n    </tr>\n  </thead>\n  <tbody>\n    <tr>\n      <th>0</th>\n      <td>1684800000</td>\n      <td>1818.25555</td>\n      <td>1818.25389</td>\n      <td>1818.27</td>\n      <td>1817.80</td>\n      <td>462.874455</td>\n      <td>99368.32</td>\n    </tr>\n    <tr>\n      <th>1</th>\n      <td>1684800060</td>\n      <td>1818.25784</td>\n      <td>1818.25545</td>\n      <td>1818.40</td>\n      <td>1818.17</td>\n      <td>2996.957906</td>\n      <td>69844.82</td>\n    </tr>\n    <tr>\n      <th>2</th>\n      <td>1684800180</td>\n      <td>1818.37415</td>\n      <td>1818.24957</td>\n      <td>1818.99</td>\n      <td>1818.41</td>\n      <td>32740.669877</td>\n      <td>184832.72</td>\n    </tr>\n    <tr>\n      <th>3</th>\n      <td>1684800240</td>\n      <td>1818.37420</td>\n      <td>1818.37420</td>\n      <td>1818.93</td>\n      <td>1818.52</td>\n      <td>55.016836</td>\n      <td>85728.63</td>\n    </tr>\n    <tr>\n      <th>4</th>\n      <td>1684800300</td>\n      <td>1818.37403</td>\n      <td>1818.37399</td>\n      <td>1819.17</td>\n      <td>1818.85</td>\n      <td>32740.751811</td>\n      <td>49105.83</td>\n    </tr>\n  </tbody>\n</table>\n</div>"
     },
     "execution_count": 11,
     "metadata": {},
     "output_type": "execute_result"
    }
   ],
   "source": [
    "# arb_df join kucoin_df by time schema and left high, low schema\n",
    "df = pd.merge(arb_df, kucoin_df, on='time')[[\"time\", \"high_x\", \"low_x\", \"high_y\", \"low_y\", \"volume\", \"volumeto\"]]\n",
    "df.head()"
   ],
   "metadata": {
    "collapsed": false,
    "pycharm": {
     "name": "#%%\n"
    }
   }
  },
  {
   "cell_type": "code",
   "execution_count": 12,
   "outputs": [
    {
     "data": {
      "text/plain": "         time    arb_high     arb_low  kucoin_high  kucoin_low    arb_volume  \\\n0  1684800000  1818.25555  1818.25389      1818.27     1817.80    462.874455   \n1  1684800060  1818.25784  1818.25545      1818.40     1818.17   2996.957906   \n2  1684800180  1818.37415  1818.24957      1818.99     1818.41  32740.669877   \n3  1684800240  1818.37420  1818.37420      1818.93     1818.52     55.016836   \n4  1684800300  1818.37403  1818.37399      1819.17     1818.85  32740.751811   \n\n   kucoin_volume  \n0       99368.32  \n1       69844.82  \n2      184832.72  \n3       85728.63  \n4       49105.83  ",
      "text/html": "<div>\n<style scoped>\n    .dataframe tbody tr th:only-of-type {\n        vertical-align: middle;\n    }\n\n    .dataframe tbody tr th {\n        vertical-align: top;\n    }\n\n    .dataframe thead th {\n        text-align: right;\n    }\n</style>\n<table border=\"1\" class=\"dataframe\">\n  <thead>\n    <tr style=\"text-align: right;\">\n      <th></th>\n      <th>time</th>\n      <th>arb_high</th>\n      <th>arb_low</th>\n      <th>kucoin_high</th>\n      <th>kucoin_low</th>\n      <th>arb_volume</th>\n      <th>kucoin_volume</th>\n    </tr>\n  </thead>\n  <tbody>\n    <tr>\n      <th>0</th>\n      <td>1684800000</td>\n      <td>1818.25555</td>\n      <td>1818.25389</td>\n      <td>1818.27</td>\n      <td>1817.80</td>\n      <td>462.874455</td>\n      <td>99368.32</td>\n    </tr>\n    <tr>\n      <th>1</th>\n      <td>1684800060</td>\n      <td>1818.25784</td>\n      <td>1818.25545</td>\n      <td>1818.40</td>\n      <td>1818.17</td>\n      <td>2996.957906</td>\n      <td>69844.82</td>\n    </tr>\n    <tr>\n      <th>2</th>\n      <td>1684800180</td>\n      <td>1818.37415</td>\n      <td>1818.24957</td>\n      <td>1818.99</td>\n      <td>1818.41</td>\n      <td>32740.669877</td>\n      <td>184832.72</td>\n    </tr>\n    <tr>\n      <th>3</th>\n      <td>1684800240</td>\n      <td>1818.37420</td>\n      <td>1818.37420</td>\n      <td>1818.93</td>\n      <td>1818.52</td>\n      <td>55.016836</td>\n      <td>85728.63</td>\n    </tr>\n    <tr>\n      <th>4</th>\n      <td>1684800300</td>\n      <td>1818.37403</td>\n      <td>1818.37399</td>\n      <td>1819.17</td>\n      <td>1818.85</td>\n      <td>32740.751811</td>\n      <td>49105.83</td>\n    </tr>\n  </tbody>\n</table>\n</div>"
     },
     "execution_count": 12,
     "metadata": {},
     "output_type": "execute_result"
    }
   ],
   "source": [
    "df.rename(columns={\n",
    "    \"high_x\": \"arb_high\",\n",
    "    \"low_x\": \"arb_low\",\n",
    "    \"high_y\": \"kucoin_high\",\n",
    "    \"low_y\": \"kucoin_low\",\n",
    "    \"volume\": \"arb_volume\",\n",
    "    \"volumeto\": \"kucoin_volume\",\n",
    "}, inplace=True)\n",
    "\n",
    "df.head()"
   ],
   "metadata": {
    "collapsed": false,
    "pycharm": {
     "name": "#%%\n"
    }
   }
  },
  {
   "cell_type": "code",
   "execution_count": 13,
   "outputs": [
    {
     "data": {
      "text/plain": "         time    arb_high     arb_low  kucoin_high  kucoin_low    arb_volume  \\\n0  1684800000  1818.25555  1818.25389      1818.27     1817.80    462.874455   \n1  1684800060  1818.25784  1818.25545      1818.40     1818.17   2996.957906   \n2  1684800180  1818.37415  1818.24957      1818.99     1818.41  32740.669877   \n3  1684800240  1818.37420  1818.37420      1818.93     1818.52     55.016836   \n4  1684800300  1818.37403  1818.37399      1819.17     1818.85  32740.751811   \n\n   kucoin_volume  high_diff  high_diff_rate  low_diff  low_diff_rate  \n0       99368.32   -0.01445        0.000008   0.45389       0.000250  \n1       69844.82   -0.14216        0.000078   0.08545       0.000047  \n2      184832.72   -0.61585        0.000339  -0.16043       0.000088  \n3       85728.63   -0.55580        0.000306  -0.14580       0.000080  \n4       49105.83   -0.79597        0.000438  -0.47601       0.000262  ",
      "text/html": "<div>\n<style scoped>\n    .dataframe tbody tr th:only-of-type {\n        vertical-align: middle;\n    }\n\n    .dataframe tbody tr th {\n        vertical-align: top;\n    }\n\n    .dataframe thead th {\n        text-align: right;\n    }\n</style>\n<table border=\"1\" class=\"dataframe\">\n  <thead>\n    <tr style=\"text-align: right;\">\n      <th></th>\n      <th>time</th>\n      <th>arb_high</th>\n      <th>arb_low</th>\n      <th>kucoin_high</th>\n      <th>kucoin_low</th>\n      <th>arb_volume</th>\n      <th>kucoin_volume</th>\n      <th>high_diff</th>\n      <th>high_diff_rate</th>\n      <th>low_diff</th>\n      <th>low_diff_rate</th>\n    </tr>\n  </thead>\n  <tbody>\n    <tr>\n      <th>0</th>\n      <td>1684800000</td>\n      <td>1818.25555</td>\n      <td>1818.25389</td>\n      <td>1818.27</td>\n      <td>1817.80</td>\n      <td>462.874455</td>\n      <td>99368.32</td>\n      <td>-0.01445</td>\n      <td>0.000008</td>\n      <td>0.45389</td>\n      <td>0.000250</td>\n    </tr>\n    <tr>\n      <th>1</th>\n      <td>1684800060</td>\n      <td>1818.25784</td>\n      <td>1818.25545</td>\n      <td>1818.40</td>\n      <td>1818.17</td>\n      <td>2996.957906</td>\n      <td>69844.82</td>\n      <td>-0.14216</td>\n      <td>0.000078</td>\n      <td>0.08545</td>\n      <td>0.000047</td>\n    </tr>\n    <tr>\n      <th>2</th>\n      <td>1684800180</td>\n      <td>1818.37415</td>\n      <td>1818.24957</td>\n      <td>1818.99</td>\n      <td>1818.41</td>\n      <td>32740.669877</td>\n      <td>184832.72</td>\n      <td>-0.61585</td>\n      <td>0.000339</td>\n      <td>-0.16043</td>\n      <td>0.000088</td>\n    </tr>\n    <tr>\n      <th>3</th>\n      <td>1684800240</td>\n      <td>1818.37420</td>\n      <td>1818.37420</td>\n      <td>1818.93</td>\n      <td>1818.52</td>\n      <td>55.016836</td>\n      <td>85728.63</td>\n      <td>-0.55580</td>\n      <td>0.000306</td>\n      <td>-0.14580</td>\n      <td>0.000080</td>\n    </tr>\n    <tr>\n      <th>4</th>\n      <td>1684800300</td>\n      <td>1818.37403</td>\n      <td>1818.37399</td>\n      <td>1819.17</td>\n      <td>1818.85</td>\n      <td>32740.751811</td>\n      <td>49105.83</td>\n      <td>-0.79597</td>\n      <td>0.000438</td>\n      <td>-0.47601</td>\n      <td>0.000262</td>\n    </tr>\n  </tbody>\n</table>\n</div>"
     },
     "execution_count": 13,
     "metadata": {},
     "output_type": "execute_result"
    }
   ],
   "source": [
    "df[\"high_diff\"] = df[\"arb_high\"] - df[\"kucoin_high\"]\n",
    "df[\"high_diff_rate\"] = abs(df[\"high_diff\"]) / df[\"arb_high\"]\n",
    "df[\"low_diff\"] = df[\"arb_low\"] - df[\"kucoin_low\"]\n",
    "df[\"low_diff_rate\"] = abs(df[\"low_diff\"]) / df[\"arb_low\"]\n",
    "\n",
    "df.head()"
   ],
   "metadata": {
    "collapsed": false,
    "pycharm": {
     "name": "#%%\n"
    }
   }
  },
  {
   "cell_type": "code",
   "execution_count": 45,
   "outputs": [
    {
     "data": {
      "text/plain": "            time    arb_high     arb_low  kucoin_high  kucoin_low  \\\n2931  1684978020  1770.01292  1767.47280      1767.34     1764.28   \n1629  1684899360  1825.65451  1820.21040      1823.10     1813.17   \n1635  1684899720  1820.02112  1819.42965      1817.87     1816.45   \n2932  1684978080  1769.04036  1767.46773      1766.89     1763.39   \n1634  1684899660  1820.28375  1820.05236      1818.35     1816.93   \n2260  1684937220  1788.10564  1785.44609      1786.28     1782.57   \n2930  1684977960  1781.39048  1769.13005      1779.60     1761.75   \n1631  1684899480  1821.00177  1820.73947      1819.30     1817.37   \n389   1684823640  1857.77543  1857.76906      1856.13     1855.59   \n1658  1684901100  1820.84445  1820.47905      1819.21     1818.70   \n3037  1684984380  1781.02396  1779.87134      1779.49     1778.71   \n2245  1684936320  1804.98630  1795.92821      1803.49     1790.39   \n2316  1684940580  1785.71129  1784.50591      1784.22     1781.32   \n2039  1684923960  1816.47612  1816.47430      1814.99     1814.79   \n2315  1684940520  1787.25568  1785.78914      1785.77     1782.81   \n1657  1684901040  1821.05025  1820.84320      1819.58     1818.69   \n2041  1684924080  1816.46989  1816.11309      1815.00     1814.66   \n2040  1684924020  1816.47538  1816.47043      1815.01     1814.87   \n2261  1684937280  1790.60601  1788.67830      1789.15     1786.28   \n2258  1684937100  1797.22362  1794.21932      1795.78     1792.30   \n2303  1684939800  1791.22077  1790.96010      1789.78     1789.32   \n2100  1684927620  1816.20048  1815.51702      1814.81     1814.10   \n2037  1684923840  1816.58792  1816.46424      1815.21     1814.85   \n2034  1684923660  1817.02557  1816.88259      1815.68     1815.37   \n2038  1684923900  1816.47411  1816.47373      1815.13     1814.81   \n2042  1684924140  1816.11190  1816.11130      1814.77     1814.59   \n1632  1684899540  1820.69960  1820.56720      1819.39     1818.23   \n447   1684827120  1852.54226  1849.04306      1851.24     1847.48   \n2304  1684939860  1791.22077  1790.61132      1789.93     1789.02   \n2496  1684951380  1793.68211  1793.36102      1792.43     1792.17   \n2307  1684940040  1790.85445  1789.67871      1789.61     1788.39   \n445   1684827000  1854.58845  1853.48690      1853.35     1852.45   \n2097  1684927440  1816.66236  1816.65738      1815.44     1815.12   \n2031  1684923480  1817.16399  1817.13878      1815.97     1815.65   \n2317  1684940640  1786.31698  1784.56078      1785.13     1782.81   \n1125  1684868160  1847.99643  1847.69327      1846.81     1846.54   \n2095  1684927320  1816.72629  1816.60509      1815.54     1815.33   \n3040  1684984560  1779.45464  1778.37437      1778.27     1777.34   \n3034  1684984200  1782.22080  1781.85435      1781.04     1780.25   \n2311  1684940280  1788.51767  1788.43919      1787.34     1786.58   \n2035  1684923720  1816.88210  1816.59400      1815.71     1815.16   \n2099  1684927560  1816.62857  1816.21809      1815.46     1814.80   \n2096  1684927380  1816.71846  1816.69110      1815.57     1815.38   \n2101  1684927680  1815.39248  1813.35926      1814.25     1811.91   \n3131  1684990020  1779.54422  1779.49644      1778.41     1778.15   \n2036  1684923780  1816.60242  1816.58194      1815.47     1815.21   \n2094  1684927260  1816.98803  1816.60742      1815.86     1815.16   \n1654  1684900860  1821.82027  1821.54825      1820.70     1819.96   \n429   1684826040  1855.80322  1855.47884      1854.69     1854.00   \n2889  1684975500  1794.41075  1793.74540      1793.31     1792.28   \n\n        arb_volume  kucoin_volume  high_diff  high_diff_rate  low_diff  \\\n2931  4.514917e+05     2724207.96    2.67292        0.001510   3.19280   \n1629  1.119969e+06     5077359.02    2.55451        0.001399   7.04040   \n1635  1.223121e+05     1008461.31    2.15112        0.001182   2.97965   \n2932  4.842366e+05     4177774.37    2.15036        0.001216   4.07773   \n1634  5.318695e+04      599747.13    1.93375        0.001062   3.12236   \n2260  4.616557e+05     1628276.30    1.82564        0.001021   2.87609   \n2930  1.738033e+06    12016874.02    1.79048        0.001005   7.38005   \n1631  7.217439e+04      502431.15    1.70177        0.000935   3.36947   \n389   1.247590e+03      140135.87    1.64543        0.000886   2.17906   \n1658  1.115798e+05      162363.48    1.63445        0.000898   1.77905   \n3037  2.209852e+05     1431925.01    1.53396        0.000861   1.16134   \n2245  2.635538e+06     6926729.09    1.49630        0.000829   5.53821   \n2316  2.187805e+05     1459611.23    1.49129        0.000835   3.18591   \n2039  5.772832e+02       86843.72    1.48612        0.000818   1.68430   \n2315  2.697853e+05     1371815.24    1.48568        0.000831   2.97914   \n1657  4.148166e+04      256260.42    1.47025        0.000807   2.15320   \n2041  7.329317e+04       98056.49    1.46989        0.000809   1.45309   \n2040  2.303163e+03       61290.91    1.46538        0.000807   1.60043   \n2261  2.995510e+05      810210.94    1.45601        0.000813   2.39830   \n2258  4.088281e+05     1074680.18    1.44362        0.000803   1.91932   \n2303  8.787429e+04      171893.34    1.44077        0.000804   1.64010   \n2100  1.705699e+05      116348.50    1.39048        0.000766   1.41702   \n2037  2.957601e+04      115133.51    1.37792        0.000759   1.61424   \n2034  2.981080e+04       48296.06    1.34557        0.000741   1.51259   \n2038  1.927238e+02      141021.33    1.34411        0.000740   1.66373   \n2042  1.040920e+03       64761.17    1.34190        0.000739   1.52130   \n1632  4.243396e+04      620728.84    1.30960        0.000719   2.33720   \n447   8.605818e+05     1848842.46    1.30226        0.000703   1.56306   \n2304  7.252765e+04      269666.81    1.29077        0.000721   1.59132   \n2496  7.872780e+04      320439.31    1.25211        0.000698   1.19102   \n2307  1.924452e+05      247085.74    1.24445        0.000695   1.28871   \n445   1.556980e+05      209687.80    1.23845        0.000668   1.03690   \n2097  3.856349e+03       21771.02    1.22236        0.000673   1.53738   \n2031  1.946477e+04      113153.29    1.19399        0.000657   1.48878   \n2317  3.121642e+05      652286.52    1.18698        0.000664   1.75078   \n1125  6.227903e+04       56765.99    1.18643        0.000642   1.15327   \n2095  2.990438e+04       41015.21    1.18629        0.000653   1.27509   \n3040  1.457872e+05      208755.05    1.18464        0.000666   1.03437   \n3034  2.483717e+05      462377.89    1.18080        0.000663   1.60435   \n2311  1.770536e+04      327562.65    1.17767        0.000658   1.85919   \n2035  6.002948e+04      103609.89    1.17210        0.000645   1.43400   \n2099  8.845572e+04       93499.51    1.16857        0.000643   1.41809   \n2096  1.350576e+04       14201.14    1.14846        0.000632   1.31110   \n2101  4.809533e+05     1699733.34    1.14248        0.000629   1.44926   \n3131  1.440324e+04       52676.54    1.13422        0.000637   1.34644   \n2036  4.965056e+03      243600.57    1.13242        0.000623   1.37194   \n2094  7.984333e+04       90094.67    1.12803        0.000621   1.44742   \n1654  5.430703e+04       63098.45    1.12027        0.000615   1.58825   \n429   1.873553e+05      237898.63    1.11322        0.000600   1.47884   \n2889  1.094356e+05      565618.64    1.10075        0.000613   1.46540   \n\n      low_diff_rate  kucoin_gap   arb_gap  \n2931       0.001806        3.06   2.54012  \n1629       0.003868        9.93   5.44411  \n1635       0.001638        1.42   0.59147  \n2932       0.002307        3.50   1.57263  \n1634       0.001716        1.42   0.23139  \n2260       0.001611        3.71   2.65955  \n2930       0.004172       17.85  12.26043  \n1631       0.001851        1.93   0.26230  \n389        0.001173        0.54   0.00637  \n1658       0.000977        0.51   0.36540  \n3037       0.000652        0.78   1.15262  \n2245       0.003084       13.10   9.05809  \n2316       0.001785        2.90   1.20538  \n2039       0.000927        0.20   0.00182  \n2315       0.001668        2.96   1.46654  \n1657       0.001183        0.89   0.20705  \n2041       0.000800        0.34   0.35680  \n2040       0.000881        0.14   0.00495  \n2261       0.001341        2.87   1.92771  \n2258       0.001070        3.48   3.00430  \n2303       0.000916        0.46   0.26067  \n2100       0.000781        0.71   0.68346  \n2037       0.000889        0.36   0.12368  \n2034       0.000833        0.31   0.14298  \n2038       0.000916        0.32   0.00038  \n2042       0.000838        0.18   0.00060  \n1632       0.001284        1.16   0.13240  \n447        0.000845        3.76   3.49920  \n2304       0.000889        0.91   0.60945  \n2496       0.000664        0.26   0.32109  \n2307       0.000720        1.22   1.17574  \n445        0.000559        0.90   1.10155  \n2097       0.000846        0.32   0.00498  \n2031       0.000819        0.32   0.02521  \n2317       0.000981        2.32   1.75620  \n1125       0.000624        0.27   0.30316  \n2095       0.000702        0.21   0.12120  \n3040       0.000582        0.93   1.08027  \n3034       0.000900        0.79   0.36645  \n2311       0.001040        0.76   0.07848  \n2035       0.000789        0.55   0.28810  \n2099       0.000781        0.66   0.41048  \n2096       0.000722        0.19   0.02736  \n2101       0.000799        2.34   2.03322  \n3131       0.000757        0.26   0.04778  \n2036       0.000755        0.26   0.02048  \n2094       0.000797        0.70   0.38061  \n1654       0.000872        0.74   0.27202  \n429        0.000797        0.69   0.32438  \n2889       0.000817        1.03   0.66535  ",
      "text/html": "<div>\n<style scoped>\n    .dataframe tbody tr th:only-of-type {\n        vertical-align: middle;\n    }\n\n    .dataframe tbody tr th {\n        vertical-align: top;\n    }\n\n    .dataframe thead th {\n        text-align: right;\n    }\n</style>\n<table border=\"1\" class=\"dataframe\">\n  <thead>\n    <tr style=\"text-align: right;\">\n      <th></th>\n      <th>time</th>\n      <th>arb_high</th>\n      <th>arb_low</th>\n      <th>kucoin_high</th>\n      <th>kucoin_low</th>\n      <th>arb_volume</th>\n      <th>kucoin_volume</th>\n      <th>high_diff</th>\n      <th>high_diff_rate</th>\n      <th>low_diff</th>\n      <th>low_diff_rate</th>\n      <th>kucoin_gap</th>\n      <th>arb_gap</th>\n    </tr>\n  </thead>\n  <tbody>\n    <tr>\n      <th>2931</th>\n      <td>1684978020</td>\n      <td>1770.01292</td>\n      <td>1767.47280</td>\n      <td>1767.34</td>\n      <td>1764.28</td>\n      <td>4.514917e+05</td>\n      <td>2724207.96</td>\n      <td>2.67292</td>\n      <td>0.001510</td>\n      <td>3.19280</td>\n      <td>0.001806</td>\n      <td>3.06</td>\n      <td>2.54012</td>\n    </tr>\n    <tr>\n      <th>1629</th>\n      <td>1684899360</td>\n      <td>1825.65451</td>\n      <td>1820.21040</td>\n      <td>1823.10</td>\n      <td>1813.17</td>\n      <td>1.119969e+06</td>\n      <td>5077359.02</td>\n      <td>2.55451</td>\n      <td>0.001399</td>\n      <td>7.04040</td>\n      <td>0.003868</td>\n      <td>9.93</td>\n      <td>5.44411</td>\n    </tr>\n    <tr>\n      <th>1635</th>\n      <td>1684899720</td>\n      <td>1820.02112</td>\n      <td>1819.42965</td>\n      <td>1817.87</td>\n      <td>1816.45</td>\n      <td>1.223121e+05</td>\n      <td>1008461.31</td>\n      <td>2.15112</td>\n      <td>0.001182</td>\n      <td>2.97965</td>\n      <td>0.001638</td>\n      <td>1.42</td>\n      <td>0.59147</td>\n    </tr>\n    <tr>\n      <th>2932</th>\n      <td>1684978080</td>\n      <td>1769.04036</td>\n      <td>1767.46773</td>\n      <td>1766.89</td>\n      <td>1763.39</td>\n      <td>4.842366e+05</td>\n      <td>4177774.37</td>\n      <td>2.15036</td>\n      <td>0.001216</td>\n      <td>4.07773</td>\n      <td>0.002307</td>\n      <td>3.50</td>\n      <td>1.57263</td>\n    </tr>\n    <tr>\n      <th>1634</th>\n      <td>1684899660</td>\n      <td>1820.28375</td>\n      <td>1820.05236</td>\n      <td>1818.35</td>\n      <td>1816.93</td>\n      <td>5.318695e+04</td>\n      <td>599747.13</td>\n      <td>1.93375</td>\n      <td>0.001062</td>\n      <td>3.12236</td>\n      <td>0.001716</td>\n      <td>1.42</td>\n      <td>0.23139</td>\n    </tr>\n    <tr>\n      <th>2260</th>\n      <td>1684937220</td>\n      <td>1788.10564</td>\n      <td>1785.44609</td>\n      <td>1786.28</td>\n      <td>1782.57</td>\n      <td>4.616557e+05</td>\n      <td>1628276.30</td>\n      <td>1.82564</td>\n      <td>0.001021</td>\n      <td>2.87609</td>\n      <td>0.001611</td>\n      <td>3.71</td>\n      <td>2.65955</td>\n    </tr>\n    <tr>\n      <th>2930</th>\n      <td>1684977960</td>\n      <td>1781.39048</td>\n      <td>1769.13005</td>\n      <td>1779.60</td>\n      <td>1761.75</td>\n      <td>1.738033e+06</td>\n      <td>12016874.02</td>\n      <td>1.79048</td>\n      <td>0.001005</td>\n      <td>7.38005</td>\n      <td>0.004172</td>\n      <td>17.85</td>\n      <td>12.26043</td>\n    </tr>\n    <tr>\n      <th>1631</th>\n      <td>1684899480</td>\n      <td>1821.00177</td>\n      <td>1820.73947</td>\n      <td>1819.30</td>\n      <td>1817.37</td>\n      <td>7.217439e+04</td>\n      <td>502431.15</td>\n      <td>1.70177</td>\n      <td>0.000935</td>\n      <td>3.36947</td>\n      <td>0.001851</td>\n      <td>1.93</td>\n      <td>0.26230</td>\n    </tr>\n    <tr>\n      <th>389</th>\n      <td>1684823640</td>\n      <td>1857.77543</td>\n      <td>1857.76906</td>\n      <td>1856.13</td>\n      <td>1855.59</td>\n      <td>1.247590e+03</td>\n      <td>140135.87</td>\n      <td>1.64543</td>\n      <td>0.000886</td>\n      <td>2.17906</td>\n      <td>0.001173</td>\n      <td>0.54</td>\n      <td>0.00637</td>\n    </tr>\n    <tr>\n      <th>1658</th>\n      <td>1684901100</td>\n      <td>1820.84445</td>\n      <td>1820.47905</td>\n      <td>1819.21</td>\n      <td>1818.70</td>\n      <td>1.115798e+05</td>\n      <td>162363.48</td>\n      <td>1.63445</td>\n      <td>0.000898</td>\n      <td>1.77905</td>\n      <td>0.000977</td>\n      <td>0.51</td>\n      <td>0.36540</td>\n    </tr>\n    <tr>\n      <th>3037</th>\n      <td>1684984380</td>\n      <td>1781.02396</td>\n      <td>1779.87134</td>\n      <td>1779.49</td>\n      <td>1778.71</td>\n      <td>2.209852e+05</td>\n      <td>1431925.01</td>\n      <td>1.53396</td>\n      <td>0.000861</td>\n      <td>1.16134</td>\n      <td>0.000652</td>\n      <td>0.78</td>\n      <td>1.15262</td>\n    </tr>\n    <tr>\n      <th>2245</th>\n      <td>1684936320</td>\n      <td>1804.98630</td>\n      <td>1795.92821</td>\n      <td>1803.49</td>\n      <td>1790.39</td>\n      <td>2.635538e+06</td>\n      <td>6926729.09</td>\n      <td>1.49630</td>\n      <td>0.000829</td>\n      <td>5.53821</td>\n      <td>0.003084</td>\n      <td>13.10</td>\n      <td>9.05809</td>\n    </tr>\n    <tr>\n      <th>2316</th>\n      <td>1684940580</td>\n      <td>1785.71129</td>\n      <td>1784.50591</td>\n      <td>1784.22</td>\n      <td>1781.32</td>\n      <td>2.187805e+05</td>\n      <td>1459611.23</td>\n      <td>1.49129</td>\n      <td>0.000835</td>\n      <td>3.18591</td>\n      <td>0.001785</td>\n      <td>2.90</td>\n      <td>1.20538</td>\n    </tr>\n    <tr>\n      <th>2039</th>\n      <td>1684923960</td>\n      <td>1816.47612</td>\n      <td>1816.47430</td>\n      <td>1814.99</td>\n      <td>1814.79</td>\n      <td>5.772832e+02</td>\n      <td>86843.72</td>\n      <td>1.48612</td>\n      <td>0.000818</td>\n      <td>1.68430</td>\n      <td>0.000927</td>\n      <td>0.20</td>\n      <td>0.00182</td>\n    </tr>\n    <tr>\n      <th>2315</th>\n      <td>1684940520</td>\n      <td>1787.25568</td>\n      <td>1785.78914</td>\n      <td>1785.77</td>\n      <td>1782.81</td>\n      <td>2.697853e+05</td>\n      <td>1371815.24</td>\n      <td>1.48568</td>\n      <td>0.000831</td>\n      <td>2.97914</td>\n      <td>0.001668</td>\n      <td>2.96</td>\n      <td>1.46654</td>\n    </tr>\n    <tr>\n      <th>1657</th>\n      <td>1684901040</td>\n      <td>1821.05025</td>\n      <td>1820.84320</td>\n      <td>1819.58</td>\n      <td>1818.69</td>\n      <td>4.148166e+04</td>\n      <td>256260.42</td>\n      <td>1.47025</td>\n      <td>0.000807</td>\n      <td>2.15320</td>\n      <td>0.001183</td>\n      <td>0.89</td>\n      <td>0.20705</td>\n    </tr>\n    <tr>\n      <th>2041</th>\n      <td>1684924080</td>\n      <td>1816.46989</td>\n      <td>1816.11309</td>\n      <td>1815.00</td>\n      <td>1814.66</td>\n      <td>7.329317e+04</td>\n      <td>98056.49</td>\n      <td>1.46989</td>\n      <td>0.000809</td>\n      <td>1.45309</td>\n      <td>0.000800</td>\n      <td>0.34</td>\n      <td>0.35680</td>\n    </tr>\n    <tr>\n      <th>2040</th>\n      <td>1684924020</td>\n      <td>1816.47538</td>\n      <td>1816.47043</td>\n      <td>1815.01</td>\n      <td>1814.87</td>\n      <td>2.303163e+03</td>\n      <td>61290.91</td>\n      <td>1.46538</td>\n      <td>0.000807</td>\n      <td>1.60043</td>\n      <td>0.000881</td>\n      <td>0.14</td>\n      <td>0.00495</td>\n    </tr>\n    <tr>\n      <th>2261</th>\n      <td>1684937280</td>\n      <td>1790.60601</td>\n      <td>1788.67830</td>\n      <td>1789.15</td>\n      <td>1786.28</td>\n      <td>2.995510e+05</td>\n      <td>810210.94</td>\n      <td>1.45601</td>\n      <td>0.000813</td>\n      <td>2.39830</td>\n      <td>0.001341</td>\n      <td>2.87</td>\n      <td>1.92771</td>\n    </tr>\n    <tr>\n      <th>2258</th>\n      <td>1684937100</td>\n      <td>1797.22362</td>\n      <td>1794.21932</td>\n      <td>1795.78</td>\n      <td>1792.30</td>\n      <td>4.088281e+05</td>\n      <td>1074680.18</td>\n      <td>1.44362</td>\n      <td>0.000803</td>\n      <td>1.91932</td>\n      <td>0.001070</td>\n      <td>3.48</td>\n      <td>3.00430</td>\n    </tr>\n    <tr>\n      <th>2303</th>\n      <td>1684939800</td>\n      <td>1791.22077</td>\n      <td>1790.96010</td>\n      <td>1789.78</td>\n      <td>1789.32</td>\n      <td>8.787429e+04</td>\n      <td>171893.34</td>\n      <td>1.44077</td>\n      <td>0.000804</td>\n      <td>1.64010</td>\n      <td>0.000916</td>\n      <td>0.46</td>\n      <td>0.26067</td>\n    </tr>\n    <tr>\n      <th>2100</th>\n      <td>1684927620</td>\n      <td>1816.20048</td>\n      <td>1815.51702</td>\n      <td>1814.81</td>\n      <td>1814.10</td>\n      <td>1.705699e+05</td>\n      <td>116348.50</td>\n      <td>1.39048</td>\n      <td>0.000766</td>\n      <td>1.41702</td>\n      <td>0.000781</td>\n      <td>0.71</td>\n      <td>0.68346</td>\n    </tr>\n    <tr>\n      <th>2037</th>\n      <td>1684923840</td>\n      <td>1816.58792</td>\n      <td>1816.46424</td>\n      <td>1815.21</td>\n      <td>1814.85</td>\n      <td>2.957601e+04</td>\n      <td>115133.51</td>\n      <td>1.37792</td>\n      <td>0.000759</td>\n      <td>1.61424</td>\n      <td>0.000889</td>\n      <td>0.36</td>\n      <td>0.12368</td>\n    </tr>\n    <tr>\n      <th>2034</th>\n      <td>1684923660</td>\n      <td>1817.02557</td>\n      <td>1816.88259</td>\n      <td>1815.68</td>\n      <td>1815.37</td>\n      <td>2.981080e+04</td>\n      <td>48296.06</td>\n      <td>1.34557</td>\n      <td>0.000741</td>\n      <td>1.51259</td>\n      <td>0.000833</td>\n      <td>0.31</td>\n      <td>0.14298</td>\n    </tr>\n    <tr>\n      <th>2038</th>\n      <td>1684923900</td>\n      <td>1816.47411</td>\n      <td>1816.47373</td>\n      <td>1815.13</td>\n      <td>1814.81</td>\n      <td>1.927238e+02</td>\n      <td>141021.33</td>\n      <td>1.34411</td>\n      <td>0.000740</td>\n      <td>1.66373</td>\n      <td>0.000916</td>\n      <td>0.32</td>\n      <td>0.00038</td>\n    </tr>\n    <tr>\n      <th>2042</th>\n      <td>1684924140</td>\n      <td>1816.11190</td>\n      <td>1816.11130</td>\n      <td>1814.77</td>\n      <td>1814.59</td>\n      <td>1.040920e+03</td>\n      <td>64761.17</td>\n      <td>1.34190</td>\n      <td>0.000739</td>\n      <td>1.52130</td>\n      <td>0.000838</td>\n      <td>0.18</td>\n      <td>0.00060</td>\n    </tr>\n    <tr>\n      <th>1632</th>\n      <td>1684899540</td>\n      <td>1820.69960</td>\n      <td>1820.56720</td>\n      <td>1819.39</td>\n      <td>1818.23</td>\n      <td>4.243396e+04</td>\n      <td>620728.84</td>\n      <td>1.30960</td>\n      <td>0.000719</td>\n      <td>2.33720</td>\n      <td>0.001284</td>\n      <td>1.16</td>\n      <td>0.13240</td>\n    </tr>\n    <tr>\n      <th>447</th>\n      <td>1684827120</td>\n      <td>1852.54226</td>\n      <td>1849.04306</td>\n      <td>1851.24</td>\n      <td>1847.48</td>\n      <td>8.605818e+05</td>\n      <td>1848842.46</td>\n      <td>1.30226</td>\n      <td>0.000703</td>\n      <td>1.56306</td>\n      <td>0.000845</td>\n      <td>3.76</td>\n      <td>3.49920</td>\n    </tr>\n    <tr>\n      <th>2304</th>\n      <td>1684939860</td>\n      <td>1791.22077</td>\n      <td>1790.61132</td>\n      <td>1789.93</td>\n      <td>1789.02</td>\n      <td>7.252765e+04</td>\n      <td>269666.81</td>\n      <td>1.29077</td>\n      <td>0.000721</td>\n      <td>1.59132</td>\n      <td>0.000889</td>\n      <td>0.91</td>\n      <td>0.60945</td>\n    </tr>\n    <tr>\n      <th>2496</th>\n      <td>1684951380</td>\n      <td>1793.68211</td>\n      <td>1793.36102</td>\n      <td>1792.43</td>\n      <td>1792.17</td>\n      <td>7.872780e+04</td>\n      <td>320439.31</td>\n      <td>1.25211</td>\n      <td>0.000698</td>\n      <td>1.19102</td>\n      <td>0.000664</td>\n      <td>0.26</td>\n      <td>0.32109</td>\n    </tr>\n    <tr>\n      <th>2307</th>\n      <td>1684940040</td>\n      <td>1790.85445</td>\n      <td>1789.67871</td>\n      <td>1789.61</td>\n      <td>1788.39</td>\n      <td>1.924452e+05</td>\n      <td>247085.74</td>\n      <td>1.24445</td>\n      <td>0.000695</td>\n      <td>1.28871</td>\n      <td>0.000720</td>\n      <td>1.22</td>\n      <td>1.17574</td>\n    </tr>\n    <tr>\n      <th>445</th>\n      <td>1684827000</td>\n      <td>1854.58845</td>\n      <td>1853.48690</td>\n      <td>1853.35</td>\n      <td>1852.45</td>\n      <td>1.556980e+05</td>\n      <td>209687.80</td>\n      <td>1.23845</td>\n      <td>0.000668</td>\n      <td>1.03690</td>\n      <td>0.000559</td>\n      <td>0.90</td>\n      <td>1.10155</td>\n    </tr>\n    <tr>\n      <th>2097</th>\n      <td>1684927440</td>\n      <td>1816.66236</td>\n      <td>1816.65738</td>\n      <td>1815.44</td>\n      <td>1815.12</td>\n      <td>3.856349e+03</td>\n      <td>21771.02</td>\n      <td>1.22236</td>\n      <td>0.000673</td>\n      <td>1.53738</td>\n      <td>0.000846</td>\n      <td>0.32</td>\n      <td>0.00498</td>\n    </tr>\n    <tr>\n      <th>2031</th>\n      <td>1684923480</td>\n      <td>1817.16399</td>\n      <td>1817.13878</td>\n      <td>1815.97</td>\n      <td>1815.65</td>\n      <td>1.946477e+04</td>\n      <td>113153.29</td>\n      <td>1.19399</td>\n      <td>0.000657</td>\n      <td>1.48878</td>\n      <td>0.000819</td>\n      <td>0.32</td>\n      <td>0.02521</td>\n    </tr>\n    <tr>\n      <th>2317</th>\n      <td>1684940640</td>\n      <td>1786.31698</td>\n      <td>1784.56078</td>\n      <td>1785.13</td>\n      <td>1782.81</td>\n      <td>3.121642e+05</td>\n      <td>652286.52</td>\n      <td>1.18698</td>\n      <td>0.000664</td>\n      <td>1.75078</td>\n      <td>0.000981</td>\n      <td>2.32</td>\n      <td>1.75620</td>\n    </tr>\n    <tr>\n      <th>1125</th>\n      <td>1684868160</td>\n      <td>1847.99643</td>\n      <td>1847.69327</td>\n      <td>1846.81</td>\n      <td>1846.54</td>\n      <td>6.227903e+04</td>\n      <td>56765.99</td>\n      <td>1.18643</td>\n      <td>0.000642</td>\n      <td>1.15327</td>\n      <td>0.000624</td>\n      <td>0.27</td>\n      <td>0.30316</td>\n    </tr>\n    <tr>\n      <th>2095</th>\n      <td>1684927320</td>\n      <td>1816.72629</td>\n      <td>1816.60509</td>\n      <td>1815.54</td>\n      <td>1815.33</td>\n      <td>2.990438e+04</td>\n      <td>41015.21</td>\n      <td>1.18629</td>\n      <td>0.000653</td>\n      <td>1.27509</td>\n      <td>0.000702</td>\n      <td>0.21</td>\n      <td>0.12120</td>\n    </tr>\n    <tr>\n      <th>3040</th>\n      <td>1684984560</td>\n      <td>1779.45464</td>\n      <td>1778.37437</td>\n      <td>1778.27</td>\n      <td>1777.34</td>\n      <td>1.457872e+05</td>\n      <td>208755.05</td>\n      <td>1.18464</td>\n      <td>0.000666</td>\n      <td>1.03437</td>\n      <td>0.000582</td>\n      <td>0.93</td>\n      <td>1.08027</td>\n    </tr>\n    <tr>\n      <th>3034</th>\n      <td>1684984200</td>\n      <td>1782.22080</td>\n      <td>1781.85435</td>\n      <td>1781.04</td>\n      <td>1780.25</td>\n      <td>2.483717e+05</td>\n      <td>462377.89</td>\n      <td>1.18080</td>\n      <td>0.000663</td>\n      <td>1.60435</td>\n      <td>0.000900</td>\n      <td>0.79</td>\n      <td>0.36645</td>\n    </tr>\n    <tr>\n      <th>2311</th>\n      <td>1684940280</td>\n      <td>1788.51767</td>\n      <td>1788.43919</td>\n      <td>1787.34</td>\n      <td>1786.58</td>\n      <td>1.770536e+04</td>\n      <td>327562.65</td>\n      <td>1.17767</td>\n      <td>0.000658</td>\n      <td>1.85919</td>\n      <td>0.001040</td>\n      <td>0.76</td>\n      <td>0.07848</td>\n    </tr>\n    <tr>\n      <th>2035</th>\n      <td>1684923720</td>\n      <td>1816.88210</td>\n      <td>1816.59400</td>\n      <td>1815.71</td>\n      <td>1815.16</td>\n      <td>6.002948e+04</td>\n      <td>103609.89</td>\n      <td>1.17210</td>\n      <td>0.000645</td>\n      <td>1.43400</td>\n      <td>0.000789</td>\n      <td>0.55</td>\n      <td>0.28810</td>\n    </tr>\n    <tr>\n      <th>2099</th>\n      <td>1684927560</td>\n      <td>1816.62857</td>\n      <td>1816.21809</td>\n      <td>1815.46</td>\n      <td>1814.80</td>\n      <td>8.845572e+04</td>\n      <td>93499.51</td>\n      <td>1.16857</td>\n      <td>0.000643</td>\n      <td>1.41809</td>\n      <td>0.000781</td>\n      <td>0.66</td>\n      <td>0.41048</td>\n    </tr>\n    <tr>\n      <th>2096</th>\n      <td>1684927380</td>\n      <td>1816.71846</td>\n      <td>1816.69110</td>\n      <td>1815.57</td>\n      <td>1815.38</td>\n      <td>1.350576e+04</td>\n      <td>14201.14</td>\n      <td>1.14846</td>\n      <td>0.000632</td>\n      <td>1.31110</td>\n      <td>0.000722</td>\n      <td>0.19</td>\n      <td>0.02736</td>\n    </tr>\n    <tr>\n      <th>2101</th>\n      <td>1684927680</td>\n      <td>1815.39248</td>\n      <td>1813.35926</td>\n      <td>1814.25</td>\n      <td>1811.91</td>\n      <td>4.809533e+05</td>\n      <td>1699733.34</td>\n      <td>1.14248</td>\n      <td>0.000629</td>\n      <td>1.44926</td>\n      <td>0.000799</td>\n      <td>2.34</td>\n      <td>2.03322</td>\n    </tr>\n    <tr>\n      <th>3131</th>\n      <td>1684990020</td>\n      <td>1779.54422</td>\n      <td>1779.49644</td>\n      <td>1778.41</td>\n      <td>1778.15</td>\n      <td>1.440324e+04</td>\n      <td>52676.54</td>\n      <td>1.13422</td>\n      <td>0.000637</td>\n      <td>1.34644</td>\n      <td>0.000757</td>\n      <td>0.26</td>\n      <td>0.04778</td>\n    </tr>\n    <tr>\n      <th>2036</th>\n      <td>1684923780</td>\n      <td>1816.60242</td>\n      <td>1816.58194</td>\n      <td>1815.47</td>\n      <td>1815.21</td>\n      <td>4.965056e+03</td>\n      <td>243600.57</td>\n      <td>1.13242</td>\n      <td>0.000623</td>\n      <td>1.37194</td>\n      <td>0.000755</td>\n      <td>0.26</td>\n      <td>0.02048</td>\n    </tr>\n    <tr>\n      <th>2094</th>\n      <td>1684927260</td>\n      <td>1816.98803</td>\n      <td>1816.60742</td>\n      <td>1815.86</td>\n      <td>1815.16</td>\n      <td>7.984333e+04</td>\n      <td>90094.67</td>\n      <td>1.12803</td>\n      <td>0.000621</td>\n      <td>1.44742</td>\n      <td>0.000797</td>\n      <td>0.70</td>\n      <td>0.38061</td>\n    </tr>\n    <tr>\n      <th>1654</th>\n      <td>1684900860</td>\n      <td>1821.82027</td>\n      <td>1821.54825</td>\n      <td>1820.70</td>\n      <td>1819.96</td>\n      <td>5.430703e+04</td>\n      <td>63098.45</td>\n      <td>1.12027</td>\n      <td>0.000615</td>\n      <td>1.58825</td>\n      <td>0.000872</td>\n      <td>0.74</td>\n      <td>0.27202</td>\n    </tr>\n    <tr>\n      <th>429</th>\n      <td>1684826040</td>\n      <td>1855.80322</td>\n      <td>1855.47884</td>\n      <td>1854.69</td>\n      <td>1854.00</td>\n      <td>1.873553e+05</td>\n      <td>237898.63</td>\n      <td>1.11322</td>\n      <td>0.000600</td>\n      <td>1.47884</td>\n      <td>0.000797</td>\n      <td>0.69</td>\n      <td>0.32438</td>\n    </tr>\n    <tr>\n      <th>2889</th>\n      <td>1684975500</td>\n      <td>1794.41075</td>\n      <td>1793.74540</td>\n      <td>1793.31</td>\n      <td>1792.28</td>\n      <td>1.094356e+05</td>\n      <td>565618.64</td>\n      <td>1.10075</td>\n      <td>0.000613</td>\n      <td>1.46540</td>\n      <td>0.000817</td>\n      <td>1.03</td>\n      <td>0.66535</td>\n    </tr>\n  </tbody>\n</table>\n</div>"
     },
     "execution_count": 45,
     "metadata": {},
     "output_type": "execute_result"
    }
   ],
   "source": [
    "df.sort_values(by=[\"high_diff\"], ascending=False, inplace=True)\n",
    "df.head(50)"
   ],
   "metadata": {
    "collapsed": false,
    "pycharm": {
     "name": "#%%\n"
    }
   }
  },
  {
   "cell_type": "code",
   "execution_count": 46,
   "outputs": [
    {
     "data": {
      "text/plain": "            time    arb_high     arb_low  kucoin_high  kucoin_low  \\\n2930  1684977960  1781.39048  1769.13005      1779.60     1761.75   \n2259  1684937160  1794.26047  1785.04584      1793.17     1777.98   \n1629  1684899360  1825.65451  1820.21040      1823.10     1813.17   \n2245  1684936320  1804.98630  1795.92821      1803.49     1790.39   \n2932  1684978080  1769.04036  1767.46773      1766.89     1763.39   \n1630  1684899420  1821.08974  1820.39379      1820.27     1816.49   \n1628  1684899300  1828.99055  1825.65451      1828.91     1821.92   \n1631  1684899480  1821.00177  1820.73947      1819.30     1817.37   \n2931  1684978020  1770.01292  1767.47280      1767.34     1764.28   \n2316  1684940580  1785.71129  1784.50591      1784.22     1781.32   \n1634  1684899660  1820.28375  1820.05236      1818.35     1816.93   \n1633  1684899600  1820.56751  1820.33345      1819.49     1817.25   \n1635  1684899720  1820.02112  1819.42965      1817.87     1816.45   \n2315  1684940520  1787.25568  1785.78914      1785.77     1782.81   \n2260  1684937220  1788.10564  1785.44609      1786.28     1782.57   \n2929  1684977900  1787.41563  1781.39048      1787.56     1778.58   \n2246  1684936380  1796.46425  1795.78327      1796.56     1793.20   \n2243  1684936200  1810.80824  1806.02909      1810.47     1803.47   \n2244  1684936260  1806.59192  1804.75678      1805.68     1802.28   \n2261  1684937280  1790.60601  1788.67830      1789.15     1786.28   \n2320  1684940820  1784.37573  1783.83704      1784.19     1781.49   \n1632  1684899540  1820.69960  1820.56720      1819.39     1818.23   \n2933  1684978140  1769.31973  1766.62828      1768.46     1764.34   \n446   1684827060  1853.47982  1852.54226      1852.52     1850.30   \n389   1684823640  1857.77543  1857.76906      1856.13     1855.59   \n1636  1684899780  1819.93083  1819.40415      1819.13     1817.25   \n1657  1684901040  1821.05025  1820.84320      1819.58     1818.69   \n1060  1684864200  1850.06400  1849.70120      1849.26     1847.62   \n2266  1684937580  1789.95482  1789.09323      1789.40     1787.02   \n2089  1684926960  1815.38617  1815.27102      1815.87     1813.20   \n1644  1684900260  1822.17666  1821.26335      1821.34     1819.24   \n2265  1684937520  1791.02619  1789.95456      1790.61     1787.97   \n2314  1684940460  1787.72455  1787.26987      1786.96     1785.29   \n2247  1684936440  1796.81712  1795.78479      1796.46     1793.82   \n2258  1684937100  1797.22362  1794.21932      1795.78     1792.30   \n1467  1684889460  1848.97044  1848.81119      1848.40     1846.90   \n2319  1684940760  1786.62316  1784.23892      1786.20     1782.33   \n2311  1684940280  1788.51767  1788.43919      1787.34     1786.58   \n2102  1684927740  1813.48910  1813.30295      1813.36     1811.46   \n2661  1684961580  1806.53813  1804.77794      1807.14     1802.94   \n2103  1684927800  1813.48910  1813.29989      1812.85     1811.48   \n2312  1684940340  1788.42883  1787.77639      1787.55     1785.97   \n1667  1684901640  1822.07954  1822.05064      1820.98     1820.26   \n1658  1684901100  1820.84445  1820.47905      1819.21     1818.70   \n1656  1684900980  1821.38428  1821.05214      1820.34     1819.28   \n1645  1684900320  1821.40639  1821.13101      1821.52     1819.36   \n3744  1685026920  1799.82558  1799.51649      1799.03     1797.75   \n2317  1684940640  1786.31698  1784.56078      1785.13     1782.81   \n1638  1684899900  1820.69323  1820.16134      1820.43     1818.47   \n2039  1684923960  1816.47612  1816.47430      1814.99     1814.79   \n\n        arb_volume  kucoin_volume  high_diff  high_diff_rate  low_diff  \\\n2930  1.738033e+06    12016874.02    1.79048        0.001005   7.38005   \n2259  1.326263e+06     8931168.39    1.09047        0.000608   7.06584   \n1629  1.119969e+06     5077359.02    2.55451        0.001399   7.04040   \n2245  2.635538e+06     6926729.09    1.49630        0.000829   5.53821   \n2932  4.842366e+05     4177774.37    2.15036        0.001216   4.07773   \n1630  1.620217e+05     1437353.56    0.81974        0.000450   3.90379   \n1628  8.734903e+05     2915011.75    0.08055        0.000044   3.73451   \n1631  7.217439e+04      502431.15    1.70177        0.000935   3.36947   \n2931  4.514917e+05     2724207.96    2.67292        0.001510   3.19280   \n2316  2.187805e+05     1459611.23    1.49129        0.000835   3.18591   \n1634  5.318695e+04      599747.13    1.93375        0.001062   3.12236   \n1633  6.132572e+04     1009388.21    1.07751        0.000592   3.08345   \n1635  1.223121e+05     1008461.31    2.15112        0.001182   2.97965   \n2315  2.697853e+05     1371815.24    1.48568        0.000831   2.97914   \n2260  4.616557e+05     1628276.30    1.82564        0.001021   2.87609   \n2929  1.151800e+06     4949631.42   -0.14437        0.000081   2.81048   \n2246  1.872362e+05     2322317.81   -0.09575        0.000053   2.58327   \n2243  1.216544e+06     4108164.44    0.33824        0.000187   2.55909   \n2244  6.425817e+05     3207473.56    0.91192        0.000505   2.47678   \n2261  2.995510e+05      810210.94    1.45601        0.000813   2.39830   \n2320  1.411694e+05      605836.72    0.18573        0.000104   2.34704   \n1632  4.243396e+04      620728.84    1.30960        0.000719   2.33720   \n2933  4.296982e+05      952934.36    0.85973        0.000486   2.28828   \n446   1.607243e+05     1519065.69    0.95982        0.000518   2.24226   \n389   1.247590e+03      140135.87    1.64543        0.000886   2.17906   \n1636  1.373623e+05      283654.97    0.80083        0.000440   2.15415   \n1657  4.148166e+04      256260.42    1.47025        0.000807   2.15320   \n1060  1.554870e+05     1640952.98    0.80400        0.000435   2.08120   \n2266  2.104868e+05     1820888.64    0.55482        0.000310   2.07323   \n2089  3.175321e+04      797269.59   -0.48383        0.000267   2.07102   \n1644  2.083557e+05      172738.85    0.83666        0.000459   2.02335   \n2265  1.346113e+05      581000.29    0.41619        0.000232   1.98456   \n2314  1.126934e+05      414045.00    0.76455        0.000428   1.97987   \n2247  2.510969e+05      459289.28    0.35712        0.000199   1.96479   \n2258  4.088281e+05     1074680.18    1.44362        0.000803   1.91932   \n1467  3.567854e+04     1701019.53    0.57044        0.000309   1.91119   \n2319  3.650769e+05      438948.55    0.42316        0.000237   1.90892   \n2311  1.770536e+04      327562.65    1.17767        0.000658   1.85919   \n2102  6.059404e+04      366300.37    0.12910        0.000071   1.84295   \n2661  3.288299e+05     1031674.46   -0.60187        0.000333   1.83794   \n2103  8.651613e+04      186211.53    0.63910        0.000352   1.81989   \n2312  1.160794e+05      290723.02    0.87883        0.000491   1.80639   \n1667  1.109974e+05      176142.78    1.09954        0.000603   1.79064   \n1658  1.115798e+05      162363.48    1.63445        0.000898   1.77905   \n1656  6.652376e+04       51647.68    1.04428        0.000573   1.77214   \n1645  7.247787e+04      194096.64   -0.11361        0.000062   1.77101   \n3744  2.131838e+05      163028.61    0.79558        0.000442   1.76649   \n2317  3.121642e+05      652286.52    1.18698        0.000664   1.75078   \n1638  1.060736e+05      810384.31    0.26323        0.000145   1.69134   \n2039  5.772832e+02       86843.72    1.48612        0.000818   1.68430   \n\n      low_diff_rate  kucoin_gap   arb_gap  \n2930       0.004172       17.85  12.26043  \n2259       0.003958       15.19   9.21463  \n1629       0.003868        9.93   5.44411  \n2245       0.003084       13.10   9.05809  \n2932       0.002307        3.50   1.57263  \n1630       0.002144        3.78   0.69595  \n1628       0.002046        6.99   3.33604  \n1631       0.001851        1.93   0.26230  \n2931       0.001806        3.06   2.54012  \n2316       0.001785        2.90   1.20538  \n1634       0.001716        1.42   0.23139  \n1633       0.001694        2.24   0.23406  \n1635       0.001638        1.42   0.59147  \n2315       0.001668        2.96   1.46654  \n2260       0.001611        3.71   2.65955  \n2929       0.001578        8.98   6.02515  \n2246       0.001439        3.36   0.68098  \n2243       0.001417        7.00   4.77915  \n2244       0.001372        3.40   1.83514  \n2261       0.001341        2.87   1.92771  \n2320       0.001316        2.70   0.53869  \n1632       0.001284        1.16   0.13240  \n2933       0.001295        4.12   2.69145  \n446        0.001210        2.22   0.93756  \n389        0.001173        0.54   0.00637  \n1636       0.001184        1.88   0.52668  \n1657       0.001183        0.89   0.20705  \n1060       0.001125        1.64   0.36280  \n2266       0.001159        2.38   0.86159  \n2089       0.001141        2.67   0.11515  \n1644       0.001111        2.10   0.91331  \n2265       0.001109        2.64   1.07163  \n2314       0.001108        1.67   0.45468  \n2247       0.001094        2.64   1.03233  \n2258       0.001070        3.48   3.00430  \n1467       0.001034        1.50   0.15925  \n2319       0.001070        3.87   2.38424  \n2311       0.001040        0.76   0.07848  \n2102       0.001016        1.90   0.18615  \n2661       0.001018        4.20   1.76019  \n2103       0.001004        1.37   0.18921  \n2312       0.001010        1.58   0.65244  \n1667       0.000983        0.72   0.02890  \n1658       0.000977        0.51   0.36540  \n1656       0.000973        1.06   0.33214  \n1645       0.000972        2.16   0.27538  \n3744       0.000982        1.28   0.30909  \n2317       0.000981        2.32   1.75620  \n1638       0.000929        1.96   0.53189  \n2039       0.000927        0.20   0.00182  ",
      "text/html": "<div>\n<style scoped>\n    .dataframe tbody tr th:only-of-type {\n        vertical-align: middle;\n    }\n\n    .dataframe tbody tr th {\n        vertical-align: top;\n    }\n\n    .dataframe thead th {\n        text-align: right;\n    }\n</style>\n<table border=\"1\" class=\"dataframe\">\n  <thead>\n    <tr style=\"text-align: right;\">\n      <th></th>\n      <th>time</th>\n      <th>arb_high</th>\n      <th>arb_low</th>\n      <th>kucoin_high</th>\n      <th>kucoin_low</th>\n      <th>arb_volume</th>\n      <th>kucoin_volume</th>\n      <th>high_diff</th>\n      <th>high_diff_rate</th>\n      <th>low_diff</th>\n      <th>low_diff_rate</th>\n      <th>kucoin_gap</th>\n      <th>arb_gap</th>\n    </tr>\n  </thead>\n  <tbody>\n    <tr>\n      <th>2930</th>\n      <td>1684977960</td>\n      <td>1781.39048</td>\n      <td>1769.13005</td>\n      <td>1779.60</td>\n      <td>1761.75</td>\n      <td>1.738033e+06</td>\n      <td>12016874.02</td>\n      <td>1.79048</td>\n      <td>0.001005</td>\n      <td>7.38005</td>\n      <td>0.004172</td>\n      <td>17.85</td>\n      <td>12.26043</td>\n    </tr>\n    <tr>\n      <th>2259</th>\n      <td>1684937160</td>\n      <td>1794.26047</td>\n      <td>1785.04584</td>\n      <td>1793.17</td>\n      <td>1777.98</td>\n      <td>1.326263e+06</td>\n      <td>8931168.39</td>\n      <td>1.09047</td>\n      <td>0.000608</td>\n      <td>7.06584</td>\n      <td>0.003958</td>\n      <td>15.19</td>\n      <td>9.21463</td>\n    </tr>\n    <tr>\n      <th>1629</th>\n      <td>1684899360</td>\n      <td>1825.65451</td>\n      <td>1820.21040</td>\n      <td>1823.10</td>\n      <td>1813.17</td>\n      <td>1.119969e+06</td>\n      <td>5077359.02</td>\n      <td>2.55451</td>\n      <td>0.001399</td>\n      <td>7.04040</td>\n      <td>0.003868</td>\n      <td>9.93</td>\n      <td>5.44411</td>\n    </tr>\n    <tr>\n      <th>2245</th>\n      <td>1684936320</td>\n      <td>1804.98630</td>\n      <td>1795.92821</td>\n      <td>1803.49</td>\n      <td>1790.39</td>\n      <td>2.635538e+06</td>\n      <td>6926729.09</td>\n      <td>1.49630</td>\n      <td>0.000829</td>\n      <td>5.53821</td>\n      <td>0.003084</td>\n      <td>13.10</td>\n      <td>9.05809</td>\n    </tr>\n    <tr>\n      <th>2932</th>\n      <td>1684978080</td>\n      <td>1769.04036</td>\n      <td>1767.46773</td>\n      <td>1766.89</td>\n      <td>1763.39</td>\n      <td>4.842366e+05</td>\n      <td>4177774.37</td>\n      <td>2.15036</td>\n      <td>0.001216</td>\n      <td>4.07773</td>\n      <td>0.002307</td>\n      <td>3.50</td>\n      <td>1.57263</td>\n    </tr>\n    <tr>\n      <th>1630</th>\n      <td>1684899420</td>\n      <td>1821.08974</td>\n      <td>1820.39379</td>\n      <td>1820.27</td>\n      <td>1816.49</td>\n      <td>1.620217e+05</td>\n      <td>1437353.56</td>\n      <td>0.81974</td>\n      <td>0.000450</td>\n      <td>3.90379</td>\n      <td>0.002144</td>\n      <td>3.78</td>\n      <td>0.69595</td>\n    </tr>\n    <tr>\n      <th>1628</th>\n      <td>1684899300</td>\n      <td>1828.99055</td>\n      <td>1825.65451</td>\n      <td>1828.91</td>\n      <td>1821.92</td>\n      <td>8.734903e+05</td>\n      <td>2915011.75</td>\n      <td>0.08055</td>\n      <td>0.000044</td>\n      <td>3.73451</td>\n      <td>0.002046</td>\n      <td>6.99</td>\n      <td>3.33604</td>\n    </tr>\n    <tr>\n      <th>1631</th>\n      <td>1684899480</td>\n      <td>1821.00177</td>\n      <td>1820.73947</td>\n      <td>1819.30</td>\n      <td>1817.37</td>\n      <td>7.217439e+04</td>\n      <td>502431.15</td>\n      <td>1.70177</td>\n      <td>0.000935</td>\n      <td>3.36947</td>\n      <td>0.001851</td>\n      <td>1.93</td>\n      <td>0.26230</td>\n    </tr>\n    <tr>\n      <th>2931</th>\n      <td>1684978020</td>\n      <td>1770.01292</td>\n      <td>1767.47280</td>\n      <td>1767.34</td>\n      <td>1764.28</td>\n      <td>4.514917e+05</td>\n      <td>2724207.96</td>\n      <td>2.67292</td>\n      <td>0.001510</td>\n      <td>3.19280</td>\n      <td>0.001806</td>\n      <td>3.06</td>\n      <td>2.54012</td>\n    </tr>\n    <tr>\n      <th>2316</th>\n      <td>1684940580</td>\n      <td>1785.71129</td>\n      <td>1784.50591</td>\n      <td>1784.22</td>\n      <td>1781.32</td>\n      <td>2.187805e+05</td>\n      <td>1459611.23</td>\n      <td>1.49129</td>\n      <td>0.000835</td>\n      <td>3.18591</td>\n      <td>0.001785</td>\n      <td>2.90</td>\n      <td>1.20538</td>\n    </tr>\n    <tr>\n      <th>1634</th>\n      <td>1684899660</td>\n      <td>1820.28375</td>\n      <td>1820.05236</td>\n      <td>1818.35</td>\n      <td>1816.93</td>\n      <td>5.318695e+04</td>\n      <td>599747.13</td>\n      <td>1.93375</td>\n      <td>0.001062</td>\n      <td>3.12236</td>\n      <td>0.001716</td>\n      <td>1.42</td>\n      <td>0.23139</td>\n    </tr>\n    <tr>\n      <th>1633</th>\n      <td>1684899600</td>\n      <td>1820.56751</td>\n      <td>1820.33345</td>\n      <td>1819.49</td>\n      <td>1817.25</td>\n      <td>6.132572e+04</td>\n      <td>1009388.21</td>\n      <td>1.07751</td>\n      <td>0.000592</td>\n      <td>3.08345</td>\n      <td>0.001694</td>\n      <td>2.24</td>\n      <td>0.23406</td>\n    </tr>\n    <tr>\n      <th>1635</th>\n      <td>1684899720</td>\n      <td>1820.02112</td>\n      <td>1819.42965</td>\n      <td>1817.87</td>\n      <td>1816.45</td>\n      <td>1.223121e+05</td>\n      <td>1008461.31</td>\n      <td>2.15112</td>\n      <td>0.001182</td>\n      <td>2.97965</td>\n      <td>0.001638</td>\n      <td>1.42</td>\n      <td>0.59147</td>\n    </tr>\n    <tr>\n      <th>2315</th>\n      <td>1684940520</td>\n      <td>1787.25568</td>\n      <td>1785.78914</td>\n      <td>1785.77</td>\n      <td>1782.81</td>\n      <td>2.697853e+05</td>\n      <td>1371815.24</td>\n      <td>1.48568</td>\n      <td>0.000831</td>\n      <td>2.97914</td>\n      <td>0.001668</td>\n      <td>2.96</td>\n      <td>1.46654</td>\n    </tr>\n    <tr>\n      <th>2260</th>\n      <td>1684937220</td>\n      <td>1788.10564</td>\n      <td>1785.44609</td>\n      <td>1786.28</td>\n      <td>1782.57</td>\n      <td>4.616557e+05</td>\n      <td>1628276.30</td>\n      <td>1.82564</td>\n      <td>0.001021</td>\n      <td>2.87609</td>\n      <td>0.001611</td>\n      <td>3.71</td>\n      <td>2.65955</td>\n    </tr>\n    <tr>\n      <th>2929</th>\n      <td>1684977900</td>\n      <td>1787.41563</td>\n      <td>1781.39048</td>\n      <td>1787.56</td>\n      <td>1778.58</td>\n      <td>1.151800e+06</td>\n      <td>4949631.42</td>\n      <td>-0.14437</td>\n      <td>0.000081</td>\n      <td>2.81048</td>\n      <td>0.001578</td>\n      <td>8.98</td>\n      <td>6.02515</td>\n    </tr>\n    <tr>\n      <th>2246</th>\n      <td>1684936380</td>\n      <td>1796.46425</td>\n      <td>1795.78327</td>\n      <td>1796.56</td>\n      <td>1793.20</td>\n      <td>1.872362e+05</td>\n      <td>2322317.81</td>\n      <td>-0.09575</td>\n      <td>0.000053</td>\n      <td>2.58327</td>\n      <td>0.001439</td>\n      <td>3.36</td>\n      <td>0.68098</td>\n    </tr>\n    <tr>\n      <th>2243</th>\n      <td>1684936200</td>\n      <td>1810.80824</td>\n      <td>1806.02909</td>\n      <td>1810.47</td>\n      <td>1803.47</td>\n      <td>1.216544e+06</td>\n      <td>4108164.44</td>\n      <td>0.33824</td>\n      <td>0.000187</td>\n      <td>2.55909</td>\n      <td>0.001417</td>\n      <td>7.00</td>\n      <td>4.77915</td>\n    </tr>\n    <tr>\n      <th>2244</th>\n      <td>1684936260</td>\n      <td>1806.59192</td>\n      <td>1804.75678</td>\n      <td>1805.68</td>\n      <td>1802.28</td>\n      <td>6.425817e+05</td>\n      <td>3207473.56</td>\n      <td>0.91192</td>\n      <td>0.000505</td>\n      <td>2.47678</td>\n      <td>0.001372</td>\n      <td>3.40</td>\n      <td>1.83514</td>\n    </tr>\n    <tr>\n      <th>2261</th>\n      <td>1684937280</td>\n      <td>1790.60601</td>\n      <td>1788.67830</td>\n      <td>1789.15</td>\n      <td>1786.28</td>\n      <td>2.995510e+05</td>\n      <td>810210.94</td>\n      <td>1.45601</td>\n      <td>0.000813</td>\n      <td>2.39830</td>\n      <td>0.001341</td>\n      <td>2.87</td>\n      <td>1.92771</td>\n    </tr>\n    <tr>\n      <th>2320</th>\n      <td>1684940820</td>\n      <td>1784.37573</td>\n      <td>1783.83704</td>\n      <td>1784.19</td>\n      <td>1781.49</td>\n      <td>1.411694e+05</td>\n      <td>605836.72</td>\n      <td>0.18573</td>\n      <td>0.000104</td>\n      <td>2.34704</td>\n      <td>0.001316</td>\n      <td>2.70</td>\n      <td>0.53869</td>\n    </tr>\n    <tr>\n      <th>1632</th>\n      <td>1684899540</td>\n      <td>1820.69960</td>\n      <td>1820.56720</td>\n      <td>1819.39</td>\n      <td>1818.23</td>\n      <td>4.243396e+04</td>\n      <td>620728.84</td>\n      <td>1.30960</td>\n      <td>0.000719</td>\n      <td>2.33720</td>\n      <td>0.001284</td>\n      <td>1.16</td>\n      <td>0.13240</td>\n    </tr>\n    <tr>\n      <th>2933</th>\n      <td>1684978140</td>\n      <td>1769.31973</td>\n      <td>1766.62828</td>\n      <td>1768.46</td>\n      <td>1764.34</td>\n      <td>4.296982e+05</td>\n      <td>952934.36</td>\n      <td>0.85973</td>\n      <td>0.000486</td>\n      <td>2.28828</td>\n      <td>0.001295</td>\n      <td>4.12</td>\n      <td>2.69145</td>\n    </tr>\n    <tr>\n      <th>446</th>\n      <td>1684827060</td>\n      <td>1853.47982</td>\n      <td>1852.54226</td>\n      <td>1852.52</td>\n      <td>1850.30</td>\n      <td>1.607243e+05</td>\n      <td>1519065.69</td>\n      <td>0.95982</td>\n      <td>0.000518</td>\n      <td>2.24226</td>\n      <td>0.001210</td>\n      <td>2.22</td>\n      <td>0.93756</td>\n    </tr>\n    <tr>\n      <th>389</th>\n      <td>1684823640</td>\n      <td>1857.77543</td>\n      <td>1857.76906</td>\n      <td>1856.13</td>\n      <td>1855.59</td>\n      <td>1.247590e+03</td>\n      <td>140135.87</td>\n      <td>1.64543</td>\n      <td>0.000886</td>\n      <td>2.17906</td>\n      <td>0.001173</td>\n      <td>0.54</td>\n      <td>0.00637</td>\n    </tr>\n    <tr>\n      <th>1636</th>\n      <td>1684899780</td>\n      <td>1819.93083</td>\n      <td>1819.40415</td>\n      <td>1819.13</td>\n      <td>1817.25</td>\n      <td>1.373623e+05</td>\n      <td>283654.97</td>\n      <td>0.80083</td>\n      <td>0.000440</td>\n      <td>2.15415</td>\n      <td>0.001184</td>\n      <td>1.88</td>\n      <td>0.52668</td>\n    </tr>\n    <tr>\n      <th>1657</th>\n      <td>1684901040</td>\n      <td>1821.05025</td>\n      <td>1820.84320</td>\n      <td>1819.58</td>\n      <td>1818.69</td>\n      <td>4.148166e+04</td>\n      <td>256260.42</td>\n      <td>1.47025</td>\n      <td>0.000807</td>\n      <td>2.15320</td>\n      <td>0.001183</td>\n      <td>0.89</td>\n      <td>0.20705</td>\n    </tr>\n    <tr>\n      <th>1060</th>\n      <td>1684864200</td>\n      <td>1850.06400</td>\n      <td>1849.70120</td>\n      <td>1849.26</td>\n      <td>1847.62</td>\n      <td>1.554870e+05</td>\n      <td>1640952.98</td>\n      <td>0.80400</td>\n      <td>0.000435</td>\n      <td>2.08120</td>\n      <td>0.001125</td>\n      <td>1.64</td>\n      <td>0.36280</td>\n    </tr>\n    <tr>\n      <th>2266</th>\n      <td>1684937580</td>\n      <td>1789.95482</td>\n      <td>1789.09323</td>\n      <td>1789.40</td>\n      <td>1787.02</td>\n      <td>2.104868e+05</td>\n      <td>1820888.64</td>\n      <td>0.55482</td>\n      <td>0.000310</td>\n      <td>2.07323</td>\n      <td>0.001159</td>\n      <td>2.38</td>\n      <td>0.86159</td>\n    </tr>\n    <tr>\n      <th>2089</th>\n      <td>1684926960</td>\n      <td>1815.38617</td>\n      <td>1815.27102</td>\n      <td>1815.87</td>\n      <td>1813.20</td>\n      <td>3.175321e+04</td>\n      <td>797269.59</td>\n      <td>-0.48383</td>\n      <td>0.000267</td>\n      <td>2.07102</td>\n      <td>0.001141</td>\n      <td>2.67</td>\n      <td>0.11515</td>\n    </tr>\n    <tr>\n      <th>1644</th>\n      <td>1684900260</td>\n      <td>1822.17666</td>\n      <td>1821.26335</td>\n      <td>1821.34</td>\n      <td>1819.24</td>\n      <td>2.083557e+05</td>\n      <td>172738.85</td>\n      <td>0.83666</td>\n      <td>0.000459</td>\n      <td>2.02335</td>\n      <td>0.001111</td>\n      <td>2.10</td>\n      <td>0.91331</td>\n    </tr>\n    <tr>\n      <th>2265</th>\n      <td>1684937520</td>\n      <td>1791.02619</td>\n      <td>1789.95456</td>\n      <td>1790.61</td>\n      <td>1787.97</td>\n      <td>1.346113e+05</td>\n      <td>581000.29</td>\n      <td>0.41619</td>\n      <td>0.000232</td>\n      <td>1.98456</td>\n      <td>0.001109</td>\n      <td>2.64</td>\n      <td>1.07163</td>\n    </tr>\n    <tr>\n      <th>2314</th>\n      <td>1684940460</td>\n      <td>1787.72455</td>\n      <td>1787.26987</td>\n      <td>1786.96</td>\n      <td>1785.29</td>\n      <td>1.126934e+05</td>\n      <td>414045.00</td>\n      <td>0.76455</td>\n      <td>0.000428</td>\n      <td>1.97987</td>\n      <td>0.001108</td>\n      <td>1.67</td>\n      <td>0.45468</td>\n    </tr>\n    <tr>\n      <th>2247</th>\n      <td>1684936440</td>\n      <td>1796.81712</td>\n      <td>1795.78479</td>\n      <td>1796.46</td>\n      <td>1793.82</td>\n      <td>2.510969e+05</td>\n      <td>459289.28</td>\n      <td>0.35712</td>\n      <td>0.000199</td>\n      <td>1.96479</td>\n      <td>0.001094</td>\n      <td>2.64</td>\n      <td>1.03233</td>\n    </tr>\n    <tr>\n      <th>2258</th>\n      <td>1684937100</td>\n      <td>1797.22362</td>\n      <td>1794.21932</td>\n      <td>1795.78</td>\n      <td>1792.30</td>\n      <td>4.088281e+05</td>\n      <td>1074680.18</td>\n      <td>1.44362</td>\n      <td>0.000803</td>\n      <td>1.91932</td>\n      <td>0.001070</td>\n      <td>3.48</td>\n      <td>3.00430</td>\n    </tr>\n    <tr>\n      <th>1467</th>\n      <td>1684889460</td>\n      <td>1848.97044</td>\n      <td>1848.81119</td>\n      <td>1848.40</td>\n      <td>1846.90</td>\n      <td>3.567854e+04</td>\n      <td>1701019.53</td>\n      <td>0.57044</td>\n      <td>0.000309</td>\n      <td>1.91119</td>\n      <td>0.001034</td>\n      <td>1.50</td>\n      <td>0.15925</td>\n    </tr>\n    <tr>\n      <th>2319</th>\n      <td>1684940760</td>\n      <td>1786.62316</td>\n      <td>1784.23892</td>\n      <td>1786.20</td>\n      <td>1782.33</td>\n      <td>3.650769e+05</td>\n      <td>438948.55</td>\n      <td>0.42316</td>\n      <td>0.000237</td>\n      <td>1.90892</td>\n      <td>0.001070</td>\n      <td>3.87</td>\n      <td>2.38424</td>\n    </tr>\n    <tr>\n      <th>2311</th>\n      <td>1684940280</td>\n      <td>1788.51767</td>\n      <td>1788.43919</td>\n      <td>1787.34</td>\n      <td>1786.58</td>\n      <td>1.770536e+04</td>\n      <td>327562.65</td>\n      <td>1.17767</td>\n      <td>0.000658</td>\n      <td>1.85919</td>\n      <td>0.001040</td>\n      <td>0.76</td>\n      <td>0.07848</td>\n    </tr>\n    <tr>\n      <th>2102</th>\n      <td>1684927740</td>\n      <td>1813.48910</td>\n      <td>1813.30295</td>\n      <td>1813.36</td>\n      <td>1811.46</td>\n      <td>6.059404e+04</td>\n      <td>366300.37</td>\n      <td>0.12910</td>\n      <td>0.000071</td>\n      <td>1.84295</td>\n      <td>0.001016</td>\n      <td>1.90</td>\n      <td>0.18615</td>\n    </tr>\n    <tr>\n      <th>2661</th>\n      <td>1684961580</td>\n      <td>1806.53813</td>\n      <td>1804.77794</td>\n      <td>1807.14</td>\n      <td>1802.94</td>\n      <td>3.288299e+05</td>\n      <td>1031674.46</td>\n      <td>-0.60187</td>\n      <td>0.000333</td>\n      <td>1.83794</td>\n      <td>0.001018</td>\n      <td>4.20</td>\n      <td>1.76019</td>\n    </tr>\n    <tr>\n      <th>2103</th>\n      <td>1684927800</td>\n      <td>1813.48910</td>\n      <td>1813.29989</td>\n      <td>1812.85</td>\n      <td>1811.48</td>\n      <td>8.651613e+04</td>\n      <td>186211.53</td>\n      <td>0.63910</td>\n      <td>0.000352</td>\n      <td>1.81989</td>\n      <td>0.001004</td>\n      <td>1.37</td>\n      <td>0.18921</td>\n    </tr>\n    <tr>\n      <th>2312</th>\n      <td>1684940340</td>\n      <td>1788.42883</td>\n      <td>1787.77639</td>\n      <td>1787.55</td>\n      <td>1785.97</td>\n      <td>1.160794e+05</td>\n      <td>290723.02</td>\n      <td>0.87883</td>\n      <td>0.000491</td>\n      <td>1.80639</td>\n      <td>0.001010</td>\n      <td>1.58</td>\n      <td>0.65244</td>\n    </tr>\n    <tr>\n      <th>1667</th>\n      <td>1684901640</td>\n      <td>1822.07954</td>\n      <td>1822.05064</td>\n      <td>1820.98</td>\n      <td>1820.26</td>\n      <td>1.109974e+05</td>\n      <td>176142.78</td>\n      <td>1.09954</td>\n      <td>0.000603</td>\n      <td>1.79064</td>\n      <td>0.000983</td>\n      <td>0.72</td>\n      <td>0.02890</td>\n    </tr>\n    <tr>\n      <th>1658</th>\n      <td>1684901100</td>\n      <td>1820.84445</td>\n      <td>1820.47905</td>\n      <td>1819.21</td>\n      <td>1818.70</td>\n      <td>1.115798e+05</td>\n      <td>162363.48</td>\n      <td>1.63445</td>\n      <td>0.000898</td>\n      <td>1.77905</td>\n      <td>0.000977</td>\n      <td>0.51</td>\n      <td>0.36540</td>\n    </tr>\n    <tr>\n      <th>1656</th>\n      <td>1684900980</td>\n      <td>1821.38428</td>\n      <td>1821.05214</td>\n      <td>1820.34</td>\n      <td>1819.28</td>\n      <td>6.652376e+04</td>\n      <td>51647.68</td>\n      <td>1.04428</td>\n      <td>0.000573</td>\n      <td>1.77214</td>\n      <td>0.000973</td>\n      <td>1.06</td>\n      <td>0.33214</td>\n    </tr>\n    <tr>\n      <th>1645</th>\n      <td>1684900320</td>\n      <td>1821.40639</td>\n      <td>1821.13101</td>\n      <td>1821.52</td>\n      <td>1819.36</td>\n      <td>7.247787e+04</td>\n      <td>194096.64</td>\n      <td>-0.11361</td>\n      <td>0.000062</td>\n      <td>1.77101</td>\n      <td>0.000972</td>\n      <td>2.16</td>\n      <td>0.27538</td>\n    </tr>\n    <tr>\n      <th>3744</th>\n      <td>1685026920</td>\n      <td>1799.82558</td>\n      <td>1799.51649</td>\n      <td>1799.03</td>\n      <td>1797.75</td>\n      <td>2.131838e+05</td>\n      <td>163028.61</td>\n      <td>0.79558</td>\n      <td>0.000442</td>\n      <td>1.76649</td>\n      <td>0.000982</td>\n      <td>1.28</td>\n      <td>0.30909</td>\n    </tr>\n    <tr>\n      <th>2317</th>\n      <td>1684940640</td>\n      <td>1786.31698</td>\n      <td>1784.56078</td>\n      <td>1785.13</td>\n      <td>1782.81</td>\n      <td>3.121642e+05</td>\n      <td>652286.52</td>\n      <td>1.18698</td>\n      <td>0.000664</td>\n      <td>1.75078</td>\n      <td>0.000981</td>\n      <td>2.32</td>\n      <td>1.75620</td>\n    </tr>\n    <tr>\n      <th>1638</th>\n      <td>1684899900</td>\n      <td>1820.69323</td>\n      <td>1820.16134</td>\n      <td>1820.43</td>\n      <td>1818.47</td>\n      <td>1.060736e+05</td>\n      <td>810384.31</td>\n      <td>0.26323</td>\n      <td>0.000145</td>\n      <td>1.69134</td>\n      <td>0.000929</td>\n      <td>1.96</td>\n      <td>0.53189</td>\n    </tr>\n    <tr>\n      <th>2039</th>\n      <td>1684923960</td>\n      <td>1816.47612</td>\n      <td>1816.47430</td>\n      <td>1814.99</td>\n      <td>1814.79</td>\n      <td>5.772832e+02</td>\n      <td>86843.72</td>\n      <td>1.48612</td>\n      <td>0.000818</td>\n      <td>1.68430</td>\n      <td>0.000927</td>\n      <td>0.20</td>\n      <td>0.00182</td>\n    </tr>\n  </tbody>\n</table>\n</div>"
     },
     "execution_count": 46,
     "metadata": {},
     "output_type": "execute_result"
    }
   ],
   "source": [
    "df.sort_values(by=[\"low_diff\"], ascending=False, inplace=True)\n",
    "df.head(50)"
   ],
   "metadata": {
    "collapsed": false,
    "pycharm": {
     "name": "#%%\n"
    }
   }
  },
  {
   "cell_type": "code",
   "execution_count": 19,
   "outputs": [
    {
     "data": {
      "text/plain": "[(1769.4293599999999, 6626.393923568697),\n (1769.4293599999999, 250.3699255439876),\n (1769.13005, 31844.3409),\n (1769.13005, 100.94920742282656),\n (1769.13005, 100.94926054685985),\n (1769.1300499999998, 100.94931367093506),\n (1769.13005, 100.94936679505221),\n (1769.1300499999998, 100.9494199192113),\n (1769.13005, 100.94947304341233),\n (1769.6466400000002, 56046.832664768),\n (1769.6527699999997, 664.4461800418076),\n (1769.65071, 223.4340346378958),\n (1769.73482, 1859.2483910182832),\n (1769.7348200000001, 4067.9090656855537),\n (1769.7348200000001, 6916.182520152976),\n (1769.80622, 227.570417136639),\n (1769.8062200000002, 7972.463981541213),\n (1770.84708, 5699.327669312736),\n (1770.84708, 124.198574499944),\n (1770.8470799999998, 262.81950651685935),\n (1770.8470800000002, 166.0443052948351),\n (1770.84708, 716.0580468532855),\n (1770.8470799999998, 1280.009460957504),\n (1770.84708, 70.00509938215207),\n (1770.8470799999998, 107.75681982348422),\n (1770.8470799999998, 132.3170718961055),\n (1770.8470800000002, 45.44792321175826),\n (1770.8470799999998, 358.38606492438095),\n (1770.84708, 125.19985817962134),\n (1770.8470800000002, 93054.23739809678),\n (1770.8470799999998, 275.1186017118258),\n (1770.8470800000002, 17561.286948894525),\n (1772.43329, 665.6746130365634),\n (1772.4332899999997, 301.476380988072),\n (1772.43329, 301.34041382928007),\n (1772.43329, 301.1191165710647),\n (1772.4332900000004, 1887.634798717483),\n (1772.43329, 14789.183371759998),\n (1772.43329, 324.7445137760173),\n (1772.43329, 154778.18001577785),\n (1772.43329, 3007.81929313),\n (1772.35921, 7725.293599006269),\n (1772.29606, 5380.581467235119),\n (1772.29606, 301.535968919633),\n (1772.29606, 301.39240034672514),\n (1772.2960599999997, 301.1634132093264),\n (1772.29606, 300.84925495136565),\n (1772.296059999998, 0.0571959999728018),\n (1772.3838199999998, 5818.827625401455),\n (1772.3838199999998, 328.84582429478263),\n (1772.3838199999998, 557.1454112296267),\n (1772.3838199999998, 128.4997966510094),\n (1772.38382, 3239.017580681877),\n (1772.3208800000002, 173.6218082651218),\n (1772.3208800000002, 1578.920473504562),\n (1772.3208799999998, 101.95019426295627),\n (1772.32088, 101.95025150024156),\n (1772.32088, 101.95030773759036),\n (1772.32088, 101.95036497497092),\n (1772.3208799999998, 101.95042221239964),\n (1772.32088, 101.95047944987658),\n (1772.3208799999998, 101.95053568741481),\n (1772.32088, 101.95059292498702),\n (1772.32088, 101.9506501626074),\n (1772.3208799999998, 101.9496248926796),\n (1772.3208799999998, 101.95070640028744),\n (1772.3208799999998, 101.94968112950772),\n (1772.3208799999998, 101.9507636380031),\n (1772.32088, 101.94973836636154),\n (1772.3208799999998, 101.95082087576694),\n (1772.3208799999998, 101.94979560326352),\n (1772.32088, 101.95087811357897),\n (1772.3208800000002, 101.94985284021372),\n (1772.3208800000002, 101.95093435144847),\n (1772.32088, 101.94990907723128),\n (1772.32088, 101.95099158935577),\n (1772.3208799999998, 101.94996631427672),\n (1772.3208799999998, 101.95104882731124),\n (1772.32088, 101.95002355137036),\n (1772.3208799999998, 101.95110506532254),\n (1772.32088, 101.95008078851218),\n (1772.3208799999998, 101.9511623033733),\n (1772.3208800000002, 101.9501370257192),\n (1772.3208799999998, 650.7936646417721),\n (1772.3208800000002, 59.82968155097447),\n (1772.32088, 30.073578890655217),\n (1772.7369799999997, 143.48681748985246),\n (1772.3208799999998, 1215.5363262044862),\n (1772.7369800000001, 20051.42798078),\n (1772.73698, 55.50293451285038),\n (1772.7369800000001, 527.8696655535281),\n (1772.73698, 19661.930514255804),\n (1772.73698, 1623.0256333417185),\n (1772.7369800000001, 15550.413941514636),\n (1772.7369799999997, 583.8901662921857),\n (1772.7369799999997, 168.9074364060858),\n (1772.7369800000001, 168.9075907543588),\n (1772.7369800000001, 168.90774510284336),\n (1772.7369800000001, 251.8097925895424),\n (1772.73698, 125.26872109036276),\n (1772.7369799999997, 541.3836216123098),\n (1772.73698, 281.7111822830842),\n (1772.73698, 133.2682889423529),\n (1772.73698, 2486.3796660181933),\n (1772.7369800000001, 88.90130223231839),\n (1772.7369800000001, 100.94493910243052),\n (1772.73698, 100.94499423048411),\n (1772.73698, 100.94504935858288),\n (1772.73698, 100.9451044867268),\n (1772.7369799999997, 100.94515961491588),\n (1772.7369799999997, 100.94521474315012),\n (1772.7369799999997, 100.94526987142952),\n (1774.3038999999999, 35.880971138033495),\n (1772.7369799999997, 996.3443333317001),\n (1774.3039, 1789.1381985089808),\n (1772.73698, 1359.766000208985),\n (1774.3038999999999, 97400.23043184512),\n (1772.7369800000001, 4077.295054),\n (1772.7369800000001, 1014.2167198983096),\n (1772.73698, 125.33207320983696),\n (1774.3039, 1363.138951108603),\n (1772.7369799999997, 1814.3653357486269),\n (1772.7369800000001, 2551.652603472585),\n (1774.3039000000003, 1984.8288368192636),\n (1774.3038999999999, 31937.4702),\n (1774.3038999999997, 297.7689616990108),\n (1774.3038999999999, 55.51638603752752),\n (1774.3039, 659.387740717857),\n (1774.3038999999999, 564.93252220199),\n (1774.3039, 6936.09103352092),\n (1774.3038999999997, 245.3461828398681),\n (1774.3039, 2543.3047132397405),\n (1774.3039, 405.13217177553395),\n (1777.0141599999997, 13888.442122942875),\n (1774.3038999999999, 20469.969132499016),\n (1777.01416, 6639.752877518161),\n (1777.01416, 1867.7168768578167),\n (1777.0141600000002, 6918.536989409452),\n (1777.0141600000002, 847.1219028814237),\n (1777.01416, 726.1192604298216),\n (1774.3038999999999, 31937.4702),\n (1777.01416, 1366.3523080195464),\n (1777.01416, 1999.3220378416208),\n (1777.01416, 3243.6782397941706),\n (1777.01416, 222126.77),\n (1777.01416, 165.94930766391113),\n (1777.0141599999997, 175.83660209711283),\n (1777.0141600000002, 93339.76127370608),\n (1777.01416, 100.95333575434492),\n (1777.0141599999997, 100.95338666925616),\n (1777.01416, 100.95343758420596),\n (1777.0141599999997, 100.95348849919424),\n (1777.0141599999997, 100.95353941422105),\n (1777.01416, 100.9535903292864),\n (1777.01416, 100.95364124439024),\n (1777.0141599999995, 100.9536921595326),\n (1777.01416, 100.9537430747135),\n (1777.0141599999995, 2036.0429514376249),\n (1777.0141600000002, 3248.121334909427),\n (1777.0141600000004, 205.6217901885708),\n (1777.01416, 11241.924680408),\n (1777.01416, 53.3104248),\n (1777.0141599999997, 4374.639796564113),\n (1777.0141599999997, 168.9101233412504),\n (1777.0141600000002, 168.91026587912387),\n (1777.0141600000002, 168.91040841717776),\n (1777.01416, 168.91055095541205),\n (1777.0141600000002, 168.91069349382678),\n (1777.01416, 168.91083603242194),\n (1777.01416, 168.91097857119752),\n (1777.01416, 168.91112111015352),\n (1777.0141600000002, 168.91126364928996),\n (1777.01416, 168.91140618860683),\n (1777.01416, 168.91154872810412),\n (1777.01416, 168.91169126778183),\n (1777.01416, 168.91183380763997),\n (1777.01416, 168.91197634767855),\n (1777.0141600000002, 617.2951137321772),\n (1777.01416, 773.9482312709149),\n (1780.67639, 3932.2134317000905),\n (1780.67639, 10266.637195583537),\n (1780.6763899999999, 301962.4800218993),\n (1780.67639, 301.38988562886277),\n (1780.67639, 301.23286800187554),\n (1780.6763899999999, 300.9909669985995),\n (1780.6763900000003, 6496.700452374063),\n (1780.6763899999999, 4382.3388455438535),\n (1780.6763900000003, 52394.72693935348),\n (1780.67639, 19964.312615635863),\n (1780.6763899999999, 32052.17502),\n (1780.6763899999999, 995.576169649),\n (1780.67639, 14245.41112),\n (1780.67639, 4095.555697),\n (1780.67639, 1246.473473),\n (1780.6763899999999, 64104.35004),\n (1781.1813900000002, 2315.535807),\n (1781.18139, 32061.26502),\n (1781.18139, 6915.997419525156),\n (1781.1813900000002, 50031.60406371),\n (1781.39048, 32065.02864)]"
     },
     "execution_count": 19,
     "metadata": {},
     "output_type": "execute_result"
    }
   ],
   "source": [
    "minute_price_dict[1684977960]"
   ],
   "metadata": {
    "collapsed": false,
    "pycharm": {
     "name": "#%%\n"
    }
   }
  },
  {
   "cell_type": "code",
   "execution_count": 26,
   "outputs": [
    {
     "name": "stdout",
     "output_type": "stream",
     "text": [
      "1684803600\n"
     ]
    }
   ],
   "source": [
    "# price fast change period\n",
    "from utils import utils\n",
    "from datetime import datetime\n",
    "\n",
    "print(utils.date_to_utc_timestamp(datetime(2023, 5, 23, 1, 0)))"
   ],
   "metadata": {
    "collapsed": false,
    "pycharm": {
     "name": "#%%\n"
    }
   }
  },
  {
   "cell_type": "code",
   "execution_count": 24,
   "outputs": [
    {
     "data": {
      "text/plain": "         time    arb_high     arb_low  kucoin_high  kucoin_low    arb_volume  \\\n0  1684800000  1818.25555  1818.25389      1818.27     1817.80    462.874455   \n1  1684800060  1818.25784  1818.25545      1818.40     1818.17   2996.957906   \n2  1684800180  1818.37415  1818.24957      1818.99     1818.41  32740.669877   \n3  1684800240  1818.37420  1818.37420      1818.93     1818.52     55.016836   \n4  1684800300  1818.37403  1818.37399      1819.17     1818.85  32740.751811   \n5  1684800360  1818.63848  1818.49863      1819.44     1819.13  36735.875500   \n6  1684800420  1818.64388  1818.63848      1819.45     1819.26   3237.218458   \n7  1684800480  1818.64111  1818.64111      1819.43     1819.33    214.860556   \n8  1684800540  1818.64193  1818.64193      1819.43     1819.29      4.116292   \n9  1684800720  1818.64195  1818.64195      1819.33     1819.16   3443.965077   \n\n   kucoin_volume  high_diff  high_diff_rate  low_diff  low_diff_rate  \n0       99368.32   -0.01445        0.000008   0.45389       0.000250  \n1       69844.82   -0.14216        0.000078   0.08545       0.000047  \n2      184832.72   -0.61585        0.000339  -0.16043       0.000088  \n3       85728.63   -0.55580        0.000306  -0.14580       0.000080  \n4       49105.83   -0.79597        0.000438  -0.47601       0.000262  \n5      104732.32   -0.80152        0.000441  -0.63137       0.000347  \n6       61450.85   -0.80612        0.000443  -0.62152       0.000342  \n7       21242.51   -0.78889        0.000434  -0.68889       0.000379  \n8       13132.65   -0.78807        0.000433  -0.64807       0.000356  \n9       57162.59   -0.68805        0.000378  -0.51805       0.000285  ",
      "text/html": "<div>\n<style scoped>\n    .dataframe tbody tr th:only-of-type {\n        vertical-align: middle;\n    }\n\n    .dataframe tbody tr th {\n        vertical-align: top;\n    }\n\n    .dataframe thead th {\n        text-align: right;\n    }\n</style>\n<table border=\"1\" class=\"dataframe\">\n  <thead>\n    <tr style=\"text-align: right;\">\n      <th></th>\n      <th>time</th>\n      <th>arb_high</th>\n      <th>arb_low</th>\n      <th>kucoin_high</th>\n      <th>kucoin_low</th>\n      <th>arb_volume</th>\n      <th>kucoin_volume</th>\n      <th>high_diff</th>\n      <th>high_diff_rate</th>\n      <th>low_diff</th>\n      <th>low_diff_rate</th>\n    </tr>\n  </thead>\n  <tbody>\n    <tr>\n      <th>0</th>\n      <td>1684800000</td>\n      <td>1818.25555</td>\n      <td>1818.25389</td>\n      <td>1818.27</td>\n      <td>1817.80</td>\n      <td>462.874455</td>\n      <td>99368.32</td>\n      <td>-0.01445</td>\n      <td>0.000008</td>\n      <td>0.45389</td>\n      <td>0.000250</td>\n    </tr>\n    <tr>\n      <th>1</th>\n      <td>1684800060</td>\n      <td>1818.25784</td>\n      <td>1818.25545</td>\n      <td>1818.40</td>\n      <td>1818.17</td>\n      <td>2996.957906</td>\n      <td>69844.82</td>\n      <td>-0.14216</td>\n      <td>0.000078</td>\n      <td>0.08545</td>\n      <td>0.000047</td>\n    </tr>\n    <tr>\n      <th>2</th>\n      <td>1684800180</td>\n      <td>1818.37415</td>\n      <td>1818.24957</td>\n      <td>1818.99</td>\n      <td>1818.41</td>\n      <td>32740.669877</td>\n      <td>184832.72</td>\n      <td>-0.61585</td>\n      <td>0.000339</td>\n      <td>-0.16043</td>\n      <td>0.000088</td>\n    </tr>\n    <tr>\n      <th>3</th>\n      <td>1684800240</td>\n      <td>1818.37420</td>\n      <td>1818.37420</td>\n      <td>1818.93</td>\n      <td>1818.52</td>\n      <td>55.016836</td>\n      <td>85728.63</td>\n      <td>-0.55580</td>\n      <td>0.000306</td>\n      <td>-0.14580</td>\n      <td>0.000080</td>\n    </tr>\n    <tr>\n      <th>4</th>\n      <td>1684800300</td>\n      <td>1818.37403</td>\n      <td>1818.37399</td>\n      <td>1819.17</td>\n      <td>1818.85</td>\n      <td>32740.751811</td>\n      <td>49105.83</td>\n      <td>-0.79597</td>\n      <td>0.000438</td>\n      <td>-0.47601</td>\n      <td>0.000262</td>\n    </tr>\n    <tr>\n      <th>5</th>\n      <td>1684800360</td>\n      <td>1818.63848</td>\n      <td>1818.49863</td>\n      <td>1819.44</td>\n      <td>1819.13</td>\n      <td>36735.875500</td>\n      <td>104732.32</td>\n      <td>-0.80152</td>\n      <td>0.000441</td>\n      <td>-0.63137</td>\n      <td>0.000347</td>\n    </tr>\n    <tr>\n      <th>6</th>\n      <td>1684800420</td>\n      <td>1818.64388</td>\n      <td>1818.63848</td>\n      <td>1819.45</td>\n      <td>1819.26</td>\n      <td>3237.218458</td>\n      <td>61450.85</td>\n      <td>-0.80612</td>\n      <td>0.000443</td>\n      <td>-0.62152</td>\n      <td>0.000342</td>\n    </tr>\n    <tr>\n      <th>7</th>\n      <td>1684800480</td>\n      <td>1818.64111</td>\n      <td>1818.64111</td>\n      <td>1819.43</td>\n      <td>1819.33</td>\n      <td>214.860556</td>\n      <td>21242.51</td>\n      <td>-0.78889</td>\n      <td>0.000434</td>\n      <td>-0.68889</td>\n      <td>0.000379</td>\n    </tr>\n    <tr>\n      <th>8</th>\n      <td>1684800540</td>\n      <td>1818.64193</td>\n      <td>1818.64193</td>\n      <td>1819.43</td>\n      <td>1819.29</td>\n      <td>4.116292</td>\n      <td>13132.65</td>\n      <td>-0.78807</td>\n      <td>0.000433</td>\n      <td>-0.64807</td>\n      <td>0.000356</td>\n    </tr>\n    <tr>\n      <th>9</th>\n      <td>1684800720</td>\n      <td>1818.64195</td>\n      <td>1818.64195</td>\n      <td>1819.33</td>\n      <td>1819.16</td>\n      <td>3443.965077</td>\n      <td>57162.59</td>\n      <td>-0.68805</td>\n      <td>0.000378</td>\n      <td>-0.51805</td>\n      <td>0.000285</td>\n    </tr>\n  </tbody>\n</table>\n</div>"
     },
     "execution_count": 24,
     "metadata": {},
     "output_type": "execute_result"
    }
   ],
   "source": [
    "df.sort_values(by=[\"time\"], ascending=True, inplace=True)\n",
    "df.head(10)"
   ],
   "metadata": {
    "collapsed": false,
    "pycharm": {
     "name": "#%%\n"
    }
   }
  },
  {
   "cell_type": "code",
   "execution_count": 30,
   "outputs": [
    {
     "data": {
      "text/plain": "           time    arb_high     arb_low  kucoin_high  kucoin_low  \\\n84   1684805340  1832.09506  1823.41922      1832.58     1823.74   \n85   1684805400  1839.50176  1831.78591      1841.35     1831.74   \n86   1684805460  1840.27585  1838.37083      1841.61     1839.12   \n87   1684805520  1839.52977  1838.98115      1840.15     1839.06   \n88   1684805580  1838.84391  1838.32013      1840.19     1838.28   \n..          ...         ...         ...          ...         ...   \n279  1684817040  1858.04763  1856.92268      1858.45     1856.87   \n280  1684817100  1859.03868  1857.96531      1859.09     1857.85   \n281  1684817160  1859.03958  1859.02414      1859.12     1858.31   \n282  1684817220  1859.02429  1859.01766      1859.07     1858.36   \n283  1684817280  1859.02243  1857.66884      1858.77     1856.85   \n\n       arb_volume  kucoin_volume  high_diff  high_diff_rate  low_diff  \\\n84   2.627307e+06     6600945.07   -0.48494        0.000265  -0.32078   \n85   2.081068e+06     3721682.26   -1.84824        0.001005   0.04591   \n86   4.872914e+05     1233587.28   -1.33415        0.000725  -0.74917   \n87   1.885188e+05     2182820.27   -0.62023        0.000337  -0.07885   \n88   9.366620e+04      406585.13   -1.34609        0.000732   0.04013   \n..            ...            ...        ...             ...       ...   \n279  1.759482e+05      517803.58   -0.40237        0.000217   0.05268   \n280  1.807542e+05      264824.06   -0.05132        0.000028   0.11531   \n281  3.933063e+03      398156.13   -0.08042        0.000043   0.71414   \n282  1.322605e+03      118311.25   -0.04571        0.000025   0.65766   \n283  2.120198e+05      494585.84    0.25243        0.000136   0.81884   \n\n     low_diff_rate  \n84        0.000176  \n85        0.000025  \n86        0.000408  \n87        0.000043  \n88        0.000022  \n..             ...  \n279       0.000028  \n280       0.000062  \n281       0.000384  \n282       0.000354  \n283       0.000441  \n\n[200 rows x 11 columns]",
      "text/html": "<div>\n<style scoped>\n    .dataframe tbody tr th:only-of-type {\n        vertical-align: middle;\n    }\n\n    .dataframe tbody tr th {\n        vertical-align: top;\n    }\n\n    .dataframe thead th {\n        text-align: right;\n    }\n</style>\n<table border=\"1\" class=\"dataframe\">\n  <thead>\n    <tr style=\"text-align: right;\">\n      <th></th>\n      <th>time</th>\n      <th>arb_high</th>\n      <th>arb_low</th>\n      <th>kucoin_high</th>\n      <th>kucoin_low</th>\n      <th>arb_volume</th>\n      <th>kucoin_volume</th>\n      <th>high_diff</th>\n      <th>high_diff_rate</th>\n      <th>low_diff</th>\n      <th>low_diff_rate</th>\n    </tr>\n  </thead>\n  <tbody>\n    <tr>\n      <th>84</th>\n      <td>1684805340</td>\n      <td>1832.09506</td>\n      <td>1823.41922</td>\n      <td>1832.58</td>\n      <td>1823.74</td>\n      <td>2.627307e+06</td>\n      <td>6600945.07</td>\n      <td>-0.48494</td>\n      <td>0.000265</td>\n      <td>-0.32078</td>\n      <td>0.000176</td>\n    </tr>\n    <tr>\n      <th>85</th>\n      <td>1684805400</td>\n      <td>1839.50176</td>\n      <td>1831.78591</td>\n      <td>1841.35</td>\n      <td>1831.74</td>\n      <td>2.081068e+06</td>\n      <td>3721682.26</td>\n      <td>-1.84824</td>\n      <td>0.001005</td>\n      <td>0.04591</td>\n      <td>0.000025</td>\n    </tr>\n    <tr>\n      <th>86</th>\n      <td>1684805460</td>\n      <td>1840.27585</td>\n      <td>1838.37083</td>\n      <td>1841.61</td>\n      <td>1839.12</td>\n      <td>4.872914e+05</td>\n      <td>1233587.28</td>\n      <td>-1.33415</td>\n      <td>0.000725</td>\n      <td>-0.74917</td>\n      <td>0.000408</td>\n    </tr>\n    <tr>\n      <th>87</th>\n      <td>1684805520</td>\n      <td>1839.52977</td>\n      <td>1838.98115</td>\n      <td>1840.15</td>\n      <td>1839.06</td>\n      <td>1.885188e+05</td>\n      <td>2182820.27</td>\n      <td>-0.62023</td>\n      <td>0.000337</td>\n      <td>-0.07885</td>\n      <td>0.000043</td>\n    </tr>\n    <tr>\n      <th>88</th>\n      <td>1684805580</td>\n      <td>1838.84391</td>\n      <td>1838.32013</td>\n      <td>1840.19</td>\n      <td>1838.28</td>\n      <td>9.366620e+04</td>\n      <td>406585.13</td>\n      <td>-1.34609</td>\n      <td>0.000732</td>\n      <td>0.04013</td>\n      <td>0.000022</td>\n    </tr>\n    <tr>\n      <th>...</th>\n      <td>...</td>\n      <td>...</td>\n      <td>...</td>\n      <td>...</td>\n      <td>...</td>\n      <td>...</td>\n      <td>...</td>\n      <td>...</td>\n      <td>...</td>\n      <td>...</td>\n      <td>...</td>\n    </tr>\n    <tr>\n      <th>279</th>\n      <td>1684817040</td>\n      <td>1858.04763</td>\n      <td>1856.92268</td>\n      <td>1858.45</td>\n      <td>1856.87</td>\n      <td>1.759482e+05</td>\n      <td>517803.58</td>\n      <td>-0.40237</td>\n      <td>0.000217</td>\n      <td>0.05268</td>\n      <td>0.000028</td>\n    </tr>\n    <tr>\n      <th>280</th>\n      <td>1684817100</td>\n      <td>1859.03868</td>\n      <td>1857.96531</td>\n      <td>1859.09</td>\n      <td>1857.85</td>\n      <td>1.807542e+05</td>\n      <td>264824.06</td>\n      <td>-0.05132</td>\n      <td>0.000028</td>\n      <td>0.11531</td>\n      <td>0.000062</td>\n    </tr>\n    <tr>\n      <th>281</th>\n      <td>1684817160</td>\n      <td>1859.03958</td>\n      <td>1859.02414</td>\n      <td>1859.12</td>\n      <td>1858.31</td>\n      <td>3.933063e+03</td>\n      <td>398156.13</td>\n      <td>-0.08042</td>\n      <td>0.000043</td>\n      <td>0.71414</td>\n      <td>0.000384</td>\n    </tr>\n    <tr>\n      <th>282</th>\n      <td>1684817220</td>\n      <td>1859.02429</td>\n      <td>1859.01766</td>\n      <td>1859.07</td>\n      <td>1858.36</td>\n      <td>1.322605e+03</td>\n      <td>118311.25</td>\n      <td>-0.04571</td>\n      <td>0.000025</td>\n      <td>0.65766</td>\n      <td>0.000354</td>\n    </tr>\n    <tr>\n      <th>283</th>\n      <td>1684817280</td>\n      <td>1859.02243</td>\n      <td>1857.66884</td>\n      <td>1858.77</td>\n      <td>1856.85</td>\n      <td>2.120198e+05</td>\n      <td>494585.84</td>\n      <td>0.25243</td>\n      <td>0.000136</td>\n      <td>0.81884</td>\n      <td>0.000441</td>\n    </tr>\n  </tbody>\n</table>\n<p>200 rows × 11 columns</p>\n</div>"
     },
     "execution_count": 30,
     "metadata": {},
     "output_type": "execute_result"
    }
   ],
   "source": [
    "df[df[\"time\"] >= 1684805340].head(200)"
   ],
   "metadata": {
    "collapsed": false,
    "pycharm": {
     "name": "#%%\n"
    }
   }
  },
  {
   "cell_type": "code",
   "execution_count": 28,
   "outputs": [
    {
     "data": {
      "text/plain": "          time     high      low     open  volumefrom    volumeto    close  \\\n89  1684805340  1832.58  1823.74  1824.13      3608.9  6600945.07  1831.74   \n\n   conversionType conversionSymbol  \n89         direct              NaN  ",
      "text/html": "<div>\n<style scoped>\n    .dataframe tbody tr th:only-of-type {\n        vertical-align: middle;\n    }\n\n    .dataframe tbody tr th {\n        vertical-align: top;\n    }\n\n    .dataframe thead th {\n        text-align: right;\n    }\n</style>\n<table border=\"1\" class=\"dataframe\">\n  <thead>\n    <tr style=\"text-align: right;\">\n      <th></th>\n      <th>time</th>\n      <th>high</th>\n      <th>low</th>\n      <th>open</th>\n      <th>volumefrom</th>\n      <th>volumeto</th>\n      <th>close</th>\n      <th>conversionType</th>\n      <th>conversionSymbol</th>\n    </tr>\n  </thead>\n  <tbody>\n    <tr>\n      <th>89</th>\n      <td>1684805340</td>\n      <td>1832.58</td>\n      <td>1823.74</td>\n      <td>1824.13</td>\n      <td>3608.9</td>\n      <td>6600945.07</td>\n      <td>1831.74</td>\n      <td>direct</td>\n      <td>NaN</td>\n    </tr>\n  </tbody>\n</table>\n</div>"
     },
     "execution_count": 28,
     "metadata": {},
     "output_type": "execute_result"
    }
   ],
   "source": [
    "kucoin_df[kucoin_df[\"time\"] == 1684805340]"
   ],
   "metadata": {
    "collapsed": false,
    "pycharm": {
     "name": "#%%\n"
    }
   }
  },
  {
   "cell_type": "code",
   "execution_count": 32,
   "outputs": [
    {
     "data": {
      "text/plain": "            time    arb_high     arb_low  kucoin_high  kucoin_low  \\\n2930  1684977960  1781.39048  1769.13005      1779.60     1761.75   \n195   1684812000  1867.37294  1852.71090      1870.55     1853.98   \n2259  1684937160  1794.26047  1785.04584      1793.17     1777.98   \n3567  1685016300  1807.34627  1792.56992      1807.50     1793.52   \n2245  1684936320  1804.98630  1795.92821      1803.49     1790.39   \n84    1684805340  1832.09506  1823.41922      1832.58     1823.74   \n193   1684811880  1852.58689  1846.62397      1854.52     1846.01   \n1629  1684899360  1825.65451  1820.21040      1823.10     1813.17   \n2929  1684977900  1787.41563  1781.39048      1787.56     1778.58   \n2932  1684978080  1769.04036  1767.46773      1766.89     1763.39   \n890   1684853760  1853.62754  1853.61276      1856.00     1852.99   \n2243  1684936200  1810.80824  1806.02909      1810.47     1803.47   \n2249  1684936560  1798.70519  1798.51211      1799.34     1798.12   \n85    1684805400  1839.50176  1831.78591      1841.35     1831.74   \n3992  1685041800  1817.45754  1809.01101      1817.69     1809.18   \n2244  1684936260  1806.59192  1804.75678      1805.68     1802.28   \n1628  1684899300  1828.99055  1825.65451      1828.91     1821.92   \n2931  1684978020  1770.01292  1767.47280      1767.34     1764.28   \n3832  1685032200  1797.63816  1795.97426      1798.15     1796.36   \n1617  1684898640  1841.10127  1835.08402      1840.52     1833.84   \n\n        arb_volume  kucoin_volume  high_diff  high_diff_rate  low_diff  \\\n2930  1.738033e+06    12016874.02    1.79048        0.001005   7.38005   \n195   3.894675e+06     9282686.39   -3.17706        0.001701  -1.26910   \n2259  1.326263e+06     8931168.39    1.09047        0.000608   7.06584   \n3567  4.259063e+06     8462290.52   -0.15373        0.000085  -0.95008   \n2245  2.635538e+06     6926729.09    1.49630        0.000829   5.53821   \n84    2.627307e+06     6600945.07   -0.48494        0.000265  -0.32078   \n193   1.121430e+06     5445993.10   -1.93311        0.001043   0.61397   \n1629  1.119969e+06     5077359.02    2.55451        0.001399   7.04040   \n2929  1.151800e+06     4949631.42   -0.14437        0.000081   2.81048   \n2932  4.842366e+05     4177774.37    2.15036        0.001216   4.07773   \n890   2.993200e+04     4139321.74   -2.37246        0.001280   0.62276   \n2243  1.216544e+06     4108164.44    0.33824        0.000187   2.55909   \n2249  4.054808e+04     3840689.23   -0.63481        0.000353   0.39211   \n85    2.081068e+06     3721682.26   -1.84824        0.001005   0.04591   \n3992  2.490064e+06     3557506.22   -0.23246        0.000128  -0.16899   \n2244  6.425817e+05     3207473.56    0.91192        0.000505   2.47678   \n1628  8.734903e+05     2915011.75    0.08055        0.000044   3.73451   \n2931  4.514917e+05     2724207.96    2.67292        0.001510   3.19280   \n3832  3.522839e+05     2644780.20   -0.51184        0.000285  -0.38574   \n1617  1.587346e+06     2637831.63    0.58127        0.000316   1.24402   \n\n      low_diff_rate  kucoin_gap   arb_gap  \n2930       0.004172       17.85  12.26043  \n195        0.000685       16.57  14.66204  \n2259       0.003958       15.19   9.21463  \n3567       0.000530       13.98  14.77635  \n2245       0.003084       13.10   9.05809  \n84         0.000176        8.84   8.67584  \n193        0.000332        8.51   5.96292  \n1629       0.003868        9.93   5.44411  \n2929       0.001578        8.98   6.02515  \n2932       0.002307        3.50   1.57263  \n890        0.000336        3.01   0.01478  \n2243       0.001417        7.00   4.77915  \n2249       0.000218        1.22   0.19308  \n85         0.000025        9.61   7.71585  \n3992       0.000093        8.51   8.44653  \n2244       0.001372        3.40   1.83514  \n1628       0.002046        6.99   3.33604  \n2931       0.001806        3.06   2.54012  \n3832       0.000215        1.79   1.66390  \n1617       0.000678        6.68   6.01725  ",
      "text/html": "<div>\n<style scoped>\n    .dataframe tbody tr th:only-of-type {\n        vertical-align: middle;\n    }\n\n    .dataframe tbody tr th {\n        vertical-align: top;\n    }\n\n    .dataframe thead th {\n        text-align: right;\n    }\n</style>\n<table border=\"1\" class=\"dataframe\">\n  <thead>\n    <tr style=\"text-align: right;\">\n      <th></th>\n      <th>time</th>\n      <th>arb_high</th>\n      <th>arb_low</th>\n      <th>kucoin_high</th>\n      <th>kucoin_low</th>\n      <th>arb_volume</th>\n      <th>kucoin_volume</th>\n      <th>high_diff</th>\n      <th>high_diff_rate</th>\n      <th>low_diff</th>\n      <th>low_diff_rate</th>\n      <th>kucoin_gap</th>\n      <th>arb_gap</th>\n    </tr>\n  </thead>\n  <tbody>\n    <tr>\n      <th>2930</th>\n      <td>1684977960</td>\n      <td>1781.39048</td>\n      <td>1769.13005</td>\n      <td>1779.60</td>\n      <td>1761.75</td>\n      <td>1.738033e+06</td>\n      <td>12016874.02</td>\n      <td>1.79048</td>\n      <td>0.001005</td>\n      <td>7.38005</td>\n      <td>0.004172</td>\n      <td>17.85</td>\n      <td>12.26043</td>\n    </tr>\n    <tr>\n      <th>195</th>\n      <td>1684812000</td>\n      <td>1867.37294</td>\n      <td>1852.71090</td>\n      <td>1870.55</td>\n      <td>1853.98</td>\n      <td>3.894675e+06</td>\n      <td>9282686.39</td>\n      <td>-3.17706</td>\n      <td>0.001701</td>\n      <td>-1.26910</td>\n      <td>0.000685</td>\n      <td>16.57</td>\n      <td>14.66204</td>\n    </tr>\n    <tr>\n      <th>2259</th>\n      <td>1684937160</td>\n      <td>1794.26047</td>\n      <td>1785.04584</td>\n      <td>1793.17</td>\n      <td>1777.98</td>\n      <td>1.326263e+06</td>\n      <td>8931168.39</td>\n      <td>1.09047</td>\n      <td>0.000608</td>\n      <td>7.06584</td>\n      <td>0.003958</td>\n      <td>15.19</td>\n      <td>9.21463</td>\n    </tr>\n    <tr>\n      <th>3567</th>\n      <td>1685016300</td>\n      <td>1807.34627</td>\n      <td>1792.56992</td>\n      <td>1807.50</td>\n      <td>1793.52</td>\n      <td>4.259063e+06</td>\n      <td>8462290.52</td>\n      <td>-0.15373</td>\n      <td>0.000085</td>\n      <td>-0.95008</td>\n      <td>0.000530</td>\n      <td>13.98</td>\n      <td>14.77635</td>\n    </tr>\n    <tr>\n      <th>2245</th>\n      <td>1684936320</td>\n      <td>1804.98630</td>\n      <td>1795.92821</td>\n      <td>1803.49</td>\n      <td>1790.39</td>\n      <td>2.635538e+06</td>\n      <td>6926729.09</td>\n      <td>1.49630</td>\n      <td>0.000829</td>\n      <td>5.53821</td>\n      <td>0.003084</td>\n      <td>13.10</td>\n      <td>9.05809</td>\n    </tr>\n    <tr>\n      <th>84</th>\n      <td>1684805340</td>\n      <td>1832.09506</td>\n      <td>1823.41922</td>\n      <td>1832.58</td>\n      <td>1823.74</td>\n      <td>2.627307e+06</td>\n      <td>6600945.07</td>\n      <td>-0.48494</td>\n      <td>0.000265</td>\n      <td>-0.32078</td>\n      <td>0.000176</td>\n      <td>8.84</td>\n      <td>8.67584</td>\n    </tr>\n    <tr>\n      <th>193</th>\n      <td>1684811880</td>\n      <td>1852.58689</td>\n      <td>1846.62397</td>\n      <td>1854.52</td>\n      <td>1846.01</td>\n      <td>1.121430e+06</td>\n      <td>5445993.10</td>\n      <td>-1.93311</td>\n      <td>0.001043</td>\n      <td>0.61397</td>\n      <td>0.000332</td>\n      <td>8.51</td>\n      <td>5.96292</td>\n    </tr>\n    <tr>\n      <th>1629</th>\n      <td>1684899360</td>\n      <td>1825.65451</td>\n      <td>1820.21040</td>\n      <td>1823.10</td>\n      <td>1813.17</td>\n      <td>1.119969e+06</td>\n      <td>5077359.02</td>\n      <td>2.55451</td>\n      <td>0.001399</td>\n      <td>7.04040</td>\n      <td>0.003868</td>\n      <td>9.93</td>\n      <td>5.44411</td>\n    </tr>\n    <tr>\n      <th>2929</th>\n      <td>1684977900</td>\n      <td>1787.41563</td>\n      <td>1781.39048</td>\n      <td>1787.56</td>\n      <td>1778.58</td>\n      <td>1.151800e+06</td>\n      <td>4949631.42</td>\n      <td>-0.14437</td>\n      <td>0.000081</td>\n      <td>2.81048</td>\n      <td>0.001578</td>\n      <td>8.98</td>\n      <td>6.02515</td>\n    </tr>\n    <tr>\n      <th>2932</th>\n      <td>1684978080</td>\n      <td>1769.04036</td>\n      <td>1767.46773</td>\n      <td>1766.89</td>\n      <td>1763.39</td>\n      <td>4.842366e+05</td>\n      <td>4177774.37</td>\n      <td>2.15036</td>\n      <td>0.001216</td>\n      <td>4.07773</td>\n      <td>0.002307</td>\n      <td>3.50</td>\n      <td>1.57263</td>\n    </tr>\n    <tr>\n      <th>890</th>\n      <td>1684853760</td>\n      <td>1853.62754</td>\n      <td>1853.61276</td>\n      <td>1856.00</td>\n      <td>1852.99</td>\n      <td>2.993200e+04</td>\n      <td>4139321.74</td>\n      <td>-2.37246</td>\n      <td>0.001280</td>\n      <td>0.62276</td>\n      <td>0.000336</td>\n      <td>3.01</td>\n      <td>0.01478</td>\n    </tr>\n    <tr>\n      <th>2243</th>\n      <td>1684936200</td>\n      <td>1810.80824</td>\n      <td>1806.02909</td>\n      <td>1810.47</td>\n      <td>1803.47</td>\n      <td>1.216544e+06</td>\n      <td>4108164.44</td>\n      <td>0.33824</td>\n      <td>0.000187</td>\n      <td>2.55909</td>\n      <td>0.001417</td>\n      <td>7.00</td>\n      <td>4.77915</td>\n    </tr>\n    <tr>\n      <th>2249</th>\n      <td>1684936560</td>\n      <td>1798.70519</td>\n      <td>1798.51211</td>\n      <td>1799.34</td>\n      <td>1798.12</td>\n      <td>4.054808e+04</td>\n      <td>3840689.23</td>\n      <td>-0.63481</td>\n      <td>0.000353</td>\n      <td>0.39211</td>\n      <td>0.000218</td>\n      <td>1.22</td>\n      <td>0.19308</td>\n    </tr>\n    <tr>\n      <th>85</th>\n      <td>1684805400</td>\n      <td>1839.50176</td>\n      <td>1831.78591</td>\n      <td>1841.35</td>\n      <td>1831.74</td>\n      <td>2.081068e+06</td>\n      <td>3721682.26</td>\n      <td>-1.84824</td>\n      <td>0.001005</td>\n      <td>0.04591</td>\n      <td>0.000025</td>\n      <td>9.61</td>\n      <td>7.71585</td>\n    </tr>\n    <tr>\n      <th>3992</th>\n      <td>1685041800</td>\n      <td>1817.45754</td>\n      <td>1809.01101</td>\n      <td>1817.69</td>\n      <td>1809.18</td>\n      <td>2.490064e+06</td>\n      <td>3557506.22</td>\n      <td>-0.23246</td>\n      <td>0.000128</td>\n      <td>-0.16899</td>\n      <td>0.000093</td>\n      <td>8.51</td>\n      <td>8.44653</td>\n    </tr>\n    <tr>\n      <th>2244</th>\n      <td>1684936260</td>\n      <td>1806.59192</td>\n      <td>1804.75678</td>\n      <td>1805.68</td>\n      <td>1802.28</td>\n      <td>6.425817e+05</td>\n      <td>3207473.56</td>\n      <td>0.91192</td>\n      <td>0.000505</td>\n      <td>2.47678</td>\n      <td>0.001372</td>\n      <td>3.40</td>\n      <td>1.83514</td>\n    </tr>\n    <tr>\n      <th>1628</th>\n      <td>1684899300</td>\n      <td>1828.99055</td>\n      <td>1825.65451</td>\n      <td>1828.91</td>\n      <td>1821.92</td>\n      <td>8.734903e+05</td>\n      <td>2915011.75</td>\n      <td>0.08055</td>\n      <td>0.000044</td>\n      <td>3.73451</td>\n      <td>0.002046</td>\n      <td>6.99</td>\n      <td>3.33604</td>\n    </tr>\n    <tr>\n      <th>2931</th>\n      <td>1684978020</td>\n      <td>1770.01292</td>\n      <td>1767.47280</td>\n      <td>1767.34</td>\n      <td>1764.28</td>\n      <td>4.514917e+05</td>\n      <td>2724207.96</td>\n      <td>2.67292</td>\n      <td>0.001510</td>\n      <td>3.19280</td>\n      <td>0.001806</td>\n      <td>3.06</td>\n      <td>2.54012</td>\n    </tr>\n    <tr>\n      <th>3832</th>\n      <td>1685032200</td>\n      <td>1797.63816</td>\n      <td>1795.97426</td>\n      <td>1798.15</td>\n      <td>1796.36</td>\n      <td>3.522839e+05</td>\n      <td>2644780.20</td>\n      <td>-0.51184</td>\n      <td>0.000285</td>\n      <td>-0.38574</td>\n      <td>0.000215</td>\n      <td>1.79</td>\n      <td>1.66390</td>\n    </tr>\n    <tr>\n      <th>1617</th>\n      <td>1684898640</td>\n      <td>1841.10127</td>\n      <td>1835.08402</td>\n      <td>1840.52</td>\n      <td>1833.84</td>\n      <td>1.587346e+06</td>\n      <td>2637831.63</td>\n      <td>0.58127</td>\n      <td>0.000316</td>\n      <td>1.24402</td>\n      <td>0.000678</td>\n      <td>6.68</td>\n      <td>6.01725</td>\n    </tr>\n  </tbody>\n</table>\n</div>"
     },
     "execution_count": 32,
     "metadata": {},
     "output_type": "execute_result"
    }
   ],
   "source": [
    "# CEX & DEX trading volume high\n",
    "df[\"kucoin_gap\"] = df[\"kucoin_high\"] - df[\"kucoin_low\"]\n",
    "df[\"arb_gap\"] = df[\"arb_high\"] - df[\"arb_low\"]\n",
    "\n",
    "df.sort_values(by=[\"kucoin_volume\"], ascending=False, inplace=True)\n",
    "df.head(20)"
   ],
   "metadata": {
    "collapsed": false,
    "pycharm": {
     "name": "#%%\n"
    }
   }
  },
  {
   "cell_type": "code",
   "execution_count": 33,
   "outputs": [
    {
     "data": {
      "text/plain": "            time    arb_high     arb_low  kucoin_high  kucoin_low  \\\n2930  1684977960  1781.39048  1769.13005      1779.60     1761.75   \n195   1684812000  1867.37294  1852.71090      1870.55     1853.98   \n2259  1684937160  1794.26047  1785.04584      1793.17     1777.98   \n3567  1685016300  1807.34627  1792.56992      1807.50     1793.52   \n2245  1684936320  1804.98630  1795.92821      1803.49     1790.39   \n1629  1684899360  1825.65451  1820.21040      1823.10     1813.17   \n85    1684805400  1839.50176  1831.78591      1841.35     1831.74   \n2929  1684977900  1787.41563  1781.39048      1787.56     1778.58   \n84    1684805340  1832.09506  1823.41922      1832.58     1823.74   \n193   1684811880  1852.58689  1846.62397      1854.52     1846.01   \n3992  1685041800  1817.45754  1809.01101      1817.69     1809.18   \n2243  1684936200  1810.80824  1806.02909      1810.47     1803.47   \n1628  1684899300  1828.99055  1825.65451      1828.91     1821.92   \n1617  1684898640  1841.10127  1835.08402      1840.52     1833.84   \n2714  1684964760  1801.35433  1750.00000      1800.90     1794.74   \n1602  1684897740  1846.09182  1840.31214      1845.25     1839.31   \n185   1684811400  1847.87097  1842.23663      1848.63     1843.14   \n1619  1684898760  1836.04093  1832.62404      1836.09     1831.07   \n196   1684812060  1868.35930  1865.15024      1870.09     1865.10   \n2934  1684978200  1773.38437  1769.60534      1772.75     1768.38   \n\n        arb_volume  kucoin_volume  high_diff  high_diff_rate  low_diff  \\\n2930  1.738033e+06    12016874.02    1.79048        0.001005   7.38005   \n195   3.894675e+06     9282686.39   -3.17706        0.001701  -1.26910   \n2259  1.326263e+06     8931168.39    1.09047        0.000608   7.06584   \n3567  4.259063e+06     8462290.52   -0.15373        0.000085  -0.95008   \n2245  2.635538e+06     6926729.09    1.49630        0.000829   5.53821   \n1629  1.119969e+06     5077359.02    2.55451        0.001399   7.04040   \n85    2.081068e+06     3721682.26   -1.84824        0.001005   0.04591   \n2929  1.151800e+06     4949631.42   -0.14437        0.000081   2.81048   \n84    2.627307e+06     6600945.07   -0.48494        0.000265  -0.32078   \n193   1.121430e+06     5445993.10   -1.93311        0.001043   0.61397   \n3992  2.490064e+06     3557506.22   -0.23246        0.000128  -0.16899   \n2243  1.216544e+06     4108164.44    0.33824        0.000187   2.55909   \n1628  8.734903e+05     2915011.75    0.08055        0.000044   3.73451   \n1617  1.587346e+06     2637831.63    0.58127        0.000316   1.24402   \n2714  1.287568e+06     2165398.44    0.45433        0.000252 -44.74000   \n1602  1.342120e+06     2556717.22    0.84182        0.000456   1.00214   \n185   1.110121e+06     2596181.28   -0.75903        0.000411  -0.90337   \n1619  7.969763e+05     2080819.30   -0.04907        0.000027   1.55404   \n196   9.025029e+05     2305504.56   -1.73070        0.000926   0.05024   \n2934  5.299904e+05      981966.70    0.63437        0.000358   1.22534   \n\n      low_diff_rate  kucoin_gap   arb_gap  \n2930       0.004172       17.85  12.26043  \n195        0.000685       16.57  14.66204  \n2259       0.003958       15.19   9.21463  \n3567       0.000530       13.98  14.77635  \n2245       0.003084       13.10   9.05809  \n1629       0.003868        9.93   5.44411  \n85         0.000025        9.61   7.71585  \n2929       0.001578        8.98   6.02515  \n84         0.000176        8.84   8.67584  \n193        0.000332        8.51   5.96292  \n3992       0.000093        8.51   8.44653  \n2243       0.001417        7.00   4.77915  \n1628       0.002046        6.99   3.33604  \n1617       0.000678        6.68   6.01725  \n2714       0.025566        6.16  51.35433  \n1602       0.000545        5.94   5.77968  \n185        0.000490        5.49   5.63434  \n1619       0.000848        5.02   3.41689  \n196        0.000027        4.99   3.20906  \n2934       0.000692        4.37   3.77903  ",
      "text/html": "<div>\n<style scoped>\n    .dataframe tbody tr th:only-of-type {\n        vertical-align: middle;\n    }\n\n    .dataframe tbody tr th {\n        vertical-align: top;\n    }\n\n    .dataframe thead th {\n        text-align: right;\n    }\n</style>\n<table border=\"1\" class=\"dataframe\">\n  <thead>\n    <tr style=\"text-align: right;\">\n      <th></th>\n      <th>time</th>\n      <th>arb_high</th>\n      <th>arb_low</th>\n      <th>kucoin_high</th>\n      <th>kucoin_low</th>\n      <th>arb_volume</th>\n      <th>kucoin_volume</th>\n      <th>high_diff</th>\n      <th>high_diff_rate</th>\n      <th>low_diff</th>\n      <th>low_diff_rate</th>\n      <th>kucoin_gap</th>\n      <th>arb_gap</th>\n    </tr>\n  </thead>\n  <tbody>\n    <tr>\n      <th>2930</th>\n      <td>1684977960</td>\n      <td>1781.39048</td>\n      <td>1769.13005</td>\n      <td>1779.60</td>\n      <td>1761.75</td>\n      <td>1.738033e+06</td>\n      <td>12016874.02</td>\n      <td>1.79048</td>\n      <td>0.001005</td>\n      <td>7.38005</td>\n      <td>0.004172</td>\n      <td>17.85</td>\n      <td>12.26043</td>\n    </tr>\n    <tr>\n      <th>195</th>\n      <td>1684812000</td>\n      <td>1867.37294</td>\n      <td>1852.71090</td>\n      <td>1870.55</td>\n      <td>1853.98</td>\n      <td>3.894675e+06</td>\n      <td>9282686.39</td>\n      <td>-3.17706</td>\n      <td>0.001701</td>\n      <td>-1.26910</td>\n      <td>0.000685</td>\n      <td>16.57</td>\n      <td>14.66204</td>\n    </tr>\n    <tr>\n      <th>2259</th>\n      <td>1684937160</td>\n      <td>1794.26047</td>\n      <td>1785.04584</td>\n      <td>1793.17</td>\n      <td>1777.98</td>\n      <td>1.326263e+06</td>\n      <td>8931168.39</td>\n      <td>1.09047</td>\n      <td>0.000608</td>\n      <td>7.06584</td>\n      <td>0.003958</td>\n      <td>15.19</td>\n      <td>9.21463</td>\n    </tr>\n    <tr>\n      <th>3567</th>\n      <td>1685016300</td>\n      <td>1807.34627</td>\n      <td>1792.56992</td>\n      <td>1807.50</td>\n      <td>1793.52</td>\n      <td>4.259063e+06</td>\n      <td>8462290.52</td>\n      <td>-0.15373</td>\n      <td>0.000085</td>\n      <td>-0.95008</td>\n      <td>0.000530</td>\n      <td>13.98</td>\n      <td>14.77635</td>\n    </tr>\n    <tr>\n      <th>2245</th>\n      <td>1684936320</td>\n      <td>1804.98630</td>\n      <td>1795.92821</td>\n      <td>1803.49</td>\n      <td>1790.39</td>\n      <td>2.635538e+06</td>\n      <td>6926729.09</td>\n      <td>1.49630</td>\n      <td>0.000829</td>\n      <td>5.53821</td>\n      <td>0.003084</td>\n      <td>13.10</td>\n      <td>9.05809</td>\n    </tr>\n    <tr>\n      <th>1629</th>\n      <td>1684899360</td>\n      <td>1825.65451</td>\n      <td>1820.21040</td>\n      <td>1823.10</td>\n      <td>1813.17</td>\n      <td>1.119969e+06</td>\n      <td>5077359.02</td>\n      <td>2.55451</td>\n      <td>0.001399</td>\n      <td>7.04040</td>\n      <td>0.003868</td>\n      <td>9.93</td>\n      <td>5.44411</td>\n    </tr>\n    <tr>\n      <th>85</th>\n      <td>1684805400</td>\n      <td>1839.50176</td>\n      <td>1831.78591</td>\n      <td>1841.35</td>\n      <td>1831.74</td>\n      <td>2.081068e+06</td>\n      <td>3721682.26</td>\n      <td>-1.84824</td>\n      <td>0.001005</td>\n      <td>0.04591</td>\n      <td>0.000025</td>\n      <td>9.61</td>\n      <td>7.71585</td>\n    </tr>\n    <tr>\n      <th>2929</th>\n      <td>1684977900</td>\n      <td>1787.41563</td>\n      <td>1781.39048</td>\n      <td>1787.56</td>\n      <td>1778.58</td>\n      <td>1.151800e+06</td>\n      <td>4949631.42</td>\n      <td>-0.14437</td>\n      <td>0.000081</td>\n      <td>2.81048</td>\n      <td>0.001578</td>\n      <td>8.98</td>\n      <td>6.02515</td>\n    </tr>\n    <tr>\n      <th>84</th>\n      <td>1684805340</td>\n      <td>1832.09506</td>\n      <td>1823.41922</td>\n      <td>1832.58</td>\n      <td>1823.74</td>\n      <td>2.627307e+06</td>\n      <td>6600945.07</td>\n      <td>-0.48494</td>\n      <td>0.000265</td>\n      <td>-0.32078</td>\n      <td>0.000176</td>\n      <td>8.84</td>\n      <td>8.67584</td>\n    </tr>\n    <tr>\n      <th>193</th>\n      <td>1684811880</td>\n      <td>1852.58689</td>\n      <td>1846.62397</td>\n      <td>1854.52</td>\n      <td>1846.01</td>\n      <td>1.121430e+06</td>\n      <td>5445993.10</td>\n      <td>-1.93311</td>\n      <td>0.001043</td>\n      <td>0.61397</td>\n      <td>0.000332</td>\n      <td>8.51</td>\n      <td>5.96292</td>\n    </tr>\n    <tr>\n      <th>3992</th>\n      <td>1685041800</td>\n      <td>1817.45754</td>\n      <td>1809.01101</td>\n      <td>1817.69</td>\n      <td>1809.18</td>\n      <td>2.490064e+06</td>\n      <td>3557506.22</td>\n      <td>-0.23246</td>\n      <td>0.000128</td>\n      <td>-0.16899</td>\n      <td>0.000093</td>\n      <td>8.51</td>\n      <td>8.44653</td>\n    </tr>\n    <tr>\n      <th>2243</th>\n      <td>1684936200</td>\n      <td>1810.80824</td>\n      <td>1806.02909</td>\n      <td>1810.47</td>\n      <td>1803.47</td>\n      <td>1.216544e+06</td>\n      <td>4108164.44</td>\n      <td>0.33824</td>\n      <td>0.000187</td>\n      <td>2.55909</td>\n      <td>0.001417</td>\n      <td>7.00</td>\n      <td>4.77915</td>\n    </tr>\n    <tr>\n      <th>1628</th>\n      <td>1684899300</td>\n      <td>1828.99055</td>\n      <td>1825.65451</td>\n      <td>1828.91</td>\n      <td>1821.92</td>\n      <td>8.734903e+05</td>\n      <td>2915011.75</td>\n      <td>0.08055</td>\n      <td>0.000044</td>\n      <td>3.73451</td>\n      <td>0.002046</td>\n      <td>6.99</td>\n      <td>3.33604</td>\n    </tr>\n    <tr>\n      <th>1617</th>\n      <td>1684898640</td>\n      <td>1841.10127</td>\n      <td>1835.08402</td>\n      <td>1840.52</td>\n      <td>1833.84</td>\n      <td>1.587346e+06</td>\n      <td>2637831.63</td>\n      <td>0.58127</td>\n      <td>0.000316</td>\n      <td>1.24402</td>\n      <td>0.000678</td>\n      <td>6.68</td>\n      <td>6.01725</td>\n    </tr>\n    <tr>\n      <th>2714</th>\n      <td>1684964760</td>\n      <td>1801.35433</td>\n      <td>1750.00000</td>\n      <td>1800.90</td>\n      <td>1794.74</td>\n      <td>1.287568e+06</td>\n      <td>2165398.44</td>\n      <td>0.45433</td>\n      <td>0.000252</td>\n      <td>-44.74000</td>\n      <td>0.025566</td>\n      <td>6.16</td>\n      <td>51.35433</td>\n    </tr>\n    <tr>\n      <th>1602</th>\n      <td>1684897740</td>\n      <td>1846.09182</td>\n      <td>1840.31214</td>\n      <td>1845.25</td>\n      <td>1839.31</td>\n      <td>1.342120e+06</td>\n      <td>2556717.22</td>\n      <td>0.84182</td>\n      <td>0.000456</td>\n      <td>1.00214</td>\n      <td>0.000545</td>\n      <td>5.94</td>\n      <td>5.77968</td>\n    </tr>\n    <tr>\n      <th>185</th>\n      <td>1684811400</td>\n      <td>1847.87097</td>\n      <td>1842.23663</td>\n      <td>1848.63</td>\n      <td>1843.14</td>\n      <td>1.110121e+06</td>\n      <td>2596181.28</td>\n      <td>-0.75903</td>\n      <td>0.000411</td>\n      <td>-0.90337</td>\n      <td>0.000490</td>\n      <td>5.49</td>\n      <td>5.63434</td>\n    </tr>\n    <tr>\n      <th>1619</th>\n      <td>1684898760</td>\n      <td>1836.04093</td>\n      <td>1832.62404</td>\n      <td>1836.09</td>\n      <td>1831.07</td>\n      <td>7.969763e+05</td>\n      <td>2080819.30</td>\n      <td>-0.04907</td>\n      <td>0.000027</td>\n      <td>1.55404</td>\n      <td>0.000848</td>\n      <td>5.02</td>\n      <td>3.41689</td>\n    </tr>\n    <tr>\n      <th>196</th>\n      <td>1684812060</td>\n      <td>1868.35930</td>\n      <td>1865.15024</td>\n      <td>1870.09</td>\n      <td>1865.10</td>\n      <td>9.025029e+05</td>\n      <td>2305504.56</td>\n      <td>-1.73070</td>\n      <td>0.000926</td>\n      <td>0.05024</td>\n      <td>0.000027</td>\n      <td>4.99</td>\n      <td>3.20906</td>\n    </tr>\n    <tr>\n      <th>2934</th>\n      <td>1684978200</td>\n      <td>1773.38437</td>\n      <td>1769.60534</td>\n      <td>1772.75</td>\n      <td>1768.38</td>\n      <td>5.299904e+05</td>\n      <td>981966.70</td>\n      <td>0.63437</td>\n      <td>0.000358</td>\n      <td>1.22534</td>\n      <td>0.000692</td>\n      <td>4.37</td>\n      <td>3.77903</td>\n    </tr>\n  </tbody>\n</table>\n</div>"
     },
     "execution_count": 33,
     "metadata": {},
     "output_type": "execute_result"
    }
   ],
   "source": [
    "df.sort_values(by=[\"kucoin_gap\"], ascending=False, inplace=True)\n",
    "df.head(20)"
   ],
   "metadata": {
    "collapsed": false,
    "pycharm": {
     "name": "#%%\n"
    }
   }
  },
  {
   "cell_type": "code",
   "execution_count": 36,
   "outputs": [
    {
     "name": "stdout",
     "output_type": "stream",
     "text": [
      "912497906.41\n",
      "270864581.65722555\n",
      "3.368834348245465\n"
     ]
    }
   ],
   "source": [
    "# compare kucoin volume with arb uniswap volume\n",
    "print(df[\"kucoin_volume\"].sum())\n",
    "print(df[\"arb_volume\"].sum())\n",
    "print(df[\"kucoin_volume\"].sum() / df[\"arb_volume\"].sum())"
   ],
   "metadata": {
    "collapsed": false,
    "pycharm": {
     "name": "#%%\n"
    }
   }
  },
  {
   "cell_type": "code",
   "execution_count": 48,
   "outputs": [
    {
     "data": {
      "text/plain": "                                                    id             amountIn  \\\n0    0xc14484b7a4f3d744155e1c6ee1e0c2bad0445c2bafd7...          16804947000   \n1    0xae9e5c4e377e4b69f09ef00d826ac65d82944e927edb...          13907930153   \n2    0x771f313ea2af73261f6675ff08731f7e70b05b6c81ff...  9721857323502363978   \n3    0x6a51945d54b7ab21a160e54806d04b11ad84ce9c48e7...          90368556932   \n4    0x67bb71b3aa630ae778210525b7aab229d7b3bdb3e459...  1380424126525724672   \n..                                                 ...                  ...   \n195  0xb6203ba5fe848af9ff361cc96bbf768eff29e43c2b04...          18237141178   \n196  0x63023f27fa5c68b9f5e47d90ca39f2c2732e577091bb...          33407915831   \n197  0x3b8ca796e74430509819ec77b20683a885f2fff2555e...   228013916015625010   \n198  0x064713f15881a6d0e32aa4a7a9246074ca0be4d5469a...          23316255162   \n199  0xdc093797eaebb1670b5161ea5cb0465d03d728c5c184...   162286466477352490   \n\n      amountInUSD             amountOut  amountOutUSD    tick   timestamp  \\\n0    16804.947000   8994553005199080039  16787.791442 -200997  1684812060   \n1    13907.930153   7443948839151860718  13900.628629 -200997  1684812060   \n2    18145.261147           18145848341  18145.848341 -200998  1684812060   \n3    90368.556932  48358945911922369158  90304.187003 -200994  1684812060   \n4     2576.478489            2576467050   2576.467050 -200998  1684812060   \n..            ...                   ...           ...     ...         ...   \n195  18237.141178   9827066718439991672  18225.809384 -201065  1684812011   \n196  33407.915831  18000000000000000000  33383.773440 -201063  1684812011   \n197    422.886940             422802026    422.802026 -201063  1684812011   \n198  23316.255162  12564967395071314732  23303.668044 -201065  1684812010   \n199    300.985257             300833166    300.833166 -201066  1684812009   \n\n    tokenIn tokenOut       price     trade_usd  \n0      USDC     WETH  1866.43977  16787.791442  \n1      USDC     WETH  1867.37294  13900.628629  \n2      WETH     USDC  1866.43977  18145.261147  \n3      USDC     WETH  1867.37294  90304.187003  \n4      WETH     USDC  1866.43977   2576.478489  \n..      ...      ...         ...           ...  \n195    USDC     WETH  1854.65408  18225.809384  \n196    USDC     WETH  1854.65408  33383.773440  \n197    WETH     USDC  1854.65408    422.886940  \n198    USDC     WETH  1854.65408  23303.668044  \n199    WETH     USDC  1854.65408    300.985257  \n\n[200 rows x 11 columns]",
      "text/html": "<div>\n<style scoped>\n    .dataframe tbody tr th:only-of-type {\n        vertical-align: middle;\n    }\n\n    .dataframe tbody tr th {\n        vertical-align: top;\n    }\n\n    .dataframe thead th {\n        text-align: right;\n    }\n</style>\n<table border=\"1\" class=\"dataframe\">\n  <thead>\n    <tr style=\"text-align: right;\">\n      <th></th>\n      <th>id</th>\n      <th>amountIn</th>\n      <th>amountInUSD</th>\n      <th>amountOut</th>\n      <th>amountOutUSD</th>\n      <th>tick</th>\n      <th>timestamp</th>\n      <th>tokenIn</th>\n      <th>tokenOut</th>\n      <th>price</th>\n      <th>trade_usd</th>\n    </tr>\n  </thead>\n  <tbody>\n    <tr>\n      <th>0</th>\n      <td>0xc14484b7a4f3d744155e1c6ee1e0c2bad0445c2bafd7...</td>\n      <td>16804947000</td>\n      <td>16804.947000</td>\n      <td>8994553005199080039</td>\n      <td>16787.791442</td>\n      <td>-200997</td>\n      <td>1684812060</td>\n      <td>USDC</td>\n      <td>WETH</td>\n      <td>1866.43977</td>\n      <td>16787.791442</td>\n    </tr>\n    <tr>\n      <th>1</th>\n      <td>0xae9e5c4e377e4b69f09ef00d826ac65d82944e927edb...</td>\n      <td>13907930153</td>\n      <td>13907.930153</td>\n      <td>7443948839151860718</td>\n      <td>13900.628629</td>\n      <td>-200997</td>\n      <td>1684812060</td>\n      <td>USDC</td>\n      <td>WETH</td>\n      <td>1867.37294</td>\n      <td>13900.628629</td>\n    </tr>\n    <tr>\n      <th>2</th>\n      <td>0x771f313ea2af73261f6675ff08731f7e70b05b6c81ff...</td>\n      <td>9721857323502363978</td>\n      <td>18145.261147</td>\n      <td>18145848341</td>\n      <td>18145.848341</td>\n      <td>-200998</td>\n      <td>1684812060</td>\n      <td>WETH</td>\n      <td>USDC</td>\n      <td>1866.43977</td>\n      <td>18145.261147</td>\n    </tr>\n    <tr>\n      <th>3</th>\n      <td>0x6a51945d54b7ab21a160e54806d04b11ad84ce9c48e7...</td>\n      <td>90368556932</td>\n      <td>90368.556932</td>\n      <td>48358945911922369158</td>\n      <td>90304.187003</td>\n      <td>-200994</td>\n      <td>1684812060</td>\n      <td>USDC</td>\n      <td>WETH</td>\n      <td>1867.37294</td>\n      <td>90304.187003</td>\n    </tr>\n    <tr>\n      <th>4</th>\n      <td>0x67bb71b3aa630ae778210525b7aab229d7b3bdb3e459...</td>\n      <td>1380424126525724672</td>\n      <td>2576.478489</td>\n      <td>2576467050</td>\n      <td>2576.467050</td>\n      <td>-200998</td>\n      <td>1684812060</td>\n      <td>WETH</td>\n      <td>USDC</td>\n      <td>1866.43977</td>\n      <td>2576.478489</td>\n    </tr>\n    <tr>\n      <th>...</th>\n      <td>...</td>\n      <td>...</td>\n      <td>...</td>\n      <td>...</td>\n      <td>...</td>\n      <td>...</td>\n      <td>...</td>\n      <td>...</td>\n      <td>...</td>\n      <td>...</td>\n      <td>...</td>\n    </tr>\n    <tr>\n      <th>195</th>\n      <td>0xb6203ba5fe848af9ff361cc96bbf768eff29e43c2b04...</td>\n      <td>18237141178</td>\n      <td>18237.141178</td>\n      <td>9827066718439991672</td>\n      <td>18225.809384</td>\n      <td>-201065</td>\n      <td>1684812011</td>\n      <td>USDC</td>\n      <td>WETH</td>\n      <td>1854.65408</td>\n      <td>18225.809384</td>\n    </tr>\n    <tr>\n      <th>196</th>\n      <td>0x63023f27fa5c68b9f5e47d90ca39f2c2732e577091bb...</td>\n      <td>33407915831</td>\n      <td>33407.915831</td>\n      <td>18000000000000000000</td>\n      <td>33383.773440</td>\n      <td>-201063</td>\n      <td>1684812011</td>\n      <td>USDC</td>\n      <td>WETH</td>\n      <td>1854.65408</td>\n      <td>33383.773440</td>\n    </tr>\n    <tr>\n      <th>197</th>\n      <td>0x3b8ca796e74430509819ec77b20683a885f2fff2555e...</td>\n      <td>228013916015625010</td>\n      <td>422.886940</td>\n      <td>422802026</td>\n      <td>422.802026</td>\n      <td>-201063</td>\n      <td>1684812011</td>\n      <td>WETH</td>\n      <td>USDC</td>\n      <td>1854.65408</td>\n      <td>422.886940</td>\n    </tr>\n    <tr>\n      <th>198</th>\n      <td>0x064713f15881a6d0e32aa4a7a9246074ca0be4d5469a...</td>\n      <td>23316255162</td>\n      <td>23316.255162</td>\n      <td>12564967395071314732</td>\n      <td>23303.668044</td>\n      <td>-201065</td>\n      <td>1684812010</td>\n      <td>USDC</td>\n      <td>WETH</td>\n      <td>1854.65408</td>\n      <td>23303.668044</td>\n    </tr>\n    <tr>\n      <th>199</th>\n      <td>0xdc093797eaebb1670b5161ea5cb0465d03d728c5c184...</td>\n      <td>162286466477352490</td>\n      <td>300.985257</td>\n      <td>300833166</td>\n      <td>300.833166</td>\n      <td>-201066</td>\n      <td>1684812009</td>\n      <td>WETH</td>\n      <td>USDC</td>\n      <td>1854.65408</td>\n      <td>300.985257</td>\n    </tr>\n  </tbody>\n</table>\n<p>200 rows × 11 columns</p>\n</div>"
     },
     "execution_count": 48,
     "metadata": {},
     "output_type": "execute_result"
    }
   ],
   "source": [
    "# when price change rapidly, analysis the trading pattern\n",
    "specific_time = 1684812000\n",
    "\n",
    "timekey_data = []\n",
    "for r in new_result[::-1]:\n",
    "    swap_time = r[\"timestamp\"]\n",
    "    time_key = get_time_key(swap_time)\n",
    "    if time_key != specific_time:\n",
    "        continue\n",
    "    timekey_data.append(r)\n",
    "\n",
    "\n",
    "test_df = pd.DataFrame(timekey_data)\n",
    "test_df.sort_values(by=[\"trade_usd\"], ascending=False, inplace=True)\n",
    "test_df.head(200)"
   ],
   "metadata": {
    "collapsed": false,
    "pycharm": {
     "name": "#%%\n"
    }
   }
  },
  {
   "cell_type": "code",
   "execution_count": 50,
   "outputs": [
    {
     "data": {
      "text/plain": "           time    arb_high    arb_low  kucoin_high  kucoin_low    arb_volume  \\\n195  1684812000  1867.37294  1852.7109      1870.55     1853.98  3.894675e+06   \n\n     kucoin_volume  high_diff  high_diff_rate  low_diff  low_diff_rate  \\\n195     9282686.39   -3.17706        0.001701   -1.2691       0.000685   \n\n     kucoin_gap   arb_gap  \n195       16.57  14.66204  ",
      "text/html": "<div>\n<style scoped>\n    .dataframe tbody tr th:only-of-type {\n        vertical-align: middle;\n    }\n\n    .dataframe tbody tr th {\n        vertical-align: top;\n    }\n\n    .dataframe thead th {\n        text-align: right;\n    }\n</style>\n<table border=\"1\" class=\"dataframe\">\n  <thead>\n    <tr style=\"text-align: right;\">\n      <th></th>\n      <th>time</th>\n      <th>arb_high</th>\n      <th>arb_low</th>\n      <th>kucoin_high</th>\n      <th>kucoin_low</th>\n      <th>arb_volume</th>\n      <th>kucoin_volume</th>\n      <th>high_diff</th>\n      <th>high_diff_rate</th>\n      <th>low_diff</th>\n      <th>low_diff_rate</th>\n      <th>kucoin_gap</th>\n      <th>arb_gap</th>\n    </tr>\n  </thead>\n  <tbody>\n    <tr>\n      <th>195</th>\n      <td>1684812000</td>\n      <td>1867.37294</td>\n      <td>1852.7109</td>\n      <td>1870.55</td>\n      <td>1853.98</td>\n      <td>3.894675e+06</td>\n      <td>9282686.39</td>\n      <td>-3.17706</td>\n      <td>0.001701</td>\n      <td>-1.2691</td>\n      <td>0.000685</td>\n      <td>16.57</td>\n      <td>14.66204</td>\n    </tr>\n  </tbody>\n</table>\n</div>"
     },
     "execution_count": 50,
     "metadata": {},
     "output_type": "execute_result"
    }
   ],
   "source": [
    "df[df[\"time\"] == specific_time].head()"
   ],
   "metadata": {
    "collapsed": false,
    "pycharm": {
     "name": "#%%\n"
    }
   }
  },
  {
   "cell_type": "code",
   "execution_count": 1,
   "outputs": [
    {
     "data": {
      "text/plain": "                                                  id  gasLimit   gasPrice  \\\n0  0x13875c5e00916a733dbf870b03f29c7c0e2b575294ea...   8000000  400000000   \n1  0xa629bdac51ec7b793a04193f87006f0ff4ae910f8025...  28410397  200000000   \n2  0x38d8de741acaf8f47d3e1692926b7a663e93b6fc0e4b...   2589363  100000000   \n3  0x452dd1fbd5a7c6d03880cd92be8bc35646422b627c34...   6430718  100000000   \n4  0x7ffaad3f6e94d4e7d19df8b5f8c808512918acccf5f1...   2526058  150000000   \n\n            amountIn  amountInUSD           amountOut  amountOutUSD    tick  \\\n0           18509968    18.509968   10174988585088354     18.500713 -201264   \n1          417246407   417.246407  229361579040734245    417.037599 -201264   \n2  15034268999359802    27.336143            27322474     27.322474 -201264   \n3           40248724    40.248724   22124832513497315     40.228597 -201264   \n4  54000000000000000    98.185802            98136699     98.136699 -201264   \n\n    timestamp tokenIn tokenOut  \\\n0  1684800030    USDC     WETH   \n1  1684800044    USDC     WETH   \n2  1684800056    WETH     USDC   \n3  1684800071    USDC     WETH   \n4  1684800077    WETH     USDC   \n\n                                         transaction  \\\n0  0x13875c5e00916a733dbf870b03f29c7c0e2b575294ea...   \n1  0xa629bdac51ec7b793a04193f87006f0ff4ae910f8025...   \n2  0x38d8de741acaf8f47d3e1692926b7a663e93b6fc0e4b...   \n3  0x452dd1fbd5a7c6d03880cd92be8bc35646422b627c34...   \n4  0x7ffaad3f6e94d4e7d19df8b5f8c808512918acccf5f1...   \n\n                                       trader  traderPositionCount  \\\n0  0x112bf8e7431bde9bd9395d44307f788a6e054691                    0   \n1  0x59c5c9045374693b384bc023fdca4685c7ec1a9e                    0   \n2  0x679d1c9f327257c4cec9ebc1c7c750728351e989                    0   \n3  0x2b185c762f6fb49a07116ec06b238b58fe2bec53                    3   \n4  0x23e08e6e721a0a56989c8759afa1841cd07e9565                    0   \n\n   traderOpenPositionCount  traderClosedPositionCount  traderDepositCount  \\\n0                        0                          0                3695   \n1                        0                          0                5046   \n2                        0                          0                 410   \n3                        3                          0                 293   \n4                        0                          0                   4   \n\n   traderWithdrawCount  traderSwapCount  \n0                 3695             3695  \n1                 5046             5046  \n2                  410              410  \n3                  297              290  \n4                    4                4  ",
      "text/html": "<div>\n<style scoped>\n    .dataframe tbody tr th:only-of-type {\n        vertical-align: middle;\n    }\n\n    .dataframe tbody tr th {\n        vertical-align: top;\n    }\n\n    .dataframe thead th {\n        text-align: right;\n    }\n</style>\n<table border=\"1\" class=\"dataframe\">\n  <thead>\n    <tr style=\"text-align: right;\">\n      <th></th>\n      <th>id</th>\n      <th>gasLimit</th>\n      <th>gasPrice</th>\n      <th>amountIn</th>\n      <th>amountInUSD</th>\n      <th>amountOut</th>\n      <th>amountOutUSD</th>\n      <th>tick</th>\n      <th>timestamp</th>\n      <th>tokenIn</th>\n      <th>tokenOut</th>\n      <th>transaction</th>\n      <th>trader</th>\n      <th>traderPositionCount</th>\n      <th>traderOpenPositionCount</th>\n      <th>traderClosedPositionCount</th>\n      <th>traderDepositCount</th>\n      <th>traderWithdrawCount</th>\n      <th>traderSwapCount</th>\n    </tr>\n  </thead>\n  <tbody>\n    <tr>\n      <th>0</th>\n      <td>0x13875c5e00916a733dbf870b03f29c7c0e2b575294ea...</td>\n      <td>8000000</td>\n      <td>400000000</td>\n      <td>18509968</td>\n      <td>18.509968</td>\n      <td>10174988585088354</td>\n      <td>18.500713</td>\n      <td>-201264</td>\n      <td>1684800030</td>\n      <td>USDC</td>\n      <td>WETH</td>\n      <td>0x13875c5e00916a733dbf870b03f29c7c0e2b575294ea...</td>\n      <td>0x112bf8e7431bde9bd9395d44307f788a6e054691</td>\n      <td>0</td>\n      <td>0</td>\n      <td>0</td>\n      <td>3695</td>\n      <td>3695</td>\n      <td>3695</td>\n    </tr>\n    <tr>\n      <th>1</th>\n      <td>0xa629bdac51ec7b793a04193f87006f0ff4ae910f8025...</td>\n      <td>28410397</td>\n      <td>200000000</td>\n      <td>417246407</td>\n      <td>417.246407</td>\n      <td>229361579040734245</td>\n      <td>417.037599</td>\n      <td>-201264</td>\n      <td>1684800044</td>\n      <td>USDC</td>\n      <td>WETH</td>\n      <td>0xa629bdac51ec7b793a04193f87006f0ff4ae910f8025...</td>\n      <td>0x59c5c9045374693b384bc023fdca4685c7ec1a9e</td>\n      <td>0</td>\n      <td>0</td>\n      <td>0</td>\n      <td>5046</td>\n      <td>5046</td>\n      <td>5046</td>\n    </tr>\n    <tr>\n      <th>2</th>\n      <td>0x38d8de741acaf8f47d3e1692926b7a663e93b6fc0e4b...</td>\n      <td>2589363</td>\n      <td>100000000</td>\n      <td>15034268999359802</td>\n      <td>27.336143</td>\n      <td>27322474</td>\n      <td>27.322474</td>\n      <td>-201264</td>\n      <td>1684800056</td>\n      <td>WETH</td>\n      <td>USDC</td>\n      <td>0x38d8de741acaf8f47d3e1692926b7a663e93b6fc0e4b...</td>\n      <td>0x679d1c9f327257c4cec9ebc1c7c750728351e989</td>\n      <td>0</td>\n      <td>0</td>\n      <td>0</td>\n      <td>410</td>\n      <td>410</td>\n      <td>410</td>\n    </tr>\n    <tr>\n      <th>3</th>\n      <td>0x452dd1fbd5a7c6d03880cd92be8bc35646422b627c34...</td>\n      <td>6430718</td>\n      <td>100000000</td>\n      <td>40248724</td>\n      <td>40.248724</td>\n      <td>22124832513497315</td>\n      <td>40.228597</td>\n      <td>-201264</td>\n      <td>1684800071</td>\n      <td>USDC</td>\n      <td>WETH</td>\n      <td>0x452dd1fbd5a7c6d03880cd92be8bc35646422b627c34...</td>\n      <td>0x2b185c762f6fb49a07116ec06b238b58fe2bec53</td>\n      <td>3</td>\n      <td>3</td>\n      <td>0</td>\n      <td>293</td>\n      <td>297</td>\n      <td>290</td>\n    </tr>\n    <tr>\n      <th>4</th>\n      <td>0x7ffaad3f6e94d4e7d19df8b5f8c808512918acccf5f1...</td>\n      <td>2526058</td>\n      <td>150000000</td>\n      <td>54000000000000000</td>\n      <td>98.185802</td>\n      <td>98136699</td>\n      <td>98.136699</td>\n      <td>-201264</td>\n      <td>1684800077</td>\n      <td>WETH</td>\n      <td>USDC</td>\n      <td>0x7ffaad3f6e94d4e7d19df8b5f8c808512918acccf5f1...</td>\n      <td>0x23e08e6e721a0a56989c8759afa1841cd07e9565</td>\n      <td>0</td>\n      <td>0</td>\n      <td>0</td>\n      <td>4</td>\n      <td>4</td>\n      <td>4</td>\n    </tr>\n  </tbody>\n</table>\n</div>"
     },
     "execution_count": 1,
     "metadata": {},
     "output_type": "execute_result"
    }
   ],
   "source": [
    "# when price change rapidly, who is trading in uniswap\n",
    "# get gas price, close time to rapid price change\n",
    "\n",
    "import pandas as pd\n",
    "\n",
    "analysis_df = pd.read_csv(\"../data/arb_swap_0523_0528.csv\")\n",
    "analysis_df.head()"
   ],
   "metadata": {
    "collapsed": false,
    "pycharm": {
     "name": "#%%\n"
    }
   }
  },
  {
   "cell_type": "code",
   "execution_count": 2,
   "outputs": [
    {
     "data": {
      "text/plain": "Index(['id', 'gasLimit', 'gasPrice', 'amountIn', 'amountInUSD', 'amountOut',\n       'amountOutUSD', 'tick', 'timestamp', 'tokenIn', 'tokenOut',\n       'transaction', 'trader', 'traderPositionCount',\n       'traderOpenPositionCount', 'traderClosedPositionCount',\n       'traderDepositCount', 'traderWithdrawCount', 'traderSwapCount'],\n      dtype='object')"
     },
     "execution_count": 2,
     "metadata": {},
     "output_type": "execute_result"
    }
   ],
   "source": [
    "analysis_df.columns"
   ],
   "metadata": {
    "collapsed": false,
    "pycharm": {
     "name": "#%%\n"
    }
   }
  },
  {
   "cell_type": "code",
   "execution_count": 6,
   "outputs": [
    {
     "data": {
      "text/plain": "                                                  id   timestamp  gasLimit  \\\n0  0x13875c5e00916a733dbf870b03f29c7c0e2b575294ea...  1684800030   8000000   \n1  0xa629bdac51ec7b793a04193f87006f0ff4ae910f8025...  1684800044  28410397   \n2  0x38d8de741acaf8f47d3e1692926b7a663e93b6fc0e4b...  1684800056   2589363   \n3  0x452dd1fbd5a7c6d03880cd92be8bc35646422b627c34...  1684800071   6430718   \n4  0x7ffaad3f6e94d4e7d19df8b5f8c808512918acccf5f1...  1684800077   2526058   \n\n    gasPrice           amountIn  amountInUSD           amountOut  \\\n0  400000000           18509968    18.509968   10174988585088354   \n1  200000000          417246407   417.246407  229361579040734245   \n2  100000000  15034268999359802    27.336143            27322474   \n3  100000000           40248724    40.248724   22124832513497315   \n4  150000000  54000000000000000    98.185802            98136699   \n\n   amountOutUSD    tick tokenIn tokenOut  \\\n0     18.500713 -201264    USDC     WETH   \n1    417.037599 -201264    USDC     WETH   \n2     27.322474 -201264    WETH     USDC   \n3     40.228597 -201264    USDC     WETH   \n4     98.136699 -201264    WETH     USDC   \n\n                                       trader  traderSwapCount  \n0  0x112bf8e7431bde9bd9395d44307f788a6e054691             3695  \n1  0x59c5c9045374693b384bc023fdca4685c7ec1a9e             5046  \n2  0x679d1c9f327257c4cec9ebc1c7c750728351e989              410  \n3  0x2b185c762f6fb49a07116ec06b238b58fe2bec53              290  \n4  0x23e08e6e721a0a56989c8759afa1841cd07e9565                4  ",
      "text/html": "<div>\n<style scoped>\n    .dataframe tbody tr th:only-of-type {\n        vertical-align: middle;\n    }\n\n    .dataframe tbody tr th {\n        vertical-align: top;\n    }\n\n    .dataframe thead th {\n        text-align: right;\n    }\n</style>\n<table border=\"1\" class=\"dataframe\">\n  <thead>\n    <tr style=\"text-align: right;\">\n      <th></th>\n      <th>id</th>\n      <th>timestamp</th>\n      <th>gasLimit</th>\n      <th>gasPrice</th>\n      <th>amountIn</th>\n      <th>amountInUSD</th>\n      <th>amountOut</th>\n      <th>amountOutUSD</th>\n      <th>tick</th>\n      <th>tokenIn</th>\n      <th>tokenOut</th>\n      <th>trader</th>\n      <th>traderSwapCount</th>\n    </tr>\n  </thead>\n  <tbody>\n    <tr>\n      <th>0</th>\n      <td>0x13875c5e00916a733dbf870b03f29c7c0e2b575294ea...</td>\n      <td>1684800030</td>\n      <td>8000000</td>\n      <td>400000000</td>\n      <td>18509968</td>\n      <td>18.509968</td>\n      <td>10174988585088354</td>\n      <td>18.500713</td>\n      <td>-201264</td>\n      <td>USDC</td>\n      <td>WETH</td>\n      <td>0x112bf8e7431bde9bd9395d44307f788a6e054691</td>\n      <td>3695</td>\n    </tr>\n    <tr>\n      <th>1</th>\n      <td>0xa629bdac51ec7b793a04193f87006f0ff4ae910f8025...</td>\n      <td>1684800044</td>\n      <td>28410397</td>\n      <td>200000000</td>\n      <td>417246407</td>\n      <td>417.246407</td>\n      <td>229361579040734245</td>\n      <td>417.037599</td>\n      <td>-201264</td>\n      <td>USDC</td>\n      <td>WETH</td>\n      <td>0x59c5c9045374693b384bc023fdca4685c7ec1a9e</td>\n      <td>5046</td>\n    </tr>\n    <tr>\n      <th>2</th>\n      <td>0x38d8de741acaf8f47d3e1692926b7a663e93b6fc0e4b...</td>\n      <td>1684800056</td>\n      <td>2589363</td>\n      <td>100000000</td>\n      <td>15034268999359802</td>\n      <td>27.336143</td>\n      <td>27322474</td>\n      <td>27.322474</td>\n      <td>-201264</td>\n      <td>WETH</td>\n      <td>USDC</td>\n      <td>0x679d1c9f327257c4cec9ebc1c7c750728351e989</td>\n      <td>410</td>\n    </tr>\n    <tr>\n      <th>3</th>\n      <td>0x452dd1fbd5a7c6d03880cd92be8bc35646422b627c34...</td>\n      <td>1684800071</td>\n      <td>6430718</td>\n      <td>100000000</td>\n      <td>40248724</td>\n      <td>40.248724</td>\n      <td>22124832513497315</td>\n      <td>40.228597</td>\n      <td>-201264</td>\n      <td>USDC</td>\n      <td>WETH</td>\n      <td>0x2b185c762f6fb49a07116ec06b238b58fe2bec53</td>\n      <td>290</td>\n    </tr>\n    <tr>\n      <th>4</th>\n      <td>0x7ffaad3f6e94d4e7d19df8b5f8c808512918acccf5f1...</td>\n      <td>1684800077</td>\n      <td>2526058</td>\n      <td>150000000</td>\n      <td>54000000000000000</td>\n      <td>98.185802</td>\n      <td>98136699</td>\n      <td>98.136699</td>\n      <td>-201264</td>\n      <td>WETH</td>\n      <td>USDC</td>\n      <td>0x23e08e6e721a0a56989c8759afa1841cd07e9565</td>\n      <td>4</td>\n    </tr>\n  </tbody>\n</table>\n</div>"
     },
     "execution_count": 6,
     "metadata": {},
     "output_type": "execute_result"
    }
   ],
   "source": [
    "df = analysis_df[[\"id\", \"timestamp\", \"gasLimit\", \"gasPrice\", \"amountIn\", \"amountInUSD\", \"amountOut\", \"amountOutUSD\", \"tick\", \"tokenIn\", \"tokenOut\", \"trader\", \"traderSwapCount\"]]\n",
    "df.head()"
   ],
   "metadata": {
    "collapsed": false,
    "pycharm": {
     "name": "#%%\n"
    }
   }
  },
  {
   "cell_type": "code",
   "execution_count": 7,
   "outputs": [
    {
     "data": {
      "text/plain": "(68838, 13)"
     },
     "execution_count": 7,
     "metadata": {},
     "output_type": "execute_result"
    }
   ],
   "source": [
    "df.shape"
   ],
   "metadata": {
    "collapsed": false,
    "pycharm": {
     "name": "#%%\n"
    }
   }
  },
  {
   "cell_type": "code",
   "execution_count": 8,
   "outputs": [
    {
     "data": {
      "text/plain": "          timestamp      gasLimit      gasPrice   amountInUSD   amountOutUSD  \\\ncount  6.883800e+04  6.883800e+04  6.883800e+04  6.883800e+04   68838.000000   \nmean   1.684997e+09  6.849995e+06  3.526308e+08  5.545148e+03    5541.608213   \nstd    1.192087e+05  3.070028e+07  2.511139e+09  1.270224e+04   12690.971837   \nmin    1.684800e+09  4.881170e+05  1.000000e+08  1.700000e-15       0.000000   \n25%    1.684901e+09  2.160670e+06  1.000000e+08  4.001971e+01      40.000000   \n50%    1.684993e+09  3.239952e+06  1.000000e+08  6.980816e+02     697.737242   \n75%    1.685095e+09  6.745376e+06  2.000000e+08  5.595078e+03    5592.228392   \nmax    1.685232e+09  2.000000e+09  1.000000e+11  9.256234e+05  923623.475197   \n\n                tick  traderSwapCount  \ncount   68838.000000     68838.000000  \nmean  -201260.433627     24097.274993  \nstd       129.618763     62154.914210  \nmin   -201553.000000         1.000000  \n25%   -201360.000000        19.000000  \n50%   -201260.000000       711.000000  \n75%   -201178.000000      9957.000000  \nmax   -200979.000000    335454.000000  ",
      "text/html": "<div>\n<style scoped>\n    .dataframe tbody tr th:only-of-type {\n        vertical-align: middle;\n    }\n\n    .dataframe tbody tr th {\n        vertical-align: top;\n    }\n\n    .dataframe thead th {\n        text-align: right;\n    }\n</style>\n<table border=\"1\" class=\"dataframe\">\n  <thead>\n    <tr style=\"text-align: right;\">\n      <th></th>\n      <th>timestamp</th>\n      <th>gasLimit</th>\n      <th>gasPrice</th>\n      <th>amountInUSD</th>\n      <th>amountOutUSD</th>\n      <th>tick</th>\n      <th>traderSwapCount</th>\n    </tr>\n  </thead>\n  <tbody>\n    <tr>\n      <th>count</th>\n      <td>6.883800e+04</td>\n      <td>6.883800e+04</td>\n      <td>6.883800e+04</td>\n      <td>6.883800e+04</td>\n      <td>68838.000000</td>\n      <td>68838.000000</td>\n      <td>68838.000000</td>\n    </tr>\n    <tr>\n      <th>mean</th>\n      <td>1.684997e+09</td>\n      <td>6.849995e+06</td>\n      <td>3.526308e+08</td>\n      <td>5.545148e+03</td>\n      <td>5541.608213</td>\n      <td>-201260.433627</td>\n      <td>24097.274993</td>\n    </tr>\n    <tr>\n      <th>std</th>\n      <td>1.192087e+05</td>\n      <td>3.070028e+07</td>\n      <td>2.511139e+09</td>\n      <td>1.270224e+04</td>\n      <td>12690.971837</td>\n      <td>129.618763</td>\n      <td>62154.914210</td>\n    </tr>\n    <tr>\n      <th>min</th>\n      <td>1.684800e+09</td>\n      <td>4.881170e+05</td>\n      <td>1.000000e+08</td>\n      <td>1.700000e-15</td>\n      <td>0.000000</td>\n      <td>-201553.000000</td>\n      <td>1.000000</td>\n    </tr>\n    <tr>\n      <th>25%</th>\n      <td>1.684901e+09</td>\n      <td>2.160670e+06</td>\n      <td>1.000000e+08</td>\n      <td>4.001971e+01</td>\n      <td>40.000000</td>\n      <td>-201360.000000</td>\n      <td>19.000000</td>\n    </tr>\n    <tr>\n      <th>50%</th>\n      <td>1.684993e+09</td>\n      <td>3.239952e+06</td>\n      <td>1.000000e+08</td>\n      <td>6.980816e+02</td>\n      <td>697.737242</td>\n      <td>-201260.000000</td>\n      <td>711.000000</td>\n    </tr>\n    <tr>\n      <th>75%</th>\n      <td>1.685095e+09</td>\n      <td>6.745376e+06</td>\n      <td>2.000000e+08</td>\n      <td>5.595078e+03</td>\n      <td>5592.228392</td>\n      <td>-201178.000000</td>\n      <td>9957.000000</td>\n    </tr>\n    <tr>\n      <th>max</th>\n      <td>1.685232e+09</td>\n      <td>2.000000e+09</td>\n      <td>1.000000e+11</td>\n      <td>9.256234e+05</td>\n      <td>923623.475197</td>\n      <td>-200979.000000</td>\n      <td>335454.000000</td>\n    </tr>\n  </tbody>\n</table>\n</div>"
     },
     "execution_count": 8,
     "metadata": {},
     "output_type": "execute_result"
    }
   ],
   "source": [
    "df.describe()"
   ],
   "metadata": {
    "collapsed": false,
    "pycharm": {
     "name": "#%%\n"
    }
   }
  },
  {
   "cell_type": "markdown",
   "source": [
    "### analysis：\n",
    "###   1. trading account analysis\n",
    "###   2. trading volume in and before price rapid change period"
   ],
   "metadata": {
    "collapsed": false,
    "pycharm": {
     "name": "#%% md\n"
    }
   }
  },
  {
   "cell_type": "code",
   "execution_count": 9,
   "outputs": [
    {
     "data": {
      "text/plain": "(32139, 13)"
     },
     "execution_count": 9,
     "metadata": {},
     "output_type": "execute_result"
    }
   ],
   "source": [
    "### only left trade usd larger than 1000, since smaller swap may not be able to get enough profit\n",
    "df = df[df[\"amountOutUSD\"] > 1000]\n",
    "df.shape"
   ],
   "metadata": {
    "collapsed": false,
    "pycharm": {
     "name": "#%%\n"
    }
   }
  },
  {
   "cell_type": "code",
   "execution_count": 3,
   "outputs": [
    {
     "data": {
      "text/plain": "   gasLimit   gasPrice           amountIn  amountInUSD           amountOut  \\\n0   8000000  400000000           18509968    18.509968   10174988585088354   \n1  28410397  200000000          417246407   417.246407  229361579040734245   \n2   2589363  100000000  15034268999359802    27.336143            27322474   \n3   6430718  100000000           40248724    40.248724   22124832513497315   \n4   2526058  150000000  54000000000000000    98.185802            98136699   \n\n   amountOutUSD    tick   timestamp tokenIn tokenOut  ...  \\\n0     18.500713 -201264  1684800030    USDC     WETH  ...   \n1    417.037599 -201264  1684800044    USDC     WETH  ...   \n2     27.322474 -201264  1684800056    WETH     USDC  ...   \n3     40.228597 -201264  1684800071    USDC     WETH  ...   \n4     98.136699 -201264  1684800077    WETH     USDC  ...   \n\n                                       trader traderPositionCount  \\\n0  0x112bf8e7431bde9bd9395d44307f788a6e054691                   0   \n1  0x59c5c9045374693b384bc023fdca4685c7ec1a9e                   0   \n2  0x679d1c9f327257c4cec9ebc1c7c750728351e989                   0   \n3  0x2b185c762f6fb49a07116ec06b238b58fe2bec53                   3   \n4  0x23e08e6e721a0a56989c8759afa1841cd07e9565                   0   \n\n   traderOpenPositionCount  traderClosedPositionCount  traderDepositCount  \\\n0                        0                          0                3695   \n1                        0                          0                5046   \n2                        0                          0                 410   \n3                        3                          0                 293   \n4                        0                          0                   4   \n\n   traderWithdrawCount  traderSwapCount  ethAmount   usdAmount       price  \n0                 3695             3695   0.010175   18.500713  1818.25389  \n1                 5046             5046   0.229362  417.037599  1818.25396  \n2                  410              410   0.015034   27.336143  1818.25555  \n3                  297              290   0.022125   40.228597  1818.25545  \n4                    4                4   0.054000   98.185802  1818.25560  \n\n[5 rows x 21 columns]",
      "text/html": "<div>\n<style scoped>\n    .dataframe tbody tr th:only-of-type {\n        vertical-align: middle;\n    }\n\n    .dataframe tbody tr th {\n        vertical-align: top;\n    }\n\n    .dataframe thead th {\n        text-align: right;\n    }\n</style>\n<table border=\"1\" class=\"dataframe\">\n  <thead>\n    <tr style=\"text-align: right;\">\n      <th></th>\n      <th>gasLimit</th>\n      <th>gasPrice</th>\n      <th>amountIn</th>\n      <th>amountInUSD</th>\n      <th>amountOut</th>\n      <th>amountOutUSD</th>\n      <th>tick</th>\n      <th>timestamp</th>\n      <th>tokenIn</th>\n      <th>tokenOut</th>\n      <th>...</th>\n      <th>trader</th>\n      <th>traderPositionCount</th>\n      <th>traderOpenPositionCount</th>\n      <th>traderClosedPositionCount</th>\n      <th>traderDepositCount</th>\n      <th>traderWithdrawCount</th>\n      <th>traderSwapCount</th>\n      <th>ethAmount</th>\n      <th>usdAmount</th>\n      <th>price</th>\n    </tr>\n  </thead>\n  <tbody>\n    <tr>\n      <th>0</th>\n      <td>8000000</td>\n      <td>400000000</td>\n      <td>18509968</td>\n      <td>18.509968</td>\n      <td>10174988585088354</td>\n      <td>18.500713</td>\n      <td>-201264</td>\n      <td>1684800030</td>\n      <td>USDC</td>\n      <td>WETH</td>\n      <td>...</td>\n      <td>0x112bf8e7431bde9bd9395d44307f788a6e054691</td>\n      <td>0</td>\n      <td>0</td>\n      <td>0</td>\n      <td>3695</td>\n      <td>3695</td>\n      <td>3695</td>\n      <td>0.010175</td>\n      <td>18.500713</td>\n      <td>1818.25389</td>\n    </tr>\n    <tr>\n      <th>1</th>\n      <td>28410397</td>\n      <td>200000000</td>\n      <td>417246407</td>\n      <td>417.246407</td>\n      <td>229361579040734245</td>\n      <td>417.037599</td>\n      <td>-201264</td>\n      <td>1684800044</td>\n      <td>USDC</td>\n      <td>WETH</td>\n      <td>...</td>\n      <td>0x59c5c9045374693b384bc023fdca4685c7ec1a9e</td>\n      <td>0</td>\n      <td>0</td>\n      <td>0</td>\n      <td>5046</td>\n      <td>5046</td>\n      <td>5046</td>\n      <td>0.229362</td>\n      <td>417.037599</td>\n      <td>1818.25396</td>\n    </tr>\n    <tr>\n      <th>2</th>\n      <td>2589363</td>\n      <td>100000000</td>\n      <td>15034268999359802</td>\n      <td>27.336143</td>\n      <td>27322474</td>\n      <td>27.322474</td>\n      <td>-201264</td>\n      <td>1684800056</td>\n      <td>WETH</td>\n      <td>USDC</td>\n      <td>...</td>\n      <td>0x679d1c9f327257c4cec9ebc1c7c750728351e989</td>\n      <td>0</td>\n      <td>0</td>\n      <td>0</td>\n      <td>410</td>\n      <td>410</td>\n      <td>410</td>\n      <td>0.015034</td>\n      <td>27.336143</td>\n      <td>1818.25555</td>\n    </tr>\n    <tr>\n      <th>3</th>\n      <td>6430718</td>\n      <td>100000000</td>\n      <td>40248724</td>\n      <td>40.248724</td>\n      <td>22124832513497315</td>\n      <td>40.228597</td>\n      <td>-201264</td>\n      <td>1684800071</td>\n      <td>USDC</td>\n      <td>WETH</td>\n      <td>...</td>\n      <td>0x2b185c762f6fb49a07116ec06b238b58fe2bec53</td>\n      <td>3</td>\n      <td>3</td>\n      <td>0</td>\n      <td>293</td>\n      <td>297</td>\n      <td>290</td>\n      <td>0.022125</td>\n      <td>40.228597</td>\n      <td>1818.25545</td>\n    </tr>\n    <tr>\n      <th>4</th>\n      <td>2526058</td>\n      <td>150000000</td>\n      <td>54000000000000000</td>\n      <td>98.185802</td>\n      <td>98136699</td>\n      <td>98.136699</td>\n      <td>-201264</td>\n      <td>1684800077</td>\n      <td>WETH</td>\n      <td>USDC</td>\n      <td>...</td>\n      <td>0x23e08e6e721a0a56989c8759afa1841cd07e9565</td>\n      <td>0</td>\n      <td>0</td>\n      <td>0</td>\n      <td>4</td>\n      <td>4</td>\n      <td>4</td>\n      <td>0.054000</td>\n      <td>98.185802</td>\n      <td>1818.25560</td>\n    </tr>\n  </tbody>\n</table>\n<p>5 rows × 21 columns</p>\n</div>"
     },
     "execution_count": 3,
     "metadata": {},
     "output_type": "execute_result"
    }
   ],
   "source": [
    "# considering trading fee, calculate \"0x8cc02c2381b7c55e18dccfea917f0677a5671931\" invest, profit and positions\n",
    "\n",
    "df = pd.read_csv(\"../data/arb_swap.csv\")\n",
    "df.head()"
   ],
   "metadata": {
    "collapsed": false,
    "pycharm": {
     "name": "#%%\n"
    }
   }
  },
  {
   "cell_type": "code",
   "execution_count": 5,
   "outputs": [
    {
     "data": {
      "text/plain": "(1989, 21)"
     },
     "execution_count": 5,
     "metadata": {},
     "output_type": "execute_result"
    }
   ],
   "source": [
    "user_df = df[df[\"trader\"] == \"0x8cc02c2381b7c55e18dccfea917f0677a5671931\"]\n",
    "user_df.shape"
   ],
   "metadata": {
    "collapsed": false,
    "pycharm": {
     "name": "#%%\n"
    }
   }
  },
  {
   "cell_type": "code",
   "execution_count": 6,
   "outputs": [
    {
     "data": {
      "text/plain": "     gasLimit    gasPrice              amountIn   amountInUSD  \\\n44    6000000  2000000000           28963484807  28963.484807   \n70    6000000  2000000000           26561134416  26561.134416   \n110   6000000  2000000000           23734455145  23734.455145   \n121   6000000  2000000000           37540012512  37540.012512   \n167   6000000  2000000000  14727537731424333731  26848.252389   \n\n                amountOut  amountOutUSD    tick   timestamp tokenIn tokenOut  \\\n44   15916883943069540192  28948.125166 -201261  1684801307    USDC     WETH   \n70   14592424671772653034  26544.819975 -201258  1684801781    USDC     WETH   \n110  13026029637798678527  23721.125260 -201248  1684802011    USDC     WETH   \n121  20597925075725121430  37518.016271 -201246  1684802117    USDC     WETH   \n167           26833703476  26833.703476 -201239  1684802251    WETH     USDC   \n\n     ...                                      trader traderPositionCount  \\\n44   ...  0x8cc02c2381b7c55e18dccfea917f0677a5671931                   0   \n70   ...  0x8cc02c2381b7c55e18dccfea917f0677a5671931                   0   \n110  ...  0x8cc02c2381b7c55e18dccfea917f0677a5671931                   0   \n121  ...  0x8cc02c2381b7c55e18dccfea917f0677a5671931                   0   \n167  ...  0x8cc02c2381b7c55e18dccfea917f0677a5671931                   0   \n\n     traderOpenPositionCount  traderClosedPositionCount  traderDepositCount  \\\n44                         0                          0               60818   \n70                         0                          0               60818   \n110                        0                          0               60818   \n121                        0                          0               60818   \n167                        0                          0               60818   \n\n     traderWithdrawCount  traderSwapCount  ethAmount     usdAmount       price  \n44                 60818            60818  15.916884  28948.125166  1818.70555  \n70                 60818            60818  14.592425  26544.819975  1819.08220  \n110                60818            60818  13.026030  23721.125260  1821.05568  \n121                60818            60818  20.597925  37518.016271  1821.44639  \n167                60818            60818  14.727538  26848.252389  1822.99668  \n\n[5 rows x 21 columns]",
      "text/html": "<div>\n<style scoped>\n    .dataframe tbody tr th:only-of-type {\n        vertical-align: middle;\n    }\n\n    .dataframe tbody tr th {\n        vertical-align: top;\n    }\n\n    .dataframe thead th {\n        text-align: right;\n    }\n</style>\n<table border=\"1\" class=\"dataframe\">\n  <thead>\n    <tr style=\"text-align: right;\">\n      <th></th>\n      <th>gasLimit</th>\n      <th>gasPrice</th>\n      <th>amountIn</th>\n      <th>amountInUSD</th>\n      <th>amountOut</th>\n      <th>amountOutUSD</th>\n      <th>tick</th>\n      <th>timestamp</th>\n      <th>tokenIn</th>\n      <th>tokenOut</th>\n      <th>...</th>\n      <th>trader</th>\n      <th>traderPositionCount</th>\n      <th>traderOpenPositionCount</th>\n      <th>traderClosedPositionCount</th>\n      <th>traderDepositCount</th>\n      <th>traderWithdrawCount</th>\n      <th>traderSwapCount</th>\n      <th>ethAmount</th>\n      <th>usdAmount</th>\n      <th>price</th>\n    </tr>\n  </thead>\n  <tbody>\n    <tr>\n      <th>44</th>\n      <td>6000000</td>\n      <td>2000000000</td>\n      <td>28963484807</td>\n      <td>28963.484807</td>\n      <td>15916883943069540192</td>\n      <td>28948.125166</td>\n      <td>-201261</td>\n      <td>1684801307</td>\n      <td>USDC</td>\n      <td>WETH</td>\n      <td>...</td>\n      <td>0x8cc02c2381b7c55e18dccfea917f0677a5671931</td>\n      <td>0</td>\n      <td>0</td>\n      <td>0</td>\n      <td>60818</td>\n      <td>60818</td>\n      <td>60818</td>\n      <td>15.916884</td>\n      <td>28948.125166</td>\n      <td>1818.70555</td>\n    </tr>\n    <tr>\n      <th>70</th>\n      <td>6000000</td>\n      <td>2000000000</td>\n      <td>26561134416</td>\n      <td>26561.134416</td>\n      <td>14592424671772653034</td>\n      <td>26544.819975</td>\n      <td>-201258</td>\n      <td>1684801781</td>\n      <td>USDC</td>\n      <td>WETH</td>\n      <td>...</td>\n      <td>0x8cc02c2381b7c55e18dccfea917f0677a5671931</td>\n      <td>0</td>\n      <td>0</td>\n      <td>0</td>\n      <td>60818</td>\n      <td>60818</td>\n      <td>60818</td>\n      <td>14.592425</td>\n      <td>26544.819975</td>\n      <td>1819.08220</td>\n    </tr>\n    <tr>\n      <th>110</th>\n      <td>6000000</td>\n      <td>2000000000</td>\n      <td>23734455145</td>\n      <td>23734.455145</td>\n      <td>13026029637798678527</td>\n      <td>23721.125260</td>\n      <td>-201248</td>\n      <td>1684802011</td>\n      <td>USDC</td>\n      <td>WETH</td>\n      <td>...</td>\n      <td>0x8cc02c2381b7c55e18dccfea917f0677a5671931</td>\n      <td>0</td>\n      <td>0</td>\n      <td>0</td>\n      <td>60818</td>\n      <td>60818</td>\n      <td>60818</td>\n      <td>13.026030</td>\n      <td>23721.125260</td>\n      <td>1821.05568</td>\n    </tr>\n    <tr>\n      <th>121</th>\n      <td>6000000</td>\n      <td>2000000000</td>\n      <td>37540012512</td>\n      <td>37540.012512</td>\n      <td>20597925075725121430</td>\n      <td>37518.016271</td>\n      <td>-201246</td>\n      <td>1684802117</td>\n      <td>USDC</td>\n      <td>WETH</td>\n      <td>...</td>\n      <td>0x8cc02c2381b7c55e18dccfea917f0677a5671931</td>\n      <td>0</td>\n      <td>0</td>\n      <td>0</td>\n      <td>60818</td>\n      <td>60818</td>\n      <td>60818</td>\n      <td>20.597925</td>\n      <td>37518.016271</td>\n      <td>1821.44639</td>\n    </tr>\n    <tr>\n      <th>167</th>\n      <td>6000000</td>\n      <td>2000000000</td>\n      <td>14727537731424333731</td>\n      <td>26848.252389</td>\n      <td>26833703476</td>\n      <td>26833.703476</td>\n      <td>-201239</td>\n      <td>1684802251</td>\n      <td>WETH</td>\n      <td>USDC</td>\n      <td>...</td>\n      <td>0x8cc02c2381b7c55e18dccfea917f0677a5671931</td>\n      <td>0</td>\n      <td>0</td>\n      <td>0</td>\n      <td>60818</td>\n      <td>60818</td>\n      <td>60818</td>\n      <td>14.727538</td>\n      <td>26848.252389</td>\n      <td>1822.99668</td>\n    </tr>\n  </tbody>\n</table>\n<p>5 rows × 21 columns</p>\n</div>"
     },
     "execution_count": 6,
     "metadata": {},
     "output_type": "execute_result"
    }
   ],
   "source": [
    "user_df.head()"
   ],
   "metadata": {
    "collapsed": false,
    "pycharm": {
     "name": "#%%\n"
    }
   }
  },
  {
   "cell_type": "code",
   "execution_count": 11,
   "outputs": [
    {
     "data": {
      "text/plain": "{'gasLimit': 6000000,\n 'gasPrice': 2000000000,\n 'amountIn': '28963484807',\n 'amountInUSD': 28963.484807,\n 'amountOut': '15916883943069540192',\n 'amountOutUSD': 28948.125165966456,\n 'tick': -201261,\n 'timestamp': 1684801307,\n 'tokenIn': 'USDC',\n 'tokenOut': 'WETH',\n 'transaction': '0x727d427aeccdb9ff40de206105fcfbe9780d071fa9aa5081a283ccae7dd70a8403000000',\n 'trader': '0x8cc02c2381b7c55e18dccfea917f0677a5671931',\n 'traderPositionCount': 0,\n 'traderOpenPositionCount': 0,\n 'traderClosedPositionCount': 0,\n 'traderDepositCount': 60818,\n 'traderWithdrawCount': 60818,\n 'traderSwapCount': 60818,\n 'ethAmount': 15.91688394306954,\n 'usdAmount': 28948.125165966456,\n 'price': 1818.70555,\n 'fees': 14.4817424035,\n 'usd': 71036.515193,\n 'eth': 115.91688394306954}"
     },
     "execution_count": 11,
     "metadata": {},
     "output_type": "execute_result"
    }
   ],
   "source": [
    "init_eth = 100\n",
    "init_usd = 100 * 2000\n",
    "\n",
    "# calculate eth, usd in every step to know least investment, considering about trading fee\n",
    "trade_data = user_df.to_dict(\"records\")\n",
    "trade_data[0]"
   ],
   "metadata": {
    "collapsed": false,
    "pycharm": {
     "name": "#%%\n"
    }
   }
  },
  {
   "cell_type": "code",
   "execution_count": 18,
   "outputs": [
    {
     "data": {
      "text/plain": "   gasLimit    gasPrice              amountIn   amountInUSD  \\\n0   6000000  2000000000           28963484807  28963.484807   \n1   6000000  2000000000           26561134416  26561.134416   \n2   6000000  2000000000           23734455145  23734.455145   \n3   6000000  2000000000           37540012512  37540.012512   \n4   6000000  2000000000  14727537731424333731  26848.252389   \n\n              amountOut  amountOutUSD    tick   timestamp tokenIn tokenOut  \\\n0  15916883943069540192  28948.125166 -201261  1684801307    USDC     WETH   \n1  14592424671772653034  26544.819975 -201258  1684801781    USDC     WETH   \n2  13026029637798678527  23721.125260 -201248  1684802011    USDC     WETH   \n3  20597925075725121430  37518.016271 -201246  1684802117    USDC     WETH   \n4           26833703476  26833.703476 -201239  1684802251    WETH     USDC   \n\n   ... traderDepositCount traderWithdrawCount  traderSwapCount  ethAmount  \\\n0  ...              60818               60818            60818  15.916884   \n1  ...              60818               60818            60818  14.592425   \n2  ...              60818               60818            60818  13.026030   \n3  ...              60818               60818            60818  20.597925   \n4  ...              60818               60818            60818  14.727538   \n\n      usdAmount       price       fees            usd         eth      profit  \n0  28948.125166  1818.70555  14.481742  171036.515193  115.916884  -15.359641  \n1  26544.819975  1819.08220  13.280567  144475.380777  130.509309  -25.678987  \n2  23721.125260  1821.05568  11.867228  120740.925632  143.535338   21.200638  \n3  37518.016271  1821.44639  18.770006   83200.913120  164.133263   16.214088  \n4  26848.252389  1822.99668  13.424126  110034.616596  149.405726  101.090332  \n\n[5 rows x 25 columns]",
      "text/html": "<div>\n<style scoped>\n    .dataframe tbody tr th:only-of-type {\n        vertical-align: middle;\n    }\n\n    .dataframe tbody tr th {\n        vertical-align: top;\n    }\n\n    .dataframe thead th {\n        text-align: right;\n    }\n</style>\n<table border=\"1\" class=\"dataframe\">\n  <thead>\n    <tr style=\"text-align: right;\">\n      <th></th>\n      <th>gasLimit</th>\n      <th>gasPrice</th>\n      <th>amountIn</th>\n      <th>amountInUSD</th>\n      <th>amountOut</th>\n      <th>amountOutUSD</th>\n      <th>tick</th>\n      <th>timestamp</th>\n      <th>tokenIn</th>\n      <th>tokenOut</th>\n      <th>...</th>\n      <th>traderDepositCount</th>\n      <th>traderWithdrawCount</th>\n      <th>traderSwapCount</th>\n      <th>ethAmount</th>\n      <th>usdAmount</th>\n      <th>price</th>\n      <th>fees</th>\n      <th>usd</th>\n      <th>eth</th>\n      <th>profit</th>\n    </tr>\n  </thead>\n  <tbody>\n    <tr>\n      <th>0</th>\n      <td>6000000</td>\n      <td>2000000000</td>\n      <td>28963484807</td>\n      <td>28963.484807</td>\n      <td>15916883943069540192</td>\n      <td>28948.125166</td>\n      <td>-201261</td>\n      <td>1684801307</td>\n      <td>USDC</td>\n      <td>WETH</td>\n      <td>...</td>\n      <td>60818</td>\n      <td>60818</td>\n      <td>60818</td>\n      <td>15.916884</td>\n      <td>28948.125166</td>\n      <td>1818.70555</td>\n      <td>14.481742</td>\n      <td>171036.515193</td>\n      <td>115.916884</td>\n      <td>-15.359641</td>\n    </tr>\n    <tr>\n      <th>1</th>\n      <td>6000000</td>\n      <td>2000000000</td>\n      <td>26561134416</td>\n      <td>26561.134416</td>\n      <td>14592424671772653034</td>\n      <td>26544.819975</td>\n      <td>-201258</td>\n      <td>1684801781</td>\n      <td>USDC</td>\n      <td>WETH</td>\n      <td>...</td>\n      <td>60818</td>\n      <td>60818</td>\n      <td>60818</td>\n      <td>14.592425</td>\n      <td>26544.819975</td>\n      <td>1819.08220</td>\n      <td>13.280567</td>\n      <td>144475.380777</td>\n      <td>130.509309</td>\n      <td>-25.678987</td>\n    </tr>\n    <tr>\n      <th>2</th>\n      <td>6000000</td>\n      <td>2000000000</td>\n      <td>23734455145</td>\n      <td>23734.455145</td>\n      <td>13026029637798678527</td>\n      <td>23721.125260</td>\n      <td>-201248</td>\n      <td>1684802011</td>\n      <td>USDC</td>\n      <td>WETH</td>\n      <td>...</td>\n      <td>60818</td>\n      <td>60818</td>\n      <td>60818</td>\n      <td>13.026030</td>\n      <td>23721.125260</td>\n      <td>1821.05568</td>\n      <td>11.867228</td>\n      <td>120740.925632</td>\n      <td>143.535338</td>\n      <td>21.200638</td>\n    </tr>\n    <tr>\n      <th>3</th>\n      <td>6000000</td>\n      <td>2000000000</td>\n      <td>37540012512</td>\n      <td>37540.012512</td>\n      <td>20597925075725121430</td>\n      <td>37518.016271</td>\n      <td>-201246</td>\n      <td>1684802117</td>\n      <td>USDC</td>\n      <td>WETH</td>\n      <td>...</td>\n      <td>60818</td>\n      <td>60818</td>\n      <td>60818</td>\n      <td>20.597925</td>\n      <td>37518.016271</td>\n      <td>1821.44639</td>\n      <td>18.770006</td>\n      <td>83200.913120</td>\n      <td>164.133263</td>\n      <td>16.214088</td>\n    </tr>\n    <tr>\n      <th>4</th>\n      <td>6000000</td>\n      <td>2000000000</td>\n      <td>14727537731424333731</td>\n      <td>26848.252389</td>\n      <td>26833703476</td>\n      <td>26833.703476</td>\n      <td>-201239</td>\n      <td>1684802251</td>\n      <td>WETH</td>\n      <td>USDC</td>\n      <td>...</td>\n      <td>60818</td>\n      <td>60818</td>\n      <td>60818</td>\n      <td>14.727538</td>\n      <td>26848.252389</td>\n      <td>1822.99668</td>\n      <td>13.424126</td>\n      <td>110034.616596</td>\n      <td>149.405726</td>\n      <td>101.090332</td>\n    </tr>\n  </tbody>\n</table>\n<p>5 rows × 25 columns</p>\n</div>"
     },
     "execution_count": 18,
     "metadata": {},
     "output_type": "execute_result"
    }
   ],
   "source": [
    "last_usd = init_usd\n",
    "last_eth = init_eth\n",
    "\n",
    "current_usd = 0\n",
    "current_eth = 0\n",
    "for item in trade_data:\n",
    "    fees = item[\"amountInUSD\"] * 0.0005\n",
    "    if item[\"tokenIn\"] == \"USDC\":\n",
    "        current_usd = last_usd - item[\"amountInUSD\"]\n",
    "        current_eth = last_eth + int(item[\"amountOut\"]) / (10 ** 18)\n",
    "    if item[\"tokenIn\"] == \"WETH\":\n",
    "        current_usd = last_usd + item[\"amountOutUSD\"]\n",
    "        current_eth = last_eth - int(item[\"amountIn\"]) / (10 ** 18)\n",
    "    profit = item[\"price\"] * current_eth + current_usd - item[\"price\"] * init_eth - init_usd\n",
    "    item[\"profit\"] = profit\n",
    "    item[\"fees\"] = fees\n",
    "    item[\"usd\"] = current_usd\n",
    "    item[\"eth\"] = current_eth\n",
    "    last_usd = current_usd\n",
    "    last_eth = current_eth\n",
    "\n",
    "user_df = pd.DataFrame(trade_data)\n",
    "user_df.head()"
   ],
   "metadata": {
    "collapsed": false,
    "pycharm": {
     "name": "#%%\n"
    }
   }
  },
  {
   "cell_type": "code",
   "execution_count": 13,
   "outputs": [
    {
     "data": {
      "text/plain": "Index(['gasLimit', 'gasPrice', 'amountIn', 'amountInUSD', 'amountOut',\n       'amountOutUSD', 'tick', 'timestamp', 'tokenIn', 'tokenOut',\n       'transaction', 'trader', 'traderPositionCount',\n       'traderOpenPositionCount', 'traderClosedPositionCount',\n       'traderDepositCount', 'traderWithdrawCount', 'traderSwapCount',\n       'ethAmount', 'usdAmount', 'price', 'fees', 'usd', 'eth'],\n      dtype='object')"
     },
     "execution_count": 13,
     "metadata": {},
     "output_type": "execute_result"
    }
   ],
   "source": [
    "user_df.columns"
   ],
   "metadata": {
    "collapsed": false,
    "pycharm": {
     "name": "#%%\n"
    }
   }
  },
  {
   "cell_type": "code",
   "execution_count": 19,
   "outputs": [
    {
     "data": {
      "text/plain": "   gasLimit    gasPrice              amountIn   amountInUSD  \\\n0   6000000  2000000000           28963484807  28963.484807   \n1   6000000  2000000000           26561134416  26561.134416   \n2   6000000  2000000000           23734455145  23734.455145   \n3   6000000  2000000000           37540012512  37540.012512   \n4   6000000  2000000000  14727537731424333731  26848.252389   \n\n              amountOut  amountOutUSD    tick   timestamp tokenIn tokenOut  \\\n0  15916883943069540192  28948.125166 -201261  1684801307    USDC     WETH   \n1  14592424671772653034  26544.819975 -201258  1684801781    USDC     WETH   \n2  13026029637798678527  23721.125260 -201248  1684802011    USDC     WETH   \n3  20597925075725121430  37518.016271 -201246  1684802117    USDC     WETH   \n4           26833703476  26833.703476 -201239  1684802251    WETH     USDC   \n\n   ... traderWithdrawCount traderSwapCount  ethAmount     usdAmount  \\\n0  ...               60818           60818  15.916884  28948.125166   \n1  ...               60818           60818  14.592425  26544.819975   \n2  ...               60818           60818  13.026030  23721.125260   \n3  ...               60818           60818  20.597925  37518.016271   \n4  ...               60818           60818  14.727538  26848.252389   \n\n        price       fees            usd         eth      profit  \\\n0  1818.70555  14.481742  171036.515193  115.916884  -15.359641   \n1  1819.08220  13.280567  144475.380777  130.509309  -25.678987   \n2  1821.05568  11.867228  120740.925632  143.535338   21.200638   \n3  1821.44639  18.770006   83200.913120  164.133263   16.214088   \n4  1822.99668  13.424126  110034.616596  149.405726  101.090332   \n\n                   datetime  \n0 2023-05-23 00:21:47+00:00  \n1 2023-05-23 00:29:41+00:00  \n2 2023-05-23 00:33:31+00:00  \n3 2023-05-23 00:35:17+00:00  \n4 2023-05-23 00:37:31+00:00  \n\n[5 rows x 26 columns]",
      "text/html": "<div>\n<style scoped>\n    .dataframe tbody tr th:only-of-type {\n        vertical-align: middle;\n    }\n\n    .dataframe tbody tr th {\n        vertical-align: top;\n    }\n\n    .dataframe thead th {\n        text-align: right;\n    }\n</style>\n<table border=\"1\" class=\"dataframe\">\n  <thead>\n    <tr style=\"text-align: right;\">\n      <th></th>\n      <th>gasLimit</th>\n      <th>gasPrice</th>\n      <th>amountIn</th>\n      <th>amountInUSD</th>\n      <th>amountOut</th>\n      <th>amountOutUSD</th>\n      <th>tick</th>\n      <th>timestamp</th>\n      <th>tokenIn</th>\n      <th>tokenOut</th>\n      <th>...</th>\n      <th>traderWithdrawCount</th>\n      <th>traderSwapCount</th>\n      <th>ethAmount</th>\n      <th>usdAmount</th>\n      <th>price</th>\n      <th>fees</th>\n      <th>usd</th>\n      <th>eth</th>\n      <th>profit</th>\n      <th>datetime</th>\n    </tr>\n  </thead>\n  <tbody>\n    <tr>\n      <th>0</th>\n      <td>6000000</td>\n      <td>2000000000</td>\n      <td>28963484807</td>\n      <td>28963.484807</td>\n      <td>15916883943069540192</td>\n      <td>28948.125166</td>\n      <td>-201261</td>\n      <td>1684801307</td>\n      <td>USDC</td>\n      <td>WETH</td>\n      <td>...</td>\n      <td>60818</td>\n      <td>60818</td>\n      <td>15.916884</td>\n      <td>28948.125166</td>\n      <td>1818.70555</td>\n      <td>14.481742</td>\n      <td>171036.515193</td>\n      <td>115.916884</td>\n      <td>-15.359641</td>\n      <td>2023-05-23 00:21:47+00:00</td>\n    </tr>\n    <tr>\n      <th>1</th>\n      <td>6000000</td>\n      <td>2000000000</td>\n      <td>26561134416</td>\n      <td>26561.134416</td>\n      <td>14592424671772653034</td>\n      <td>26544.819975</td>\n      <td>-201258</td>\n      <td>1684801781</td>\n      <td>USDC</td>\n      <td>WETH</td>\n      <td>...</td>\n      <td>60818</td>\n      <td>60818</td>\n      <td>14.592425</td>\n      <td>26544.819975</td>\n      <td>1819.08220</td>\n      <td>13.280567</td>\n      <td>144475.380777</td>\n      <td>130.509309</td>\n      <td>-25.678987</td>\n      <td>2023-05-23 00:29:41+00:00</td>\n    </tr>\n    <tr>\n      <th>2</th>\n      <td>6000000</td>\n      <td>2000000000</td>\n      <td>23734455145</td>\n      <td>23734.455145</td>\n      <td>13026029637798678527</td>\n      <td>23721.125260</td>\n      <td>-201248</td>\n      <td>1684802011</td>\n      <td>USDC</td>\n      <td>WETH</td>\n      <td>...</td>\n      <td>60818</td>\n      <td>60818</td>\n      <td>13.026030</td>\n      <td>23721.125260</td>\n      <td>1821.05568</td>\n      <td>11.867228</td>\n      <td>120740.925632</td>\n      <td>143.535338</td>\n      <td>21.200638</td>\n      <td>2023-05-23 00:33:31+00:00</td>\n    </tr>\n    <tr>\n      <th>3</th>\n      <td>6000000</td>\n      <td>2000000000</td>\n      <td>37540012512</td>\n      <td>37540.012512</td>\n      <td>20597925075725121430</td>\n      <td>37518.016271</td>\n      <td>-201246</td>\n      <td>1684802117</td>\n      <td>USDC</td>\n      <td>WETH</td>\n      <td>...</td>\n      <td>60818</td>\n      <td>60818</td>\n      <td>20.597925</td>\n      <td>37518.016271</td>\n      <td>1821.44639</td>\n      <td>18.770006</td>\n      <td>83200.913120</td>\n      <td>164.133263</td>\n      <td>16.214088</td>\n      <td>2023-05-23 00:35:17+00:00</td>\n    </tr>\n    <tr>\n      <th>4</th>\n      <td>6000000</td>\n      <td>2000000000</td>\n      <td>14727537731424333731</td>\n      <td>26848.252389</td>\n      <td>26833703476</td>\n      <td>26833.703476</td>\n      <td>-201239</td>\n      <td>1684802251</td>\n      <td>WETH</td>\n      <td>USDC</td>\n      <td>...</td>\n      <td>60818</td>\n      <td>60818</td>\n      <td>14.727538</td>\n      <td>26848.252389</td>\n      <td>1822.99668</td>\n      <td>13.424126</td>\n      <td>110034.616596</td>\n      <td>149.405726</td>\n      <td>101.090332</td>\n      <td>2023-05-23 00:37:31+00:00</td>\n    </tr>\n  </tbody>\n</table>\n<p>5 rows × 26 columns</p>\n</div>"
     },
     "execution_count": 19,
     "metadata": {},
     "output_type": "execute_result"
    }
   ],
   "source": [
    "user_df[\"datetime\"] = user_df[\"timestamp\"].apply(utils.utc_timestamp_to_date)\n",
    "user_df.head()"
   ],
   "metadata": {
    "collapsed": false,
    "pycharm": {
     "name": "#%%\n"
    }
   }
  },
  {
   "cell_type": "code",
   "execution_count": 38,
   "outputs": [
    {
     "data": {
      "text/plain": "   gasLimit    gasPrice              amountIn   amountInUSD  \\\n0   6000000  2000000000           28963484807  28963.484807   \n1   6000000  2000000000           26561134416  26561.134416   \n2   6000000  2000000000           23734455145  23734.455145   \n3   6000000  2000000000           37540012512  37540.012512   \n4   6000000  2000000000  14727537731424333731  26848.252389   \n\n              amountOut  amountOutUSD    tick   timestamp tokenIn tokenOut  \\\n0  15916883943069540192  28948.125166 -201261  1684801307    USDC     WETH   \n1  14592424671772653034  26544.819975 -201258  1684801781    USDC     WETH   \n2  13026029637798678527  23721.125260 -201248  1684802011    USDC     WETH   \n3  20597925075725121430  37518.016271 -201246  1684802117    USDC     WETH   \n4           26833703476  26833.703476 -201239  1684802251    WETH     USDC   \n\n   ...  ethAmount     usdAmount       price       fees            usd  \\\n0  ...  15.916884  28948.125166  1818.70555  14.481742  171036.515193   \n1  ...  14.592425  26544.819975  1819.08220  13.280567  144475.380777   \n2  ...  13.026030  23721.125260  1821.05568  11.867228  120740.925632   \n3  ...  20.597925  37518.016271  1821.44639  18.770006   83200.913120   \n4  ...  14.727538  26848.252389  1822.99668  13.424126  110034.616596   \n\n          eth      profit                  datetime   tick_price  price_diff  \n0  115.916884  -15.359641 2023-05-23 00:21:47+00:00  1818.791146   -0.085596  \n1  130.509309  -25.678987 2023-05-23 00:29:41+00:00  1819.336838   -0.254638  \n2  143.535338   21.200638 2023-05-23 00:33:31+00:00  1821.156994   -0.101314  \n3  164.133263   16.214088 2023-05-23 00:35:17+00:00  1821.521243   -0.074853  \n4  149.405726  101.090332 2023-05-23 00:37:31+00:00  1822.796691    0.199989  \n\n[5 rows x 28 columns]",
      "text/html": "<div>\n<style scoped>\n    .dataframe tbody tr th:only-of-type {\n        vertical-align: middle;\n    }\n\n    .dataframe tbody tr th {\n        vertical-align: top;\n    }\n\n    .dataframe thead th {\n        text-align: right;\n    }\n</style>\n<table border=\"1\" class=\"dataframe\">\n  <thead>\n    <tr style=\"text-align: right;\">\n      <th></th>\n      <th>gasLimit</th>\n      <th>gasPrice</th>\n      <th>amountIn</th>\n      <th>amountInUSD</th>\n      <th>amountOut</th>\n      <th>amountOutUSD</th>\n      <th>tick</th>\n      <th>timestamp</th>\n      <th>tokenIn</th>\n      <th>tokenOut</th>\n      <th>...</th>\n      <th>ethAmount</th>\n      <th>usdAmount</th>\n      <th>price</th>\n      <th>fees</th>\n      <th>usd</th>\n      <th>eth</th>\n      <th>profit</th>\n      <th>datetime</th>\n      <th>tick_price</th>\n      <th>price_diff</th>\n    </tr>\n  </thead>\n  <tbody>\n    <tr>\n      <th>0</th>\n      <td>6000000</td>\n      <td>2000000000</td>\n      <td>28963484807</td>\n      <td>28963.484807</td>\n      <td>15916883943069540192</td>\n      <td>28948.125166</td>\n      <td>-201261</td>\n      <td>1684801307</td>\n      <td>USDC</td>\n      <td>WETH</td>\n      <td>...</td>\n      <td>15.916884</td>\n      <td>28948.125166</td>\n      <td>1818.70555</td>\n      <td>14.481742</td>\n      <td>171036.515193</td>\n      <td>115.916884</td>\n      <td>-15.359641</td>\n      <td>2023-05-23 00:21:47+00:00</td>\n      <td>1818.791146</td>\n      <td>-0.085596</td>\n    </tr>\n    <tr>\n      <th>1</th>\n      <td>6000000</td>\n      <td>2000000000</td>\n      <td>26561134416</td>\n      <td>26561.134416</td>\n      <td>14592424671772653034</td>\n      <td>26544.819975</td>\n      <td>-201258</td>\n      <td>1684801781</td>\n      <td>USDC</td>\n      <td>WETH</td>\n      <td>...</td>\n      <td>14.592425</td>\n      <td>26544.819975</td>\n      <td>1819.08220</td>\n      <td>13.280567</td>\n      <td>144475.380777</td>\n      <td>130.509309</td>\n      <td>-25.678987</td>\n      <td>2023-05-23 00:29:41+00:00</td>\n      <td>1819.336838</td>\n      <td>-0.254638</td>\n    </tr>\n    <tr>\n      <th>2</th>\n      <td>6000000</td>\n      <td>2000000000</td>\n      <td>23734455145</td>\n      <td>23734.455145</td>\n      <td>13026029637798678527</td>\n      <td>23721.125260</td>\n      <td>-201248</td>\n      <td>1684802011</td>\n      <td>USDC</td>\n      <td>WETH</td>\n      <td>...</td>\n      <td>13.026030</td>\n      <td>23721.125260</td>\n      <td>1821.05568</td>\n      <td>11.867228</td>\n      <td>120740.925632</td>\n      <td>143.535338</td>\n      <td>21.200638</td>\n      <td>2023-05-23 00:33:31+00:00</td>\n      <td>1821.156994</td>\n      <td>-0.101314</td>\n    </tr>\n    <tr>\n      <th>3</th>\n      <td>6000000</td>\n      <td>2000000000</td>\n      <td>37540012512</td>\n      <td>37540.012512</td>\n      <td>20597925075725121430</td>\n      <td>37518.016271</td>\n      <td>-201246</td>\n      <td>1684802117</td>\n      <td>USDC</td>\n      <td>WETH</td>\n      <td>...</td>\n      <td>20.597925</td>\n      <td>37518.016271</td>\n      <td>1821.44639</td>\n      <td>18.770006</td>\n      <td>83200.913120</td>\n      <td>164.133263</td>\n      <td>16.214088</td>\n      <td>2023-05-23 00:35:17+00:00</td>\n      <td>1821.521243</td>\n      <td>-0.074853</td>\n    </tr>\n    <tr>\n      <th>4</th>\n      <td>6000000</td>\n      <td>2000000000</td>\n      <td>14727537731424333731</td>\n      <td>26848.252389</td>\n      <td>26833703476</td>\n      <td>26833.703476</td>\n      <td>-201239</td>\n      <td>1684802251</td>\n      <td>WETH</td>\n      <td>USDC</td>\n      <td>...</td>\n      <td>14.727538</td>\n      <td>26848.252389</td>\n      <td>1822.99668</td>\n      <td>13.424126</td>\n      <td>110034.616596</td>\n      <td>149.405726</td>\n      <td>101.090332</td>\n      <td>2023-05-23 00:37:31+00:00</td>\n      <td>1822.796691</td>\n      <td>0.199989</td>\n    </tr>\n  </tbody>\n</table>\n<p>5 rows × 28 columns</p>\n</div>"
     },
     "execution_count": 38,
     "metadata": {},
     "output_type": "execute_result"
    }
   ],
   "source": [
    "TICK_BASE = 1.0001\n",
    "\n",
    "def tick_to_price(tick):\n",
    "    return TICK_BASE ** tick * 10 ** 12\n",
    "\n",
    "user_df[\"tick_price\"] = user_df[\"tick\"].apply(tick_to_price)\n",
    "user_df[\"price_diff\"] = user_df[\"price\"] - user_df[\"tick_price\"]\n",
    "user_df.head()"
   ],
   "metadata": {
    "collapsed": false,
    "pycharm": {
     "name": "#%%\n"
    }
   }
  },
  {
   "cell_type": "code",
   "execution_count": 50,
   "outputs": [
    {
     "data": {
      "text/plain": "                      datetime tokenIn tokenOut  price_diff       price  \\\n1889 2023-05-29 16:23:44+00:00    USDC     WETH   -0.131769  1879.86568   \n1890 2023-05-29 16:30:42+00:00    USDC     WETH    0.892668  1882.20651   \n1891 2023-05-29 16:33:02+00:00    USDC     WETH    1.456878  1882.77072   \n1892 2023-05-29 16:34:52+00:00    WETH     USDC    0.215751  1884.35354   \n1893 2023-05-29 16:35:08+00:00    WETH     USDC    0.208376  1884.15777   \n...                        ...     ...      ...         ...         ...   \n1984 2023-05-29 23:25:55+00:00    USDC     WETH   -0.076002  1898.05542   \n1985 2023-05-29 23:30:17+00:00    WETH     USDC    0.129119  1896.93238   \n1986 2023-05-29 23:34:08+00:00    WETH     USDC    0.301616  1896.15676   \n1987 2023-05-29 23:41:02+00:00    WETH     USDC    0.209019  1895.30601   \n1988 2023-05-29 23:53:23+00:00    WETH     USDC    0.125174  1893.70677   \n\n       tick_price    tick       fees  ethAmount     usdAmount  \\\n1889  1879.997449 -200930   9.258459   9.844258  18505.882548   \n1890  1881.313842 -200923  37.552160  39.905151  75109.734526   \n1891  1881.313842 -200923  24.515261  26.050808  49047.697742   \n1892  1884.137789 -200908   8.519103   9.041937  17038.205955   \n1893  1883.949394 -200909  11.493151  12.199776  22986.301814   \n...           ...     ...        ...        ...           ...   \n1984  1898.131422 -200834  10.111330  10.648732  20211.883372   \n1985  1896.803261 -200841  10.261879  10.819447  20523.758577   \n1986  1895.855144 -200846   8.260616   8.713010  16521.232904   \n1987  1895.096991 -200850   8.019196   8.462165  16038.391931   \n1988  1893.581596 -200858   8.667837   9.154361  17335.674800   \n\n                  amountIn   amountInUSD             amountOut  amountOutUSD  \n1889           18516917865  18516.917865   9844257887848316903  18505.882548  \n1890           75104319036  75104.319036  39905150750832150191  75109.734526  \n1891           49030521850  49030.521850  26050807578801925576  49047.697742  \n1892   9041936979079760863  17038.205955           17029227735  17029.227735  \n1893  12199775507009482907  22986.301814           22973972977  22973.972977  \n...                    ...           ...                   ...           ...  \n1984           20222659128  20222.659128  10648731938686970574  20211.883372  \n1985  10819446593591710086  20523.758577           20512827563  20512.827563  \n1986   8713010048799521868  16521.232904           16512412746  16512.412746  \n1987   8462164867286618791  16038.391931           16029451162  16029.451162  \n1988   9154360682638623120  17335.674800           17326516665  17326.516665  \n\n[100 rows x 14 columns]",
      "text/html": "<div>\n<style scoped>\n    .dataframe tbody tr th:only-of-type {\n        vertical-align: middle;\n    }\n\n    .dataframe tbody tr th {\n        vertical-align: top;\n    }\n\n    .dataframe thead th {\n        text-align: right;\n    }\n</style>\n<table border=\"1\" class=\"dataframe\">\n  <thead>\n    <tr style=\"text-align: right;\">\n      <th></th>\n      <th>datetime</th>\n      <th>tokenIn</th>\n      <th>tokenOut</th>\n      <th>price_diff</th>\n      <th>price</th>\n      <th>tick_price</th>\n      <th>tick</th>\n      <th>fees</th>\n      <th>ethAmount</th>\n      <th>usdAmount</th>\n      <th>amountIn</th>\n      <th>amountInUSD</th>\n      <th>amountOut</th>\n      <th>amountOutUSD</th>\n    </tr>\n  </thead>\n  <tbody>\n    <tr>\n      <th>1889</th>\n      <td>2023-05-29 16:23:44+00:00</td>\n      <td>USDC</td>\n      <td>WETH</td>\n      <td>-0.131769</td>\n      <td>1879.86568</td>\n      <td>1879.997449</td>\n      <td>-200930</td>\n      <td>9.258459</td>\n      <td>9.844258</td>\n      <td>18505.882548</td>\n      <td>18516917865</td>\n      <td>18516.917865</td>\n      <td>9844257887848316903</td>\n      <td>18505.882548</td>\n    </tr>\n    <tr>\n      <th>1890</th>\n      <td>2023-05-29 16:30:42+00:00</td>\n      <td>USDC</td>\n      <td>WETH</td>\n      <td>0.892668</td>\n      <td>1882.20651</td>\n      <td>1881.313842</td>\n      <td>-200923</td>\n      <td>37.552160</td>\n      <td>39.905151</td>\n      <td>75109.734526</td>\n      <td>75104319036</td>\n      <td>75104.319036</td>\n      <td>39905150750832150191</td>\n      <td>75109.734526</td>\n    </tr>\n    <tr>\n      <th>1891</th>\n      <td>2023-05-29 16:33:02+00:00</td>\n      <td>USDC</td>\n      <td>WETH</td>\n      <td>1.456878</td>\n      <td>1882.77072</td>\n      <td>1881.313842</td>\n      <td>-200923</td>\n      <td>24.515261</td>\n      <td>26.050808</td>\n      <td>49047.697742</td>\n      <td>49030521850</td>\n      <td>49030.521850</td>\n      <td>26050807578801925576</td>\n      <td>49047.697742</td>\n    </tr>\n    <tr>\n      <th>1892</th>\n      <td>2023-05-29 16:34:52+00:00</td>\n      <td>WETH</td>\n      <td>USDC</td>\n      <td>0.215751</td>\n      <td>1884.35354</td>\n      <td>1884.137789</td>\n      <td>-200908</td>\n      <td>8.519103</td>\n      <td>9.041937</td>\n      <td>17038.205955</td>\n      <td>9041936979079760863</td>\n      <td>17038.205955</td>\n      <td>17029227735</td>\n      <td>17029.227735</td>\n    </tr>\n    <tr>\n      <th>1893</th>\n      <td>2023-05-29 16:35:08+00:00</td>\n      <td>WETH</td>\n      <td>USDC</td>\n      <td>0.208376</td>\n      <td>1884.15777</td>\n      <td>1883.949394</td>\n      <td>-200909</td>\n      <td>11.493151</td>\n      <td>12.199776</td>\n      <td>22986.301814</td>\n      <td>12199775507009482907</td>\n      <td>22986.301814</td>\n      <td>22973972977</td>\n      <td>22973.972977</td>\n    </tr>\n    <tr>\n      <th>...</th>\n      <td>...</td>\n      <td>...</td>\n      <td>...</td>\n      <td>...</td>\n      <td>...</td>\n      <td>...</td>\n      <td>...</td>\n      <td>...</td>\n      <td>...</td>\n      <td>...</td>\n      <td>...</td>\n      <td>...</td>\n      <td>...</td>\n      <td>...</td>\n    </tr>\n    <tr>\n      <th>1984</th>\n      <td>2023-05-29 23:25:55+00:00</td>\n      <td>USDC</td>\n      <td>WETH</td>\n      <td>-0.076002</td>\n      <td>1898.05542</td>\n      <td>1898.131422</td>\n      <td>-200834</td>\n      <td>10.111330</td>\n      <td>10.648732</td>\n      <td>20211.883372</td>\n      <td>20222659128</td>\n      <td>20222.659128</td>\n      <td>10648731938686970574</td>\n      <td>20211.883372</td>\n    </tr>\n    <tr>\n      <th>1985</th>\n      <td>2023-05-29 23:30:17+00:00</td>\n      <td>WETH</td>\n      <td>USDC</td>\n      <td>0.129119</td>\n      <td>1896.93238</td>\n      <td>1896.803261</td>\n      <td>-200841</td>\n      <td>10.261879</td>\n      <td>10.819447</td>\n      <td>20523.758577</td>\n      <td>10819446593591710086</td>\n      <td>20523.758577</td>\n      <td>20512827563</td>\n      <td>20512.827563</td>\n    </tr>\n    <tr>\n      <th>1986</th>\n      <td>2023-05-29 23:34:08+00:00</td>\n      <td>WETH</td>\n      <td>USDC</td>\n      <td>0.301616</td>\n      <td>1896.15676</td>\n      <td>1895.855144</td>\n      <td>-200846</td>\n      <td>8.260616</td>\n      <td>8.713010</td>\n      <td>16521.232904</td>\n      <td>8713010048799521868</td>\n      <td>16521.232904</td>\n      <td>16512412746</td>\n      <td>16512.412746</td>\n    </tr>\n    <tr>\n      <th>1987</th>\n      <td>2023-05-29 23:41:02+00:00</td>\n      <td>WETH</td>\n      <td>USDC</td>\n      <td>0.209019</td>\n      <td>1895.30601</td>\n      <td>1895.096991</td>\n      <td>-200850</td>\n      <td>8.019196</td>\n      <td>8.462165</td>\n      <td>16038.391931</td>\n      <td>8462164867286618791</td>\n      <td>16038.391931</td>\n      <td>16029451162</td>\n      <td>16029.451162</td>\n    </tr>\n    <tr>\n      <th>1988</th>\n      <td>2023-05-29 23:53:23+00:00</td>\n      <td>WETH</td>\n      <td>USDC</td>\n      <td>0.125174</td>\n      <td>1893.70677</td>\n      <td>1893.581596</td>\n      <td>-200858</td>\n      <td>8.667837</td>\n      <td>9.154361</td>\n      <td>17335.674800</td>\n      <td>9154360682638623120</td>\n      <td>17335.674800</td>\n      <td>17326516665</td>\n      <td>17326.516665</td>\n    </tr>\n  </tbody>\n</table>\n<p>100 rows × 14 columns</p>\n</div>"
     },
     "execution_count": 50,
     "metadata": {},
     "output_type": "execute_result"
    }
   ],
   "source": [
    "df1 = user_df[['datetime', 'tokenIn', 'tokenOut', 'price_diff', 'price', 'tick_price', 'tick', 'fees', 'ethAmount', 'usdAmount', 'amountIn', 'amountInUSD', 'amountOut', 'amountOutUSD']]\n",
    "df1.tail(100)"
   ],
   "metadata": {
    "collapsed": false,
    "pycharm": {
     "name": "#%%\n"
    }
   }
  },
  {
   "cell_type": "code",
   "execution_count": 57,
   "outputs": [
    {
     "name": "stdout",
     "output_type": "stream",
     "text": [
      "1825.8979252658962\n",
      "1825.7153537305232\n",
      "1825.5328004504781\n"
     ]
    }
   ],
   "source": [
    "print(tick_to_price(-201222))\n",
    "print(tick_to_price(-201223))\n",
    "print(tick_to_price(-201224))"
   ],
   "metadata": {
    "collapsed": false,
    "pycharm": {
     "name": "#%%\n"
    }
   }
  },
  {
   "cell_type": "code",
   "execution_count": 53,
   "outputs": [
    {
     "data": {
      "text/plain": "-13.997115890935675"
     },
     "execution_count": 53,
     "metadata": {},
     "output_type": "execute_result"
    }
   ],
   "source": [
    "1818.791146 * 15.916884 - 28963.484807"
   ],
   "metadata": {
    "collapsed": false,
    "pycharm": {
     "name": "#%%\n"
    }
   }
  },
  {
   "cell_type": "code",
   "execution_count": 56,
   "outputs": [
    {
     "name": "stderr",
     "output_type": "stream",
     "text": [
      "/var/folders/sj/9n8j6m2s6_1g9x78vzd8z0rm0000gn/T/ipykernel_74522/2734388706.py:1: SettingWithCopyWarning: \n",
      "A value is trying to be set on a copy of a slice from a DataFrame\n",
      "\n",
      "See the caveats in the documentation: https://pandas.pydata.org/pandas-docs/stable/user_guide/indexing.html#returning-a-view-versus-a-copy\n",
      "  df1.sort_values(by=[\"price_diff\"], ascending=False, inplace=True)\n"
     ]
    },
    {
     "data": {
      "text/plain": "                      datetime tokenIn tokenOut  price_diff       price  \\\n1099 2023-05-27 18:33:16+00:00    USDC     WETH   -0.448974  1825.26638   \n1056 2023-05-27 12:42:54+00:00    USDC     WETH   -0.462338  1829.27381   \n1864 2023-05-29 16:02:02+00:00    USDC     WETH   -0.492066  1887.98401   \n395  2023-05-24 19:19:01+00:00    USDC     WETH   -0.520098  1789.40339   \n1867 2023-05-29 16:02:11+00:00    USDC     WETH   -0.521114  1890.22238   \n1456 2023-05-28 22:02:35+00:00    USDC     WETH   -0.541478  1909.77633   \n757  2023-05-26 00:21:16+00:00    USDC     WETH   -0.577542  1806.06904   \n79   2023-05-23 03:20:23+00:00    WETH     USDC   -0.580343  1855.69329   \n64   2023-05-23 03:10:19+00:00    USDC     WETH   -0.583458  1842.92661   \n1353 2023-05-28 18:22:25+00:00    USDC     WETH   -0.587939  1852.90351   \n991  2023-05-27 02:47:00+00:00    WETH     USDC   -0.592044  1831.70740   \n20   2023-05-23 01:29:47+00:00    USDC     WETH   -0.602872  1829.86528   \n206  2023-05-23 14:58:10+00:00    USDC     WETH   -0.614491  1854.36027   \n1112 2023-05-27 19:56:00+00:00    WETH     USDC   -0.628171  1826.91372   \n86   2023-05-23 03:21:00+00:00    USDC     WETH   -0.631543  1867.37294   \n21   2023-05-23 01:29:51+00:00    WETH     USDC   -0.633669  1831.29937   \n1629 2023-05-29 00:20:24+00:00    USDC     WETH   -0.634026  1917.53177   \n1335 2023-05-28 17:44:13+00:00    USDC     WETH   -0.638387  1849.70496   \n1676 2023-05-29 01:26:46+00:00    USDC     WETH   -0.653350  1915.78696   \n1071 2023-05-27 13:58:03+00:00    USDC     WETH   -0.696538  1816.64023   \n987  2023-05-27 02:43:49+00:00    USDC     WETH   -0.707664  1832.32481   \n283  2023-05-24 00:49:35+00:00    WETH     USDC   -0.733481  1849.42485   \n1454 2023-05-28 22:02:23+00:00    USDC     WETH   -0.749120  1910.33293   \n80   2023-05-23 03:20:40+00:00    USDC     WETH   -0.763124  1856.81029   \n1224 2023-05-28 04:04:55+00:00    USDC     WETH   -0.808066  1852.31274   \n92   2023-05-23 03:21:33+00:00    USDC     WETH   -0.817431  1866.25333   \n207  2023-05-23 14:58:12+00:00    USDC     WETH   -0.863133  1855.41050   \n1966 2023-05-29 22:02:00+00:00    USDC     WETH   -0.919656  1888.12302   \n113  2023-05-23 03:31:52+00:00    USDC     WETH   -0.928690  1865.39543   \n1129 2023-05-27 23:41:07+00:00    USDC     WETH   -0.947457  1830.06989   \n70   2023-05-23 03:18:24+00:00    USDC     WETH   -0.952651  1849.57573   \n1143 2023-05-28 00:40:55+00:00    USDC     WETH   -0.970559  1832.42854   \n1472 2023-05-28 22:03:18+00:00    USDC     WETH   -0.992406  1903.22246   \n1656 2023-05-29 00:51:17+00:00    USDC     WETH   -1.012329  1916.96167   \n76   2023-05-23 03:20:08+00:00    WETH     USDC   -1.020701  1853.58312   \n1201 2023-05-28 03:37:52+00:00    USDC     WETH   -1.021204  1848.95213   \n1354 2023-05-28 18:22:37+00:00    USDC     WETH   -1.078684  1854.26709   \n1630 2023-05-29 00:20:25+00:00    USDC     WETH   -1.209534  1917.53177   \n69   2023-05-23 03:18:17+00:00    USDC     WETH   -1.314514  1846.62507   \n1569 2023-05-28 22:58:28+00:00    WETH     USDC   -1.334891  1905.16629   \n413  2023-05-24 20:24:58+00:00    WETH     USDC   -1.604839  1799.45009   \n56   2023-05-23 02:58:10+00:00    USDC     WETH   -1.610885  1841.34624   \n1432 2023-05-28 21:45:28+00:00    USDC     WETH   -1.886337  1857.73143   \n1577 2023-05-28 23:15:44+00:00    WETH     USDC   -1.894702  1911.29059   \n1506 2023-05-28 22:07:22+00:00    USDC     WETH   -1.935738  1902.46955   \n423  2023-05-24 20:53:00+00:00    USDC     WETH   -2.007493  1802.65297   \n1663 2023-05-29 01:00:02+00:00    WETH     USDC   -2.369692  1915.22077   \n1355 2023-05-28 18:22:39+00:00    WETH     USDC   -2.546717  1855.39823   \n83   2023-05-23 03:20:54+00:00    WETH     USDC   -2.547431  1864.52333   \n1973 2023-05-29 23:13:41+00:00    USDC     WETH   -2.696039  1894.67632   \n\n       tick_price    tick       fees  ethAmount      usdAmount  \\\n1099  1825.715354 -201223  18.045734  19.757587   36062.858987   \n1056  1829.736148 -201201  24.011561  26.234041   47989.244507   \n1864  1888.476076 -200885   9.020196   9.547692   18025.889566   \n395   1789.923488 -201421   7.654852   8.549221   15298.004274   \n1867  1890.743494 -200873  15.381656  16.262099   30738.983872   \n1456  1910.317808 -200770   6.380514   6.676587   12750.788159   \n757   1806.646582 -201328  15.915764  17.610402   31805.601565   \n79    1856.273633 -201057  12.694075  13.681221   25388.149167   \n64    1843.510068 -201126  40.046223  43.430073   80038.437965   \n1353  1853.491449 -201072   9.401001  10.138987   18786.564347   \n991   1832.299444 -201187  20.849436  22.765029   41698.871691   \n20    1830.468152 -201197  17.432035  19.037714   34836.452304   \n206   1854.974761 -201064   9.600895  10.345772   19184.788856   \n1112  1827.541891 -201213  21.455138  23.487851   42910.276632   \n86    1868.004483 -200994  45.184278  48.358946   90304.187003   \n21    1831.933039 -201189  15.828980  17.287157   31657.959097   \n1629  1918.165796 -200729  10.516394  10.959787   21015.740207   \n1335  1850.343347 -201089  24.950858  26.956198   49861.012894   \n1676  1916.440310 -200738   9.245677   9.644384   18476.585896   \n1071  1817.336768 -201269  13.711381  15.081821   27398.242323   \n987   1833.032474 -201183  22.183122  24.190869   44325.529835   \n283   1850.158331 -201090   7.073881   7.649817   14147.761741   \n1454  1911.082050 -200766   9.609772  10.051437   19201.591957   \n80    1857.573414 -201050  12.792699  13.766090   25561.017012   \n1224  1853.120806 -201074  15.775550  17.017589   31521.897757   \n92    1867.070761 -200999  44.657442  47.819379   89243.074370   \n207   1856.273633 -201057  16.868972  18.166079   33705.533083   \n1966  1889.042676 -200882   7.708134   8.156663   15400.782570   \n113   1866.324120 -201003  14.722917  15.769867   29417.037596   \n1129  1831.017347 -201194  13.422382  14.653406   26816.757737   \n70    1850.528381 -201088  27.231944  29.418207   54411.202568   \n1143  1833.399099 -201181  13.294214  14.494982   26561.018444   \n1472  1904.214866 -200802   8.747566   9.182712   17476.743441   \n1656  1917.973999 -200730   8.245260   8.593254   16472.937876   \n76    1854.603821 -201066   9.226933   9.955780   18453.865778   \n1201  1849.973334 -201091   9.184999   9.924866   18350.602592   \n1354  1855.345774 -201062  17.288084  18.627057   34539.538390   \n1630  1918.741304 -200726  10.517881  10.957371   21011.107697   \n69    1847.939584 -201102  12.230755  13.230632   24432.016542   \n1569  1906.501181 -200790  15.329439  16.092494   30658.877555   \n413   1801.054929 -201359  55.324781  61.490765  110649.562081   \n56    1842.957125 -201129  14.173906  15.374391   28309.577057   \n1432  1859.617767 -201039  15.240674  16.382518   30434.317693   \n1577  1913.185292 -200755  10.294215  10.772004   20588.429513   \n1506  1904.405288 -200801   9.757499  10.242565   19486.167664   \n423   1804.660463 -201339   9.561629  10.591455   19092.718496   \n1663  1917.590462 -200732  92.015935  96.089115  184031.869468   \n1355  1857.944947 -201048  11.534678  12.433641   23069.356385   \n83    1867.070761 -200999  88.620502  95.059687  177241.003960   \n1973  1897.372359 -200838   7.630040   8.038547   15230.443764   \n\n                  amountIn    amountInUSD             amountOut   amountOutUSD  \n1099           36091467777   36091.467777  19757586828063619636   36062.858987  \n1056           48023121743   48023.121743  26234041205179711422   47989.244507  \n1864           18040392063   18040.392063   9547691860999754312   18025.889566  \n395            15309703645   15309.703645   8549220572595912529   15298.004274  \n1867           30763311122   30763.311122  16262099209632945005   30738.983872  \n1456           12761028641   12761.028641   6676587178902931984   12750.788159  \n757            31831527100   31831.527100  17610401851206712276   31805.601565  \n79    13681220546189210352   25388.149167           25384977055   25384.977055  \n64             80092445087   80092.445087  43430073412002240846   80038.437965  \n1353           18802002305   18802.002305  10138986863249919355   18786.564347  \n991   22765028787490304442   41698.871691           41695489054   41695.489054  \n20             34864070990   34864.070990  19037714243044747879   34836.452304  \n206            19201789245   19201.789245  10345772159830937176   19184.788856  \n1112  23487850664196332540   42910.276632           42906905887   42906.905887  \n86             90368556932   90368.556932  48358945911922369158   90304.187003  \n21    17287156658017023451   31657.959097           31656602802   31656.602802  \n1629           21032787067   21032.787067  10959787230735383858   21015.740207  \n1335           49901716212   49901.716212  26956197864941356284   49861.012894  \n1676           18491354415   18491.354415   9644384413427073695   18476.585896  \n1071           27422761570   27422.761570  15081820753740996338   27398.242323  \n987            44366243249   44366.243249  24190869213044951866   44325.529835  \n283    7649817045095098587   14147.761741           14146768891   14146.768891  \n1454           19219544510   19219.544510  10051437451059930649   19201.591957  \n80             25585397769   25585.397769  13766089701955303827   25561.017012  \n1224           31551099112   31551.099112  17017589457684716898   31521.897757  \n92             89314883242   89314.883242  47819378503219107940   89243.074370  \n207            33737943052   33737.943052  18166078656573293308   33705.533083  \n1966           15416267496   15416.267496   8156662678540396826   15400.782570  \n113            29445833430   29445.833430  15769866872884735829   29417.037596  \n1129           26844764074   26844.764074  14653406344278673647   26816.757737  \n70             54463888658   54463.888658  29418207476128454169   54411.202568  \n1143           26588427452   26588.427452  14494981858115041333   26561.018444  \n1472           17495132070   17495.132070   9182711852507271244   17476.743441  \n1656           16490519653   16490.519653   8593253654393697480   16472.937876  \n76     9955780012492515300   18453.865778           18456059507   18456.059507  \n1201           18369998413   18369.998413   9924866249719655898   18350.602592  \n1354           34576168407   34576.168407  18627056790225314806   34539.538390  \n1630           21035762044   21035.762044  10957371359412402519   21011.107697  \n69             24461509146   24461.509146  13230631891180968759   24432.016542  \n1569  16092494243854195189   30658.877555           30669168694   30669.168694  \n413   61490764704339447453  110649.562081          110725272527  110725.272527  \n56             28347811822   28347.811822  15374390998324282943   28309.577057  \n1432           30481347180   30481.347180  16382517516358979320   30434.317693  \n1577  10772003807845894032   20588.429513           20601457050   20601.457050  \n1506           19514998089   19514.998089  10242564809357691875   19486.167664  \n423            19123258624   19123.258624  10591455379151615128   19092.718496  \n1663  96089115339047881806  184031.869468          184252467624  184252.467624  \n1355  12433641474862691806   23069.356385           23090872732   23090.872732  \n83    95059686896218366417  177241.003960          177461336981  177461.336981  \n1973           15260079888   15260.079888   8038546533289973186   15230.443764  ",
      "text/html": "<div>\n<style scoped>\n    .dataframe tbody tr th:only-of-type {\n        vertical-align: middle;\n    }\n\n    .dataframe tbody tr th {\n        vertical-align: top;\n    }\n\n    .dataframe thead th {\n        text-align: right;\n    }\n</style>\n<table border=\"1\" class=\"dataframe\">\n  <thead>\n    <tr style=\"text-align: right;\">\n      <th></th>\n      <th>datetime</th>\n      <th>tokenIn</th>\n      <th>tokenOut</th>\n      <th>price_diff</th>\n      <th>price</th>\n      <th>tick_price</th>\n      <th>tick</th>\n      <th>fees</th>\n      <th>ethAmount</th>\n      <th>usdAmount</th>\n      <th>amountIn</th>\n      <th>amountInUSD</th>\n      <th>amountOut</th>\n      <th>amountOutUSD</th>\n    </tr>\n  </thead>\n  <tbody>\n    <tr>\n      <th>1099</th>\n      <td>2023-05-27 18:33:16+00:00</td>\n      <td>USDC</td>\n      <td>WETH</td>\n      <td>-0.448974</td>\n      <td>1825.26638</td>\n      <td>1825.715354</td>\n      <td>-201223</td>\n      <td>18.045734</td>\n      <td>19.757587</td>\n      <td>36062.858987</td>\n      <td>36091467777</td>\n      <td>36091.467777</td>\n      <td>19757586828063619636</td>\n      <td>36062.858987</td>\n    </tr>\n    <tr>\n      <th>1056</th>\n      <td>2023-05-27 12:42:54+00:00</td>\n      <td>USDC</td>\n      <td>WETH</td>\n      <td>-0.462338</td>\n      <td>1829.27381</td>\n      <td>1829.736148</td>\n      <td>-201201</td>\n      <td>24.011561</td>\n      <td>26.234041</td>\n      <td>47989.244507</td>\n      <td>48023121743</td>\n      <td>48023.121743</td>\n      <td>26234041205179711422</td>\n      <td>47989.244507</td>\n    </tr>\n    <tr>\n      <th>1864</th>\n      <td>2023-05-29 16:02:02+00:00</td>\n      <td>USDC</td>\n      <td>WETH</td>\n      <td>-0.492066</td>\n      <td>1887.98401</td>\n      <td>1888.476076</td>\n      <td>-200885</td>\n      <td>9.020196</td>\n      <td>9.547692</td>\n      <td>18025.889566</td>\n      <td>18040392063</td>\n      <td>18040.392063</td>\n      <td>9547691860999754312</td>\n      <td>18025.889566</td>\n    </tr>\n    <tr>\n      <th>395</th>\n      <td>2023-05-24 19:19:01+00:00</td>\n      <td>USDC</td>\n      <td>WETH</td>\n      <td>-0.520098</td>\n      <td>1789.40339</td>\n      <td>1789.923488</td>\n      <td>-201421</td>\n      <td>7.654852</td>\n      <td>8.549221</td>\n      <td>15298.004274</td>\n      <td>15309703645</td>\n      <td>15309.703645</td>\n      <td>8549220572595912529</td>\n      <td>15298.004274</td>\n    </tr>\n    <tr>\n      <th>1867</th>\n      <td>2023-05-29 16:02:11+00:00</td>\n      <td>USDC</td>\n      <td>WETH</td>\n      <td>-0.521114</td>\n      <td>1890.22238</td>\n      <td>1890.743494</td>\n      <td>-200873</td>\n      <td>15.381656</td>\n      <td>16.262099</td>\n      <td>30738.983872</td>\n      <td>30763311122</td>\n      <td>30763.311122</td>\n      <td>16262099209632945005</td>\n      <td>30738.983872</td>\n    </tr>\n    <tr>\n      <th>1456</th>\n      <td>2023-05-28 22:02:35+00:00</td>\n      <td>USDC</td>\n      <td>WETH</td>\n      <td>-0.541478</td>\n      <td>1909.77633</td>\n      <td>1910.317808</td>\n      <td>-200770</td>\n      <td>6.380514</td>\n      <td>6.676587</td>\n      <td>12750.788159</td>\n      <td>12761028641</td>\n      <td>12761.028641</td>\n      <td>6676587178902931984</td>\n      <td>12750.788159</td>\n    </tr>\n    <tr>\n      <th>757</th>\n      <td>2023-05-26 00:21:16+00:00</td>\n      <td>USDC</td>\n      <td>WETH</td>\n      <td>-0.577542</td>\n      <td>1806.06904</td>\n      <td>1806.646582</td>\n      <td>-201328</td>\n      <td>15.915764</td>\n      <td>17.610402</td>\n      <td>31805.601565</td>\n      <td>31831527100</td>\n      <td>31831.527100</td>\n      <td>17610401851206712276</td>\n      <td>31805.601565</td>\n    </tr>\n    <tr>\n      <th>79</th>\n      <td>2023-05-23 03:20:23+00:00</td>\n      <td>WETH</td>\n      <td>USDC</td>\n      <td>-0.580343</td>\n      <td>1855.69329</td>\n      <td>1856.273633</td>\n      <td>-201057</td>\n      <td>12.694075</td>\n      <td>13.681221</td>\n      <td>25388.149167</td>\n      <td>13681220546189210352</td>\n      <td>25388.149167</td>\n      <td>25384977055</td>\n      <td>25384.977055</td>\n    </tr>\n    <tr>\n      <th>64</th>\n      <td>2023-05-23 03:10:19+00:00</td>\n      <td>USDC</td>\n      <td>WETH</td>\n      <td>-0.583458</td>\n      <td>1842.92661</td>\n      <td>1843.510068</td>\n      <td>-201126</td>\n      <td>40.046223</td>\n      <td>43.430073</td>\n      <td>80038.437965</td>\n      <td>80092445087</td>\n      <td>80092.445087</td>\n      <td>43430073412002240846</td>\n      <td>80038.437965</td>\n    </tr>\n    <tr>\n      <th>1353</th>\n      <td>2023-05-28 18:22:25+00:00</td>\n      <td>USDC</td>\n      <td>WETH</td>\n      <td>-0.587939</td>\n      <td>1852.90351</td>\n      <td>1853.491449</td>\n      <td>-201072</td>\n      <td>9.401001</td>\n      <td>10.138987</td>\n      <td>18786.564347</td>\n      <td>18802002305</td>\n      <td>18802.002305</td>\n      <td>10138986863249919355</td>\n      <td>18786.564347</td>\n    </tr>\n    <tr>\n      <th>991</th>\n      <td>2023-05-27 02:47:00+00:00</td>\n      <td>WETH</td>\n      <td>USDC</td>\n      <td>-0.592044</td>\n      <td>1831.70740</td>\n      <td>1832.299444</td>\n      <td>-201187</td>\n      <td>20.849436</td>\n      <td>22.765029</td>\n      <td>41698.871691</td>\n      <td>22765028787490304442</td>\n      <td>41698.871691</td>\n      <td>41695489054</td>\n      <td>41695.489054</td>\n    </tr>\n    <tr>\n      <th>20</th>\n      <td>2023-05-23 01:29:47+00:00</td>\n      <td>USDC</td>\n      <td>WETH</td>\n      <td>-0.602872</td>\n      <td>1829.86528</td>\n      <td>1830.468152</td>\n      <td>-201197</td>\n      <td>17.432035</td>\n      <td>19.037714</td>\n      <td>34836.452304</td>\n      <td>34864070990</td>\n      <td>34864.070990</td>\n      <td>19037714243044747879</td>\n      <td>34836.452304</td>\n    </tr>\n    <tr>\n      <th>206</th>\n      <td>2023-05-23 14:58:10+00:00</td>\n      <td>USDC</td>\n      <td>WETH</td>\n      <td>-0.614491</td>\n      <td>1854.36027</td>\n      <td>1854.974761</td>\n      <td>-201064</td>\n      <td>9.600895</td>\n      <td>10.345772</td>\n      <td>19184.788856</td>\n      <td>19201789245</td>\n      <td>19201.789245</td>\n      <td>10345772159830937176</td>\n      <td>19184.788856</td>\n    </tr>\n    <tr>\n      <th>1112</th>\n      <td>2023-05-27 19:56:00+00:00</td>\n      <td>WETH</td>\n      <td>USDC</td>\n      <td>-0.628171</td>\n      <td>1826.91372</td>\n      <td>1827.541891</td>\n      <td>-201213</td>\n      <td>21.455138</td>\n      <td>23.487851</td>\n      <td>42910.276632</td>\n      <td>23487850664196332540</td>\n      <td>42910.276632</td>\n      <td>42906905887</td>\n      <td>42906.905887</td>\n    </tr>\n    <tr>\n      <th>86</th>\n      <td>2023-05-23 03:21:00+00:00</td>\n      <td>USDC</td>\n      <td>WETH</td>\n      <td>-0.631543</td>\n      <td>1867.37294</td>\n      <td>1868.004483</td>\n      <td>-200994</td>\n      <td>45.184278</td>\n      <td>48.358946</td>\n      <td>90304.187003</td>\n      <td>90368556932</td>\n      <td>90368.556932</td>\n      <td>48358945911922369158</td>\n      <td>90304.187003</td>\n    </tr>\n    <tr>\n      <th>21</th>\n      <td>2023-05-23 01:29:51+00:00</td>\n      <td>WETH</td>\n      <td>USDC</td>\n      <td>-0.633669</td>\n      <td>1831.29937</td>\n      <td>1831.933039</td>\n      <td>-201189</td>\n      <td>15.828980</td>\n      <td>17.287157</td>\n      <td>31657.959097</td>\n      <td>17287156658017023451</td>\n      <td>31657.959097</td>\n      <td>31656602802</td>\n      <td>31656.602802</td>\n    </tr>\n    <tr>\n      <th>1629</th>\n      <td>2023-05-29 00:20:24+00:00</td>\n      <td>USDC</td>\n      <td>WETH</td>\n      <td>-0.634026</td>\n      <td>1917.53177</td>\n      <td>1918.165796</td>\n      <td>-200729</td>\n      <td>10.516394</td>\n      <td>10.959787</td>\n      <td>21015.740207</td>\n      <td>21032787067</td>\n      <td>21032.787067</td>\n      <td>10959787230735383858</td>\n      <td>21015.740207</td>\n    </tr>\n    <tr>\n      <th>1335</th>\n      <td>2023-05-28 17:44:13+00:00</td>\n      <td>USDC</td>\n      <td>WETH</td>\n      <td>-0.638387</td>\n      <td>1849.70496</td>\n      <td>1850.343347</td>\n      <td>-201089</td>\n      <td>24.950858</td>\n      <td>26.956198</td>\n      <td>49861.012894</td>\n      <td>49901716212</td>\n      <td>49901.716212</td>\n      <td>26956197864941356284</td>\n      <td>49861.012894</td>\n    </tr>\n    <tr>\n      <th>1676</th>\n      <td>2023-05-29 01:26:46+00:00</td>\n      <td>USDC</td>\n      <td>WETH</td>\n      <td>-0.653350</td>\n      <td>1915.78696</td>\n      <td>1916.440310</td>\n      <td>-200738</td>\n      <td>9.245677</td>\n      <td>9.644384</td>\n      <td>18476.585896</td>\n      <td>18491354415</td>\n      <td>18491.354415</td>\n      <td>9644384413427073695</td>\n      <td>18476.585896</td>\n    </tr>\n    <tr>\n      <th>1071</th>\n      <td>2023-05-27 13:58:03+00:00</td>\n      <td>USDC</td>\n      <td>WETH</td>\n      <td>-0.696538</td>\n      <td>1816.64023</td>\n      <td>1817.336768</td>\n      <td>-201269</td>\n      <td>13.711381</td>\n      <td>15.081821</td>\n      <td>27398.242323</td>\n      <td>27422761570</td>\n      <td>27422.761570</td>\n      <td>15081820753740996338</td>\n      <td>27398.242323</td>\n    </tr>\n    <tr>\n      <th>987</th>\n      <td>2023-05-27 02:43:49+00:00</td>\n      <td>USDC</td>\n      <td>WETH</td>\n      <td>-0.707664</td>\n      <td>1832.32481</td>\n      <td>1833.032474</td>\n      <td>-201183</td>\n      <td>22.183122</td>\n      <td>24.190869</td>\n      <td>44325.529835</td>\n      <td>44366243249</td>\n      <td>44366.243249</td>\n      <td>24190869213044951866</td>\n      <td>44325.529835</td>\n    </tr>\n    <tr>\n      <th>283</th>\n      <td>2023-05-24 00:49:35+00:00</td>\n      <td>WETH</td>\n      <td>USDC</td>\n      <td>-0.733481</td>\n      <td>1849.42485</td>\n      <td>1850.158331</td>\n      <td>-201090</td>\n      <td>7.073881</td>\n      <td>7.649817</td>\n      <td>14147.761741</td>\n      <td>7649817045095098587</td>\n      <td>14147.761741</td>\n      <td>14146768891</td>\n      <td>14146.768891</td>\n    </tr>\n    <tr>\n      <th>1454</th>\n      <td>2023-05-28 22:02:23+00:00</td>\n      <td>USDC</td>\n      <td>WETH</td>\n      <td>-0.749120</td>\n      <td>1910.33293</td>\n      <td>1911.082050</td>\n      <td>-200766</td>\n      <td>9.609772</td>\n      <td>10.051437</td>\n      <td>19201.591957</td>\n      <td>19219544510</td>\n      <td>19219.544510</td>\n      <td>10051437451059930649</td>\n      <td>19201.591957</td>\n    </tr>\n    <tr>\n      <th>80</th>\n      <td>2023-05-23 03:20:40+00:00</td>\n      <td>USDC</td>\n      <td>WETH</td>\n      <td>-0.763124</td>\n      <td>1856.81029</td>\n      <td>1857.573414</td>\n      <td>-201050</td>\n      <td>12.792699</td>\n      <td>13.766090</td>\n      <td>25561.017012</td>\n      <td>25585397769</td>\n      <td>25585.397769</td>\n      <td>13766089701955303827</td>\n      <td>25561.017012</td>\n    </tr>\n    <tr>\n      <th>1224</th>\n      <td>2023-05-28 04:04:55+00:00</td>\n      <td>USDC</td>\n      <td>WETH</td>\n      <td>-0.808066</td>\n      <td>1852.31274</td>\n      <td>1853.120806</td>\n      <td>-201074</td>\n      <td>15.775550</td>\n      <td>17.017589</td>\n      <td>31521.897757</td>\n      <td>31551099112</td>\n      <td>31551.099112</td>\n      <td>17017589457684716898</td>\n      <td>31521.897757</td>\n    </tr>\n    <tr>\n      <th>92</th>\n      <td>2023-05-23 03:21:33+00:00</td>\n      <td>USDC</td>\n      <td>WETH</td>\n      <td>-0.817431</td>\n      <td>1866.25333</td>\n      <td>1867.070761</td>\n      <td>-200999</td>\n      <td>44.657442</td>\n      <td>47.819379</td>\n      <td>89243.074370</td>\n      <td>89314883242</td>\n      <td>89314.883242</td>\n      <td>47819378503219107940</td>\n      <td>89243.074370</td>\n    </tr>\n    <tr>\n      <th>207</th>\n      <td>2023-05-23 14:58:12+00:00</td>\n      <td>USDC</td>\n      <td>WETH</td>\n      <td>-0.863133</td>\n      <td>1855.41050</td>\n      <td>1856.273633</td>\n      <td>-201057</td>\n      <td>16.868972</td>\n      <td>18.166079</td>\n      <td>33705.533083</td>\n      <td>33737943052</td>\n      <td>33737.943052</td>\n      <td>18166078656573293308</td>\n      <td>33705.533083</td>\n    </tr>\n    <tr>\n      <th>1966</th>\n      <td>2023-05-29 22:02:00+00:00</td>\n      <td>USDC</td>\n      <td>WETH</td>\n      <td>-0.919656</td>\n      <td>1888.12302</td>\n      <td>1889.042676</td>\n      <td>-200882</td>\n      <td>7.708134</td>\n      <td>8.156663</td>\n      <td>15400.782570</td>\n      <td>15416267496</td>\n      <td>15416.267496</td>\n      <td>8156662678540396826</td>\n      <td>15400.782570</td>\n    </tr>\n    <tr>\n      <th>113</th>\n      <td>2023-05-23 03:31:52+00:00</td>\n      <td>USDC</td>\n      <td>WETH</td>\n      <td>-0.928690</td>\n      <td>1865.39543</td>\n      <td>1866.324120</td>\n      <td>-201003</td>\n      <td>14.722917</td>\n      <td>15.769867</td>\n      <td>29417.037596</td>\n      <td>29445833430</td>\n      <td>29445.833430</td>\n      <td>15769866872884735829</td>\n      <td>29417.037596</td>\n    </tr>\n    <tr>\n      <th>1129</th>\n      <td>2023-05-27 23:41:07+00:00</td>\n      <td>USDC</td>\n      <td>WETH</td>\n      <td>-0.947457</td>\n      <td>1830.06989</td>\n      <td>1831.017347</td>\n      <td>-201194</td>\n      <td>13.422382</td>\n      <td>14.653406</td>\n      <td>26816.757737</td>\n      <td>26844764074</td>\n      <td>26844.764074</td>\n      <td>14653406344278673647</td>\n      <td>26816.757737</td>\n    </tr>\n    <tr>\n      <th>70</th>\n      <td>2023-05-23 03:18:24+00:00</td>\n      <td>USDC</td>\n      <td>WETH</td>\n      <td>-0.952651</td>\n      <td>1849.57573</td>\n      <td>1850.528381</td>\n      <td>-201088</td>\n      <td>27.231944</td>\n      <td>29.418207</td>\n      <td>54411.202568</td>\n      <td>54463888658</td>\n      <td>54463.888658</td>\n      <td>29418207476128454169</td>\n      <td>54411.202568</td>\n    </tr>\n    <tr>\n      <th>1143</th>\n      <td>2023-05-28 00:40:55+00:00</td>\n      <td>USDC</td>\n      <td>WETH</td>\n      <td>-0.970559</td>\n      <td>1832.42854</td>\n      <td>1833.399099</td>\n      <td>-201181</td>\n      <td>13.294214</td>\n      <td>14.494982</td>\n      <td>26561.018444</td>\n      <td>26588427452</td>\n      <td>26588.427452</td>\n      <td>14494981858115041333</td>\n      <td>26561.018444</td>\n    </tr>\n    <tr>\n      <th>1472</th>\n      <td>2023-05-28 22:03:18+00:00</td>\n      <td>USDC</td>\n      <td>WETH</td>\n      <td>-0.992406</td>\n      <td>1903.22246</td>\n      <td>1904.214866</td>\n      <td>-200802</td>\n      <td>8.747566</td>\n      <td>9.182712</td>\n      <td>17476.743441</td>\n      <td>17495132070</td>\n      <td>17495.132070</td>\n      <td>9182711852507271244</td>\n      <td>17476.743441</td>\n    </tr>\n    <tr>\n      <th>1656</th>\n      <td>2023-05-29 00:51:17+00:00</td>\n      <td>USDC</td>\n      <td>WETH</td>\n      <td>-1.012329</td>\n      <td>1916.96167</td>\n      <td>1917.973999</td>\n      <td>-200730</td>\n      <td>8.245260</td>\n      <td>8.593254</td>\n      <td>16472.937876</td>\n      <td>16490519653</td>\n      <td>16490.519653</td>\n      <td>8593253654393697480</td>\n      <td>16472.937876</td>\n    </tr>\n    <tr>\n      <th>76</th>\n      <td>2023-05-23 03:20:08+00:00</td>\n      <td>WETH</td>\n      <td>USDC</td>\n      <td>-1.020701</td>\n      <td>1853.58312</td>\n      <td>1854.603821</td>\n      <td>-201066</td>\n      <td>9.226933</td>\n      <td>9.955780</td>\n      <td>18453.865778</td>\n      <td>9955780012492515300</td>\n      <td>18453.865778</td>\n      <td>18456059507</td>\n      <td>18456.059507</td>\n    </tr>\n    <tr>\n      <th>1201</th>\n      <td>2023-05-28 03:37:52+00:00</td>\n      <td>USDC</td>\n      <td>WETH</td>\n      <td>-1.021204</td>\n      <td>1848.95213</td>\n      <td>1849.973334</td>\n      <td>-201091</td>\n      <td>9.184999</td>\n      <td>9.924866</td>\n      <td>18350.602592</td>\n      <td>18369998413</td>\n      <td>18369.998413</td>\n      <td>9924866249719655898</td>\n      <td>18350.602592</td>\n    </tr>\n    <tr>\n      <th>1354</th>\n      <td>2023-05-28 18:22:37+00:00</td>\n      <td>USDC</td>\n      <td>WETH</td>\n      <td>-1.078684</td>\n      <td>1854.26709</td>\n      <td>1855.345774</td>\n      <td>-201062</td>\n      <td>17.288084</td>\n      <td>18.627057</td>\n      <td>34539.538390</td>\n      <td>34576168407</td>\n      <td>34576.168407</td>\n      <td>18627056790225314806</td>\n      <td>34539.538390</td>\n    </tr>\n    <tr>\n      <th>1630</th>\n      <td>2023-05-29 00:20:25+00:00</td>\n      <td>USDC</td>\n      <td>WETH</td>\n      <td>-1.209534</td>\n      <td>1917.53177</td>\n      <td>1918.741304</td>\n      <td>-200726</td>\n      <td>10.517881</td>\n      <td>10.957371</td>\n      <td>21011.107697</td>\n      <td>21035762044</td>\n      <td>21035.762044</td>\n      <td>10957371359412402519</td>\n      <td>21011.107697</td>\n    </tr>\n    <tr>\n      <th>69</th>\n      <td>2023-05-23 03:18:17+00:00</td>\n      <td>USDC</td>\n      <td>WETH</td>\n      <td>-1.314514</td>\n      <td>1846.62507</td>\n      <td>1847.939584</td>\n      <td>-201102</td>\n      <td>12.230755</td>\n      <td>13.230632</td>\n      <td>24432.016542</td>\n      <td>24461509146</td>\n      <td>24461.509146</td>\n      <td>13230631891180968759</td>\n      <td>24432.016542</td>\n    </tr>\n    <tr>\n      <th>1569</th>\n      <td>2023-05-28 22:58:28+00:00</td>\n      <td>WETH</td>\n      <td>USDC</td>\n      <td>-1.334891</td>\n      <td>1905.16629</td>\n      <td>1906.501181</td>\n      <td>-200790</td>\n      <td>15.329439</td>\n      <td>16.092494</td>\n      <td>30658.877555</td>\n      <td>16092494243854195189</td>\n      <td>30658.877555</td>\n      <td>30669168694</td>\n      <td>30669.168694</td>\n    </tr>\n    <tr>\n      <th>413</th>\n      <td>2023-05-24 20:24:58+00:00</td>\n      <td>WETH</td>\n      <td>USDC</td>\n      <td>-1.604839</td>\n      <td>1799.45009</td>\n      <td>1801.054929</td>\n      <td>-201359</td>\n      <td>55.324781</td>\n      <td>61.490765</td>\n      <td>110649.562081</td>\n      <td>61490764704339447453</td>\n      <td>110649.562081</td>\n      <td>110725272527</td>\n      <td>110725.272527</td>\n    </tr>\n    <tr>\n      <th>56</th>\n      <td>2023-05-23 02:58:10+00:00</td>\n      <td>USDC</td>\n      <td>WETH</td>\n      <td>-1.610885</td>\n      <td>1841.34624</td>\n      <td>1842.957125</td>\n      <td>-201129</td>\n      <td>14.173906</td>\n      <td>15.374391</td>\n      <td>28309.577057</td>\n      <td>28347811822</td>\n      <td>28347.811822</td>\n      <td>15374390998324282943</td>\n      <td>28309.577057</td>\n    </tr>\n    <tr>\n      <th>1432</th>\n      <td>2023-05-28 21:45:28+00:00</td>\n      <td>USDC</td>\n      <td>WETH</td>\n      <td>-1.886337</td>\n      <td>1857.73143</td>\n      <td>1859.617767</td>\n      <td>-201039</td>\n      <td>15.240674</td>\n      <td>16.382518</td>\n      <td>30434.317693</td>\n      <td>30481347180</td>\n      <td>30481.347180</td>\n      <td>16382517516358979320</td>\n      <td>30434.317693</td>\n    </tr>\n    <tr>\n      <th>1577</th>\n      <td>2023-05-28 23:15:44+00:00</td>\n      <td>WETH</td>\n      <td>USDC</td>\n      <td>-1.894702</td>\n      <td>1911.29059</td>\n      <td>1913.185292</td>\n      <td>-200755</td>\n      <td>10.294215</td>\n      <td>10.772004</td>\n      <td>20588.429513</td>\n      <td>10772003807845894032</td>\n      <td>20588.429513</td>\n      <td>20601457050</td>\n      <td>20601.457050</td>\n    </tr>\n    <tr>\n      <th>1506</th>\n      <td>2023-05-28 22:07:22+00:00</td>\n      <td>USDC</td>\n      <td>WETH</td>\n      <td>-1.935738</td>\n      <td>1902.46955</td>\n      <td>1904.405288</td>\n      <td>-200801</td>\n      <td>9.757499</td>\n      <td>10.242565</td>\n      <td>19486.167664</td>\n      <td>19514998089</td>\n      <td>19514.998089</td>\n      <td>10242564809357691875</td>\n      <td>19486.167664</td>\n    </tr>\n    <tr>\n      <th>423</th>\n      <td>2023-05-24 20:53:00+00:00</td>\n      <td>USDC</td>\n      <td>WETH</td>\n      <td>-2.007493</td>\n      <td>1802.65297</td>\n      <td>1804.660463</td>\n      <td>-201339</td>\n      <td>9.561629</td>\n      <td>10.591455</td>\n      <td>19092.718496</td>\n      <td>19123258624</td>\n      <td>19123.258624</td>\n      <td>10591455379151615128</td>\n      <td>19092.718496</td>\n    </tr>\n    <tr>\n      <th>1663</th>\n      <td>2023-05-29 01:00:02+00:00</td>\n      <td>WETH</td>\n      <td>USDC</td>\n      <td>-2.369692</td>\n      <td>1915.22077</td>\n      <td>1917.590462</td>\n      <td>-200732</td>\n      <td>92.015935</td>\n      <td>96.089115</td>\n      <td>184031.869468</td>\n      <td>96089115339047881806</td>\n      <td>184031.869468</td>\n      <td>184252467624</td>\n      <td>184252.467624</td>\n    </tr>\n    <tr>\n      <th>1355</th>\n      <td>2023-05-28 18:22:39+00:00</td>\n      <td>WETH</td>\n      <td>USDC</td>\n      <td>-2.546717</td>\n      <td>1855.39823</td>\n      <td>1857.944947</td>\n      <td>-201048</td>\n      <td>11.534678</td>\n      <td>12.433641</td>\n      <td>23069.356385</td>\n      <td>12433641474862691806</td>\n      <td>23069.356385</td>\n      <td>23090872732</td>\n      <td>23090.872732</td>\n    </tr>\n    <tr>\n      <th>83</th>\n      <td>2023-05-23 03:20:54+00:00</td>\n      <td>WETH</td>\n      <td>USDC</td>\n      <td>-2.547431</td>\n      <td>1864.52333</td>\n      <td>1867.070761</td>\n      <td>-200999</td>\n      <td>88.620502</td>\n      <td>95.059687</td>\n      <td>177241.003960</td>\n      <td>95059686896218366417</td>\n      <td>177241.003960</td>\n      <td>177461336981</td>\n      <td>177461.336981</td>\n    </tr>\n    <tr>\n      <th>1973</th>\n      <td>2023-05-29 23:13:41+00:00</td>\n      <td>USDC</td>\n      <td>WETH</td>\n      <td>-2.696039</td>\n      <td>1894.67632</td>\n      <td>1897.372359</td>\n      <td>-200838</td>\n      <td>7.630040</td>\n      <td>8.038547</td>\n      <td>15230.443764</td>\n      <td>15260079888</td>\n      <td>15260.079888</td>\n      <td>8038546533289973186</td>\n      <td>15230.443764</td>\n    </tr>\n  </tbody>\n</table>\n</div>"
     },
     "execution_count": 56,
     "metadata": {},
     "output_type": "execute_result"
    }
   ],
   "source": [
    "df1.sort_values(by=[\"price_diff\"], ascending=False, inplace=True)\n",
    "df1.tail(50)"
   ],
   "metadata": {
    "collapsed": false,
    "pycharm": {
     "name": "#%%\n"
    }
   }
  },
  {
   "cell_type": "code",
   "execution_count": 58,
   "outputs": [
    {
     "data": {
      "text/plain": "        price_diff        price   tick_price           tick         fees  \\\ncount  1989.000000  1989.000000  1989.000000    1989.000000  1989.000000   \nmean      0.078564  1847.277594  1847.199031 -201108.282051    11.711521   \nstd       0.315116    39.471342    39.464781     213.125053     5.497205   \nmin      -2.696039  1775.703220  1775.484387 -201502.000000     4.296618   \n25%      -0.076946  1812.768560  1812.799327 -201294.000000     8.642977   \n50%       0.105356  1845.772580  1845.723497 -201114.000000    10.386435   \n75%       0.254053  1887.326380  1887.154672 -200892.000000    13.704746   \nmax       2.098042  1922.495680  1922.197975 -200708.000000    92.015935   \n\n         ethAmount      usdAmount    amountInUSD   amountOutUSD  \ncount  1989.000000    1989.000000    1989.000000    1989.000000  \nmean     12.699067   23416.416640   23423.041771   23410.320329  \nstd       5.954771   10992.009483   10994.409014   10994.056668  \nmin       4.503175    8593.235900    8593.235900    8588.750173  \n25%       9.373606   17276.817099   17285.954106   17276.817099  \n50%      11.316145   20772.869034   20772.869034   20761.535598  \n75%      14.887070   27404.804515   27409.492563   27394.756910  \nmax      96.089115  184031.869468  184031.869468  184252.467624  ",
      "text/html": "<div>\n<style scoped>\n    .dataframe tbody tr th:only-of-type {\n        vertical-align: middle;\n    }\n\n    .dataframe tbody tr th {\n        vertical-align: top;\n    }\n\n    .dataframe thead th {\n        text-align: right;\n    }\n</style>\n<table border=\"1\" class=\"dataframe\">\n  <thead>\n    <tr style=\"text-align: right;\">\n      <th></th>\n      <th>price_diff</th>\n      <th>price</th>\n      <th>tick_price</th>\n      <th>tick</th>\n      <th>fees</th>\n      <th>ethAmount</th>\n      <th>usdAmount</th>\n      <th>amountInUSD</th>\n      <th>amountOutUSD</th>\n    </tr>\n  </thead>\n  <tbody>\n    <tr>\n      <th>count</th>\n      <td>1989.000000</td>\n      <td>1989.000000</td>\n      <td>1989.000000</td>\n      <td>1989.000000</td>\n      <td>1989.000000</td>\n      <td>1989.000000</td>\n      <td>1989.000000</td>\n      <td>1989.000000</td>\n      <td>1989.000000</td>\n    </tr>\n    <tr>\n      <th>mean</th>\n      <td>0.078564</td>\n      <td>1847.277594</td>\n      <td>1847.199031</td>\n      <td>-201108.282051</td>\n      <td>11.711521</td>\n      <td>12.699067</td>\n      <td>23416.416640</td>\n      <td>23423.041771</td>\n      <td>23410.320329</td>\n    </tr>\n    <tr>\n      <th>std</th>\n      <td>0.315116</td>\n      <td>39.471342</td>\n      <td>39.464781</td>\n      <td>213.125053</td>\n      <td>5.497205</td>\n      <td>5.954771</td>\n      <td>10992.009483</td>\n      <td>10994.409014</td>\n      <td>10994.056668</td>\n    </tr>\n    <tr>\n      <th>min</th>\n      <td>-2.696039</td>\n      <td>1775.703220</td>\n      <td>1775.484387</td>\n      <td>-201502.000000</td>\n      <td>4.296618</td>\n      <td>4.503175</td>\n      <td>8593.235900</td>\n      <td>8593.235900</td>\n      <td>8588.750173</td>\n    </tr>\n    <tr>\n      <th>25%</th>\n      <td>-0.076946</td>\n      <td>1812.768560</td>\n      <td>1812.799327</td>\n      <td>-201294.000000</td>\n      <td>8.642977</td>\n      <td>9.373606</td>\n      <td>17276.817099</td>\n      <td>17285.954106</td>\n      <td>17276.817099</td>\n    </tr>\n    <tr>\n      <th>50%</th>\n      <td>0.105356</td>\n      <td>1845.772580</td>\n      <td>1845.723497</td>\n      <td>-201114.000000</td>\n      <td>10.386435</td>\n      <td>11.316145</td>\n      <td>20772.869034</td>\n      <td>20772.869034</td>\n      <td>20761.535598</td>\n    </tr>\n    <tr>\n      <th>75%</th>\n      <td>0.254053</td>\n      <td>1887.326380</td>\n      <td>1887.154672</td>\n      <td>-200892.000000</td>\n      <td>13.704746</td>\n      <td>14.887070</td>\n      <td>27404.804515</td>\n      <td>27409.492563</td>\n      <td>27394.756910</td>\n    </tr>\n    <tr>\n      <th>max</th>\n      <td>2.098042</td>\n      <td>1922.495680</td>\n      <td>1922.197975</td>\n      <td>-200708.000000</td>\n      <td>92.015935</td>\n      <td>96.089115</td>\n      <td>184031.869468</td>\n      <td>184031.869468</td>\n      <td>184252.467624</td>\n    </tr>\n  </tbody>\n</table>\n</div>"
     },
     "execution_count": 58,
     "metadata": {},
     "output_type": "execute_result"
    }
   ],
   "source": [
    "df1.describe()"
   ],
   "metadata": {
    "collapsed": false,
    "pycharm": {
     "name": "#%%\n"
    }
   }
  },
  {
   "cell_type": "code",
   "execution_count": 16,
   "outputs": [
    {
     "data": {
      "text/plain": "                                                  id             amountIn  \\\n0  0x4163f1437cefc0b6c73e00c8db819ea92aa07395a1a6...  3516117741730628903   \n1  0x058d12a79ee20e82379e5d0b2b1eeeaaa2988768244d...  4186892251423356044   \n2  0xcd8af3e9679b087671fa11627d3f0864b3bedb46523c...  3559441400205692687   \n3  0xa9ac38c9ce148d8830f73bec697d014de0ad3aa7e3a3...           8250801903   \n4  0xc6ea270acc5833c393000dad84ffb0baaf793238f669...  3454446749687345942   \n\n   amountInUSD            amountOut  amountOutUSD  gasLimit    gasPrice  \\\n0  5174.514646           5170663639   5170.663639   3000000  2000000000   \n1  6158.127305           6154400504   6154.400504   3000000  2000000000   \n2  5231.842059           5228940013   5228.940013   3000000  2000000000   \n3  8250.801903  5613510956742205013   8245.020033   3000000  2000000000   \n4  5076.537527           5073730688   5073.730688   3000000  2000000000   \n\n     tick   timestamp                                        pool tokenIn  \\\n0 -203382  1676306229  0xc31e54c7a869b9fcbecc14363cf510d1c41fa443    WETH   \n1 -203387  1676306236  0xc31e54c7a869b9fcbecc14363cf510d1c41fa443    WETH   \n2 -203393  1676306246  0xc31e54c7a869b9fcbecc14363cf510d1c41fa443    WETH   \n3 -203396  1676306255  0xc31e54c7a869b9fcbecc14363cf510d1c41fa443    USDC   \n4 -203395  1676306282  0xc31e54c7a869b9fcbecc14363cf510d1c41fa443    WETH   \n\n  tokenOut                  datetime  \n0     USDC 2023-02-13 16:37:09+00:00  \n1     USDC 2023-02-13 16:37:16+00:00  \n2     USDC 2023-02-13 16:37:26+00:00  \n3     WETH 2023-02-13 16:37:35+00:00  \n4     USDC 2023-02-13 16:38:02+00:00  ",
      "text/html": "<div>\n<style scoped>\n    .dataframe tbody tr th:only-of-type {\n        vertical-align: middle;\n    }\n\n    .dataframe tbody tr th {\n        vertical-align: top;\n    }\n\n    .dataframe thead th {\n        text-align: right;\n    }\n</style>\n<table border=\"1\" class=\"dataframe\">\n  <thead>\n    <tr style=\"text-align: right;\">\n      <th></th>\n      <th>id</th>\n      <th>amountIn</th>\n      <th>amountInUSD</th>\n      <th>amountOut</th>\n      <th>amountOutUSD</th>\n      <th>gasLimit</th>\n      <th>gasPrice</th>\n      <th>tick</th>\n      <th>timestamp</th>\n      <th>pool</th>\n      <th>tokenIn</th>\n      <th>tokenOut</th>\n      <th>datetime</th>\n    </tr>\n  </thead>\n  <tbody>\n    <tr>\n      <th>0</th>\n      <td>0x4163f1437cefc0b6c73e00c8db819ea92aa07395a1a6...</td>\n      <td>3516117741730628903</td>\n      <td>5174.514646</td>\n      <td>5170663639</td>\n      <td>5170.663639</td>\n      <td>3000000</td>\n      <td>2000000000</td>\n      <td>-203382</td>\n      <td>1676306229</td>\n      <td>0xc31e54c7a869b9fcbecc14363cf510d1c41fa443</td>\n      <td>WETH</td>\n      <td>USDC</td>\n      <td>2023-02-13 16:37:09+00:00</td>\n    </tr>\n    <tr>\n      <th>1</th>\n      <td>0x058d12a79ee20e82379e5d0b2b1eeeaaa2988768244d...</td>\n      <td>4186892251423356044</td>\n      <td>6158.127305</td>\n      <td>6154400504</td>\n      <td>6154.400504</td>\n      <td>3000000</td>\n      <td>2000000000</td>\n      <td>-203387</td>\n      <td>1676306236</td>\n      <td>0xc31e54c7a869b9fcbecc14363cf510d1c41fa443</td>\n      <td>WETH</td>\n      <td>USDC</td>\n      <td>2023-02-13 16:37:16+00:00</td>\n    </tr>\n    <tr>\n      <th>2</th>\n      <td>0xcd8af3e9679b087671fa11627d3f0864b3bedb46523c...</td>\n      <td>3559441400205692687</td>\n      <td>5231.842059</td>\n      <td>5228940013</td>\n      <td>5228.940013</td>\n      <td>3000000</td>\n      <td>2000000000</td>\n      <td>-203393</td>\n      <td>1676306246</td>\n      <td>0xc31e54c7a869b9fcbecc14363cf510d1c41fa443</td>\n      <td>WETH</td>\n      <td>USDC</td>\n      <td>2023-02-13 16:37:26+00:00</td>\n    </tr>\n    <tr>\n      <th>3</th>\n      <td>0xa9ac38c9ce148d8830f73bec697d014de0ad3aa7e3a3...</td>\n      <td>8250801903</td>\n      <td>8250.801903</td>\n      <td>5613510956742205013</td>\n      <td>8245.020033</td>\n      <td>3000000</td>\n      <td>2000000000</td>\n      <td>-203396</td>\n      <td>1676306255</td>\n      <td>0xc31e54c7a869b9fcbecc14363cf510d1c41fa443</td>\n      <td>USDC</td>\n      <td>WETH</td>\n      <td>2023-02-13 16:37:35+00:00</td>\n    </tr>\n    <tr>\n      <th>4</th>\n      <td>0xc6ea270acc5833c393000dad84ffb0baaf793238f669...</td>\n      <td>3454446749687345942</td>\n      <td>5076.537527</td>\n      <td>5073730688</td>\n      <td>5073.730688</td>\n      <td>3000000</td>\n      <td>2000000000</td>\n      <td>-203395</td>\n      <td>1676306282</td>\n      <td>0xc31e54c7a869b9fcbecc14363cf510d1c41fa443</td>\n      <td>WETH</td>\n      <td>USDC</td>\n      <td>2023-02-13 16:38:02+00:00</td>\n    </tr>\n  </tbody>\n</table>\n</div>"
     },
     "execution_count": 16,
     "metadata": {},
     "output_type": "execute_result"
    }
   ],
   "source": [
    "# trading account：0x8cc02c2381b7c55e18dccfea917f0677a5671931 analysis\n",
    "# fetch all history transactions\n",
    "import pandas as pd\n",
    "\n",
    "from utils import utils\n",
    "\n",
    "# new resolved USDT related swaps\n",
    "df = pd.read_csv(\"../data/user_arb_swap_new.csv\")\n",
    "df[\"datetime\"] = df[\"timestamp\"].apply(utils.utc_timestamp_to_date)\n",
    "df.head()"
   ],
   "metadata": {
    "collapsed": false,
    "pycharm": {
     "name": "#%%\n"
    }
   }
  },
  {
   "cell_type": "code",
   "execution_count": 17,
   "outputs": [
    {
     "data": {
      "text/plain": "0xc31e54c7a869b9fcbecc14363cf510d1c41fa443    62309\n0x641c00a822e8b671738d32a431a4fb6074e5c79d        2\nName: pool, dtype: int64"
     },
     "execution_count": 17,
     "metadata": {},
     "output_type": "execute_result"
    }
   ],
   "source": [
    "df[\"pool\"].value_counts()"
   ],
   "metadata": {
    "collapsed": false,
    "pycharm": {
     "name": "#%%\n"
    }
   }
  },
  {
   "cell_type": "code",
   "execution_count": 18,
   "outputs": [
    {
     "data": {
      "text/plain": "                                                      id     amountIn  \\\n19209  0xdd6ccb08bb41d437daacff0faf7377f41fb247a855f2...  12500000000   \n19213  0xa4bdb0ccdd3eb48c00d764fd29a1b2a42289769a460c...  12500000000   \n\n       amountInUSD            amountOut  amountOutUSD  gasLimit   gasPrice  \\\n19209      12500.0  7779323090643218602  12497.533889   2661579  100000000   \n19213      12500.0  7658940883836291687  12495.364145   2025922  100000000   \n\n         tick   timestamp                                        pool tokenIn  \\\n19209 -202501  1678667866  0x641c00a822e8b671738d32a431a4fb6074e5c79d    USDC   \n19213 -202347  1678668534  0x641c00a822e8b671738d32a431a4fb6074e5c79d    USDC   \n\n      tokenOut                  datetime  \n19209     WETH 2023-03-13 00:37:46+00:00  \n19213     WETH 2023-03-13 00:48:54+00:00  ",
      "text/html": "<div>\n<style scoped>\n    .dataframe tbody tr th:only-of-type {\n        vertical-align: middle;\n    }\n\n    .dataframe tbody tr th {\n        vertical-align: top;\n    }\n\n    .dataframe thead th {\n        text-align: right;\n    }\n</style>\n<table border=\"1\" class=\"dataframe\">\n  <thead>\n    <tr style=\"text-align: right;\">\n      <th></th>\n      <th>id</th>\n      <th>amountIn</th>\n      <th>amountInUSD</th>\n      <th>amountOut</th>\n      <th>amountOutUSD</th>\n      <th>gasLimit</th>\n      <th>gasPrice</th>\n      <th>tick</th>\n      <th>timestamp</th>\n      <th>pool</th>\n      <th>tokenIn</th>\n      <th>tokenOut</th>\n      <th>datetime</th>\n    </tr>\n  </thead>\n  <tbody>\n    <tr>\n      <th>19209</th>\n      <td>0xdd6ccb08bb41d437daacff0faf7377f41fb247a855f2...</td>\n      <td>12500000000</td>\n      <td>12500.0</td>\n      <td>7779323090643218602</td>\n      <td>12497.533889</td>\n      <td>2661579</td>\n      <td>100000000</td>\n      <td>-202501</td>\n      <td>1678667866</td>\n      <td>0x641c00a822e8b671738d32a431a4fb6074e5c79d</td>\n      <td>USDC</td>\n      <td>WETH</td>\n      <td>2023-03-13 00:37:46+00:00</td>\n    </tr>\n    <tr>\n      <th>19213</th>\n      <td>0xa4bdb0ccdd3eb48c00d764fd29a1b2a42289769a460c...</td>\n      <td>12500000000</td>\n      <td>12500.0</td>\n      <td>7658940883836291687</td>\n      <td>12495.364145</td>\n      <td>2025922</td>\n      <td>100000000</td>\n      <td>-202347</td>\n      <td>1678668534</td>\n      <td>0x641c00a822e8b671738d32a431a4fb6074e5c79d</td>\n      <td>USDC</td>\n      <td>WETH</td>\n      <td>2023-03-13 00:48:54+00:00</td>\n    </tr>\n  </tbody>\n</table>\n</div>"
     },
     "execution_count": 18,
     "metadata": {},
     "output_type": "execute_result"
    }
   ],
   "source": [
    "df[df[\"pool\"] == \"0x641c00a822e8b671738d32a431a4fb6074e5c79d\"].head()"
   ],
   "metadata": {
    "collapsed": false,
    "pycharm": {
     "name": "#%%\n"
    }
   }
  },
  {
   "cell_type": "code",
   "execution_count": 19,
   "outputs": [
    {
     "data": {
      "text/plain": "WETH    31589\nUSDC    30722\nName: tokenIn, dtype: int64"
     },
     "execution_count": 19,
     "metadata": {},
     "output_type": "execute_result"
    }
   ],
   "source": [
    "df[\"tokenIn\"].value_counts()"
   ],
   "metadata": {
    "collapsed": false,
    "pycharm": {
     "name": "#%%\n"
    }
   }
  },
  {
   "cell_type": "code",
   "execution_count": 20,
   "outputs": [
    {
     "data": {
      "text/plain": "                                                  id             amountIn  \\\n0  0x4163f1437cefc0b6c73e00c8db819ea92aa07395a1a6...  3516117741730628903   \n1  0x058d12a79ee20e82379e5d0b2b1eeeaaa2988768244d...  4186892251423356044   \n2  0xcd8af3e9679b087671fa11627d3f0864b3bedb46523c...  3559441400205692687   \n3  0xa9ac38c9ce148d8830f73bec697d014de0ad3aa7e3a3...           8250801903   \n4  0xc6ea270acc5833c393000dad84ffb0baaf793238f669...  3454446749687345942   \n\n   amountInUSD            amountOut  amountOutUSD  gasLimit    gasPrice  \\\n0  5174.514646           5170663639   5170.663639   3000000  2000000000   \n1  6158.127305           6154400504   6154.400504   3000000  2000000000   \n2  5231.842059           5228940013   5228.940013   3000000  2000000000   \n3  8250.801903  5613510956742205013   8245.020033   3000000  2000000000   \n4  5076.537527           5073730688   5073.730688   3000000  2000000000   \n\n     tick   timestamp                                        pool tokenIn  \\\n0 -203382  1676306229  0xc31e54c7a869b9fcbecc14363cf510d1c41fa443    WETH   \n1 -203387  1676306236  0xc31e54c7a869b9fcbecc14363cf510d1c41fa443    WETH   \n2 -203393  1676306246  0xc31e54c7a869b9fcbecc14363cf510d1c41fa443    WETH   \n3 -203396  1676306255  0xc31e54c7a869b9fcbecc14363cf510d1c41fa443    USDC   \n4 -203395  1676306282  0xc31e54c7a869b9fcbecc14363cf510d1c41fa443    WETH   \n\n  tokenOut                  datetime      fees            usd        eth  \n0     USDC 2023-02-13 16:37:09+00:00  2.587257  205170.663639  96.483882  \n1     USDC 2023-02-13 16:37:16+00:00  3.079064  211325.064143  92.296990  \n2     USDC 2023-02-13 16:37:26+00:00  2.615921  216554.004156  88.737549  \n3     WETH 2023-02-13 16:37:35+00:00  4.125401  208303.202253  94.351060  \n4     USDC 2023-02-13 16:38:02+00:00  2.538269  213376.932941  90.896613  ",
      "text/html": "<div>\n<style scoped>\n    .dataframe tbody tr th:only-of-type {\n        vertical-align: middle;\n    }\n\n    .dataframe tbody tr th {\n        vertical-align: top;\n    }\n\n    .dataframe thead th {\n        text-align: right;\n    }\n</style>\n<table border=\"1\" class=\"dataframe\">\n  <thead>\n    <tr style=\"text-align: right;\">\n      <th></th>\n      <th>id</th>\n      <th>amountIn</th>\n      <th>amountInUSD</th>\n      <th>amountOut</th>\n      <th>amountOutUSD</th>\n      <th>gasLimit</th>\n      <th>gasPrice</th>\n      <th>tick</th>\n      <th>timestamp</th>\n      <th>pool</th>\n      <th>tokenIn</th>\n      <th>tokenOut</th>\n      <th>datetime</th>\n      <th>fees</th>\n      <th>usd</th>\n      <th>eth</th>\n    </tr>\n  </thead>\n  <tbody>\n    <tr>\n      <th>0</th>\n      <td>0x4163f1437cefc0b6c73e00c8db819ea92aa07395a1a6...</td>\n      <td>3516117741730628903</td>\n      <td>5174.514646</td>\n      <td>5170663639</td>\n      <td>5170.663639</td>\n      <td>3000000</td>\n      <td>2000000000</td>\n      <td>-203382</td>\n      <td>1676306229</td>\n      <td>0xc31e54c7a869b9fcbecc14363cf510d1c41fa443</td>\n      <td>WETH</td>\n      <td>USDC</td>\n      <td>2023-02-13 16:37:09+00:00</td>\n      <td>2.587257</td>\n      <td>205170.663639</td>\n      <td>96.483882</td>\n    </tr>\n    <tr>\n      <th>1</th>\n      <td>0x058d12a79ee20e82379e5d0b2b1eeeaaa2988768244d...</td>\n      <td>4186892251423356044</td>\n      <td>6158.127305</td>\n      <td>6154400504</td>\n      <td>6154.400504</td>\n      <td>3000000</td>\n      <td>2000000000</td>\n      <td>-203387</td>\n      <td>1676306236</td>\n      <td>0xc31e54c7a869b9fcbecc14363cf510d1c41fa443</td>\n      <td>WETH</td>\n      <td>USDC</td>\n      <td>2023-02-13 16:37:16+00:00</td>\n      <td>3.079064</td>\n      <td>211325.064143</td>\n      <td>92.296990</td>\n    </tr>\n    <tr>\n      <th>2</th>\n      <td>0xcd8af3e9679b087671fa11627d3f0864b3bedb46523c...</td>\n      <td>3559441400205692687</td>\n      <td>5231.842059</td>\n      <td>5228940013</td>\n      <td>5228.940013</td>\n      <td>3000000</td>\n      <td>2000000000</td>\n      <td>-203393</td>\n      <td>1676306246</td>\n      <td>0xc31e54c7a869b9fcbecc14363cf510d1c41fa443</td>\n      <td>WETH</td>\n      <td>USDC</td>\n      <td>2023-02-13 16:37:26+00:00</td>\n      <td>2.615921</td>\n      <td>216554.004156</td>\n      <td>88.737549</td>\n    </tr>\n    <tr>\n      <th>3</th>\n      <td>0xa9ac38c9ce148d8830f73bec697d014de0ad3aa7e3a3...</td>\n      <td>8250801903</td>\n      <td>8250.801903</td>\n      <td>5613510956742205013</td>\n      <td>8245.020033</td>\n      <td>3000000</td>\n      <td>2000000000</td>\n      <td>-203396</td>\n      <td>1676306255</td>\n      <td>0xc31e54c7a869b9fcbecc14363cf510d1c41fa443</td>\n      <td>USDC</td>\n      <td>WETH</td>\n      <td>2023-02-13 16:37:35+00:00</td>\n      <td>4.125401</td>\n      <td>208303.202253</td>\n      <td>94.351060</td>\n    </tr>\n    <tr>\n      <th>4</th>\n      <td>0xc6ea270acc5833c393000dad84ffb0baaf793238f669...</td>\n      <td>3454446749687345942</td>\n      <td>5076.537527</td>\n      <td>5073730688</td>\n      <td>5073.730688</td>\n      <td>3000000</td>\n      <td>2000000000</td>\n      <td>-203395</td>\n      <td>1676306282</td>\n      <td>0xc31e54c7a869b9fcbecc14363cf510d1c41fa443</td>\n      <td>WETH</td>\n      <td>USDC</td>\n      <td>2023-02-13 16:38:02+00:00</td>\n      <td>2.538269</td>\n      <td>213376.932941</td>\n      <td>90.896613</td>\n    </tr>\n  </tbody>\n</table>\n</div>"
     },
     "execution_count": 20,
     "metadata": {},
     "output_type": "execute_result"
    }
   ],
   "source": [
    "init_eth = 100\n",
    "init_usd = 100 * 2000\n",
    "\n",
    "# calculate eth, usd in every step to know least investment, considering about trading fee\n",
    "trade_data = df.to_dict(\"records\")\n",
    "\n",
    "last_usd = init_usd\n",
    "last_eth = init_eth\n",
    "\n",
    "current_usd = 0\n",
    "current_eth = 0\n",
    "for item in trade_data:\n",
    "    fees = item[\"amountInUSD\"] * 0.0005\n",
    "    if item[\"tokenIn\"] == \"USDC\":\n",
    "        current_usd = last_usd - item[\"amountInUSD\"]\n",
    "        current_eth = last_eth + int(item[\"amountOut\"]) / (10 ** 18)\n",
    "    if item[\"tokenIn\"] == \"WETH\":\n",
    "        current_usd = last_usd + item[\"amountOutUSD\"]\n",
    "        current_eth = last_eth - int(item[\"amountIn\"]) / (10 ** 18)\n",
    "    # profit = item[\"price\"] * current_eth + current_usd - item[\"price\"] * init_eth - init_usd\n",
    "    # item[\"profit\"] = profit\n",
    "    item[\"fees\"] = fees\n",
    "    item[\"usd\"] = current_usd\n",
    "    item[\"eth\"] = current_eth\n",
    "    last_usd = current_usd\n",
    "    last_eth = current_eth\n",
    "\n",
    "user_df = pd.DataFrame(trade_data)\n",
    "user_df.head()"
   ],
   "metadata": {
    "collapsed": false,
    "pycharm": {
     "name": "#%%\n"
    }
   }
  },
  {
   "cell_type": "code",
   "execution_count": 21,
   "outputs": [
    {
     "data": {
      "text/plain": "         amountInUSD   amountOutUSD      gasLimit      gasPrice  \\\ncount   62311.000000   62311.000000  6.231100e+04  6.231100e+04   \nmean    20741.783744   20729.774617  5.766399e+06  2.001809e+09   \nstd     11747.459989   11742.637716  8.051630e+05  1.918357e+08   \nmin         0.003364       0.003361  3.000000e+05  1.000000e+08   \n25%     13496.230969   13487.898459  6.000000e+06  2.000000e+09   \n50%     17876.863275   17865.889427  6.000000e+06  2.000000e+09   \n75%     24567.306635   24552.351235  6.000000e+06  2.000000e+09   \nmax    184031.869468  184252.467624  6.000000e+06  2.000000e+10   \n\n                tick     timestamp          fees            usd           eth  \ncount   62311.000000  6.231100e+04  62311.000000   62311.000000  62311.000000  \nmean  -201595.445058  1.680365e+09     10.370892  221554.571869    135.054394  \nstd       834.686582  2.668677e+06      5.873730   68134.194920     39.587890  \nmin   -204072.000000  1.676306e+09      0.000002   69418.563161     12.498704  \n25%   -202161.000000  1.678199e+09      6.748115  170308.514337    106.720236  \n50%   -201418.000000  1.679821e+09      8.938432  220335.625334    134.247495  \n75%   -201007.000000  1.682683e+09     12.283653  269196.822368    163.910329  \nmax   -199646.000000  1.685577e+09     92.015935  434449.527815    263.865053  ",
      "text/html": "<div>\n<style scoped>\n    .dataframe tbody tr th:only-of-type {\n        vertical-align: middle;\n    }\n\n    .dataframe tbody tr th {\n        vertical-align: top;\n    }\n\n    .dataframe thead th {\n        text-align: right;\n    }\n</style>\n<table border=\"1\" class=\"dataframe\">\n  <thead>\n    <tr style=\"text-align: right;\">\n      <th></th>\n      <th>amountInUSD</th>\n      <th>amountOutUSD</th>\n      <th>gasLimit</th>\n      <th>gasPrice</th>\n      <th>tick</th>\n      <th>timestamp</th>\n      <th>fees</th>\n      <th>usd</th>\n      <th>eth</th>\n    </tr>\n  </thead>\n  <tbody>\n    <tr>\n      <th>count</th>\n      <td>62311.000000</td>\n      <td>62311.000000</td>\n      <td>6.231100e+04</td>\n      <td>6.231100e+04</td>\n      <td>62311.000000</td>\n      <td>6.231100e+04</td>\n      <td>62311.000000</td>\n      <td>62311.000000</td>\n      <td>62311.000000</td>\n    </tr>\n    <tr>\n      <th>mean</th>\n      <td>20741.783744</td>\n      <td>20729.774617</td>\n      <td>5.766399e+06</td>\n      <td>2.001809e+09</td>\n      <td>-201595.445058</td>\n      <td>1.680365e+09</td>\n      <td>10.370892</td>\n      <td>221554.571869</td>\n      <td>135.054394</td>\n    </tr>\n    <tr>\n      <th>std</th>\n      <td>11747.459989</td>\n      <td>11742.637716</td>\n      <td>8.051630e+05</td>\n      <td>1.918357e+08</td>\n      <td>834.686582</td>\n      <td>2.668677e+06</td>\n      <td>5.873730</td>\n      <td>68134.194920</td>\n      <td>39.587890</td>\n    </tr>\n    <tr>\n      <th>min</th>\n      <td>0.003364</td>\n      <td>0.003361</td>\n      <td>3.000000e+05</td>\n      <td>1.000000e+08</td>\n      <td>-204072.000000</td>\n      <td>1.676306e+09</td>\n      <td>0.000002</td>\n      <td>69418.563161</td>\n      <td>12.498704</td>\n    </tr>\n    <tr>\n      <th>25%</th>\n      <td>13496.230969</td>\n      <td>13487.898459</td>\n      <td>6.000000e+06</td>\n      <td>2.000000e+09</td>\n      <td>-202161.000000</td>\n      <td>1.678199e+09</td>\n      <td>6.748115</td>\n      <td>170308.514337</td>\n      <td>106.720236</td>\n    </tr>\n    <tr>\n      <th>50%</th>\n      <td>17876.863275</td>\n      <td>17865.889427</td>\n      <td>6.000000e+06</td>\n      <td>2.000000e+09</td>\n      <td>-201418.000000</td>\n      <td>1.679821e+09</td>\n      <td>8.938432</td>\n      <td>220335.625334</td>\n      <td>134.247495</td>\n    </tr>\n    <tr>\n      <th>75%</th>\n      <td>24567.306635</td>\n      <td>24552.351235</td>\n      <td>6.000000e+06</td>\n      <td>2.000000e+09</td>\n      <td>-201007.000000</td>\n      <td>1.682683e+09</td>\n      <td>12.283653</td>\n      <td>269196.822368</td>\n      <td>163.910329</td>\n    </tr>\n    <tr>\n      <th>max</th>\n      <td>184031.869468</td>\n      <td>184252.467624</td>\n      <td>6.000000e+06</td>\n      <td>2.000000e+10</td>\n      <td>-199646.000000</td>\n      <td>1.685577e+09</td>\n      <td>92.015935</td>\n      <td>434449.527815</td>\n      <td>263.865053</td>\n    </tr>\n  </tbody>\n</table>\n</div>"
     },
     "execution_count": 21,
     "metadata": {},
     "output_type": "execute_result"
    }
   ],
   "source": [
    "user_df.describe()"
   ],
   "metadata": {
    "collapsed": false,
    "pycharm": {
     "name": "#%%\n"
    }
   }
  },
  {
   "cell_type": "code",
   "execution_count": 22,
   "outputs": [
    {
     "data": {
      "text/plain": "                                                      id  \\\n62291  0x0c3114f3e68a0515ba5a23e30da85ed67404f7f88cc9...   \n62292  0x8ee7abcbae42cba1414e8bf94c60e0a60c28cf290324...   \n62293  0xcd11daeafba4aa3214927554bb202d6b52f86e8d8852...   \n62294  0x0474edfc2daf02e8137436b385c48ab19d213c12ed7a...   \n62295  0x58c13fc22202e305adf924035539543e65afa13bd083...   \n62296  0x30dcc30285fe61476e1bef9b764f812460c798bd404a...   \n62297  0x2bb694d838b5e73838042aabe502e5bdd97a8d04f27b...   \n62298  0x4cc26cd39a96c3b9d8eae8ee5da4d9940ad860290873...   \n62299  0x68d98ae6335389f581b1aaec11f569a58c49f4a601b7...   \n62300  0xee24a7aeccdab37852bca614f7cbd832b3e449e933a0...   \n62301  0x5e5ac8064eaee019df08e989656e18c3c3a8c5e91a60...   \n62302  0xeba17edb31dc033bef8991fb543306c87f30e1543935...   \n62303  0xcbe2a52923f3d0ab9e3b66739e52284058eb437f6c58...   \n62304  0x8dcefab1d8d5169185726658af2632239adc4eac93ce...   \n62305  0x85b3feabb72716822c692d3a89a591188f41456ee41d...   \n62306  0xf352e2ff6e58407f1c5181ae1d87ba89cd9ef7441c50...   \n62307  0x7e3eea90704f909b6420a03fd13a4b837216f7537c47...   \n62308  0xe6ce1575b002c060f28302e696df8930a199ad81b740...   \n62309  0xd90de75ccd8d9a0c0d2575852f4491e9ce16a49c2154...   \n62310  0xf18c91bf18a01b04bdd36f9f2a86364f8e93c1974eb4...   \n\n                   amountIn   amountInUSD             amountOut  amountOutUSD  \\\n62291  10334526232439795675  19263.513389           19252810588  19252.810588   \n62292           31549961239  31549.961239  16924679243087051699  31532.317262   \n62293           24175842391  24175.842391  12958921098268170052  24162.954432   \n62294           29146440454  29146.440454  15618879921438869991  29130.033231   \n62295  27785022304137915750  51836.806223           51864191602  51864.191602   \n62296           19672965528  19672.965528  10532991695467945066  19661.216300   \n62297           31714858836  31714.858836  16966626007516860900  31694.508937   \n62298           25215693051  25215.693051  13491238524117610285  25202.152706   \n62299           17748684706  17748.684706   9491276168291560701  17736.639253   \n62300  17222940830960084077  32209.634701           32188293419  32188.293419   \n62301           16737127233  16737.127233   8947153623237100960  16727.169219   \n62302           16493835034  16493.835034   8815901648491341844  16485.166399   \n62303           21897613900  21897.613900  11702934983852217915  21883.732176   \n62304           19352305782  19352.305782  10339108257331804457  19337.371684   \n62305   9567373193119640132  17905.694455           17896057529  17896.057529   \n62306           15832039107  15832.039107   8453557348662700954  15822.826096   \n62307           16468950010  16468.950010   8787188464635157913  16460.274172   \n62308  10979438680616852166  20592.111270           20581221705  20581.221705   \n62309  16309335217630010457  30581.022377           30563243334  30563.243334   \n62310           16491066994  16491.066994   8793652510660301738  16482.429893   \n\n       gasLimit    gasPrice    tick   timestamp  \\\n62291   6000000  2000000000 -201017  1685568436   \n62292   6000000  2000000000 -201020  1685569163   \n62293   6000000  2000000000 -201012  1685570516   \n62294   6000000  2000000000 -201009  1685570896   \n62295   6000000  2000000000 -200998  1685571346   \n62296   6000000  2000000000 -201001  1685571566   \n62297   6000000  2000000000 -200992  1685571586   \n62298   6000000  2000000000 -200994  1685572753   \n62299   6000000  2000000000 -200989  1685573957   \n62300   6000000  2000000000 -200985  1685574011   \n62301   6000000  2000000000 -200985  1685575526   \n62302   6000000  2000000000 -200984  1685575545   \n62303   6000000  2000000000 -200982  1685575547   \n62304   6000000  2000000000 -200979  1685575551   \n62305   6000000  2000000000 -200976  1685575646   \n62306   6000000  2000000000 -200973  1685576601   \n62307   6000000  2000000000 -200966  1685576615   \n62308   6000000  2000000000 -200955  1685576993   \n62309   6000000  2000000000 -200958  1685577194   \n62310   6000000  2000000000 -200960  1685577355   \n\n                                             pool tokenIn tokenOut  \\\n62291  0xc31e54c7a869b9fcbecc14363cf510d1c41fa443    WETH     USDC   \n62292  0xc31e54c7a869b9fcbecc14363cf510d1c41fa443    USDC     WETH   \n62293  0xc31e54c7a869b9fcbecc14363cf510d1c41fa443    USDC     WETH   \n62294  0xc31e54c7a869b9fcbecc14363cf510d1c41fa443    USDC     WETH   \n62295  0xc31e54c7a869b9fcbecc14363cf510d1c41fa443    WETH     USDC   \n62296  0xc31e54c7a869b9fcbecc14363cf510d1c41fa443    USDC     WETH   \n62297  0xc31e54c7a869b9fcbecc14363cf510d1c41fa443    USDC     WETH   \n62298  0xc31e54c7a869b9fcbecc14363cf510d1c41fa443    USDC     WETH   \n62299  0xc31e54c7a869b9fcbecc14363cf510d1c41fa443    USDC     WETH   \n62300  0xc31e54c7a869b9fcbecc14363cf510d1c41fa443    WETH     USDC   \n62301  0xc31e54c7a869b9fcbecc14363cf510d1c41fa443    USDC     WETH   \n62302  0xc31e54c7a869b9fcbecc14363cf510d1c41fa443    USDC     WETH   \n62303  0xc31e54c7a869b9fcbecc14363cf510d1c41fa443    USDC     WETH   \n62304  0xc31e54c7a869b9fcbecc14363cf510d1c41fa443    USDC     WETH   \n62305  0xc31e54c7a869b9fcbecc14363cf510d1c41fa443    WETH     USDC   \n62306  0xc31e54c7a869b9fcbecc14363cf510d1c41fa443    USDC     WETH   \n62307  0xc31e54c7a869b9fcbecc14363cf510d1c41fa443    USDC     WETH   \n62308  0xc31e54c7a869b9fcbecc14363cf510d1c41fa443    WETH     USDC   \n62309  0xc31e54c7a869b9fcbecc14363cf510d1c41fa443    WETH     USDC   \n62310  0xc31e54c7a869b9fcbecc14363cf510d1c41fa443    USDC     WETH   \n\n                       datetime       fees            usd         eth  \n62291 2023-05-31 21:27:16+00:00   9.631757  359792.199916  109.531302  \n62292 2023-05-31 21:39:23+00:00  15.774981  328242.238677  126.455981  \n62293 2023-05-31 22:01:56+00:00  12.087921  304066.396286  139.414902  \n62294 2023-05-31 22:08:16+00:00  14.573220  274919.955832  155.033782  \n62295 2023-05-31 22:15:46+00:00  25.918403  326784.147434  127.248760  \n62296 2023-05-31 22:19:26+00:00   9.836483  307111.181906  137.781751  \n62297 2023-05-31 22:19:46+00:00  15.857429  275396.323070  154.748377  \n62298 2023-05-31 22:39:13+00:00  12.607847  250180.630019  168.239616  \n62299 2023-05-31 22:59:17+00:00   8.874342  232431.945313  177.730892  \n62300 2023-05-31 23:00:11+00:00  16.104817  264620.238732  160.507951  \n62301 2023-05-31 23:25:26+00:00   8.368564  247883.111499  169.455105  \n62302 2023-05-31 23:25:45+00:00   8.246918  231389.276465  178.271006  \n62303 2023-05-31 23:25:47+00:00  10.948807  209491.662565  189.973941  \n62304 2023-05-31 23:25:51+00:00   9.676153  190139.356783  200.313050  \n62305 2023-05-31 23:27:26+00:00   8.952847  208035.414312  190.745676  \n62306 2023-05-31 23:43:21+00:00   7.916020  192203.375205  199.199234  \n62307 2023-05-31 23:43:35+00:00   8.234475  175734.425195  207.986422  \n62308 2023-05-31 23:49:53+00:00  10.296056  196315.646900  197.006984  \n62309 2023-05-31 23:53:14+00:00  15.290511  226878.890234  180.697648  \n62310 2023-05-31 23:55:55+00:00   8.245533  210387.823240  189.491301  ",
      "text/html": "<div>\n<style scoped>\n    .dataframe tbody tr th:only-of-type {\n        vertical-align: middle;\n    }\n\n    .dataframe tbody tr th {\n        vertical-align: top;\n    }\n\n    .dataframe thead th {\n        text-align: right;\n    }\n</style>\n<table border=\"1\" class=\"dataframe\">\n  <thead>\n    <tr style=\"text-align: right;\">\n      <th></th>\n      <th>id</th>\n      <th>amountIn</th>\n      <th>amountInUSD</th>\n      <th>amountOut</th>\n      <th>amountOutUSD</th>\n      <th>gasLimit</th>\n      <th>gasPrice</th>\n      <th>tick</th>\n      <th>timestamp</th>\n      <th>pool</th>\n      <th>tokenIn</th>\n      <th>tokenOut</th>\n      <th>datetime</th>\n      <th>fees</th>\n      <th>usd</th>\n      <th>eth</th>\n    </tr>\n  </thead>\n  <tbody>\n    <tr>\n      <th>62291</th>\n      <td>0x0c3114f3e68a0515ba5a23e30da85ed67404f7f88cc9...</td>\n      <td>10334526232439795675</td>\n      <td>19263.513389</td>\n      <td>19252810588</td>\n      <td>19252.810588</td>\n      <td>6000000</td>\n      <td>2000000000</td>\n      <td>-201017</td>\n      <td>1685568436</td>\n      <td>0xc31e54c7a869b9fcbecc14363cf510d1c41fa443</td>\n      <td>WETH</td>\n      <td>USDC</td>\n      <td>2023-05-31 21:27:16+00:00</td>\n      <td>9.631757</td>\n      <td>359792.199916</td>\n      <td>109.531302</td>\n    </tr>\n    <tr>\n      <th>62292</th>\n      <td>0x8ee7abcbae42cba1414e8bf94c60e0a60c28cf290324...</td>\n      <td>31549961239</td>\n      <td>31549.961239</td>\n      <td>16924679243087051699</td>\n      <td>31532.317262</td>\n      <td>6000000</td>\n      <td>2000000000</td>\n      <td>-201020</td>\n      <td>1685569163</td>\n      <td>0xc31e54c7a869b9fcbecc14363cf510d1c41fa443</td>\n      <td>USDC</td>\n      <td>WETH</td>\n      <td>2023-05-31 21:39:23+00:00</td>\n      <td>15.774981</td>\n      <td>328242.238677</td>\n      <td>126.455981</td>\n    </tr>\n    <tr>\n      <th>62293</th>\n      <td>0xcd11daeafba4aa3214927554bb202d6b52f86e8d8852...</td>\n      <td>24175842391</td>\n      <td>24175.842391</td>\n      <td>12958921098268170052</td>\n      <td>24162.954432</td>\n      <td>6000000</td>\n      <td>2000000000</td>\n      <td>-201012</td>\n      <td>1685570516</td>\n      <td>0xc31e54c7a869b9fcbecc14363cf510d1c41fa443</td>\n      <td>USDC</td>\n      <td>WETH</td>\n      <td>2023-05-31 22:01:56+00:00</td>\n      <td>12.087921</td>\n      <td>304066.396286</td>\n      <td>139.414902</td>\n    </tr>\n    <tr>\n      <th>62294</th>\n      <td>0x0474edfc2daf02e8137436b385c48ab19d213c12ed7a...</td>\n      <td>29146440454</td>\n      <td>29146.440454</td>\n      <td>15618879921438869991</td>\n      <td>29130.033231</td>\n      <td>6000000</td>\n      <td>2000000000</td>\n      <td>-201009</td>\n      <td>1685570896</td>\n      <td>0xc31e54c7a869b9fcbecc14363cf510d1c41fa443</td>\n      <td>USDC</td>\n      <td>WETH</td>\n      <td>2023-05-31 22:08:16+00:00</td>\n      <td>14.573220</td>\n      <td>274919.955832</td>\n      <td>155.033782</td>\n    </tr>\n    <tr>\n      <th>62295</th>\n      <td>0x58c13fc22202e305adf924035539543e65afa13bd083...</td>\n      <td>27785022304137915750</td>\n      <td>51836.806223</td>\n      <td>51864191602</td>\n      <td>51864.191602</td>\n      <td>6000000</td>\n      <td>2000000000</td>\n      <td>-200998</td>\n      <td>1685571346</td>\n      <td>0xc31e54c7a869b9fcbecc14363cf510d1c41fa443</td>\n      <td>WETH</td>\n      <td>USDC</td>\n      <td>2023-05-31 22:15:46+00:00</td>\n      <td>25.918403</td>\n      <td>326784.147434</td>\n      <td>127.248760</td>\n    </tr>\n    <tr>\n      <th>62296</th>\n      <td>0x30dcc30285fe61476e1bef9b764f812460c798bd404a...</td>\n      <td>19672965528</td>\n      <td>19672.965528</td>\n      <td>10532991695467945066</td>\n      <td>19661.216300</td>\n      <td>6000000</td>\n      <td>2000000000</td>\n      <td>-201001</td>\n      <td>1685571566</td>\n      <td>0xc31e54c7a869b9fcbecc14363cf510d1c41fa443</td>\n      <td>USDC</td>\n      <td>WETH</td>\n      <td>2023-05-31 22:19:26+00:00</td>\n      <td>9.836483</td>\n      <td>307111.181906</td>\n      <td>137.781751</td>\n    </tr>\n    <tr>\n      <th>62297</th>\n      <td>0x2bb694d838b5e73838042aabe502e5bdd97a8d04f27b...</td>\n      <td>31714858836</td>\n      <td>31714.858836</td>\n      <td>16966626007516860900</td>\n      <td>31694.508937</td>\n      <td>6000000</td>\n      <td>2000000000</td>\n      <td>-200992</td>\n      <td>1685571586</td>\n      <td>0xc31e54c7a869b9fcbecc14363cf510d1c41fa443</td>\n      <td>USDC</td>\n      <td>WETH</td>\n      <td>2023-05-31 22:19:46+00:00</td>\n      <td>15.857429</td>\n      <td>275396.323070</td>\n      <td>154.748377</td>\n    </tr>\n    <tr>\n      <th>62298</th>\n      <td>0x4cc26cd39a96c3b9d8eae8ee5da4d9940ad860290873...</td>\n      <td>25215693051</td>\n      <td>25215.693051</td>\n      <td>13491238524117610285</td>\n      <td>25202.152706</td>\n      <td>6000000</td>\n      <td>2000000000</td>\n      <td>-200994</td>\n      <td>1685572753</td>\n      <td>0xc31e54c7a869b9fcbecc14363cf510d1c41fa443</td>\n      <td>USDC</td>\n      <td>WETH</td>\n      <td>2023-05-31 22:39:13+00:00</td>\n      <td>12.607847</td>\n      <td>250180.630019</td>\n      <td>168.239616</td>\n    </tr>\n    <tr>\n      <th>62299</th>\n      <td>0x68d98ae6335389f581b1aaec11f569a58c49f4a601b7...</td>\n      <td>17748684706</td>\n      <td>17748.684706</td>\n      <td>9491276168291560701</td>\n      <td>17736.639253</td>\n      <td>6000000</td>\n      <td>2000000000</td>\n      <td>-200989</td>\n      <td>1685573957</td>\n      <td>0xc31e54c7a869b9fcbecc14363cf510d1c41fa443</td>\n      <td>USDC</td>\n      <td>WETH</td>\n      <td>2023-05-31 22:59:17+00:00</td>\n      <td>8.874342</td>\n      <td>232431.945313</td>\n      <td>177.730892</td>\n    </tr>\n    <tr>\n      <th>62300</th>\n      <td>0xee24a7aeccdab37852bca614f7cbd832b3e449e933a0...</td>\n      <td>17222940830960084077</td>\n      <td>32209.634701</td>\n      <td>32188293419</td>\n      <td>32188.293419</td>\n      <td>6000000</td>\n      <td>2000000000</td>\n      <td>-200985</td>\n      <td>1685574011</td>\n      <td>0xc31e54c7a869b9fcbecc14363cf510d1c41fa443</td>\n      <td>WETH</td>\n      <td>USDC</td>\n      <td>2023-05-31 23:00:11+00:00</td>\n      <td>16.104817</td>\n      <td>264620.238732</td>\n      <td>160.507951</td>\n    </tr>\n    <tr>\n      <th>62301</th>\n      <td>0x5e5ac8064eaee019df08e989656e18c3c3a8c5e91a60...</td>\n      <td>16737127233</td>\n      <td>16737.127233</td>\n      <td>8947153623237100960</td>\n      <td>16727.169219</td>\n      <td>6000000</td>\n      <td>2000000000</td>\n      <td>-200985</td>\n      <td>1685575526</td>\n      <td>0xc31e54c7a869b9fcbecc14363cf510d1c41fa443</td>\n      <td>USDC</td>\n      <td>WETH</td>\n      <td>2023-05-31 23:25:26+00:00</td>\n      <td>8.368564</td>\n      <td>247883.111499</td>\n      <td>169.455105</td>\n    </tr>\n    <tr>\n      <th>62302</th>\n      <td>0xeba17edb31dc033bef8991fb543306c87f30e1543935...</td>\n      <td>16493835034</td>\n      <td>16493.835034</td>\n      <td>8815901648491341844</td>\n      <td>16485.166399</td>\n      <td>6000000</td>\n      <td>2000000000</td>\n      <td>-200984</td>\n      <td>1685575545</td>\n      <td>0xc31e54c7a869b9fcbecc14363cf510d1c41fa443</td>\n      <td>USDC</td>\n      <td>WETH</td>\n      <td>2023-05-31 23:25:45+00:00</td>\n      <td>8.246918</td>\n      <td>231389.276465</td>\n      <td>178.271006</td>\n    </tr>\n    <tr>\n      <th>62303</th>\n      <td>0xcbe2a52923f3d0ab9e3b66739e52284058eb437f6c58...</td>\n      <td>21897613900</td>\n      <td>21897.613900</td>\n      <td>11702934983852217915</td>\n      <td>21883.732176</td>\n      <td>6000000</td>\n      <td>2000000000</td>\n      <td>-200982</td>\n      <td>1685575547</td>\n      <td>0xc31e54c7a869b9fcbecc14363cf510d1c41fa443</td>\n      <td>USDC</td>\n      <td>WETH</td>\n      <td>2023-05-31 23:25:47+00:00</td>\n      <td>10.948807</td>\n      <td>209491.662565</td>\n      <td>189.973941</td>\n    </tr>\n    <tr>\n      <th>62304</th>\n      <td>0x8dcefab1d8d5169185726658af2632239adc4eac93ce...</td>\n      <td>19352305782</td>\n      <td>19352.305782</td>\n      <td>10339108257331804457</td>\n      <td>19337.371684</td>\n      <td>6000000</td>\n      <td>2000000000</td>\n      <td>-200979</td>\n      <td>1685575551</td>\n      <td>0xc31e54c7a869b9fcbecc14363cf510d1c41fa443</td>\n      <td>USDC</td>\n      <td>WETH</td>\n      <td>2023-05-31 23:25:51+00:00</td>\n      <td>9.676153</td>\n      <td>190139.356783</td>\n      <td>200.313050</td>\n    </tr>\n    <tr>\n      <th>62305</th>\n      <td>0x85b3feabb72716822c692d3a89a591188f41456ee41d...</td>\n      <td>9567373193119640132</td>\n      <td>17905.694455</td>\n      <td>17896057529</td>\n      <td>17896.057529</td>\n      <td>6000000</td>\n      <td>2000000000</td>\n      <td>-200976</td>\n      <td>1685575646</td>\n      <td>0xc31e54c7a869b9fcbecc14363cf510d1c41fa443</td>\n      <td>WETH</td>\n      <td>USDC</td>\n      <td>2023-05-31 23:27:26+00:00</td>\n      <td>8.952847</td>\n      <td>208035.414312</td>\n      <td>190.745676</td>\n    </tr>\n    <tr>\n      <th>62306</th>\n      <td>0xf352e2ff6e58407f1c5181ae1d87ba89cd9ef7441c50...</td>\n      <td>15832039107</td>\n      <td>15832.039107</td>\n      <td>8453557348662700954</td>\n      <td>15822.826096</td>\n      <td>6000000</td>\n      <td>2000000000</td>\n      <td>-200973</td>\n      <td>1685576601</td>\n      <td>0xc31e54c7a869b9fcbecc14363cf510d1c41fa443</td>\n      <td>USDC</td>\n      <td>WETH</td>\n      <td>2023-05-31 23:43:21+00:00</td>\n      <td>7.916020</td>\n      <td>192203.375205</td>\n      <td>199.199234</td>\n    </tr>\n    <tr>\n      <th>62307</th>\n      <td>0x7e3eea90704f909b6420a03fd13a4b837216f7537c47...</td>\n      <td>16468950010</td>\n      <td>16468.950010</td>\n      <td>8787188464635157913</td>\n      <td>16460.274172</td>\n      <td>6000000</td>\n      <td>2000000000</td>\n      <td>-200966</td>\n      <td>1685576615</td>\n      <td>0xc31e54c7a869b9fcbecc14363cf510d1c41fa443</td>\n      <td>USDC</td>\n      <td>WETH</td>\n      <td>2023-05-31 23:43:35+00:00</td>\n      <td>8.234475</td>\n      <td>175734.425195</td>\n      <td>207.986422</td>\n    </tr>\n    <tr>\n      <th>62308</th>\n      <td>0xe6ce1575b002c060f28302e696df8930a199ad81b740...</td>\n      <td>10979438680616852166</td>\n      <td>20592.111270</td>\n      <td>20581221705</td>\n      <td>20581.221705</td>\n      <td>6000000</td>\n      <td>2000000000</td>\n      <td>-200955</td>\n      <td>1685576993</td>\n      <td>0xc31e54c7a869b9fcbecc14363cf510d1c41fa443</td>\n      <td>WETH</td>\n      <td>USDC</td>\n      <td>2023-05-31 23:49:53+00:00</td>\n      <td>10.296056</td>\n      <td>196315.646900</td>\n      <td>197.006984</td>\n    </tr>\n    <tr>\n      <th>62309</th>\n      <td>0xd90de75ccd8d9a0c0d2575852f4491e9ce16a49c2154...</td>\n      <td>16309335217630010457</td>\n      <td>30581.022377</td>\n      <td>30563243334</td>\n      <td>30563.243334</td>\n      <td>6000000</td>\n      <td>2000000000</td>\n      <td>-200958</td>\n      <td>1685577194</td>\n      <td>0xc31e54c7a869b9fcbecc14363cf510d1c41fa443</td>\n      <td>WETH</td>\n      <td>USDC</td>\n      <td>2023-05-31 23:53:14+00:00</td>\n      <td>15.290511</td>\n      <td>226878.890234</td>\n      <td>180.697648</td>\n    </tr>\n    <tr>\n      <th>62310</th>\n      <td>0xf18c91bf18a01b04bdd36f9f2a86364f8e93c1974eb4...</td>\n      <td>16491066994</td>\n      <td>16491.066994</td>\n      <td>8793652510660301738</td>\n      <td>16482.429893</td>\n      <td>6000000</td>\n      <td>2000000000</td>\n      <td>-200960</td>\n      <td>1685577355</td>\n      <td>0xc31e54c7a869b9fcbecc14363cf510d1c41fa443</td>\n      <td>USDC</td>\n      <td>WETH</td>\n      <td>2023-05-31 23:55:55+00:00</td>\n      <td>8.245533</td>\n      <td>210387.823240</td>\n      <td>189.491301</td>\n    </tr>\n  </tbody>\n</table>\n</div>"
     },
     "execution_count": 22,
     "metadata": {},
     "output_type": "execute_result"
    }
   ],
   "source": [
    "user_df.tail(20)"
   ],
   "metadata": {
    "collapsed": false,
    "pycharm": {
     "name": "#%%\n"
    }
   }
  },
  {
   "cell_type": "code",
   "execution_count": 23,
   "outputs": [
    {
     "data": {
      "text/plain": "                                                   id             amountIn  \\\n0   0x4163f1437cefc0b6c73e00c8db819ea92aa07395a1a6...  3516117741730628903   \n1   0x058d12a79ee20e82379e5d0b2b1eeeaaa2988768244d...  4186892251423356044   \n2   0xcd8af3e9679b087671fa11627d3f0864b3bedb46523c...  3559441400205692687   \n3   0xa9ac38c9ce148d8830f73bec697d014de0ad3aa7e3a3...           8250801903   \n4   0xc6ea270acc5833c393000dad84ffb0baaf793238f669...  3454446749687345942   \n..                                                ...                  ...   \n95  0x579a3257f4501722eae007690a44cc59aee3ee897972...           6868417967   \n96  0x8b980701e1a2e2579367caa93a0fa0b7fed2f2a8290e...           5732943680   \n97  0xd53b0de578e8af866968eadd44cdca085219418952c6...           5624351415   \n98  0x3764abe9ef5de3bcf3da5e2afc74dd6460c08569d571...  4713049368144335810   \n99  0x4ed6a4cd2dd8ab794075fa37b79687370d8720a233e3...  3754403471216139780   \n\n    amountInUSD            amountOut  amountOutUSD  gasLimit    gasPrice  \\\n0   5174.514646           5170663639   5170.663639   3000000  2000000000   \n1   6158.127305           6154400504   6154.400504   3000000  2000000000   \n2   5231.842059           5228940013   5228.940013   3000000  2000000000   \n3   8250.801903  5613510956742205013   8245.020033   3000000  2000000000   \n4   5076.537527           5073730688   5073.730688   3000000  2000000000   \n..          ...                  ...           ...       ...         ...   \n95  6868.417967  4659471665448937926   6864.542775   3000000  2000000000   \n96  5732.943680  3888074770402788980   5729.533040   3000000  2000000000   \n97  5624.351415  3813495708227086284   5620.933575   3000000  2000000000   \n98  6948.387037           6944018692   6944.018692   3000000  2000000000   \n99  5532.513772           5529461014   5529.461014   3000000  2000000000   \n\n      tick   timestamp                                        pool tokenIn  \\\n0  -203382  1676306229  0xc31e54c7a869b9fcbecc14363cf510d1c41fa443    WETH   \n1  -203387  1676306236  0xc31e54c7a869b9fcbecc14363cf510d1c41fa443    WETH   \n2  -203393  1676306246  0xc31e54c7a869b9fcbecc14363cf510d1c41fa443    WETH   \n3  -203396  1676306255  0xc31e54c7a869b9fcbecc14363cf510d1c41fa443    USDC   \n4  -203395  1676306282  0xc31e54c7a869b9fcbecc14363cf510d1c41fa443    WETH   \n..     ...         ...                                         ...     ...   \n95 -203367  1676309155  0xc31e54c7a869b9fcbecc14363cf510d1c41fa443    USDC   \n96 -203365  1676309164  0xc31e54c7a869b9fcbecc14363cf510d1c41fa443    USDC   \n97 -203362  1676309169  0xc31e54c7a869b9fcbecc14363cf510d1c41fa443    USDC   \n98 -203364  1676309251  0xc31e54c7a869b9fcbecc14363cf510d1c41fa443    WETH   \n99 -203367  1676309321  0xc31e54c7a869b9fcbecc14363cf510d1c41fa443    WETH   \n\n   tokenOut                  datetime      fees            usd         eth  \n0      USDC 2023-02-13 16:37:09+00:00  2.587257  205170.663639   96.483882  \n1      USDC 2023-02-13 16:37:16+00:00  3.079064  211325.064143   92.296990  \n2      USDC 2023-02-13 16:37:26+00:00  2.615921  216554.004156   88.737549  \n3      WETH 2023-02-13 16:37:35+00:00  4.125401  208303.202253   94.351060  \n4      USDC 2023-02-13 16:38:02+00:00  2.538269  213376.932941   90.896613  \n..      ...                       ...       ...            ...         ...  \n95     WETH 2023-02-13 17:25:55+00:00  3.434209  175382.016118  116.767420  \n96     WETH 2023-02-13 17:26:04+00:00  2.866472  169649.072438  120.655495  \n97     WETH 2023-02-13 17:26:09+00:00  2.812176  164024.721023  124.468990  \n98     USDC 2023-02-13 17:27:31+00:00  3.474194  170968.739715  119.755941  \n99     USDC 2023-02-13 17:28:41+00:00  2.766257  176498.200729  116.001538  \n\n[100 rows x 16 columns]",
      "text/html": "<div>\n<style scoped>\n    .dataframe tbody tr th:only-of-type {\n        vertical-align: middle;\n    }\n\n    .dataframe tbody tr th {\n        vertical-align: top;\n    }\n\n    .dataframe thead th {\n        text-align: right;\n    }\n</style>\n<table border=\"1\" class=\"dataframe\">\n  <thead>\n    <tr style=\"text-align: right;\">\n      <th></th>\n      <th>id</th>\n      <th>amountIn</th>\n      <th>amountInUSD</th>\n      <th>amountOut</th>\n      <th>amountOutUSD</th>\n      <th>gasLimit</th>\n      <th>gasPrice</th>\n      <th>tick</th>\n      <th>timestamp</th>\n      <th>pool</th>\n      <th>tokenIn</th>\n      <th>tokenOut</th>\n      <th>datetime</th>\n      <th>fees</th>\n      <th>usd</th>\n      <th>eth</th>\n    </tr>\n  </thead>\n  <tbody>\n    <tr>\n      <th>0</th>\n      <td>0x4163f1437cefc0b6c73e00c8db819ea92aa07395a1a6...</td>\n      <td>3516117741730628903</td>\n      <td>5174.514646</td>\n      <td>5170663639</td>\n      <td>5170.663639</td>\n      <td>3000000</td>\n      <td>2000000000</td>\n      <td>-203382</td>\n      <td>1676306229</td>\n      <td>0xc31e54c7a869b9fcbecc14363cf510d1c41fa443</td>\n      <td>WETH</td>\n      <td>USDC</td>\n      <td>2023-02-13 16:37:09+00:00</td>\n      <td>2.587257</td>\n      <td>205170.663639</td>\n      <td>96.483882</td>\n    </tr>\n    <tr>\n      <th>1</th>\n      <td>0x058d12a79ee20e82379e5d0b2b1eeeaaa2988768244d...</td>\n      <td>4186892251423356044</td>\n      <td>6158.127305</td>\n      <td>6154400504</td>\n      <td>6154.400504</td>\n      <td>3000000</td>\n      <td>2000000000</td>\n      <td>-203387</td>\n      <td>1676306236</td>\n      <td>0xc31e54c7a869b9fcbecc14363cf510d1c41fa443</td>\n      <td>WETH</td>\n      <td>USDC</td>\n      <td>2023-02-13 16:37:16+00:00</td>\n      <td>3.079064</td>\n      <td>211325.064143</td>\n      <td>92.296990</td>\n    </tr>\n    <tr>\n      <th>2</th>\n      <td>0xcd8af3e9679b087671fa11627d3f0864b3bedb46523c...</td>\n      <td>3559441400205692687</td>\n      <td>5231.842059</td>\n      <td>5228940013</td>\n      <td>5228.940013</td>\n      <td>3000000</td>\n      <td>2000000000</td>\n      <td>-203393</td>\n      <td>1676306246</td>\n      <td>0xc31e54c7a869b9fcbecc14363cf510d1c41fa443</td>\n      <td>WETH</td>\n      <td>USDC</td>\n      <td>2023-02-13 16:37:26+00:00</td>\n      <td>2.615921</td>\n      <td>216554.004156</td>\n      <td>88.737549</td>\n    </tr>\n    <tr>\n      <th>3</th>\n      <td>0xa9ac38c9ce148d8830f73bec697d014de0ad3aa7e3a3...</td>\n      <td>8250801903</td>\n      <td>8250.801903</td>\n      <td>5613510956742205013</td>\n      <td>8245.020033</td>\n      <td>3000000</td>\n      <td>2000000000</td>\n      <td>-203396</td>\n      <td>1676306255</td>\n      <td>0xc31e54c7a869b9fcbecc14363cf510d1c41fa443</td>\n      <td>USDC</td>\n      <td>WETH</td>\n      <td>2023-02-13 16:37:35+00:00</td>\n      <td>4.125401</td>\n      <td>208303.202253</td>\n      <td>94.351060</td>\n    </tr>\n    <tr>\n      <th>4</th>\n      <td>0xc6ea270acc5833c393000dad84ffb0baaf793238f669...</td>\n      <td>3454446749687345942</td>\n      <td>5076.537527</td>\n      <td>5073730688</td>\n      <td>5073.730688</td>\n      <td>3000000</td>\n      <td>2000000000</td>\n      <td>-203395</td>\n      <td>1676306282</td>\n      <td>0xc31e54c7a869b9fcbecc14363cf510d1c41fa443</td>\n      <td>WETH</td>\n      <td>USDC</td>\n      <td>2023-02-13 16:38:02+00:00</td>\n      <td>2.538269</td>\n      <td>213376.932941</td>\n      <td>90.896613</td>\n    </tr>\n    <tr>\n      <th>...</th>\n      <td>...</td>\n      <td>...</td>\n      <td>...</td>\n      <td>...</td>\n      <td>...</td>\n      <td>...</td>\n      <td>...</td>\n      <td>...</td>\n      <td>...</td>\n      <td>...</td>\n      <td>...</td>\n      <td>...</td>\n      <td>...</td>\n      <td>...</td>\n      <td>...</td>\n      <td>...</td>\n    </tr>\n    <tr>\n      <th>95</th>\n      <td>0x579a3257f4501722eae007690a44cc59aee3ee897972...</td>\n      <td>6868417967</td>\n      <td>6868.417967</td>\n      <td>4659471665448937926</td>\n      <td>6864.542775</td>\n      <td>3000000</td>\n      <td>2000000000</td>\n      <td>-203367</td>\n      <td>1676309155</td>\n      <td>0xc31e54c7a869b9fcbecc14363cf510d1c41fa443</td>\n      <td>USDC</td>\n      <td>WETH</td>\n      <td>2023-02-13 17:25:55+00:00</td>\n      <td>3.434209</td>\n      <td>175382.016118</td>\n      <td>116.767420</td>\n    </tr>\n    <tr>\n      <th>96</th>\n      <td>0x8b980701e1a2e2579367caa93a0fa0b7fed2f2a8290e...</td>\n      <td>5732943680</td>\n      <td>5732.943680</td>\n      <td>3888074770402788980</td>\n      <td>5729.533040</td>\n      <td>3000000</td>\n      <td>2000000000</td>\n      <td>-203365</td>\n      <td>1676309164</td>\n      <td>0xc31e54c7a869b9fcbecc14363cf510d1c41fa443</td>\n      <td>USDC</td>\n      <td>WETH</td>\n      <td>2023-02-13 17:26:04+00:00</td>\n      <td>2.866472</td>\n      <td>169649.072438</td>\n      <td>120.655495</td>\n    </tr>\n    <tr>\n      <th>97</th>\n      <td>0xd53b0de578e8af866968eadd44cdca085219418952c6...</td>\n      <td>5624351415</td>\n      <td>5624.351415</td>\n      <td>3813495708227086284</td>\n      <td>5620.933575</td>\n      <td>3000000</td>\n      <td>2000000000</td>\n      <td>-203362</td>\n      <td>1676309169</td>\n      <td>0xc31e54c7a869b9fcbecc14363cf510d1c41fa443</td>\n      <td>USDC</td>\n      <td>WETH</td>\n      <td>2023-02-13 17:26:09+00:00</td>\n      <td>2.812176</td>\n      <td>164024.721023</td>\n      <td>124.468990</td>\n    </tr>\n    <tr>\n      <th>98</th>\n      <td>0x3764abe9ef5de3bcf3da5e2afc74dd6460c08569d571...</td>\n      <td>4713049368144335810</td>\n      <td>6948.387037</td>\n      <td>6944018692</td>\n      <td>6944.018692</td>\n      <td>3000000</td>\n      <td>2000000000</td>\n      <td>-203364</td>\n      <td>1676309251</td>\n      <td>0xc31e54c7a869b9fcbecc14363cf510d1c41fa443</td>\n      <td>WETH</td>\n      <td>USDC</td>\n      <td>2023-02-13 17:27:31+00:00</td>\n      <td>3.474194</td>\n      <td>170968.739715</td>\n      <td>119.755941</td>\n    </tr>\n    <tr>\n      <th>99</th>\n      <td>0x4ed6a4cd2dd8ab794075fa37b79687370d8720a233e3...</td>\n      <td>3754403471216139780</td>\n      <td>5532.513772</td>\n      <td>5529461014</td>\n      <td>5529.461014</td>\n      <td>3000000</td>\n      <td>2000000000</td>\n      <td>-203367</td>\n      <td>1676309321</td>\n      <td>0xc31e54c7a869b9fcbecc14363cf510d1c41fa443</td>\n      <td>WETH</td>\n      <td>USDC</td>\n      <td>2023-02-13 17:28:41+00:00</td>\n      <td>2.766257</td>\n      <td>176498.200729</td>\n      <td>116.001538</td>\n    </tr>\n  </tbody>\n</table>\n<p>100 rows × 16 columns</p>\n</div>"
     },
     "execution_count": 23,
     "metadata": {},
     "output_type": "execute_result"
    }
   ],
   "source": [
    "user_df.head(100)"
   ],
   "metadata": {
    "collapsed": false,
    "pycharm": {
     "name": "#%%\n"
    }
   }
  },
  {
   "cell_type": "code",
   "execution_count": 24,
   "outputs": [
    {
     "data": {
      "text/plain": "                                                  id             amountIn  \\\n0  0x4163f1437cefc0b6c73e00c8db819ea92aa07395a1a6...  3516117741730628903   \n1  0x058d12a79ee20e82379e5d0b2b1eeeaaa2988768244d...  4186892251423356044   \n2  0xcd8af3e9679b087671fa11627d3f0864b3bedb46523c...  3559441400205692687   \n3  0xa9ac38c9ce148d8830f73bec697d014de0ad3aa7e3a3...           8250801903   \n4  0xc6ea270acc5833c393000dad84ffb0baaf793238f669...  3454446749687345942   \n\n   amountInUSD            amountOut  amountOutUSD  gasLimit    gasPrice  \\\n0  5174.514646           5170663639   5170.663639   3000000  2000000000   \n1  6158.127305           6154400504   6154.400504   3000000  2000000000   \n2  5231.842059           5228940013   5228.940013   3000000  2000000000   \n3  8250.801903  5613510956742205013   8245.020033   3000000  2000000000   \n4  5076.537527           5073730688   5073.730688   3000000  2000000000   \n\n     tick   timestamp                                        pool tokenIn  \\\n0 -203382  1676306229  0xc31e54c7a869b9fcbecc14363cf510d1c41fa443    WETH   \n1 -203387  1676306236  0xc31e54c7a869b9fcbecc14363cf510d1c41fa443    WETH   \n2 -203393  1676306246  0xc31e54c7a869b9fcbecc14363cf510d1c41fa443    WETH   \n3 -203396  1676306255  0xc31e54c7a869b9fcbecc14363cf510d1c41fa443    USDC   \n4 -203395  1676306282  0xc31e54c7a869b9fcbecc14363cf510d1c41fa443    WETH   \n\n  tokenOut                  datetime      fees            usd        eth  \\\n0     USDC 2023-02-13 16:37:09+00:00  2.587257  205170.663639  96.483882   \n1     USDC 2023-02-13 16:37:16+00:00  3.079064  211325.064143  92.296990   \n2     USDC 2023-02-13 16:37:26+00:00  2.615921  216554.004156  88.737549   \n3     WETH 2023-02-13 16:37:35+00:00  4.125401  208303.202253  94.351060   \n4     USDC 2023-02-13 16:38:02+00:00  2.538269  213376.932941  90.896613   \n\n    tick_price  \n0  1471.206304  \n1  1470.470921  \n2  1469.588948  \n3  1469.148159  \n4  1469.295074  ",
      "text/html": "<div>\n<style scoped>\n    .dataframe tbody tr th:only-of-type {\n        vertical-align: middle;\n    }\n\n    .dataframe tbody tr th {\n        vertical-align: top;\n    }\n\n    .dataframe thead th {\n        text-align: right;\n    }\n</style>\n<table border=\"1\" class=\"dataframe\">\n  <thead>\n    <tr style=\"text-align: right;\">\n      <th></th>\n      <th>id</th>\n      <th>amountIn</th>\n      <th>amountInUSD</th>\n      <th>amountOut</th>\n      <th>amountOutUSD</th>\n      <th>gasLimit</th>\n      <th>gasPrice</th>\n      <th>tick</th>\n      <th>timestamp</th>\n      <th>pool</th>\n      <th>tokenIn</th>\n      <th>tokenOut</th>\n      <th>datetime</th>\n      <th>fees</th>\n      <th>usd</th>\n      <th>eth</th>\n      <th>tick_price</th>\n    </tr>\n  </thead>\n  <tbody>\n    <tr>\n      <th>0</th>\n      <td>0x4163f1437cefc0b6c73e00c8db819ea92aa07395a1a6...</td>\n      <td>3516117741730628903</td>\n      <td>5174.514646</td>\n      <td>5170663639</td>\n      <td>5170.663639</td>\n      <td>3000000</td>\n      <td>2000000000</td>\n      <td>-203382</td>\n      <td>1676306229</td>\n      <td>0xc31e54c7a869b9fcbecc14363cf510d1c41fa443</td>\n      <td>WETH</td>\n      <td>USDC</td>\n      <td>2023-02-13 16:37:09+00:00</td>\n      <td>2.587257</td>\n      <td>205170.663639</td>\n      <td>96.483882</td>\n      <td>1471.206304</td>\n    </tr>\n    <tr>\n      <th>1</th>\n      <td>0x058d12a79ee20e82379e5d0b2b1eeeaaa2988768244d...</td>\n      <td>4186892251423356044</td>\n      <td>6158.127305</td>\n      <td>6154400504</td>\n      <td>6154.400504</td>\n      <td>3000000</td>\n      <td>2000000000</td>\n      <td>-203387</td>\n      <td>1676306236</td>\n      <td>0xc31e54c7a869b9fcbecc14363cf510d1c41fa443</td>\n      <td>WETH</td>\n      <td>USDC</td>\n      <td>2023-02-13 16:37:16+00:00</td>\n      <td>3.079064</td>\n      <td>211325.064143</td>\n      <td>92.296990</td>\n      <td>1470.470921</td>\n    </tr>\n    <tr>\n      <th>2</th>\n      <td>0xcd8af3e9679b087671fa11627d3f0864b3bedb46523c...</td>\n      <td>3559441400205692687</td>\n      <td>5231.842059</td>\n      <td>5228940013</td>\n      <td>5228.940013</td>\n      <td>3000000</td>\n      <td>2000000000</td>\n      <td>-203393</td>\n      <td>1676306246</td>\n      <td>0xc31e54c7a869b9fcbecc14363cf510d1c41fa443</td>\n      <td>WETH</td>\n      <td>USDC</td>\n      <td>2023-02-13 16:37:26+00:00</td>\n      <td>2.615921</td>\n      <td>216554.004156</td>\n      <td>88.737549</td>\n      <td>1469.588948</td>\n    </tr>\n    <tr>\n      <th>3</th>\n      <td>0xa9ac38c9ce148d8830f73bec697d014de0ad3aa7e3a3...</td>\n      <td>8250801903</td>\n      <td>8250.801903</td>\n      <td>5613510956742205013</td>\n      <td>8245.020033</td>\n      <td>3000000</td>\n      <td>2000000000</td>\n      <td>-203396</td>\n      <td>1676306255</td>\n      <td>0xc31e54c7a869b9fcbecc14363cf510d1c41fa443</td>\n      <td>USDC</td>\n      <td>WETH</td>\n      <td>2023-02-13 16:37:35+00:00</td>\n      <td>4.125401</td>\n      <td>208303.202253</td>\n      <td>94.351060</td>\n      <td>1469.148159</td>\n    </tr>\n    <tr>\n      <th>4</th>\n      <td>0xc6ea270acc5833c393000dad84ffb0baaf793238f669...</td>\n      <td>3454446749687345942</td>\n      <td>5076.537527</td>\n      <td>5073730688</td>\n      <td>5073.730688</td>\n      <td>3000000</td>\n      <td>2000000000</td>\n      <td>-203395</td>\n      <td>1676306282</td>\n      <td>0xc31e54c7a869b9fcbecc14363cf510d1c41fa443</td>\n      <td>WETH</td>\n      <td>USDC</td>\n      <td>2023-02-13 16:38:02+00:00</td>\n      <td>2.538269</td>\n      <td>213376.932941</td>\n      <td>90.896613</td>\n      <td>1469.295074</td>\n    </tr>\n  </tbody>\n</table>\n</div>"
     },
     "execution_count": 24,
     "metadata": {},
     "output_type": "execute_result"
    }
   ],
   "source": [
    "TICK_BASE = 1.0001\n",
    "\n",
    "def tick_to_price(tick):\n",
    "    return TICK_BASE ** tick * 10 ** 12\n",
    "\n",
    "user_df[\"tick_price\"] = user_df[\"tick\"].apply(tick_to_price)\n",
    "user_df.head()"
   ],
   "metadata": {
    "collapsed": false,
    "pycharm": {
     "name": "#%%\n"
    }
   }
  },
  {
   "cell_type": "code",
   "execution_count": 27,
   "outputs": [
    {
     "data": {
      "text/plain": "                    datetime tokenIn tokenOut    tick   tick_price  \\\n0  2023-02-13 16:37:09+00:00    WETH     USDC -203382  1471.206304   \n1  2023-02-13 16:37:16+00:00    WETH     USDC -203387  1470.470921   \n2  2023-02-13 16:37:26+00:00    WETH     USDC -203393  1469.588948   \n3  2023-02-13 16:37:35+00:00    USDC     WETH -203396  1469.148159   \n4  2023-02-13 16:38:02+00:00    WETH     USDC -203395  1469.295074   \n..                       ...     ...      ...     ...          ...   \n95 2023-02-13 17:25:55+00:00    USDC     WETH -203367  1473.414659   \n96 2023-02-13 17:26:04+00:00    USDC     WETH -203365  1473.709356   \n97 2023-02-13 17:26:09+00:00    USDC     WETH -203362  1474.151513   \n98 2023-02-13 17:27:31+00:00    WETH     USDC -203364  1473.856727   \n99 2023-02-13 17:28:41+00:00    WETH     USDC -203367  1473.414659   \n\n               amountIn            amountOut  amountInUSD  amountOutUSD  \\\n0   3516117741730628903           5170663639  5174.514646   5170.663639   \n1   4186892251423356044           6154400504  6158.127305   6154.400504   \n2   3559441400205692687           5228940013  5231.842059   5228.940013   \n3            8250801903  5613510956742205013  8250.801903   8245.020033   \n4   3454446749687345942           5073730688  5076.537527   5073.730688   \n..                  ...                  ...          ...           ...   \n95           6868417967  4659471665448937926  6868.417967   6864.542775   \n96           5732943680  3888074770402788980  5732.943680   5729.533040   \n97           5624351415  3813495708227086284  5624.351415   5620.933575   \n98  4713049368144335810           6944018692  6948.387037   6944.018692   \n99  3754403471216139780           5529461014  5532.513772   5529.461014   \n\n              usd         eth  \n0   205170.663639   96.483882  \n1   211325.064143   92.296990  \n2   216554.004156   88.737549  \n3   208303.202253   94.351060  \n4   213376.932941   90.896613  \n..            ...         ...  \n95  175382.016118  116.767420  \n96  169649.072438  120.655495  \n97  164024.721023  124.468990  \n98  170968.739715  119.755941  \n99  176498.200729  116.001538  \n\n[100 rows x 11 columns]",
      "text/html": "<div>\n<style scoped>\n    .dataframe tbody tr th:only-of-type {\n        vertical-align: middle;\n    }\n\n    .dataframe tbody tr th {\n        vertical-align: top;\n    }\n\n    .dataframe thead th {\n        text-align: right;\n    }\n</style>\n<table border=\"1\" class=\"dataframe\">\n  <thead>\n    <tr style=\"text-align: right;\">\n      <th></th>\n      <th>datetime</th>\n      <th>tokenIn</th>\n      <th>tokenOut</th>\n      <th>tick</th>\n      <th>tick_price</th>\n      <th>amountIn</th>\n      <th>amountOut</th>\n      <th>amountInUSD</th>\n      <th>amountOutUSD</th>\n      <th>usd</th>\n      <th>eth</th>\n    </tr>\n  </thead>\n  <tbody>\n    <tr>\n      <th>0</th>\n      <td>2023-02-13 16:37:09+00:00</td>\n      <td>WETH</td>\n      <td>USDC</td>\n      <td>-203382</td>\n      <td>1471.206304</td>\n      <td>3516117741730628903</td>\n      <td>5170663639</td>\n      <td>5174.514646</td>\n      <td>5170.663639</td>\n      <td>205170.663639</td>\n      <td>96.483882</td>\n    </tr>\n    <tr>\n      <th>1</th>\n      <td>2023-02-13 16:37:16+00:00</td>\n      <td>WETH</td>\n      <td>USDC</td>\n      <td>-203387</td>\n      <td>1470.470921</td>\n      <td>4186892251423356044</td>\n      <td>6154400504</td>\n      <td>6158.127305</td>\n      <td>6154.400504</td>\n      <td>211325.064143</td>\n      <td>92.296990</td>\n    </tr>\n    <tr>\n      <th>2</th>\n      <td>2023-02-13 16:37:26+00:00</td>\n      <td>WETH</td>\n      <td>USDC</td>\n      <td>-203393</td>\n      <td>1469.588948</td>\n      <td>3559441400205692687</td>\n      <td>5228940013</td>\n      <td>5231.842059</td>\n      <td>5228.940013</td>\n      <td>216554.004156</td>\n      <td>88.737549</td>\n    </tr>\n    <tr>\n      <th>3</th>\n      <td>2023-02-13 16:37:35+00:00</td>\n      <td>USDC</td>\n      <td>WETH</td>\n      <td>-203396</td>\n      <td>1469.148159</td>\n      <td>8250801903</td>\n      <td>5613510956742205013</td>\n      <td>8250.801903</td>\n      <td>8245.020033</td>\n      <td>208303.202253</td>\n      <td>94.351060</td>\n    </tr>\n    <tr>\n      <th>4</th>\n      <td>2023-02-13 16:38:02+00:00</td>\n      <td>WETH</td>\n      <td>USDC</td>\n      <td>-203395</td>\n      <td>1469.295074</td>\n      <td>3454446749687345942</td>\n      <td>5073730688</td>\n      <td>5076.537527</td>\n      <td>5073.730688</td>\n      <td>213376.932941</td>\n      <td>90.896613</td>\n    </tr>\n    <tr>\n      <th>...</th>\n      <td>...</td>\n      <td>...</td>\n      <td>...</td>\n      <td>...</td>\n      <td>...</td>\n      <td>...</td>\n      <td>...</td>\n      <td>...</td>\n      <td>...</td>\n      <td>...</td>\n      <td>...</td>\n    </tr>\n    <tr>\n      <th>95</th>\n      <td>2023-02-13 17:25:55+00:00</td>\n      <td>USDC</td>\n      <td>WETH</td>\n      <td>-203367</td>\n      <td>1473.414659</td>\n      <td>6868417967</td>\n      <td>4659471665448937926</td>\n      <td>6868.417967</td>\n      <td>6864.542775</td>\n      <td>175382.016118</td>\n      <td>116.767420</td>\n    </tr>\n    <tr>\n      <th>96</th>\n      <td>2023-02-13 17:26:04+00:00</td>\n      <td>USDC</td>\n      <td>WETH</td>\n      <td>-203365</td>\n      <td>1473.709356</td>\n      <td>5732943680</td>\n      <td>3888074770402788980</td>\n      <td>5732.943680</td>\n      <td>5729.533040</td>\n      <td>169649.072438</td>\n      <td>120.655495</td>\n    </tr>\n    <tr>\n      <th>97</th>\n      <td>2023-02-13 17:26:09+00:00</td>\n      <td>USDC</td>\n      <td>WETH</td>\n      <td>-203362</td>\n      <td>1474.151513</td>\n      <td>5624351415</td>\n      <td>3813495708227086284</td>\n      <td>5624.351415</td>\n      <td>5620.933575</td>\n      <td>164024.721023</td>\n      <td>124.468990</td>\n    </tr>\n    <tr>\n      <th>98</th>\n      <td>2023-02-13 17:27:31+00:00</td>\n      <td>WETH</td>\n      <td>USDC</td>\n      <td>-203364</td>\n      <td>1473.856727</td>\n      <td>4713049368144335810</td>\n      <td>6944018692</td>\n      <td>6948.387037</td>\n      <td>6944.018692</td>\n      <td>170968.739715</td>\n      <td>119.755941</td>\n    </tr>\n    <tr>\n      <th>99</th>\n      <td>2023-02-13 17:28:41+00:00</td>\n      <td>WETH</td>\n      <td>USDC</td>\n      <td>-203367</td>\n      <td>1473.414659</td>\n      <td>3754403471216139780</td>\n      <td>5529461014</td>\n      <td>5532.513772</td>\n      <td>5529.461014</td>\n      <td>176498.200729</td>\n      <td>116.001538</td>\n    </tr>\n  </tbody>\n</table>\n<p>100 rows × 11 columns</p>\n</div>"
     },
     "execution_count": 27,
     "metadata": {},
     "output_type": "execute_result"
    }
   ],
   "source": [
    "user_df[[\"datetime\", \"tokenIn\", \"tokenOut\", \"tick\", \"tick_price\", \"amountIn\", \"amountOut\", \"amountInUSD\", \"amountOutUSD\", \"usd\", \"eth\"]].head(100)"
   ],
   "metadata": {
    "collapsed": false,
    "pycharm": {
     "name": "#%%\n"
    }
   }
  },
  {
   "cell_type": "code",
   "execution_count": 28,
   "outputs": [
    {
     "data": {
      "text/plain": "(62311, 17)"
     },
     "execution_count": 28,
     "metadata": {},
     "output_type": "execute_result"
    }
   ],
   "source": [
    "user_df.shape"
   ],
   "metadata": {
    "collapsed": false,
    "pycharm": {
     "name": "#%%\n"
    }
   }
  },
  {
   "cell_type": "code",
   "execution_count": 29,
   "outputs": [
    {
     "data": {
      "text/plain": "24.039737654320987"
     },
     "execution_count": 29,
     "metadata": {},
     "output_type": "execute_result"
    }
   ],
   "source": [
    "62311 / 108 / 24"
   ],
   "metadata": {
    "collapsed": false,
    "pycharm": {
     "name": "#%%\n"
    }
   }
  },
  {
   "cell_type": "code",
   "execution_count": null,
   "outputs": [],
   "source": [
    "# calculate buy price & sell price\n",
    "# trade strategy analysis"
   ],
   "metadata": {
    "collapsed": false,
    "pycharm": {
     "name": "#%%\n"
    }
   }
  }
 ],
 "metadata": {
  "kernelspec": {
   "display_name": "Python 3",
   "language": "python",
   "name": "python3"
  },
  "language_info": {
   "codemirror_mode": {
    "name": "ipython",
    "version": 2
   },
   "file_extension": ".py",
   "mimetype": "text/x-python",
   "name": "python",
   "nbconvert_exporter": "python",
   "pygments_lexer": "ipython2",
   "version": "2.7.6"
  }
 },
 "nbformat": 4,
 "nbformat_minor": 0
}