{
 "cells": [
  {
   "cell_type": "code",
   "execution_count": null,
   "metadata": {
    "collapsed": true
   },
   "outputs": [],
   "source": [
    "import requests\n",
    "import time\n",
    "\n",
    "\n",
    "KUCOIN_URL = \"https://api.kucoin.com/api/v1/market/orderbook/level1?symbol=ETH-USDC\"\n",
    "\n",
    "\n",
    "# print(int(time.time()))\n",
    "response = requests.get(KUCOIN_URL).json()\n",
    "print(response)\n",
    "# print(int(response[\"data\"][\"time\"] / 1000))\n",
    "# print(int(time.time()))\n",
    "# print(int(time.time()) - int(response[\"data\"][\"time\"] / 1000))"
   ]
  },
  {
   "cell_type": "code",
   "execution_count": null,
   "metadata": {
    "collapsed": false,
    "pycharm": {
     "name": "#%%\n"
    }
   },
   "outputs": [],
   "source": [
    "import requests\n",
    "import time\n",
    "\n",
    "KUCOIN_URL = \"https://api.kucoin.com/api/v1/market/orderbook/level2_20?symbol=ETH-USDC\"\n",
    "\n",
    "print(int(time.time()))\n",
    "response = requests.get(KUCOIN_URL).json()\n",
    "print(int(time.time()))\n",
    "print(int(time.time()) - int(response[\"data\"][\"time\"] / 1000))\n",
    "print(response)"
   ]
  },
  {
   "cell_type": "code",
   "execution_count": null,
   "metadata": {
    "collapsed": false,
    "pycharm": {
     "name": "#%%\n"
    }
   },
   "outputs": [],
   "source": [
    "import requests\n",
    "from concurrent.futures import ThreadPoolExecutor\n",
    "\n",
    "\n",
    "KUCOIN_URL_LIST = [\"https://api.kucoin.com/api/v1/market/orderbook/level2_20?symbol=ETH-USDC\", \"https://api.kucoin.com/api/v1/market/orderbook/level2_100?symbol=ETH-USDC\"]\n",
    "\n",
    "\n",
    "def get_url(url):\n",
    "    # start_time = int(time.time())\n",
    "    data = requests.get(url).json()\n",
    "    # end_time = int(time.time())\n",
    "    return data\n",
    "    # results.append([start_time, data, end_time])\n",
    "\n",
    "# with ThreadPoolExecutor(max_workers=3) as pool:\n",
    "#     pool.map(get_url, KUCOIN_URL_LIST)\n",
    "#\n",
    "# print(results)\n",
    "\n",
    "results = []\n",
    "for i in range(5):\n",
    "    results.append(get_url(KUCOIN_URL_LIST[0]))\n",
    "\n",
    "for item in results:\n",
    "    print(item[\"data\"][\"time\"] / 1000)"
   ]
  },
  {
   "cell_type": "code",
   "execution_count": 3,
   "metadata": {
    "collapsed": false,
    "pycharm": {
     "name": "#%%\n"
    }
   },
   "outputs": [],
   "source": [
    "dict_list = [{'asks': [['1818.24', '2.3689391'], ['1818.25', '0.5499814'], ['1818.43', '1.05'], ['1818.52', '0.8248467'], ['1818.58', '1.0997616']], 'bids': [['1818.23', '1.1051799'], ['1818.22', '0.2749941'], ['1818.19', '0.38'], ['1818.18', '1.2'], ['1818.15', '0.5500077']], 'timestamp': 1686045782393}, \n",
    "             {'asks': [['1818.24', '2.3689391'], ['1818.25', '0.5499814'], ['1818.43', '1.05'], ['1818.52', '0.8248467'], ['1818.58', '1.0997616']], 'bids': [['1818.23', '1.1051799'], ['1818.22', '0.2749941'], ['1818.19', '0.38'], ['1818.18', '1.2'], ['1818.15', '0.5500077']], 'timestamp': 1686045782517},\n",
    "             {'asks': [['1818.24', '2.3689391'], ['1818.25', '0.5499814'], ['1818.43', '1.05'], ['1818.52', '0.8248467'], ['1818.58', '1.0997616']], 'bids': [['1818.23', '1.1051799'], ['1818.22', '0.2749941'], ['1818.19', '0.38'], ['1818.18', '1.2'], ['1818.15', '0.5500077']], 'timestamp': 1686045782686},\n",
    "             {'asks': [['1818.24', '2.3689391'], ['1818.32', '0.5499596'], ['1818.43', '1.05'], ['1818.52', '0.8248467'], ['1818.62', '1.05']], 'bids': [['1818.23', '2.1551799'], ['1818.22', '0.2749941'], ['1818.21', '0.5499904'], ['1818.19', '0.38'], ['1818.18', '1.2']], 'timestamp': 1686045782805}]\n",
    "\n",
    "\n",
    "\n",
    "with open(\"../data/eth_socket_order.txt\", \"w\") as wf:\n",
    "    for item in dict_list:\n",
    "        wf.write(str(item) + \"\\n\")"
   ]
  },
  {
   "cell_type": "code",
   "execution_count": 2,
   "metadata": {},
   "outputs": [
    {
     "name": "stdout",
     "output_type": "stream",
     "text": [
      "20230606\n"
     ]
    }
   ],
   "source": [
    "import datetime\n",
    "\n",
    "print(datetime.datetime.now().strftime(\"%Y%m%d\"))"
   ]
  },
  {
   "cell_type": "code",
   "execution_count": 4,
   "metadata": {},
   "outputs": [
    {
     "name": "stdout",
     "output_type": "stream",
     "text": [
      "3\n",
      "13\n"
     ]
    }
   ],
   "source": [
    "import time\n",
    "\n",
    "for i in range(20):\n",
    "    time.sleep(1)\n",
    "    if int(time.time()) % 10 == 0:\n",
    "        print(i)"
   ]
  },
  {
   "cell_type": "code",
   "execution_count": null,
   "metadata": {},
   "outputs": [],
   "source": []
  }
 ],
 "metadata": {
  "kernelspec": {
   "display_name": "Python (vs_base)",
   "language": "python",
   "name": "vs_base"
  },
  "language_info": {
   "codemirror_mode": {
    "name": "ipython",
    "version": 3
   },
   "file_extension": ".py",
   "mimetype": "text/x-python",
   "name": "python",
   "nbconvert_exporter": "python",
   "pygments_lexer": "ipython3",
   "version": "3.10.6"
  }
 },
 "nbformat": 4,
 "nbformat_minor": 0
}
