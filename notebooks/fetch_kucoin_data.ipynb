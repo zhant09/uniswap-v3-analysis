{
 "cells": [
  {
   "cell_type": "code",
   "execution_count": null,
   "metadata": {
    "collapsed": true
   },
   "outputs": [],
   "source": [
    "import requests\n",
    "import time\n",
    "\n",
    "\n",
    "KUCOIN_URL = \"https://api.kucoin.com/api/v1/market/orderbook/level1?symbol=ETH-USDC\"\n",
    "\n",
    "\n",
    "# print(int(time.time()))\n",
    "response = requests.get(KUCOIN_URL).json()\n",
    "print(response)\n",
    "# print(int(response[\"data\"][\"time\"] / 1000))\n",
    "# print(int(time.time()))\n",
    "# print(int(time.time()) - int(response[\"data\"][\"time\"] / 1000))"
   ]
  },
  {
   "cell_type": "code",
   "execution_count": null,
   "metadata": {
    "collapsed": false,
    "pycharm": {
     "name": "#%%\n"
    }
   },
   "outputs": [],
   "source": [
    "import requests\n",
    "import time\n",
    "\n",
    "KUCOIN_URL = \"https://api.kucoin.com/api/v1/market/orderbook/level2_20?symbol=ETH-USDC\"\n",
    "\n",
    "print(int(time.time()))\n",
    "response = requests.get(KUCOIN_URL).json()\n",
    "print(int(time.time()))\n",
    "print(int(time.time()) - int(response[\"data\"][\"time\"] / 1000))\n",
    "print(response)"
   ]
  },
  {
   "cell_type": "code",
   "execution_count": null,
   "metadata": {
    "collapsed": false,
    "pycharm": {
     "name": "#%%\n"
    }
   },
   "outputs": [],
   "source": [
    "import requests\n",
    "from concurrent.futures import ThreadPoolExecutor\n",
    "\n",
    "\n",
    "KUCOIN_URL_LIST = [\"https://api.kucoin.com/api/v1/market/orderbook/level2_20?symbol=ETH-USDC\", \"https://api.kucoin.com/api/v1/market/orderbook/level2_100?symbol=ETH-USDC\"]\n",
    "\n",
    "\n",
    "def get_url(url):\n",
    "    # start_time = int(time.time())\n",
    "    data = requests.get(url).json()\n",
    "    # end_time = int(time.time())\n",
    "    return data\n",
    "    # results.append([start_time, data, end_time])\n",
    "\n",
    "# with ThreadPoolExecutor(max_workers=3) as pool:\n",
    "#     pool.map(get_url, KUCOIN_URL_LIST)\n",
    "#\n",
    "# print(results)\n",
    "\n",
    "results = []\n",
    "for i in range(5):\n",
    "    results.append(get_url(KUCOIN_URL_LIST[0]))\n",
    "\n",
    "for item in results:\n",
    "    print(item[\"data\"][\"time\"] / 1000)"
   ]
  },
  {
   "cell_type": "code",
   "execution_count": null,
   "metadata": {},
   "outputs": [],
   "source": []
  }
 ],
 "metadata": {
  "kernelspec": {
   "display_name": "Python (vs_base)",
   "language": "python",
   "name": "vs_base"
  },
  "language_info": {
   "codemirror_mode": {
    "name": "ipython",
    "version": 3
   },
   "file_extension": ".py",
   "mimetype": "text/x-python",
   "name": "python",
   "nbconvert_exporter": "python",
   "pygments_lexer": "ipython3",
   "version": "3.10.6"
  }
 },
 "nbformat": 4,
 "nbformat_minor": 0
}
