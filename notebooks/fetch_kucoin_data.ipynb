{
 "cells": [
  {
   "cell_type": "code",
   "execution_count": 7,
   "metadata": {
    "collapsed": true
   },
   "outputs": [
    {
     "name": "stdout",
     "output_type": "stream",
     "text": [
      "1685865980\n",
      "1685865878\n",
      "1685865982\n",
      "104\n"
     ]
    }
   ],
   "source": [
    "import requests\n",
    "import time\n",
    "\n",
    "\n",
    "KUCOIN_URL = \"https://api.kucoin.com/api/v1/market/orderbook/level1?symbol=ETH-USDC\"\n",
    "\n",
    "\n",
    "print(int(time.time()))\n",
    "response = requests.get(KUCOIN_URL).json()\n",
    "print(int(response[\"data\"][\"time\"] / 1000))\n",
    "print(int(time.time()))\n",
    "print(int(time.time()) - int(response[\"data\"][\"time\"] / 1000))"
   ]
  },
  {
   "cell_type": "code",
   "execution_count": 13,
   "outputs": [
    {
     "name": "stdout",
     "output_type": "stream",
     "text": [
      "1685867030\n",
      "1685867031\n",
      "0\n",
      "{'code': '200000', 'data': {'time': 1685867031016, 'sequence': '591967480', 'bids': [['1900.52', '0.2630858'], ['1900.41', '0.0381061'], ['1900.34', '0.38'], ['1900.33', '0.5262235'], ['1900.32', '1.05'], ['1900.24', '0.0789314'], ['1900.23', '0.1578503'], ['1900.13', '0.2630838'], ['1900.07', '1.05'], ['1899.95', '1.1060774'], ['1899.94', '3.28446'], ['1899.87', '1.05'], ['1899.85', '0.6314011'], ['1899.72', '0.191919'], ['1899.67', '1.05'], ['1899.47', '1.05'], ['1899.37', '3.1817721'], ['1899.27', '1.05'], ['1899.23', '1.0961165'], ['1899.07', '1.05']], 'asks': [['1900.53', '4.88'], ['1900.55', '0.0170738'], ['1900.56', '0.2630803'], ['1900.59', '0.5261547'], ['1900.76', '0.7163831'], ['1900.86', '1.05'], ['1900.91', '1.6771166'], ['1900.98', '0.1578503'], ['1901.08', '0.2630838'], ['1901.1', '0.8092034'], ['1901.15', '1.05'], ['1901.32', '0.264314'], ['1901.36', '0.6314011'], ['1901.42', '0.0525924'], ['1901.43', '1.5'], ['1901.48', '0.5493341'], ['1901.55', '2.6294398'], ['1901.69', '0.0380051'], ['1901.75', '1.05'], ['1901.79', '1.0983572']]}}\n"
     ]
    }
   ],
   "source": [
    "KUCOIN_URL = \"https://api.kucoin.com/api/v1/market/orderbook/level2_20?symbol=ETH-USDC\"\n",
    "\n",
    "print(int(time.time()))\n",
    "response = requests.get(KUCOIN_URL).json()\n",
    "print(int(time.time()))\n",
    "print(int(time.time()) - int(response[\"data\"][\"time\"] / 1000))\n",
    "print(response)"
   ],
   "metadata": {
    "collapsed": false,
    "pycharm": {
     "name": "#%%\n"
    }
   }
  },
  {
   "cell_type": "code",
   "execution_count": 19,
   "outputs": [
    {
     "name": "stdout",
     "output_type": "stream",
     "text": [
      "1685869337.082\n",
      "1685869337.767\n",
      "1685869338.212\n",
      "1685869340.198\n",
      "1685869340.671\n"
     ]
    }
   ],
   "source": [
    "import requests\n",
    "from concurrent.futures import ThreadPoolExecutor\n",
    "\n",
    "\n",
    "KUCOIN_URL_LIST = [\"https://api.kucoin.com/api/v1/market/orderbook/level2_20?symbol=ETH-USDC\", \"https://api.kucoin.com/api/v1/market/orderbook/level2_100?symbol=ETH-USDC\"]\n",
    "\n",
    "\n",
    "def get_url(url):\n",
    "    # start_time = int(time.time())\n",
    "    data = requests.get(url).json()\n",
    "    # end_time = int(time.time())\n",
    "    return data\n",
    "    # results.append([start_time, data, end_time])\n",
    "\n",
    "# with ThreadPoolExecutor(max_workers=3) as pool:\n",
    "#     pool.map(get_url, KUCOIN_URL_LIST)\n",
    "#\n",
    "# print(results)\n",
    "\n",
    "results = []\n",
    "for i in range(5):\n",
    "    results.append(get_url(KUCOIN_URL_LIST[0]))\n",
    "\n",
    "for item in results:\n",
    "    print(item[\"data\"][\"time\"] / 1000)"
   ],
   "metadata": {
    "collapsed": false,
    "pycharm": {
     "name": "#%%\n"
    }
   }
  },
  {
   "cell_type": "code",
   "execution_count": null,
   "outputs": [],
   "source": [],
   "metadata": {
    "collapsed": false,
    "pycharm": {
     "name": "#%%\n"
    }
   }
  }
 ],
 "metadata": {
  "kernelspec": {
   "display_name": "Python 3",
   "language": "python",
   "name": "python3"
  },
  "language_info": {
   "codemirror_mode": {
    "name": "ipython",
    "version": 2
   },
   "file_extension": ".py",
   "mimetype": "text/x-python",
   "name": "python",
   "nbconvert_exporter": "python",
   "pygments_lexer": "ipython2",
   "version": "2.7.6"
  }
 },
 "nbformat": 4,
 "nbformat_minor": 0
}